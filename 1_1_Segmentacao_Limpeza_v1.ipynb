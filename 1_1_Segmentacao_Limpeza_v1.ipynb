{
  "cells": [
    {
      "cell_type": "markdown",
      "metadata": {
        "id": "view-in-github",
        "colab_type": "text"
      },
      "source": [
        "<a href=\"https://colab.research.google.com/github/osmarbraz/sri/blob/main/1_1_Segmentacao_Limpeza_v1.ipynb\" target=\"_parent\"><img src=\"https://colab.research.google.com/assets/colab-badge.svg\" alt=\"Open In Colab\"/></a>"
      ]
    },
    {
      "cell_type": "markdown",
      "metadata": {
        "id": "EKOTlwcmxmej"
      },
      "source": [
        "# Segmentação e limpeza\n",
        "\n",
        "Realiza a segmentação e limpeza de um conjunto de dados em sua forma bruta.\n",
        "\n",
        "**Entrada**: \"`documentos.csv`\".\n",
        " - Cada linha do arquivo é formado por `[\"id\",\"documento\"]`.\n",
        "  - `\"id\"` é o idenficador do documento.\n",
        "  - `\"documento\"` o documento texto no seu formato bruto.\n",
        "\n",
        "**Saída**: \"`dataset.zip`\".\n",
        " - Dentro do arquivo compactado `dataset.zip` está o arquivo `dataset.csv`. Cada linha de `dataset.csv` é formado por `[\"id\",\"sentencas\",\"documento\"]`.\n",
        "  - `\"id\"` é o idenficador do documento na base de dados.\n",
        "  - `\"sentencas\"` é uma lista com as sentenças do documento.\n",
        "  - `\"documento\"` o documento limpo, mas não segmentado.\n",
        "\n",
        "**Processamento**:\n",
        "1. Copia o arquivo \"`documentos.csv`\" para a máquina local do\n",
        "Google Colab.\n",
        "2. Realiza as seguintes tarefas de limpeza:\n",
        "    - Normalização de codificação e decodificação de html entities (ftfy);\n",
        "    - Substitui \\n por espaço em branco;\n",
        "    - Elimina pontuações repetidas (\"???\",\"!!!\",\",,,\");\n",
        "    - Elimina de espaços em branco repetidos;\n",
        "    - Elimina tags.\n",
        "    - **Local para outras operações de limpeza.**\n",
        "3. Realiza a segmentação.\n",
        "4. Gera o arquivo \"`dataset.csv`\" com os dados pré-processados.\n",
        "5. Compacta o arquivo \"`dataset.csv`\" para \"`dataset.zip`\".\n",
        "6. Copia o arquivo \"`dataset.zip`\" para o google drive.\n",
        "\n",
        "**Atenção - Para executar este notebook e os próximos siga as instruções abaixo.**\n",
        "\n",
        "1. Crie a pasta \"`Colab Notebooks`\" na raiz do seu google drive para receber pastas de projetos.\n",
        "2. Dentro da pasta \"`Colab Notebooks`\" crie a pasta \"`SRI`\" para armazenar e executar os notebooks das atividades práticas da disciplina.\n",
        "3. Dentro da pasta \"`SRI`\" crie a pasta \"data\" e coloque o arquivo de dados \"`documentos.csv`\".\n",
        "\n",
        "**Testes:**\n",
        "\n",
        "Os arquivos \"`documentos.csv`\" e \"`dataset.csv`\" precisam ter ao final da execução a mesma quantidade de linhas. Onde cada linha de  \"`dataset.csv`\" esta relacionada com a mesma linha de \"`documentos.csv`\".\n"
      ]
    },
    {
      "cell_type": "markdown",
      "metadata": {
        "id": "OP33KWAtBMWs"
      },
      "source": [
        "# 1 Preparação do ambiente\n",
        "\n",
        "Preparação do ambiente para execução do script."
      ]
    },
    {
      "cell_type": "markdown",
      "metadata": {
        "id": "PKUr9Vk4BNLC"
      },
      "source": [
        "## 1.1 Tempo inicial de processamento"
      ]
    },
    {
      "cell_type": "code",
      "execution_count": null,
      "metadata": {
        "id": "JXclHCRQBSF2"
      },
      "outputs": [],
      "source": [
        "# Import das bibliotecas.\n",
        "import time\n",
        "import datetime\n",
        "\n",
        "# Marca o tempo de início do processamento\n",
        "inicio_processamento = time.time()"
      ]
    },
    {
      "cell_type": "markdown",
      "metadata": {
        "id": "GOcN8hK-scnt"
      },
      "source": [
        "## 1.2 Funções e classes auxiliares"
      ]
    },
    {
      "cell_type": "markdown",
      "metadata": {
        "id": "OPRnA-mk5-c4"
      },
      "source": [
        "Verifica se existe o diretório do notebook no diretório corrente.   \n"
      ]
    },
    {
      "cell_type": "code",
      "execution_count": null,
      "metadata": {
        "id": "Fj5TaAH_5-nB"
      },
      "outputs": [],
      "source": [
        "# Import das bibliotecas.\n",
        "import os # Biblioteca para manipular arquivos\n",
        "\n",
        "# ============================\n",
        "def verificaDiretorioNotebook():\n",
        "    \"\"\"\n",
        "      Verifica se existe o diretório do notebook no diretório corrente.\n",
        "    \"\"\"\n",
        "\n",
        "    # Verifica se o diretório existe\n",
        "    if not os.path.exists(DIRETORIO_NOTEBOOK):\n",
        "        # Cria o diretório\n",
        "        os.makedirs(DIRETORIO_NOTEBOOK)\n",
        "        logging.info(\"Diretório do notebook criado: {}\".format(DIRETORIO_NOTEBOOK))\n",
        "\n",
        "    return DIRETORIO_NOTEBOOK"
      ]
    },
    {
      "cell_type": "markdown",
      "metadata": {
        "id": "ksYnRk7zLGp0"
      },
      "source": [
        "Remove tags de um documento"
      ]
    },
    {
      "cell_type": "code",
      "execution_count": null,
      "metadata": {
        "id": "6qwKjGvyLG4v"
      },
      "outputs": [],
      "source": [
        "def remove_tags(documento):\n",
        "    \"\"\"\n",
        "      Remove tags de um documento\n",
        "    \"\"\"\n",
        "\n",
        "    import re\n",
        "\n",
        "    documento_limpo = re.compile(\"<.*?>\")\n",
        "    return re.sub(documento_limpo, \"\", documento)"
      ]
    },
    {
      "cell_type": "markdown",
      "metadata": {
        "id": "603LYIYKBmq5"
      },
      "source": [
        "Função auxiliar para formatar o tempo como `hh: mm: ss`"
      ]
    },
    {
      "cell_type": "code",
      "execution_count": null,
      "metadata": {
        "id": "Guy6B4whsZFR"
      },
      "outputs": [],
      "source": [
        "# Import das bibliotecas.\n",
        "import time\n",
        "import datetime\n",
        "\n",
        "def formataTempo(tempo):\n",
        "    \"\"\"\n",
        "      Pega a tempo em segundos e retorna uma string hh:mm:ss\n",
        "    \"\"\"\n",
        "    # Arredonda para o segundo mais próximo.\n",
        "    tempoArredondado = int(round((tempo)))\n",
        "\n",
        "    # Formata como hh:mm:ss\n",
        "    return str(datetime.timedelta(seconds=tempoArredondado))"
      ]
    },
    {
      "cell_type": "markdown",
      "metadata": {
        "id": "zVKAapz7RCxk"
      },
      "source": [
        "Classe(ModelosParametros) de definição dos parâmetros dos modelos"
      ]
    },
    {
      "cell_type": "code",
      "execution_count": null,
      "metadata": {
        "id": "zgmN6RqDRDZS"
      },
      "outputs": [],
      "source": [
        "# Import das bibliotecas.\n",
        "from dataclasses import dataclass, field\n",
        "from typing import Dict, Optional\n",
        "from typing import List\n",
        "\n",
        "@dataclass\n",
        "class ModelosParametros:\n",
        "    modelo_spacy: str = field(\n",
        "        default=\"pt_core_news_lg\",\n",
        "        metadata={\"help\": \"nome do modelo do spaCy.\"},\n",
        "    )\n",
        "\n",
        "    sentenciar_documento: bool = field(\n",
        "        default=True,\n",
        "        metadata={\"help\": \"Dividir o documento em sentenças(frases).\"},\n",
        "    )"
      ]
    },
    {
      "cell_type": "markdown",
      "metadata": {
        "id": "SX6jTGkBMNvV"
      },
      "source": [
        "Biblioteca de limpeza de tela\n"
      ]
    },
    {
      "cell_type": "code",
      "execution_count": null,
      "metadata": {
        "id": "95qYX7uzMNvX"
      },
      "outputs": [],
      "source": [
        "# Import das bibliotecas.\n",
        "from IPython.display import clear_output"
      ]
    },
    {
      "cell_type": "markdown",
      "metadata": {
        "id": "iAPVtRXQqDim"
      },
      "source": [
        "## 1.3 Tratamento de logs"
      ]
    },
    {
      "cell_type": "code",
      "execution_count": null,
      "metadata": {
        "id": "DcopxbGZqDip"
      },
      "outputs": [],
      "source": [
        "# Import das bibliotecas.\n",
        "import logging # Biblioteca de logging\n",
        "\n",
        "# Formatando a mensagem de logging\n",
        "logging.basicConfig(format=\"%(asctime)s : %(levelname)s : %(message)s\")\n",
        "\n",
        "logger = logging.getLogger()\n",
        "logger.setLevel(logging.INFO)"
      ]
    },
    {
      "cell_type": "markdown",
      "metadata": {
        "id": "_GjYtXcMnSAe"
      },
      "source": [
        "## 1.4 Identificando o ambiente Colab"
      ]
    },
    {
      "cell_type": "code",
      "execution_count": null,
      "metadata": {
        "id": "YMiH0E3OnRa1"
      },
      "outputs": [],
      "source": [
        "# Import das bibliotecas.\n",
        "import sys # Biblioteca para acessar módulos do sistema\n",
        "\n",
        "# Se estiver executando no Google Colaboratory\n",
        "# Retorna true ou false se estiver no Google Colaboratory\n",
        "IN_COLAB = \"google.colab\" in sys.modules"
      ]
    },
    {
      "cell_type": "markdown",
      "metadata": {
        "id": "RinFHFesVKis"
      },
      "source": [
        "## 1.5 Colaboratory"
      ]
    },
    {
      "cell_type": "markdown",
      "metadata": {
        "id": "MPngEboiVbfi"
      },
      "source": [
        "Usando Colab GPU para Treinamento\n"
      ]
    },
    {
      "cell_type": "markdown",
      "metadata": {
        "id": "EjWE6WlvVbfj"
      },
      "source": [
        "Uma GPU pode ser adicionada acessando o menu e selecionando:\n",
        "\n",
        "`Edit -> Notebook Settings -> Hardware accelerator -> (GPU)`\n",
        "\n",
        "Em seguida, execute a célula a seguir para confirmar que a GPU foi detectada."
      ]
    },
    {
      "cell_type": "code",
      "execution_count": null,
      "metadata": {
        "id": "vtaYZmc3Vbfj"
      },
      "outputs": [],
      "source": [
        "# Import das bibliotecas.\n",
        "import tensorflow as tf\n",
        "\n",
        "# Recupera o nome do dispositido da GPU.\n",
        "device_name = tf.test.gpu_device_name()\n",
        "\n",
        "# O nome do dispositivo deve ser parecido com o seguinte:\n",
        "if device_name == \"/device:GPU:0\":\n",
        "    logging.info(\"Encontrei GPU em: {}\".format(device_name))\n",
        "else:\n",
        "    logging.info(\"Dispositivo GPU não encontrado\")\n",
        "    #raise SystemError(\"Dispositivo GPU não encontrado\")"
      ]
    },
    {
      "cell_type": "markdown",
      "metadata": {
        "id": "iYRrUo2XWa8G"
      },
      "source": [
        "Nome da GPU\n",
        "\n",
        "Para que a torch use a GPU, precisamos identificar e especificar a GPU como o dispositivo. Posteriormente, em nosso ciclo de treinamento, carregaremos dados no dispositivo.\n",
        "\n",
        "Vale a pena observar qual GPU você recebeu. A GPU Tesla P100 é muito mais rápido que as outras GPUs, abaixo uma lista ordenada:\n",
        "- 1o Tesla P100\n",
        "- 2o Tesla T4\n",
        "- 3o Tesla P4 (Não tem memória para execução 4 x 8, somente 2 x 4)\n",
        "- 4o Tesla K80 (Não tem memória para execução 4 x 8, somente 2 x 4)"
      ]
    },
    {
      "cell_type": "code",
      "execution_count": null,
      "metadata": {
        "id": "zrjqDO6nWa8J"
      },
      "outputs": [],
      "source": [
        "# Import das bibliotecas.\n",
        "import torch\n",
        "\n",
        "def getDeviceGPU():\n",
        "    \"\"\"\n",
        "      Retorna um dispositivo de GPU se disponível ou CPU.\n",
        "\n",
        "      Retorno:\n",
        "        `device` - Um device de GPU ou CPU.\n",
        "    \"\"\"\n",
        "\n",
        "    # Se existe GPU disponível.\n",
        "    if torch.cuda.is_available():\n",
        "\n",
        "        # Diz ao PyTorch para usar GPU.\n",
        "        device = torch.device(\"cuda\")\n",
        "\n",
        "        logging.info(\"Existem {} GPU(s) disponíveis.\".format(torch.cuda.device_count()))\n",
        "        logging.info(\"Iremos usar a GPU: {}.\".format(torch.cuda.get_device_name(0)))\n",
        "\n",
        "    # Se não.\n",
        "    else:\n",
        "        logging.info(\"Sem GPU disponível, usando CPU.\")\n",
        "        device = torch.device(\"cpu\")\n",
        "\n",
        "    return device"
      ]
    },
    {
      "cell_type": "code",
      "execution_count": null,
      "metadata": {
        "id": "ChDxmtXsKwjf"
      },
      "outputs": [],
      "source": [
        "# Recupera o device com GPU ou CPU\n",
        "device = getDeviceGPU()"
      ]
    },
    {
      "cell_type": "markdown",
      "metadata": {
        "id": "fGf59D0yVNx9"
      },
      "source": [
        "Memória\n",
        "\n",
        "Memória disponível no ambiente"
      ]
    },
    {
      "cell_type": "code",
      "execution_count": null,
      "metadata": {
        "id": "1iC5-pSAVh7_"
      },
      "outputs": [],
      "source": [
        "# Importando as bibliotecas.\n",
        "from psutil import virtual_memory\n",
        "\n",
        "ram_gb = virtual_memory().total / 1e9\n",
        "logging.info(\"Seu ambiente de execução tem {: .1f} gigabytes de RAM disponível\\n\".format(ram_gb))\n",
        "\n",
        "if ram_gb < 20:\n",
        "  logging.info(\"Para habilitar um tempo de execução de RAM alta, selecione menu o ambiente de execução> \\\"Alterar tipo de tempo de execução\\\"\")\n",
        "  logging.info(\"e selecione High-RAM. Então, execute novamente está célula\")\n",
        "else:\n",
        "  logging.info(\"Você está usando um ambiente de execução de memória RAM alta!\")"
      ]
    },
    {
      "cell_type": "markdown",
      "metadata": {
        "id": "wijMXooQQLcQ"
      },
      "source": [
        "## 1.6 Monta uma pasta no google drive para carregar os arquivos de dados."
      ]
    },
    {
      "cell_type": "code",
      "execution_count": null,
      "metadata": {
        "id": "ysnDDapMQK8K"
      },
      "outputs": [],
      "source": [
        "# Se estiver executando no Google Colaboratory\n",
        "if IN_COLAB:\n",
        "\n",
        "  # import necessário\n",
        "  from google.colab import drive\n",
        "\n",
        "  # Monta o drive na pasta especificada\n",
        "  drive.mount(\"/content/drive\")"
      ]
    },
    {
      "cell_type": "markdown",
      "metadata": {
        "id": "oOd2MbBiDq93"
      },
      "source": [
        "## 1.7 Instalação do spaCy\n",
        "\n",
        "https://spacy.io/\n",
        "\n",
        "Modelos do spaCy para português:\n",
        "https://spacy.io/models/pt\n",
        "\n",
        "Uso:\n",
        "https://spacy.io/usage"
      ]
    },
    {
      "cell_type": "code",
      "execution_count": null,
      "metadata": {
        "id": "EaMM4WdxgvQ7"
      },
      "outputs": [],
      "source": [
        "# Instala dependências do spacy\n",
        "!pip install -U pip==25.1.1 setuptools==80.9.0 wheel==0.45.1"
      ]
    },
    {
      "cell_type": "code",
      "execution_count": null,
      "metadata": {
        "id": "w4p3Rz2qDq94",
        "collapsed": true
      },
      "outputs": [],
      "source": [
        "# Instala uma versão específica\n",
        "!pip install -U spacy==3.8.7"
      ]
    },
    {
      "cell_type": "markdown",
      "source": [
        "## 1.8 Instalação do ftfy\n",
        "\n",
        "Realiza a normalização do texto devido a problemas de codificação de caracteres e decodificação de html entities.\n",
        "\n",
        "https://pypi.org/project/ftfy/"
      ],
      "metadata": {
        "id": "zNyRgHGvoVIX"
      }
    },
    {
      "cell_type": "code",
      "source": [
        "!pip install ftfy==6.3.1"
      ],
      "metadata": {
        "id": "GunkOVGEob6c"
      },
      "execution_count": null,
      "outputs": []
    },
    {
      "cell_type": "markdown",
      "metadata": {
        "id": "8bGda5JgMtQe"
      },
      "source": [
        "# 2 Parametrização"
      ]
    },
    {
      "cell_type": "markdown",
      "metadata": {
        "id": "ifrYNTwGwKal"
      },
      "source": [
        "## Gerais"
      ]
    },
    {
      "cell_type": "code",
      "execution_count": null,
      "metadata": {
        "id": "5uiH9pNpwI6g"
      },
      "outputs": [],
      "source": [
        "# Definição dos parâmetros gerais"
      ]
    },
    {
      "cell_type": "markdown",
      "metadata": {
        "id": "mhByVujAwNAU"
      },
      "source": [
        "## Específicos"
      ]
    },
    {
      "cell_type": "markdown",
      "metadata": {
        "id": "SnEeFAFx1FqQ"
      },
      "source": [
        "Parâmetros do modelo"
      ]
    },
    {
      "cell_type": "code",
      "execution_count": null,
      "metadata": {
        "id": "oJ15-ylRRRdD"
      },
      "outputs": [],
      "source": [
        "# Definição dos parâmetros do Modelo.\n",
        "model_args = ModelosParametros(\n",
        "\n",
        "    #modelo_spacy = \"en_core_web_lg\",\n",
        "    #modelo_spacy = \"en_core_web_md\",\n",
        "    #modelo_spacy = \"en_core_web_sm\",\n",
        "\n",
        "    modelo_spacy = \"pt_core_news_lg\",\n",
        "    #modelo_spacy = \"pt_core_news_md\",\n",
        "    #modelo_spacy = \"pt_core_news_sm\",\n",
        "\n",
        "    sentenciar_documento = True,\n",
        ")"
      ]
    },
    {
      "cell_type": "markdown",
      "metadata": {
        "id": "ecwtQDArKvZn"
      },
      "source": [
        "## Nome do diretório dos arquivos de dados"
      ]
    },
    {
      "cell_type": "code",
      "execution_count": null,
      "metadata": {
        "id": "YtNygH9qKvmp"
      },
      "outputs": [],
      "source": [
        "# Diretório do notebook\n",
        "DIRETORIO_NOTEBOOK = \"SRI\""
      ]
    },
    {
      "cell_type": "markdown",
      "metadata": {
        "id": "SUxlx7Sx4yxj"
      },
      "source": [
        "## Define o caminho para os arquivos de dados"
      ]
    },
    {
      "cell_type": "code",
      "execution_count": null,
      "metadata": {
        "id": "-gQpxAO74yxj"
      },
      "outputs": [],
      "source": [
        "# Se estiver executando no Google Colaboratory\n",
        "if IN_COLAB:\n",
        "\n",
        "  # Diretório local para os arquivos de dados\n",
        "  DIRETORIO_LOCAL = \"/content/\" + DIRETORIO_NOTEBOOK + \"/\"\n",
        "\n",
        "  # Diretório no google drive com os arquivos de dados\n",
        "  DIRETORIO_DRIVE = \"/content/drive/MyDrive/Colab Notebooks/\" + DIRETORIO_NOTEBOOK + \"/data/\"\n",
        "else:\n",
        "\n",
        "  # Diretório local para os arquivos de dados\n",
        "  DIRETORIO_LOCAL = \"./data/\"\n",
        "\n",
        "  # Diretório no google drive com os arquivos de dados\n",
        "  DIRETORIO_DRIVE = \"./data/\""
      ]
    },
    {
      "cell_type": "markdown",
      "metadata": {
        "id": "L7G3-MOsQ1N_"
      },
      "source": [
        "# 3 spaCy"
      ]
    },
    {
      "cell_type": "markdown",
      "metadata": {
        "id": "35GwcgkOlWi3"
      },
      "source": [
        "## 3.1 Download arquivo modelo\n",
        "\n",
        "Uso:\n",
        "https://spacy.io/usage\n",
        "\n",
        "Modelos:\n",
        "https://spacy.io/models"
      ]
    },
    {
      "cell_type": "code",
      "execution_count": null,
      "metadata": {
        "id": "_lqonzGcupXI"
      },
      "outputs": [],
      "source": [
        "!python -m spacy download $model_args.modelo_spacy"
      ]
    },
    {
      "cell_type": "markdown",
      "metadata": {
        "id": "STHT2c89qvwK"
      },
      "source": [
        "## 3.2 Carrega o modelo"
      ]
    },
    {
      "cell_type": "code",
      "execution_count": null,
      "metadata": {
        "id": "6boQJOwotxhH"
      },
      "outputs": [],
      "source": [
        "# Import das bibliotecas.\n",
        "import spacy # Biblioteca do spaCy\n",
        "\n",
        "nlp = spacy.load(model_args.modelo_spacy)"
      ]
    },
    {
      "cell_type": "markdown",
      "metadata": {
        "id": "guw6ZNtaswKc"
      },
      "source": [
        "# 4 Pré-processamento do arquivo \"`documentos.csv`\"\n"
      ]
    },
    {
      "cell_type": "markdown",
      "metadata": {
        "id": "q5fZgM2mdsIP"
      },
      "source": [
        "## 4.1 Carrega os dados bruto"
      ]
    },
    {
      "cell_type": "markdown",
      "metadata": {
        "id": "EIhL_vEt6T47"
      },
      "source": [
        "### 4.1.1 Especifica s nome do arquivo de dados bruto\n",
        "\n"
      ]
    },
    {
      "cell_type": "code",
      "execution_count": null,
      "metadata": {
        "id": "HUf58mb_6T47"
      },
      "outputs": [],
      "source": [
        "# Nome do arquivo\n",
        "NOME_ARQUIVO_DADOS_BRUTO = \"documentos.csv\""
      ]
    },
    {
      "cell_type": "markdown",
      "metadata": {
        "id": "t6aDyUuwIAgl"
      },
      "source": [
        "### 4.1.2 Cria o diretório local para receber os arquivos de dados"
      ]
    },
    {
      "cell_type": "code",
      "execution_count": null,
      "metadata": {
        "id": "4AutOOfj6T47"
      },
      "outputs": [],
      "source": [
        "# Importando as bibliotecas.\n",
        "import os\n",
        "\n",
        "# Se estiver executando no Google Colaboratory\n",
        "if IN_COLAB:\n",
        "\n",
        "  # Cria o diretório para receber os arquivos Originais e Permutados\n",
        "  # Diretório a ser criado\n",
        "  dirbase = DIRETORIO_LOCAL[:-1]\n",
        "\n",
        "  if not os.path.exists(dirbase):\n",
        "      # Cria o diretório\n",
        "      os.makedirs(dirbase)\n",
        "      logging.info(\"Diretório criado: {}\".format(dirbase))\n",
        "  else:\n",
        "      logging.info(\"Diretório já existe: {}\".format(dirbase))"
      ]
    },
    {
      "cell_type": "markdown",
      "metadata": {
        "id": "ELaau7QD4yxi"
      },
      "source": [
        "### 4.1.3 Copia o arquivos de dados bruto do google drive para o diretório local"
      ]
    },
    {
      "cell_type": "code",
      "execution_count": null,
      "metadata": {
        "id": "33PCWMXJ4yxk"
      },
      "outputs": [],
      "source": [
        "# Se estiver executando no Google Colaboratory\n",
        "if IN_COLAB:\n",
        "\n",
        "  !cp \"$DIRETORIO_DRIVE$NOME_ARQUIVO_DADOS_BRUTO\" \"$DIRETORIO_LOCAL\"\n",
        "\n",
        "  logging.info(\"Terminei a cópia!\")"
      ]
    },
    {
      "cell_type": "markdown",
      "metadata": {
        "id": "SAkf-zUT_pg3"
      },
      "source": [
        "### 4.1.4 Carrega os dados no formato bruto\n",
        "\n",
        "Atributos do arquivo **documentos**:\n",
        "0. \"id\"\n",
        "1. \"documento\""
      ]
    },
    {
      "cell_type": "code",
      "execution_count": null,
      "metadata": {
        "id": "nbbS-8C3iINh"
      },
      "outputs": [],
      "source": [
        "# Import das bibliotecas.\n",
        "import pandas as pd\n",
        "\n",
        "# Abre o arquivo e retorna o DataFrame\n",
        "df_documentos_bruto = pd.read_csv(DIRETORIO_LOCAL + NOME_ARQUIVO_DADOS_BRUTO, sep=\";\", encoding=\"UTF-8\")\n",
        "\n",
        "logging.info(\"TERMINADO FONTES: {}.\".format(len(df_documentos_bruto)))"
      ]
    },
    {
      "cell_type": "code",
      "execution_count": null,
      "metadata": {
        "id": "dEzFii_GjjT8"
      },
      "outputs": [],
      "source": [
        "df_documentos_bruto.sample(5)"
      ]
    },
    {
      "cell_type": "markdown",
      "metadata": {
        "id": "EE2I1mbelJos"
      },
      "source": [
        "## 4.2 Segmentação e limpeza dos dados bruto"
      ]
    },
    {
      "cell_type": "markdown",
      "metadata": {
        "id": "wgCR8_NtuuPN"
      },
      "source": [
        "### 4.2.1 Limpeza do documento\n",
        "\n",
        "- Normalização de codificação e decodificação de html entities (ftfy);\n",
        "- Substitui \\n por espaço em branco;\n",
        "- Eliminar pontuações repetidas (\"???\",\"!!!\",\",,,\");\n",
        "- Eliminar de espaços em branco repetidos;\n",
        "- Eliminar tags;\n",
        "- **>>> Outras operações de limpeza podem ser adicionadas aqui.<<<**.\n",
        "\n",
        "\n",
        "Limpeza de tags html: https://pypi.org/project/beautifulsoup4/ ou\n",
        "https://medium.com/pyladiesbh/beautiful-soup-parseamento-de-html-337197a7d4b9\n"
      ]
    },
    {
      "cell_type": "code",
      "execution_count": null,
      "metadata": {
        "id": "HQ8gdjQ7uuPR"
      },
      "outputs": [],
      "source": [
        "# Import das bibliotecas,\n",
        "import ftfy # Biblioteca para normalização do texto\n",
        "import re # Biblioteca para expressões regulares\n",
        "from tqdm.notebook import tqdm as tqdm_notebook # Biblioteca para barra de progresso\n",
        "\n",
        "# Lista para os documentos tratados\n",
        "documentos_tratados = []\n",
        "\n",
        "# Acumula o total de sentenças\n",
        "conta_barra_n = 0\n",
        "conta_virgulas = 0\n",
        "conta_interrogacoes = 0\n",
        "conta_exclamacoes = 0\n",
        "conta_tags = 0\n",
        "conta_espacos = 0\n",
        "\n",
        "logging.info(\"Processando {} documentos.\".format(len(df_documentos_bruto)))\n",
        "\n",
        "# Barra de progresso dos dados\n",
        "dados_bruto_bar = tqdm_notebook(df_documentos_bruto.iterrows(), desc=f\"Dados\", unit=f\"registro\", total=len(df_documentos_bruto))\n",
        "\n",
        "# Percorre os registros dos dados bruto\n",
        "for (i, linha) in dados_bruto_bar:\n",
        "\n",
        "  # Recupera o id documento\n",
        "  id_documento = linha.values[0]\n",
        "\n",
        "  # Recupera o documento\n",
        "  documento = str(linha.values[1])\n",
        "\n",
        "  # Transforma em string e remove os espaços do início e do fim\n",
        "  documento = str(documento).strip()\n",
        "\n",
        "  # Normalização com o ftfy, e conversão de html entities em caracteres acentuados\n",
        "  documento = ftfy.fix_text(documento, fix_entities=True)\n",
        "\n",
        "  # Conta se existe \\n no documento\n",
        "  conta_caracter_barra_n = documento.count(\"\\n\")\n",
        "  if conta_caracter_barra_n > 0:\n",
        "    # Transforma \\n em espaços em branco\n",
        "    documento = documento.replace(\"\\n\",\" \")\n",
        "    conta_barra_n = conta_barra_n + 1\n",
        "\n",
        "  # Conta se existe duas interrogações no documento\n",
        "  conta_caracter_interrogacoes = documento.count(\"??\")\n",
        "  if conta_caracter_interrogacoes > 1:\n",
        "    # Transforma 2 ou mais interrogações consecutivas em 1\n",
        "    documento = re.sub(\"\\?+\", \"?\", documento)\n",
        "    conta_interrogacoes = conta_interrogacoes + 1\n",
        "\n",
        "  # Conta se existe duas exclamações no documento\n",
        "  conta_caracter_exclamacoes = documento.count(\"!!\")\n",
        "  if conta_caracter_exclamacoes > 1:\n",
        "    # Transforma 2 ou mais exclamações consecutivas em 1\n",
        "    documento = re.sub(\"\\!+\", \"!\", documento)\n",
        "    conta_exclamacoes = conta_exclamacoes + 1\n",
        "\n",
        "  # Conta se existe duas vírgulas no documento\n",
        "  conta_caracter_virgulas = documento.count(\",,\")\n",
        "  if conta_caracter_virgulas > 1:\n",
        "    # Transforma 2 ou mais vírgulas consecutivas em 1\n",
        "    documento = re.sub(\"\\,+\", \",\", documento)\n",
        "    conta_virgulas = conta_virgulas + 1\n",
        "\n",
        "  # Conta se existe tag no documento\n",
        "  conta_tag = documento.count(\"<\")\n",
        "  if conta_tag > 0:\n",
        "    # Remove as tags do documento\n",
        "    documento = re.sub(\"<.*?>\", \"\", documento)\n",
        "    conta_tags = conta_tags + 1\n",
        "\n",
        "  # Conta se existe dois caracteres branco\n",
        "  conta_caracter_espacos = documento.count(\"  \")\n",
        "  if conta_caracter_espacos > 0:\n",
        "    # Transforma 2 ou mais espaços consecutivos em 1\n",
        "    documento = re.sub(\"\\ +\", \" \", documento)\n",
        "    conta_espacos = conta_espacos + 1\n",
        "\n",
        "  # >>> Outras operações de limpeza vão aqui! <<<\n",
        "\n",
        "  # Guarda o id e o texto do documento tratado\n",
        "  documentos_tratados.append([id_documento, documento])"
      ]
    },
    {
      "cell_type": "code",
      "execution_count": null,
      "metadata": {
        "id": "BhAQZitOvdph"
      },
      "outputs": [],
      "source": [
        "print(\"Total de documentos com \\\\n                        :\", conta_barra_n)\n",
        "print(\"Total de documentos com 2 ou mais interrogações   :\", conta_interrogacoes)\n",
        "print(\"Total de documentos com 2 ou mais exclamações     :\", conta_exclamacoes)\n",
        "print(\"Total de documentos com 2 ou mais vírgulas        :\", conta_virgulas)\n",
        "print(\"Total de documentos com tags                      :\", conta_tags)\n",
        "print(\"Total de documentos com 2 ou mais espaços         :\", conta_espacos)\n",
        "print(\"Total de documentos tratadas                      :\", len(documentos_tratados))"
      ]
    },
    {
      "cell_type": "markdown",
      "metadata": {
        "id": "EyduRNgHVn2O"
      },
      "source": [
        "Converte a lista em um pandas dataframe."
      ]
    },
    {
      "cell_type": "code",
      "execution_count": null,
      "metadata": {
        "id": "cH2fk0oGhi_S"
      },
      "outputs": [],
      "source": [
        "# Import das bibliotecas.\n",
        "import pandas as pd\n",
        "\n",
        "# Cria o dataframe da lista\n",
        "df_documentos_tratados = pd.DataFrame(documentos_tratados, columns = [\"id\", \"documento\"])\n",
        "\n",
        "#Mostra o número de documentos carregados\n",
        "print(\"%d linhas carregadas do arquivo\" % (len(df_documentos_tratados)))\n",
        "\n",
        "# Mostra 10 linhas aleatórias dos dados\n",
        "df_documentos_tratados.sample(10)"
      ]
    },
    {
      "cell_type": "markdown",
      "metadata": {
        "id": "_U5iUcW7TXqS"
      },
      "source": [
        "### 4.2.2 Segmentação do documento\n",
        "\n",
        "Utiliza o spaCy para realizar a segmentação em sentenças do documento texto."
      ]
    },
    {
      "cell_type": "code",
      "execution_count": null,
      "metadata": {
        "id": "wehxm__rTXyh"
      },
      "outputs": [],
      "source": [
        "# Import das bibliotecas.\n",
        "import os # Biblioteca para acessar o sistema de arquivos\n",
        "from tqdm.notebook import tqdm as tqdm_notebook # Biblioteca para barra de progresso\n",
        "\n",
        "print(\"Processando\",len(df_documentos_tratados),\"documentos tratados\")\n",
        "\n",
        "# Sentenças por documento\n",
        "lista_documentos_sentenciados = []\n",
        "total_sentencas_documento = 0\n",
        "\n",
        "logging.info(\"Processando {} documentos.\".format(len(df_documentos_tratados)))\n",
        "\n",
        "# Barra de progresso dos dados\n",
        "dados_bar = tqdm_notebook(df_documentos_tratados.iterrows(), desc=f\"Dados\", unit=f\"registro\", total=len(df_documentos_tratados))\n",
        "\n",
        "# Percorre os registros dos documento\n",
        "for i, linha_documento in dados_bar:\n",
        "\n",
        "  # Recupera o documento\n",
        "  documento = str(linha_documento.values[1])\n",
        "\n",
        "  # Aplica sentenciação do spacy no documento\n",
        "  doc = nlp(documento)\n",
        "\n",
        "  # Sequência das sentenças no documento\n",
        "  sequencia = 1\n",
        "  sentencas = []\n",
        "\n",
        "  # Percorre as sentenças do documento\n",
        "  for sentenca in doc.sents:\n",
        "\n",
        "      # Conta as sentenças do documento\n",
        "      total_sentencas_documento = total_sentencas_documento + 1\n",
        "\n",
        "      # Transforma em string e remove os espaços do início e do fim\n",
        "      sentenca1 = str(sentenca).strip()\n",
        "\n",
        "      # Adiciona a sentença tratada na lista\n",
        "      sentencas.append(str(sentenca1))\n",
        "\n",
        "      # Incrementa a sequência da sentença no documento\n",
        "      sequencia = sequencia + 1\n",
        "\n",
        "  if model_args.sentenciar_documento == True:\n",
        "    # Adiciona o documento na lista com a sentenciação\n",
        "    lista_documentos_sentenciados.append([linha_documento[0], sentencas, str(linha_documento[1])])\n",
        "  else:\n",
        "    # Adiciona o documento na lista sem a sentenciação\n",
        "    # A lista de sentenças é formado por um único texto, o próprio documento.\n",
        "    lista_documentos_sentenciados.append([linha_documento[0], [str(linha_documento[1])], str(linha_documento[1])])\n"
      ]
    },
    {
      "cell_type": "code",
      "execution_count": null,
      "metadata": {
        "id": "tWXgiU9nW82Z"
      },
      "outputs": [],
      "source": [
        "print(\"Total de documentos processados                                                :\", len(lista_documentos_sentenciados))\n",
        "print(\"Total sentenças nos documentos usando spaCy                                    :\", total_sentencas_documento)"
      ]
    },
    {
      "cell_type": "markdown",
      "metadata": {
        "id": "qdZKVW2FdKYu"
      },
      "source": [
        "## 4.3 Salva os dados processados\n",
        "\n",
        "Gera o arquivo com os dados segmentados e limpos e depois compacta o arquivo para enviar para o Google Drive."
      ]
    },
    {
      "cell_type": "markdown",
      "metadata": {
        "id": "_wTNIiyE1mIl"
      },
      "source": [
        "### 4.3.1 Especifica os nomes dos arquivos do dataset\n",
        "\n"
      ]
    },
    {
      "cell_type": "code",
      "execution_count": null,
      "metadata": {
        "id": "bNgwJRC2uGJb"
      },
      "outputs": [],
      "source": [
        "# Nome do arquivo\n",
        "NOME_ARQUIVO_DATASET = \"dataset.csv\"\n",
        "NOME_ARQUIVO_DATASET_COMPACTADO = \"dataset.zip\""
      ]
    },
    {
      "cell_type": "markdown",
      "metadata": {
        "id": "QtEZ6WGQncTj"
      },
      "source": [
        "### 4.3.2 Cria o arquivo do dataset"
      ]
    },
    {
      "cell_type": "code",
      "execution_count": null,
      "metadata": {
        "id": "a9RmJUlp17VO"
      },
      "outputs": [],
      "source": [
        "# Import das bibliotecas.\n",
        "import pandas as pd\n",
        "\n",
        "# Cria o dataframe da lista\n",
        "df_lista_documentos_sentenciados = pd.DataFrame(lista_documentos_sentenciados, columns = [\"id\",\"sentencas\",\"documento\"])\n",
        "\n",
        "df_lista_documentos_sentenciados.to_csv(DIRETORIO_LOCAL + NOME_ARQUIVO_DATASET, sep=\";\", index=False)"
      ]
    },
    {
      "cell_type": "code",
      "execution_count": null,
      "metadata": {
        "id": "VJwgPw9ad-mN"
      },
      "outputs": [],
      "source": [
        "print(len(df_lista_documentos_sentenciados))"
      ]
    },
    {
      "cell_type": "code",
      "execution_count": null,
      "metadata": {
        "id": "NWXOQ2CM6aJV"
      },
      "outputs": [],
      "source": [
        "df_lista_documentos_sentenciados.sample(5)"
      ]
    },
    {
      "cell_type": "markdown",
      "metadata": {
        "id": "t56ovS3Kt-W0"
      },
      "source": [
        "### 4.3.3 Compacta e copia o dataset para uma pasta do GoogleDrive"
      ]
    },
    {
      "cell_type": "markdown",
      "metadata": {
        "id": "5vZq_1sEtsB0"
      },
      "source": [
        "Compacta os arquivos.\n",
        "\n",
        "Usa o zip para compactar:\n",
        "*   `-o` sobrescreve o arquivo se existir\n",
        "*   `-j` Não cria nenhum diretório\n",
        "*   `-q` Desliga as mensagens\n"
      ]
    },
    {
      "cell_type": "code",
      "execution_count": null,
      "metadata": {
        "id": "NunMOJWR2O8H"
      },
      "outputs": [],
      "source": [
        "# Se estiver executando no Google Colaboratory\n",
        "if IN_COLAB:\n",
        "\n",
        "  !zip -o -q -j \"$DIRETORIO_LOCAL$NOME_ARQUIVO_DATASET_COMPACTADO\" \"$DIRETORIO_LOCAL$NOME_ARQUIVO_DATASET\""
      ]
    },
    {
      "cell_type": "markdown",
      "metadata": {
        "id": "sw3p4ydkt-W-"
      },
      "source": [
        "Copia o arquivo compactado para o GoogleDrive\n",
        "\n"
      ]
    },
    {
      "cell_type": "code",
      "execution_count": null,
      "metadata": {
        "id": "y5c8sv10t-W_"
      },
      "outputs": [],
      "source": [
        "# Se estiver executando no Google Colaboratory\n",
        "if IN_COLAB:\n",
        "    # Copia o arquivo do dataset\n",
        "    !cp \"$DIRETORIO_LOCAL$NOME_ARQUIVO_DATASET_COMPACTADO\" \"$DIRETORIO_DRIVE\"\n",
        "\n",
        "    logging.info(\"Terminei a cópia\")"
      ]
    },
    {
      "cell_type": "markdown",
      "metadata": {
        "id": "TkncKDN1i7kq"
      },
      "source": [
        "### 4.3.4 Carrega os dados\n",
        "\n",
        "Realiza um teste carregando o arquivo do dataset criado."
      ]
    },
    {
      "cell_type": "code",
      "execution_count": null,
      "metadata": {
        "id": "pTVxFPqg5wY_"
      },
      "outputs": [],
      "source": [
        "# Import das bibliotecas.\n",
        "import pandas as pd\n",
        "\n",
        "# Abre o arquivo e retorna o DataFrame\n",
        "df_dataset = pd.read_csv(DIRETORIO_LOCAL + NOME_ARQUIVO_DATASET, sep=\";\", encoding=\"UTF-8\")"
      ]
    },
    {
      "cell_type": "markdown",
      "metadata": {
        "id": "u7JYj6ZZkIiR"
      },
      "source": [
        "Corrigir o tipo de dados da lista dos documentos\n",
        "\n",
        "Na lista\n",
        "- coluna 1 - `sentenças` carregadas do arquivo vem como string e não como lista."
      ]
    },
    {
      "cell_type": "code",
      "execution_count": null,
      "metadata": {
        "id": "aniEg4BVkIiX"
      },
      "outputs": [],
      "source": [
        "# Import das bibliotecas.\n",
        "import ast # Biblioteca para conversão de string em lista\n",
        "\n",
        "# Verifica se o tipo da coluna não é list e converte\n",
        "df_dataset[\"sentencas\"] = df_dataset[\"sentencas\"].apply(lambda x: ast.literal_eval(x) if type(x)!=list else x)\n",
        "\n",
        "logging.info(\"TERMINADO CORREÇÃO DOCUMENTOS: {}.\".format(len(df_dataset)))"
      ]
    },
    {
      "cell_type": "code",
      "execution_count": null,
      "metadata": {
        "id": "tlPKkZKz50j2"
      },
      "outputs": [],
      "source": [
        "df_dataset.sample(5)"
      ]
    },
    {
      "cell_type": "markdown",
      "metadata": {
        "id": "Yj0ya60zrm8t"
      },
      "source": [
        "# 5 Finalização"
      ]
    },
    {
      "cell_type": "markdown",
      "metadata": {
        "id": "Bcjt085lZGUr"
      },
      "source": [
        "## 5.1 Tempo final de processamento\n",
        "\n"
      ]
    },
    {
      "cell_type": "code",
      "execution_count": null,
      "metadata": {
        "id": "H50_GKJwpDha"
      },
      "outputs": [],
      "source": [
        "# Pega o tempo atual menos o tempo do início do processamento.\n",
        "final_processamento = time.time()\n",
        "tempo_total_processamento = formataTempo(final_processamento - inicio_processamento)\n",
        "\n",
        "print(\"\")\n",
        "print(\"  Tempo processamento:  {:} (h:mm:ss)\".format(tempo_total_processamento))"
      ]
    }
  ],
  "metadata": {
    "colab": {
      "provenance": [],
      "toc_visible": true,
      "include_colab_link": true
    },
    "kernelspec": {
      "display_name": "Python 3",
      "name": "python3"
    }
  },
  "nbformat": 4,
  "nbformat_minor": 0
}