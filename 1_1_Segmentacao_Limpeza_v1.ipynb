{
  "cells": [
    {
      "cell_type": "markdown",
      "metadata": {
        "id": "view-in-github",
        "colab_type": "text"
      },
      "source": [
        "<a href=\"https://colab.research.google.com/github/osmarbraz/sri/blob/main/1_1_Segmentacao_Limpeza_v1.ipynb\" target=\"_parent\"><img src=\"https://colab.research.google.com/assets/colab-badge.svg\" alt=\"Open In Colab\"/></a>"
      ]
    },
    {
      "cell_type": "markdown",
      "metadata": {
        "id": "EKOTlwcmxmej"
      },
      "source": [
        "# Segmentação e limpeza\n",
        "\n",
        "Realiza a segmentação e limpeza de um conjunto de dados em sua forma bruta.\n",
        "\n",
        "**Entrada**: \"`documentos.csv`\".\n",
        " - Cada linha do arquivo é formado por `[\"id\",\"documento\"]`.\n",
        "  - `\"id\"` é o idenficador do documento.\n",
        "  - `\"documento\"` o documento texto no seu formato bruto.\n",
        "\n",
        "**Saída**: \"`dataset.zip`\".\n",
        " - Dentro do arquivo compactado `dataset.zip` está o arquivo `dataset.csv`. Cada linha de `dataset.csv` é formado por `[\"id\",\"sentencas\",\"documento\"]`.\n",
        "  - `\"id\"` é o idenficador do documento na base de dados.\n",
        "  - `\"sentencas\"` é uma lista com as sentenças do documento.\n",
        "  - `\"documento\"` o documento limpo, mas não segmentado.\n",
        "\n",
        "**Processamento**:\n",
        "1. Copia o arquivo \"`documentos.csv`\" para a máquina local do\n",
        "Google Colab.\n",
        "2. Realiza as seguintes tarefas de limpeza:\n",
        "    - Normalização de codificação e decodificação de html entities (ftfy);\n",
        "    - Substitui \\n por espaço em branco;\n",
        "    - Elimina pontuações repetidas (\"???\",\"!!!\",\",,,\");\n",
        "    - Elimina de espaços em branco repetidos;\n",
        "    - Elimina tags.\n",
        "    - **Local para outras operações de limpeza.**\n",
        "3. Realiza a segmentação.\n",
        "4. Gera o arquivo \"`dataset.csv`\" com os dados pré-processados.\n",
        "5. Compacta o arquivo \"`dataset.csv`\" para \"`dataset.zip`\".\n",
        "6. Copia o arquivo \"`dataset.zip`\" para o google drive.\n",
        "\n",
        "**Atenção - Para executar este notebook e os próximos siga as instruções abaixo.**\n",
        "\n",
        "1. Crie a pasta \"`Colab Notebooks`\" na raiz do seu google drive para receber pastas de projetos.\n",
        "2. Dentro da pasta \"`Colab Notebooks`\" crie a pasta \"`SRI`\" para armazenar e executar os notebooks das atividades práticas da disciplina.\n",
        "3. Dentro da pasta \"`SRI`\" crie a pasta \"data\" e coloque o arquivo de dados \"`documentos.csv`\".\n",
        "\n",
        "**Testes:**\n",
        "\n",
        "Os arquivos \"`documentos.csv`\" e \"`dataset.csv`\" precisam ter ao final da execução a mesma quantidade de linhas. Onde cada linha de  \"`dataset.csv`\" esta relacionada com a mesma linha de \"`documentos.csv`\".\n"
      ]
    },
    {
      "cell_type": "markdown",
      "metadata": {
        "id": "OP33KWAtBMWs"
      },
      "source": [
        "# 1 Preparação do ambiente\n",
        "\n",
        "Preparação do ambiente para execução do script."
      ]
    },
    {
      "cell_type": "markdown",
      "metadata": {
        "id": "PKUr9Vk4BNLC"
      },
      "source": [
        "## 1.1 Tempo inicial de processamento"
      ]
    },
    {
      "cell_type": "code",
      "execution_count": null,
      "metadata": {
        "id": "JXclHCRQBSF2"
      },
      "outputs": [],
      "source": [
        "# Import das bibliotecas.\n",
        "import time\n",
        "import datetime\n",
        "\n",
        "# Marca o tempo de início do processamento\n",
        "inicio_processamento = time.time()"
      ]
    },
    {
      "cell_type": "markdown",
      "metadata": {
        "id": "GOcN8hK-scnt"
      },
      "source": [
        "## 1.2 Funções e classes auxiliares"
      ]
    },
    {
      "cell_type": "markdown",
      "metadata": {
        "id": "OPRnA-mk5-c4"
      },
      "source": [
        "Verifica se existe o diretório do notebook no diretório corrente.   \n"
      ]
    },
    {
      "cell_type": "code",
      "execution_count": null,
      "metadata": {
        "id": "Fj5TaAH_5-nB"
      },
      "outputs": [],
      "source": [
        "# Import das bibliotecas.\n",
        "import os # Biblioteca para manipular arquivos\n",
        "\n",
        "# ============================\n",
        "def verificaDiretorioNotebook():\n",
        "    \"\"\"\n",
        "      Verifica se existe o diretório do notebook no diretório corrente.\n",
        "    \"\"\"\n",
        "\n",
        "    # Verifica se o diretório existe\n",
        "    if not os.path.exists(DIRETORIO_NOTEBOOK):\n",
        "        # Cria o diretório\n",
        "        os.makedirs(DIRETORIO_NOTEBOOK)\n",
        "        logging.info(\"Diretório do notebook criado: {}\".format(DIRETORIO_NOTEBOOK))\n",
        "\n",
        "    return DIRETORIO_NOTEBOOK"
      ]
    },
    {
      "cell_type": "markdown",
      "metadata": {
        "id": "ksYnRk7zLGp0"
      },
      "source": [
        "Remove tags de um documento"
      ]
    },
    {
      "cell_type": "code",
      "execution_count": null,
      "metadata": {
        "id": "6qwKjGvyLG4v"
      },
      "outputs": [],
      "source": [
        "def remove_tags(documento):\n",
        "    \"\"\"\n",
        "      Remove tags de um documento\n",
        "    \"\"\"\n",
        "\n",
        "    import re\n",
        "\n",
        "    documento_limpo = re.compile(\"<.*?>\")\n",
        "    return re.sub(documento_limpo, \"\", documento)"
      ]
    },
    {
      "cell_type": "markdown",
      "metadata": {
        "id": "603LYIYKBmq5"
      },
      "source": [
        "Função auxiliar para formatar o tempo como `hh: mm: ss`"
      ]
    },
    {
      "cell_type": "code",
      "execution_count": null,
      "metadata": {
        "id": "Guy6B4whsZFR"
      },
      "outputs": [],
      "source": [
        "# Import das bibliotecas.\n",
        "import time\n",
        "import datetime\n",
        "\n",
        "def formataTempo(tempo):\n",
        "    \"\"\"\n",
        "      Pega a tempo em segundos e retorna uma string hh:mm:ss\n",
        "    \"\"\"\n",
        "    # Arredonda para o segundo mais próximo.\n",
        "    tempoArredondado = int(round((tempo)))\n",
        "\n",
        "    # Formata como hh:mm:ss\n",
        "    return str(datetime.timedelta(seconds=tempoArredondado))"
      ]
    },
    {
      "cell_type": "markdown",
      "metadata": {
        "id": "zVKAapz7RCxk"
      },
      "source": [
        "Classe(ModelosParametros) de definição dos parâmetros dos modelos"
      ]
    },
    {
      "cell_type": "code",
      "execution_count": null,
      "metadata": {
        "id": "zgmN6RqDRDZS"
      },
      "outputs": [],
      "source": [
        "# Import das bibliotecas.\n",
        "from dataclasses import dataclass, field\n",
        "from typing import Dict, Optional\n",
        "from typing import List\n",
        "\n",
        "@dataclass\n",
        "class ModelosParametros:\n",
        "    modelo_spacy: str = field(\n",
        "        default=\"pt_core_news_lg\",\n",
        "        metadata={\"help\": \"nome do modelo do spaCy.\"},\n",
        "    )\n",
        "\n",
        "    sentenciar_documento: bool = field(\n",
        "        default=True,\n",
        "        metadata={\"help\": \"Dividir o documento em sentenças(frases).\"},\n",
        "    )"
      ]
    },
    {
      "cell_type": "markdown",
      "metadata": {
        "id": "SX6jTGkBMNvV"
      },
      "source": [
        "Biblioteca de limpeza de tela\n"
      ]
    },
    {
      "cell_type": "code",
      "execution_count": null,
      "metadata": {
        "id": "95qYX7uzMNvX"
      },
      "outputs": [],
      "source": [
        "# Import das bibliotecas.\n",
        "from IPython.display import clear_output"
      ]
    },
    {
      "cell_type": "markdown",
      "metadata": {
        "id": "iAPVtRXQqDim"
      },
      "source": [
        "## 1.3 Tratamento de logs"
      ]
    },
    {
      "cell_type": "code",
      "execution_count": null,
      "metadata": {
        "id": "DcopxbGZqDip"
      },
      "outputs": [],
      "source": [
        "# Import das bibliotecas.\n",
        "import logging # Biblioteca de logging\n",
        "\n",
        "# Formatando a mensagem de logging\n",
        "logging.basicConfig(format=\"%(asctime)s : %(levelname)s : %(message)s\")\n",
        "\n",
        "logger = logging.getLogger()\n",
        "logger.setLevel(logging.INFO)"
      ]
    },
    {
      "cell_type": "markdown",
      "metadata": {
        "id": "_GjYtXcMnSAe"
      },
      "source": [
        "## 1.4 Identificando o ambiente Colab"
      ]
    },
    {
      "cell_type": "code",
      "execution_count": null,
      "metadata": {
        "id": "YMiH0E3OnRa1"
      },
      "outputs": [],
      "source": [
        "# Import das bibliotecas.\n",
        "import sys # Biblioteca para acessar módulos do sistema\n",
        "\n",
        "# Se estiver executando no Google Colaboratory\n",
        "# Retorna true ou false se estiver no Google Colaboratory\n",
        "IN_COLAB = \"google.colab\" in sys.modules"
      ]
    },
    {
      "cell_type": "markdown",
      "metadata": {
        "id": "RinFHFesVKis"
      },
      "source": [
        "## 1.5 Colaboratory"
      ]
    },
    {
      "cell_type": "markdown",
      "metadata": {
        "id": "MPngEboiVbfi"
      },
      "source": [
        "Usando Colab GPU para Treinamento\n"
      ]
    },
    {
      "cell_type": "markdown",
      "metadata": {
        "id": "EjWE6WlvVbfj"
      },
      "source": [
        "Uma GPU pode ser adicionada acessando o menu e selecionando:\n",
        "\n",
        "`Edit -> Notebook Settings -> Hardware accelerator -> (GPU)`\n",
        "\n",
        "Em seguida, execute a célula a seguir para confirmar que a GPU foi detectada."
      ]
    },
    {
      "cell_type": "code",
      "execution_count": null,
      "metadata": {
        "colab": {
          "base_uri": "https://localhost:8080/"
        },
        "id": "vtaYZmc3Vbfj",
        "outputId": "7a49d985-5ddb-4d04-f1ca-678d800951f3"
      },
      "outputs": [
        {
          "output_type": "stream",
          "name": "stderr",
          "text": [
            "INFO:numexpr.utils:NumExpr defaulting to 2 threads.\n",
            "INFO:root:Dispositivo GPU não encontrado\n"
          ]
        }
      ],
      "source": [
        "# Import das bibliotecas.\n",
        "import tensorflow as tf\n",
        "\n",
        "# Recupera o nome do dispositido da GPU.\n",
        "device_name = tf.test.gpu_device_name()\n",
        "\n",
        "# O nome do dispositivo deve ser parecido com o seguinte:\n",
        "if device_name == \"/device:GPU:0\":\n",
        "    logging.info(\"Encontrei GPU em: {}\".format(device_name))\n",
        "else:\n",
        "    logging.info(\"Dispositivo GPU não encontrado\")\n",
        "    #raise SystemError(\"Dispositivo GPU não encontrado\")"
      ]
    },
    {
      "cell_type": "markdown",
      "metadata": {
        "id": "iYRrUo2XWa8G"
      },
      "source": [
        "Nome da GPU\n",
        "\n",
        "Para que a torch use a GPU, precisamos identificar e especificar a GPU como o dispositivo. Posteriormente, em nosso ciclo de treinamento, carregaremos dados no dispositivo.\n",
        "\n",
        "Vale a pena observar qual GPU você recebeu. A GPU Tesla P100 é muito mais rápido que as outras GPUs, abaixo uma lista ordenada:\n",
        "- 1o Tesla P100\n",
        "- 2o Tesla T4\n",
        "- 3o Tesla P4 (Não tem memória para execução 4 x 8, somente 2 x 4)\n",
        "- 4o Tesla K80 (Não tem memória para execução 4 x 8, somente 2 x 4)"
      ]
    },
    {
      "cell_type": "code",
      "execution_count": null,
      "metadata": {
        "id": "zrjqDO6nWa8J"
      },
      "outputs": [],
      "source": [
        "# Import das bibliotecas.\n",
        "import torch\n",
        "\n",
        "def getDeviceGPU():\n",
        "    \"\"\"\n",
        "      Retorna um dispositivo de GPU se disponível ou CPU.\n",
        "\n",
        "      Retorno:\n",
        "        `device` - Um device de GPU ou CPU.\n",
        "    \"\"\"\n",
        "\n",
        "    # Se existe GPU disponível.\n",
        "    if torch.cuda.is_available():\n",
        "\n",
        "        # Diz ao PyTorch para usar GPU.\n",
        "        device = torch.device(\"cuda\")\n",
        "\n",
        "        logging.info(\"Existem {} GPU(s) disponíveis.\".format(torch.cuda.device_count()))\n",
        "        logging.info(\"Iremos usar a GPU: {}.\".format(torch.cuda.get_device_name(0)))\n",
        "\n",
        "    # Se não.\n",
        "    else:\n",
        "        logging.info(\"Sem GPU disponível, usando CPU.\")\n",
        "        device = torch.device(\"cpu\")\n",
        "\n",
        "    return device"
      ]
    },
    {
      "cell_type": "code",
      "execution_count": null,
      "metadata": {
        "colab": {
          "base_uri": "https://localhost:8080/"
        },
        "id": "ChDxmtXsKwjf",
        "outputId": "b46decf4-60d0-4dc2-ea0e-a457f254b935"
      },
      "outputs": [
        {
          "output_type": "stream",
          "name": "stderr",
          "text": [
            "INFO:root:Sem GPU disponível, usando CPU.\n"
          ]
        }
      ],
      "source": [
        "# Recupera o device com GPU ou CPU\n",
        "device = getDeviceGPU()"
      ]
    },
    {
      "cell_type": "markdown",
      "metadata": {
        "id": "fGf59D0yVNx9"
      },
      "source": [
        "Memória\n",
        "\n",
        "Memória disponível no ambiente"
      ]
    },
    {
      "cell_type": "code",
      "execution_count": null,
      "metadata": {
        "colab": {
          "base_uri": "https://localhost:8080/"
        },
        "id": "1iC5-pSAVh7_",
        "outputId": "eb016621-c264-4602-cfe5-a21eaf28c352"
      },
      "outputs": [
        {
          "output_type": "stream",
          "name": "stderr",
          "text": [
            "INFO:root:Seu ambiente de execução tem  13.6 gigabytes de RAM disponível\n",
            "\n",
            "INFO:root:Para habilitar um tempo de execução de RAM alta, selecione menu o ambiente de execução> \"Alterar tipo de tempo de execução\"\n",
            "INFO:root:e selecione High-RAM. Então, execute novamente está célula\n"
          ]
        }
      ],
      "source": [
        "# Importando as bibliotecas.\n",
        "from psutil import virtual_memory\n",
        "\n",
        "ram_gb = virtual_memory().total / 1e9\n",
        "logging.info(\"Seu ambiente de execução tem {: .1f} gigabytes de RAM disponível\\n\".format(ram_gb))\n",
        "\n",
        "if ram_gb < 20:\n",
        "  logging.info(\"Para habilitar um tempo de execução de RAM alta, selecione menu o ambiente de execução> \\\"Alterar tipo de tempo de execução\\\"\")\n",
        "  logging.info(\"e selecione High-RAM. Então, execute novamente está célula\")\n",
        "else:\n",
        "  logging.info(\"Você está usando um ambiente de execução de memória RAM alta!\")"
      ]
    },
    {
      "cell_type": "markdown",
      "metadata": {
        "id": "wijMXooQQLcQ"
      },
      "source": [
        "## 1.6 Monta uma pasta no google drive para carregar os arquivos de dados."
      ]
    },
    {
      "cell_type": "code",
      "execution_count": null,
      "metadata": {
        "colab": {
          "base_uri": "https://localhost:8080/"
        },
        "id": "ysnDDapMQK8K",
        "outputId": "8208fd5e-6a1d-4852-da59-01cff104964e"
      },
      "outputs": [
        {
          "output_type": "stream",
          "name": "stdout",
          "text": [
            "Mounted at /content/drive\n"
          ]
        }
      ],
      "source": [
        "# Se estiver executando no Google Colaboratory\n",
        "if IN_COLAB:\n",
        "\n",
        "  # import necessário\n",
        "  from google.colab import drive\n",
        "\n",
        "  # Monta o drive na pasta especificada\n",
        "  drive.mount(\"/content/drive\")"
      ]
    },
    {
      "cell_type": "markdown",
      "metadata": {
        "id": "oOd2MbBiDq93"
      },
      "source": [
        "## 1.7 Instalação do spaCy\n",
        "\n",
        "https://spacy.io/\n",
        "\n",
        "Modelos do spaCy para português:\n",
        "https://spacy.io/models/pt\n",
        "\n",
        "Uso:\n",
        "https://spacy.io/usage"
      ]
    },
    {
      "cell_type": "code",
      "execution_count": null,
      "metadata": {
        "colab": {
          "base_uri": "https://localhost:8080/",
          "height": 569
        },
        "id": "EaMM4WdxgvQ7",
        "outputId": "323948c8-cf2c-4761-accf-a617548bd358"
      },
      "outputs": [
        {
          "output_type": "stream",
          "name": "stdout",
          "text": [
            "Requirement already satisfied: pip in /usr/local/lib/python3.10/dist-packages (23.1.2)\n",
            "Collecting pip\n",
            "  Downloading pip-23.3.1-py3-none-any.whl (2.1 MB)\n",
            "\u001b[2K     \u001b[90m━━━━━━━━━━━━━━━━━━━━━━━━━━━━━━━━━━━━━━━━\u001b[0m \u001b[32m2.1/2.1 MB\u001b[0m \u001b[31m10.3 MB/s\u001b[0m eta \u001b[36m0:00:00\u001b[0m\n",
            "\u001b[?25hRequirement already satisfied: setuptools in /usr/local/lib/python3.10/dist-packages (67.7.2)\n",
            "Collecting setuptools\n",
            "  Downloading setuptools-68.2.2-py3-none-any.whl (807 kB)\n",
            "\u001b[2K     \u001b[90m━━━━━━━━━━━━━━━━━━━━━━━━━━━━━━━━━━━━━━━━\u001b[0m \u001b[32m807.9/807.9 kB\u001b[0m \u001b[31m16.8 MB/s\u001b[0m eta \u001b[36m0:00:00\u001b[0m\n",
            "\u001b[?25hRequirement already satisfied: wheel in /usr/local/lib/python3.10/dist-packages (0.41.3)\n",
            "Installing collected packages: setuptools, pip\n",
            "  Attempting uninstall: setuptools\n",
            "    Found existing installation: setuptools 67.7.2\n",
            "    Uninstalling setuptools-67.7.2:\n",
            "      Successfully uninstalled setuptools-67.7.2\n",
            "  Attempting uninstall: pip\n",
            "    Found existing installation: pip 23.1.2\n",
            "    Uninstalling pip-23.1.2:\n",
            "      Successfully uninstalled pip-23.1.2\n",
            "\u001b[31mERROR: pip's dependency resolver does not currently take into account all the packages that are installed. This behaviour is the source of the following dependency conflicts.\n",
            "ipython 7.34.0 requires jedi>=0.16, which is not installed.\n",
            "lida 0.0.10 requires fastapi, which is not installed.\n",
            "lida 0.0.10 requires kaleido, which is not installed.\n",
            "lida 0.0.10 requires python-multipart, which is not installed.\n",
            "lida 0.0.10 requires uvicorn, which is not installed.\u001b[0m\u001b[31m\n",
            "\u001b[0mSuccessfully installed pip-23.3.1 setuptools-68.2.2\n"
          ]
        },
        {
          "output_type": "display_data",
          "data": {
            "application/vnd.colab-display-data+json": {
              "pip_warning": {
                "packages": [
                  "_distutils_hack",
                  "pkg_resources",
                  "setuptools"
                ]
              }
            }
          },
          "metadata": {}
        }
      ],
      "source": [
        "# Instala dependências do spacy\n",
        "!pip install -U pip setuptools wheel"
      ]
    },
    {
      "cell_type": "code",
      "execution_count": null,
      "metadata": {
        "colab": {
          "base_uri": "https://localhost:8080/"
        },
        "id": "w4p3Rz2qDq94",
        "outputId": "342abaeb-fe1e-40cc-bb90-f5990ddd2913"
      },
      "outputs": [
        {
          "output_type": "stream",
          "name": "stdout",
          "text": [
            "Collecting spacy==3.4.4\n",
            "  Downloading spacy-3.4.4-cp310-cp310-manylinux_2_17_x86_64.manylinux2014_x86_64.whl (6.5 MB)\n",
            "\u001b[2K     \u001b[90m━━━━━━━━━━━━━━━━━━━━━━━━━━━━━━━━━━━━━━━━\u001b[0m \u001b[32m6.5/6.5 MB\u001b[0m \u001b[31m14.5 MB/s\u001b[0m eta \u001b[36m0:00:00\u001b[0m\n",
            "\u001b[?25hRequirement already satisfied: spacy-legacy<3.1.0,>=3.0.10 in /usr/local/lib/python3.10/dist-packages (from spacy==3.4.4) (3.0.12)\n",
            "Requirement already satisfied: spacy-loggers<2.0.0,>=1.0.0 in /usr/local/lib/python3.10/dist-packages (from spacy==3.4.4) (1.0.5)\n",
            "Requirement already satisfied: murmurhash<1.1.0,>=0.28.0 in /usr/local/lib/python3.10/dist-packages (from spacy==3.4.4) (1.0.10)\n",
            "Requirement already satisfied: cymem<2.1.0,>=2.0.2 in /usr/local/lib/python3.10/dist-packages (from spacy==3.4.4) (2.0.8)\n",
            "Requirement already satisfied: preshed<3.1.0,>=3.0.2 in /usr/local/lib/python3.10/dist-packages (from spacy==3.4.4) (3.0.9)\n",
            "Requirement already satisfied: thinc<8.2.0,>=8.1.0 in /usr/local/lib/python3.10/dist-packages (from spacy==3.4.4) (8.1.12)\n",
            "Collecting wasabi<1.1.0,>=0.9.1 (from spacy==3.4.4)\n",
            "  Downloading wasabi-0.10.1-py3-none-any.whl (26 kB)\n",
            "Requirement already satisfied: srsly<3.0.0,>=2.4.3 in /usr/local/lib/python3.10/dist-packages (from spacy==3.4.4) (2.4.8)\n",
            "Requirement already satisfied: catalogue<2.1.0,>=2.0.6 in /usr/local/lib/python3.10/dist-packages (from spacy==3.4.4) (2.0.10)\n",
            "Collecting typer<0.8.0,>=0.3.0 (from spacy==3.4.4)\n",
            "  Downloading typer-0.7.0-py3-none-any.whl (38 kB)\n",
            "Requirement already satisfied: pathy>=0.3.5 in /usr/local/lib/python3.10/dist-packages (from spacy==3.4.4) (0.10.3)\n",
            "Requirement already satisfied: smart-open<7.0.0,>=5.2.1 in /usr/local/lib/python3.10/dist-packages (from spacy==3.4.4) (6.4.0)\n",
            "Requirement already satisfied: tqdm<5.0.0,>=4.38.0 in /usr/local/lib/python3.10/dist-packages (from spacy==3.4.4) (4.66.1)\n",
            "Requirement already satisfied: numpy>=1.15.0 in /usr/local/lib/python3.10/dist-packages (from spacy==3.4.4) (1.23.5)\n",
            "Requirement already satisfied: requests<3.0.0,>=2.13.0 in /usr/local/lib/python3.10/dist-packages (from spacy==3.4.4) (2.31.0)\n",
            "Requirement already satisfied: pydantic!=1.8,!=1.8.1,<1.11.0,>=1.7.4 in /usr/local/lib/python3.10/dist-packages (from spacy==3.4.4) (1.10.13)\n",
            "Requirement already satisfied: jinja2 in /usr/local/lib/python3.10/dist-packages (from spacy==3.4.4) (3.1.2)\n",
            "Requirement already satisfied: setuptools in /usr/local/lib/python3.10/dist-packages (from spacy==3.4.4) (68.2.2)\n",
            "Requirement already satisfied: packaging>=20.0 in /usr/local/lib/python3.10/dist-packages (from spacy==3.4.4) (23.2)\n",
            "Requirement already satisfied: langcodes<4.0.0,>=3.2.0 in /usr/local/lib/python3.10/dist-packages (from spacy==3.4.4) (3.3.0)\n",
            "Requirement already satisfied: typing-extensions>=4.2.0 in /usr/local/lib/python3.10/dist-packages (from pydantic!=1.8,!=1.8.1,<1.11.0,>=1.7.4->spacy==3.4.4) (4.5.0)\n",
            "Requirement already satisfied: charset-normalizer<4,>=2 in /usr/local/lib/python3.10/dist-packages (from requests<3.0.0,>=2.13.0->spacy==3.4.4) (3.3.2)\n",
            "Requirement already satisfied: idna<4,>=2.5 in /usr/local/lib/python3.10/dist-packages (from requests<3.0.0,>=2.13.0->spacy==3.4.4) (3.4)\n",
            "Requirement already satisfied: urllib3<3,>=1.21.1 in /usr/local/lib/python3.10/dist-packages (from requests<3.0.0,>=2.13.0->spacy==3.4.4) (2.0.7)\n",
            "Requirement already satisfied: certifi>=2017.4.17 in /usr/local/lib/python3.10/dist-packages (from requests<3.0.0,>=2.13.0->spacy==3.4.4) (2023.7.22)\n",
            "Requirement already satisfied: blis<0.8.0,>=0.7.8 in /usr/local/lib/python3.10/dist-packages (from thinc<8.2.0,>=8.1.0->spacy==3.4.4) (0.7.11)\n",
            "Requirement already satisfied: confection<1.0.0,>=0.0.1 in /usr/local/lib/python3.10/dist-packages (from thinc<8.2.0,>=8.1.0->spacy==3.4.4) (0.1.3)\n",
            "Requirement already satisfied: click<9.0.0,>=7.1.1 in /usr/local/lib/python3.10/dist-packages (from typer<0.8.0,>=0.3.0->spacy==3.4.4) (8.1.7)\n",
            "Requirement already satisfied: MarkupSafe>=2.0 in /usr/local/lib/python3.10/dist-packages (from jinja2->spacy==3.4.4) (2.1.3)\n",
            "Installing collected packages: wasabi, typer, spacy\n",
            "  Attempting uninstall: wasabi\n",
            "    Found existing installation: wasabi 1.1.2\n",
            "    Uninstalling wasabi-1.1.2:\n",
            "      Successfully uninstalled wasabi-1.1.2\n",
            "  Attempting uninstall: typer\n",
            "    Found existing installation: typer 0.9.0\n",
            "    Uninstalling typer-0.9.0:\n",
            "      Successfully uninstalled typer-0.9.0\n",
            "  Attempting uninstall: spacy\n",
            "    Found existing installation: spacy 3.6.1\n",
            "    Uninstalling spacy-3.6.1:\n",
            "      Successfully uninstalled spacy-3.6.1\n",
            "\u001b[31mERROR: pip's dependency resolver does not currently take into account all the packages that are installed. This behaviour is the source of the following dependency conflicts.\n",
            "lida 0.0.10 requires fastapi, which is not installed.\n",
            "lida 0.0.10 requires kaleido, which is not installed.\n",
            "lida 0.0.10 requires python-multipart, which is not installed.\n",
            "lida 0.0.10 requires uvicorn, which is not installed.\n",
            "llmx 0.0.15a0 requires cohere, which is not installed.\n",
            "llmx 0.0.15a0 requires openai, which is not installed.\n",
            "llmx 0.0.15a0 requires tiktoken, which is not installed.\n",
            "en-core-web-sm 3.6.0 requires spacy<3.7.0,>=3.6.0, but you have spacy 3.4.4 which is incompatible.\u001b[0m\u001b[31m\n",
            "\u001b[0mSuccessfully installed spacy-3.4.4 typer-0.7.0 wasabi-0.10.1\n",
            "\u001b[33mWARNING: Running pip as the 'root' user can result in broken permissions and conflicting behaviour with the system package manager. It is recommended to use a virtual environment instead: https://pip.pypa.io/warnings/venv\u001b[0m\u001b[33m\n",
            "\u001b[0m"
          ]
        }
      ],
      "source": [
        "# Instala uma versão específica\n",
        "!pip install -U spacy==3.4.4 #3.5.0"
      ]
    },
    {
      "cell_type": "markdown",
      "source": [
        "## 1.8 Instalação do ftfy\n",
        "\n",
        "Realiza a normalização do texto devido a problemas de codificação de caracteres e decodificação de html entities.\n",
        "\n",
        "https://pypi.org/project/ftfy/"
      ],
      "metadata": {
        "id": "zNyRgHGvoVIX"
      }
    },
    {
      "cell_type": "code",
      "source": [
        "!pip install ftfy"
      ],
      "metadata": {
        "colab": {
          "base_uri": "https://localhost:8080/"
        },
        "id": "GunkOVGEob6c",
        "outputId": "c5bd35fd-0c83-47af-ddba-662277b45e9b"
      },
      "execution_count": null,
      "outputs": [
        {
          "output_type": "stream",
          "name": "stdout",
          "text": [
            "Collecting ftfy\n",
            "  Downloading ftfy-6.1.1-py3-none-any.whl (53 kB)\n",
            "\u001b[2K     \u001b[90m━━━━━━━━━━━━━━━━━━━━━━━━━━━━━━━━━━━━━━━━\u001b[0m \u001b[32m53.1/53.1 kB\u001b[0m \u001b[31m821.9 kB/s\u001b[0m eta \u001b[36m0:00:00\u001b[0m\n",
            "\u001b[?25hRequirement already satisfied: wcwidth>=0.2.5 in /usr/local/lib/python3.10/dist-packages (from ftfy) (0.2.9)\n",
            "Installing collected packages: ftfy\n",
            "Successfully installed ftfy-6.1.1\n",
            "\u001b[33mWARNING: Running pip as the 'root' user can result in broken permissions and conflicting behaviour with the system package manager. It is recommended to use a virtual environment instead: https://pip.pypa.io/warnings/venv\u001b[0m\u001b[33m\n",
            "\u001b[0m"
          ]
        }
      ]
    },
    {
      "cell_type": "markdown",
      "metadata": {
        "id": "8bGda5JgMtQe"
      },
      "source": [
        "# 2 Parametrização"
      ]
    },
    {
      "cell_type": "markdown",
      "metadata": {
        "id": "ifrYNTwGwKal"
      },
      "source": [
        "## Gerais"
      ]
    },
    {
      "cell_type": "code",
      "execution_count": null,
      "metadata": {
        "id": "5uiH9pNpwI6g"
      },
      "outputs": [],
      "source": [
        "# Definição dos parâmetros gerais"
      ]
    },
    {
      "cell_type": "markdown",
      "metadata": {
        "id": "mhByVujAwNAU"
      },
      "source": [
        "## Específicos"
      ]
    },
    {
      "cell_type": "markdown",
      "metadata": {
        "id": "SnEeFAFx1FqQ"
      },
      "source": [
        "Parâmetros do modelo"
      ]
    },
    {
      "cell_type": "code",
      "execution_count": null,
      "metadata": {
        "id": "oJ15-ylRRRdD"
      },
      "outputs": [],
      "source": [
        "# Definição dos parâmetros do Modelo.\n",
        "model_args = ModelosParametros(\n",
        "\n",
        "    #modelo_spacy = \"en_core_web_lg\",\n",
        "    #modelo_spacy = \"en_core_web_md\",\n",
        "    #modelo_spacy = \"en_core_web_sm\",\n",
        "\n",
        "    modelo_spacy = \"pt_core_news_lg\",\n",
        "    #modelo_spacy = \"pt_core_news_md\",\n",
        "    #modelo_spacy = \"pt_core_news_sm\",\n",
        "\n",
        "    sentenciar_documento = True,\n",
        ")"
      ]
    },
    {
      "cell_type": "markdown",
      "metadata": {
        "id": "ecwtQDArKvZn"
      },
      "source": [
        "## Nome do diretório dos arquivos de dados"
      ]
    },
    {
      "cell_type": "code",
      "execution_count": null,
      "metadata": {
        "id": "YtNygH9qKvmp"
      },
      "outputs": [],
      "source": [
        "# Diretório do notebook\n",
        "DIRETORIO_NOTEBOOK = \"SRI\""
      ]
    },
    {
      "cell_type": "markdown",
      "metadata": {
        "id": "SUxlx7Sx4yxj"
      },
      "source": [
        "## Define o caminho para os arquivos de dados"
      ]
    },
    {
      "cell_type": "code",
      "execution_count": null,
      "metadata": {
        "id": "-gQpxAO74yxj"
      },
      "outputs": [],
      "source": [
        "# Se estiver executando no Google Colaboratory\n",
        "if IN_COLAB:\n",
        "\n",
        "  # Diretório local para os arquivos de dados\n",
        "  DIRETORIO_LOCAL = \"/content/\" + DIRETORIO_NOTEBOOK + \"/\"\n",
        "\n",
        "  # Diretório no google drive com os arquivos de dados\n",
        "  DIRETORIO_DRIVE = \"/content/drive/MyDrive/Colab Notebooks/\" + DIRETORIO_NOTEBOOK + \"/data/\"\n",
        "else:\n",
        "\n",
        "  # Diretório local para os arquivos de dados\n",
        "  DIRETORIO_LOCAL = \"./data/\"\n",
        "\n",
        "  # Diretório no google drive com os arquivos de dados\n",
        "  DIRETORIO_DRIVE = \"./data/\""
      ]
    },
    {
      "cell_type": "markdown",
      "metadata": {
        "id": "L7G3-MOsQ1N_"
      },
      "source": [
        "# 3 spaCy"
      ]
    },
    {
      "cell_type": "markdown",
      "metadata": {
        "id": "35GwcgkOlWi3"
      },
      "source": [
        "## 3.1 Download arquivo modelo\n",
        "\n",
        "Uso:\n",
        "https://spacy.io/usage\n",
        "\n",
        "Modelos:\n",
        "https://spacy.io/models"
      ]
    },
    {
      "cell_type": "code",
      "execution_count": null,
      "metadata": {
        "colab": {
          "base_uri": "https://localhost:8080/"
        },
        "id": "_lqonzGcupXI",
        "outputId": "bee83f20-eac9-4a0b-af0e-e459cb4c84e6"
      },
      "outputs": [
        {
          "output_type": "stream",
          "name": "stdout",
          "text": [
            "2023-11-15 11:05:03.943683: E tensorflow/compiler/xla/stream_executor/cuda/cuda_dnn.cc:9342] Unable to register cuDNN factory: Attempting to register factory for plugin cuDNN when one has already been registered\n",
            "2023-11-15 11:05:03.943741: E tensorflow/compiler/xla/stream_executor/cuda/cuda_fft.cc:609] Unable to register cuFFT factory: Attempting to register factory for plugin cuFFT when one has already been registered\n",
            "2023-11-15 11:05:03.943773: E tensorflow/compiler/xla/stream_executor/cuda/cuda_blas.cc:1518] Unable to register cuBLAS factory: Attempting to register factory for plugin cuBLAS when one has already been registered\n",
            "2023-11-15 11:05:05.710128: W tensorflow/compiler/tf2tensorrt/utils/py_utils.cc:38] TF-TRT Warning: Could not find TensorRT\n",
            "Collecting pt-core-news-lg==3.4.0\n",
            "  Downloading https://github.com/explosion/spacy-models/releases/download/pt_core_news_lg-3.4.0/pt_core_news_lg-3.4.0-py3-none-any.whl (568.2 MB)\n",
            "\u001b[2K     \u001b[90m━━━━━━━━━━━━━━━━━━━━━━━━━━━━━━━━━━━━━━━━\u001b[0m \u001b[32m568.2/568.2 MB\u001b[0m \u001b[31m2.9 MB/s\u001b[0m eta \u001b[36m0:00:00\u001b[0m\n",
            "\u001b[?25hRequirement already satisfied: spacy<3.5.0,>=3.4.0 in /usr/local/lib/python3.10/dist-packages (from pt-core-news-lg==3.4.0) (3.4.4)\n",
            "Requirement already satisfied: spacy-legacy<3.1.0,>=3.0.10 in /usr/local/lib/python3.10/dist-packages (from spacy<3.5.0,>=3.4.0->pt-core-news-lg==3.4.0) (3.0.12)\n",
            "Requirement already satisfied: spacy-loggers<2.0.0,>=1.0.0 in /usr/local/lib/python3.10/dist-packages (from spacy<3.5.0,>=3.4.0->pt-core-news-lg==3.4.0) (1.0.5)\n",
            "Requirement already satisfied: murmurhash<1.1.0,>=0.28.0 in /usr/local/lib/python3.10/dist-packages (from spacy<3.5.0,>=3.4.0->pt-core-news-lg==3.4.0) (1.0.10)\n",
            "Requirement already satisfied: cymem<2.1.0,>=2.0.2 in /usr/local/lib/python3.10/dist-packages (from spacy<3.5.0,>=3.4.0->pt-core-news-lg==3.4.0) (2.0.8)\n",
            "Requirement already satisfied: preshed<3.1.0,>=3.0.2 in /usr/local/lib/python3.10/dist-packages (from spacy<3.5.0,>=3.4.0->pt-core-news-lg==3.4.0) (3.0.9)\n",
            "Requirement already satisfied: thinc<8.2.0,>=8.1.0 in /usr/local/lib/python3.10/dist-packages (from spacy<3.5.0,>=3.4.0->pt-core-news-lg==3.4.0) (8.1.12)\n",
            "Requirement already satisfied: wasabi<1.1.0,>=0.9.1 in /usr/local/lib/python3.10/dist-packages (from spacy<3.5.0,>=3.4.0->pt-core-news-lg==3.4.0) (0.10.1)\n",
            "Requirement already satisfied: srsly<3.0.0,>=2.4.3 in /usr/local/lib/python3.10/dist-packages (from spacy<3.5.0,>=3.4.0->pt-core-news-lg==3.4.0) (2.4.8)\n",
            "Requirement already satisfied: catalogue<2.1.0,>=2.0.6 in /usr/local/lib/python3.10/dist-packages (from spacy<3.5.0,>=3.4.0->pt-core-news-lg==3.4.0) (2.0.10)\n",
            "Requirement already satisfied: typer<0.8.0,>=0.3.0 in /usr/local/lib/python3.10/dist-packages (from spacy<3.5.0,>=3.4.0->pt-core-news-lg==3.4.0) (0.7.0)\n",
            "Requirement already satisfied: pathy>=0.3.5 in /usr/local/lib/python3.10/dist-packages (from spacy<3.5.0,>=3.4.0->pt-core-news-lg==3.4.0) (0.10.3)\n",
            "Requirement already satisfied: smart-open<7.0.0,>=5.2.1 in /usr/local/lib/python3.10/dist-packages (from spacy<3.5.0,>=3.4.0->pt-core-news-lg==3.4.0) (6.4.0)\n",
            "Requirement already satisfied: tqdm<5.0.0,>=4.38.0 in /usr/local/lib/python3.10/dist-packages (from spacy<3.5.0,>=3.4.0->pt-core-news-lg==3.4.0) (4.66.1)\n",
            "Requirement already satisfied: numpy>=1.15.0 in /usr/local/lib/python3.10/dist-packages (from spacy<3.5.0,>=3.4.0->pt-core-news-lg==3.4.0) (1.23.5)\n",
            "Requirement already satisfied: requests<3.0.0,>=2.13.0 in /usr/local/lib/python3.10/dist-packages (from spacy<3.5.0,>=3.4.0->pt-core-news-lg==3.4.0) (2.31.0)\n",
            "Requirement already satisfied: pydantic!=1.8,!=1.8.1,<1.11.0,>=1.7.4 in /usr/local/lib/python3.10/dist-packages (from spacy<3.5.0,>=3.4.0->pt-core-news-lg==3.4.0) (1.10.13)\n",
            "Requirement already satisfied: jinja2 in /usr/local/lib/python3.10/dist-packages (from spacy<3.5.0,>=3.4.0->pt-core-news-lg==3.4.0) (3.1.2)\n",
            "Requirement already satisfied: setuptools in /usr/local/lib/python3.10/dist-packages (from spacy<3.5.0,>=3.4.0->pt-core-news-lg==3.4.0) (68.2.2)\n",
            "Requirement already satisfied: packaging>=20.0 in /usr/local/lib/python3.10/dist-packages (from spacy<3.5.0,>=3.4.0->pt-core-news-lg==3.4.0) (23.2)\n",
            "Requirement already satisfied: langcodes<4.0.0,>=3.2.0 in /usr/local/lib/python3.10/dist-packages (from spacy<3.5.0,>=3.4.0->pt-core-news-lg==3.4.0) (3.3.0)\n",
            "Requirement already satisfied: typing-extensions>=4.2.0 in /usr/local/lib/python3.10/dist-packages (from pydantic!=1.8,!=1.8.1,<1.11.0,>=1.7.4->spacy<3.5.0,>=3.4.0->pt-core-news-lg==3.4.0) (4.5.0)\n",
            "Requirement already satisfied: charset-normalizer<4,>=2 in /usr/local/lib/python3.10/dist-packages (from requests<3.0.0,>=2.13.0->spacy<3.5.0,>=3.4.0->pt-core-news-lg==3.4.0) (3.3.2)\n",
            "Requirement already satisfied: idna<4,>=2.5 in /usr/local/lib/python3.10/dist-packages (from requests<3.0.0,>=2.13.0->spacy<3.5.0,>=3.4.0->pt-core-news-lg==3.4.0) (3.4)\n",
            "Requirement already satisfied: urllib3<3,>=1.21.1 in /usr/local/lib/python3.10/dist-packages (from requests<3.0.0,>=2.13.0->spacy<3.5.0,>=3.4.0->pt-core-news-lg==3.4.0) (2.0.7)\n",
            "Requirement already satisfied: certifi>=2017.4.17 in /usr/local/lib/python3.10/dist-packages (from requests<3.0.0,>=2.13.0->spacy<3.5.0,>=3.4.0->pt-core-news-lg==3.4.0) (2023.7.22)\n",
            "Requirement already satisfied: blis<0.8.0,>=0.7.8 in /usr/local/lib/python3.10/dist-packages (from thinc<8.2.0,>=8.1.0->spacy<3.5.0,>=3.4.0->pt-core-news-lg==3.4.0) (0.7.11)\n",
            "Requirement already satisfied: confection<1.0.0,>=0.0.1 in /usr/local/lib/python3.10/dist-packages (from thinc<8.2.0,>=8.1.0->spacy<3.5.0,>=3.4.0->pt-core-news-lg==3.4.0) (0.1.3)\n",
            "Requirement already satisfied: click<9.0.0,>=7.1.1 in /usr/local/lib/python3.10/dist-packages (from typer<0.8.0,>=0.3.0->spacy<3.5.0,>=3.4.0->pt-core-news-lg==3.4.0) (8.1.7)\n",
            "Requirement already satisfied: MarkupSafe>=2.0 in /usr/local/lib/python3.10/dist-packages (from jinja2->spacy<3.5.0,>=3.4.0->pt-core-news-lg==3.4.0) (2.1.3)\n",
            "Installing collected packages: pt-core-news-lg\n",
            "Successfully installed pt-core-news-lg-3.4.0\n",
            "\u001b[33mWARNING: Running pip as the 'root' user can result in broken permissions and conflicting behaviour with the system package manager. It is recommended to use a virtual environment instead: https://pip.pypa.io/warnings/venv\u001b[0m\u001b[33m\n",
            "\u001b[0m\u001b[38;5;2m✔ Download and installation successful\u001b[0m\n",
            "You can now load the package via spacy.load('pt_core_news_lg')\n"
          ]
        }
      ],
      "source": [
        "!python -m spacy download $model_args.modelo_spacy"
      ]
    },
    {
      "cell_type": "markdown",
      "metadata": {
        "id": "STHT2c89qvwK"
      },
      "source": [
        "## 3.2 Carrega o modelo"
      ]
    },
    {
      "cell_type": "code",
      "execution_count": null,
      "metadata": {
        "id": "6boQJOwotxhH"
      },
      "outputs": [],
      "source": [
        "# Import das bibliotecas.\n",
        "import spacy # Biblioteca do spaCy\n",
        "\n",
        "nlp = spacy.load(model_args.modelo_spacy)"
      ]
    },
    {
      "cell_type": "markdown",
      "metadata": {
        "id": "guw6ZNtaswKc"
      },
      "source": [
        "# 4 Pré-processamento do arquivo \"`documentos.csv`\"\n"
      ]
    },
    {
      "cell_type": "markdown",
      "metadata": {
        "id": "q5fZgM2mdsIP"
      },
      "source": [
        "## 4.1 Carrega os dados bruto"
      ]
    },
    {
      "cell_type": "markdown",
      "metadata": {
        "id": "EIhL_vEt6T47"
      },
      "source": [
        "### 4.1.1 Especifica s nome do arquivo de dados bruto\n",
        "\n"
      ]
    },
    {
      "cell_type": "code",
      "execution_count": null,
      "metadata": {
        "id": "HUf58mb_6T47"
      },
      "outputs": [],
      "source": [
        "# Nome do arquivo\n",
        "NOME_ARQUIVO_DADOS_BRUTO = \"documentos.csv\""
      ]
    },
    {
      "cell_type": "markdown",
      "metadata": {
        "id": "t6aDyUuwIAgl"
      },
      "source": [
        "### 4.1.2 Cria o diretório local para receber os arquivos de dados"
      ]
    },
    {
      "cell_type": "code",
      "execution_count": null,
      "metadata": {
        "colab": {
          "base_uri": "https://localhost:8080/"
        },
        "id": "4AutOOfj6T47",
        "outputId": "0d000104-99ff-4844-8737-2a9404cbde09"
      },
      "outputs": [
        {
          "output_type": "stream",
          "name": "stderr",
          "text": [
            "INFO:root:Diretório criado: /content/SRI\n"
          ]
        }
      ],
      "source": [
        "# Importando as bibliotecas.\n",
        "import os\n",
        "\n",
        "# Se estiver executando no Google Colaboratory\n",
        "if IN_COLAB:\n",
        "\n",
        "  # Cria o diretório para receber os arquivos Originais e Permutados\n",
        "  # Diretório a ser criado\n",
        "  dirbase = DIRETORIO_LOCAL[:-1]\n",
        "\n",
        "  if not os.path.exists(dirbase):\n",
        "      # Cria o diretório\n",
        "      os.makedirs(dirbase)\n",
        "      logging.info(\"Diretório criado: {}\".format(dirbase))\n",
        "  else:\n",
        "      logging.info(\"Diretório já existe: {}\".format(dirbase))"
      ]
    },
    {
      "cell_type": "markdown",
      "metadata": {
        "id": "ELaau7QD4yxi"
      },
      "source": [
        "### 4.1.3 Copia o arquivos de dados bruto do google drive para o diretório local"
      ]
    },
    {
      "cell_type": "code",
      "execution_count": null,
      "metadata": {
        "colab": {
          "base_uri": "https://localhost:8080/"
        },
        "id": "33PCWMXJ4yxk",
        "outputId": "a160cb72-a52f-4608-a5e5-c75d748b9fb6"
      },
      "outputs": [
        {
          "output_type": "stream",
          "name": "stderr",
          "text": [
            "INFO:root:Terminei a cópia!\n"
          ]
        }
      ],
      "source": [
        "# Se estiver executando no Google Colaboratory\n",
        "if IN_COLAB:\n",
        "\n",
        "  !cp \"$DIRETORIO_DRIVE$NOME_ARQUIVO_DADOS_BRUTO\" \"$DIRETORIO_LOCAL\"\n",
        "\n",
        "  logging.info(\"Terminei a cópia!\")"
      ]
    },
    {
      "cell_type": "markdown",
      "metadata": {
        "id": "SAkf-zUT_pg3"
      },
      "source": [
        "### 4.1.4 Carrega os dados no formato bruto\n",
        "\n",
        "Atributos do arquivo **documentos**:\n",
        "0. \"id\"\n",
        "1. \"documento\""
      ]
    },
    {
      "cell_type": "code",
      "execution_count": null,
      "metadata": {
        "colab": {
          "base_uri": "https://localhost:8080/"
        },
        "id": "nbbS-8C3iINh",
        "outputId": "bd8aee20-842d-4f77-edf1-d639761cae87"
      },
      "outputs": [
        {
          "output_type": "stream",
          "name": "stderr",
          "text": [
            "INFO:root:TERMINADO FONTES: 20.\n"
          ]
        }
      ],
      "source": [
        "# Import das bibliotecas.\n",
        "import pandas as pd\n",
        "\n",
        "# Abre o arquivo e retorna o DataFrame\n",
        "df_documentos_bruto = pd.read_csv(DIRETORIO_LOCAL + NOME_ARQUIVO_DADOS_BRUTO, sep=\";\", encoding=\"UTF-8\")\n",
        "\n",
        "logging.info(\"TERMINADO FONTES: {}.\".format(len(df_documentos_bruto)))"
      ]
    },
    {
      "cell_type": "code",
      "execution_count": null,
      "metadata": {
        "colab": {
          "base_uri": "https://localhost:8080/",
          "height": 206
        },
        "id": "dEzFii_GjjT8",
        "outputId": "10caa999-1db2-4f6e-e33c-328944993947"
      },
      "outputs": [
        {
          "output_type": "execute_result",
          "data": {
            "text/plain": [
              "    id                                          documento\n",
              "9   10  Quinze voluntários da ONG francesa 'Ação Contr...\n",
              "16  17  O time de Bernardinho derrotou a Rússia por 3 ...\n",
              "3    4  Usando telescópios do Observatório Europeu Sul...\n",
              "14  15  Quase metade dos vôos previstos para decolar n...\n",
              "10  11  Nove pessoas morreram, sendo três crianças, e ..."
            ],
            "text/html": [
              "\n",
              "  <div id=\"df-5e97efa0-5d74-4d52-b649-f9a24c0b07f6\" class=\"colab-df-container\">\n",
              "    <div>\n",
              "<style scoped>\n",
              "    .dataframe tbody tr th:only-of-type {\n",
              "        vertical-align: middle;\n",
              "    }\n",
              "\n",
              "    .dataframe tbody tr th {\n",
              "        vertical-align: top;\n",
              "    }\n",
              "\n",
              "    .dataframe thead th {\n",
              "        text-align: right;\n",
              "    }\n",
              "</style>\n",
              "<table border=\"1\" class=\"dataframe\">\n",
              "  <thead>\n",
              "    <tr style=\"text-align: right;\">\n",
              "      <th></th>\n",
              "      <th>id</th>\n",
              "      <th>documento</th>\n",
              "    </tr>\n",
              "  </thead>\n",
              "  <tbody>\n",
              "    <tr>\n",
              "      <th>9</th>\n",
              "      <td>10</td>\n",
              "      <td>Quinze voluntários da ONG francesa 'Ação Contr...</td>\n",
              "    </tr>\n",
              "    <tr>\n",
              "      <th>16</th>\n",
              "      <td>17</td>\n",
              "      <td>O time de Bernardinho derrotou a Rússia por 3 ...</td>\n",
              "    </tr>\n",
              "    <tr>\n",
              "      <th>3</th>\n",
              "      <td>4</td>\n",
              "      <td>Usando telescópios do Observatório Europeu Sul...</td>\n",
              "    </tr>\n",
              "    <tr>\n",
              "      <th>14</th>\n",
              "      <td>15</td>\n",
              "      <td>Quase metade dos vôos previstos para decolar n...</td>\n",
              "    </tr>\n",
              "    <tr>\n",
              "      <th>10</th>\n",
              "      <td>11</td>\n",
              "      <td>Nove pessoas morreram, sendo três crianças, e ...</td>\n",
              "    </tr>\n",
              "  </tbody>\n",
              "</table>\n",
              "</div>\n",
              "    <div class=\"colab-df-buttons\">\n",
              "\n",
              "  <div class=\"colab-df-container\">\n",
              "    <button class=\"colab-df-convert\" onclick=\"convertToInteractive('df-5e97efa0-5d74-4d52-b649-f9a24c0b07f6')\"\n",
              "            title=\"Convert this dataframe to an interactive table.\"\n",
              "            style=\"display:none;\">\n",
              "\n",
              "  <svg xmlns=\"http://www.w3.org/2000/svg\" height=\"24px\" viewBox=\"0 -960 960 960\">\n",
              "    <path d=\"M120-120v-720h720v720H120Zm60-500h600v-160H180v160Zm220 220h160v-160H400v160Zm0 220h160v-160H400v160ZM180-400h160v-160H180v160Zm440 0h160v-160H620v160ZM180-180h160v-160H180v160Zm440 0h160v-160H620v160Z\"/>\n",
              "  </svg>\n",
              "    </button>\n",
              "\n",
              "  <style>\n",
              "    .colab-df-container {\n",
              "      display:flex;\n",
              "      gap: 12px;\n",
              "    }\n",
              "\n",
              "    .colab-df-convert {\n",
              "      background-color: #E8F0FE;\n",
              "      border: none;\n",
              "      border-radius: 50%;\n",
              "      cursor: pointer;\n",
              "      display: none;\n",
              "      fill: #1967D2;\n",
              "      height: 32px;\n",
              "      padding: 0 0 0 0;\n",
              "      width: 32px;\n",
              "    }\n",
              "\n",
              "    .colab-df-convert:hover {\n",
              "      background-color: #E2EBFA;\n",
              "      box-shadow: 0px 1px 2px rgba(60, 64, 67, 0.3), 0px 1px 3px 1px rgba(60, 64, 67, 0.15);\n",
              "      fill: #174EA6;\n",
              "    }\n",
              "\n",
              "    .colab-df-buttons div {\n",
              "      margin-bottom: 4px;\n",
              "    }\n",
              "\n",
              "    [theme=dark] .colab-df-convert {\n",
              "      background-color: #3B4455;\n",
              "      fill: #D2E3FC;\n",
              "    }\n",
              "\n",
              "    [theme=dark] .colab-df-convert:hover {\n",
              "      background-color: #434B5C;\n",
              "      box-shadow: 0px 1px 3px 1px rgba(0, 0, 0, 0.15);\n",
              "      filter: drop-shadow(0px 1px 2px rgba(0, 0, 0, 0.3));\n",
              "      fill: #FFFFFF;\n",
              "    }\n",
              "  </style>\n",
              "\n",
              "    <script>\n",
              "      const buttonEl =\n",
              "        document.querySelector('#df-5e97efa0-5d74-4d52-b649-f9a24c0b07f6 button.colab-df-convert');\n",
              "      buttonEl.style.display =\n",
              "        google.colab.kernel.accessAllowed ? 'block' : 'none';\n",
              "\n",
              "      async function convertToInteractive(key) {\n",
              "        const element = document.querySelector('#df-5e97efa0-5d74-4d52-b649-f9a24c0b07f6');\n",
              "        const dataTable =\n",
              "          await google.colab.kernel.invokeFunction('convertToInteractive',\n",
              "                                                    [key], {});\n",
              "        if (!dataTable) return;\n",
              "\n",
              "        const docLinkHtml = 'Like what you see? Visit the ' +\n",
              "          '<a target=\"_blank\" href=https://colab.research.google.com/notebooks/data_table.ipynb>data table notebook</a>'\n",
              "          + ' to learn more about interactive tables.';\n",
              "        element.innerHTML = '';\n",
              "        dataTable['output_type'] = 'display_data';\n",
              "        await google.colab.output.renderOutput(dataTable, element);\n",
              "        const docLink = document.createElement('div');\n",
              "        docLink.innerHTML = docLinkHtml;\n",
              "        element.appendChild(docLink);\n",
              "      }\n",
              "    </script>\n",
              "  </div>\n",
              "\n",
              "\n",
              "<div id=\"df-5820ae8d-e1e9-42f3-b05a-14ff3bac4e37\">\n",
              "  <button class=\"colab-df-quickchart\" onclick=\"quickchart('df-5820ae8d-e1e9-42f3-b05a-14ff3bac4e37')\"\n",
              "            title=\"Suggest charts\"\n",
              "            style=\"display:none;\">\n",
              "\n",
              "<svg xmlns=\"http://www.w3.org/2000/svg\" height=\"24px\"viewBox=\"0 0 24 24\"\n",
              "     width=\"24px\">\n",
              "    <g>\n",
              "        <path d=\"M19 3H5c-1.1 0-2 .9-2 2v14c0 1.1.9 2 2 2h14c1.1 0 2-.9 2-2V5c0-1.1-.9-2-2-2zM9 17H7v-7h2v7zm4 0h-2V7h2v10zm4 0h-2v-4h2v4z\"/>\n",
              "    </g>\n",
              "</svg>\n",
              "  </button>\n",
              "\n",
              "<style>\n",
              "  .colab-df-quickchart {\n",
              "      --bg-color: #E8F0FE;\n",
              "      --fill-color: #1967D2;\n",
              "      --hover-bg-color: #E2EBFA;\n",
              "      --hover-fill-color: #174EA6;\n",
              "      --disabled-fill-color: #AAA;\n",
              "      --disabled-bg-color: #DDD;\n",
              "  }\n",
              "\n",
              "  [theme=dark] .colab-df-quickchart {\n",
              "      --bg-color: #3B4455;\n",
              "      --fill-color: #D2E3FC;\n",
              "      --hover-bg-color: #434B5C;\n",
              "      --hover-fill-color: #FFFFFF;\n",
              "      --disabled-bg-color: #3B4455;\n",
              "      --disabled-fill-color: #666;\n",
              "  }\n",
              "\n",
              "  .colab-df-quickchart {\n",
              "    background-color: var(--bg-color);\n",
              "    border: none;\n",
              "    border-radius: 50%;\n",
              "    cursor: pointer;\n",
              "    display: none;\n",
              "    fill: var(--fill-color);\n",
              "    height: 32px;\n",
              "    padding: 0;\n",
              "    width: 32px;\n",
              "  }\n",
              "\n",
              "  .colab-df-quickchart:hover {\n",
              "    background-color: var(--hover-bg-color);\n",
              "    box-shadow: 0 1px 2px rgba(60, 64, 67, 0.3), 0 1px 3px 1px rgba(60, 64, 67, 0.15);\n",
              "    fill: var(--button-hover-fill-color);\n",
              "  }\n",
              "\n",
              "  .colab-df-quickchart-complete:disabled,\n",
              "  .colab-df-quickchart-complete:disabled:hover {\n",
              "    background-color: var(--disabled-bg-color);\n",
              "    fill: var(--disabled-fill-color);\n",
              "    box-shadow: none;\n",
              "  }\n",
              "\n",
              "  .colab-df-spinner {\n",
              "    border: 2px solid var(--fill-color);\n",
              "    border-color: transparent;\n",
              "    border-bottom-color: var(--fill-color);\n",
              "    animation:\n",
              "      spin 1s steps(1) infinite;\n",
              "  }\n",
              "\n",
              "  @keyframes spin {\n",
              "    0% {\n",
              "      border-color: transparent;\n",
              "      border-bottom-color: var(--fill-color);\n",
              "      border-left-color: var(--fill-color);\n",
              "    }\n",
              "    20% {\n",
              "      border-color: transparent;\n",
              "      border-left-color: var(--fill-color);\n",
              "      border-top-color: var(--fill-color);\n",
              "    }\n",
              "    30% {\n",
              "      border-color: transparent;\n",
              "      border-left-color: var(--fill-color);\n",
              "      border-top-color: var(--fill-color);\n",
              "      border-right-color: var(--fill-color);\n",
              "    }\n",
              "    40% {\n",
              "      border-color: transparent;\n",
              "      border-right-color: var(--fill-color);\n",
              "      border-top-color: var(--fill-color);\n",
              "    }\n",
              "    60% {\n",
              "      border-color: transparent;\n",
              "      border-right-color: var(--fill-color);\n",
              "    }\n",
              "    80% {\n",
              "      border-color: transparent;\n",
              "      border-right-color: var(--fill-color);\n",
              "      border-bottom-color: var(--fill-color);\n",
              "    }\n",
              "    90% {\n",
              "      border-color: transparent;\n",
              "      border-bottom-color: var(--fill-color);\n",
              "    }\n",
              "  }\n",
              "</style>\n",
              "\n",
              "  <script>\n",
              "    async function quickchart(key) {\n",
              "      const quickchartButtonEl =\n",
              "        document.querySelector('#' + key + ' button');\n",
              "      quickchartButtonEl.disabled = true;  // To prevent multiple clicks.\n",
              "      quickchartButtonEl.classList.add('colab-df-spinner');\n",
              "      try {\n",
              "        const charts = await google.colab.kernel.invokeFunction(\n",
              "            'suggestCharts', [key], {});\n",
              "      } catch (error) {\n",
              "        console.error('Error during call to suggestCharts:', error);\n",
              "      }\n",
              "      quickchartButtonEl.classList.remove('colab-df-spinner');\n",
              "      quickchartButtonEl.classList.add('colab-df-quickchart-complete');\n",
              "    }\n",
              "    (() => {\n",
              "      let quickchartButtonEl =\n",
              "        document.querySelector('#df-5820ae8d-e1e9-42f3-b05a-14ff3bac4e37 button');\n",
              "      quickchartButtonEl.style.display =\n",
              "        google.colab.kernel.accessAllowed ? 'block' : 'none';\n",
              "    })();\n",
              "  </script>\n",
              "</div>\n",
              "    </div>\n",
              "  </div>\n"
            ]
          },
          "metadata": {},
          "execution_count": 27
        }
      ],
      "source": [
        "df_documentos_bruto.sample(5)"
      ]
    },
    {
      "cell_type": "markdown",
      "metadata": {
        "id": "EE2I1mbelJos"
      },
      "source": [
        "## 4.2 Segmentação e limpeza dos dados bruto"
      ]
    },
    {
      "cell_type": "markdown",
      "metadata": {
        "id": "wgCR8_NtuuPN"
      },
      "source": [
        "### 4.2.1 Limpeza do documento\n",
        "\n",
        "- Normalização de codificação e decodificação de html entities (ftfy);\n",
        "- Substitui \\n por espaço em branco;\n",
        "- Eliminar pontuações repetidas (\"???\",\"!!!\",\",,,\");\n",
        "- Eliminar de espaços em branco repetidos;\n",
        "- Eliminar tags;\n",
        "- **>>> Outras operações de limpeza podem ser adicionadas aqui.<<<**.\n",
        "\n",
        "\n",
        "Limpeza de tags html: https://pypi.org/project/beautifulsoup4/ ou\n",
        "https://medium.com/pyladiesbh/beautiful-soup-parseamento-de-html-337197a7d4b9\n"
      ]
    },
    {
      "cell_type": "code",
      "execution_count": null,
      "metadata": {
        "colab": {
          "base_uri": "https://localhost:8080/",
          "height": 66,
          "referenced_widgets": [
            "d95c7bb4ff0c4a9cb79f006fd5399308",
            "df9b2aaf2aef4d1a9f4cc771b51e8054",
            "d37c0df5ecdb45f2a30ada9d0c9b0dfe",
            "482c9f004c83437193f2ca1b273c9b52",
            "c7007c1f3a674e1d910892a4adcbbe59",
            "3cc339547a5b40d4a035e13aad2e8c2e",
            "e1387faf77c348938fe90a4330281988",
            "592df12f9d344f7f9363335280eaedcc",
            "7ca45558a4fc42b8a99c607f5cfaf7ca",
            "959499f7f91b4a88be827efc53c2defa",
            "5d6b7bc30ce141b080c56cd295558894"
          ]
        },
        "id": "HQ8gdjQ7uuPR",
        "outputId": "e54c1485-47f4-4349-d282-332c54616608"
      },
      "outputs": [
        {
          "output_type": "stream",
          "name": "stderr",
          "text": [
            "INFO:root:Processando 20 documentos.\n"
          ]
        },
        {
          "output_type": "display_data",
          "data": {
            "text/plain": [
              "Dados:   0%|          | 0/20 [00:00<?, ?registro/s]"
            ],
            "application/vnd.jupyter.widget-view+json": {
              "version_major": 2,
              "version_minor": 0,
              "model_id": "d95c7bb4ff0c4a9cb79f006fd5399308"
            }
          },
          "metadata": {}
        }
      ],
      "source": [
        "# Import das bibliotecas,\n",
        "import ftfy # Biblioteca para normalização do texto\n",
        "import re # Biblioteca para expressões regulares\n",
        "from tqdm.notebook import tqdm as tqdm_notebook # Biblioteca para barra de progresso\n",
        "\n",
        "# Lista para os documentos tratados\n",
        "documentos_tratados = []\n",
        "\n",
        "# Acumula o total de sentenças\n",
        "conta_barra_n = 0\n",
        "conta_virgulas = 0\n",
        "conta_interrogacoes = 0\n",
        "conta_exclamacoes = 0\n",
        "conta_tags = 0\n",
        "conta_espacos = 0\n",
        "\n",
        "logging.info(\"Processando {} documentos.\".format(len(df_documentos_bruto)))\n",
        "\n",
        "# Barra de progresso dos dados\n",
        "dados_bruto_bar = tqdm_notebook(df_documentos_bruto.iterrows(), desc=f\"Dados\", unit=f\"registro\", total=len(df_documentos_bruto))\n",
        "\n",
        "# Percorre os registros dos dados bruto\n",
        "for (i, linha) in dados_bruto_bar:\n",
        "\n",
        "  # Recupera o id documento\n",
        "  id_documento = linha.values[0]\n",
        "\n",
        "  # Recupera o documento\n",
        "  documento = str(linha.values[1])\n",
        "\n",
        "  # Transforma em string e remove os espaços do início e do fim\n",
        "  documento = str(documento).strip()\n",
        "\n",
        "  # Normalização com o ftfy, e conversão de html entities em caracteres acentuados\n",
        "  documento = ftfy.fix_text(documento, fix_entities=True)\n",
        "\n",
        "  # Conta se existe \\n no documento\n",
        "  conta_caracter_barra_n = documento.count(\"\\n\")\n",
        "  if conta_caracter_barra_n > 0:\n",
        "    # Transforma \\n em espaços em branco\n",
        "    documento = documento.replace(\"\\n\",\" \")\n",
        "    conta_barra_n = conta_barra_n + 1\n",
        "\n",
        "  # Conta se existe duas interrogações no documento\n",
        "  conta_caracter_interrogacoes = documento.count(\"??\")\n",
        "  if conta_caracter_interrogacoes > 1:\n",
        "    # Transforma 2 ou mais interrogações consecutivas em 1\n",
        "    documento = re.sub(\"\\?+\", \"?\", documento)\n",
        "    conta_interrogacoes = conta_interrogacoes + 1\n",
        "\n",
        "  # Conta se existe duas exclamações no documento\n",
        "  conta_caracter_exclamacoes = documento.count(\"!!\")\n",
        "  if conta_caracter_exclamacoes > 1:\n",
        "    # Transforma 2 ou mais exclamações consecutivas em 1\n",
        "    documento = re.sub(\"\\!+\", \"!\", documento)\n",
        "    conta_exclamacoes = conta_exclamacoes + 1\n",
        "\n",
        "  # Conta se existe duas vírgulas no documento\n",
        "  conta_caracter_virgulas = documento.count(\",,\")\n",
        "  if conta_caracter_virgulas > 1:\n",
        "    # Transforma 2 ou mais vírgulas consecutivas em 1\n",
        "    documento = re.sub(\"\\,+\", \",\", documento)\n",
        "    conta_virgulas = conta_virgulas + 1\n",
        "\n",
        "  # Conta se existe tag no documento\n",
        "  conta_tag = documento.count(\"<\")\n",
        "  if conta_tag > 0:\n",
        "    # Remove as tags do documento\n",
        "    documento = re.sub(\"<.*?>\", \"\", documento)\n",
        "    conta_tags = conta_tags + 1\n",
        "\n",
        "  # Conta se existe dois caracteres branco\n",
        "  conta_caracter_espacos = documento.count(\"  \")\n",
        "  if conta_caracter_espacos > 0:\n",
        "    # Transforma 2 ou mais espaços consecutivos em 1\n",
        "    documento = re.sub(\"\\ +\", \" \", documento)\n",
        "    conta_espacos = conta_espacos + 1\n",
        "\n",
        "  # >>> Outras operações de limpeza vão aqui! <<<\n",
        "\n",
        "  # Guarda o id e o texto do documento tratado\n",
        "  documentos_tratados.append([id_documento, documento])"
      ]
    },
    {
      "cell_type": "code",
      "execution_count": null,
      "metadata": {
        "colab": {
          "base_uri": "https://localhost:8080/"
        },
        "id": "BhAQZitOvdph",
        "outputId": "4178a23e-4092-4e78-9380-a5d6a791608a"
      },
      "outputs": [
        {
          "output_type": "stream",
          "name": "stdout",
          "text": [
            "Total de documentos com \\n                        : 0\n",
            "Total de documentos com 2 ou mais interrogações   : 0\n",
            "Total de documentos com 2 ou mais exclamações     : 0\n",
            "Total de documentos com 2 ou mais vírgulas        : 2\n",
            "Total de documentos com tags                      : 1\n",
            "Total de documentos com 2 ou mais espaços         : 4\n",
            "Total de documentos tratadas                      : 20\n"
          ]
        }
      ],
      "source": [
        "print(\"Total de documentos com \\\\n                        :\", conta_barra_n)\n",
        "print(\"Total de documentos com 2 ou mais interrogações   :\", conta_interrogacoes)\n",
        "print(\"Total de documentos com 2 ou mais exclamações     :\", conta_exclamacoes)\n",
        "print(\"Total de documentos com 2 ou mais vírgulas        :\", conta_virgulas)\n",
        "print(\"Total de documentos com tags                      :\", conta_tags)\n",
        "print(\"Total de documentos com 2 ou mais espaços         :\", conta_espacos)\n",
        "print(\"Total de documentos tratadas                      :\", len(documentos_tratados))"
      ]
    },
    {
      "cell_type": "markdown",
      "metadata": {
        "id": "EyduRNgHVn2O"
      },
      "source": [
        "Converte a lista em um pandas dataframe."
      ]
    },
    {
      "cell_type": "code",
      "execution_count": null,
      "metadata": {
        "colab": {
          "base_uri": "https://localhost:8080/",
          "height": 380
        },
        "id": "cH2fk0oGhi_S",
        "outputId": "2559222e-0ded-4f0a-85bb-a03a6055aea9"
      },
      "outputs": [
        {
          "output_type": "stream",
          "name": "stdout",
          "text": [
            "20 linhas carregadas do arquivo\n"
          ]
        },
        {
          "output_type": "execute_result",
          "data": {
            "text/plain": [
              "    id                                          documento\n",
              "14  15  Quase metade dos vôos previstos para decolar n...\n",
              "8    9  Um total de 549 pessoas morreram, 3.043 ficara...\n",
              "12  13  O médico pessoal do argentino Diego Maradona, ...\n",
              "17  18  O Itaú, segundo maior banco privado do País, o...\n",
              "11  12  Um atirador matou ao menos 30 pessoas em dois ...\n",
              "0    1  Depois de 20 dias de tempo seco, voltou a chov...\n",
              "19  20  Dois terremotos atingiram a região de Niigata,...\n",
              "18  19  A ginasta Jade Barbosa, que obteve três medalh...\n",
              "5    6  O superintendente regional da Polícia Federal ...\n",
              "10  11  Nove pessoas morreram, sendo três crianças, e ..."
            ],
            "text/html": [
              "\n",
              "  <div id=\"df-7f130cd2-b0ab-4bf5-907e-ff5462c94852\" class=\"colab-df-container\">\n",
              "    <div>\n",
              "<style scoped>\n",
              "    .dataframe tbody tr th:only-of-type {\n",
              "        vertical-align: middle;\n",
              "    }\n",
              "\n",
              "    .dataframe tbody tr th {\n",
              "        vertical-align: top;\n",
              "    }\n",
              "\n",
              "    .dataframe thead th {\n",
              "        text-align: right;\n",
              "    }\n",
              "</style>\n",
              "<table border=\"1\" class=\"dataframe\">\n",
              "  <thead>\n",
              "    <tr style=\"text-align: right;\">\n",
              "      <th></th>\n",
              "      <th>id</th>\n",
              "      <th>documento</th>\n",
              "    </tr>\n",
              "  </thead>\n",
              "  <tbody>\n",
              "    <tr>\n",
              "      <th>14</th>\n",
              "      <td>15</td>\n",
              "      <td>Quase metade dos vôos previstos para decolar n...</td>\n",
              "    </tr>\n",
              "    <tr>\n",
              "      <th>8</th>\n",
              "      <td>9</td>\n",
              "      <td>Um total de 549 pessoas morreram, 3.043 ficara...</td>\n",
              "    </tr>\n",
              "    <tr>\n",
              "      <th>12</th>\n",
              "      <td>13</td>\n",
              "      <td>O médico pessoal do argentino Diego Maradona, ...</td>\n",
              "    </tr>\n",
              "    <tr>\n",
              "      <th>17</th>\n",
              "      <td>18</td>\n",
              "      <td>O Itaú, segundo maior banco privado do País, o...</td>\n",
              "    </tr>\n",
              "    <tr>\n",
              "      <th>11</th>\n",
              "      <td>12</td>\n",
              "      <td>Um atirador matou ao menos 30 pessoas em dois ...</td>\n",
              "    </tr>\n",
              "    <tr>\n",
              "      <th>0</th>\n",
              "      <td>1</td>\n",
              "      <td>Depois de 20 dias de tempo seco, voltou a chov...</td>\n",
              "    </tr>\n",
              "    <tr>\n",
              "      <th>19</th>\n",
              "      <td>20</td>\n",
              "      <td>Dois terremotos atingiram a região de Niigata,...</td>\n",
              "    </tr>\n",
              "    <tr>\n",
              "      <th>18</th>\n",
              "      <td>19</td>\n",
              "      <td>A ginasta Jade Barbosa, que obteve três medalh...</td>\n",
              "    </tr>\n",
              "    <tr>\n",
              "      <th>5</th>\n",
              "      <td>6</td>\n",
              "      <td>O superintendente regional da Polícia Federal ...</td>\n",
              "    </tr>\n",
              "    <tr>\n",
              "      <th>10</th>\n",
              "      <td>11</td>\n",
              "      <td>Nove pessoas morreram, sendo três crianças, e ...</td>\n",
              "    </tr>\n",
              "  </tbody>\n",
              "</table>\n",
              "</div>\n",
              "    <div class=\"colab-df-buttons\">\n",
              "\n",
              "  <div class=\"colab-df-container\">\n",
              "    <button class=\"colab-df-convert\" onclick=\"convertToInteractive('df-7f130cd2-b0ab-4bf5-907e-ff5462c94852')\"\n",
              "            title=\"Convert this dataframe to an interactive table.\"\n",
              "            style=\"display:none;\">\n",
              "\n",
              "  <svg xmlns=\"http://www.w3.org/2000/svg\" height=\"24px\" viewBox=\"0 -960 960 960\">\n",
              "    <path d=\"M120-120v-720h720v720H120Zm60-500h600v-160H180v160Zm220 220h160v-160H400v160Zm0 220h160v-160H400v160ZM180-400h160v-160H180v160Zm440 0h160v-160H620v160ZM180-180h160v-160H180v160Zm440 0h160v-160H620v160Z\"/>\n",
              "  </svg>\n",
              "    </button>\n",
              "\n",
              "  <style>\n",
              "    .colab-df-container {\n",
              "      display:flex;\n",
              "      gap: 12px;\n",
              "    }\n",
              "\n",
              "    .colab-df-convert {\n",
              "      background-color: #E8F0FE;\n",
              "      border: none;\n",
              "      border-radius: 50%;\n",
              "      cursor: pointer;\n",
              "      display: none;\n",
              "      fill: #1967D2;\n",
              "      height: 32px;\n",
              "      padding: 0 0 0 0;\n",
              "      width: 32px;\n",
              "    }\n",
              "\n",
              "    .colab-df-convert:hover {\n",
              "      background-color: #E2EBFA;\n",
              "      box-shadow: 0px 1px 2px rgba(60, 64, 67, 0.3), 0px 1px 3px 1px rgba(60, 64, 67, 0.15);\n",
              "      fill: #174EA6;\n",
              "    }\n",
              "\n",
              "    .colab-df-buttons div {\n",
              "      margin-bottom: 4px;\n",
              "    }\n",
              "\n",
              "    [theme=dark] .colab-df-convert {\n",
              "      background-color: #3B4455;\n",
              "      fill: #D2E3FC;\n",
              "    }\n",
              "\n",
              "    [theme=dark] .colab-df-convert:hover {\n",
              "      background-color: #434B5C;\n",
              "      box-shadow: 0px 1px 3px 1px rgba(0, 0, 0, 0.15);\n",
              "      filter: drop-shadow(0px 1px 2px rgba(0, 0, 0, 0.3));\n",
              "      fill: #FFFFFF;\n",
              "    }\n",
              "  </style>\n",
              "\n",
              "    <script>\n",
              "      const buttonEl =\n",
              "        document.querySelector('#df-7f130cd2-b0ab-4bf5-907e-ff5462c94852 button.colab-df-convert');\n",
              "      buttonEl.style.display =\n",
              "        google.colab.kernel.accessAllowed ? 'block' : 'none';\n",
              "\n",
              "      async function convertToInteractive(key) {\n",
              "        const element = document.querySelector('#df-7f130cd2-b0ab-4bf5-907e-ff5462c94852');\n",
              "        const dataTable =\n",
              "          await google.colab.kernel.invokeFunction('convertToInteractive',\n",
              "                                                    [key], {});\n",
              "        if (!dataTable) return;\n",
              "\n",
              "        const docLinkHtml = 'Like what you see? Visit the ' +\n",
              "          '<a target=\"_blank\" href=https://colab.research.google.com/notebooks/data_table.ipynb>data table notebook</a>'\n",
              "          + ' to learn more about interactive tables.';\n",
              "        element.innerHTML = '';\n",
              "        dataTable['output_type'] = 'display_data';\n",
              "        await google.colab.output.renderOutput(dataTable, element);\n",
              "        const docLink = document.createElement('div');\n",
              "        docLink.innerHTML = docLinkHtml;\n",
              "        element.appendChild(docLink);\n",
              "      }\n",
              "    </script>\n",
              "  </div>\n",
              "\n",
              "\n",
              "<div id=\"df-30ec7496-1427-4aa3-8d95-fba2c87bca02\">\n",
              "  <button class=\"colab-df-quickchart\" onclick=\"quickchart('df-30ec7496-1427-4aa3-8d95-fba2c87bca02')\"\n",
              "            title=\"Suggest charts\"\n",
              "            style=\"display:none;\">\n",
              "\n",
              "<svg xmlns=\"http://www.w3.org/2000/svg\" height=\"24px\"viewBox=\"0 0 24 24\"\n",
              "     width=\"24px\">\n",
              "    <g>\n",
              "        <path d=\"M19 3H5c-1.1 0-2 .9-2 2v14c0 1.1.9 2 2 2h14c1.1 0 2-.9 2-2V5c0-1.1-.9-2-2-2zM9 17H7v-7h2v7zm4 0h-2V7h2v10zm4 0h-2v-4h2v4z\"/>\n",
              "    </g>\n",
              "</svg>\n",
              "  </button>\n",
              "\n",
              "<style>\n",
              "  .colab-df-quickchart {\n",
              "      --bg-color: #E8F0FE;\n",
              "      --fill-color: #1967D2;\n",
              "      --hover-bg-color: #E2EBFA;\n",
              "      --hover-fill-color: #174EA6;\n",
              "      --disabled-fill-color: #AAA;\n",
              "      --disabled-bg-color: #DDD;\n",
              "  }\n",
              "\n",
              "  [theme=dark] .colab-df-quickchart {\n",
              "      --bg-color: #3B4455;\n",
              "      --fill-color: #D2E3FC;\n",
              "      --hover-bg-color: #434B5C;\n",
              "      --hover-fill-color: #FFFFFF;\n",
              "      --disabled-bg-color: #3B4455;\n",
              "      --disabled-fill-color: #666;\n",
              "  }\n",
              "\n",
              "  .colab-df-quickchart {\n",
              "    background-color: var(--bg-color);\n",
              "    border: none;\n",
              "    border-radius: 50%;\n",
              "    cursor: pointer;\n",
              "    display: none;\n",
              "    fill: var(--fill-color);\n",
              "    height: 32px;\n",
              "    padding: 0;\n",
              "    width: 32px;\n",
              "  }\n",
              "\n",
              "  .colab-df-quickchart:hover {\n",
              "    background-color: var(--hover-bg-color);\n",
              "    box-shadow: 0 1px 2px rgba(60, 64, 67, 0.3), 0 1px 3px 1px rgba(60, 64, 67, 0.15);\n",
              "    fill: var(--button-hover-fill-color);\n",
              "  }\n",
              "\n",
              "  .colab-df-quickchart-complete:disabled,\n",
              "  .colab-df-quickchart-complete:disabled:hover {\n",
              "    background-color: var(--disabled-bg-color);\n",
              "    fill: var(--disabled-fill-color);\n",
              "    box-shadow: none;\n",
              "  }\n",
              "\n",
              "  .colab-df-spinner {\n",
              "    border: 2px solid var(--fill-color);\n",
              "    border-color: transparent;\n",
              "    border-bottom-color: var(--fill-color);\n",
              "    animation:\n",
              "      spin 1s steps(1) infinite;\n",
              "  }\n",
              "\n",
              "  @keyframes spin {\n",
              "    0% {\n",
              "      border-color: transparent;\n",
              "      border-bottom-color: var(--fill-color);\n",
              "      border-left-color: var(--fill-color);\n",
              "    }\n",
              "    20% {\n",
              "      border-color: transparent;\n",
              "      border-left-color: var(--fill-color);\n",
              "      border-top-color: var(--fill-color);\n",
              "    }\n",
              "    30% {\n",
              "      border-color: transparent;\n",
              "      border-left-color: var(--fill-color);\n",
              "      border-top-color: var(--fill-color);\n",
              "      border-right-color: var(--fill-color);\n",
              "    }\n",
              "    40% {\n",
              "      border-color: transparent;\n",
              "      border-right-color: var(--fill-color);\n",
              "      border-top-color: var(--fill-color);\n",
              "    }\n",
              "    60% {\n",
              "      border-color: transparent;\n",
              "      border-right-color: var(--fill-color);\n",
              "    }\n",
              "    80% {\n",
              "      border-color: transparent;\n",
              "      border-right-color: var(--fill-color);\n",
              "      border-bottom-color: var(--fill-color);\n",
              "    }\n",
              "    90% {\n",
              "      border-color: transparent;\n",
              "      border-bottom-color: var(--fill-color);\n",
              "    }\n",
              "  }\n",
              "</style>\n",
              "\n",
              "  <script>\n",
              "    async function quickchart(key) {\n",
              "      const quickchartButtonEl =\n",
              "        document.querySelector('#' + key + ' button');\n",
              "      quickchartButtonEl.disabled = true;  // To prevent multiple clicks.\n",
              "      quickchartButtonEl.classList.add('colab-df-spinner');\n",
              "      try {\n",
              "        const charts = await google.colab.kernel.invokeFunction(\n",
              "            'suggestCharts', [key], {});\n",
              "      } catch (error) {\n",
              "        console.error('Error during call to suggestCharts:', error);\n",
              "      }\n",
              "      quickchartButtonEl.classList.remove('colab-df-spinner');\n",
              "      quickchartButtonEl.classList.add('colab-df-quickchart-complete');\n",
              "    }\n",
              "    (() => {\n",
              "      let quickchartButtonEl =\n",
              "        document.querySelector('#df-30ec7496-1427-4aa3-8d95-fba2c87bca02 button');\n",
              "      quickchartButtonEl.style.display =\n",
              "        google.colab.kernel.accessAllowed ? 'block' : 'none';\n",
              "    })();\n",
              "  </script>\n",
              "</div>\n",
              "    </div>\n",
              "  </div>\n"
            ]
          },
          "metadata": {},
          "execution_count": 30
        }
      ],
      "source": [
        "# Import das bibliotecas.\n",
        "import pandas as pd\n",
        "\n",
        "# Cria o dataframe da lista\n",
        "df_documentos_tratados = pd.DataFrame(documentos_tratados, columns = [\"id\", \"documento\"])\n",
        "\n",
        "#Mostra o número de documentos carregados\n",
        "print(\"%d linhas carregadas do arquivo\" % (len(df_documentos_tratados)))\n",
        "\n",
        "# Mostra 10 linhas aleatórias dos dados\n",
        "df_documentos_tratados.sample(10)"
      ]
    },
    {
      "cell_type": "markdown",
      "metadata": {
        "id": "_U5iUcW7TXqS"
      },
      "source": [
        "### 4.2.2 Segmentação do documento\n",
        "\n",
        "Utiliza o spaCy para realizar a segmentação em sentenças do documento texto."
      ]
    },
    {
      "cell_type": "code",
      "execution_count": null,
      "metadata": {
        "colab": {
          "base_uri": "https://localhost:8080/",
          "height": 84,
          "referenced_widgets": [
            "de04cdafce054fa6841f6628c17cc668",
            "8d493cda50a540bebf78d3af6804433f",
            "8a6de854eab24cd087db04f01e1b5f19",
            "cedaae8389ca4c98a192ec533156c7cd",
            "4d1cf61e46514bc0b4d8fdc914ab64cd",
            "f462f5fe773d40cf86559b9767f7923b",
            "6572d556f19948559130e8db0729280f",
            "71f64a23b7ee4e88bb5e22cc49e2be94",
            "1fbe23e277e34de184c706d2a9b04fc0",
            "dd0755a995fd439d9d6cc8f39a85e823",
            "2884be76276d4601b01d7596e694f79f"
          ]
        },
        "id": "wehxm__rTXyh",
        "outputId": "103045af-bfe8-4d21-a2c8-b43b7c5a565b"
      },
      "outputs": [
        {
          "output_type": "stream",
          "name": "stderr",
          "text": [
            "INFO:root:Processando 20 documentos.\n"
          ]
        },
        {
          "output_type": "stream",
          "name": "stdout",
          "text": [
            "Processando 20 documentos tratados\n"
          ]
        },
        {
          "output_type": "display_data",
          "data": {
            "text/plain": [
              "Dados:   0%|          | 0/20 [00:00<?, ?registro/s]"
            ],
            "application/vnd.jupyter.widget-view+json": {
              "version_major": 2,
              "version_minor": 0,
              "model_id": "de04cdafce054fa6841f6628c17cc668"
            }
          },
          "metadata": {}
        }
      ],
      "source": [
        "# Import das bibliotecas.\n",
        "import os # Biblioteca para acessar o sistema de arquivos\n",
        "from tqdm.notebook import tqdm as tqdm_notebook # Biblioteca para barra de progresso\n",
        "\n",
        "print(\"Processando\",len(df_documentos_tratados),\"documentos tratados\")\n",
        "\n",
        "# Sentenças por documento\n",
        "lista_documentos_sentenciados = []\n",
        "total_sentencas_documento = 0\n",
        "\n",
        "logging.info(\"Processando {} documentos.\".format(len(df_documentos_tratados)))\n",
        "\n",
        "# Barra de progresso dos dados\n",
        "dados_bar = tqdm_notebook(df_documentos_tratados.iterrows(), desc=f\"Dados\", unit=f\"registro\", total=len(df_documentos_tratados))\n",
        "\n",
        "# Percorre os registros dos documento\n",
        "for i, linha_documento in dados_bar:\n",
        "\n",
        "  # Recupera o documento\n",
        "  documento = str(linha_documento.values[1])\n",
        "\n",
        "  # Aplica sentenciação do spacy no documento\n",
        "  doc = nlp(documento)\n",
        "\n",
        "  # Sequência das sentenças no documento\n",
        "  sequencia = 1\n",
        "  sentencas = []\n",
        "\n",
        "  # Percorre as sentenças do documento\n",
        "  for sentenca in doc.sents:\n",
        "\n",
        "      # Conta as sentenças do documento\n",
        "      total_sentencas_documento = total_sentencas_documento + 1\n",
        "\n",
        "      # Transforma em string e remove os espaços do início e do fim\n",
        "      sentenca1 = str(sentenca).strip()\n",
        "\n",
        "      # Adiciona a sentença tratada na lista\n",
        "      sentencas.append(str(sentenca1))\n",
        "\n",
        "      # Incrementa a sequência da sentença no documento\n",
        "      sequencia = sequencia + 1\n",
        "\n",
        "  if model_args.sentenciar_documento == True:\n",
        "    # Adiciona o documento na lista com a sentenciação\n",
        "    lista_documentos_sentenciados.append([linha_documento[0], sentencas, str(linha_documento[1])])\n",
        "  else:\n",
        "    # Adiciona o documento na lista sem a sentenciação\n",
        "    # A lista de sentenças é formado por um único texto, o próprio documento.\n",
        "    lista_documentos_sentenciados.append([linha_documento[0], [str(linha_documento[1])], str(linha_documento[1])])\n"
      ]
    },
    {
      "cell_type": "code",
      "execution_count": null,
      "metadata": {
        "colab": {
          "base_uri": "https://localhost:8080/"
        },
        "id": "tWXgiU9nW82Z",
        "outputId": "9bcdb36b-8d09-4829-c8f9-ced5c4d67830"
      },
      "outputs": [
        {
          "output_type": "stream",
          "name": "stdout",
          "text": [
            "Total de documentos processados                                                : 20\n",
            "Total sentenças nos documentos usando spaCy                                    : 100\n"
          ]
        }
      ],
      "source": [
        "print(\"Total de documentos processados                                                :\", len(lista_documentos_sentenciados))\n",
        "print(\"Total sentenças nos documentos usando spaCy                                    :\", total_sentencas_documento)"
      ]
    },
    {
      "cell_type": "markdown",
      "metadata": {
        "id": "qdZKVW2FdKYu"
      },
      "source": [
        "## 4.3 Salva os dados processados\n",
        "\n",
        "Gera o arquivo com os dados segmentados e limpos e depois compacta o arquivo para enviar para o Google Drive."
      ]
    },
    {
      "cell_type": "markdown",
      "metadata": {
        "id": "_wTNIiyE1mIl"
      },
      "source": [
        "### 4.3.1 Especifica os nomes dos arquivos do dataset\n",
        "\n"
      ]
    },
    {
      "cell_type": "code",
      "execution_count": null,
      "metadata": {
        "id": "bNgwJRC2uGJb"
      },
      "outputs": [],
      "source": [
        "# Nome do arquivo\n",
        "NOME_ARQUIVO_DATASET = \"dataset.csv\"\n",
        "NOME_ARQUIVO_DATASET_COMPACTADO = \"dataset.zip\""
      ]
    },
    {
      "cell_type": "markdown",
      "metadata": {
        "id": "QtEZ6WGQncTj"
      },
      "source": [
        "### 4.3.2 Cria o arquivo do dataset"
      ]
    },
    {
      "cell_type": "code",
      "execution_count": null,
      "metadata": {
        "id": "a9RmJUlp17VO"
      },
      "outputs": [],
      "source": [
        "# Import das bibliotecas.\n",
        "import pandas as pd\n",
        "\n",
        "# Cria o dataframe da lista\n",
        "df_lista_documentos_sentenciados = pd.DataFrame(lista_documentos_sentenciados, columns = [\"id\",\"sentencas\",\"documento\"])\n",
        "\n",
        "df_lista_documentos_sentenciados.to_csv(DIRETORIO_LOCAL + NOME_ARQUIVO_DATASET, sep=\";\", index=False)"
      ]
    },
    {
      "cell_type": "code",
      "execution_count": null,
      "metadata": {
        "colab": {
          "base_uri": "https://localhost:8080/"
        },
        "id": "VJwgPw9ad-mN",
        "outputId": "d31ec746-b6e4-49c7-8e72-41c49294ccdb"
      },
      "outputs": [
        {
          "output_type": "stream",
          "name": "stdout",
          "text": [
            "20\n"
          ]
        }
      ],
      "source": [
        "print(len(df_lista_documentos_sentenciados))"
      ]
    },
    {
      "cell_type": "code",
      "execution_count": null,
      "metadata": {
        "colab": {
          "base_uri": "https://localhost:8080/",
          "height": 206
        },
        "id": "NWXOQ2CM6aJV",
        "outputId": "ca556b93-a212-4cb2-d824-da44aa15e644"
      },
      "outputs": [
        {
          "output_type": "execute_result",
          "data": {
            "text/plain": [
              "    id                                          sentencas  \\\n",
              "19  20  [Dois terremotos atingiram a região de Niigata...   \n",
              "6    7  [A aviação israelense atacou 150 alvos na madr...   \n",
              "14  15  [Quase metade dos vôos previstos para decolar ...   \n",
              "1    2  [Ao menos 17 pessoas morreram após a queda de ...   \n",
              "4    5  [A seleção brasileira masculina de vôlei, que ...   \n",
              "\n",
              "                                            documento  \n",
              "19  Dois terremotos atingiram a região de Niigata,...  \n",
              "6   A aviação israelense atacou 150 alvos na madru...  \n",
              "14  Quase metade dos vôos previstos para decolar n...  \n",
              "1   Ao menos 17 pessoas morreram após a queda de u...  \n",
              "4   A seleção brasileira masculina de vôlei, que é...  "
            ],
            "text/html": [
              "\n",
              "  <div id=\"df-a6342e5b-ec83-4dbe-a276-de92e2f6a432\" class=\"colab-df-container\">\n",
              "    <div>\n",
              "<style scoped>\n",
              "    .dataframe tbody tr th:only-of-type {\n",
              "        vertical-align: middle;\n",
              "    }\n",
              "\n",
              "    .dataframe tbody tr th {\n",
              "        vertical-align: top;\n",
              "    }\n",
              "\n",
              "    .dataframe thead th {\n",
              "        text-align: right;\n",
              "    }\n",
              "</style>\n",
              "<table border=\"1\" class=\"dataframe\">\n",
              "  <thead>\n",
              "    <tr style=\"text-align: right;\">\n",
              "      <th></th>\n",
              "      <th>id</th>\n",
              "      <th>sentencas</th>\n",
              "      <th>documento</th>\n",
              "    </tr>\n",
              "  </thead>\n",
              "  <tbody>\n",
              "    <tr>\n",
              "      <th>19</th>\n",
              "      <td>20</td>\n",
              "      <td>[Dois terremotos atingiram a região de Niigata...</td>\n",
              "      <td>Dois terremotos atingiram a região de Niigata,...</td>\n",
              "    </tr>\n",
              "    <tr>\n",
              "      <th>6</th>\n",
              "      <td>7</td>\n",
              "      <td>[A aviação israelense atacou 150 alvos na madr...</td>\n",
              "      <td>A aviação israelense atacou 150 alvos na madru...</td>\n",
              "    </tr>\n",
              "    <tr>\n",
              "      <th>14</th>\n",
              "      <td>15</td>\n",
              "      <td>[Quase metade dos vôos previstos para decolar ...</td>\n",
              "      <td>Quase metade dos vôos previstos para decolar n...</td>\n",
              "    </tr>\n",
              "    <tr>\n",
              "      <th>1</th>\n",
              "      <td>2</td>\n",
              "      <td>[Ao menos 17 pessoas morreram após a queda de ...</td>\n",
              "      <td>Ao menos 17 pessoas morreram após a queda de u...</td>\n",
              "    </tr>\n",
              "    <tr>\n",
              "      <th>4</th>\n",
              "      <td>5</td>\n",
              "      <td>[A seleção brasileira masculina de vôlei, que ...</td>\n",
              "      <td>A seleção brasileira masculina de vôlei, que é...</td>\n",
              "    </tr>\n",
              "  </tbody>\n",
              "</table>\n",
              "</div>\n",
              "    <div class=\"colab-df-buttons\">\n",
              "\n",
              "  <div class=\"colab-df-container\">\n",
              "    <button class=\"colab-df-convert\" onclick=\"convertToInteractive('df-a6342e5b-ec83-4dbe-a276-de92e2f6a432')\"\n",
              "            title=\"Convert this dataframe to an interactive table.\"\n",
              "            style=\"display:none;\">\n",
              "\n",
              "  <svg xmlns=\"http://www.w3.org/2000/svg\" height=\"24px\" viewBox=\"0 -960 960 960\">\n",
              "    <path d=\"M120-120v-720h720v720H120Zm60-500h600v-160H180v160Zm220 220h160v-160H400v160Zm0 220h160v-160H400v160ZM180-400h160v-160H180v160Zm440 0h160v-160H620v160ZM180-180h160v-160H180v160Zm440 0h160v-160H620v160Z\"/>\n",
              "  </svg>\n",
              "    </button>\n",
              "\n",
              "  <style>\n",
              "    .colab-df-container {\n",
              "      display:flex;\n",
              "      gap: 12px;\n",
              "    }\n",
              "\n",
              "    .colab-df-convert {\n",
              "      background-color: #E8F0FE;\n",
              "      border: none;\n",
              "      border-radius: 50%;\n",
              "      cursor: pointer;\n",
              "      display: none;\n",
              "      fill: #1967D2;\n",
              "      height: 32px;\n",
              "      padding: 0 0 0 0;\n",
              "      width: 32px;\n",
              "    }\n",
              "\n",
              "    .colab-df-convert:hover {\n",
              "      background-color: #E2EBFA;\n",
              "      box-shadow: 0px 1px 2px rgba(60, 64, 67, 0.3), 0px 1px 3px 1px rgba(60, 64, 67, 0.15);\n",
              "      fill: #174EA6;\n",
              "    }\n",
              "\n",
              "    .colab-df-buttons div {\n",
              "      margin-bottom: 4px;\n",
              "    }\n",
              "\n",
              "    [theme=dark] .colab-df-convert {\n",
              "      background-color: #3B4455;\n",
              "      fill: #D2E3FC;\n",
              "    }\n",
              "\n",
              "    [theme=dark] .colab-df-convert:hover {\n",
              "      background-color: #434B5C;\n",
              "      box-shadow: 0px 1px 3px 1px rgba(0, 0, 0, 0.15);\n",
              "      filter: drop-shadow(0px 1px 2px rgba(0, 0, 0, 0.3));\n",
              "      fill: #FFFFFF;\n",
              "    }\n",
              "  </style>\n",
              "\n",
              "    <script>\n",
              "      const buttonEl =\n",
              "        document.querySelector('#df-a6342e5b-ec83-4dbe-a276-de92e2f6a432 button.colab-df-convert');\n",
              "      buttonEl.style.display =\n",
              "        google.colab.kernel.accessAllowed ? 'block' : 'none';\n",
              "\n",
              "      async function convertToInteractive(key) {\n",
              "        const element = document.querySelector('#df-a6342e5b-ec83-4dbe-a276-de92e2f6a432');\n",
              "        const dataTable =\n",
              "          await google.colab.kernel.invokeFunction('convertToInteractive',\n",
              "                                                    [key], {});\n",
              "        if (!dataTable) return;\n",
              "\n",
              "        const docLinkHtml = 'Like what you see? Visit the ' +\n",
              "          '<a target=\"_blank\" href=https://colab.research.google.com/notebooks/data_table.ipynb>data table notebook</a>'\n",
              "          + ' to learn more about interactive tables.';\n",
              "        element.innerHTML = '';\n",
              "        dataTable['output_type'] = 'display_data';\n",
              "        await google.colab.output.renderOutput(dataTable, element);\n",
              "        const docLink = document.createElement('div');\n",
              "        docLink.innerHTML = docLinkHtml;\n",
              "        element.appendChild(docLink);\n",
              "      }\n",
              "    </script>\n",
              "  </div>\n",
              "\n",
              "\n",
              "<div id=\"df-43c24640-3429-4d45-9cad-8b2984451a32\">\n",
              "  <button class=\"colab-df-quickchart\" onclick=\"quickchart('df-43c24640-3429-4d45-9cad-8b2984451a32')\"\n",
              "            title=\"Suggest charts\"\n",
              "            style=\"display:none;\">\n",
              "\n",
              "<svg xmlns=\"http://www.w3.org/2000/svg\" height=\"24px\"viewBox=\"0 0 24 24\"\n",
              "     width=\"24px\">\n",
              "    <g>\n",
              "        <path d=\"M19 3H5c-1.1 0-2 .9-2 2v14c0 1.1.9 2 2 2h14c1.1 0 2-.9 2-2V5c0-1.1-.9-2-2-2zM9 17H7v-7h2v7zm4 0h-2V7h2v10zm4 0h-2v-4h2v4z\"/>\n",
              "    </g>\n",
              "</svg>\n",
              "  </button>\n",
              "\n",
              "<style>\n",
              "  .colab-df-quickchart {\n",
              "      --bg-color: #E8F0FE;\n",
              "      --fill-color: #1967D2;\n",
              "      --hover-bg-color: #E2EBFA;\n",
              "      --hover-fill-color: #174EA6;\n",
              "      --disabled-fill-color: #AAA;\n",
              "      --disabled-bg-color: #DDD;\n",
              "  }\n",
              "\n",
              "  [theme=dark] .colab-df-quickchart {\n",
              "      --bg-color: #3B4455;\n",
              "      --fill-color: #D2E3FC;\n",
              "      --hover-bg-color: #434B5C;\n",
              "      --hover-fill-color: #FFFFFF;\n",
              "      --disabled-bg-color: #3B4455;\n",
              "      --disabled-fill-color: #666;\n",
              "  }\n",
              "\n",
              "  .colab-df-quickchart {\n",
              "    background-color: var(--bg-color);\n",
              "    border: none;\n",
              "    border-radius: 50%;\n",
              "    cursor: pointer;\n",
              "    display: none;\n",
              "    fill: var(--fill-color);\n",
              "    height: 32px;\n",
              "    padding: 0;\n",
              "    width: 32px;\n",
              "  }\n",
              "\n",
              "  .colab-df-quickchart:hover {\n",
              "    background-color: var(--hover-bg-color);\n",
              "    box-shadow: 0 1px 2px rgba(60, 64, 67, 0.3), 0 1px 3px 1px rgba(60, 64, 67, 0.15);\n",
              "    fill: var(--button-hover-fill-color);\n",
              "  }\n",
              "\n",
              "  .colab-df-quickchart-complete:disabled,\n",
              "  .colab-df-quickchart-complete:disabled:hover {\n",
              "    background-color: var(--disabled-bg-color);\n",
              "    fill: var(--disabled-fill-color);\n",
              "    box-shadow: none;\n",
              "  }\n",
              "\n",
              "  .colab-df-spinner {\n",
              "    border: 2px solid var(--fill-color);\n",
              "    border-color: transparent;\n",
              "    border-bottom-color: var(--fill-color);\n",
              "    animation:\n",
              "      spin 1s steps(1) infinite;\n",
              "  }\n",
              "\n",
              "  @keyframes spin {\n",
              "    0% {\n",
              "      border-color: transparent;\n",
              "      border-bottom-color: var(--fill-color);\n",
              "      border-left-color: var(--fill-color);\n",
              "    }\n",
              "    20% {\n",
              "      border-color: transparent;\n",
              "      border-left-color: var(--fill-color);\n",
              "      border-top-color: var(--fill-color);\n",
              "    }\n",
              "    30% {\n",
              "      border-color: transparent;\n",
              "      border-left-color: var(--fill-color);\n",
              "      border-top-color: var(--fill-color);\n",
              "      border-right-color: var(--fill-color);\n",
              "    }\n",
              "    40% {\n",
              "      border-color: transparent;\n",
              "      border-right-color: var(--fill-color);\n",
              "      border-top-color: var(--fill-color);\n",
              "    }\n",
              "    60% {\n",
              "      border-color: transparent;\n",
              "      border-right-color: var(--fill-color);\n",
              "    }\n",
              "    80% {\n",
              "      border-color: transparent;\n",
              "      border-right-color: var(--fill-color);\n",
              "      border-bottom-color: var(--fill-color);\n",
              "    }\n",
              "    90% {\n",
              "      border-color: transparent;\n",
              "      border-bottom-color: var(--fill-color);\n",
              "    }\n",
              "  }\n",
              "</style>\n",
              "\n",
              "  <script>\n",
              "    async function quickchart(key) {\n",
              "      const quickchartButtonEl =\n",
              "        document.querySelector('#' + key + ' button');\n",
              "      quickchartButtonEl.disabled = true;  // To prevent multiple clicks.\n",
              "      quickchartButtonEl.classList.add('colab-df-spinner');\n",
              "      try {\n",
              "        const charts = await google.colab.kernel.invokeFunction(\n",
              "            'suggestCharts', [key], {});\n",
              "      } catch (error) {\n",
              "        console.error('Error during call to suggestCharts:', error);\n",
              "      }\n",
              "      quickchartButtonEl.classList.remove('colab-df-spinner');\n",
              "      quickchartButtonEl.classList.add('colab-df-quickchart-complete');\n",
              "    }\n",
              "    (() => {\n",
              "      let quickchartButtonEl =\n",
              "        document.querySelector('#df-43c24640-3429-4d45-9cad-8b2984451a32 button');\n",
              "      quickchartButtonEl.style.display =\n",
              "        google.colab.kernel.accessAllowed ? 'block' : 'none';\n",
              "    })();\n",
              "  </script>\n",
              "</div>\n",
              "    </div>\n",
              "  </div>\n"
            ]
          },
          "metadata": {},
          "execution_count": 36
        }
      ],
      "source": [
        "df_lista_documentos_sentenciados.sample(5)"
      ]
    },
    {
      "cell_type": "markdown",
      "metadata": {
        "id": "t56ovS3Kt-W0"
      },
      "source": [
        "### 4.3.3 Compacta e copia o dataset para uma pasta do GoogleDrive"
      ]
    },
    {
      "cell_type": "markdown",
      "metadata": {
        "id": "5vZq_1sEtsB0"
      },
      "source": [
        "Compacta os arquivos.\n",
        "\n",
        "Usa o zip para compactar:\n",
        "*   `-o` sobrescreve o arquivo se existir\n",
        "*   `-j` Não cria nenhum diretório\n",
        "*   `-q` Desliga as mensagens\n"
      ]
    },
    {
      "cell_type": "code",
      "execution_count": null,
      "metadata": {
        "id": "NunMOJWR2O8H"
      },
      "outputs": [],
      "source": [
        "# Se estiver executando no Google Colaboratory\n",
        "if IN_COLAB:\n",
        "\n",
        "  !zip -o -q -j \"$DIRETORIO_LOCAL$NOME_ARQUIVO_DATASET_COMPACTADO\" \"$DIRETORIO_LOCAL$NOME_ARQUIVO_DATASET\""
      ]
    },
    {
      "cell_type": "markdown",
      "metadata": {
        "id": "sw3p4ydkt-W-"
      },
      "source": [
        "Copia o arquivo compactado para o GoogleDrive\n",
        "\n"
      ]
    },
    {
      "cell_type": "code",
      "execution_count": null,
      "metadata": {
        "colab": {
          "base_uri": "https://localhost:8080/"
        },
        "id": "y5c8sv10t-W_",
        "outputId": "6c6c1262-3f6c-4ecb-e389-0466e7ed1132"
      },
      "outputs": [
        {
          "output_type": "stream",
          "name": "stderr",
          "text": [
            "INFO:root:Terminei a cópia\n"
          ]
        }
      ],
      "source": [
        "# Se estiver executando no Google Colaboratory\n",
        "if IN_COLAB:\n",
        "    # Copia o arquivo do dataset\n",
        "    !cp \"$DIRETORIO_LOCAL$NOME_ARQUIVO_DATASET_COMPACTADO\" \"$DIRETORIO_DRIVE\"\n",
        "\n",
        "    logging.info(\"Terminei a cópia\")"
      ]
    },
    {
      "cell_type": "markdown",
      "metadata": {
        "id": "TkncKDN1i7kq"
      },
      "source": [
        "### 4.3.4 Carrega os dados\n",
        "\n",
        "Realiza um teste carregando o arquivo do dataset criado."
      ]
    },
    {
      "cell_type": "code",
      "execution_count": null,
      "metadata": {
        "id": "pTVxFPqg5wY_"
      },
      "outputs": [],
      "source": [
        "# Import das bibliotecas.\n",
        "import pandas as pd\n",
        "\n",
        "# Abre o arquivo e retorna o DataFrame\n",
        "df_dataset = pd.read_csv(DIRETORIO_LOCAL + NOME_ARQUIVO_DATASET, sep=\";\", encoding=\"UTF-8\")"
      ]
    },
    {
      "cell_type": "markdown",
      "metadata": {
        "id": "u7JYj6ZZkIiR"
      },
      "source": [
        "Corrigir o tipo de dados da lista dos documentos\n",
        "\n",
        "Na lista\n",
        "- coluna 1 - `sentenças` carregadas do arquivo vem como string e não como lista."
      ]
    },
    {
      "cell_type": "code",
      "execution_count": null,
      "metadata": {
        "colab": {
          "base_uri": "https://localhost:8080/"
        },
        "id": "aniEg4BVkIiX",
        "outputId": "598bb2b0-5e5a-44fa-c32c-280cb7f160f1"
      },
      "outputs": [
        {
          "output_type": "stream",
          "name": "stderr",
          "text": [
            "INFO:root:TERMINADO CORREÇÃO DOCUMENTOS: 20.\n"
          ]
        }
      ],
      "source": [
        "# Import das bibliotecas.\n",
        "import ast # Biblioteca para conversão de string em lista\n",
        "\n",
        "# Verifica se o tipo da coluna não é list e converte\n",
        "df_dataset[\"sentencas\"] = df_dataset[\"sentencas\"].apply(lambda x: ast.literal_eval(x) if type(x)!=list else x)\n",
        "\n",
        "logging.info(\"TERMINADO CORREÇÃO DOCUMENTOS: {}.\".format(len(df_dataset)))"
      ]
    },
    {
      "cell_type": "code",
      "execution_count": null,
      "metadata": {
        "colab": {
          "base_uri": "https://localhost:8080/",
          "height": 206
        },
        "id": "tlPKkZKz50j2",
        "outputId": "adbd989a-f308-4f95-d228-1e5be8dab9ca"
      },
      "outputs": [
        {
          "output_type": "execute_result",
          "data": {
            "text/plain": [
              "    id                                          sentencas  \\\n",
              "7    8  [A cidade de São Paulo e alguns municípios do ...   \n",
              "17  18  [O Itaú, segundo maior banco privado do País, ...   \n",
              "0    1  [Depois de 20 dias de tempo seco, voltou a cho...   \n",
              "18  19  [A ginasta Jade Barbosa, que obteve três medal...   \n",
              "6    7  [A aviação israelense atacou 150 alvos na madr...   \n",
              "\n",
              "                                            documento  \n",
              "7   A cidade de São Paulo e alguns municípios do i...  \n",
              "17  O Itaú, segundo maior banco privado do País, o...  \n",
              "0   Depois de 20 dias de tempo seco, voltou a chov...  \n",
              "18  A ginasta Jade Barbosa, que obteve três medalh...  \n",
              "6   A aviação israelense atacou 150 alvos na madru...  "
            ],
            "text/html": [
              "\n",
              "  <div id=\"df-0349ea94-8ad1-4a8a-8cdb-5f25530b7029\" class=\"colab-df-container\">\n",
              "    <div>\n",
              "<style scoped>\n",
              "    .dataframe tbody tr th:only-of-type {\n",
              "        vertical-align: middle;\n",
              "    }\n",
              "\n",
              "    .dataframe tbody tr th {\n",
              "        vertical-align: top;\n",
              "    }\n",
              "\n",
              "    .dataframe thead th {\n",
              "        text-align: right;\n",
              "    }\n",
              "</style>\n",
              "<table border=\"1\" class=\"dataframe\">\n",
              "  <thead>\n",
              "    <tr style=\"text-align: right;\">\n",
              "      <th></th>\n",
              "      <th>id</th>\n",
              "      <th>sentencas</th>\n",
              "      <th>documento</th>\n",
              "    </tr>\n",
              "  </thead>\n",
              "  <tbody>\n",
              "    <tr>\n",
              "      <th>7</th>\n",
              "      <td>8</td>\n",
              "      <td>[A cidade de São Paulo e alguns municípios do ...</td>\n",
              "      <td>A cidade de São Paulo e alguns municípios do i...</td>\n",
              "    </tr>\n",
              "    <tr>\n",
              "      <th>17</th>\n",
              "      <td>18</td>\n",
              "      <td>[O Itaú, segundo maior banco privado do País, ...</td>\n",
              "      <td>O Itaú, segundo maior banco privado do País, o...</td>\n",
              "    </tr>\n",
              "    <tr>\n",
              "      <th>0</th>\n",
              "      <td>1</td>\n",
              "      <td>[Depois de 20 dias de tempo seco, voltou a cho...</td>\n",
              "      <td>Depois de 20 dias de tempo seco, voltou a chov...</td>\n",
              "    </tr>\n",
              "    <tr>\n",
              "      <th>18</th>\n",
              "      <td>19</td>\n",
              "      <td>[A ginasta Jade Barbosa, que obteve três medal...</td>\n",
              "      <td>A ginasta Jade Barbosa, que obteve três medalh...</td>\n",
              "    </tr>\n",
              "    <tr>\n",
              "      <th>6</th>\n",
              "      <td>7</td>\n",
              "      <td>[A aviação israelense atacou 150 alvos na madr...</td>\n",
              "      <td>A aviação israelense atacou 150 alvos na madru...</td>\n",
              "    </tr>\n",
              "  </tbody>\n",
              "</table>\n",
              "</div>\n",
              "    <div class=\"colab-df-buttons\">\n",
              "\n",
              "  <div class=\"colab-df-container\">\n",
              "    <button class=\"colab-df-convert\" onclick=\"convertToInteractive('df-0349ea94-8ad1-4a8a-8cdb-5f25530b7029')\"\n",
              "            title=\"Convert this dataframe to an interactive table.\"\n",
              "            style=\"display:none;\">\n",
              "\n",
              "  <svg xmlns=\"http://www.w3.org/2000/svg\" height=\"24px\" viewBox=\"0 -960 960 960\">\n",
              "    <path d=\"M120-120v-720h720v720H120Zm60-500h600v-160H180v160Zm220 220h160v-160H400v160Zm0 220h160v-160H400v160ZM180-400h160v-160H180v160Zm440 0h160v-160H620v160ZM180-180h160v-160H180v160Zm440 0h160v-160H620v160Z\"/>\n",
              "  </svg>\n",
              "    </button>\n",
              "\n",
              "  <style>\n",
              "    .colab-df-container {\n",
              "      display:flex;\n",
              "      gap: 12px;\n",
              "    }\n",
              "\n",
              "    .colab-df-convert {\n",
              "      background-color: #E8F0FE;\n",
              "      border: none;\n",
              "      border-radius: 50%;\n",
              "      cursor: pointer;\n",
              "      display: none;\n",
              "      fill: #1967D2;\n",
              "      height: 32px;\n",
              "      padding: 0 0 0 0;\n",
              "      width: 32px;\n",
              "    }\n",
              "\n",
              "    .colab-df-convert:hover {\n",
              "      background-color: #E2EBFA;\n",
              "      box-shadow: 0px 1px 2px rgba(60, 64, 67, 0.3), 0px 1px 3px 1px rgba(60, 64, 67, 0.15);\n",
              "      fill: #174EA6;\n",
              "    }\n",
              "\n",
              "    .colab-df-buttons div {\n",
              "      margin-bottom: 4px;\n",
              "    }\n",
              "\n",
              "    [theme=dark] .colab-df-convert {\n",
              "      background-color: #3B4455;\n",
              "      fill: #D2E3FC;\n",
              "    }\n",
              "\n",
              "    [theme=dark] .colab-df-convert:hover {\n",
              "      background-color: #434B5C;\n",
              "      box-shadow: 0px 1px 3px 1px rgba(0, 0, 0, 0.15);\n",
              "      filter: drop-shadow(0px 1px 2px rgba(0, 0, 0, 0.3));\n",
              "      fill: #FFFFFF;\n",
              "    }\n",
              "  </style>\n",
              "\n",
              "    <script>\n",
              "      const buttonEl =\n",
              "        document.querySelector('#df-0349ea94-8ad1-4a8a-8cdb-5f25530b7029 button.colab-df-convert');\n",
              "      buttonEl.style.display =\n",
              "        google.colab.kernel.accessAllowed ? 'block' : 'none';\n",
              "\n",
              "      async function convertToInteractive(key) {\n",
              "        const element = document.querySelector('#df-0349ea94-8ad1-4a8a-8cdb-5f25530b7029');\n",
              "        const dataTable =\n",
              "          await google.colab.kernel.invokeFunction('convertToInteractive',\n",
              "                                                    [key], {});\n",
              "        if (!dataTable) return;\n",
              "\n",
              "        const docLinkHtml = 'Like what you see? Visit the ' +\n",
              "          '<a target=\"_blank\" href=https://colab.research.google.com/notebooks/data_table.ipynb>data table notebook</a>'\n",
              "          + ' to learn more about interactive tables.';\n",
              "        element.innerHTML = '';\n",
              "        dataTable['output_type'] = 'display_data';\n",
              "        await google.colab.output.renderOutput(dataTable, element);\n",
              "        const docLink = document.createElement('div');\n",
              "        docLink.innerHTML = docLinkHtml;\n",
              "        element.appendChild(docLink);\n",
              "      }\n",
              "    </script>\n",
              "  </div>\n",
              "\n",
              "\n",
              "<div id=\"df-0164f6a5-9f74-4a57-aa45-c2d958f862dc\">\n",
              "  <button class=\"colab-df-quickchart\" onclick=\"quickchart('df-0164f6a5-9f74-4a57-aa45-c2d958f862dc')\"\n",
              "            title=\"Suggest charts\"\n",
              "            style=\"display:none;\">\n",
              "\n",
              "<svg xmlns=\"http://www.w3.org/2000/svg\" height=\"24px\"viewBox=\"0 0 24 24\"\n",
              "     width=\"24px\">\n",
              "    <g>\n",
              "        <path d=\"M19 3H5c-1.1 0-2 .9-2 2v14c0 1.1.9 2 2 2h14c1.1 0 2-.9 2-2V5c0-1.1-.9-2-2-2zM9 17H7v-7h2v7zm4 0h-2V7h2v10zm4 0h-2v-4h2v4z\"/>\n",
              "    </g>\n",
              "</svg>\n",
              "  </button>\n",
              "\n",
              "<style>\n",
              "  .colab-df-quickchart {\n",
              "      --bg-color: #E8F0FE;\n",
              "      --fill-color: #1967D2;\n",
              "      --hover-bg-color: #E2EBFA;\n",
              "      --hover-fill-color: #174EA6;\n",
              "      --disabled-fill-color: #AAA;\n",
              "      --disabled-bg-color: #DDD;\n",
              "  }\n",
              "\n",
              "  [theme=dark] .colab-df-quickchart {\n",
              "      --bg-color: #3B4455;\n",
              "      --fill-color: #D2E3FC;\n",
              "      --hover-bg-color: #434B5C;\n",
              "      --hover-fill-color: #FFFFFF;\n",
              "      --disabled-bg-color: #3B4455;\n",
              "      --disabled-fill-color: #666;\n",
              "  }\n",
              "\n",
              "  .colab-df-quickchart {\n",
              "    background-color: var(--bg-color);\n",
              "    border: none;\n",
              "    border-radius: 50%;\n",
              "    cursor: pointer;\n",
              "    display: none;\n",
              "    fill: var(--fill-color);\n",
              "    height: 32px;\n",
              "    padding: 0;\n",
              "    width: 32px;\n",
              "  }\n",
              "\n",
              "  .colab-df-quickchart:hover {\n",
              "    background-color: var(--hover-bg-color);\n",
              "    box-shadow: 0 1px 2px rgba(60, 64, 67, 0.3), 0 1px 3px 1px rgba(60, 64, 67, 0.15);\n",
              "    fill: var(--button-hover-fill-color);\n",
              "  }\n",
              "\n",
              "  .colab-df-quickchart-complete:disabled,\n",
              "  .colab-df-quickchart-complete:disabled:hover {\n",
              "    background-color: var(--disabled-bg-color);\n",
              "    fill: var(--disabled-fill-color);\n",
              "    box-shadow: none;\n",
              "  }\n",
              "\n",
              "  .colab-df-spinner {\n",
              "    border: 2px solid var(--fill-color);\n",
              "    border-color: transparent;\n",
              "    border-bottom-color: var(--fill-color);\n",
              "    animation:\n",
              "      spin 1s steps(1) infinite;\n",
              "  }\n",
              "\n",
              "  @keyframes spin {\n",
              "    0% {\n",
              "      border-color: transparent;\n",
              "      border-bottom-color: var(--fill-color);\n",
              "      border-left-color: var(--fill-color);\n",
              "    }\n",
              "    20% {\n",
              "      border-color: transparent;\n",
              "      border-left-color: var(--fill-color);\n",
              "      border-top-color: var(--fill-color);\n",
              "    }\n",
              "    30% {\n",
              "      border-color: transparent;\n",
              "      border-left-color: var(--fill-color);\n",
              "      border-top-color: var(--fill-color);\n",
              "      border-right-color: var(--fill-color);\n",
              "    }\n",
              "    40% {\n",
              "      border-color: transparent;\n",
              "      border-right-color: var(--fill-color);\n",
              "      border-top-color: var(--fill-color);\n",
              "    }\n",
              "    60% {\n",
              "      border-color: transparent;\n",
              "      border-right-color: var(--fill-color);\n",
              "    }\n",
              "    80% {\n",
              "      border-color: transparent;\n",
              "      border-right-color: var(--fill-color);\n",
              "      border-bottom-color: var(--fill-color);\n",
              "    }\n",
              "    90% {\n",
              "      border-color: transparent;\n",
              "      border-bottom-color: var(--fill-color);\n",
              "    }\n",
              "  }\n",
              "</style>\n",
              "\n",
              "  <script>\n",
              "    async function quickchart(key) {\n",
              "      const quickchartButtonEl =\n",
              "        document.querySelector('#' + key + ' button');\n",
              "      quickchartButtonEl.disabled = true;  // To prevent multiple clicks.\n",
              "      quickchartButtonEl.classList.add('colab-df-spinner');\n",
              "      try {\n",
              "        const charts = await google.colab.kernel.invokeFunction(\n",
              "            'suggestCharts', [key], {});\n",
              "      } catch (error) {\n",
              "        console.error('Error during call to suggestCharts:', error);\n",
              "      }\n",
              "      quickchartButtonEl.classList.remove('colab-df-spinner');\n",
              "      quickchartButtonEl.classList.add('colab-df-quickchart-complete');\n",
              "    }\n",
              "    (() => {\n",
              "      let quickchartButtonEl =\n",
              "        document.querySelector('#df-0164f6a5-9f74-4a57-aa45-c2d958f862dc button');\n",
              "      quickchartButtonEl.style.display =\n",
              "        google.colab.kernel.accessAllowed ? 'block' : 'none';\n",
              "    })();\n",
              "  </script>\n",
              "</div>\n",
              "    </div>\n",
              "  </div>\n"
            ]
          },
          "metadata": {},
          "execution_count": 41
        }
      ],
      "source": [
        "df_dataset.sample(5)"
      ]
    },
    {
      "cell_type": "markdown",
      "metadata": {
        "id": "Yj0ya60zrm8t"
      },
      "source": [
        "# 5 Finalização"
      ]
    },
    {
      "cell_type": "markdown",
      "metadata": {
        "id": "Bcjt085lZGUr"
      },
      "source": [
        "## 5.1 Tempo final de processamento\n",
        "\n"
      ]
    },
    {
      "cell_type": "code",
      "execution_count": null,
      "metadata": {
        "colab": {
          "base_uri": "https://localhost:8080/"
        },
        "id": "H50_GKJwpDha",
        "outputId": "c13d1252-0c84-4cb1-e703-f1159b3d9d87"
      },
      "outputs": [
        {
          "output_type": "stream",
          "name": "stdout",
          "text": [
            "\n",
            "  Tempo processamento:  0:02:12 (h:mm:ss)\n"
          ]
        }
      ],
      "source": [
        "# Pega o tempo atual menos o tempo do início do processamento.\n",
        "final_processamento = time.time()\n",
        "tempo_total_processamento = formataTempo(final_processamento - inicio_processamento)\n",
        "\n",
        "print(\"\")\n",
        "print(\"  Tempo processamento:  {:} (h:mm:ss)\".format(tempo_total_processamento))"
      ]
    }
  ],
  "metadata": {
    "colab": {
      "provenance": [],
      "toc_visible": true,
      "include_colab_link": true
    },
    "kernelspec": {
      "display_name": "Python 3",
      "name": "python3"
    },
    "widgets": {
      "application/vnd.jupyter.widget-state+json": {
        "d95c7bb4ff0c4a9cb79f006fd5399308": {
          "model_module": "@jupyter-widgets/controls",
          "model_name": "HBoxModel",
          "model_module_version": "1.5.0",
          "state": {
            "_dom_classes": [],
            "_model_module": "@jupyter-widgets/controls",
            "_model_module_version": "1.5.0",
            "_model_name": "HBoxModel",
            "_view_count": null,
            "_view_module": "@jupyter-widgets/controls",
            "_view_module_version": "1.5.0",
            "_view_name": "HBoxView",
            "box_style": "",
            "children": [
              "IPY_MODEL_df9b2aaf2aef4d1a9f4cc771b51e8054",
              "IPY_MODEL_d37c0df5ecdb45f2a30ada9d0c9b0dfe",
              "IPY_MODEL_482c9f004c83437193f2ca1b273c9b52"
            ],
            "layout": "IPY_MODEL_c7007c1f3a674e1d910892a4adcbbe59"
          }
        },
        "df9b2aaf2aef4d1a9f4cc771b51e8054": {
          "model_module": "@jupyter-widgets/controls",
          "model_name": "HTMLModel",
          "model_module_version": "1.5.0",
          "state": {
            "_dom_classes": [],
            "_model_module": "@jupyter-widgets/controls",
            "_model_module_version": "1.5.0",
            "_model_name": "HTMLModel",
            "_view_count": null,
            "_view_module": "@jupyter-widgets/controls",
            "_view_module_version": "1.5.0",
            "_view_name": "HTMLView",
            "description": "",
            "description_tooltip": null,
            "layout": "IPY_MODEL_3cc339547a5b40d4a035e13aad2e8c2e",
            "placeholder": "​",
            "style": "IPY_MODEL_e1387faf77c348938fe90a4330281988",
            "value": "Dados: 100%"
          }
        },
        "d37c0df5ecdb45f2a30ada9d0c9b0dfe": {
          "model_module": "@jupyter-widgets/controls",
          "model_name": "FloatProgressModel",
          "model_module_version": "1.5.0",
          "state": {
            "_dom_classes": [],
            "_model_module": "@jupyter-widgets/controls",
            "_model_module_version": "1.5.0",
            "_model_name": "FloatProgressModel",
            "_view_count": null,
            "_view_module": "@jupyter-widgets/controls",
            "_view_module_version": "1.5.0",
            "_view_name": "ProgressView",
            "bar_style": "success",
            "description": "",
            "description_tooltip": null,
            "layout": "IPY_MODEL_592df12f9d344f7f9363335280eaedcc",
            "max": 20,
            "min": 0,
            "orientation": "horizontal",
            "style": "IPY_MODEL_7ca45558a4fc42b8a99c607f5cfaf7ca",
            "value": 20
          }
        },
        "482c9f004c83437193f2ca1b273c9b52": {
          "model_module": "@jupyter-widgets/controls",
          "model_name": "HTMLModel",
          "model_module_version": "1.5.0",
          "state": {
            "_dom_classes": [],
            "_model_module": "@jupyter-widgets/controls",
            "_model_module_version": "1.5.0",
            "_model_name": "HTMLModel",
            "_view_count": null,
            "_view_module": "@jupyter-widgets/controls",
            "_view_module_version": "1.5.0",
            "_view_name": "HTMLView",
            "description": "",
            "description_tooltip": null,
            "layout": "IPY_MODEL_959499f7f91b4a88be827efc53c2defa",
            "placeholder": "​",
            "style": "IPY_MODEL_5d6b7bc30ce141b080c56cd295558894",
            "value": " 20/20 [00:00&lt;00:00, 393.03registro/s]"
          }
        },
        "c7007c1f3a674e1d910892a4adcbbe59": {
          "model_module": "@jupyter-widgets/base",
          "model_name": "LayoutModel",
          "model_module_version": "1.2.0",
          "state": {
            "_model_module": "@jupyter-widgets/base",
            "_model_module_version": "1.2.0",
            "_model_name": "LayoutModel",
            "_view_count": null,
            "_view_module": "@jupyter-widgets/base",
            "_view_module_version": "1.2.0",
            "_view_name": "LayoutView",
            "align_content": null,
            "align_items": null,
            "align_self": null,
            "border": null,
            "bottom": null,
            "display": null,
            "flex": null,
            "flex_flow": null,
            "grid_area": null,
            "grid_auto_columns": null,
            "grid_auto_flow": null,
            "grid_auto_rows": null,
            "grid_column": null,
            "grid_gap": null,
            "grid_row": null,
            "grid_template_areas": null,
            "grid_template_columns": null,
            "grid_template_rows": null,
            "height": null,
            "justify_content": null,
            "justify_items": null,
            "left": null,
            "margin": null,
            "max_height": null,
            "max_width": null,
            "min_height": null,
            "min_width": null,
            "object_fit": null,
            "object_position": null,
            "order": null,
            "overflow": null,
            "overflow_x": null,
            "overflow_y": null,
            "padding": null,
            "right": null,
            "top": null,
            "visibility": null,
            "width": null
          }
        },
        "3cc339547a5b40d4a035e13aad2e8c2e": {
          "model_module": "@jupyter-widgets/base",
          "model_name": "LayoutModel",
          "model_module_version": "1.2.0",
          "state": {
            "_model_module": "@jupyter-widgets/base",
            "_model_module_version": "1.2.0",
            "_model_name": "LayoutModel",
            "_view_count": null,
            "_view_module": "@jupyter-widgets/base",
            "_view_module_version": "1.2.0",
            "_view_name": "LayoutView",
            "align_content": null,
            "align_items": null,
            "align_self": null,
            "border": null,
            "bottom": null,
            "display": null,
            "flex": null,
            "flex_flow": null,
            "grid_area": null,
            "grid_auto_columns": null,
            "grid_auto_flow": null,
            "grid_auto_rows": null,
            "grid_column": null,
            "grid_gap": null,
            "grid_row": null,
            "grid_template_areas": null,
            "grid_template_columns": null,
            "grid_template_rows": null,
            "height": null,
            "justify_content": null,
            "justify_items": null,
            "left": null,
            "margin": null,
            "max_height": null,
            "max_width": null,
            "min_height": null,
            "min_width": null,
            "object_fit": null,
            "object_position": null,
            "order": null,
            "overflow": null,
            "overflow_x": null,
            "overflow_y": null,
            "padding": null,
            "right": null,
            "top": null,
            "visibility": null,
            "width": null
          }
        },
        "e1387faf77c348938fe90a4330281988": {
          "model_module": "@jupyter-widgets/controls",
          "model_name": "DescriptionStyleModel",
          "model_module_version": "1.5.0",
          "state": {
            "_model_module": "@jupyter-widgets/controls",
            "_model_module_version": "1.5.0",
            "_model_name": "DescriptionStyleModel",
            "_view_count": null,
            "_view_module": "@jupyter-widgets/base",
            "_view_module_version": "1.2.0",
            "_view_name": "StyleView",
            "description_width": ""
          }
        },
        "592df12f9d344f7f9363335280eaedcc": {
          "model_module": "@jupyter-widgets/base",
          "model_name": "LayoutModel",
          "model_module_version": "1.2.0",
          "state": {
            "_model_module": "@jupyter-widgets/base",
            "_model_module_version": "1.2.0",
            "_model_name": "LayoutModel",
            "_view_count": null,
            "_view_module": "@jupyter-widgets/base",
            "_view_module_version": "1.2.0",
            "_view_name": "LayoutView",
            "align_content": null,
            "align_items": null,
            "align_self": null,
            "border": null,
            "bottom": null,
            "display": null,
            "flex": null,
            "flex_flow": null,
            "grid_area": null,
            "grid_auto_columns": null,
            "grid_auto_flow": null,
            "grid_auto_rows": null,
            "grid_column": null,
            "grid_gap": null,
            "grid_row": null,
            "grid_template_areas": null,
            "grid_template_columns": null,
            "grid_template_rows": null,
            "height": null,
            "justify_content": null,
            "justify_items": null,
            "left": null,
            "margin": null,
            "max_height": null,
            "max_width": null,
            "min_height": null,
            "min_width": null,
            "object_fit": null,
            "object_position": null,
            "order": null,
            "overflow": null,
            "overflow_x": null,
            "overflow_y": null,
            "padding": null,
            "right": null,
            "top": null,
            "visibility": null,
            "width": null
          }
        },
        "7ca45558a4fc42b8a99c607f5cfaf7ca": {
          "model_module": "@jupyter-widgets/controls",
          "model_name": "ProgressStyleModel",
          "model_module_version": "1.5.0",
          "state": {
            "_model_module": "@jupyter-widgets/controls",
            "_model_module_version": "1.5.0",
            "_model_name": "ProgressStyleModel",
            "_view_count": null,
            "_view_module": "@jupyter-widgets/base",
            "_view_module_version": "1.2.0",
            "_view_name": "StyleView",
            "bar_color": null,
            "description_width": ""
          }
        },
        "959499f7f91b4a88be827efc53c2defa": {
          "model_module": "@jupyter-widgets/base",
          "model_name": "LayoutModel",
          "model_module_version": "1.2.0",
          "state": {
            "_model_module": "@jupyter-widgets/base",
            "_model_module_version": "1.2.0",
            "_model_name": "LayoutModel",
            "_view_count": null,
            "_view_module": "@jupyter-widgets/base",
            "_view_module_version": "1.2.0",
            "_view_name": "LayoutView",
            "align_content": null,
            "align_items": null,
            "align_self": null,
            "border": null,
            "bottom": null,
            "display": null,
            "flex": null,
            "flex_flow": null,
            "grid_area": null,
            "grid_auto_columns": null,
            "grid_auto_flow": null,
            "grid_auto_rows": null,
            "grid_column": null,
            "grid_gap": null,
            "grid_row": null,
            "grid_template_areas": null,
            "grid_template_columns": null,
            "grid_template_rows": null,
            "height": null,
            "justify_content": null,
            "justify_items": null,
            "left": null,
            "margin": null,
            "max_height": null,
            "max_width": null,
            "min_height": null,
            "min_width": null,
            "object_fit": null,
            "object_position": null,
            "order": null,
            "overflow": null,
            "overflow_x": null,
            "overflow_y": null,
            "padding": null,
            "right": null,
            "top": null,
            "visibility": null,
            "width": null
          }
        },
        "5d6b7bc30ce141b080c56cd295558894": {
          "model_module": "@jupyter-widgets/controls",
          "model_name": "DescriptionStyleModel",
          "model_module_version": "1.5.0",
          "state": {
            "_model_module": "@jupyter-widgets/controls",
            "_model_module_version": "1.5.0",
            "_model_name": "DescriptionStyleModel",
            "_view_count": null,
            "_view_module": "@jupyter-widgets/base",
            "_view_module_version": "1.2.0",
            "_view_name": "StyleView",
            "description_width": ""
          }
        },
        "de04cdafce054fa6841f6628c17cc668": {
          "model_module": "@jupyter-widgets/controls",
          "model_name": "HBoxModel",
          "model_module_version": "1.5.0",
          "state": {
            "_dom_classes": [],
            "_model_module": "@jupyter-widgets/controls",
            "_model_module_version": "1.5.0",
            "_model_name": "HBoxModel",
            "_view_count": null,
            "_view_module": "@jupyter-widgets/controls",
            "_view_module_version": "1.5.0",
            "_view_name": "HBoxView",
            "box_style": "",
            "children": [
              "IPY_MODEL_8d493cda50a540bebf78d3af6804433f",
              "IPY_MODEL_8a6de854eab24cd087db04f01e1b5f19",
              "IPY_MODEL_cedaae8389ca4c98a192ec533156c7cd"
            ],
            "layout": "IPY_MODEL_4d1cf61e46514bc0b4d8fdc914ab64cd"
          }
        },
        "8d493cda50a540bebf78d3af6804433f": {
          "model_module": "@jupyter-widgets/controls",
          "model_name": "HTMLModel",
          "model_module_version": "1.5.0",
          "state": {
            "_dom_classes": [],
            "_model_module": "@jupyter-widgets/controls",
            "_model_module_version": "1.5.0",
            "_model_name": "HTMLModel",
            "_view_count": null,
            "_view_module": "@jupyter-widgets/controls",
            "_view_module_version": "1.5.0",
            "_view_name": "HTMLView",
            "description": "",
            "description_tooltip": null,
            "layout": "IPY_MODEL_f462f5fe773d40cf86559b9767f7923b",
            "placeholder": "​",
            "style": "IPY_MODEL_6572d556f19948559130e8db0729280f",
            "value": "Dados: 100%"
          }
        },
        "8a6de854eab24cd087db04f01e1b5f19": {
          "model_module": "@jupyter-widgets/controls",
          "model_name": "FloatProgressModel",
          "model_module_version": "1.5.0",
          "state": {
            "_dom_classes": [],
            "_model_module": "@jupyter-widgets/controls",
            "_model_module_version": "1.5.0",
            "_model_name": "FloatProgressModel",
            "_view_count": null,
            "_view_module": "@jupyter-widgets/controls",
            "_view_module_version": "1.5.0",
            "_view_name": "ProgressView",
            "bar_style": "success",
            "description": "",
            "description_tooltip": null,
            "layout": "IPY_MODEL_71f64a23b7ee4e88bb5e22cc49e2be94",
            "max": 20,
            "min": 0,
            "orientation": "horizontal",
            "style": "IPY_MODEL_1fbe23e277e34de184c706d2a9b04fc0",
            "value": 20
          }
        },
        "cedaae8389ca4c98a192ec533156c7cd": {
          "model_module": "@jupyter-widgets/controls",
          "model_name": "HTMLModel",
          "model_module_version": "1.5.0",
          "state": {
            "_dom_classes": [],
            "_model_module": "@jupyter-widgets/controls",
            "_model_module_version": "1.5.0",
            "_model_name": "HTMLModel",
            "_view_count": null,
            "_view_module": "@jupyter-widgets/controls",
            "_view_module_version": "1.5.0",
            "_view_name": "HTMLView",
            "description": "",
            "description_tooltip": null,
            "layout": "IPY_MODEL_dd0755a995fd439d9d6cc8f39a85e823",
            "placeholder": "​",
            "style": "IPY_MODEL_2884be76276d4601b01d7596e694f79f",
            "value": " 20/20 [00:00&lt;00:00, 28.84registro/s]"
          }
        },
        "4d1cf61e46514bc0b4d8fdc914ab64cd": {
          "model_module": "@jupyter-widgets/base",
          "model_name": "LayoutModel",
          "model_module_version": "1.2.0",
          "state": {
            "_model_module": "@jupyter-widgets/base",
            "_model_module_version": "1.2.0",
            "_model_name": "LayoutModel",
            "_view_count": null,
            "_view_module": "@jupyter-widgets/base",
            "_view_module_version": "1.2.0",
            "_view_name": "LayoutView",
            "align_content": null,
            "align_items": null,
            "align_self": null,
            "border": null,
            "bottom": null,
            "display": null,
            "flex": null,
            "flex_flow": null,
            "grid_area": null,
            "grid_auto_columns": null,
            "grid_auto_flow": null,
            "grid_auto_rows": null,
            "grid_column": null,
            "grid_gap": null,
            "grid_row": null,
            "grid_template_areas": null,
            "grid_template_columns": null,
            "grid_template_rows": null,
            "height": null,
            "justify_content": null,
            "justify_items": null,
            "left": null,
            "margin": null,
            "max_height": null,
            "max_width": null,
            "min_height": null,
            "min_width": null,
            "object_fit": null,
            "object_position": null,
            "order": null,
            "overflow": null,
            "overflow_x": null,
            "overflow_y": null,
            "padding": null,
            "right": null,
            "top": null,
            "visibility": null,
            "width": null
          }
        },
        "f462f5fe773d40cf86559b9767f7923b": {
          "model_module": "@jupyter-widgets/base",
          "model_name": "LayoutModel",
          "model_module_version": "1.2.0",
          "state": {
            "_model_module": "@jupyter-widgets/base",
            "_model_module_version": "1.2.0",
            "_model_name": "LayoutModel",
            "_view_count": null,
            "_view_module": "@jupyter-widgets/base",
            "_view_module_version": "1.2.0",
            "_view_name": "LayoutView",
            "align_content": null,
            "align_items": null,
            "align_self": null,
            "border": null,
            "bottom": null,
            "display": null,
            "flex": null,
            "flex_flow": null,
            "grid_area": null,
            "grid_auto_columns": null,
            "grid_auto_flow": null,
            "grid_auto_rows": null,
            "grid_column": null,
            "grid_gap": null,
            "grid_row": null,
            "grid_template_areas": null,
            "grid_template_columns": null,
            "grid_template_rows": null,
            "height": null,
            "justify_content": null,
            "justify_items": null,
            "left": null,
            "margin": null,
            "max_height": null,
            "max_width": null,
            "min_height": null,
            "min_width": null,
            "object_fit": null,
            "object_position": null,
            "order": null,
            "overflow": null,
            "overflow_x": null,
            "overflow_y": null,
            "padding": null,
            "right": null,
            "top": null,
            "visibility": null,
            "width": null
          }
        },
        "6572d556f19948559130e8db0729280f": {
          "model_module": "@jupyter-widgets/controls",
          "model_name": "DescriptionStyleModel",
          "model_module_version": "1.5.0",
          "state": {
            "_model_module": "@jupyter-widgets/controls",
            "_model_module_version": "1.5.0",
            "_model_name": "DescriptionStyleModel",
            "_view_count": null,
            "_view_module": "@jupyter-widgets/base",
            "_view_module_version": "1.2.0",
            "_view_name": "StyleView",
            "description_width": ""
          }
        },
        "71f64a23b7ee4e88bb5e22cc49e2be94": {
          "model_module": "@jupyter-widgets/base",
          "model_name": "LayoutModel",
          "model_module_version": "1.2.0",
          "state": {
            "_model_module": "@jupyter-widgets/base",
            "_model_module_version": "1.2.0",
            "_model_name": "LayoutModel",
            "_view_count": null,
            "_view_module": "@jupyter-widgets/base",
            "_view_module_version": "1.2.0",
            "_view_name": "LayoutView",
            "align_content": null,
            "align_items": null,
            "align_self": null,
            "border": null,
            "bottom": null,
            "display": null,
            "flex": null,
            "flex_flow": null,
            "grid_area": null,
            "grid_auto_columns": null,
            "grid_auto_flow": null,
            "grid_auto_rows": null,
            "grid_column": null,
            "grid_gap": null,
            "grid_row": null,
            "grid_template_areas": null,
            "grid_template_columns": null,
            "grid_template_rows": null,
            "height": null,
            "justify_content": null,
            "justify_items": null,
            "left": null,
            "margin": null,
            "max_height": null,
            "max_width": null,
            "min_height": null,
            "min_width": null,
            "object_fit": null,
            "object_position": null,
            "order": null,
            "overflow": null,
            "overflow_x": null,
            "overflow_y": null,
            "padding": null,
            "right": null,
            "top": null,
            "visibility": null,
            "width": null
          }
        },
        "1fbe23e277e34de184c706d2a9b04fc0": {
          "model_module": "@jupyter-widgets/controls",
          "model_name": "ProgressStyleModel",
          "model_module_version": "1.5.0",
          "state": {
            "_model_module": "@jupyter-widgets/controls",
            "_model_module_version": "1.5.0",
            "_model_name": "ProgressStyleModel",
            "_view_count": null,
            "_view_module": "@jupyter-widgets/base",
            "_view_module_version": "1.2.0",
            "_view_name": "StyleView",
            "bar_color": null,
            "description_width": ""
          }
        },
        "dd0755a995fd439d9d6cc8f39a85e823": {
          "model_module": "@jupyter-widgets/base",
          "model_name": "LayoutModel",
          "model_module_version": "1.2.0",
          "state": {
            "_model_module": "@jupyter-widgets/base",
            "_model_module_version": "1.2.0",
            "_model_name": "LayoutModel",
            "_view_count": null,
            "_view_module": "@jupyter-widgets/base",
            "_view_module_version": "1.2.0",
            "_view_name": "LayoutView",
            "align_content": null,
            "align_items": null,
            "align_self": null,
            "border": null,
            "bottom": null,
            "display": null,
            "flex": null,
            "flex_flow": null,
            "grid_area": null,
            "grid_auto_columns": null,
            "grid_auto_flow": null,
            "grid_auto_rows": null,
            "grid_column": null,
            "grid_gap": null,
            "grid_row": null,
            "grid_template_areas": null,
            "grid_template_columns": null,
            "grid_template_rows": null,
            "height": null,
            "justify_content": null,
            "justify_items": null,
            "left": null,
            "margin": null,
            "max_height": null,
            "max_width": null,
            "min_height": null,
            "min_width": null,
            "object_fit": null,
            "object_position": null,
            "order": null,
            "overflow": null,
            "overflow_x": null,
            "overflow_y": null,
            "padding": null,
            "right": null,
            "top": null,
            "visibility": null,
            "width": null
          }
        },
        "2884be76276d4601b01d7596e694f79f": {
          "model_module": "@jupyter-widgets/controls",
          "model_name": "DescriptionStyleModel",
          "model_module_version": "1.5.0",
          "state": {
            "_model_module": "@jupyter-widgets/controls",
            "_model_module_version": "1.5.0",
            "_model_name": "DescriptionStyleModel",
            "_view_count": null,
            "_view_module": "@jupyter-widgets/base",
            "_view_module_version": "1.2.0",
            "_view_name": "StyleView",
            "description_width": ""
          }
        }
      }
    }
  },
  "nbformat": 4,
  "nbformat_minor": 0
}