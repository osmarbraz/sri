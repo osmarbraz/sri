{
  "nbformat": 4,
  "nbformat_minor": 0,
  "metadata": {
    "colab": {
      "provenance": [],
      "toc_visible": true,
      "include_colab_link": true
    },
    "kernelspec": {
      "name": "python3",
      "display_name": "Python 3"
    },
    "widgets": {
      "application/vnd.jupyter.widget-state+json": {
        "0a662c81ee9d41a3b66b1fbead5474a3": {
          "model_module": "@jupyter-widgets/controls",
          "model_name": "HBoxModel",
          "model_module_version": "1.5.0",
          "state": {
            "_dom_classes": [],
            "_model_module": "@jupyter-widgets/controls",
            "_model_module_version": "1.5.0",
            "_model_name": "HBoxModel",
            "_view_count": null,
            "_view_module": "@jupyter-widgets/controls",
            "_view_module_version": "1.5.0",
            "_view_name": "HBoxView",
            "box_style": "",
            "children": [
              "IPY_MODEL_368a20f68c494305abe9e31a8555b623",
              "IPY_MODEL_e3061552b3dd4b648b2d7187a19013ec",
              "IPY_MODEL_adcabc7db31e4fe79c2c2a0983077f19"
            ],
            "layout": "IPY_MODEL_7b4ba7812e0349ab8586820875f1f3e8"
          }
        },
        "368a20f68c494305abe9e31a8555b623": {
          "model_module": "@jupyter-widgets/controls",
          "model_name": "HTMLModel",
          "model_module_version": "1.5.0",
          "state": {
            "_dom_classes": [],
            "_model_module": "@jupyter-widgets/controls",
            "_model_module_version": "1.5.0",
            "_model_name": "HTMLModel",
            "_view_count": null,
            "_view_module": "@jupyter-widgets/controls",
            "_view_module_version": "1.5.0",
            "_view_name": "HTMLView",
            "description": "",
            "description_tooltip": null,
            "layout": "IPY_MODEL_9181a3bed82d453cb44ffc1395743a48",
            "placeholder": "​",
            "style": "IPY_MODEL_4e30de23b3eb41909d6dbf3aec2a55d2",
            "value": "Dados: 100%"
          }
        },
        "e3061552b3dd4b648b2d7187a19013ec": {
          "model_module": "@jupyter-widgets/controls",
          "model_name": "FloatProgressModel",
          "model_module_version": "1.5.0",
          "state": {
            "_dom_classes": [],
            "_model_module": "@jupyter-widgets/controls",
            "_model_module_version": "1.5.0",
            "_model_name": "FloatProgressModel",
            "_view_count": null,
            "_view_module": "@jupyter-widgets/controls",
            "_view_module_version": "1.5.0",
            "_view_name": "ProgressView",
            "bar_style": "success",
            "description": "",
            "description_tooltip": null,
            "layout": "IPY_MODEL_17df409547dc4b678f4eef66a1ef924f",
            "max": 20,
            "min": 0,
            "orientation": "horizontal",
            "style": "IPY_MODEL_843e6b7055c94b1599845db77ccc4491",
            "value": 20
          }
        },
        "adcabc7db31e4fe79c2c2a0983077f19": {
          "model_module": "@jupyter-widgets/controls",
          "model_name": "HTMLModel",
          "model_module_version": "1.5.0",
          "state": {
            "_dom_classes": [],
            "_model_module": "@jupyter-widgets/controls",
            "_model_module_version": "1.5.0",
            "_model_name": "HTMLModel",
            "_view_count": null,
            "_view_module": "@jupyter-widgets/controls",
            "_view_module_version": "1.5.0",
            "_view_name": "HTMLView",
            "description": "",
            "description_tooltip": null,
            "layout": "IPY_MODEL_73851535cd17406bbfb83c23b7b3d892",
            "placeholder": "​",
            "style": "IPY_MODEL_abb6409802b246b180d4f62599e27dbf",
            "value": " 20/20 [00:00&lt;00:00, 587.89registro/s]"
          }
        },
        "7b4ba7812e0349ab8586820875f1f3e8": {
          "model_module": "@jupyter-widgets/base",
          "model_name": "LayoutModel",
          "model_module_version": "1.2.0",
          "state": {
            "_model_module": "@jupyter-widgets/base",
            "_model_module_version": "1.2.0",
            "_model_name": "LayoutModel",
            "_view_count": null,
            "_view_module": "@jupyter-widgets/base",
            "_view_module_version": "1.2.0",
            "_view_name": "LayoutView",
            "align_content": null,
            "align_items": null,
            "align_self": null,
            "border": null,
            "bottom": null,
            "display": null,
            "flex": null,
            "flex_flow": null,
            "grid_area": null,
            "grid_auto_columns": null,
            "grid_auto_flow": null,
            "grid_auto_rows": null,
            "grid_column": null,
            "grid_gap": null,
            "grid_row": null,
            "grid_template_areas": null,
            "grid_template_columns": null,
            "grid_template_rows": null,
            "height": null,
            "justify_content": null,
            "justify_items": null,
            "left": null,
            "margin": null,
            "max_height": null,
            "max_width": null,
            "min_height": null,
            "min_width": null,
            "object_fit": null,
            "object_position": null,
            "order": null,
            "overflow": null,
            "overflow_x": null,
            "overflow_y": null,
            "padding": null,
            "right": null,
            "top": null,
            "visibility": null,
            "width": null
          }
        },
        "9181a3bed82d453cb44ffc1395743a48": {
          "model_module": "@jupyter-widgets/base",
          "model_name": "LayoutModel",
          "model_module_version": "1.2.0",
          "state": {
            "_model_module": "@jupyter-widgets/base",
            "_model_module_version": "1.2.0",
            "_model_name": "LayoutModel",
            "_view_count": null,
            "_view_module": "@jupyter-widgets/base",
            "_view_module_version": "1.2.0",
            "_view_name": "LayoutView",
            "align_content": null,
            "align_items": null,
            "align_self": null,
            "border": null,
            "bottom": null,
            "display": null,
            "flex": null,
            "flex_flow": null,
            "grid_area": null,
            "grid_auto_columns": null,
            "grid_auto_flow": null,
            "grid_auto_rows": null,
            "grid_column": null,
            "grid_gap": null,
            "grid_row": null,
            "grid_template_areas": null,
            "grid_template_columns": null,
            "grid_template_rows": null,
            "height": null,
            "justify_content": null,
            "justify_items": null,
            "left": null,
            "margin": null,
            "max_height": null,
            "max_width": null,
            "min_height": null,
            "min_width": null,
            "object_fit": null,
            "object_position": null,
            "order": null,
            "overflow": null,
            "overflow_x": null,
            "overflow_y": null,
            "padding": null,
            "right": null,
            "top": null,
            "visibility": null,
            "width": null
          }
        },
        "4e30de23b3eb41909d6dbf3aec2a55d2": {
          "model_module": "@jupyter-widgets/controls",
          "model_name": "DescriptionStyleModel",
          "model_module_version": "1.5.0",
          "state": {
            "_model_module": "@jupyter-widgets/controls",
            "_model_module_version": "1.5.0",
            "_model_name": "DescriptionStyleModel",
            "_view_count": null,
            "_view_module": "@jupyter-widgets/base",
            "_view_module_version": "1.2.0",
            "_view_name": "StyleView",
            "description_width": ""
          }
        },
        "17df409547dc4b678f4eef66a1ef924f": {
          "model_module": "@jupyter-widgets/base",
          "model_name": "LayoutModel",
          "model_module_version": "1.2.0",
          "state": {
            "_model_module": "@jupyter-widgets/base",
            "_model_module_version": "1.2.0",
            "_model_name": "LayoutModel",
            "_view_count": null,
            "_view_module": "@jupyter-widgets/base",
            "_view_module_version": "1.2.0",
            "_view_name": "LayoutView",
            "align_content": null,
            "align_items": null,
            "align_self": null,
            "border": null,
            "bottom": null,
            "display": null,
            "flex": null,
            "flex_flow": null,
            "grid_area": null,
            "grid_auto_columns": null,
            "grid_auto_flow": null,
            "grid_auto_rows": null,
            "grid_column": null,
            "grid_gap": null,
            "grid_row": null,
            "grid_template_areas": null,
            "grid_template_columns": null,
            "grid_template_rows": null,
            "height": null,
            "justify_content": null,
            "justify_items": null,
            "left": null,
            "margin": null,
            "max_height": null,
            "max_width": null,
            "min_height": null,
            "min_width": null,
            "object_fit": null,
            "object_position": null,
            "order": null,
            "overflow": null,
            "overflow_x": null,
            "overflow_y": null,
            "padding": null,
            "right": null,
            "top": null,
            "visibility": null,
            "width": null
          }
        },
        "843e6b7055c94b1599845db77ccc4491": {
          "model_module": "@jupyter-widgets/controls",
          "model_name": "ProgressStyleModel",
          "model_module_version": "1.5.0",
          "state": {
            "_model_module": "@jupyter-widgets/controls",
            "_model_module_version": "1.5.0",
            "_model_name": "ProgressStyleModel",
            "_view_count": null,
            "_view_module": "@jupyter-widgets/base",
            "_view_module_version": "1.2.0",
            "_view_name": "StyleView",
            "bar_color": null,
            "description_width": ""
          }
        },
        "73851535cd17406bbfb83c23b7b3d892": {
          "model_module": "@jupyter-widgets/base",
          "model_name": "LayoutModel",
          "model_module_version": "1.2.0",
          "state": {
            "_model_module": "@jupyter-widgets/base",
            "_model_module_version": "1.2.0",
            "_model_name": "LayoutModel",
            "_view_count": null,
            "_view_module": "@jupyter-widgets/base",
            "_view_module_version": "1.2.0",
            "_view_name": "LayoutView",
            "align_content": null,
            "align_items": null,
            "align_self": null,
            "border": null,
            "bottom": null,
            "display": null,
            "flex": null,
            "flex_flow": null,
            "grid_area": null,
            "grid_auto_columns": null,
            "grid_auto_flow": null,
            "grid_auto_rows": null,
            "grid_column": null,
            "grid_gap": null,
            "grid_row": null,
            "grid_template_areas": null,
            "grid_template_columns": null,
            "grid_template_rows": null,
            "height": null,
            "justify_content": null,
            "justify_items": null,
            "left": null,
            "margin": null,
            "max_height": null,
            "max_width": null,
            "min_height": null,
            "min_width": null,
            "object_fit": null,
            "object_position": null,
            "order": null,
            "overflow": null,
            "overflow_x": null,
            "overflow_y": null,
            "padding": null,
            "right": null,
            "top": null,
            "visibility": null,
            "width": null
          }
        },
        "abb6409802b246b180d4f62599e27dbf": {
          "model_module": "@jupyter-widgets/controls",
          "model_name": "DescriptionStyleModel",
          "model_module_version": "1.5.0",
          "state": {
            "_model_module": "@jupyter-widgets/controls",
            "_model_module_version": "1.5.0",
            "_model_name": "DescriptionStyleModel",
            "_view_count": null,
            "_view_module": "@jupyter-widgets/base",
            "_view_module_version": "1.2.0",
            "_view_name": "StyleView",
            "description_width": ""
          }
        },
        "69396892b0b34bfb81617a07119502a1": {
          "model_module": "@jupyter-widgets/controls",
          "model_name": "HBoxModel",
          "model_module_version": "1.5.0",
          "state": {
            "_dom_classes": [],
            "_model_module": "@jupyter-widgets/controls",
            "_model_module_version": "1.5.0",
            "_model_name": "HBoxModel",
            "_view_count": null,
            "_view_module": "@jupyter-widgets/controls",
            "_view_module_version": "1.5.0",
            "_view_name": "HBoxView",
            "box_style": "",
            "children": [
              "IPY_MODEL_d1ab14c53e204f0db8dc95c35f4f652f",
              "IPY_MODEL_5f097dd5d74247cb8684d08706543184",
              "IPY_MODEL_0bd9b3028aca4f248e807bd4d3d95554"
            ],
            "layout": "IPY_MODEL_63e9124671444380a1bbf5beca233ff9"
          }
        },
        "d1ab14c53e204f0db8dc95c35f4f652f": {
          "model_module": "@jupyter-widgets/controls",
          "model_name": "HTMLModel",
          "model_module_version": "1.5.0",
          "state": {
            "_dom_classes": [],
            "_model_module": "@jupyter-widgets/controls",
            "_model_module_version": "1.5.0",
            "_model_name": "HTMLModel",
            "_view_count": null,
            "_view_module": "@jupyter-widgets/controls",
            "_view_module_version": "1.5.0",
            "_view_name": "HTMLView",
            "description": "",
            "description_tooltip": null,
            "layout": "IPY_MODEL_b2df56ac7f634e46a660bd08f3d971fb",
            "placeholder": "​",
            "style": "IPY_MODEL_8a4978aa9cc5439fba76328275514f94",
            "value": "Dados: 100%"
          }
        },
        "5f097dd5d74247cb8684d08706543184": {
          "model_module": "@jupyter-widgets/controls",
          "model_name": "FloatProgressModel",
          "model_module_version": "1.5.0",
          "state": {
            "_dom_classes": [],
            "_model_module": "@jupyter-widgets/controls",
            "_model_module_version": "1.5.0",
            "_model_name": "FloatProgressModel",
            "_view_count": null,
            "_view_module": "@jupyter-widgets/controls",
            "_view_module_version": "1.5.0",
            "_view_name": "ProgressView",
            "bar_style": "success",
            "description": "",
            "description_tooltip": null,
            "layout": "IPY_MODEL_f4a4f65203274c8b9d6c5856939b3d21",
            "max": 20,
            "min": 0,
            "orientation": "horizontal",
            "style": "IPY_MODEL_fa7b87ee8903402d966568a280a38ee5",
            "value": 20
          }
        },
        "0bd9b3028aca4f248e807bd4d3d95554": {
          "model_module": "@jupyter-widgets/controls",
          "model_name": "HTMLModel",
          "model_module_version": "1.5.0",
          "state": {
            "_dom_classes": [],
            "_model_module": "@jupyter-widgets/controls",
            "_model_module_version": "1.5.0",
            "_model_name": "HTMLModel",
            "_view_count": null,
            "_view_module": "@jupyter-widgets/controls",
            "_view_module_version": "1.5.0",
            "_view_name": "HTMLView",
            "description": "",
            "description_tooltip": null,
            "layout": "IPY_MODEL_f0f86576c7e64e239f35711c3823caaf",
            "placeholder": "​",
            "style": "IPY_MODEL_00840ed8b472468eb8ce02197b825840",
            "value": " 20/20 [00:01&lt;00:00, 14.91registro/s]"
          }
        },
        "63e9124671444380a1bbf5beca233ff9": {
          "model_module": "@jupyter-widgets/base",
          "model_name": "LayoutModel",
          "model_module_version": "1.2.0",
          "state": {
            "_model_module": "@jupyter-widgets/base",
            "_model_module_version": "1.2.0",
            "_model_name": "LayoutModel",
            "_view_count": null,
            "_view_module": "@jupyter-widgets/base",
            "_view_module_version": "1.2.0",
            "_view_name": "LayoutView",
            "align_content": null,
            "align_items": null,
            "align_self": null,
            "border": null,
            "bottom": null,
            "display": null,
            "flex": null,
            "flex_flow": null,
            "grid_area": null,
            "grid_auto_columns": null,
            "grid_auto_flow": null,
            "grid_auto_rows": null,
            "grid_column": null,
            "grid_gap": null,
            "grid_row": null,
            "grid_template_areas": null,
            "grid_template_columns": null,
            "grid_template_rows": null,
            "height": null,
            "justify_content": null,
            "justify_items": null,
            "left": null,
            "margin": null,
            "max_height": null,
            "max_width": null,
            "min_height": null,
            "min_width": null,
            "object_fit": null,
            "object_position": null,
            "order": null,
            "overflow": null,
            "overflow_x": null,
            "overflow_y": null,
            "padding": null,
            "right": null,
            "top": null,
            "visibility": null,
            "width": null
          }
        },
        "b2df56ac7f634e46a660bd08f3d971fb": {
          "model_module": "@jupyter-widgets/base",
          "model_name": "LayoutModel",
          "model_module_version": "1.2.0",
          "state": {
            "_model_module": "@jupyter-widgets/base",
            "_model_module_version": "1.2.0",
            "_model_name": "LayoutModel",
            "_view_count": null,
            "_view_module": "@jupyter-widgets/base",
            "_view_module_version": "1.2.0",
            "_view_name": "LayoutView",
            "align_content": null,
            "align_items": null,
            "align_self": null,
            "border": null,
            "bottom": null,
            "display": null,
            "flex": null,
            "flex_flow": null,
            "grid_area": null,
            "grid_auto_columns": null,
            "grid_auto_flow": null,
            "grid_auto_rows": null,
            "grid_column": null,
            "grid_gap": null,
            "grid_row": null,
            "grid_template_areas": null,
            "grid_template_columns": null,
            "grid_template_rows": null,
            "height": null,
            "justify_content": null,
            "justify_items": null,
            "left": null,
            "margin": null,
            "max_height": null,
            "max_width": null,
            "min_height": null,
            "min_width": null,
            "object_fit": null,
            "object_position": null,
            "order": null,
            "overflow": null,
            "overflow_x": null,
            "overflow_y": null,
            "padding": null,
            "right": null,
            "top": null,
            "visibility": null,
            "width": null
          }
        },
        "8a4978aa9cc5439fba76328275514f94": {
          "model_module": "@jupyter-widgets/controls",
          "model_name": "DescriptionStyleModel",
          "model_module_version": "1.5.0",
          "state": {
            "_model_module": "@jupyter-widgets/controls",
            "_model_module_version": "1.5.0",
            "_model_name": "DescriptionStyleModel",
            "_view_count": null,
            "_view_module": "@jupyter-widgets/base",
            "_view_module_version": "1.2.0",
            "_view_name": "StyleView",
            "description_width": ""
          }
        },
        "f4a4f65203274c8b9d6c5856939b3d21": {
          "model_module": "@jupyter-widgets/base",
          "model_name": "LayoutModel",
          "model_module_version": "1.2.0",
          "state": {
            "_model_module": "@jupyter-widgets/base",
            "_model_module_version": "1.2.0",
            "_model_name": "LayoutModel",
            "_view_count": null,
            "_view_module": "@jupyter-widgets/base",
            "_view_module_version": "1.2.0",
            "_view_name": "LayoutView",
            "align_content": null,
            "align_items": null,
            "align_self": null,
            "border": null,
            "bottom": null,
            "display": null,
            "flex": null,
            "flex_flow": null,
            "grid_area": null,
            "grid_auto_columns": null,
            "grid_auto_flow": null,
            "grid_auto_rows": null,
            "grid_column": null,
            "grid_gap": null,
            "grid_row": null,
            "grid_template_areas": null,
            "grid_template_columns": null,
            "grid_template_rows": null,
            "height": null,
            "justify_content": null,
            "justify_items": null,
            "left": null,
            "margin": null,
            "max_height": null,
            "max_width": null,
            "min_height": null,
            "min_width": null,
            "object_fit": null,
            "object_position": null,
            "order": null,
            "overflow": null,
            "overflow_x": null,
            "overflow_y": null,
            "padding": null,
            "right": null,
            "top": null,
            "visibility": null,
            "width": null
          }
        },
        "fa7b87ee8903402d966568a280a38ee5": {
          "model_module": "@jupyter-widgets/controls",
          "model_name": "ProgressStyleModel",
          "model_module_version": "1.5.0",
          "state": {
            "_model_module": "@jupyter-widgets/controls",
            "_model_module_version": "1.5.0",
            "_model_name": "ProgressStyleModel",
            "_view_count": null,
            "_view_module": "@jupyter-widgets/base",
            "_view_module_version": "1.2.0",
            "_view_name": "StyleView",
            "bar_color": null,
            "description_width": ""
          }
        },
        "f0f86576c7e64e239f35711c3823caaf": {
          "model_module": "@jupyter-widgets/base",
          "model_name": "LayoutModel",
          "model_module_version": "1.2.0",
          "state": {
            "_model_module": "@jupyter-widgets/base",
            "_model_module_version": "1.2.0",
            "_model_name": "LayoutModel",
            "_view_count": null,
            "_view_module": "@jupyter-widgets/base",
            "_view_module_version": "1.2.0",
            "_view_name": "LayoutView",
            "align_content": null,
            "align_items": null,
            "align_self": null,
            "border": null,
            "bottom": null,
            "display": null,
            "flex": null,
            "flex_flow": null,
            "grid_area": null,
            "grid_auto_columns": null,
            "grid_auto_flow": null,
            "grid_auto_rows": null,
            "grid_column": null,
            "grid_gap": null,
            "grid_row": null,
            "grid_template_areas": null,
            "grid_template_columns": null,
            "grid_template_rows": null,
            "height": null,
            "justify_content": null,
            "justify_items": null,
            "left": null,
            "margin": null,
            "max_height": null,
            "max_width": null,
            "min_height": null,
            "min_width": null,
            "object_fit": null,
            "object_position": null,
            "order": null,
            "overflow": null,
            "overflow_x": null,
            "overflow_y": null,
            "padding": null,
            "right": null,
            "top": null,
            "visibility": null,
            "width": null
          }
        },
        "00840ed8b472468eb8ce02197b825840": {
          "model_module": "@jupyter-widgets/controls",
          "model_name": "DescriptionStyleModel",
          "model_module_version": "1.5.0",
          "state": {
            "_model_module": "@jupyter-widgets/controls",
            "_model_module_version": "1.5.0",
            "_model_name": "DescriptionStyleModel",
            "_view_count": null,
            "_view_module": "@jupyter-widgets/base",
            "_view_module_version": "1.2.0",
            "_view_name": "StyleView",
            "description_width": ""
          }
        }
      }
    }
  },
  "cells": [
    {
      "cell_type": "markdown",
      "metadata": {
        "id": "view-in-github",
        "colab_type": "text"
      },
      "source": [
        "<a href=\"https://colab.research.google.com/github/osmarbraz/sri/blob/main/1_1_Segmentacao_Limpeza_v1.ipynb\" target=\"_parent\"><img src=\"https://colab.research.google.com/assets/colab-badge.svg\" alt=\"Open In Colab\"/></a>"
      ]
    },
    {
      "cell_type": "markdown",
      "metadata": {
        "id": "EKOTlwcmxmej"
      },
      "source": [
        "# Segmentação e limpeza\n",
        "\n",
        "Realiza a segmentação e limpeza de um conjunto de dados em sua forma bruta.\n",
        "\n",
        "**Entrada**: \"`documentos.csv`\".\n",
        " - Cada linha do arquivo é formado por `[\"id\",\"documento\"]`.\n",
        "  - `\"id\"` é o idenficador do documento.\n",
        "  - `\"documento\"` o documento texto no seu formato bruto.\n",
        "\n",
        "**Saída**: \"`dataset.zip`\".\n",
        " - Dentro do arquivo compactado `dataset.zip` está o arquivo `dataset.csv`. Cada linha de `dataset.csv` é formado por `[\"id\",\"sentencas\",\"documento\"]`.\n",
        "  - `\"id\"` é o idenficador do documento na base de dados.\n",
        "  - `\"sentencas\"` é uma lista com as sentenças do documento.\n",
        "  - `\"documento\"` o documento limpo, mas não segmentado.\n",
        "\n",
        "**Processamento**:\n",
        "1. Copia o arquivo \"`documentos.csv`\" para a máquina local do\n",
        "Google Colab.\n",
        "2. Realiza as seguintes tarefas de limpeza:\n",
        "    - Substitui \\n por espaço em branco;\n",
        "    - Elimina pontuações repetidas (\"???\",\"!!!\",\",,,\");\n",
        "    - Elimina de espaços em branco repetidos;\n",
        "    - Elimina tags.\n",
        "3. Realiza a segmentação.\n",
        "4. Gera o arquivo \"`dataset.csv`\" com os dados pré-processados.\n",
        "5. Compacta o arquivo \"`dataset.csv`\" para \"`dataset.zip`\".\n",
        "6. Copia o arquivo \"`dataset.zip`\" para o google drive.\n",
        "\n",
        "**Atenção - Para executar este notebook e os próximos siga as instruções abaixo.**\n",
        "\n",
        "1. Crie a pasta \"`Colab Notebooks`\" na raiz do seu google drive para receber pastas de projetos.\n",
        "2. Dentro da pasta \"`Colab Notebooks`\" crie a pasta \"`SRI`\" para armazenar e executar os notebooks das atividades práticas da disciplina.\n",
        "3. Dentro da pasta \"`SRI`\" crie a pasta \"data\" e coloque o arquivo de dados \"`documentos.csv`\".\n",
        "\n",
        "**Testes:**\n",
        "\n",
        "Os arquivos \"`documentos.csv`\" e \"`dataset.csv`\" precisam ter ao final da execução a mesma quantidade de linhas. Onde cada linha de  \"`dataset.csv`\" deve estar relacionada com a mesma linha de \"`documentos.csv`\".\n"
      ]
    },
    {
      "cell_type": "markdown",
      "metadata": {
        "id": "OP33KWAtBMWs"
      },
      "source": [
        "# 1 Preparação do ambiente\n",
        "\n",
        "Preparação do ambiente para execução do script."
      ]
    },
    {
      "cell_type": "markdown",
      "metadata": {
        "id": "PKUr9Vk4BNLC"
      },
      "source": [
        "## 1.1 Tempo inicial de processamento"
      ]
    },
    {
      "cell_type": "code",
      "metadata": {
        "id": "JXclHCRQBSF2"
      },
      "source": [
        "# Import das bibliotecas.\n",
        "import time\n",
        "import datetime\n",
        "\n",
        "# Marca o tempo de início do processamento\n",
        "inicio_processamento = time.time()"
      ],
      "execution_count": null,
      "outputs": []
    },
    {
      "cell_type": "markdown",
      "metadata": {
        "id": "GOcN8hK-scnt"
      },
      "source": [
        "## 1.2 Funções e classes auxiliares"
      ]
    },
    {
      "cell_type": "markdown",
      "source": [
        "Verifica se existe o diretório do notebook no diretório corrente.   \n"
      ],
      "metadata": {
        "id": "OPRnA-mk5-c4"
      }
    },
    {
      "cell_type": "code",
      "source": [
        "# Import das bibliotecas.\n",
        "import os # Biblioteca para manipular arquivos\n",
        "\n",
        "# ============================\n",
        "def verificaDiretorioNotebook():\n",
        "    \"\"\"\n",
        "      Verifica se existe o diretório do notebook no diretório corrente.\n",
        "    \"\"\"\n",
        "\n",
        "    # Verifica se o diretório existe\n",
        "    if not os.path.exists(DIRETORIO_NOTEBOOK):\n",
        "        # Cria o diretório\n",
        "        os.makedirs(DIRETORIO_NOTEBOOK)\n",
        "        logging.info(\"Diretório do notebook criado: {}\".format(DIRETORIO_NOTEBOOK))\n",
        "\n",
        "    return DIRETORIO_NOTEBOOK"
      ],
      "metadata": {
        "id": "Fj5TaAH_5-nB"
      },
      "execution_count": null,
      "outputs": []
    },
    {
      "cell_type": "markdown",
      "metadata": {
        "id": "ksYnRk7zLGp0"
      },
      "source": [
        "Remove tags de um documento"
      ]
    },
    {
      "cell_type": "code",
      "metadata": {
        "id": "6qwKjGvyLG4v"
      },
      "source": [
        "def remove_tags(documento):\n",
        "    \"\"\"\n",
        "      Remove tags de um documento\n",
        "    \"\"\"\n",
        "\n",
        "    import re\n",
        "\n",
        "    documento_limpo = re.compile(\"<.*?>\")\n",
        "    return re.sub(documento_limpo, \"\", documento)"
      ],
      "execution_count": null,
      "outputs": []
    },
    {
      "cell_type": "markdown",
      "metadata": {
        "id": "603LYIYKBmq5"
      },
      "source": [
        "Função auxiliar para formatar o tempo como `hh: mm: ss`"
      ]
    },
    {
      "cell_type": "code",
      "metadata": {
        "id": "Guy6B4whsZFR"
      },
      "source": [
        "# Import das bibliotecas.\n",
        "import time\n",
        "import datetime\n",
        "\n",
        "def formataTempo(tempo):\n",
        "    \"\"\"\n",
        "      Pega a tempo em segundos e retorna uma string hh:mm:ss\n",
        "    \"\"\"\n",
        "    # Arredonda para o segundo mais próximo.\n",
        "    tempoArredondado = int(round((tempo)))\n",
        "\n",
        "    # Formata como hh:mm:ss\n",
        "    return str(datetime.timedelta(seconds=tempoArredondado))"
      ],
      "execution_count": null,
      "outputs": []
    },
    {
      "cell_type": "markdown",
      "metadata": {
        "id": "zVKAapz7RCxk"
      },
      "source": [
        "Classe(ModelosParametros) de definição dos parâmetros dos modelos"
      ]
    },
    {
      "cell_type": "code",
      "metadata": {
        "id": "zgmN6RqDRDZS"
      },
      "source": [
        "# Import das bibliotecas.\n",
        "from dataclasses import dataclass, field\n",
        "from typing import Dict, Optional\n",
        "from typing import List\n",
        "\n",
        "@dataclass\n",
        "class ModelosParametros:\n",
        "    modelo_spacy: str = field(\n",
        "        default=\"pt_core_news_lg\",\n",
        "        metadata={\"help\": \"nome do modelo do spaCy.\"},\n",
        "    )\n",
        "\n",
        "    sentenciar_documento: bool = field(\n",
        "        default=True,\n",
        "        metadata={\"help\": \"Dividir o documento em sentenças(frases).\"},\n",
        "    )"
      ],
      "execution_count": null,
      "outputs": []
    },
    {
      "cell_type": "markdown",
      "metadata": {
        "id": "SX6jTGkBMNvV"
      },
      "source": [
        "Biblioteca de limpeza de tela\n"
      ]
    },
    {
      "cell_type": "code",
      "metadata": {
        "id": "95qYX7uzMNvX"
      },
      "source": [
        "# Import das bibliotecas.\n",
        "from IPython.display import clear_output"
      ],
      "execution_count": null,
      "outputs": []
    },
    {
      "cell_type": "markdown",
      "metadata": {
        "id": "iAPVtRXQqDim"
      },
      "source": [
        "## 1.3 Tratamento de logs"
      ]
    },
    {
      "cell_type": "code",
      "metadata": {
        "id": "DcopxbGZqDip"
      },
      "source": [
        "# Import das bibliotecas.\n",
        "import logging # Biblioteca de logging\n",
        "\n",
        "# Formatando a mensagem de logging\n",
        "logging.basicConfig(format=\"%(asctime)s : %(levelname)s : %(message)s\")\n",
        "\n",
        "logger = logging.getLogger()\n",
        "logger.setLevel(logging.INFO)"
      ],
      "execution_count": null,
      "outputs": []
    },
    {
      "cell_type": "markdown",
      "metadata": {
        "id": "_GjYtXcMnSAe"
      },
      "source": [
        "## 1.4 Identificando o ambiente Colab"
      ]
    },
    {
      "cell_type": "code",
      "metadata": {
        "id": "YMiH0E3OnRa1"
      },
      "source": [
        "# Import das bibliotecas.\n",
        "import sys # Biblioteca para acessar módulos do sistema\n",
        "\n",
        "# Se estiver executando no Google Colaboratory\n",
        "# Retorna true ou false se estiver no Google Colaboratory\n",
        "IN_COLAB = \"google.colab\" in sys.modules"
      ],
      "execution_count": null,
      "outputs": []
    },
    {
      "cell_type": "markdown",
      "metadata": {
        "id": "RinFHFesVKis"
      },
      "source": [
        "## 1.5 Colaboratory"
      ]
    },
    {
      "cell_type": "markdown",
      "metadata": {
        "id": "MPngEboiVbfi"
      },
      "source": [
        "Usando Colab GPU para Treinamento\n"
      ]
    },
    {
      "cell_type": "markdown",
      "metadata": {
        "id": "EjWE6WlvVbfj"
      },
      "source": [
        "Uma GPU pode ser adicionada acessando o menu e selecionando:\n",
        "\n",
        "`Edit -> Notebook Settings -> Hardware accelerator -> (GPU)`\n",
        "\n",
        "Em seguida, execute a célula a seguir para confirmar que a GPU foi detectada."
      ]
    },
    {
      "cell_type": "code",
      "metadata": {
        "colab": {
          "base_uri": "https://localhost:8080/"
        },
        "id": "vtaYZmc3Vbfj",
        "outputId": "c0e16b17-c60e-4da4-9583-557ff06f1927"
      },
      "source": [
        "# Import das bibliotecas.\n",
        "import tensorflow as tf\n",
        "\n",
        "# Recupera o nome do dispositido da GPU.\n",
        "device_name = tf.test.gpu_device_name()\n",
        "\n",
        "# O nome do dispositivo deve ser parecido com o seguinte:\n",
        "if device_name == \"/device:GPU:0\":\n",
        "    logging.info(\"Encontrei GPU em: {}\".format(device_name))\n",
        "else:\n",
        "    logging.info(\"Dispositivo GPU não encontrado\")\n",
        "    #raise SystemError(\"Dispositivo GPU não encontrado\")"
      ],
      "execution_count": null,
      "outputs": [
        {
          "output_type": "stream",
          "name": "stderr",
          "text": [
            "INFO:numexpr.utils:NumExpr defaulting to 2 threads.\n",
            "INFO:root:Dispositivo GPU não encontrado\n"
          ]
        }
      ]
    },
    {
      "cell_type": "markdown",
      "metadata": {
        "id": "iYRrUo2XWa8G"
      },
      "source": [
        "Nome da GPU\n",
        "\n",
        "Para que a torch use a GPU, precisamos identificar e especificar a GPU como o dispositivo. Posteriormente, em nosso ciclo de treinamento, carregaremos dados no dispositivo.\n",
        "\n",
        "Vale a pena observar qual GPU você recebeu. A GPU Tesla P100 é muito mais rápido que as outras GPUs, abaixo uma lista ordenada:\n",
        "- 1o Tesla P100\n",
        "- 2o Tesla T4\n",
        "- 3o Tesla P4 (Não tem memória para execução 4 x 8, somente 2 x 4)\n",
        "- 4o Tesla K80 (Não tem memória para execução 4 x 8, somente 2 x 4)"
      ]
    },
    {
      "cell_type": "code",
      "execution_count": null,
      "metadata": {
        "id": "zrjqDO6nWa8J"
      },
      "outputs": [],
      "source": [
        "# Import das bibliotecas.\n",
        "import torch\n",
        "\n",
        "def getDeviceGPU():\n",
        "    \"\"\"\n",
        "      Retorna um dispositivo de GPU se disponível ou CPU.\n",
        "\n",
        "      Retorno:\n",
        "        `device` - Um device de GPU ou CPU.\n",
        "    \"\"\"\n",
        "\n",
        "    # Se existe GPU disponível.\n",
        "    if torch.cuda.is_available():\n",
        "\n",
        "        # Diz ao PyTorch para usar GPU.\n",
        "        device = torch.device(\"cuda\")\n",
        "\n",
        "        logging.info(\"Existem {} GPU(s) disponíveis.\".format(torch.cuda.device_count()))\n",
        "        logging.info(\"Iremos usar a GPU: {}.\".format(torch.cuda.get_device_name(0)))\n",
        "\n",
        "    # Se não.\n",
        "    else:\n",
        "        logging.info(\"Sem GPU disponível, usando CPU.\")\n",
        "        device = torch.device(\"cpu\")\n",
        "\n",
        "    return device"
      ]
    },
    {
      "cell_type": "code",
      "source": [
        "# Recupera o device com GPU ou CPU\n",
        "device = getDeviceGPU()"
      ],
      "metadata": {
        "id": "ChDxmtXsKwjf",
        "colab": {
          "base_uri": "https://localhost:8080/"
        },
        "outputId": "caccdbcd-ca3a-43b7-cbaf-ad8315b8dc69"
      },
      "execution_count": null,
      "outputs": [
        {
          "output_type": "stream",
          "name": "stderr",
          "text": [
            "INFO:root:Sem GPU disponível, usando CPU.\n"
          ]
        }
      ]
    },
    {
      "cell_type": "markdown",
      "metadata": {
        "id": "fGf59D0yVNx9"
      },
      "source": [
        "Memória\n",
        "\n",
        "Memória disponível no ambiente"
      ]
    },
    {
      "cell_type": "code",
      "metadata": {
        "colab": {
          "base_uri": "https://localhost:8080/"
        },
        "id": "1iC5-pSAVh7_",
        "outputId": "23e5ed38-72ca-4b89-f18c-bc5f258db020"
      },
      "source": [
        "# Importando as bibliotecas.\n",
        "from psutil import virtual_memory\n",
        "\n",
        "ram_gb = virtual_memory().total / 1e9\n",
        "logging.info(\"Seu ambiente de execução tem {: .1f} gigabytes de RAM disponível\\n\".format(ram_gb))\n",
        "\n",
        "if ram_gb < 20:\n",
        "  logging.info(\"Para habilitar um tempo de execução de RAM alta, selecione menu o ambiente de execução> \\\"Alterar tipo de tempo de execução\\\"\")\n",
        "  logging.info(\"e selecione High-RAM. Então, execute novamente está célula\")\n",
        "else:\n",
        "  logging.info(\"Você está usando um ambiente de execução de memória RAM alta!\")"
      ],
      "execution_count": null,
      "outputs": [
        {
          "output_type": "stream",
          "name": "stderr",
          "text": [
            "INFO:root:Seu ambiente de execução tem  13.6 gigabytes de RAM disponível\n",
            "\n",
            "INFO:root:Para habilitar um tempo de execução de RAM alta, selecione menu o ambiente de execução> \"Alterar tipo de tempo de execução\"\n",
            "INFO:root:e selecione High-RAM. Então, execute novamente está célula\n"
          ]
        }
      ]
    },
    {
      "cell_type": "markdown",
      "metadata": {
        "id": "wijMXooQQLcQ"
      },
      "source": [
        "## 1.6 Monta uma pasta no google drive para carregar os arquivos de dados."
      ]
    },
    {
      "cell_type": "code",
      "metadata": {
        "colab": {
          "base_uri": "https://localhost:8080/"
        },
        "id": "ysnDDapMQK8K",
        "outputId": "fc727eed-636a-4bf5-ec95-a0c95ce14317"
      },
      "source": [
        "# import necessário\n",
        "from google.colab import drive\n",
        "\n",
        "# Monta o drive na pasta especificada\n",
        "drive.mount(\"/content/drive\")"
      ],
      "execution_count": null,
      "outputs": [
        {
          "output_type": "stream",
          "name": "stdout",
          "text": [
            "Mounted at /content/drive\n"
          ]
        }
      ]
    },
    {
      "cell_type": "markdown",
      "metadata": {
        "id": "oOd2MbBiDq93"
      },
      "source": [
        "## 1.7 Instalação do spaCy\n",
        "\n",
        "https://spacy.io/\n",
        "\n",
        "Modelos do spaCy para português:\n",
        "https://spacy.io/models/pt\n",
        "\n",
        "Uso:\n",
        "https://spacy.io/usage"
      ]
    },
    {
      "cell_type": "code",
      "metadata": {
        "id": "EaMM4WdxgvQ7",
        "colab": {
          "base_uri": "https://localhost:8080/"
        },
        "outputId": "69c30e95-dc26-4e4e-f050-f240739f4c34"
      },
      "source": [
        "# Instala dependências do spacy\n",
        "!pip install -U pip setuptools wheel"
      ],
      "execution_count": null,
      "outputs": [
        {
          "output_type": "stream",
          "name": "stdout",
          "text": [
            "Looking in indexes: https://pypi.org/simple, https://us-python.pkg.dev/colab-wheels/public/simple/\n",
            "Requirement already satisfied: pip in /usr/local/lib/python3.10/dist-packages (23.1.2)\n",
            "Requirement already satisfied: setuptools in /usr/local/lib/python3.10/dist-packages (67.7.2)\n",
            "Requirement already satisfied: wheel in /usr/local/lib/python3.10/dist-packages (0.40.0)\n"
          ]
        }
      ]
    },
    {
      "cell_type": "code",
      "metadata": {
        "id": "w4p3Rz2qDq94",
        "colab": {
          "base_uri": "https://localhost:8080/"
        },
        "outputId": "d8c3eb7e-6b93-4299-bd06-0d2c18b8d604"
      },
      "source": [
        "# Instala uma versão específica\n",
        "!pip install -U spacy==3.4.4 #3.5.0"
      ],
      "execution_count": null,
      "outputs": [
        {
          "output_type": "stream",
          "name": "stdout",
          "text": [
            "Looking in indexes: https://pypi.org/simple, https://us-python.pkg.dev/colab-wheels/public/simple/\n",
            "Collecting spacy==3.4.4\n",
            "  Downloading spacy-3.4.4-cp310-cp310-manylinux_2_17_x86_64.manylinux2014_x86_64.whl (6.5 MB)\n",
            "\u001b[2K     \u001b[90m━━━━━━━━━━━━━━━━━━━━━━━━━━━━━━━━━━━━━━━━\u001b[0m \u001b[32m6.5/6.5 MB\u001b[0m \u001b[31m33.5 MB/s\u001b[0m eta \u001b[36m0:00:00\u001b[0m\n",
            "\u001b[?25hRequirement already satisfied: spacy-legacy<3.1.0,>=3.0.10 in /usr/local/lib/python3.10/dist-packages (from spacy==3.4.4) (3.0.12)\n",
            "Requirement already satisfied: spacy-loggers<2.0.0,>=1.0.0 in /usr/local/lib/python3.10/dist-packages (from spacy==3.4.4) (1.0.4)\n",
            "Requirement already satisfied: murmurhash<1.1.0,>=0.28.0 in /usr/local/lib/python3.10/dist-packages (from spacy==3.4.4) (1.0.9)\n",
            "Requirement already satisfied: cymem<2.1.0,>=2.0.2 in /usr/local/lib/python3.10/dist-packages (from spacy==3.4.4) (2.0.7)\n",
            "Requirement already satisfied: preshed<3.1.0,>=3.0.2 in /usr/local/lib/python3.10/dist-packages (from spacy==3.4.4) (3.0.8)\n",
            "Requirement already satisfied: thinc<8.2.0,>=8.1.0 in /usr/local/lib/python3.10/dist-packages (from spacy==3.4.4) (8.1.9)\n",
            "Collecting wasabi<1.1.0,>=0.9.1 (from spacy==3.4.4)\n",
            "  Downloading wasabi-0.10.1-py3-none-any.whl (26 kB)\n",
            "Requirement already satisfied: srsly<3.0.0,>=2.4.3 in /usr/local/lib/python3.10/dist-packages (from spacy==3.4.4) (2.4.6)\n",
            "Requirement already satisfied: catalogue<2.1.0,>=2.0.6 in /usr/local/lib/python3.10/dist-packages (from spacy==3.4.4) (2.0.8)\n",
            "Requirement already satisfied: typer<0.8.0,>=0.3.0 in /usr/local/lib/python3.10/dist-packages (from spacy==3.4.4) (0.7.0)\n",
            "Requirement already satisfied: pathy>=0.3.5 in /usr/local/lib/python3.10/dist-packages (from spacy==3.4.4) (0.10.1)\n",
            "Requirement already satisfied: smart-open<7.0.0,>=5.2.1 in /usr/local/lib/python3.10/dist-packages (from spacy==3.4.4) (6.3.0)\n",
            "Requirement already satisfied: tqdm<5.0.0,>=4.38.0 in /usr/local/lib/python3.10/dist-packages (from spacy==3.4.4) (4.65.0)\n",
            "Requirement already satisfied: numpy>=1.15.0 in /usr/local/lib/python3.10/dist-packages (from spacy==3.4.4) (1.22.4)\n",
            "Requirement already satisfied: requests<3.0.0,>=2.13.0 in /usr/local/lib/python3.10/dist-packages (from spacy==3.4.4) (2.27.1)\n",
            "Requirement already satisfied: pydantic!=1.8,!=1.8.1,<1.11.0,>=1.7.4 in /usr/local/lib/python3.10/dist-packages (from spacy==3.4.4) (1.10.7)\n",
            "Requirement already satisfied: jinja2 in /usr/local/lib/python3.10/dist-packages (from spacy==3.4.4) (3.1.2)\n",
            "Requirement already satisfied: setuptools in /usr/local/lib/python3.10/dist-packages (from spacy==3.4.4) (67.7.2)\n",
            "Requirement already satisfied: packaging>=20.0 in /usr/local/lib/python3.10/dist-packages (from spacy==3.4.4) (23.1)\n",
            "Requirement already satisfied: langcodes<4.0.0,>=3.2.0 in /usr/local/lib/python3.10/dist-packages (from spacy==3.4.4) (3.3.0)\n",
            "Requirement already satisfied: typing-extensions>=4.2.0 in /usr/local/lib/python3.10/dist-packages (from pydantic!=1.8,!=1.8.1,<1.11.0,>=1.7.4->spacy==3.4.4) (4.5.0)\n",
            "Requirement already satisfied: urllib3<1.27,>=1.21.1 in /usr/local/lib/python3.10/dist-packages (from requests<3.0.0,>=2.13.0->spacy==3.4.4) (1.26.15)\n",
            "Requirement already satisfied: certifi>=2017.4.17 in /usr/local/lib/python3.10/dist-packages (from requests<3.0.0,>=2.13.0->spacy==3.4.4) (2022.12.7)\n",
            "Requirement already satisfied: charset-normalizer~=2.0.0 in /usr/local/lib/python3.10/dist-packages (from requests<3.0.0,>=2.13.0->spacy==3.4.4) (2.0.12)\n",
            "Requirement already satisfied: idna<4,>=2.5 in /usr/local/lib/python3.10/dist-packages (from requests<3.0.0,>=2.13.0->spacy==3.4.4) (3.4)\n",
            "Requirement already satisfied: blis<0.8.0,>=0.7.8 in /usr/local/lib/python3.10/dist-packages (from thinc<8.2.0,>=8.1.0->spacy==3.4.4) (0.7.9)\n",
            "Requirement already satisfied: confection<1.0.0,>=0.0.1 in /usr/local/lib/python3.10/dist-packages (from thinc<8.2.0,>=8.1.0->spacy==3.4.4) (0.0.4)\n",
            "Requirement already satisfied: click<9.0.0,>=7.1.1 in /usr/local/lib/python3.10/dist-packages (from typer<0.8.0,>=0.3.0->spacy==3.4.4) (8.1.3)\n",
            "Requirement already satisfied: MarkupSafe>=2.0 in /usr/local/lib/python3.10/dist-packages (from jinja2->spacy==3.4.4) (2.1.2)\n",
            "Installing collected packages: wasabi, spacy\n",
            "  Attempting uninstall: wasabi\n",
            "    Found existing installation: wasabi 1.1.1\n",
            "    Uninstalling wasabi-1.1.1:\n",
            "      Successfully uninstalled wasabi-1.1.1\n",
            "  Attempting uninstall: spacy\n",
            "    Found existing installation: spacy 3.5.2\n",
            "    Uninstalling spacy-3.5.2:\n",
            "      Successfully uninstalled spacy-3.5.2\n",
            "\u001b[31mERROR: pip's dependency resolver does not currently take into account all the packages that are installed. This behaviour is the source of the following dependency conflicts.\n",
            "en-core-web-sm 3.5.0 requires spacy<3.6.0,>=3.5.0, but you have spacy 3.4.4 which is incompatible.\u001b[0m\u001b[31m\n",
            "\u001b[0mSuccessfully installed spacy-3.4.4 wasabi-0.10.1\n"
          ]
        }
      ]
    },
    {
      "cell_type": "markdown",
      "metadata": {
        "id": "8bGda5JgMtQe"
      },
      "source": [
        "# 2 Parametrização"
      ]
    },
    {
      "cell_type": "markdown",
      "source": [
        "## Gerais"
      ],
      "metadata": {
        "id": "ifrYNTwGwKal"
      }
    },
    {
      "cell_type": "code",
      "source": [
        "# Definição dos parâmetros gerais"
      ],
      "metadata": {
        "id": "5uiH9pNpwI6g"
      },
      "execution_count": null,
      "outputs": []
    },
    {
      "cell_type": "markdown",
      "source": [
        "## Específicos"
      ],
      "metadata": {
        "id": "mhByVujAwNAU"
      }
    },
    {
      "cell_type": "markdown",
      "source": [
        "Parâmetros do modelo"
      ],
      "metadata": {
        "id": "SnEeFAFx1FqQ"
      }
    },
    {
      "cell_type": "code",
      "metadata": {
        "id": "oJ15-ylRRRdD"
      },
      "source": [
        "# Definição dos parâmetros do Modelo.\n",
        "model_args = ModelosParametros(\n",
        "\n",
        "    #modelo_spacy = \"en_core_web_lg\",\n",
        "    #modelo_spacy = \"en_core_web_md\",\n",
        "    #modelo_spacy = \"en_core_web_sm\",\n",
        "\n",
        "    modelo_spacy = \"pt_core_news_lg\",\n",
        "    #modelo_spacy = \"pt_core_news_md\",\n",
        "    #modelo_spacy = \"pt_core_news_sm\",\n",
        "\n",
        "    sentenciar_documento = True,\n",
        ")"
      ],
      "execution_count": null,
      "outputs": []
    },
    {
      "cell_type": "markdown",
      "source": [
        "## Nome do diretório dos arquivos de dados"
      ],
      "metadata": {
        "id": "ecwtQDArKvZn"
      }
    },
    {
      "cell_type": "code",
      "source": [
        "# Diretório do notebook\n",
        "DIRETORIO_NOTEBOOK = \"SRI\""
      ],
      "metadata": {
        "id": "YtNygH9qKvmp"
      },
      "execution_count": null,
      "outputs": []
    },
    {
      "cell_type": "markdown",
      "metadata": {
        "id": "SUxlx7Sx4yxj"
      },
      "source": [
        "## Define o caminho para os arquivos de dados"
      ]
    },
    {
      "cell_type": "code",
      "execution_count": null,
      "metadata": {
        "id": "-gQpxAO74yxj"
      },
      "outputs": [],
      "source": [
        "# Diretório local para os arquivos de dados\n",
        "DIRETORIO_LOCAL = \"/content/\" + DIRETORIO_NOTEBOOK + \"/\"\n",
        "\n",
        "# Diretório no google drive com os arquivos de dados\n",
        "DIRETORIO_DRIVE = \"/content/drive/MyDrive/Colab Notebooks/\" + DIRETORIO_NOTEBOOK + \"/data/\""
      ]
    },
    {
      "cell_type": "markdown",
      "metadata": {
        "id": "L7G3-MOsQ1N_"
      },
      "source": [
        "# 3 spaCy"
      ]
    },
    {
      "cell_type": "markdown",
      "metadata": {
        "id": "35GwcgkOlWi3"
      },
      "source": [
        "## 3.1 Download arquivo modelo\n",
        "\n",
        "Uso:\n",
        "https://spacy.io/usage\n",
        "\n",
        "Modelos:\n",
        "https://spacy.io/models"
      ]
    },
    {
      "cell_type": "code",
      "source": [
        "!python -m spacy download $model_args.modelo_spacy"
      ],
      "metadata": {
        "id": "_lqonzGcupXI",
        "colab": {
          "base_uri": "https://localhost:8080/"
        },
        "outputId": "44ac3632-1bb0-42a4-8a0d-6345a2b525d3"
      },
      "execution_count": null,
      "outputs": [
        {
          "output_type": "stream",
          "name": "stdout",
          "text": [
            "2023-05-10 19:56:02.962520: W tensorflow/compiler/tf2tensorrt/utils/py_utils.cc:38] TF-TRT Warning: Could not find TensorRT\n",
            "Looking in indexes: https://pypi.org/simple, https://us-python.pkg.dev/colab-wheels/public/simple/\n",
            "Collecting pt-core-news-lg==3.4.0\n",
            "  Downloading https://github.com/explosion/spacy-models/releases/download/pt_core_news_lg-3.4.0/pt_core_news_lg-3.4.0-py3-none-any.whl (568.2 MB)\n",
            "\u001b[2K     \u001b[90m━━━━━━━━━━━━━━━━━━━━━━━━━━━━━━━━━━━━━━━\u001b[0m \u001b[32m568.2/568.2 MB\u001b[0m \u001b[31m2.6 MB/s\u001b[0m eta \u001b[36m0:00:00\u001b[0m\n",
            "\u001b[?25hRequirement already satisfied: spacy<3.5.0,>=3.4.0 in /usr/local/lib/python3.10/dist-packages (from pt-core-news-lg==3.4.0) (3.4.4)\n",
            "Requirement already satisfied: spacy-legacy<3.1.0,>=3.0.10 in /usr/local/lib/python3.10/dist-packages (from spacy<3.5.0,>=3.4.0->pt-core-news-lg==3.4.0) (3.0.12)\n",
            "Requirement already satisfied: spacy-loggers<2.0.0,>=1.0.0 in /usr/local/lib/python3.10/dist-packages (from spacy<3.5.0,>=3.4.0->pt-core-news-lg==3.4.0) (1.0.4)\n",
            "Requirement already satisfied: murmurhash<1.1.0,>=0.28.0 in /usr/local/lib/python3.10/dist-packages (from spacy<3.5.0,>=3.4.0->pt-core-news-lg==3.4.0) (1.0.9)\n",
            "Requirement already satisfied: cymem<2.1.0,>=2.0.2 in /usr/local/lib/python3.10/dist-packages (from spacy<3.5.0,>=3.4.0->pt-core-news-lg==3.4.0) (2.0.7)\n",
            "Requirement already satisfied: preshed<3.1.0,>=3.0.2 in /usr/local/lib/python3.10/dist-packages (from spacy<3.5.0,>=3.4.0->pt-core-news-lg==3.4.0) (3.0.8)\n",
            "Requirement already satisfied: thinc<8.2.0,>=8.1.0 in /usr/local/lib/python3.10/dist-packages (from spacy<3.5.0,>=3.4.0->pt-core-news-lg==3.4.0) (8.1.9)\n",
            "Requirement already satisfied: wasabi<1.1.0,>=0.9.1 in /usr/local/lib/python3.10/dist-packages (from spacy<3.5.0,>=3.4.0->pt-core-news-lg==3.4.0) (0.10.1)\n",
            "Requirement already satisfied: srsly<3.0.0,>=2.4.3 in /usr/local/lib/python3.10/dist-packages (from spacy<3.5.0,>=3.4.0->pt-core-news-lg==3.4.0) (2.4.6)\n",
            "Requirement already satisfied: catalogue<2.1.0,>=2.0.6 in /usr/local/lib/python3.10/dist-packages (from spacy<3.5.0,>=3.4.0->pt-core-news-lg==3.4.0) (2.0.8)\n",
            "Requirement already satisfied: typer<0.8.0,>=0.3.0 in /usr/local/lib/python3.10/dist-packages (from spacy<3.5.0,>=3.4.0->pt-core-news-lg==3.4.0) (0.7.0)\n",
            "Requirement already satisfied: pathy>=0.3.5 in /usr/local/lib/python3.10/dist-packages (from spacy<3.5.0,>=3.4.0->pt-core-news-lg==3.4.0) (0.10.1)\n",
            "Requirement already satisfied: smart-open<7.0.0,>=5.2.1 in /usr/local/lib/python3.10/dist-packages (from spacy<3.5.0,>=3.4.0->pt-core-news-lg==3.4.0) (6.3.0)\n",
            "Requirement already satisfied: tqdm<5.0.0,>=4.38.0 in /usr/local/lib/python3.10/dist-packages (from spacy<3.5.0,>=3.4.0->pt-core-news-lg==3.4.0) (4.65.0)\n",
            "Requirement already satisfied: numpy>=1.15.0 in /usr/local/lib/python3.10/dist-packages (from spacy<3.5.0,>=3.4.0->pt-core-news-lg==3.4.0) (1.22.4)\n",
            "Requirement already satisfied: requests<3.0.0,>=2.13.0 in /usr/local/lib/python3.10/dist-packages (from spacy<3.5.0,>=3.4.0->pt-core-news-lg==3.4.0) (2.27.1)\n",
            "Requirement already satisfied: pydantic!=1.8,!=1.8.1,<1.11.0,>=1.7.4 in /usr/local/lib/python3.10/dist-packages (from spacy<3.5.0,>=3.4.0->pt-core-news-lg==3.4.0) (1.10.7)\n",
            "Requirement already satisfied: jinja2 in /usr/local/lib/python3.10/dist-packages (from spacy<3.5.0,>=3.4.0->pt-core-news-lg==3.4.0) (3.1.2)\n",
            "Requirement already satisfied: setuptools in /usr/local/lib/python3.10/dist-packages (from spacy<3.5.0,>=3.4.0->pt-core-news-lg==3.4.0) (67.7.2)\n",
            "Requirement already satisfied: packaging>=20.0 in /usr/local/lib/python3.10/dist-packages (from spacy<3.5.0,>=3.4.0->pt-core-news-lg==3.4.0) (23.1)\n",
            "Requirement already satisfied: langcodes<4.0.0,>=3.2.0 in /usr/local/lib/python3.10/dist-packages (from spacy<3.5.0,>=3.4.0->pt-core-news-lg==3.4.0) (3.3.0)\n",
            "Requirement already satisfied: typing-extensions>=4.2.0 in /usr/local/lib/python3.10/dist-packages (from pydantic!=1.8,!=1.8.1,<1.11.0,>=1.7.4->spacy<3.5.0,>=3.4.0->pt-core-news-lg==3.4.0) (4.5.0)\n",
            "Requirement already satisfied: urllib3<1.27,>=1.21.1 in /usr/local/lib/python3.10/dist-packages (from requests<3.0.0,>=2.13.0->spacy<3.5.0,>=3.4.0->pt-core-news-lg==3.4.0) (1.26.15)\n",
            "Requirement already satisfied: certifi>=2017.4.17 in /usr/local/lib/python3.10/dist-packages (from requests<3.0.0,>=2.13.0->spacy<3.5.0,>=3.4.0->pt-core-news-lg==3.4.0) (2022.12.7)\n",
            "Requirement already satisfied: charset-normalizer~=2.0.0 in /usr/local/lib/python3.10/dist-packages (from requests<3.0.0,>=2.13.0->spacy<3.5.0,>=3.4.0->pt-core-news-lg==3.4.0) (2.0.12)\n",
            "Requirement already satisfied: idna<4,>=2.5 in /usr/local/lib/python3.10/dist-packages (from requests<3.0.0,>=2.13.0->spacy<3.5.0,>=3.4.0->pt-core-news-lg==3.4.0) (3.4)\n",
            "Requirement already satisfied: blis<0.8.0,>=0.7.8 in /usr/local/lib/python3.10/dist-packages (from thinc<8.2.0,>=8.1.0->spacy<3.5.0,>=3.4.0->pt-core-news-lg==3.4.0) (0.7.9)\n",
            "Requirement already satisfied: confection<1.0.0,>=0.0.1 in /usr/local/lib/python3.10/dist-packages (from thinc<8.2.0,>=8.1.0->spacy<3.5.0,>=3.4.0->pt-core-news-lg==3.4.0) (0.0.4)\n",
            "Requirement already satisfied: click<9.0.0,>=7.1.1 in /usr/local/lib/python3.10/dist-packages (from typer<0.8.0,>=0.3.0->spacy<3.5.0,>=3.4.0->pt-core-news-lg==3.4.0) (8.1.3)\n",
            "Requirement already satisfied: MarkupSafe>=2.0 in /usr/local/lib/python3.10/dist-packages (from jinja2->spacy<3.5.0,>=3.4.0->pt-core-news-lg==3.4.0) (2.1.2)\n",
            "Installing collected packages: pt-core-news-lg\n",
            "Successfully installed pt-core-news-lg-3.4.0\n",
            "\u001b[38;5;2m✔ Download and installation successful\u001b[0m\n",
            "You can now load the package via spacy.load('pt_core_news_lg')\n"
          ]
        }
      ]
    },
    {
      "cell_type": "markdown",
      "metadata": {
        "id": "STHT2c89qvwK"
      },
      "source": [
        "## 3.2 Carrega o modelo"
      ]
    },
    {
      "cell_type": "code",
      "source": [
        "# Import das bibliotecas.\n",
        "import spacy # Biblioteca do spaCy\n",
        "\n",
        "nlp = spacy.load(model_args.modelo_spacy)"
      ],
      "metadata": {
        "id": "6boQJOwotxhH"
      },
      "execution_count": null,
      "outputs": []
    },
    {
      "cell_type": "markdown",
      "metadata": {
        "id": "guw6ZNtaswKc"
      },
      "source": [
        "# 4 Pré-processamento do arquivo \"`documentos.csv`\"\n"
      ]
    },
    {
      "cell_type": "markdown",
      "source": [
        "## 4.1 Carrega os dados bruto"
      ],
      "metadata": {
        "id": "q5fZgM2mdsIP"
      }
    },
    {
      "cell_type": "markdown",
      "metadata": {
        "id": "EIhL_vEt6T47"
      },
      "source": [
        "### 4.1.1 Especifica s nome do arquivo de dados bruto\n",
        "\n"
      ]
    },
    {
      "cell_type": "code",
      "execution_count": null,
      "metadata": {
        "id": "HUf58mb_6T47"
      },
      "outputs": [],
      "source": [
        "# Nome do arquivo\n",
        "NOME_ARQUIVO_DADOS_BRUTO = \"documentos.csv\""
      ]
    },
    {
      "cell_type": "markdown",
      "source": [
        "### 4.1.2 Cria o diretório local para receber os arquivos de dados"
      ],
      "metadata": {
        "id": "t6aDyUuwIAgl"
      }
    },
    {
      "cell_type": "code",
      "execution_count": null,
      "metadata": {
        "id": "4AutOOfj6T47",
        "colab": {
          "base_uri": "https://localhost:8080/"
        },
        "outputId": "25eea7d6-7cfb-4cf3-f03c-24c663ab02a5"
      },
      "outputs": [
        {
          "output_type": "stream",
          "name": "stderr",
          "text": [
            "INFO:root:Diretório criado: /content/SRI\n"
          ]
        }
      ],
      "source": [
        "# Importando as bibliotecas.\n",
        "import os\n",
        "\n",
        "# Cria o diretório para receber os arquivos Originais e Permutados\n",
        "# Diretório a ser criado\n",
        "dirbase = DIRETORIO_LOCAL[:-1]\n",
        "\n",
        "if not os.path.exists(dirbase):\n",
        "    # Cria o diretório\n",
        "    os.makedirs(dirbase)\n",
        "    logging.info(\"Diretório criado: {}\".format(dirbase))\n",
        "else:\n",
        "    logging.info(\"Diretório já existe: {}\".format(dirbase))"
      ]
    },
    {
      "cell_type": "markdown",
      "metadata": {
        "id": "ELaau7QD4yxi"
      },
      "source": [
        "### 4.1.3 Copia o arquivos de dados bruto do google drive para o diretório local"
      ]
    },
    {
      "cell_type": "code",
      "execution_count": null,
      "metadata": {
        "id": "33PCWMXJ4yxk",
        "colab": {
          "base_uri": "https://localhost:8080/"
        },
        "outputId": "84f1aee5-d2cb-460c-a48a-1945deb599a4"
      },
      "outputs": [
        {
          "output_type": "stream",
          "name": "stderr",
          "text": [
            "INFO:root:Terminei a cópia!\n"
          ]
        }
      ],
      "source": [
        "# Se estiver executando no Google Colaboratory\n",
        "if IN_COLAB:\n",
        "\n",
        "  !cp \"$DIRETORIO_DRIVE$NOME_ARQUIVO_DADOS_BRUTO\" \"$DIRETORIO_LOCAL\"\n",
        "\n",
        "  logging.info(\"Terminei a cópia!\")"
      ]
    },
    {
      "cell_type": "markdown",
      "metadata": {
        "id": "SAkf-zUT_pg3"
      },
      "source": [
        "### 4.1.4 Carrega os dados no formato bruto\n",
        "\n",
        "Atributos do arquivo **documentos**:\n",
        "0. \"id\"\n",
        "1. \"documento\""
      ]
    },
    {
      "cell_type": "code",
      "source": [
        "# Import das bibliotecas.\n",
        "import pandas as pd\n",
        "\n",
        "# Abre o arquivo e retorna o DataFrame\n",
        "df_documentos_bruto = pd.read_csv(DIRETORIO_LOCAL + NOME_ARQUIVO_DADOS_BRUTO, sep=\";\", encoding=\"UTF-8\")\n",
        "\n",
        "logging.info(\"TERMINADO FONTES: {}.\".format(len(df_documentos_bruto)))"
      ],
      "metadata": {
        "id": "nbbS-8C3iINh",
        "colab": {
          "base_uri": "https://localhost:8080/"
        },
        "outputId": "d515284e-4075-4f62-b21e-71e66dbc57f0"
      },
      "execution_count": null,
      "outputs": [
        {
          "output_type": "stream",
          "name": "stderr",
          "text": [
            "INFO:root:TERMINADO FONTES: 20.\n"
          ]
        }
      ]
    },
    {
      "cell_type": "code",
      "source": [
        "df_documentos_bruto.sample(5)"
      ],
      "metadata": {
        "id": "dEzFii_GjjT8",
        "colab": {
          "base_uri": "https://localhost:8080/",
          "height": 206
        },
        "outputId": "4cbfb9ef-fdc4-4fa1-f8a3-83eaaaca05c0"
      },
      "execution_count": null,
      "outputs": [
        {
          "output_type": "execute_result",
          "data": {
            "text/plain": [
              "    id                                          documento\n",
              "14  15  Quase metade dos vôos previstos para decolar n...\n",
              "8    9  Um total de 549 pessoas morreram, 3.043 ficara...\n",
              "12  13  O médico pessoal do argentino Diego Maradona, ...\n",
              "3    4  Usando telescópios do Observatório Europeu Sul...\n",
              "17  18  O Itaú, segundo maior banco privado do País, o..."
            ],
            "text/html": [
              "\n",
              "  <div id=\"df-8b921a16-09b4-4efd-8dc5-633ddba42c56\">\n",
              "    <div class=\"colab-df-container\">\n",
              "      <div>\n",
              "<style scoped>\n",
              "    .dataframe tbody tr th:only-of-type {\n",
              "        vertical-align: middle;\n",
              "    }\n",
              "\n",
              "    .dataframe tbody tr th {\n",
              "        vertical-align: top;\n",
              "    }\n",
              "\n",
              "    .dataframe thead th {\n",
              "        text-align: right;\n",
              "    }\n",
              "</style>\n",
              "<table border=\"1\" class=\"dataframe\">\n",
              "  <thead>\n",
              "    <tr style=\"text-align: right;\">\n",
              "      <th></th>\n",
              "      <th>id</th>\n",
              "      <th>documento</th>\n",
              "    </tr>\n",
              "  </thead>\n",
              "  <tbody>\n",
              "    <tr>\n",
              "      <th>14</th>\n",
              "      <td>15</td>\n",
              "      <td>Quase metade dos vôos previstos para decolar n...</td>\n",
              "    </tr>\n",
              "    <tr>\n",
              "      <th>8</th>\n",
              "      <td>9</td>\n",
              "      <td>Um total de 549 pessoas morreram, 3.043 ficara...</td>\n",
              "    </tr>\n",
              "    <tr>\n",
              "      <th>12</th>\n",
              "      <td>13</td>\n",
              "      <td>O médico pessoal do argentino Diego Maradona, ...</td>\n",
              "    </tr>\n",
              "    <tr>\n",
              "      <th>3</th>\n",
              "      <td>4</td>\n",
              "      <td>Usando telescópios do Observatório Europeu Sul...</td>\n",
              "    </tr>\n",
              "    <tr>\n",
              "      <th>17</th>\n",
              "      <td>18</td>\n",
              "      <td>O Itaú, segundo maior banco privado do País, o...</td>\n",
              "    </tr>\n",
              "  </tbody>\n",
              "</table>\n",
              "</div>\n",
              "      <button class=\"colab-df-convert\" onclick=\"convertToInteractive('df-8b921a16-09b4-4efd-8dc5-633ddba42c56')\"\n",
              "              title=\"Convert this dataframe to an interactive table.\"\n",
              "              style=\"display:none;\">\n",
              "        \n",
              "  <svg xmlns=\"http://www.w3.org/2000/svg\" height=\"24px\"viewBox=\"0 0 24 24\"\n",
              "       width=\"24px\">\n",
              "    <path d=\"M0 0h24v24H0V0z\" fill=\"none\"/>\n",
              "    <path d=\"M18.56 5.44l.94 2.06.94-2.06 2.06-.94-2.06-.94-.94-2.06-.94 2.06-2.06.94zm-11 1L8.5 8.5l.94-2.06 2.06-.94-2.06-.94L8.5 2.5l-.94 2.06-2.06.94zm10 10l.94 2.06.94-2.06 2.06-.94-2.06-.94-.94-2.06-.94 2.06-2.06.94z\"/><path d=\"M17.41 7.96l-1.37-1.37c-.4-.4-.92-.59-1.43-.59-.52 0-1.04.2-1.43.59L10.3 9.45l-7.72 7.72c-.78.78-.78 2.05 0 2.83L4 21.41c.39.39.9.59 1.41.59.51 0 1.02-.2 1.41-.59l7.78-7.78 2.81-2.81c.8-.78.8-2.07 0-2.86zM5.41 20L4 18.59l7.72-7.72 1.47 1.35L5.41 20z\"/>\n",
              "  </svg>\n",
              "      </button>\n",
              "      \n",
              "  <style>\n",
              "    .colab-df-container {\n",
              "      display:flex;\n",
              "      flex-wrap:wrap;\n",
              "      gap: 12px;\n",
              "    }\n",
              "\n",
              "    .colab-df-convert {\n",
              "      background-color: #E8F0FE;\n",
              "      border: none;\n",
              "      border-radius: 50%;\n",
              "      cursor: pointer;\n",
              "      display: none;\n",
              "      fill: #1967D2;\n",
              "      height: 32px;\n",
              "      padding: 0 0 0 0;\n",
              "      width: 32px;\n",
              "    }\n",
              "\n",
              "    .colab-df-convert:hover {\n",
              "      background-color: #E2EBFA;\n",
              "      box-shadow: 0px 1px 2px rgba(60, 64, 67, 0.3), 0px 1px 3px 1px rgba(60, 64, 67, 0.15);\n",
              "      fill: #174EA6;\n",
              "    }\n",
              "\n",
              "    [theme=dark] .colab-df-convert {\n",
              "      background-color: #3B4455;\n",
              "      fill: #D2E3FC;\n",
              "    }\n",
              "\n",
              "    [theme=dark] .colab-df-convert:hover {\n",
              "      background-color: #434B5C;\n",
              "      box-shadow: 0px 1px 3px 1px rgba(0, 0, 0, 0.15);\n",
              "      filter: drop-shadow(0px 1px 2px rgba(0, 0, 0, 0.3));\n",
              "      fill: #FFFFFF;\n",
              "    }\n",
              "  </style>\n",
              "\n",
              "      <script>\n",
              "        const buttonEl =\n",
              "          document.querySelector('#df-8b921a16-09b4-4efd-8dc5-633ddba42c56 button.colab-df-convert');\n",
              "        buttonEl.style.display =\n",
              "          google.colab.kernel.accessAllowed ? 'block' : 'none';\n",
              "\n",
              "        async function convertToInteractive(key) {\n",
              "          const element = document.querySelector('#df-8b921a16-09b4-4efd-8dc5-633ddba42c56');\n",
              "          const dataTable =\n",
              "            await google.colab.kernel.invokeFunction('convertToInteractive',\n",
              "                                                     [key], {});\n",
              "          if (!dataTable) return;\n",
              "\n",
              "          const docLinkHtml = 'Like what you see? Visit the ' +\n",
              "            '<a target=\"_blank\" href=https://colab.research.google.com/notebooks/data_table.ipynb>data table notebook</a>'\n",
              "            + ' to learn more about interactive tables.';\n",
              "          element.innerHTML = '';\n",
              "          dataTable['output_type'] = 'display_data';\n",
              "          await google.colab.output.renderOutput(dataTable, element);\n",
              "          const docLink = document.createElement('div');\n",
              "          docLink.innerHTML = docLinkHtml;\n",
              "          element.appendChild(docLink);\n",
              "        }\n",
              "      </script>\n",
              "    </div>\n",
              "  </div>\n",
              "  "
            ]
          },
          "metadata": {},
          "execution_count": 26
        }
      ]
    },
    {
      "cell_type": "markdown",
      "metadata": {
        "id": "EE2I1mbelJos"
      },
      "source": [
        "## 4.2 Segmentação e limpeza dos dados bruto"
      ]
    },
    {
      "cell_type": "markdown",
      "metadata": {
        "id": "wgCR8_NtuuPN"
      },
      "source": [
        "### 4.2.1 Limpeza do documento\n",
        "\n",
        "- Substitui \\n por espaço em branco.\n",
        "- Eliminar pontuações repetidas (\"???\",\"!!!\",\",,,\");\n",
        "- Eliminar de espaços em branco repetidos;\n",
        "- Eliminar tags;\n",
        "\n",
        "**>>> Outras operações de limpeza podem ser adicionadas aqui.<<<**\n",
        "\n",
        "\n",
        "Limpeza de tags html: https://pypi.org/project/beautifulsoup4/ ou\n",
        "https://medium.com/pyladiesbh/beautiful-soup-parseamento-de-html-337197a7d4b9\n"
      ]
    },
    {
      "cell_type": "code",
      "metadata": {
        "id": "HQ8gdjQ7uuPR",
        "colab": {
          "base_uri": "https://localhost:8080/",
          "height": 66,
          "referenced_widgets": [
            "0a662c81ee9d41a3b66b1fbead5474a3",
            "368a20f68c494305abe9e31a8555b623",
            "e3061552b3dd4b648b2d7187a19013ec",
            "adcabc7db31e4fe79c2c2a0983077f19",
            "7b4ba7812e0349ab8586820875f1f3e8",
            "9181a3bed82d453cb44ffc1395743a48",
            "4e30de23b3eb41909d6dbf3aec2a55d2",
            "17df409547dc4b678f4eef66a1ef924f",
            "843e6b7055c94b1599845db77ccc4491",
            "73851535cd17406bbfb83c23b7b3d892",
            "abb6409802b246b180d4f62599e27dbf"
          ]
        },
        "outputId": "bd1856ca-24c3-4a4c-de5d-3b033ba12226"
      },
      "source": [
        "# Import das bibliotecas,\n",
        "import re # Biblioteca para expressões regulares\n",
        "from tqdm.notebook import tqdm as tqdm_notebook # Biblioteca para barra de progresso\n",
        "\n",
        "# Lista para os documentos tratados\n",
        "documentos_tratados = []\n",
        "\n",
        "# Acumula o total de sentenças\n",
        "conta_barra_n = 0\n",
        "conta_virgulas = 0\n",
        "conta_interrogacoes = 0\n",
        "conta_exclamacoes = 0\n",
        "conta_tags = 0\n",
        "conta_espacos = 0\n",
        "\n",
        "logging.info(\"Processando {} documentos.\".format(len(df_documentos_bruto)))\n",
        "\n",
        "# Barra de progresso dos dados\n",
        "dados_bruto_bar = tqdm_notebook(df_documentos_bruto.iterrows(), desc=f\"Dados\", unit=f\"registro\", total=len(df_documentos_bruto))\n",
        "\n",
        "# Percorre os registros dos dados bruto\n",
        "for (i, linha) in dados_bruto_bar:\n",
        "\n",
        "  # Recupera o id documento\n",
        "  id_documento = linha.values[0]\n",
        "\n",
        "  # Recupera o documento\n",
        "  documento = str(linha.values[1])\n",
        "\n",
        "  # Transforma em string e remove os espaços do início e do fim\n",
        "  documento = str(documento).strip()\n",
        "\n",
        "  # Conta se existe \\n no documento\n",
        "  conta_caracter_barra_n = documento.count(\"\\n\")\n",
        "  if conta_caracter_barra_n > 0:\n",
        "    # Transforma \\n em espaços em branco\n",
        "    documento = documento.replace(\"\\n\",\" \")\n",
        "    conta_barra_n = conta_barra_n + 1\n",
        "\n",
        "  # Conta se existe duas interrogações no documento\n",
        "  conta_caracter_interrogacoes = documento.count(\"??\")\n",
        "  if conta_caracter_interrogacoes > 1:\n",
        "    # Transforma 2 ou mais interrogações consecutivas em 1\n",
        "    documento = re.sub(\"\\?+\", \"?\", documento)\n",
        "    conta_interrogacoes = conta_interrogacoes + 1\n",
        "\n",
        "  # Conta se existe duas exclamações no documento\n",
        "  conta_caracter_exclamacoes = documento.count(\"!!\")\n",
        "  if conta_caracter_exclamacoes > 1:\n",
        "    # Transforma 2 ou mais exclamações consecutivas em 1\n",
        "    documento = re.sub(\"\\!+\", \"!\", documento)\n",
        "    conta_exclamacoes = conta_exclamacoes + 1\n",
        "\n",
        "  # Conta se existe duas vírgulas no documento\n",
        "  conta_caracter_virgulas = documento.count(\",,\")\n",
        "  if conta_caracter_virgulas > 1:\n",
        "    # Transforma 2 ou mais vírgulas consecutivas em 1\n",
        "    documento = re.sub(\"\\,+\", \",\", documento)\n",
        "    conta_virgulas = conta_virgulas + 1\n",
        "\n",
        "  # Conta se existe tag no documento\n",
        "  conta_tag = documento.count(\"<\")\n",
        "  if conta_tag > 0:\n",
        "    # Remove as tags do documento\n",
        "    documento = re.sub(\"<.*?>\", \"\", documento)\n",
        "    conta_tags = conta_tags + 1\n",
        "\n",
        "  # Conta se existe dois caracteres branco\n",
        "  conta_caracter_espacos = documento.count(\"  \")\n",
        "  if conta_caracter_espacos > 0:\n",
        "    # Transforma 2 ou mais espaços consecutivos em 1\n",
        "    documento = re.sub(\"\\ +\", \" \", documento)\n",
        "    conta_espacos = conta_espacos + 1\n",
        "\n",
        "  # >>> Outras operações de limpeza vão aqui! <<<\n",
        "\n",
        "  # Guarda o id e o texto do documento tratado\n",
        "  documentos_tratados.append([id_documento, documento])"
      ],
      "execution_count": null,
      "outputs": [
        {
          "output_type": "stream",
          "name": "stderr",
          "text": [
            "INFO:root:Processando 20 documentos.\n"
          ]
        },
        {
          "output_type": "display_data",
          "data": {
            "text/plain": [
              "Dados:   0%|          | 0/20 [00:00<?, ?registro/s]"
            ],
            "application/vnd.jupyter.widget-view+json": {
              "version_major": 2,
              "version_minor": 0,
              "model_id": "0a662c81ee9d41a3b66b1fbead5474a3"
            }
          },
          "metadata": {}
        }
      ]
    },
    {
      "cell_type": "code",
      "metadata": {
        "id": "BhAQZitOvdph",
        "colab": {
          "base_uri": "https://localhost:8080/"
        },
        "outputId": "322f0203-9c97-4a70-9937-f6748942869d"
      },
      "source": [
        "print(\"Total de documentos com \\\\n                        :\", conta_barra_n)\n",
        "print(\"Total de documentos com 2 ou mais interrogações   :\", conta_interrogacoes)\n",
        "print(\"Total de documentos com 2 ou mais exclamações     :\", conta_exclamacoes)\n",
        "print(\"Total de documentos com 2 ou mais vírgulas        :\", conta_virgulas)\n",
        "print(\"Total de documentos com tags                      :\", conta_tags)\n",
        "print(\"Total de documentos com 2 ou mais espaços         :\", conta_espacos)\n",
        "print(\"Total de documentos tratadas                      :\", len(documentos_tratados))"
      ],
      "execution_count": null,
      "outputs": [
        {
          "output_type": "stream",
          "name": "stdout",
          "text": [
            "Total de documentos com \\n                        : 0\n",
            "Total de documentos com 2 ou mais interrogações   : 0\n",
            "Total de documentos com 2 ou mais exclamações     : 0\n",
            "Total de documentos com 2 ou mais vírgulas        : 2\n",
            "Total de documentos com tags                      : 1\n",
            "Total de documentos com 2 ou mais espaços         : 4\n",
            "Total de documentos tratadas                      : 20\n"
          ]
        }
      ]
    },
    {
      "cell_type": "markdown",
      "source": [
        "Converte a lista em um pandas dataframe."
      ],
      "metadata": {
        "id": "EyduRNgHVn2O"
      }
    },
    {
      "cell_type": "code",
      "metadata": {
        "id": "cH2fk0oGhi_S",
        "colab": {
          "base_uri": "https://localhost:8080/",
          "height": 380
        },
        "outputId": "0a244fb1-6c29-4fdd-a572-097909b23de7"
      },
      "source": [
        "# Import das bibliotecas.\n",
        "import pandas as pd\n",
        "\n",
        "# Cria o dataframe da lista\n",
        "df_documentos_tratados = pd.DataFrame(documentos_tratados, columns = [\"id\", \"documento\"])\n",
        "\n",
        "#Mostra o número de documentos carregados\n",
        "print(\"%d linhas carregadas do arquivo\" % (len(df_documentos_tratados)))\n",
        "\n",
        "# Mostra 10 linhas aleatórias dos dados\n",
        "df_documentos_tratados.sample(10)"
      ],
      "execution_count": null,
      "outputs": [
        {
          "output_type": "stream",
          "name": "stdout",
          "text": [
            "20 linhas carregadas do arquivo\n"
          ]
        },
        {
          "output_type": "execute_result",
          "data": {
            "text/plain": [
              "    id                                          documento\n",
              "15  16  O Brasil lavou a alma após o decepcionante emp...\n",
              "12  13  O médico pessoal do argentino Diego Maradona, ...\n",
              "1    2  Ao menos 17 pessoas morreram após a queda de u...\n",
              "10  11  Nove pessoas morreram, sendo três crianças, e ...\n",
              "11  12  Um atirador matou ao menos 30 pessoas em dois ...\n",
              "3    4  Usando telescópios do Observatório Europeu Sul...\n",
              "5    6  O superintendente regional da Polícia Federal ...\n",
              "6    7  A aviação israelense atacou 150 alvos na madru...\n",
              "16  17  O time de Bernardinho derrotou a Rússia por 3 ...\n",
              "19  20  Dois terremotos atingiram a região de Niigata,..."
            ],
            "text/html": [
              "\n",
              "  <div id=\"df-9f777dbf-56d6-45ef-8ca3-44cb6c8945c7\">\n",
              "    <div class=\"colab-df-container\">\n",
              "      <div>\n",
              "<style scoped>\n",
              "    .dataframe tbody tr th:only-of-type {\n",
              "        vertical-align: middle;\n",
              "    }\n",
              "\n",
              "    .dataframe tbody tr th {\n",
              "        vertical-align: top;\n",
              "    }\n",
              "\n",
              "    .dataframe thead th {\n",
              "        text-align: right;\n",
              "    }\n",
              "</style>\n",
              "<table border=\"1\" class=\"dataframe\">\n",
              "  <thead>\n",
              "    <tr style=\"text-align: right;\">\n",
              "      <th></th>\n",
              "      <th>id</th>\n",
              "      <th>documento</th>\n",
              "    </tr>\n",
              "  </thead>\n",
              "  <tbody>\n",
              "    <tr>\n",
              "      <th>15</th>\n",
              "      <td>16</td>\n",
              "      <td>O Brasil lavou a alma após o decepcionante emp...</td>\n",
              "    </tr>\n",
              "    <tr>\n",
              "      <th>12</th>\n",
              "      <td>13</td>\n",
              "      <td>O médico pessoal do argentino Diego Maradona, ...</td>\n",
              "    </tr>\n",
              "    <tr>\n",
              "      <th>1</th>\n",
              "      <td>2</td>\n",
              "      <td>Ao menos 17 pessoas morreram após a queda de u...</td>\n",
              "    </tr>\n",
              "    <tr>\n",
              "      <th>10</th>\n",
              "      <td>11</td>\n",
              "      <td>Nove pessoas morreram, sendo três crianças, e ...</td>\n",
              "    </tr>\n",
              "    <tr>\n",
              "      <th>11</th>\n",
              "      <td>12</td>\n",
              "      <td>Um atirador matou ao menos 30 pessoas em dois ...</td>\n",
              "    </tr>\n",
              "    <tr>\n",
              "      <th>3</th>\n",
              "      <td>4</td>\n",
              "      <td>Usando telescópios do Observatório Europeu Sul...</td>\n",
              "    </tr>\n",
              "    <tr>\n",
              "      <th>5</th>\n",
              "      <td>6</td>\n",
              "      <td>O superintendente regional da Polícia Federal ...</td>\n",
              "    </tr>\n",
              "    <tr>\n",
              "      <th>6</th>\n",
              "      <td>7</td>\n",
              "      <td>A aviação israelense atacou 150 alvos na madru...</td>\n",
              "    </tr>\n",
              "    <tr>\n",
              "      <th>16</th>\n",
              "      <td>17</td>\n",
              "      <td>O time de Bernardinho derrotou a Rússia por 3 ...</td>\n",
              "    </tr>\n",
              "    <tr>\n",
              "      <th>19</th>\n",
              "      <td>20</td>\n",
              "      <td>Dois terremotos atingiram a região de Niigata,...</td>\n",
              "    </tr>\n",
              "  </tbody>\n",
              "</table>\n",
              "</div>\n",
              "      <button class=\"colab-df-convert\" onclick=\"convertToInteractive('df-9f777dbf-56d6-45ef-8ca3-44cb6c8945c7')\"\n",
              "              title=\"Convert this dataframe to an interactive table.\"\n",
              "              style=\"display:none;\">\n",
              "        \n",
              "  <svg xmlns=\"http://www.w3.org/2000/svg\" height=\"24px\"viewBox=\"0 0 24 24\"\n",
              "       width=\"24px\">\n",
              "    <path d=\"M0 0h24v24H0V0z\" fill=\"none\"/>\n",
              "    <path d=\"M18.56 5.44l.94 2.06.94-2.06 2.06-.94-2.06-.94-.94-2.06-.94 2.06-2.06.94zm-11 1L8.5 8.5l.94-2.06 2.06-.94-2.06-.94L8.5 2.5l-.94 2.06-2.06.94zm10 10l.94 2.06.94-2.06 2.06-.94-2.06-.94-.94-2.06-.94 2.06-2.06.94z\"/><path d=\"M17.41 7.96l-1.37-1.37c-.4-.4-.92-.59-1.43-.59-.52 0-1.04.2-1.43.59L10.3 9.45l-7.72 7.72c-.78.78-.78 2.05 0 2.83L4 21.41c.39.39.9.59 1.41.59.51 0 1.02-.2 1.41-.59l7.78-7.78 2.81-2.81c.8-.78.8-2.07 0-2.86zM5.41 20L4 18.59l7.72-7.72 1.47 1.35L5.41 20z\"/>\n",
              "  </svg>\n",
              "      </button>\n",
              "      \n",
              "  <style>\n",
              "    .colab-df-container {\n",
              "      display:flex;\n",
              "      flex-wrap:wrap;\n",
              "      gap: 12px;\n",
              "    }\n",
              "\n",
              "    .colab-df-convert {\n",
              "      background-color: #E8F0FE;\n",
              "      border: none;\n",
              "      border-radius: 50%;\n",
              "      cursor: pointer;\n",
              "      display: none;\n",
              "      fill: #1967D2;\n",
              "      height: 32px;\n",
              "      padding: 0 0 0 0;\n",
              "      width: 32px;\n",
              "    }\n",
              "\n",
              "    .colab-df-convert:hover {\n",
              "      background-color: #E2EBFA;\n",
              "      box-shadow: 0px 1px 2px rgba(60, 64, 67, 0.3), 0px 1px 3px 1px rgba(60, 64, 67, 0.15);\n",
              "      fill: #174EA6;\n",
              "    }\n",
              "\n",
              "    [theme=dark] .colab-df-convert {\n",
              "      background-color: #3B4455;\n",
              "      fill: #D2E3FC;\n",
              "    }\n",
              "\n",
              "    [theme=dark] .colab-df-convert:hover {\n",
              "      background-color: #434B5C;\n",
              "      box-shadow: 0px 1px 3px 1px rgba(0, 0, 0, 0.15);\n",
              "      filter: drop-shadow(0px 1px 2px rgba(0, 0, 0, 0.3));\n",
              "      fill: #FFFFFF;\n",
              "    }\n",
              "  </style>\n",
              "\n",
              "      <script>\n",
              "        const buttonEl =\n",
              "          document.querySelector('#df-9f777dbf-56d6-45ef-8ca3-44cb6c8945c7 button.colab-df-convert');\n",
              "        buttonEl.style.display =\n",
              "          google.colab.kernel.accessAllowed ? 'block' : 'none';\n",
              "\n",
              "        async function convertToInteractive(key) {\n",
              "          const element = document.querySelector('#df-9f777dbf-56d6-45ef-8ca3-44cb6c8945c7');\n",
              "          const dataTable =\n",
              "            await google.colab.kernel.invokeFunction('convertToInteractive',\n",
              "                                                     [key], {});\n",
              "          if (!dataTable) return;\n",
              "\n",
              "          const docLinkHtml = 'Like what you see? Visit the ' +\n",
              "            '<a target=\"_blank\" href=https://colab.research.google.com/notebooks/data_table.ipynb>data table notebook</a>'\n",
              "            + ' to learn more about interactive tables.';\n",
              "          element.innerHTML = '';\n",
              "          dataTable['output_type'] = 'display_data';\n",
              "          await google.colab.output.renderOutput(dataTable, element);\n",
              "          const docLink = document.createElement('div');\n",
              "          docLink.innerHTML = docLinkHtml;\n",
              "          element.appendChild(docLink);\n",
              "        }\n",
              "      </script>\n",
              "    </div>\n",
              "  </div>\n",
              "  "
            ]
          },
          "metadata": {},
          "execution_count": 29
        }
      ]
    },
    {
      "cell_type": "markdown",
      "metadata": {
        "id": "_U5iUcW7TXqS"
      },
      "source": [
        "### 4.2.2 Segmentação do documento\n",
        "\n",
        "Utiliza o spaCy para realizar a segmentação em sentenças do documento texto."
      ]
    },
    {
      "cell_type": "code",
      "metadata": {
        "id": "wehxm__rTXyh",
        "colab": {
          "base_uri": "https://localhost:8080/",
          "height": 84,
          "referenced_widgets": [
            "69396892b0b34bfb81617a07119502a1",
            "d1ab14c53e204f0db8dc95c35f4f652f",
            "5f097dd5d74247cb8684d08706543184",
            "0bd9b3028aca4f248e807bd4d3d95554",
            "63e9124671444380a1bbf5beca233ff9",
            "b2df56ac7f634e46a660bd08f3d971fb",
            "8a4978aa9cc5439fba76328275514f94",
            "f4a4f65203274c8b9d6c5856939b3d21",
            "fa7b87ee8903402d966568a280a38ee5",
            "f0f86576c7e64e239f35711c3823caaf",
            "00840ed8b472468eb8ce02197b825840"
          ]
        },
        "outputId": "5a05b584-c16e-44c2-e9bf-be239fa69e81"
      },
      "source": [
        "# Import das bibliotecas.\n",
        "import os # Biblioteca para acessar o sistema de arquivos\n",
        "from tqdm.notebook import tqdm as tqdm_notebook # Biblioteca para barra de progresso\n",
        "\n",
        "print(\"Processando\",len(df_documentos_tratados),\"documentos tratados\")\n",
        "\n",
        "# Sentenças por documento\n",
        "lista_documentos_sentenciados = []\n",
        "total_sentencas_documento = 0\n",
        "\n",
        "logging.info(\"Processando {} documentos.\".format(len(df_documentos_tratados)))\n",
        "\n",
        "# Barra de progresso dos dados\n",
        "dados_bar = tqdm_notebook(df_documentos_tratados.iterrows(), desc=f\"Dados\", unit=f\"registro\", total=len(df_documentos_tratados))\n",
        "\n",
        "# Percorre os registros dos documento\n",
        "for i, linha_documento in dados_bar:\n",
        "\n",
        "  # Recupera o documento\n",
        "  documento = str(linha_documento.values[1])\n",
        "\n",
        "  # Aplica sentenciação do spacy no documento\n",
        "  doc = nlp(documento)\n",
        "\n",
        "  # Sequência das sentenças no documento\n",
        "  sequencia = 1\n",
        "  sentencas = []\n",
        "\n",
        "  # Percorre as sentenças do documento\n",
        "  for sentenca in doc.sents:\n",
        "\n",
        "      # Conta as sentenças do documento\n",
        "      total_sentencas_documento = total_sentencas_documento + 1\n",
        "\n",
        "      # Transforma em string e remove os espaços do início e do fim\n",
        "      sentenca1 = str(sentenca).strip()\n",
        "\n",
        "      # Adiciona a sentença tratada na lista\n",
        "      sentencas.append(str(sentenca1))\n",
        "\n",
        "      # Incrementa a sequência da sentença no documento\n",
        "      sequencia = sequencia + 1\n",
        "\n",
        "  if model_args.sentenciar_documento == True:\n",
        "    # Adiciona o documento na lista com a sentenciação\n",
        "    lista_documentos_sentenciados.append([linha_documento[0], sentencas, str(linha_documento[1])])\n",
        "  else:\n",
        "    # Adiciona o documento na lista sem a sentenciação\n",
        "    # A lista de sentenças é formado por um único texto, o próprio documento.\n",
        "    lista_documentos_sentenciados.append([linha_documento[0], [str(linha_documento[1])], str(linha_documento[1])])\n"
      ],
      "execution_count": null,
      "outputs": [
        {
          "output_type": "stream",
          "name": "stderr",
          "text": [
            "INFO:root:Processando 20 documentos.\n"
          ]
        },
        {
          "output_type": "stream",
          "name": "stdout",
          "text": [
            "Processando 20 documentos tratados\n"
          ]
        },
        {
          "output_type": "display_data",
          "data": {
            "text/plain": [
              "Dados:   0%|          | 0/20 [00:00<?, ?registro/s]"
            ],
            "application/vnd.jupyter.widget-view+json": {
              "version_major": 2,
              "version_minor": 0,
              "model_id": "69396892b0b34bfb81617a07119502a1"
            }
          },
          "metadata": {}
        }
      ]
    },
    {
      "cell_type": "code",
      "metadata": {
        "id": "tWXgiU9nW82Z",
        "colab": {
          "base_uri": "https://localhost:8080/"
        },
        "outputId": "f1f42b3f-5124-4d84-fff7-a9630efb5687"
      },
      "source": [
        "print(\"Total de documentos processados                                                :\", len(lista_documentos_sentenciados))\n",
        "print(\"Total sentenças nos documentos usando spaCy                                    :\", total_sentencas_documento)"
      ],
      "execution_count": null,
      "outputs": [
        {
          "output_type": "stream",
          "name": "stdout",
          "text": [
            "Total de documentos processados                                                : 20\n",
            "Total sentenças nos documentos usando spaCy                                    : 100\n"
          ]
        }
      ]
    },
    {
      "cell_type": "markdown",
      "source": [
        "## 4.3 Salva os dados processados\n",
        "\n",
        "Gera o arquivo com os dados segmentados e limpos e depois compacta o arquivo para enviar para o Google Drive."
      ],
      "metadata": {
        "id": "qdZKVW2FdKYu"
      }
    },
    {
      "cell_type": "markdown",
      "metadata": {
        "id": "_wTNIiyE1mIl"
      },
      "source": [
        "### 4.3.1 Especifica os nomes dos arquivos do dataset\n",
        "\n"
      ]
    },
    {
      "cell_type": "code",
      "metadata": {
        "id": "bNgwJRC2uGJb"
      },
      "source": [
        "# Nome do arquivo\n",
        "NOME_ARQUIVO_DATASET = \"dataset.csv\"\n",
        "NOME_ARQUIVO_DATASET_COMPACTADO = \"dataset.zip\""
      ],
      "execution_count": null,
      "outputs": []
    },
    {
      "cell_type": "markdown",
      "source": [
        "### 4.3.2 Cria o arquivo do dataset"
      ],
      "metadata": {
        "id": "QtEZ6WGQncTj"
      }
    },
    {
      "cell_type": "code",
      "metadata": {
        "id": "a9RmJUlp17VO"
      },
      "source": [
        "# Import das bibliotecas.\n",
        "import pandas as pd\n",
        "\n",
        "# Cria o dataframe da lista\n",
        "df_lista_documentos_sentenciados = pd.DataFrame(lista_documentos_sentenciados, columns = [\"id\",\"sentencas\",\"documento\"])\n",
        "\n",
        "df_lista_documentos_sentenciados.to_csv(DIRETORIO_LOCAL + NOME_ARQUIVO_DATASET, sep=\";\", index=False)"
      ],
      "execution_count": null,
      "outputs": []
    },
    {
      "cell_type": "code",
      "metadata": {
        "id": "VJwgPw9ad-mN",
        "colab": {
          "base_uri": "https://localhost:8080/"
        },
        "outputId": "8c93e1a2-578a-4b6f-9097-c50b56f071a4"
      },
      "source": [
        "print(len(df_lista_documentos_sentenciados))"
      ],
      "execution_count": null,
      "outputs": [
        {
          "output_type": "stream",
          "name": "stdout",
          "text": [
            "20\n"
          ]
        }
      ]
    },
    {
      "cell_type": "code",
      "metadata": {
        "id": "NWXOQ2CM6aJV",
        "colab": {
          "base_uri": "https://localhost:8080/",
          "height": 206
        },
        "outputId": "803f17b4-4770-44ed-b768-9ab5075ab3da"
      },
      "source": [
        "df_lista_documentos_sentenciados.sample(5)"
      ],
      "execution_count": null,
      "outputs": [
        {
          "output_type": "execute_result",
          "data": {
            "text/plain": [
              "    id                                          sentencas  \\\n",
              "10  11  [Nove pessoas morreram, sendo três crianças, e...   \n",
              "5    6  [O superintendente regional da Polícia Federal...   \n",
              "6    7  [A aviação israelense atacou 150 alvos na madr...   \n",
              "19  20  [Dois terremotos atingiram a região de Niigata...   \n",
              "9   10  [Quinze voluntários da ONG francesa 'Ação Cont...   \n",
              "\n",
              "                                            documento  \n",
              "10  Nove pessoas morreram, sendo três crianças, e ...  \n",
              "5   O superintendente regional da Polícia Federal ...  \n",
              "6   A aviação israelense atacou 150 alvos na madru...  \n",
              "19  Dois terremotos atingiram a região de Niigata,...  \n",
              "9   Quinze voluntários da ONG francesa 'Ação Contr...  "
            ],
            "text/html": [
              "\n",
              "  <div id=\"df-62ba2c4d-91f2-4580-9537-4897ec9a2501\">\n",
              "    <div class=\"colab-df-container\">\n",
              "      <div>\n",
              "<style scoped>\n",
              "    .dataframe tbody tr th:only-of-type {\n",
              "        vertical-align: middle;\n",
              "    }\n",
              "\n",
              "    .dataframe tbody tr th {\n",
              "        vertical-align: top;\n",
              "    }\n",
              "\n",
              "    .dataframe thead th {\n",
              "        text-align: right;\n",
              "    }\n",
              "</style>\n",
              "<table border=\"1\" class=\"dataframe\">\n",
              "  <thead>\n",
              "    <tr style=\"text-align: right;\">\n",
              "      <th></th>\n",
              "      <th>id</th>\n",
              "      <th>sentencas</th>\n",
              "      <th>documento</th>\n",
              "    </tr>\n",
              "  </thead>\n",
              "  <tbody>\n",
              "    <tr>\n",
              "      <th>10</th>\n",
              "      <td>11</td>\n",
              "      <td>[Nove pessoas morreram, sendo três crianças, e...</td>\n",
              "      <td>Nove pessoas morreram, sendo três crianças, e ...</td>\n",
              "    </tr>\n",
              "    <tr>\n",
              "      <th>5</th>\n",
              "      <td>6</td>\n",
              "      <td>[O superintendente regional da Polícia Federal...</td>\n",
              "      <td>O superintendente regional da Polícia Federal ...</td>\n",
              "    </tr>\n",
              "    <tr>\n",
              "      <th>6</th>\n",
              "      <td>7</td>\n",
              "      <td>[A aviação israelense atacou 150 alvos na madr...</td>\n",
              "      <td>A aviação israelense atacou 150 alvos na madru...</td>\n",
              "    </tr>\n",
              "    <tr>\n",
              "      <th>19</th>\n",
              "      <td>20</td>\n",
              "      <td>[Dois terremotos atingiram a região de Niigata...</td>\n",
              "      <td>Dois terremotos atingiram a região de Niigata,...</td>\n",
              "    </tr>\n",
              "    <tr>\n",
              "      <th>9</th>\n",
              "      <td>10</td>\n",
              "      <td>[Quinze voluntários da ONG francesa 'Ação Cont...</td>\n",
              "      <td>Quinze voluntários da ONG francesa 'Ação Contr...</td>\n",
              "    </tr>\n",
              "  </tbody>\n",
              "</table>\n",
              "</div>\n",
              "      <button class=\"colab-df-convert\" onclick=\"convertToInteractive('df-62ba2c4d-91f2-4580-9537-4897ec9a2501')\"\n",
              "              title=\"Convert this dataframe to an interactive table.\"\n",
              "              style=\"display:none;\">\n",
              "        \n",
              "  <svg xmlns=\"http://www.w3.org/2000/svg\" height=\"24px\"viewBox=\"0 0 24 24\"\n",
              "       width=\"24px\">\n",
              "    <path d=\"M0 0h24v24H0V0z\" fill=\"none\"/>\n",
              "    <path d=\"M18.56 5.44l.94 2.06.94-2.06 2.06-.94-2.06-.94-.94-2.06-.94 2.06-2.06.94zm-11 1L8.5 8.5l.94-2.06 2.06-.94-2.06-.94L8.5 2.5l-.94 2.06-2.06.94zm10 10l.94 2.06.94-2.06 2.06-.94-2.06-.94-.94-2.06-.94 2.06-2.06.94z\"/><path d=\"M17.41 7.96l-1.37-1.37c-.4-.4-.92-.59-1.43-.59-.52 0-1.04.2-1.43.59L10.3 9.45l-7.72 7.72c-.78.78-.78 2.05 0 2.83L4 21.41c.39.39.9.59 1.41.59.51 0 1.02-.2 1.41-.59l7.78-7.78 2.81-2.81c.8-.78.8-2.07 0-2.86zM5.41 20L4 18.59l7.72-7.72 1.47 1.35L5.41 20z\"/>\n",
              "  </svg>\n",
              "      </button>\n",
              "      \n",
              "  <style>\n",
              "    .colab-df-container {\n",
              "      display:flex;\n",
              "      flex-wrap:wrap;\n",
              "      gap: 12px;\n",
              "    }\n",
              "\n",
              "    .colab-df-convert {\n",
              "      background-color: #E8F0FE;\n",
              "      border: none;\n",
              "      border-radius: 50%;\n",
              "      cursor: pointer;\n",
              "      display: none;\n",
              "      fill: #1967D2;\n",
              "      height: 32px;\n",
              "      padding: 0 0 0 0;\n",
              "      width: 32px;\n",
              "    }\n",
              "\n",
              "    .colab-df-convert:hover {\n",
              "      background-color: #E2EBFA;\n",
              "      box-shadow: 0px 1px 2px rgba(60, 64, 67, 0.3), 0px 1px 3px 1px rgba(60, 64, 67, 0.15);\n",
              "      fill: #174EA6;\n",
              "    }\n",
              "\n",
              "    [theme=dark] .colab-df-convert {\n",
              "      background-color: #3B4455;\n",
              "      fill: #D2E3FC;\n",
              "    }\n",
              "\n",
              "    [theme=dark] .colab-df-convert:hover {\n",
              "      background-color: #434B5C;\n",
              "      box-shadow: 0px 1px 3px 1px rgba(0, 0, 0, 0.15);\n",
              "      filter: drop-shadow(0px 1px 2px rgba(0, 0, 0, 0.3));\n",
              "      fill: #FFFFFF;\n",
              "    }\n",
              "  </style>\n",
              "\n",
              "      <script>\n",
              "        const buttonEl =\n",
              "          document.querySelector('#df-62ba2c4d-91f2-4580-9537-4897ec9a2501 button.colab-df-convert');\n",
              "        buttonEl.style.display =\n",
              "          google.colab.kernel.accessAllowed ? 'block' : 'none';\n",
              "\n",
              "        async function convertToInteractive(key) {\n",
              "          const element = document.querySelector('#df-62ba2c4d-91f2-4580-9537-4897ec9a2501');\n",
              "          const dataTable =\n",
              "            await google.colab.kernel.invokeFunction('convertToInteractive',\n",
              "                                                     [key], {});\n",
              "          if (!dataTable) return;\n",
              "\n",
              "          const docLinkHtml = 'Like what you see? Visit the ' +\n",
              "            '<a target=\"_blank\" href=https://colab.research.google.com/notebooks/data_table.ipynb>data table notebook</a>'\n",
              "            + ' to learn more about interactive tables.';\n",
              "          element.innerHTML = '';\n",
              "          dataTable['output_type'] = 'display_data';\n",
              "          await google.colab.output.renderOutput(dataTable, element);\n",
              "          const docLink = document.createElement('div');\n",
              "          docLink.innerHTML = docLinkHtml;\n",
              "          element.appendChild(docLink);\n",
              "        }\n",
              "      </script>\n",
              "    </div>\n",
              "  </div>\n",
              "  "
            ]
          },
          "metadata": {},
          "execution_count": 35
        }
      ]
    },
    {
      "cell_type": "markdown",
      "metadata": {
        "id": "t56ovS3Kt-W0"
      },
      "source": [
        "### 4.3.3 Compacta e copia o dataset para uma pasta do GoogleDrive"
      ]
    },
    {
      "cell_type": "markdown",
      "metadata": {
        "id": "5vZq_1sEtsB0"
      },
      "source": [
        "Compacta os arquivos.\n",
        "\n",
        "Usa o zip para compactar:\n",
        "*   `-o` sobrescreve o arquivo se existir\n",
        "*   `-j` Não cria nenhum diretório\n",
        "*   `-q` Desliga as mensagens\n"
      ]
    },
    {
      "cell_type": "code",
      "metadata": {
        "id": "NunMOJWR2O8H"
      },
      "source": [
        "!zip -o -q -j \"$DIRETORIO_LOCAL$NOME_ARQUIVO_DATASET_COMPACTADO\" \"$DIRETORIO_LOCAL$NOME_ARQUIVO_DATASET\""
      ],
      "execution_count": null,
      "outputs": []
    },
    {
      "cell_type": "markdown",
      "metadata": {
        "id": "sw3p4ydkt-W-"
      },
      "source": [
        "Copia o arquivo compactado para o GoogleDrive\n",
        "\n"
      ]
    },
    {
      "cell_type": "code",
      "metadata": {
        "id": "y5c8sv10t-W_",
        "colab": {
          "base_uri": "https://localhost:8080/"
        },
        "outputId": "23b3c2b4-776c-4216-b5c2-4c27ec1c2e80"
      },
      "source": [
        "# Se estiver executando no Google Colaboratory\n",
        "if IN_COLAB:\n",
        "    # Copia o arquivo do dataset\n",
        "    !cp \"$DIRETORIO_LOCAL$NOME_ARQUIVO_DATASET_COMPACTADO\" \"$DIRETORIO_DRIVE\"\n",
        "\n",
        "    logging.info(\"Terminei a cópia\")"
      ],
      "execution_count": null,
      "outputs": [
        {
          "output_type": "stream",
          "name": "stderr",
          "text": [
            "INFO:root:Terminei a cópia\n"
          ]
        }
      ]
    },
    {
      "cell_type": "markdown",
      "metadata": {
        "id": "TkncKDN1i7kq"
      },
      "source": [
        "### 4.3.4 Carrega os dados\n",
        "\n",
        "Realiza um teste carregando o arquivo do dataset criado."
      ]
    },
    {
      "cell_type": "code",
      "metadata": {
        "id": "pTVxFPqg5wY_"
      },
      "source": [
        "# Import das bibliotecas.\n",
        "import pandas as pd\n",
        "\n",
        "# Abre o arquivo e retorna o DataFrame\n",
        "df_dataset = pd.read_csv(DIRETORIO_LOCAL + NOME_ARQUIVO_DATASET, sep=\";\", encoding=\"UTF-8\")"
      ],
      "execution_count": null,
      "outputs": []
    },
    {
      "cell_type": "markdown",
      "source": [
        "Corrigir o tipo de dados da lista dos documentos\n",
        "\n",
        "Na lista\n",
        "- coluna 1 - `sentenças` carregadas do arquivo vem como string e não como lista."
      ],
      "metadata": {
        "id": "u7JYj6ZZkIiR"
      }
    },
    {
      "cell_type": "code",
      "source": [
        "# Import das bibliotecas.\n",
        "import ast # Biblioteca para conversão de string em lista\n",
        "\n",
        "# Verifica se o tipo da coluna não é list e converte\n",
        "df_dataset[\"sentencas\"] = df_dataset[\"sentencas\"].apply(lambda x: ast.literal_eval(x) if type(x)!=list else x)\n",
        "\n",
        "logging.info(\"TERMINADO CORREÇÃO DOCUMENTOS: {}.\".format(len(df_dataset)))"
      ],
      "metadata": {
        "colab": {
          "base_uri": "https://localhost:8080/"
        },
        "outputId": "eab8b14a-ab50-403f-c998-40afd60bcd75",
        "id": "aniEg4BVkIiX"
      },
      "execution_count": null,
      "outputs": [
        {
          "output_type": "stream",
          "name": "stderr",
          "text": [
            "INFO:root:TERMINADO CORREÇÃO DOCUMENTOS: 20.\n"
          ]
        }
      ]
    },
    {
      "cell_type": "code",
      "metadata": {
        "id": "tlPKkZKz50j2",
        "colab": {
          "base_uri": "https://localhost:8080/",
          "height": 206
        },
        "outputId": "ef12bf3f-98b3-405e-bb49-20a0a8f817f8"
      },
      "source": [
        "df_dataset.sample(5)"
      ],
      "execution_count": null,
      "outputs": [
        {
          "output_type": "execute_result",
          "data": {
            "text/plain": [
              "    id                                          sentencas  \\\n",
              "1    2  [Ao menos 17 pessoas morreram após a queda de ...   \n",
              "9   10  [Quinze voluntários da ONG francesa 'Ação Cont...   \n",
              "15  16  [O Brasil lavou a alma após o decepcionante em...   \n",
              "8    9  [Um total de 549 pessoas morreram, 3.043 ficar...   \n",
              "16  17  [O time de Bernardinho derrotou a Rússia por 3...   \n",
              "\n",
              "                                            documento  \n",
              "1   Ao menos 17 pessoas morreram após a queda de u...  \n",
              "9   Quinze voluntários da ONG francesa 'Ação Contr...  \n",
              "15  O Brasil lavou a alma após o decepcionante emp...  \n",
              "8   Um total de 549 pessoas morreram, 3.043 ficara...  \n",
              "16  O time de Bernardinho derrotou a Rússia por 3 ...  "
            ],
            "text/html": [
              "\n",
              "  <div id=\"df-ac00ae80-6d13-4cc5-8f70-44673edaf3b6\">\n",
              "    <div class=\"colab-df-container\">\n",
              "      <div>\n",
              "<style scoped>\n",
              "    .dataframe tbody tr th:only-of-type {\n",
              "        vertical-align: middle;\n",
              "    }\n",
              "\n",
              "    .dataframe tbody tr th {\n",
              "        vertical-align: top;\n",
              "    }\n",
              "\n",
              "    .dataframe thead th {\n",
              "        text-align: right;\n",
              "    }\n",
              "</style>\n",
              "<table border=\"1\" class=\"dataframe\">\n",
              "  <thead>\n",
              "    <tr style=\"text-align: right;\">\n",
              "      <th></th>\n",
              "      <th>id</th>\n",
              "      <th>sentencas</th>\n",
              "      <th>documento</th>\n",
              "    </tr>\n",
              "  </thead>\n",
              "  <tbody>\n",
              "    <tr>\n",
              "      <th>1</th>\n",
              "      <td>2</td>\n",
              "      <td>[Ao menos 17 pessoas morreram após a queda de ...</td>\n",
              "      <td>Ao menos 17 pessoas morreram após a queda de u...</td>\n",
              "    </tr>\n",
              "    <tr>\n",
              "      <th>9</th>\n",
              "      <td>10</td>\n",
              "      <td>[Quinze voluntários da ONG francesa 'Ação Cont...</td>\n",
              "      <td>Quinze voluntários da ONG francesa 'Ação Contr...</td>\n",
              "    </tr>\n",
              "    <tr>\n",
              "      <th>15</th>\n",
              "      <td>16</td>\n",
              "      <td>[O Brasil lavou a alma após o decepcionante em...</td>\n",
              "      <td>O Brasil lavou a alma após o decepcionante emp...</td>\n",
              "    </tr>\n",
              "    <tr>\n",
              "      <th>8</th>\n",
              "      <td>9</td>\n",
              "      <td>[Um total de 549 pessoas morreram, 3.043 ficar...</td>\n",
              "      <td>Um total de 549 pessoas morreram, 3.043 ficara...</td>\n",
              "    </tr>\n",
              "    <tr>\n",
              "      <th>16</th>\n",
              "      <td>17</td>\n",
              "      <td>[O time de Bernardinho derrotou a Rússia por 3...</td>\n",
              "      <td>O time de Bernardinho derrotou a Rússia por 3 ...</td>\n",
              "    </tr>\n",
              "  </tbody>\n",
              "</table>\n",
              "</div>\n",
              "      <button class=\"colab-df-convert\" onclick=\"convertToInteractive('df-ac00ae80-6d13-4cc5-8f70-44673edaf3b6')\"\n",
              "              title=\"Convert this dataframe to an interactive table.\"\n",
              "              style=\"display:none;\">\n",
              "        \n",
              "  <svg xmlns=\"http://www.w3.org/2000/svg\" height=\"24px\"viewBox=\"0 0 24 24\"\n",
              "       width=\"24px\">\n",
              "    <path d=\"M0 0h24v24H0V0z\" fill=\"none\"/>\n",
              "    <path d=\"M18.56 5.44l.94 2.06.94-2.06 2.06-.94-2.06-.94-.94-2.06-.94 2.06-2.06.94zm-11 1L8.5 8.5l.94-2.06 2.06-.94-2.06-.94L8.5 2.5l-.94 2.06-2.06.94zm10 10l.94 2.06.94-2.06 2.06-.94-2.06-.94-.94-2.06-.94 2.06-2.06.94z\"/><path d=\"M17.41 7.96l-1.37-1.37c-.4-.4-.92-.59-1.43-.59-.52 0-1.04.2-1.43.59L10.3 9.45l-7.72 7.72c-.78.78-.78 2.05 0 2.83L4 21.41c.39.39.9.59 1.41.59.51 0 1.02-.2 1.41-.59l7.78-7.78 2.81-2.81c.8-.78.8-2.07 0-2.86zM5.41 20L4 18.59l7.72-7.72 1.47 1.35L5.41 20z\"/>\n",
              "  </svg>\n",
              "      </button>\n",
              "      \n",
              "  <style>\n",
              "    .colab-df-container {\n",
              "      display:flex;\n",
              "      flex-wrap:wrap;\n",
              "      gap: 12px;\n",
              "    }\n",
              "\n",
              "    .colab-df-convert {\n",
              "      background-color: #E8F0FE;\n",
              "      border: none;\n",
              "      border-radius: 50%;\n",
              "      cursor: pointer;\n",
              "      display: none;\n",
              "      fill: #1967D2;\n",
              "      height: 32px;\n",
              "      padding: 0 0 0 0;\n",
              "      width: 32px;\n",
              "    }\n",
              "\n",
              "    .colab-df-convert:hover {\n",
              "      background-color: #E2EBFA;\n",
              "      box-shadow: 0px 1px 2px rgba(60, 64, 67, 0.3), 0px 1px 3px 1px rgba(60, 64, 67, 0.15);\n",
              "      fill: #174EA6;\n",
              "    }\n",
              "\n",
              "    [theme=dark] .colab-df-convert {\n",
              "      background-color: #3B4455;\n",
              "      fill: #D2E3FC;\n",
              "    }\n",
              "\n",
              "    [theme=dark] .colab-df-convert:hover {\n",
              "      background-color: #434B5C;\n",
              "      box-shadow: 0px 1px 3px 1px rgba(0, 0, 0, 0.15);\n",
              "      filter: drop-shadow(0px 1px 2px rgba(0, 0, 0, 0.3));\n",
              "      fill: #FFFFFF;\n",
              "    }\n",
              "  </style>\n",
              "\n",
              "      <script>\n",
              "        const buttonEl =\n",
              "          document.querySelector('#df-ac00ae80-6d13-4cc5-8f70-44673edaf3b6 button.colab-df-convert');\n",
              "        buttonEl.style.display =\n",
              "          google.colab.kernel.accessAllowed ? 'block' : 'none';\n",
              "\n",
              "        async function convertToInteractive(key) {\n",
              "          const element = document.querySelector('#df-ac00ae80-6d13-4cc5-8f70-44673edaf3b6');\n",
              "          const dataTable =\n",
              "            await google.colab.kernel.invokeFunction('convertToInteractive',\n",
              "                                                     [key], {});\n",
              "          if (!dataTable) return;\n",
              "\n",
              "          const docLinkHtml = 'Like what you see? Visit the ' +\n",
              "            '<a target=\"_blank\" href=https://colab.research.google.com/notebooks/data_table.ipynb>data table notebook</a>'\n",
              "            + ' to learn more about interactive tables.';\n",
              "          element.innerHTML = '';\n",
              "          dataTable['output_type'] = 'display_data';\n",
              "          await google.colab.output.renderOutput(dataTable, element);\n",
              "          const docLink = document.createElement('div');\n",
              "          docLink.innerHTML = docLinkHtml;\n",
              "          element.appendChild(docLink);\n",
              "        }\n",
              "      </script>\n",
              "    </div>\n",
              "  </div>\n",
              "  "
            ]
          },
          "metadata": {},
          "execution_count": 40
        }
      ]
    },
    {
      "cell_type": "markdown",
      "metadata": {
        "id": "Yj0ya60zrm8t"
      },
      "source": [
        "# 5 Finalização"
      ]
    },
    {
      "cell_type": "markdown",
      "metadata": {
        "id": "Bcjt085lZGUr"
      },
      "source": [
        "## 5.1 Tempo final de processamento\n",
        "\n"
      ]
    },
    {
      "cell_type": "code",
      "metadata": {
        "id": "H50_GKJwpDha",
        "colab": {
          "base_uri": "https://localhost:8080/"
        },
        "outputId": "d82111f2-645c-43bf-d277-cd01043fe10d"
      },
      "source": [
        "# Pega o tempo atual menos o tempo do início do processamento.\n",
        "final_processamento = time.time()\n",
        "tempo_total_processamento = formataTempo(final_processamento - inicio_processamento)\n",
        "\n",
        "print(\"\")\n",
        "print(\"  Tempo processamento:  {:} (h:mm:ss)\".format(tempo_total_processamento))"
      ],
      "execution_count": null,
      "outputs": [
        {
          "output_type": "stream",
          "name": "stdout",
          "text": [
            "\n",
            "  Tempo processamento:  0:02:02 (h:mm:ss)\n"
          ]
        }
      ]
    }
  ]
}