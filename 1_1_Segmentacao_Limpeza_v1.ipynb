{
  "cells": [
    {
      "cell_type": "markdown",
      "metadata": {
        "id": "view-in-github",
        "colab_type": "text"
      },
      "source": [
        "<a href=\"https://colab.research.google.com/github/osmarbraz/sri/blob/main/1_1_Segmentacao_Limpeza_v1.ipynb\" target=\"_parent\"><img src=\"https://colab.research.google.com/assets/colab-badge.svg\" alt=\"Open In Colab\"/></a>"
      ]
    },
    {
      "cell_type": "markdown",
      "metadata": {
        "id": "EKOTlwcmxmej"
      },
      "source": [
        "# Segmentação e limpeza\n",
        "\n",
        "Realiza a segmentação e limpeza de um conjunto de dados em sua forma bruta.\n",
        "\n",
        "**Entrada**: \"`documentos.csv`\".\n",
        " - Cada linha do arquivo é formado por `[\"id\",\"documento\"]`.\n",
        "  - `\"id\"` é o idenficador do documento.\n",
        "  - `\"documento\"` o documento texto no seu formato bruto.\n",
        "\n",
        "**Saída**: \"`dataset.zip`\".\n",
        " - Dentro do arquivo compactado `dataset.zip` está o arquivo `dataset.csv`. Cada linha de `dataset.csv` é formado por `[\"id\",\"sentencas\",\"documento\"]`.\n",
        "  - `\"id\"` é o idenficador do documento na base de dados.\n",
        "  - `\"sentencas\"` é uma lista com as sentenças do documento.\n",
        "  - `\"documento\"` o documento limpo, mas não segmentado.\n",
        "\n",
        "**Processamento**:\n",
        "1. Copia o arquivo \"`documentos.csv`\" para a máquina local do\n",
        "Google Colab.\n",
        "2. Realiza as seguintes tarefas de limpeza:\n",
        "    - Normalização de codificação e decodificação de html entities (ftfy);\n",
        "    - Substitui \\n por espaço em branco;\n",
        "    - Elimina pontuações repetidas (\"???\",\"!!!\",\",,,\");\n",
        "    - Elimina de espaços em branco repetidos;\n",
        "    - Elimina tags.\n",
        "    - **Local para outras operações de limpeza.**\n",
        "3. Realiza a segmentação.\n",
        "4. Gera o arquivo \"`dataset.csv`\" com os dados pré-processados.\n",
        "5. Compacta o arquivo \"`dataset.csv`\" para \"`dataset.zip`\".\n",
        "6. Copia o arquivo \"`dataset.zip`\" para o google drive.\n",
        "\n",
        "**Atenção - Para executar este notebook e os próximos siga as instruções abaixo.**\n",
        "\n",
        "1. Crie a pasta \"`Colab Notebooks`\" na raiz do seu google drive para receber pastas de projetos.\n",
        "2. Dentro da pasta \"`Colab Notebooks`\" crie a pasta \"`SRI`\" para armazenar e executar os notebooks das atividades práticas da disciplina.\n",
        "3. Dentro da pasta \"`SRI`\" crie a pasta \"data\" e coloque o arquivo de dados \"`documentos.csv`\".\n",
        "\n",
        "**Testes:**\n",
        "\n",
        "Os arquivos \"`documentos.csv`\" e \"`dataset.csv`\" precisam ter ao final da execução a mesma quantidade de linhas. Onde cada linha de  \"`dataset.csv`\" esta relacionada com a mesma linha de \"`documentos.csv`\".\n"
      ]
    },
    {
      "cell_type": "markdown",
      "metadata": {
        "id": "OP33KWAtBMWs"
      },
      "source": [
        "# 1 Preparação do ambiente\n",
        "\n",
        "Preparação do ambiente para execução do script."
      ]
    },
    {
      "cell_type": "markdown",
      "metadata": {
        "id": "PKUr9Vk4BNLC"
      },
      "source": [
        "## 1.1 Tempo inicial de processamento"
      ]
    },
    {
      "cell_type": "code",
      "execution_count": 1,
      "metadata": {
        "id": "JXclHCRQBSF2"
      },
      "outputs": [],
      "source": [
        "# Import das bibliotecas.\n",
        "import time\n",
        "import datetime\n",
        "\n",
        "# Marca o tempo de início do processamento\n",
        "inicio_processamento = time.time()"
      ]
    },
    {
      "cell_type": "markdown",
      "metadata": {
        "id": "GOcN8hK-scnt"
      },
      "source": [
        "## 1.2 Funções e classes auxiliares"
      ]
    },
    {
      "cell_type": "markdown",
      "metadata": {
        "id": "OPRnA-mk5-c4"
      },
      "source": [
        "Verifica se existe o diretório do notebook no diretório corrente.   \n"
      ]
    },
    {
      "cell_type": "code",
      "execution_count": 2,
      "metadata": {
        "id": "Fj5TaAH_5-nB"
      },
      "outputs": [],
      "source": [
        "# Import das bibliotecas.\n",
        "import os # Biblioteca para manipular arquivos\n",
        "\n",
        "# ============================\n",
        "def verificaDiretorioNotebook():\n",
        "    \"\"\"\n",
        "      Verifica se existe o diretório do notebook no diretório corrente.\n",
        "    \"\"\"\n",
        "\n",
        "    # Verifica se o diretório existe\n",
        "    if not os.path.exists(DIRETORIO_NOTEBOOK):\n",
        "        # Cria o diretório\n",
        "        os.makedirs(DIRETORIO_NOTEBOOK)\n",
        "        logging.info(\"Diretório do notebook criado: {}\".format(DIRETORIO_NOTEBOOK))\n",
        "\n",
        "    return DIRETORIO_NOTEBOOK"
      ]
    },
    {
      "cell_type": "markdown",
      "metadata": {
        "id": "ksYnRk7zLGp0"
      },
      "source": [
        "Remove tags de um documento"
      ]
    },
    {
      "cell_type": "code",
      "execution_count": 3,
      "metadata": {
        "id": "6qwKjGvyLG4v"
      },
      "outputs": [],
      "source": [
        "def remove_tags(documento):\n",
        "    \"\"\"\n",
        "      Remove tags de um documento\n",
        "    \"\"\"\n",
        "\n",
        "    import re\n",
        "\n",
        "    documento_limpo = re.compile(\"<.*?>\")\n",
        "    return re.sub(documento_limpo, \"\", documento)"
      ]
    },
    {
      "cell_type": "markdown",
      "metadata": {
        "id": "603LYIYKBmq5"
      },
      "source": [
        "Função auxiliar para formatar o tempo como `hh: mm: ss`"
      ]
    },
    {
      "cell_type": "code",
      "execution_count": 4,
      "metadata": {
        "id": "Guy6B4whsZFR"
      },
      "outputs": [],
      "source": [
        "# Import das bibliotecas.\n",
        "import time\n",
        "import datetime\n",
        "\n",
        "def formataTempo(tempo):\n",
        "    \"\"\"\n",
        "      Pega a tempo em segundos e retorna uma string hh:mm:ss\n",
        "    \"\"\"\n",
        "    # Arredonda para o segundo mais próximo.\n",
        "    tempoArredondado = int(round((tempo)))\n",
        "\n",
        "    # Formata como hh:mm:ss\n",
        "    return str(datetime.timedelta(seconds=tempoArredondado))"
      ]
    },
    {
      "cell_type": "markdown",
      "metadata": {
        "id": "zVKAapz7RCxk"
      },
      "source": [
        "Classe(ModelosParametros) de definição dos parâmetros dos modelos"
      ]
    },
    {
      "cell_type": "code",
      "execution_count": 5,
      "metadata": {
        "id": "zgmN6RqDRDZS"
      },
      "outputs": [],
      "source": [
        "# Import das bibliotecas.\n",
        "from dataclasses import dataclass, field\n",
        "from typing import Dict, Optional\n",
        "from typing import List\n",
        "\n",
        "@dataclass\n",
        "class ModelosParametros:\n",
        "    modelo_spacy: str = field(\n",
        "        default=\"pt_core_news_lg\",\n",
        "        metadata={\"help\": \"nome do modelo do spaCy.\"},\n",
        "    )\n",
        "\n",
        "    sentenciar_documento: bool = field(\n",
        "        default=True,\n",
        "        metadata={\"help\": \"Dividir o documento em sentenças(frases).\"},\n",
        "    )"
      ]
    },
    {
      "cell_type": "markdown",
      "metadata": {
        "id": "SX6jTGkBMNvV"
      },
      "source": [
        "Biblioteca de limpeza de tela\n"
      ]
    },
    {
      "cell_type": "code",
      "execution_count": 6,
      "metadata": {
        "id": "95qYX7uzMNvX"
      },
      "outputs": [],
      "source": [
        "# Import das bibliotecas.\n",
        "from IPython.display import clear_output"
      ]
    },
    {
      "cell_type": "markdown",
      "metadata": {
        "id": "iAPVtRXQqDim"
      },
      "source": [
        "## 1.3 Tratamento de logs"
      ]
    },
    {
      "cell_type": "code",
      "execution_count": 7,
      "metadata": {
        "id": "DcopxbGZqDip"
      },
      "outputs": [],
      "source": [
        "# Import das bibliotecas.\n",
        "import logging # Biblioteca de logging\n",
        "\n",
        "# Formatando a mensagem de logging\n",
        "logging.basicConfig(format=\"%(asctime)s : %(levelname)s : %(message)s\")\n",
        "\n",
        "logger = logging.getLogger()\n",
        "logger.setLevel(logging.INFO)"
      ]
    },
    {
      "cell_type": "markdown",
      "metadata": {
        "id": "_GjYtXcMnSAe"
      },
      "source": [
        "## 1.4 Identificando o ambiente Colab"
      ]
    },
    {
      "cell_type": "code",
      "execution_count": 8,
      "metadata": {
        "id": "YMiH0E3OnRa1"
      },
      "outputs": [],
      "source": [
        "# Import das bibliotecas.\n",
        "import sys # Biblioteca para acessar módulos do sistema\n",
        "\n",
        "# Se estiver executando no Google Colaboratory\n",
        "# Retorna true ou false se estiver no Google Colaboratory\n",
        "IN_COLAB = \"google.colab\" in sys.modules"
      ]
    },
    {
      "cell_type": "markdown",
      "metadata": {
        "id": "RinFHFesVKis"
      },
      "source": [
        "## 1.5 Colaboratory"
      ]
    },
    {
      "cell_type": "markdown",
      "metadata": {
        "id": "MPngEboiVbfi"
      },
      "source": [
        "Usando Colab GPU para Treinamento\n"
      ]
    },
    {
      "cell_type": "markdown",
      "metadata": {
        "id": "EjWE6WlvVbfj"
      },
      "source": [
        "Uma GPU pode ser adicionada acessando o menu e selecionando:\n",
        "\n",
        "`Edit -> Notebook Settings -> Hardware accelerator -> (GPU)`\n",
        "\n",
        "Em seguida, execute a célula a seguir para confirmar que a GPU foi detectada."
      ]
    },
    {
      "cell_type": "code",
      "execution_count": 9,
      "metadata": {
        "colab": {
          "base_uri": "https://localhost:8080/"
        },
        "id": "vtaYZmc3Vbfj",
        "outputId": "c7829aff-7746-4e08-d00a-47681f9366af"
      },
      "outputs": [
        {
          "output_type": "stream",
          "name": "stderr",
          "text": [
            "INFO:numexpr.utils:NumExpr defaulting to 2 threads.\n",
            "INFO:root:Dispositivo GPU não encontrado\n"
          ]
        }
      ],
      "source": [
        "# Import das bibliotecas.\n",
        "import tensorflow as tf\n",
        "\n",
        "# Recupera o nome do dispositido da GPU.\n",
        "device_name = tf.test.gpu_device_name()\n",
        "\n",
        "# O nome do dispositivo deve ser parecido com o seguinte:\n",
        "if device_name == \"/device:GPU:0\":\n",
        "    logging.info(\"Encontrei GPU em: {}\".format(device_name))\n",
        "else:\n",
        "    logging.info(\"Dispositivo GPU não encontrado\")\n",
        "    #raise SystemError(\"Dispositivo GPU não encontrado\")"
      ]
    },
    {
      "cell_type": "markdown",
      "metadata": {
        "id": "iYRrUo2XWa8G"
      },
      "source": [
        "Nome da GPU\n",
        "\n",
        "Para que a torch use a GPU, precisamos identificar e especificar a GPU como o dispositivo. Posteriormente, em nosso ciclo de treinamento, carregaremos dados no dispositivo.\n",
        "\n",
        "Vale a pena observar qual GPU você recebeu. A GPU Tesla P100 é muito mais rápido que as outras GPUs, abaixo uma lista ordenada:\n",
        "- 1o Tesla P100\n",
        "- 2o Tesla T4\n",
        "- 3o Tesla P4 (Não tem memória para execução 4 x 8, somente 2 x 4)\n",
        "- 4o Tesla K80 (Não tem memória para execução 4 x 8, somente 2 x 4)"
      ]
    },
    {
      "cell_type": "code",
      "execution_count": 10,
      "metadata": {
        "id": "zrjqDO6nWa8J"
      },
      "outputs": [],
      "source": [
        "# Import das bibliotecas.\n",
        "import torch\n",
        "\n",
        "def getDeviceGPU():\n",
        "    \"\"\"\n",
        "      Retorna um dispositivo de GPU se disponível ou CPU.\n",
        "\n",
        "      Retorno:\n",
        "        `device` - Um device de GPU ou CPU.\n",
        "    \"\"\"\n",
        "\n",
        "    # Se existe GPU disponível.\n",
        "    if torch.cuda.is_available():\n",
        "\n",
        "        # Diz ao PyTorch para usar GPU.\n",
        "        device = torch.device(\"cuda\")\n",
        "\n",
        "        logging.info(\"Existem {} GPU(s) disponíveis.\".format(torch.cuda.device_count()))\n",
        "        logging.info(\"Iremos usar a GPU: {}.\".format(torch.cuda.get_device_name(0)))\n",
        "\n",
        "    # Se não.\n",
        "    else:\n",
        "        logging.info(\"Sem GPU disponível, usando CPU.\")\n",
        "        device = torch.device(\"cpu\")\n",
        "\n",
        "    return device"
      ]
    },
    {
      "cell_type": "code",
      "execution_count": 11,
      "metadata": {
        "colab": {
          "base_uri": "https://localhost:8080/"
        },
        "id": "ChDxmtXsKwjf",
        "outputId": "1b3a6e18-1072-4b98-d219-eae47e0acd7b"
      },
      "outputs": [
        {
          "output_type": "stream",
          "name": "stderr",
          "text": [
            "INFO:root:Sem GPU disponível, usando CPU.\n"
          ]
        }
      ],
      "source": [
        "# Recupera o device com GPU ou CPU\n",
        "device = getDeviceGPU()"
      ]
    },
    {
      "cell_type": "markdown",
      "metadata": {
        "id": "fGf59D0yVNx9"
      },
      "source": [
        "Memória\n",
        "\n",
        "Memória disponível no ambiente"
      ]
    },
    {
      "cell_type": "code",
      "execution_count": 12,
      "metadata": {
        "colab": {
          "base_uri": "https://localhost:8080/"
        },
        "id": "1iC5-pSAVh7_",
        "outputId": "656cae4b-4487-4c5d-e440-be4005e83236"
      },
      "outputs": [
        {
          "output_type": "stream",
          "name": "stderr",
          "text": [
            "INFO:root:Seu ambiente de execução tem  13.6 gigabytes de RAM disponível\n",
            "\n",
            "INFO:root:Para habilitar um tempo de execução de RAM alta, selecione menu o ambiente de execução> \"Alterar tipo de tempo de execução\"\n",
            "INFO:root:e selecione High-RAM. Então, execute novamente está célula\n"
          ]
        }
      ],
      "source": [
        "# Importando as bibliotecas.\n",
        "from psutil import virtual_memory\n",
        "\n",
        "ram_gb = virtual_memory().total / 1e9\n",
        "logging.info(\"Seu ambiente de execução tem {: .1f} gigabytes de RAM disponível\\n\".format(ram_gb))\n",
        "\n",
        "if ram_gb < 20:\n",
        "  logging.info(\"Para habilitar um tempo de execução de RAM alta, selecione menu o ambiente de execução> \\\"Alterar tipo de tempo de execução\\\"\")\n",
        "  logging.info(\"e selecione High-RAM. Então, execute novamente está célula\")\n",
        "else:\n",
        "  logging.info(\"Você está usando um ambiente de execução de memória RAM alta!\")"
      ]
    },
    {
      "cell_type": "markdown",
      "metadata": {
        "id": "wijMXooQQLcQ"
      },
      "source": [
        "## 1.6 Monta uma pasta no google drive para carregar os arquivos de dados."
      ]
    },
    {
      "cell_type": "code",
      "execution_count": 13,
      "metadata": {
        "colab": {
          "base_uri": "https://localhost:8080/"
        },
        "id": "ysnDDapMQK8K",
        "outputId": "dd4edd7f-f9a3-4c0a-b7ac-e3e9a1dae7fe"
      },
      "outputs": [
        {
          "output_type": "stream",
          "name": "stdout",
          "text": [
            "Drive already mounted at /content/drive; to attempt to forcibly remount, call drive.mount(\"/content/drive\", force_remount=True).\n"
          ]
        }
      ],
      "source": [
        "# Se estiver executando no Google Colaboratory\n",
        "if IN_COLAB:\n",
        "\n",
        "  # import necessário\n",
        "  from google.colab import drive\n",
        "\n",
        "  # Monta o drive na pasta especificada\n",
        "  drive.mount(\"/content/drive\")"
      ]
    },
    {
      "cell_type": "markdown",
      "metadata": {
        "id": "oOd2MbBiDq93"
      },
      "source": [
        "## 1.7 Instalação do spaCy\n",
        "\n",
        "https://spacy.io/\n",
        "\n",
        "Modelos do spaCy para português:\n",
        "https://spacy.io/models/pt\n",
        "\n",
        "Uso:\n",
        "https://spacy.io/usage"
      ]
    },
    {
      "cell_type": "code",
      "execution_count": 14,
      "metadata": {
        "colab": {
          "base_uri": "https://localhost:8080/"
        },
        "id": "EaMM4WdxgvQ7",
        "outputId": "22c6f16c-6af6-4620-99e5-b9c8827c7f6b"
      },
      "outputs": [
        {
          "output_type": "stream",
          "name": "stdout",
          "text": [
            "Requirement already satisfied: pip==25.1.1 in /usr/local/lib/python3.11/dist-packages (25.1.1)\n",
            "Requirement already satisfied: setuptools==80.9.0 in /usr/local/lib/python3.11/dist-packages (80.9.0)\n",
            "Requirement already satisfied: wheel==0.45.1 in /usr/local/lib/python3.11/dist-packages (0.45.1)\n"
          ]
        }
      ],
      "source": [
        "# Instala dependências do spacy\n",
        "!pip install -U pip==25.1.1 setuptools==80.9.0 wheel==0.45.1"
      ]
    },
    {
      "cell_type": "code",
      "execution_count": 15,
      "metadata": {
        "colab": {
          "base_uri": "https://localhost:8080/"
        },
        "id": "w4p3Rz2qDq94",
        "outputId": "bd5a83a1-ac2d-45b6-943c-63a0b127c0c4",
        "collapsed": true
      },
      "outputs": [
        {
          "output_type": "stream",
          "name": "stdout",
          "text": [
            "Requirement already satisfied: spacy==3.8.7 in /usr/local/lib/python3.11/dist-packages (3.8.7)\n",
            "Requirement already satisfied: spacy-legacy<3.1.0,>=3.0.11 in /usr/local/lib/python3.11/dist-packages (from spacy==3.8.7) (3.0.12)\n",
            "Requirement already satisfied: spacy-loggers<2.0.0,>=1.0.0 in /usr/local/lib/python3.11/dist-packages (from spacy==3.8.7) (1.0.5)\n",
            "Requirement already satisfied: murmurhash<1.1.0,>=0.28.0 in /usr/local/lib/python3.11/dist-packages (from spacy==3.8.7) (1.0.13)\n",
            "Requirement already satisfied: cymem<2.1.0,>=2.0.2 in /usr/local/lib/python3.11/dist-packages (from spacy==3.8.7) (2.0.11)\n",
            "Requirement already satisfied: preshed<3.1.0,>=3.0.2 in /usr/local/lib/python3.11/dist-packages (from spacy==3.8.7) (3.0.10)\n",
            "Requirement already satisfied: thinc<8.4.0,>=8.3.4 in /usr/local/lib/python3.11/dist-packages (from spacy==3.8.7) (8.3.6)\n",
            "Requirement already satisfied: wasabi<1.2.0,>=0.9.1 in /usr/local/lib/python3.11/dist-packages (from spacy==3.8.7) (1.1.3)\n",
            "Requirement already satisfied: srsly<3.0.0,>=2.4.3 in /usr/local/lib/python3.11/dist-packages (from spacy==3.8.7) (2.5.1)\n",
            "Requirement already satisfied: catalogue<2.1.0,>=2.0.6 in /usr/local/lib/python3.11/dist-packages (from spacy==3.8.7) (2.0.10)\n",
            "Requirement already satisfied: weasel<0.5.0,>=0.1.0 in /usr/local/lib/python3.11/dist-packages (from spacy==3.8.7) (0.4.1)\n",
            "Requirement already satisfied: typer<1.0.0,>=0.3.0 in /usr/local/lib/python3.11/dist-packages (from spacy==3.8.7) (0.16.0)\n",
            "Requirement already satisfied: tqdm<5.0.0,>=4.38.0 in /usr/local/lib/python3.11/dist-packages (from spacy==3.8.7) (4.67.1)\n",
            "Requirement already satisfied: numpy>=1.19.0 in /usr/local/lib/python3.11/dist-packages (from spacy==3.8.7) (2.0.2)\n",
            "Requirement already satisfied: requests<3.0.0,>=2.13.0 in /usr/local/lib/python3.11/dist-packages (from spacy==3.8.7) (2.32.3)\n",
            "Requirement already satisfied: pydantic!=1.8,!=1.8.1,<3.0.0,>=1.7.4 in /usr/local/lib/python3.11/dist-packages (from spacy==3.8.7) (2.11.7)\n",
            "Requirement already satisfied: jinja2 in /usr/local/lib/python3.11/dist-packages (from spacy==3.8.7) (3.1.6)\n",
            "Requirement already satisfied: setuptools in /usr/local/lib/python3.11/dist-packages (from spacy==3.8.7) (80.9.0)\n",
            "Requirement already satisfied: packaging>=20.0 in /usr/local/lib/python3.11/dist-packages (from spacy==3.8.7) (24.2)\n",
            "Requirement already satisfied: langcodes<4.0.0,>=3.2.0 in /usr/local/lib/python3.11/dist-packages (from spacy==3.8.7) (3.5.0)\n",
            "Requirement already satisfied: language-data>=1.2 in /usr/local/lib/python3.11/dist-packages (from langcodes<4.0.0,>=3.2.0->spacy==3.8.7) (1.3.0)\n",
            "Requirement already satisfied: annotated-types>=0.6.0 in /usr/local/lib/python3.11/dist-packages (from pydantic!=1.8,!=1.8.1,<3.0.0,>=1.7.4->spacy==3.8.7) (0.7.0)\n",
            "Requirement already satisfied: pydantic-core==2.33.2 in /usr/local/lib/python3.11/dist-packages (from pydantic!=1.8,!=1.8.1,<3.0.0,>=1.7.4->spacy==3.8.7) (2.33.2)\n",
            "Requirement already satisfied: typing-extensions>=4.12.2 in /usr/local/lib/python3.11/dist-packages (from pydantic!=1.8,!=1.8.1,<3.0.0,>=1.7.4->spacy==3.8.7) (4.14.0)\n",
            "Requirement already satisfied: typing-inspection>=0.4.0 in /usr/local/lib/python3.11/dist-packages (from pydantic!=1.8,!=1.8.1,<3.0.0,>=1.7.4->spacy==3.8.7) (0.4.1)\n",
            "Requirement already satisfied: charset-normalizer<4,>=2 in /usr/local/lib/python3.11/dist-packages (from requests<3.0.0,>=2.13.0->spacy==3.8.7) (3.4.2)\n",
            "Requirement already satisfied: idna<4,>=2.5 in /usr/local/lib/python3.11/dist-packages (from requests<3.0.0,>=2.13.0->spacy==3.8.7) (3.10)\n",
            "Requirement already satisfied: urllib3<3,>=1.21.1 in /usr/local/lib/python3.11/dist-packages (from requests<3.0.0,>=2.13.0->spacy==3.8.7) (2.4.0)\n",
            "Requirement already satisfied: certifi>=2017.4.17 in /usr/local/lib/python3.11/dist-packages (from requests<3.0.0,>=2.13.0->spacy==3.8.7) (2025.6.15)\n",
            "Requirement already satisfied: blis<1.4.0,>=1.3.0 in /usr/local/lib/python3.11/dist-packages (from thinc<8.4.0,>=8.3.4->spacy==3.8.7) (1.3.0)\n",
            "Requirement already satisfied: confection<1.0.0,>=0.0.1 in /usr/local/lib/python3.11/dist-packages (from thinc<8.4.0,>=8.3.4->spacy==3.8.7) (0.1.5)\n",
            "Requirement already satisfied: click>=8.0.0 in /usr/local/lib/python3.11/dist-packages (from typer<1.0.0,>=0.3.0->spacy==3.8.7) (8.2.1)\n",
            "Requirement already satisfied: shellingham>=1.3.0 in /usr/local/lib/python3.11/dist-packages (from typer<1.0.0,>=0.3.0->spacy==3.8.7) (1.5.4)\n",
            "Requirement already satisfied: rich>=10.11.0 in /usr/local/lib/python3.11/dist-packages (from typer<1.0.0,>=0.3.0->spacy==3.8.7) (13.9.4)\n",
            "Requirement already satisfied: cloudpathlib<1.0.0,>=0.7.0 in /usr/local/lib/python3.11/dist-packages (from weasel<0.5.0,>=0.1.0->spacy==3.8.7) (0.21.1)\n",
            "Requirement already satisfied: smart-open<8.0.0,>=5.2.1 in /usr/local/lib/python3.11/dist-packages (from weasel<0.5.0,>=0.1.0->spacy==3.8.7) (7.1.0)\n",
            "Requirement already satisfied: wrapt in /usr/local/lib/python3.11/dist-packages (from smart-open<8.0.0,>=5.2.1->weasel<0.5.0,>=0.1.0->spacy==3.8.7) (1.17.2)\n",
            "Requirement already satisfied: marisa-trie>=1.1.0 in /usr/local/lib/python3.11/dist-packages (from language-data>=1.2->langcodes<4.0.0,>=3.2.0->spacy==3.8.7) (1.2.1)\n",
            "Requirement already satisfied: markdown-it-py>=2.2.0 in /usr/local/lib/python3.11/dist-packages (from rich>=10.11.0->typer<1.0.0,>=0.3.0->spacy==3.8.7) (3.0.0)\n",
            "Requirement already satisfied: pygments<3.0.0,>=2.13.0 in /usr/local/lib/python3.11/dist-packages (from rich>=10.11.0->typer<1.0.0,>=0.3.0->spacy==3.8.7) (2.19.2)\n",
            "Requirement already satisfied: mdurl~=0.1 in /usr/local/lib/python3.11/dist-packages (from markdown-it-py>=2.2.0->rich>=10.11.0->typer<1.0.0,>=0.3.0->spacy==3.8.7) (0.1.2)\n",
            "Requirement already satisfied: MarkupSafe>=2.0 in /usr/local/lib/python3.11/dist-packages (from jinja2->spacy==3.8.7) (3.0.2)\n"
          ]
        }
      ],
      "source": [
        "# Instala uma versão específica\n",
        "!pip install -U spacy==3.8.7"
      ]
    },
    {
      "cell_type": "markdown",
      "source": [
        "## 1.8 Instalação do ftfy\n",
        "\n",
        "Realiza a normalização do texto devido a problemas de codificação de caracteres e decodificação de html entities.\n",
        "\n",
        "https://pypi.org/project/ftfy/"
      ],
      "metadata": {
        "id": "zNyRgHGvoVIX"
      }
    },
    {
      "cell_type": "code",
      "source": [
        "!pip install ftfy==6.3.1"
      ],
      "metadata": {
        "colab": {
          "base_uri": "https://localhost:8080/"
        },
        "id": "GunkOVGEob6c",
        "outputId": "f9a03fbb-06db-47be-dc5a-5e45dca3fc9e"
      },
      "execution_count": 16,
      "outputs": [
        {
          "output_type": "stream",
          "name": "stdout",
          "text": [
            "Requirement already satisfied: ftfy==6.3.1 in /usr/local/lib/python3.11/dist-packages (6.3.1)\n",
            "Requirement already satisfied: wcwidth in /usr/local/lib/python3.11/dist-packages (from ftfy==6.3.1) (0.2.13)\n"
          ]
        }
      ]
    },
    {
      "cell_type": "markdown",
      "metadata": {
        "id": "8bGda5JgMtQe"
      },
      "source": [
        "# 2 Parametrização"
      ]
    },
    {
      "cell_type": "markdown",
      "metadata": {
        "id": "ifrYNTwGwKal"
      },
      "source": [
        "## Gerais"
      ]
    },
    {
      "cell_type": "code",
      "execution_count": 17,
      "metadata": {
        "id": "5uiH9pNpwI6g"
      },
      "outputs": [],
      "source": [
        "# Definição dos parâmetros gerais"
      ]
    },
    {
      "cell_type": "markdown",
      "metadata": {
        "id": "mhByVujAwNAU"
      },
      "source": [
        "## Específicos"
      ]
    },
    {
      "cell_type": "markdown",
      "metadata": {
        "id": "SnEeFAFx1FqQ"
      },
      "source": [
        "Parâmetros do modelo"
      ]
    },
    {
      "cell_type": "code",
      "execution_count": 18,
      "metadata": {
        "id": "oJ15-ylRRRdD"
      },
      "outputs": [],
      "source": [
        "# Definição dos parâmetros do Modelo.\n",
        "model_args = ModelosParametros(\n",
        "\n",
        "    #modelo_spacy = \"en_core_web_lg\",\n",
        "    #modelo_spacy = \"en_core_web_md\",\n",
        "    #modelo_spacy = \"en_core_web_sm\",\n",
        "\n",
        "    modelo_spacy = \"pt_core_news_lg\",\n",
        "    #modelo_spacy = \"pt_core_news_md\",\n",
        "    #modelo_spacy = \"pt_core_news_sm\",\n",
        "\n",
        "    sentenciar_documento = True,\n",
        ")"
      ]
    },
    {
      "cell_type": "markdown",
      "metadata": {
        "id": "ecwtQDArKvZn"
      },
      "source": [
        "## Nome do diretório dos arquivos de dados"
      ]
    },
    {
      "cell_type": "code",
      "execution_count": 19,
      "metadata": {
        "id": "YtNygH9qKvmp"
      },
      "outputs": [],
      "source": [
        "# Diretório do notebook\n",
        "DIRETORIO_NOTEBOOK = \"SRI\""
      ]
    },
    {
      "cell_type": "markdown",
      "metadata": {
        "id": "SUxlx7Sx4yxj"
      },
      "source": [
        "## Define o caminho para os arquivos de dados"
      ]
    },
    {
      "cell_type": "code",
      "execution_count": 20,
      "metadata": {
        "id": "-gQpxAO74yxj"
      },
      "outputs": [],
      "source": [
        "# Se estiver executando no Google Colaboratory\n",
        "if IN_COLAB:\n",
        "\n",
        "  # Diretório local para os arquivos de dados\n",
        "  DIRETORIO_LOCAL = \"/content/\" + DIRETORIO_NOTEBOOK + \"/\"\n",
        "\n",
        "  # Diretório no google drive com os arquivos de dados\n",
        "  DIRETORIO_DRIVE = \"/content/drive/MyDrive/Colab Notebooks/\" + DIRETORIO_NOTEBOOK + \"/data/\"\n",
        "else:\n",
        "\n",
        "  # Diretório local para os arquivos de dados\n",
        "  DIRETORIO_LOCAL = \"./data/\"\n",
        "\n",
        "  # Diretório no google drive com os arquivos de dados\n",
        "  DIRETORIO_DRIVE = \"./data/\""
      ]
    },
    {
      "cell_type": "markdown",
      "metadata": {
        "id": "L7G3-MOsQ1N_"
      },
      "source": [
        "# 3 spaCy"
      ]
    },
    {
      "cell_type": "markdown",
      "metadata": {
        "id": "35GwcgkOlWi3"
      },
      "source": [
        "## 3.1 Download arquivo modelo\n",
        "\n",
        "Uso:\n",
        "https://spacy.io/usage\n",
        "\n",
        "Modelos:\n",
        "https://spacy.io/models"
      ]
    },
    {
      "cell_type": "code",
      "execution_count": 21,
      "metadata": {
        "colab": {
          "base_uri": "https://localhost:8080/"
        },
        "id": "_lqonzGcupXI",
        "outputId": "0e07d27a-4cc6-4d1c-fed0-c328aa875bb8"
      },
      "outputs": [
        {
          "output_type": "stream",
          "name": "stdout",
          "text": [
            "Collecting pt-core-news-lg==3.8.0\n",
            "  Downloading https://github.com/explosion/spacy-models/releases/download/pt_core_news_lg-3.8.0/pt_core_news_lg-3.8.0-py3-none-any.whl (568.2 MB)\n",
            "\u001b[2K     \u001b[90m━━━━━━━━━━━━━━━━━━━━━━━━━━━━━━━━━━━━━━\u001b[0m \u001b[32m568.2/568.2 MB\u001b[0m \u001b[31m31.9 MB/s\u001b[0m eta \u001b[36m0:00:00\u001b[0m\n",
            "\u001b[?25h\u001b[38;5;2m✔ Download and installation successful\u001b[0m\n",
            "You can now load the package via spacy.load('pt_core_news_lg')\n",
            "\u001b[38;5;3m⚠ Restart to reload dependencies\u001b[0m\n",
            "If you are in a Jupyter or Colab notebook, you may need to restart Python in\n",
            "order to load all the package's dependencies. You can do this by selecting the\n",
            "'Restart kernel' or 'Restart runtime' option.\n"
          ]
        }
      ],
      "source": [
        "!python -m spacy download $model_args.modelo_spacy"
      ]
    },
    {
      "cell_type": "markdown",
      "metadata": {
        "id": "STHT2c89qvwK"
      },
      "source": [
        "## 3.2 Carrega o modelo"
      ]
    },
    {
      "cell_type": "code",
      "execution_count": 22,
      "metadata": {
        "id": "6boQJOwotxhH"
      },
      "outputs": [],
      "source": [
        "# Import das bibliotecas.\n",
        "import spacy # Biblioteca do spaCy\n",
        "\n",
        "nlp = spacy.load(model_args.modelo_spacy)"
      ]
    },
    {
      "cell_type": "markdown",
      "metadata": {
        "id": "guw6ZNtaswKc"
      },
      "source": [
        "# 4 Pré-processamento do arquivo \"`documentos.csv`\"\n"
      ]
    },
    {
      "cell_type": "markdown",
      "metadata": {
        "id": "q5fZgM2mdsIP"
      },
      "source": [
        "## 4.1 Carrega os dados bruto"
      ]
    },
    {
      "cell_type": "markdown",
      "metadata": {
        "id": "EIhL_vEt6T47"
      },
      "source": [
        "### 4.1.1 Especifica s nome do arquivo de dados bruto\n",
        "\n"
      ]
    },
    {
      "cell_type": "code",
      "execution_count": 23,
      "metadata": {
        "id": "HUf58mb_6T47"
      },
      "outputs": [],
      "source": [
        "# Nome do arquivo\n",
        "NOME_ARQUIVO_DADOS_BRUTO = \"documentos.csv\""
      ]
    },
    {
      "cell_type": "markdown",
      "metadata": {
        "id": "t6aDyUuwIAgl"
      },
      "source": [
        "### 4.1.2 Cria o diretório local para receber os arquivos de dados"
      ]
    },
    {
      "cell_type": "code",
      "execution_count": 24,
      "metadata": {
        "colab": {
          "base_uri": "https://localhost:8080/"
        },
        "id": "4AutOOfj6T47",
        "outputId": "aecd2967-4756-4439-f692-c7b16b971d6b"
      },
      "outputs": [
        {
          "output_type": "stream",
          "name": "stderr",
          "text": [
            "INFO:root:Diretório já existe: /content/SRI\n"
          ]
        }
      ],
      "source": [
        "# Importando as bibliotecas.\n",
        "import os\n",
        "\n",
        "# Se estiver executando no Google Colaboratory\n",
        "if IN_COLAB:\n",
        "\n",
        "  # Cria o diretório para receber os arquivos Originais e Permutados\n",
        "  # Diretório a ser criado\n",
        "  dirbase = DIRETORIO_LOCAL[:-1]\n",
        "\n",
        "  if not os.path.exists(dirbase):\n",
        "      # Cria o diretório\n",
        "      os.makedirs(dirbase)\n",
        "      logging.info(\"Diretório criado: {}\".format(dirbase))\n",
        "  else:\n",
        "      logging.info(\"Diretório já existe: {}\".format(dirbase))"
      ]
    },
    {
      "cell_type": "markdown",
      "metadata": {
        "id": "ELaau7QD4yxi"
      },
      "source": [
        "### 4.1.3 Copia o arquivos de dados bruto do google drive para o diretório local"
      ]
    },
    {
      "cell_type": "code",
      "execution_count": 25,
      "metadata": {
        "colab": {
          "base_uri": "https://localhost:8080/"
        },
        "id": "33PCWMXJ4yxk",
        "outputId": "0a8d813e-41d9-4672-964a-6502e580bfc0"
      },
      "outputs": [
        {
          "output_type": "stream",
          "name": "stderr",
          "text": [
            "INFO:root:Terminei a cópia!\n"
          ]
        }
      ],
      "source": [
        "# Se estiver executando no Google Colaboratory\n",
        "if IN_COLAB:\n",
        "\n",
        "  !cp \"$DIRETORIO_DRIVE$NOME_ARQUIVO_DADOS_BRUTO\" \"$DIRETORIO_LOCAL\"\n",
        "\n",
        "  logging.info(\"Terminei a cópia!\")"
      ]
    },
    {
      "cell_type": "markdown",
      "metadata": {
        "id": "SAkf-zUT_pg3"
      },
      "source": [
        "### 4.1.4 Carrega os dados no formato bruto\n",
        "\n",
        "Atributos do arquivo **documentos**:\n",
        "0. \"id\"\n",
        "1. \"documento\""
      ]
    },
    {
      "cell_type": "code",
      "execution_count": 26,
      "metadata": {
        "colab": {
          "base_uri": "https://localhost:8080/"
        },
        "id": "nbbS-8C3iINh",
        "outputId": "089ae221-8082-40c7-9c18-241403c9468f"
      },
      "outputs": [
        {
          "output_type": "stream",
          "name": "stderr",
          "text": [
            "INFO:root:TERMINADO FONTES: 20.\n"
          ]
        }
      ],
      "source": [
        "# Import das bibliotecas.\n",
        "import pandas as pd\n",
        "\n",
        "# Abre o arquivo e retorna o DataFrame\n",
        "df_documentos_bruto = pd.read_csv(DIRETORIO_LOCAL + NOME_ARQUIVO_DADOS_BRUTO, sep=\";\", encoding=\"UTF-8\")\n",
        "\n",
        "logging.info(\"TERMINADO FONTES: {}.\".format(len(df_documentos_bruto)))"
      ]
    },
    {
      "cell_type": "code",
      "execution_count": 27,
      "metadata": {
        "colab": {
          "base_uri": "https://localhost:8080/",
          "height": 206
        },
        "id": "dEzFii_GjjT8",
        "outputId": "a7ef2284-693c-4ee3-a87d-6f150d7753ec"
      },
      "outputs": [
        {
          "output_type": "execute_result",
          "data": {
            "text/plain": [
              "    id                                          documento\n",
              "14  15  Quase metade dos vôos previstos para decolar n...\n",
              "6    7  A aviação israelense atacou 150 alvos na madru...\n",
              "13  14  A pista principal do Aeroporto Internacional d...\n",
              "5    6  O superintendente regional da Polícia Federal ...\n",
              "12  13  O médico pessoal do argentino Diego Maradona, ..."
            ],
            "text/html": [
              "\n",
              "  <div id=\"df-2bc241ba-6a77-49ac-874f-6793dce8faf2\" class=\"colab-df-container\">\n",
              "    <div>\n",
              "<style scoped>\n",
              "    .dataframe tbody tr th:only-of-type {\n",
              "        vertical-align: middle;\n",
              "    }\n",
              "\n",
              "    .dataframe tbody tr th {\n",
              "        vertical-align: top;\n",
              "    }\n",
              "\n",
              "    .dataframe thead th {\n",
              "        text-align: right;\n",
              "    }\n",
              "</style>\n",
              "<table border=\"1\" class=\"dataframe\">\n",
              "  <thead>\n",
              "    <tr style=\"text-align: right;\">\n",
              "      <th></th>\n",
              "      <th>id</th>\n",
              "      <th>documento</th>\n",
              "    </tr>\n",
              "  </thead>\n",
              "  <tbody>\n",
              "    <tr>\n",
              "      <th>14</th>\n",
              "      <td>15</td>\n",
              "      <td>Quase metade dos vôos previstos para decolar n...</td>\n",
              "    </tr>\n",
              "    <tr>\n",
              "      <th>6</th>\n",
              "      <td>7</td>\n",
              "      <td>A aviação israelense atacou 150 alvos na madru...</td>\n",
              "    </tr>\n",
              "    <tr>\n",
              "      <th>13</th>\n",
              "      <td>14</td>\n",
              "      <td>A pista principal do Aeroporto Internacional d...</td>\n",
              "    </tr>\n",
              "    <tr>\n",
              "      <th>5</th>\n",
              "      <td>6</td>\n",
              "      <td>O superintendente regional da Polícia Federal ...</td>\n",
              "    </tr>\n",
              "    <tr>\n",
              "      <th>12</th>\n",
              "      <td>13</td>\n",
              "      <td>O médico pessoal do argentino Diego Maradona, ...</td>\n",
              "    </tr>\n",
              "  </tbody>\n",
              "</table>\n",
              "</div>\n",
              "    <div class=\"colab-df-buttons\">\n",
              "\n",
              "  <div class=\"colab-df-container\">\n",
              "    <button class=\"colab-df-convert\" onclick=\"convertToInteractive('df-2bc241ba-6a77-49ac-874f-6793dce8faf2')\"\n",
              "            title=\"Convert this dataframe to an interactive table.\"\n",
              "            style=\"display:none;\">\n",
              "\n",
              "  <svg xmlns=\"http://www.w3.org/2000/svg\" height=\"24px\" viewBox=\"0 -960 960 960\">\n",
              "    <path d=\"M120-120v-720h720v720H120Zm60-500h600v-160H180v160Zm220 220h160v-160H400v160Zm0 220h160v-160H400v160ZM180-400h160v-160H180v160Zm440 0h160v-160H620v160ZM180-180h160v-160H180v160Zm440 0h160v-160H620v160Z\"/>\n",
              "  </svg>\n",
              "    </button>\n",
              "\n",
              "  <style>\n",
              "    .colab-df-container {\n",
              "      display:flex;\n",
              "      gap: 12px;\n",
              "    }\n",
              "\n",
              "    .colab-df-convert {\n",
              "      background-color: #E8F0FE;\n",
              "      border: none;\n",
              "      border-radius: 50%;\n",
              "      cursor: pointer;\n",
              "      display: none;\n",
              "      fill: #1967D2;\n",
              "      height: 32px;\n",
              "      padding: 0 0 0 0;\n",
              "      width: 32px;\n",
              "    }\n",
              "\n",
              "    .colab-df-convert:hover {\n",
              "      background-color: #E2EBFA;\n",
              "      box-shadow: 0px 1px 2px rgba(60, 64, 67, 0.3), 0px 1px 3px 1px rgba(60, 64, 67, 0.15);\n",
              "      fill: #174EA6;\n",
              "    }\n",
              "\n",
              "    .colab-df-buttons div {\n",
              "      margin-bottom: 4px;\n",
              "    }\n",
              "\n",
              "    [theme=dark] .colab-df-convert {\n",
              "      background-color: #3B4455;\n",
              "      fill: #D2E3FC;\n",
              "    }\n",
              "\n",
              "    [theme=dark] .colab-df-convert:hover {\n",
              "      background-color: #434B5C;\n",
              "      box-shadow: 0px 1px 3px 1px rgba(0, 0, 0, 0.15);\n",
              "      filter: drop-shadow(0px 1px 2px rgba(0, 0, 0, 0.3));\n",
              "      fill: #FFFFFF;\n",
              "    }\n",
              "  </style>\n",
              "\n",
              "    <script>\n",
              "      const buttonEl =\n",
              "        document.querySelector('#df-2bc241ba-6a77-49ac-874f-6793dce8faf2 button.colab-df-convert');\n",
              "      buttonEl.style.display =\n",
              "        google.colab.kernel.accessAllowed ? 'block' : 'none';\n",
              "\n",
              "      async function convertToInteractive(key) {\n",
              "        const element = document.querySelector('#df-2bc241ba-6a77-49ac-874f-6793dce8faf2');\n",
              "        const dataTable =\n",
              "          await google.colab.kernel.invokeFunction('convertToInteractive',\n",
              "                                                    [key], {});\n",
              "        if (!dataTable) return;\n",
              "\n",
              "        const docLinkHtml = 'Like what you see? Visit the ' +\n",
              "          '<a target=\"_blank\" href=https://colab.research.google.com/notebooks/data_table.ipynb>data table notebook</a>'\n",
              "          + ' to learn more about interactive tables.';\n",
              "        element.innerHTML = '';\n",
              "        dataTable['output_type'] = 'display_data';\n",
              "        await google.colab.output.renderOutput(dataTable, element);\n",
              "        const docLink = document.createElement('div');\n",
              "        docLink.innerHTML = docLinkHtml;\n",
              "        element.appendChild(docLink);\n",
              "      }\n",
              "    </script>\n",
              "  </div>\n",
              "\n",
              "\n",
              "    <div id=\"df-87c2cf70-25d1-4c78-a6b4-d3b767ab1ee0\">\n",
              "      <button class=\"colab-df-quickchart\" onclick=\"quickchart('df-87c2cf70-25d1-4c78-a6b4-d3b767ab1ee0')\"\n",
              "                title=\"Suggest charts\"\n",
              "                style=\"display:none;\">\n",
              "\n",
              "<svg xmlns=\"http://www.w3.org/2000/svg\" height=\"24px\"viewBox=\"0 0 24 24\"\n",
              "     width=\"24px\">\n",
              "    <g>\n",
              "        <path d=\"M19 3H5c-1.1 0-2 .9-2 2v14c0 1.1.9 2 2 2h14c1.1 0 2-.9 2-2V5c0-1.1-.9-2-2-2zM9 17H7v-7h2v7zm4 0h-2V7h2v10zm4 0h-2v-4h2v4z\"/>\n",
              "    </g>\n",
              "</svg>\n",
              "      </button>\n",
              "\n",
              "<style>\n",
              "  .colab-df-quickchart {\n",
              "      --bg-color: #E8F0FE;\n",
              "      --fill-color: #1967D2;\n",
              "      --hover-bg-color: #E2EBFA;\n",
              "      --hover-fill-color: #174EA6;\n",
              "      --disabled-fill-color: #AAA;\n",
              "      --disabled-bg-color: #DDD;\n",
              "  }\n",
              "\n",
              "  [theme=dark] .colab-df-quickchart {\n",
              "      --bg-color: #3B4455;\n",
              "      --fill-color: #D2E3FC;\n",
              "      --hover-bg-color: #434B5C;\n",
              "      --hover-fill-color: #FFFFFF;\n",
              "      --disabled-bg-color: #3B4455;\n",
              "      --disabled-fill-color: #666;\n",
              "  }\n",
              "\n",
              "  .colab-df-quickchart {\n",
              "    background-color: var(--bg-color);\n",
              "    border: none;\n",
              "    border-radius: 50%;\n",
              "    cursor: pointer;\n",
              "    display: none;\n",
              "    fill: var(--fill-color);\n",
              "    height: 32px;\n",
              "    padding: 0;\n",
              "    width: 32px;\n",
              "  }\n",
              "\n",
              "  .colab-df-quickchart:hover {\n",
              "    background-color: var(--hover-bg-color);\n",
              "    box-shadow: 0 1px 2px rgba(60, 64, 67, 0.3), 0 1px 3px 1px rgba(60, 64, 67, 0.15);\n",
              "    fill: var(--button-hover-fill-color);\n",
              "  }\n",
              "\n",
              "  .colab-df-quickchart-complete:disabled,\n",
              "  .colab-df-quickchart-complete:disabled:hover {\n",
              "    background-color: var(--disabled-bg-color);\n",
              "    fill: var(--disabled-fill-color);\n",
              "    box-shadow: none;\n",
              "  }\n",
              "\n",
              "  .colab-df-spinner {\n",
              "    border: 2px solid var(--fill-color);\n",
              "    border-color: transparent;\n",
              "    border-bottom-color: var(--fill-color);\n",
              "    animation:\n",
              "      spin 1s steps(1) infinite;\n",
              "  }\n",
              "\n",
              "  @keyframes spin {\n",
              "    0% {\n",
              "      border-color: transparent;\n",
              "      border-bottom-color: var(--fill-color);\n",
              "      border-left-color: var(--fill-color);\n",
              "    }\n",
              "    20% {\n",
              "      border-color: transparent;\n",
              "      border-left-color: var(--fill-color);\n",
              "      border-top-color: var(--fill-color);\n",
              "    }\n",
              "    30% {\n",
              "      border-color: transparent;\n",
              "      border-left-color: var(--fill-color);\n",
              "      border-top-color: var(--fill-color);\n",
              "      border-right-color: var(--fill-color);\n",
              "    }\n",
              "    40% {\n",
              "      border-color: transparent;\n",
              "      border-right-color: var(--fill-color);\n",
              "      border-top-color: var(--fill-color);\n",
              "    }\n",
              "    60% {\n",
              "      border-color: transparent;\n",
              "      border-right-color: var(--fill-color);\n",
              "    }\n",
              "    80% {\n",
              "      border-color: transparent;\n",
              "      border-right-color: var(--fill-color);\n",
              "      border-bottom-color: var(--fill-color);\n",
              "    }\n",
              "    90% {\n",
              "      border-color: transparent;\n",
              "      border-bottom-color: var(--fill-color);\n",
              "    }\n",
              "  }\n",
              "</style>\n",
              "\n",
              "      <script>\n",
              "        async function quickchart(key) {\n",
              "          const quickchartButtonEl =\n",
              "            document.querySelector('#' + key + ' button');\n",
              "          quickchartButtonEl.disabled = true;  // To prevent multiple clicks.\n",
              "          quickchartButtonEl.classList.add('colab-df-spinner');\n",
              "          try {\n",
              "            const charts = await google.colab.kernel.invokeFunction(\n",
              "                'suggestCharts', [key], {});\n",
              "          } catch (error) {\n",
              "            console.error('Error during call to suggestCharts:', error);\n",
              "          }\n",
              "          quickchartButtonEl.classList.remove('colab-df-spinner');\n",
              "          quickchartButtonEl.classList.add('colab-df-quickchart-complete');\n",
              "        }\n",
              "        (() => {\n",
              "          let quickchartButtonEl =\n",
              "            document.querySelector('#df-87c2cf70-25d1-4c78-a6b4-d3b767ab1ee0 button');\n",
              "          quickchartButtonEl.style.display =\n",
              "            google.colab.kernel.accessAllowed ? 'block' : 'none';\n",
              "        })();\n",
              "      </script>\n",
              "    </div>\n",
              "\n",
              "    </div>\n",
              "  </div>\n"
            ],
            "application/vnd.google.colaboratory.intrinsic+json": {
              "type": "dataframe",
              "summary": "{\n  \"name\": \"df_documentos_bruto\",\n  \"rows\": 5,\n  \"fields\": [\n    {\n      \"column\": \"id\",\n      \"properties\": {\n        \"dtype\": \"number\",\n        \"std\": 4,\n        \"min\": 6,\n        \"max\": 15,\n        \"num_unique_values\": 5,\n        \"samples\": [\n          7,\n          13,\n          14\n        ],\n        \"semantic_type\": \"\",\n        \"description\": \"\"\n      }\n    },\n    {\n      \"column\": \"documento\",\n      \"properties\": {\n        \"dtype\": \"string\",\n        \"num_unique_values\": 5,\n        \"samples\": [\n          \"A avia\\u00e7\\u00e3o israelense atacou 150 alvos na madrugada de hoje no L\\u00edbano, enquanto soldados do Estado judeu mataram 10 milicianos do Hisbol\\u00e1 nas aldeias libanesas de Bint Djebeil e Kafr Hula, segundo informa\\u00e7\\u00f5es de fontes militares. Os combates se intensificaram hoje ap\\u00f3s a sangrenta batalha deste domingo, quando a guerrilha xiita do Hezbol\\u00e1 matou 15 pessoas e deixou mais de 200 feridas, entre militares e civis. O L\\u00edbano apresentou um pedido formal ao Conselho de Seguran\\u00e7a da Organiza\\u00e7\\u00e3o das Na\\u00e7\\u00f5es Unidas (ONU) de uma revis\\u00e3o da proposta de resolu\\u00e7\\u00e3o para o fim do conflito no Oriente M\\u00e9dio. A esse respeito, o Conselho de Seguran\\u00e7a da ONU debater\\u00e1 hoje ou amanh\\u00e3 uma proposta de resolu\\u00e7\\u00e3o apresentada pelos Estados Unidos e pela Fran\\u00e7a, que contempla um cessar-fogo e inclui tamb\\u00e9m o posicionamento de uma for\\u00e7a multinacional no L\\u00edbano.\",\n          \"O m\\u00e9dico pessoal do argentino Diego Maradona, Alfredo Cahe, revelou nesta segunda-feira que uma reca\\u00edda da hepatite aguda de que sofre foi o motivo da nova interna\\u00e7\\u00e3o do ex-craque.Maradona, 46, desenvolveu um hepatite t\\u00f3xica por excesso de consumo de \\u00e1lcool, o que j\\u00e1 o manteve internado durante 13 dias antes da primeira alta.\",\n          \"A pista principal do Aeroporto Internacional de S\\u00e3o Paulo (Cumbica), em Guarulhos, ser\\u00e1 totalmente reformada em mar\\u00e7o de 2008, segundo informa\\u00e7\\u00f5es do Minist\\u00e9rio da Defesa anunciadas nesta segunda-feira, 6. O ministro da Defesa, Nelson Jobim, anunciou a reforma que, segundo estudos da Empresa Brasileira de Infra-Estrutura Aeroportu\\u00e1ria (Infraero), a reforma poder\\u00e1 ser feita sem que a pista seja interditada. O fechamento da pista, que t\\u00eam 3,7 km de extens\\u00e3o, est\\u00e1 previsto para ocorrer na terceira e \\u00faltima etapa da reforma, que ter\\u00e1 tr\\u00eas fases. Na primeira etapa, ser\\u00e1 reformado um ter\\u00e7o da pista, em uma das cabeceiras, ficando o restante dispon\\u00edvel para pousos e decolagens. Na segunda etapa, a parte conclu\\u00edda ser\\u00e1 reaberta e a obra passar\\u00e1 a ser feita na outra cabeceira. A partir de mar\\u00e7o, ser\\u00e1 iniciada a fase final da obra, com a reforma do trecho central.\"\n        ],\n        \"semantic_type\": \"\",\n        \"description\": \"\"\n      }\n    }\n  ]\n}"
            }
          },
          "metadata": {},
          "execution_count": 27
        }
      ],
      "source": [
        "df_documentos_bruto.sample(5)"
      ]
    },
    {
      "cell_type": "markdown",
      "metadata": {
        "id": "EE2I1mbelJos"
      },
      "source": [
        "## 4.2 Segmentação e limpeza dos dados bruto"
      ]
    },
    {
      "cell_type": "markdown",
      "metadata": {
        "id": "wgCR8_NtuuPN"
      },
      "source": [
        "### 4.2.1 Limpeza do documento\n",
        "\n",
        "- Normalização de codificação e decodificação de html entities (ftfy);\n",
        "- Substitui \\n por espaço em branco;\n",
        "- Eliminar pontuações repetidas (\"???\",\"!!!\",\",,,\");\n",
        "- Eliminar de espaços em branco repetidos;\n",
        "- Eliminar tags;\n",
        "- **>>> Outras operações de limpeza podem ser adicionadas aqui.<<<**.\n",
        "\n",
        "\n",
        "Limpeza de tags html: https://pypi.org/project/beautifulsoup4/ ou\n",
        "https://medium.com/pyladiesbh/beautiful-soup-parseamento-de-html-337197a7d4b9\n"
      ]
    },
    {
      "cell_type": "code",
      "execution_count": 28,
      "metadata": {
        "colab": {
          "base_uri": "https://localhost:8080/",
          "height": 66,
          "referenced_widgets": [
            "f72d3162a0ca43a9a66cea129bc5dab0",
            "d2fe03858d4d4c9cb8b31ffe4d23f923",
            "b02ba033d923454aafd4828ebeb9a544",
            "c75691e684ec4dd992d4a72734abb6ad",
            "062329046bfb47b889ac710ce7ea4d62",
            "5bd85871e4184712b52731ec99f63b5c",
            "25bb668808b94118b35097a87b4478e4",
            "83722b0f5d904748ad07ea31e95e72b4",
            "a0d6e626d4f945d0855c7b11a7fe4ca4",
            "4fedf919b2964b4daa16b6124d610fbb",
            "2d6597607e5341cf862b30398745f19c"
          ]
        },
        "id": "HQ8gdjQ7uuPR",
        "outputId": "b9755792-e719-4f9d-e48d-4efe1818a419"
      },
      "outputs": [
        {
          "output_type": "stream",
          "name": "stderr",
          "text": [
            "INFO:root:Processando 20 documentos.\n"
          ]
        },
        {
          "output_type": "display_data",
          "data": {
            "text/plain": [
              "Dados:   0%|          | 0/20 [00:00<?, ?registro/s]"
            ],
            "application/vnd.jupyter.widget-view+json": {
              "version_major": 2,
              "version_minor": 0,
              "model_id": "f72d3162a0ca43a9a66cea129bc5dab0"
            }
          },
          "metadata": {}
        }
      ],
      "source": [
        "# Import das bibliotecas,\n",
        "import ftfy # Biblioteca para normalização do texto\n",
        "import re # Biblioteca para expressões regulares\n",
        "from tqdm.notebook import tqdm as tqdm_notebook # Biblioteca para barra de progresso\n",
        "\n",
        "# Lista para os documentos tratados\n",
        "documentos_tratados = []\n",
        "\n",
        "# Acumula o total de sentenças\n",
        "conta_barra_n = 0\n",
        "conta_virgulas = 0\n",
        "conta_interrogacoes = 0\n",
        "conta_exclamacoes = 0\n",
        "conta_tags = 0\n",
        "conta_espacos = 0\n",
        "\n",
        "logging.info(\"Processando {} documentos.\".format(len(df_documentos_bruto)))\n",
        "\n",
        "# Barra de progresso dos dados\n",
        "dados_bruto_bar = tqdm_notebook(df_documentos_bruto.iterrows(), desc=f\"Dados\", unit=f\"registro\", total=len(df_documentos_bruto))\n",
        "\n",
        "# Percorre os registros dos dados bruto\n",
        "for (i, linha) in dados_bruto_bar:\n",
        "\n",
        "  # Recupera o id documento\n",
        "  id_documento = linha.values[0]\n",
        "\n",
        "  # Recupera o documento\n",
        "  documento = str(linha.values[1])\n",
        "\n",
        "  # Transforma em string e remove os espaços do início e do fim\n",
        "  documento = str(documento).strip()\n",
        "\n",
        "  # Normalização com o ftfy, e conversão de html entities em caracteres acentuados\n",
        "  documento = ftfy.fix_text(documento, fix_entities=True)\n",
        "\n",
        "  # Conta se existe \\n no documento\n",
        "  conta_caracter_barra_n = documento.count(\"\\n\")\n",
        "  if conta_caracter_barra_n > 0:\n",
        "    # Transforma \\n em espaços em branco\n",
        "    documento = documento.replace(\"\\n\",\" \")\n",
        "    conta_barra_n = conta_barra_n + 1\n",
        "\n",
        "  # Conta se existe duas interrogações no documento\n",
        "  conta_caracter_interrogacoes = documento.count(\"??\")\n",
        "  if conta_caracter_interrogacoes > 1:\n",
        "    # Transforma 2 ou mais interrogações consecutivas em 1\n",
        "    documento = re.sub(\"\\?+\", \"?\", documento)\n",
        "    conta_interrogacoes = conta_interrogacoes + 1\n",
        "\n",
        "  # Conta se existe duas exclamações no documento\n",
        "  conta_caracter_exclamacoes = documento.count(\"!!\")\n",
        "  if conta_caracter_exclamacoes > 1:\n",
        "    # Transforma 2 ou mais exclamações consecutivas em 1\n",
        "    documento = re.sub(\"\\!+\", \"!\", documento)\n",
        "    conta_exclamacoes = conta_exclamacoes + 1\n",
        "\n",
        "  # Conta se existe duas vírgulas no documento\n",
        "  conta_caracter_virgulas = documento.count(\",,\")\n",
        "  if conta_caracter_virgulas > 1:\n",
        "    # Transforma 2 ou mais vírgulas consecutivas em 1\n",
        "    documento = re.sub(\"\\,+\", \",\", documento)\n",
        "    conta_virgulas = conta_virgulas + 1\n",
        "\n",
        "  # Conta se existe tag no documento\n",
        "  conta_tag = documento.count(\"<\")\n",
        "  if conta_tag > 0:\n",
        "    # Remove as tags do documento\n",
        "    documento = re.sub(\"<.*?>\", \"\", documento)\n",
        "    conta_tags = conta_tags + 1\n",
        "\n",
        "  # Conta se existe dois caracteres branco\n",
        "  conta_caracter_espacos = documento.count(\"  \")\n",
        "  if conta_caracter_espacos > 0:\n",
        "    # Transforma 2 ou mais espaços consecutivos em 1\n",
        "    documento = re.sub(\"\\ +\", \" \", documento)\n",
        "    conta_espacos = conta_espacos + 1\n",
        "\n",
        "  # >>> Outras operações de limpeza vão aqui! <<<\n",
        "\n",
        "  # Guarda o id e o texto do documento tratado\n",
        "  documentos_tratados.append([id_documento, documento])"
      ]
    },
    {
      "cell_type": "code",
      "execution_count": 29,
      "metadata": {
        "colab": {
          "base_uri": "https://localhost:8080/"
        },
        "id": "BhAQZitOvdph",
        "outputId": "fcf63b07-6cf5-4369-d755-eed1860f410b"
      },
      "outputs": [
        {
          "output_type": "stream",
          "name": "stdout",
          "text": [
            "Total de documentos com \\n                        : 0\n",
            "Total de documentos com 2 ou mais interrogações   : 0\n",
            "Total de documentos com 2 ou mais exclamações     : 0\n",
            "Total de documentos com 2 ou mais vírgulas        : 2\n",
            "Total de documentos com tags                      : 1\n",
            "Total de documentos com 2 ou mais espaços         : 4\n",
            "Total de documentos tratadas                      : 20\n"
          ]
        }
      ],
      "source": [
        "print(\"Total de documentos com \\\\n                        :\", conta_barra_n)\n",
        "print(\"Total de documentos com 2 ou mais interrogações   :\", conta_interrogacoes)\n",
        "print(\"Total de documentos com 2 ou mais exclamações     :\", conta_exclamacoes)\n",
        "print(\"Total de documentos com 2 ou mais vírgulas        :\", conta_virgulas)\n",
        "print(\"Total de documentos com tags                      :\", conta_tags)\n",
        "print(\"Total de documentos com 2 ou mais espaços         :\", conta_espacos)\n",
        "print(\"Total de documentos tratadas                      :\", len(documentos_tratados))"
      ]
    },
    {
      "cell_type": "markdown",
      "metadata": {
        "id": "EyduRNgHVn2O"
      },
      "source": [
        "Converte a lista em um pandas dataframe."
      ]
    },
    {
      "cell_type": "code",
      "execution_count": 30,
      "metadata": {
        "colab": {
          "base_uri": "https://localhost:8080/",
          "height": 380
        },
        "id": "cH2fk0oGhi_S",
        "outputId": "237ab3e8-3263-421d-af36-c6eaf8044eb8"
      },
      "outputs": [
        {
          "output_type": "stream",
          "name": "stdout",
          "text": [
            "20 linhas carregadas do arquivo\n"
          ]
        },
        {
          "output_type": "execute_result",
          "data": {
            "text/plain": [
              "    id                                          documento\n",
              "3    4  Usando telescópios do Observatório Europeu Sul...\n",
              "8    9  Um total de 549 pessoas morreram, 3.043 ficara...\n",
              "4    5  A seleção brasileira masculina de vôlei, que é...\n",
              "6    7  A aviação israelense atacou 150 alvos na madru...\n",
              "11  12  Um atirador matou ao menos 30 pessoas em dois ...\n",
              "12  13  O médico pessoal do argentino Diego Maradona, ...\n",
              "15  16  O Brasil lavou a alma após o decepcionante emp...\n",
              "2    3  O ministro da Defesa, Nelson Jobim, informou n...\n",
              "5    6  O superintendente regional da Polícia Federal ...\n",
              "7    8  A cidade de São Paulo e alguns municípios do i..."
            ],
            "text/html": [
              "\n",
              "  <div id=\"df-ee27fe44-224f-48a3-8174-5a8d5b6d893c\" class=\"colab-df-container\">\n",
              "    <div>\n",
              "<style scoped>\n",
              "    .dataframe tbody tr th:only-of-type {\n",
              "        vertical-align: middle;\n",
              "    }\n",
              "\n",
              "    .dataframe tbody tr th {\n",
              "        vertical-align: top;\n",
              "    }\n",
              "\n",
              "    .dataframe thead th {\n",
              "        text-align: right;\n",
              "    }\n",
              "</style>\n",
              "<table border=\"1\" class=\"dataframe\">\n",
              "  <thead>\n",
              "    <tr style=\"text-align: right;\">\n",
              "      <th></th>\n",
              "      <th>id</th>\n",
              "      <th>documento</th>\n",
              "    </tr>\n",
              "  </thead>\n",
              "  <tbody>\n",
              "    <tr>\n",
              "      <th>3</th>\n",
              "      <td>4</td>\n",
              "      <td>Usando telescópios do Observatório Europeu Sul...</td>\n",
              "    </tr>\n",
              "    <tr>\n",
              "      <th>8</th>\n",
              "      <td>9</td>\n",
              "      <td>Um total de 549 pessoas morreram, 3.043 ficara...</td>\n",
              "    </tr>\n",
              "    <tr>\n",
              "      <th>4</th>\n",
              "      <td>5</td>\n",
              "      <td>A seleção brasileira masculina de vôlei, que é...</td>\n",
              "    </tr>\n",
              "    <tr>\n",
              "      <th>6</th>\n",
              "      <td>7</td>\n",
              "      <td>A aviação israelense atacou 150 alvos na madru...</td>\n",
              "    </tr>\n",
              "    <tr>\n",
              "      <th>11</th>\n",
              "      <td>12</td>\n",
              "      <td>Um atirador matou ao menos 30 pessoas em dois ...</td>\n",
              "    </tr>\n",
              "    <tr>\n",
              "      <th>12</th>\n",
              "      <td>13</td>\n",
              "      <td>O médico pessoal do argentino Diego Maradona, ...</td>\n",
              "    </tr>\n",
              "    <tr>\n",
              "      <th>15</th>\n",
              "      <td>16</td>\n",
              "      <td>O Brasil lavou a alma após o decepcionante emp...</td>\n",
              "    </tr>\n",
              "    <tr>\n",
              "      <th>2</th>\n",
              "      <td>3</td>\n",
              "      <td>O ministro da Defesa, Nelson Jobim, informou n...</td>\n",
              "    </tr>\n",
              "    <tr>\n",
              "      <th>5</th>\n",
              "      <td>6</td>\n",
              "      <td>O superintendente regional da Polícia Federal ...</td>\n",
              "    </tr>\n",
              "    <tr>\n",
              "      <th>7</th>\n",
              "      <td>8</td>\n",
              "      <td>A cidade de São Paulo e alguns municípios do i...</td>\n",
              "    </tr>\n",
              "  </tbody>\n",
              "</table>\n",
              "</div>\n",
              "    <div class=\"colab-df-buttons\">\n",
              "\n",
              "  <div class=\"colab-df-container\">\n",
              "    <button class=\"colab-df-convert\" onclick=\"convertToInteractive('df-ee27fe44-224f-48a3-8174-5a8d5b6d893c')\"\n",
              "            title=\"Convert this dataframe to an interactive table.\"\n",
              "            style=\"display:none;\">\n",
              "\n",
              "  <svg xmlns=\"http://www.w3.org/2000/svg\" height=\"24px\" viewBox=\"0 -960 960 960\">\n",
              "    <path d=\"M120-120v-720h720v720H120Zm60-500h600v-160H180v160Zm220 220h160v-160H400v160Zm0 220h160v-160H400v160ZM180-400h160v-160H180v160Zm440 0h160v-160H620v160ZM180-180h160v-160H180v160Zm440 0h160v-160H620v160Z\"/>\n",
              "  </svg>\n",
              "    </button>\n",
              "\n",
              "  <style>\n",
              "    .colab-df-container {\n",
              "      display:flex;\n",
              "      gap: 12px;\n",
              "    }\n",
              "\n",
              "    .colab-df-convert {\n",
              "      background-color: #E8F0FE;\n",
              "      border: none;\n",
              "      border-radius: 50%;\n",
              "      cursor: pointer;\n",
              "      display: none;\n",
              "      fill: #1967D2;\n",
              "      height: 32px;\n",
              "      padding: 0 0 0 0;\n",
              "      width: 32px;\n",
              "    }\n",
              "\n",
              "    .colab-df-convert:hover {\n",
              "      background-color: #E2EBFA;\n",
              "      box-shadow: 0px 1px 2px rgba(60, 64, 67, 0.3), 0px 1px 3px 1px rgba(60, 64, 67, 0.15);\n",
              "      fill: #174EA6;\n",
              "    }\n",
              "\n",
              "    .colab-df-buttons div {\n",
              "      margin-bottom: 4px;\n",
              "    }\n",
              "\n",
              "    [theme=dark] .colab-df-convert {\n",
              "      background-color: #3B4455;\n",
              "      fill: #D2E3FC;\n",
              "    }\n",
              "\n",
              "    [theme=dark] .colab-df-convert:hover {\n",
              "      background-color: #434B5C;\n",
              "      box-shadow: 0px 1px 3px 1px rgba(0, 0, 0, 0.15);\n",
              "      filter: drop-shadow(0px 1px 2px rgba(0, 0, 0, 0.3));\n",
              "      fill: #FFFFFF;\n",
              "    }\n",
              "  </style>\n",
              "\n",
              "    <script>\n",
              "      const buttonEl =\n",
              "        document.querySelector('#df-ee27fe44-224f-48a3-8174-5a8d5b6d893c button.colab-df-convert');\n",
              "      buttonEl.style.display =\n",
              "        google.colab.kernel.accessAllowed ? 'block' : 'none';\n",
              "\n",
              "      async function convertToInteractive(key) {\n",
              "        const element = document.querySelector('#df-ee27fe44-224f-48a3-8174-5a8d5b6d893c');\n",
              "        const dataTable =\n",
              "          await google.colab.kernel.invokeFunction('convertToInteractive',\n",
              "                                                    [key], {});\n",
              "        if (!dataTable) return;\n",
              "\n",
              "        const docLinkHtml = 'Like what you see? Visit the ' +\n",
              "          '<a target=\"_blank\" href=https://colab.research.google.com/notebooks/data_table.ipynb>data table notebook</a>'\n",
              "          + ' to learn more about interactive tables.';\n",
              "        element.innerHTML = '';\n",
              "        dataTable['output_type'] = 'display_data';\n",
              "        await google.colab.output.renderOutput(dataTable, element);\n",
              "        const docLink = document.createElement('div');\n",
              "        docLink.innerHTML = docLinkHtml;\n",
              "        element.appendChild(docLink);\n",
              "      }\n",
              "    </script>\n",
              "  </div>\n",
              "\n",
              "\n",
              "    <div id=\"df-8b4e68e2-d955-497a-b63e-02a39cef757c\">\n",
              "      <button class=\"colab-df-quickchart\" onclick=\"quickchart('df-8b4e68e2-d955-497a-b63e-02a39cef757c')\"\n",
              "                title=\"Suggest charts\"\n",
              "                style=\"display:none;\">\n",
              "\n",
              "<svg xmlns=\"http://www.w3.org/2000/svg\" height=\"24px\"viewBox=\"0 0 24 24\"\n",
              "     width=\"24px\">\n",
              "    <g>\n",
              "        <path d=\"M19 3H5c-1.1 0-2 .9-2 2v14c0 1.1.9 2 2 2h14c1.1 0 2-.9 2-2V5c0-1.1-.9-2-2-2zM9 17H7v-7h2v7zm4 0h-2V7h2v10zm4 0h-2v-4h2v4z\"/>\n",
              "    </g>\n",
              "</svg>\n",
              "      </button>\n",
              "\n",
              "<style>\n",
              "  .colab-df-quickchart {\n",
              "      --bg-color: #E8F0FE;\n",
              "      --fill-color: #1967D2;\n",
              "      --hover-bg-color: #E2EBFA;\n",
              "      --hover-fill-color: #174EA6;\n",
              "      --disabled-fill-color: #AAA;\n",
              "      --disabled-bg-color: #DDD;\n",
              "  }\n",
              "\n",
              "  [theme=dark] .colab-df-quickchart {\n",
              "      --bg-color: #3B4455;\n",
              "      --fill-color: #D2E3FC;\n",
              "      --hover-bg-color: #434B5C;\n",
              "      --hover-fill-color: #FFFFFF;\n",
              "      --disabled-bg-color: #3B4455;\n",
              "      --disabled-fill-color: #666;\n",
              "  }\n",
              "\n",
              "  .colab-df-quickchart {\n",
              "    background-color: var(--bg-color);\n",
              "    border: none;\n",
              "    border-radius: 50%;\n",
              "    cursor: pointer;\n",
              "    display: none;\n",
              "    fill: var(--fill-color);\n",
              "    height: 32px;\n",
              "    padding: 0;\n",
              "    width: 32px;\n",
              "  }\n",
              "\n",
              "  .colab-df-quickchart:hover {\n",
              "    background-color: var(--hover-bg-color);\n",
              "    box-shadow: 0 1px 2px rgba(60, 64, 67, 0.3), 0 1px 3px 1px rgba(60, 64, 67, 0.15);\n",
              "    fill: var(--button-hover-fill-color);\n",
              "  }\n",
              "\n",
              "  .colab-df-quickchart-complete:disabled,\n",
              "  .colab-df-quickchart-complete:disabled:hover {\n",
              "    background-color: var(--disabled-bg-color);\n",
              "    fill: var(--disabled-fill-color);\n",
              "    box-shadow: none;\n",
              "  }\n",
              "\n",
              "  .colab-df-spinner {\n",
              "    border: 2px solid var(--fill-color);\n",
              "    border-color: transparent;\n",
              "    border-bottom-color: var(--fill-color);\n",
              "    animation:\n",
              "      spin 1s steps(1) infinite;\n",
              "  }\n",
              "\n",
              "  @keyframes spin {\n",
              "    0% {\n",
              "      border-color: transparent;\n",
              "      border-bottom-color: var(--fill-color);\n",
              "      border-left-color: var(--fill-color);\n",
              "    }\n",
              "    20% {\n",
              "      border-color: transparent;\n",
              "      border-left-color: var(--fill-color);\n",
              "      border-top-color: var(--fill-color);\n",
              "    }\n",
              "    30% {\n",
              "      border-color: transparent;\n",
              "      border-left-color: var(--fill-color);\n",
              "      border-top-color: var(--fill-color);\n",
              "      border-right-color: var(--fill-color);\n",
              "    }\n",
              "    40% {\n",
              "      border-color: transparent;\n",
              "      border-right-color: var(--fill-color);\n",
              "      border-top-color: var(--fill-color);\n",
              "    }\n",
              "    60% {\n",
              "      border-color: transparent;\n",
              "      border-right-color: var(--fill-color);\n",
              "    }\n",
              "    80% {\n",
              "      border-color: transparent;\n",
              "      border-right-color: var(--fill-color);\n",
              "      border-bottom-color: var(--fill-color);\n",
              "    }\n",
              "    90% {\n",
              "      border-color: transparent;\n",
              "      border-bottom-color: var(--fill-color);\n",
              "    }\n",
              "  }\n",
              "</style>\n",
              "\n",
              "      <script>\n",
              "        async function quickchart(key) {\n",
              "          const quickchartButtonEl =\n",
              "            document.querySelector('#' + key + ' button');\n",
              "          quickchartButtonEl.disabled = true;  // To prevent multiple clicks.\n",
              "          quickchartButtonEl.classList.add('colab-df-spinner');\n",
              "          try {\n",
              "            const charts = await google.colab.kernel.invokeFunction(\n",
              "                'suggestCharts', [key], {});\n",
              "          } catch (error) {\n",
              "            console.error('Error during call to suggestCharts:', error);\n",
              "          }\n",
              "          quickchartButtonEl.classList.remove('colab-df-spinner');\n",
              "          quickchartButtonEl.classList.add('colab-df-quickchart-complete');\n",
              "        }\n",
              "        (() => {\n",
              "          let quickchartButtonEl =\n",
              "            document.querySelector('#df-8b4e68e2-d955-497a-b63e-02a39cef757c button');\n",
              "          quickchartButtonEl.style.display =\n",
              "            google.colab.kernel.accessAllowed ? 'block' : 'none';\n",
              "        })();\n",
              "      </script>\n",
              "    </div>\n",
              "\n",
              "    </div>\n",
              "  </div>\n"
            ],
            "application/vnd.google.colaboratory.intrinsic+json": {
              "type": "dataframe",
              "summary": "{\n  \"name\": \"df_documentos_tratados\",\n  \"rows\": 10,\n  \"fields\": [\n    {\n      \"column\": \"id\",\n      \"properties\": {\n        \"dtype\": \"number\",\n        \"std\": 4,\n        \"min\": 3,\n        \"max\": 16,\n        \"num_unique_values\": 10,\n        \"samples\": [\n          6,\n          9,\n          13\n        ],\n        \"semantic_type\": \"\",\n        \"description\": \"\"\n      }\n    },\n    {\n      \"column\": \"documento\",\n      \"properties\": {\n        \"dtype\": \"string\",\n        \"num_unique_values\": 10,\n        \"samples\": [\n          \"O superintendente regional da Pol\\u00edcia Federal de Rond\\u00f4nia, delegado Joaquim Mesquita, informou nesta sexta-feira, dia 04, que 23 pessoas foram presas, at\\u00e9 o momento, pela Opera\\u00e7\\u00e3o Domin\\u00f3, em Rond\\u00f4nia. A quadrilha \\u00e9 acusada de praticar diversos crimes administrativos, como desvio de recursos p\\u00fablicos, corrup\\u00e7\\u00e3o, prevarica\\u00e7\\u00e3o, concuss\\u00e3o, peculato, extors\\u00e3o, lavagem de dinheiro e venda de senten\\u00e7as judiciais. Segundo divulgada pela PF, o grupo criminoso desviou desde 2004 cerca de R$ 70 milh\\u00f5es dos cofres p\\u00fablicos, por meio do pagamento de servi\\u00e7os, compras e obras superfaturadas. A pol\\u00edcia tamb\\u00e9m vai abrir nova investiga\\u00e7\\u00e3o sobre a participa\\u00e7\\u00e3o de desembargadores e conselheiros do Tribunal de Contas no suposto esquema. A PF divulgou que cerca de 300 policiais federais do Amazonas, Distrito Federal, Mato Grosso, Acre e de Rond\\u00f4nia fazem parte das investiga\\u00e7\\u00f5es da 'Opera\\u00e7\\u00e3o Domin\\u00f3'.\",\n          \"Um total de 549 pessoas morreram, 3.043 ficaram feridas e 295 est\\u00e3o desaparecidas em raz\\u00e3o das enchentes que recentemente afetaram a Cor\\u00e9ia do Norte, informou hoje um jornal pr\\u00f3 norte-coreano publicado no Jap\\u00e3o, que citou fontes oficiais de Pyongyang. Segundo o jornal 'Choson Sinbo', publicado pela Associa\\u00e7\\u00e3o de Residentes Coreanos no Jap\\u00e3o, que \\u00e9 pr\\u00f3xima ao regime comunista da Cor\\u00e9ia do Norte, as fortes chuvas que alagaram grande parte desse pa\\u00eds na segunda metade de julho provocaram 'muitos danos'. A ag\\u00eancia sul-coreana Yonhap disse na sexta-feira que um alto funcion\\u00e1rio de Pyongyang pediu o envio urgente de alimentos para seu pa\\u00eds.\",\n          \"O m\\u00e9dico pessoal do argentino Diego Maradona, Alfredo Cahe, revelou nesta segunda-feira que uma reca\\u00edda da hepatite aguda de que sofre foi o motivo da nova interna\\u00e7\\u00e3o do ex-craque.Maradona, 46, desenvolveu um hepatite t\\u00f3xica por excesso de consumo de \\u00e1lcool, o que j\\u00e1 o manteve internado durante 13 dias antes da primeira alta.\"\n        ],\n        \"semantic_type\": \"\",\n        \"description\": \"\"\n      }\n    }\n  ]\n}"
            }
          },
          "metadata": {},
          "execution_count": 30
        }
      ],
      "source": [
        "# Import das bibliotecas.\n",
        "import pandas as pd\n",
        "\n",
        "# Cria o dataframe da lista\n",
        "df_documentos_tratados = pd.DataFrame(documentos_tratados, columns = [\"id\", \"documento\"])\n",
        "\n",
        "#Mostra o número de documentos carregados\n",
        "print(\"%d linhas carregadas do arquivo\" % (len(df_documentos_tratados)))\n",
        "\n",
        "# Mostra 10 linhas aleatórias dos dados\n",
        "df_documentos_tratados.sample(10)"
      ]
    },
    {
      "cell_type": "markdown",
      "metadata": {
        "id": "_U5iUcW7TXqS"
      },
      "source": [
        "### 4.2.2 Segmentação do documento\n",
        "\n",
        "Utiliza o spaCy para realizar a segmentação em sentenças do documento texto."
      ]
    },
    {
      "cell_type": "code",
      "execution_count": 31,
      "metadata": {
        "colab": {
          "base_uri": "https://localhost:8080/",
          "height": 138,
          "referenced_widgets": [
            "e7a423ea0819443ba0e6701047d5845d",
            "b966c9e33d0b477d954db5fe30a88f86",
            "0b240373e6bd4af0be3dd72a571052e4",
            "59614beba7d6435fa64384167f8beb1b",
            "d1121887e3a44abe87be44f945ec934c",
            "ca9a8790dbd245c8b6a47c949191fbe8",
            "c857b7f903864619b669869f503aee3b",
            "8bae96e5ab4b42bfa814cf083c69c5f3",
            "02ea766130e7495f83b3310bdab0d3b6",
            "8b3c515e5c14461391b3448a80e64117",
            "5f60c39054a14708b9e345720d890267"
          ]
        },
        "id": "wehxm__rTXyh",
        "outputId": "87ece068-a9f0-4125-b509-3133c27c1eec"
      },
      "outputs": [
        {
          "output_type": "stream",
          "name": "stderr",
          "text": [
            "INFO:root:Processando 20 documentos.\n"
          ]
        },
        {
          "output_type": "stream",
          "name": "stdout",
          "text": [
            "Processando 20 documentos tratados\n"
          ]
        },
        {
          "output_type": "display_data",
          "data": {
            "text/plain": [
              "Dados:   0%|          | 0/20 [00:00<?, ?registro/s]"
            ],
            "application/vnd.jupyter.widget-view+json": {
              "version_major": 2,
              "version_minor": 0,
              "model_id": "e7a423ea0819443ba0e6701047d5845d"
            }
          },
          "metadata": {}
        },
        {
          "output_type": "stream",
          "name": "stderr",
          "text": [
            "/tmp/ipython-input-31-1276116678.py:46: FutureWarning: Series.__getitem__ treating keys as positions is deprecated. In a future version, integer keys will always be treated as labels (consistent with DataFrame behavior). To access a value by position, use `ser.iloc[pos]`\n",
            "  lista_documentos_sentenciados.append([linha_documento[0], sentencas, str(linha_documento[1])])\n"
          ]
        }
      ],
      "source": [
        "# Import das bibliotecas.\n",
        "import os # Biblioteca para acessar o sistema de arquivos\n",
        "from tqdm.notebook import tqdm as tqdm_notebook # Biblioteca para barra de progresso\n",
        "\n",
        "print(\"Processando\",len(df_documentos_tratados),\"documentos tratados\")\n",
        "\n",
        "# Sentenças por documento\n",
        "lista_documentos_sentenciados = []\n",
        "total_sentencas_documento = 0\n",
        "\n",
        "logging.info(\"Processando {} documentos.\".format(len(df_documentos_tratados)))\n",
        "\n",
        "# Barra de progresso dos dados\n",
        "dados_bar = tqdm_notebook(df_documentos_tratados.iterrows(), desc=f\"Dados\", unit=f\"registro\", total=len(df_documentos_tratados))\n",
        "\n",
        "# Percorre os registros dos documento\n",
        "for i, linha_documento in dados_bar:\n",
        "\n",
        "  # Recupera o documento\n",
        "  documento = str(linha_documento.values[1])\n",
        "\n",
        "  # Aplica sentenciação do spacy no documento\n",
        "  doc = nlp(documento)\n",
        "\n",
        "  # Sequência das sentenças no documento\n",
        "  sequencia = 1\n",
        "  sentencas = []\n",
        "\n",
        "  # Percorre as sentenças do documento\n",
        "  for sentenca in doc.sents:\n",
        "\n",
        "      # Conta as sentenças do documento\n",
        "      total_sentencas_documento = total_sentencas_documento + 1\n",
        "\n",
        "      # Transforma em string e remove os espaços do início e do fim\n",
        "      sentenca1 = str(sentenca).strip()\n",
        "\n",
        "      # Adiciona a sentença tratada na lista\n",
        "      sentencas.append(str(sentenca1))\n",
        "\n",
        "      # Incrementa a sequência da sentença no documento\n",
        "      sequencia = sequencia + 1\n",
        "\n",
        "  if model_args.sentenciar_documento == True:\n",
        "    # Adiciona o documento na lista com a sentenciação\n",
        "    lista_documentos_sentenciados.append([linha_documento[0], sentencas, str(linha_documento[1])])\n",
        "  else:\n",
        "    # Adiciona o documento na lista sem a sentenciação\n",
        "    # A lista de sentenças é formado por um único texto, o próprio documento.\n",
        "    lista_documentos_sentenciados.append([linha_documento[0], [str(linha_documento[1])], str(linha_documento[1])])\n"
      ]
    },
    {
      "cell_type": "code",
      "execution_count": 32,
      "metadata": {
        "colab": {
          "base_uri": "https://localhost:8080/"
        },
        "id": "tWXgiU9nW82Z",
        "outputId": "fd410839-a29b-4b95-faf0-e1187dc6131f"
      },
      "outputs": [
        {
          "output_type": "stream",
          "name": "stdout",
          "text": [
            "Total de documentos processados                                                : 20\n",
            "Total sentenças nos documentos usando spaCy                                    : 100\n"
          ]
        }
      ],
      "source": [
        "print(\"Total de documentos processados                                                :\", len(lista_documentos_sentenciados))\n",
        "print(\"Total sentenças nos documentos usando spaCy                                    :\", total_sentencas_documento)"
      ]
    },
    {
      "cell_type": "markdown",
      "metadata": {
        "id": "qdZKVW2FdKYu"
      },
      "source": [
        "## 4.3 Salva os dados processados\n",
        "\n",
        "Gera o arquivo com os dados segmentados e limpos e depois compacta o arquivo para enviar para o Google Drive."
      ]
    },
    {
      "cell_type": "markdown",
      "metadata": {
        "id": "_wTNIiyE1mIl"
      },
      "source": [
        "### 4.3.1 Especifica os nomes dos arquivos do dataset\n",
        "\n"
      ]
    },
    {
      "cell_type": "code",
      "execution_count": 33,
      "metadata": {
        "id": "bNgwJRC2uGJb"
      },
      "outputs": [],
      "source": [
        "# Nome do arquivo\n",
        "NOME_ARQUIVO_DATASET = \"dataset.csv\"\n",
        "NOME_ARQUIVO_DATASET_COMPACTADO = \"dataset.zip\""
      ]
    },
    {
      "cell_type": "markdown",
      "metadata": {
        "id": "QtEZ6WGQncTj"
      },
      "source": [
        "### 4.3.2 Cria o arquivo do dataset"
      ]
    },
    {
      "cell_type": "code",
      "execution_count": 34,
      "metadata": {
        "id": "a9RmJUlp17VO"
      },
      "outputs": [],
      "source": [
        "# Import das bibliotecas.\n",
        "import pandas as pd\n",
        "\n",
        "# Cria o dataframe da lista\n",
        "df_lista_documentos_sentenciados = pd.DataFrame(lista_documentos_sentenciados, columns = [\"id\",\"sentencas\",\"documento\"])\n",
        "\n",
        "df_lista_documentos_sentenciados.to_csv(DIRETORIO_LOCAL + NOME_ARQUIVO_DATASET, sep=\";\", index=False)"
      ]
    },
    {
      "cell_type": "code",
      "execution_count": 35,
      "metadata": {
        "colab": {
          "base_uri": "https://localhost:8080/"
        },
        "id": "VJwgPw9ad-mN",
        "outputId": "791f476b-6021-47ee-8579-5cc852ca6673"
      },
      "outputs": [
        {
          "output_type": "stream",
          "name": "stdout",
          "text": [
            "20\n"
          ]
        }
      ],
      "source": [
        "print(len(df_lista_documentos_sentenciados))"
      ]
    },
    {
      "cell_type": "code",
      "execution_count": 36,
      "metadata": {
        "colab": {
          "base_uri": "https://localhost:8080/",
          "height": 206
        },
        "id": "NWXOQ2CM6aJV",
        "outputId": "0e9a7fbc-584f-43d5-a96c-5b3bd7c36180"
      },
      "outputs": [
        {
          "output_type": "execute_result",
          "data": {
            "text/plain": [
              "    id                                          sentencas  \\\n",
              "9   10  [Quinze voluntários da ONG francesa 'Ação Cont...   \n",
              "7    8  [A cidade de São Paulo e alguns municípios do ...   \n",
              "13  14  [A pista principal do Aeroporto Internacional ...   \n",
              "15  16  [O Brasil lavou a alma após o decepcionante em...   \n",
              "12  13  [O médico pessoal do argentino Diego Maradona,...   \n",
              "\n",
              "                                            documento  \n",
              "9   Quinze voluntários da ONG francesa 'Ação Contr...  \n",
              "7   A cidade de São Paulo e alguns municípios do i...  \n",
              "13  A pista principal do Aeroporto Internacional d...  \n",
              "15  O Brasil lavou a alma após o decepcionante emp...  \n",
              "12  O médico pessoal do argentino Diego Maradona, ...  "
            ],
            "text/html": [
              "\n",
              "  <div id=\"df-39e73fa3-b2a7-4c92-a40f-a2e17fd0a899\" class=\"colab-df-container\">\n",
              "    <div>\n",
              "<style scoped>\n",
              "    .dataframe tbody tr th:only-of-type {\n",
              "        vertical-align: middle;\n",
              "    }\n",
              "\n",
              "    .dataframe tbody tr th {\n",
              "        vertical-align: top;\n",
              "    }\n",
              "\n",
              "    .dataframe thead th {\n",
              "        text-align: right;\n",
              "    }\n",
              "</style>\n",
              "<table border=\"1\" class=\"dataframe\">\n",
              "  <thead>\n",
              "    <tr style=\"text-align: right;\">\n",
              "      <th></th>\n",
              "      <th>id</th>\n",
              "      <th>sentencas</th>\n",
              "      <th>documento</th>\n",
              "    </tr>\n",
              "  </thead>\n",
              "  <tbody>\n",
              "    <tr>\n",
              "      <th>9</th>\n",
              "      <td>10</td>\n",
              "      <td>[Quinze voluntários da ONG francesa 'Ação Cont...</td>\n",
              "      <td>Quinze voluntários da ONG francesa 'Ação Contr...</td>\n",
              "    </tr>\n",
              "    <tr>\n",
              "      <th>7</th>\n",
              "      <td>8</td>\n",
              "      <td>[A cidade de São Paulo e alguns municípios do ...</td>\n",
              "      <td>A cidade de São Paulo e alguns municípios do i...</td>\n",
              "    </tr>\n",
              "    <tr>\n",
              "      <th>13</th>\n",
              "      <td>14</td>\n",
              "      <td>[A pista principal do Aeroporto Internacional ...</td>\n",
              "      <td>A pista principal do Aeroporto Internacional d...</td>\n",
              "    </tr>\n",
              "    <tr>\n",
              "      <th>15</th>\n",
              "      <td>16</td>\n",
              "      <td>[O Brasil lavou a alma após o decepcionante em...</td>\n",
              "      <td>O Brasil lavou a alma após o decepcionante emp...</td>\n",
              "    </tr>\n",
              "    <tr>\n",
              "      <th>12</th>\n",
              "      <td>13</td>\n",
              "      <td>[O médico pessoal do argentino Diego Maradona,...</td>\n",
              "      <td>O médico pessoal do argentino Diego Maradona, ...</td>\n",
              "    </tr>\n",
              "  </tbody>\n",
              "</table>\n",
              "</div>\n",
              "    <div class=\"colab-df-buttons\">\n",
              "\n",
              "  <div class=\"colab-df-container\">\n",
              "    <button class=\"colab-df-convert\" onclick=\"convertToInteractive('df-39e73fa3-b2a7-4c92-a40f-a2e17fd0a899')\"\n",
              "            title=\"Convert this dataframe to an interactive table.\"\n",
              "            style=\"display:none;\">\n",
              "\n",
              "  <svg xmlns=\"http://www.w3.org/2000/svg\" height=\"24px\" viewBox=\"0 -960 960 960\">\n",
              "    <path d=\"M120-120v-720h720v720H120Zm60-500h600v-160H180v160Zm220 220h160v-160H400v160Zm0 220h160v-160H400v160ZM180-400h160v-160H180v160Zm440 0h160v-160H620v160ZM180-180h160v-160H180v160Zm440 0h160v-160H620v160Z\"/>\n",
              "  </svg>\n",
              "    </button>\n",
              "\n",
              "  <style>\n",
              "    .colab-df-container {\n",
              "      display:flex;\n",
              "      gap: 12px;\n",
              "    }\n",
              "\n",
              "    .colab-df-convert {\n",
              "      background-color: #E8F0FE;\n",
              "      border: none;\n",
              "      border-radius: 50%;\n",
              "      cursor: pointer;\n",
              "      display: none;\n",
              "      fill: #1967D2;\n",
              "      height: 32px;\n",
              "      padding: 0 0 0 0;\n",
              "      width: 32px;\n",
              "    }\n",
              "\n",
              "    .colab-df-convert:hover {\n",
              "      background-color: #E2EBFA;\n",
              "      box-shadow: 0px 1px 2px rgba(60, 64, 67, 0.3), 0px 1px 3px 1px rgba(60, 64, 67, 0.15);\n",
              "      fill: #174EA6;\n",
              "    }\n",
              "\n",
              "    .colab-df-buttons div {\n",
              "      margin-bottom: 4px;\n",
              "    }\n",
              "\n",
              "    [theme=dark] .colab-df-convert {\n",
              "      background-color: #3B4455;\n",
              "      fill: #D2E3FC;\n",
              "    }\n",
              "\n",
              "    [theme=dark] .colab-df-convert:hover {\n",
              "      background-color: #434B5C;\n",
              "      box-shadow: 0px 1px 3px 1px rgba(0, 0, 0, 0.15);\n",
              "      filter: drop-shadow(0px 1px 2px rgba(0, 0, 0, 0.3));\n",
              "      fill: #FFFFFF;\n",
              "    }\n",
              "  </style>\n",
              "\n",
              "    <script>\n",
              "      const buttonEl =\n",
              "        document.querySelector('#df-39e73fa3-b2a7-4c92-a40f-a2e17fd0a899 button.colab-df-convert');\n",
              "      buttonEl.style.display =\n",
              "        google.colab.kernel.accessAllowed ? 'block' : 'none';\n",
              "\n",
              "      async function convertToInteractive(key) {\n",
              "        const element = document.querySelector('#df-39e73fa3-b2a7-4c92-a40f-a2e17fd0a899');\n",
              "        const dataTable =\n",
              "          await google.colab.kernel.invokeFunction('convertToInteractive',\n",
              "                                                    [key], {});\n",
              "        if (!dataTable) return;\n",
              "\n",
              "        const docLinkHtml = 'Like what you see? Visit the ' +\n",
              "          '<a target=\"_blank\" href=https://colab.research.google.com/notebooks/data_table.ipynb>data table notebook</a>'\n",
              "          + ' to learn more about interactive tables.';\n",
              "        element.innerHTML = '';\n",
              "        dataTable['output_type'] = 'display_data';\n",
              "        await google.colab.output.renderOutput(dataTable, element);\n",
              "        const docLink = document.createElement('div');\n",
              "        docLink.innerHTML = docLinkHtml;\n",
              "        element.appendChild(docLink);\n",
              "      }\n",
              "    </script>\n",
              "  </div>\n",
              "\n",
              "\n",
              "    <div id=\"df-e4f2b780-46bc-4c20-80e5-408a908de17c\">\n",
              "      <button class=\"colab-df-quickchart\" onclick=\"quickchart('df-e4f2b780-46bc-4c20-80e5-408a908de17c')\"\n",
              "                title=\"Suggest charts\"\n",
              "                style=\"display:none;\">\n",
              "\n",
              "<svg xmlns=\"http://www.w3.org/2000/svg\" height=\"24px\"viewBox=\"0 0 24 24\"\n",
              "     width=\"24px\">\n",
              "    <g>\n",
              "        <path d=\"M19 3H5c-1.1 0-2 .9-2 2v14c0 1.1.9 2 2 2h14c1.1 0 2-.9 2-2V5c0-1.1-.9-2-2-2zM9 17H7v-7h2v7zm4 0h-2V7h2v10zm4 0h-2v-4h2v4z\"/>\n",
              "    </g>\n",
              "</svg>\n",
              "      </button>\n",
              "\n",
              "<style>\n",
              "  .colab-df-quickchart {\n",
              "      --bg-color: #E8F0FE;\n",
              "      --fill-color: #1967D2;\n",
              "      --hover-bg-color: #E2EBFA;\n",
              "      --hover-fill-color: #174EA6;\n",
              "      --disabled-fill-color: #AAA;\n",
              "      --disabled-bg-color: #DDD;\n",
              "  }\n",
              "\n",
              "  [theme=dark] .colab-df-quickchart {\n",
              "      --bg-color: #3B4455;\n",
              "      --fill-color: #D2E3FC;\n",
              "      --hover-bg-color: #434B5C;\n",
              "      --hover-fill-color: #FFFFFF;\n",
              "      --disabled-bg-color: #3B4455;\n",
              "      --disabled-fill-color: #666;\n",
              "  }\n",
              "\n",
              "  .colab-df-quickchart {\n",
              "    background-color: var(--bg-color);\n",
              "    border: none;\n",
              "    border-radius: 50%;\n",
              "    cursor: pointer;\n",
              "    display: none;\n",
              "    fill: var(--fill-color);\n",
              "    height: 32px;\n",
              "    padding: 0;\n",
              "    width: 32px;\n",
              "  }\n",
              "\n",
              "  .colab-df-quickchart:hover {\n",
              "    background-color: var(--hover-bg-color);\n",
              "    box-shadow: 0 1px 2px rgba(60, 64, 67, 0.3), 0 1px 3px 1px rgba(60, 64, 67, 0.15);\n",
              "    fill: var(--button-hover-fill-color);\n",
              "  }\n",
              "\n",
              "  .colab-df-quickchart-complete:disabled,\n",
              "  .colab-df-quickchart-complete:disabled:hover {\n",
              "    background-color: var(--disabled-bg-color);\n",
              "    fill: var(--disabled-fill-color);\n",
              "    box-shadow: none;\n",
              "  }\n",
              "\n",
              "  .colab-df-spinner {\n",
              "    border: 2px solid var(--fill-color);\n",
              "    border-color: transparent;\n",
              "    border-bottom-color: var(--fill-color);\n",
              "    animation:\n",
              "      spin 1s steps(1) infinite;\n",
              "  }\n",
              "\n",
              "  @keyframes spin {\n",
              "    0% {\n",
              "      border-color: transparent;\n",
              "      border-bottom-color: var(--fill-color);\n",
              "      border-left-color: var(--fill-color);\n",
              "    }\n",
              "    20% {\n",
              "      border-color: transparent;\n",
              "      border-left-color: var(--fill-color);\n",
              "      border-top-color: var(--fill-color);\n",
              "    }\n",
              "    30% {\n",
              "      border-color: transparent;\n",
              "      border-left-color: var(--fill-color);\n",
              "      border-top-color: var(--fill-color);\n",
              "      border-right-color: var(--fill-color);\n",
              "    }\n",
              "    40% {\n",
              "      border-color: transparent;\n",
              "      border-right-color: var(--fill-color);\n",
              "      border-top-color: var(--fill-color);\n",
              "    }\n",
              "    60% {\n",
              "      border-color: transparent;\n",
              "      border-right-color: var(--fill-color);\n",
              "    }\n",
              "    80% {\n",
              "      border-color: transparent;\n",
              "      border-right-color: var(--fill-color);\n",
              "      border-bottom-color: var(--fill-color);\n",
              "    }\n",
              "    90% {\n",
              "      border-color: transparent;\n",
              "      border-bottom-color: var(--fill-color);\n",
              "    }\n",
              "  }\n",
              "</style>\n",
              "\n",
              "      <script>\n",
              "        async function quickchart(key) {\n",
              "          const quickchartButtonEl =\n",
              "            document.querySelector('#' + key + ' button');\n",
              "          quickchartButtonEl.disabled = true;  // To prevent multiple clicks.\n",
              "          quickchartButtonEl.classList.add('colab-df-spinner');\n",
              "          try {\n",
              "            const charts = await google.colab.kernel.invokeFunction(\n",
              "                'suggestCharts', [key], {});\n",
              "          } catch (error) {\n",
              "            console.error('Error during call to suggestCharts:', error);\n",
              "          }\n",
              "          quickchartButtonEl.classList.remove('colab-df-spinner');\n",
              "          quickchartButtonEl.classList.add('colab-df-quickchart-complete');\n",
              "        }\n",
              "        (() => {\n",
              "          let quickchartButtonEl =\n",
              "            document.querySelector('#df-e4f2b780-46bc-4c20-80e5-408a908de17c button');\n",
              "          quickchartButtonEl.style.display =\n",
              "            google.colab.kernel.accessAllowed ? 'block' : 'none';\n",
              "        })();\n",
              "      </script>\n",
              "    </div>\n",
              "\n",
              "    </div>\n",
              "  </div>\n"
            ],
            "application/vnd.google.colaboratory.intrinsic+json": {
              "type": "dataframe",
              "summary": "{\n  \"name\": \"df_lista_documentos_sentenciados\",\n  \"rows\": 5,\n  \"fields\": [\n    {\n      \"column\": \"id\",\n      \"properties\": {\n        \"dtype\": \"number\",\n        \"std\": 3,\n        \"min\": 8,\n        \"max\": 16,\n        \"num_unique_values\": 5,\n        \"samples\": [\n          8,\n          13,\n          14\n        ],\n        \"semantic_type\": \"\",\n        \"description\": \"\"\n      }\n    },\n    {\n      \"column\": \"sentencas\",\n      \"properties\": {\n        \"dtype\": \"object\",\n        \"semantic_type\": \"\",\n        \"description\": \"\"\n      }\n    },\n    {\n      \"column\": \"documento\",\n      \"properties\": {\n        \"dtype\": \"string\",\n        \"num_unique_values\": 5,\n        \"samples\": [\n          \"A cidade de S\\u00e3o Paulo e alguns munic\\u00edpios do interior paulista foram atingidos na madrugada desta segunda-feira por novos atentados com bombas e tiros contra ag\\u00eancias banc\\u00e1rias, bases policiais e pr\\u00e9dios p\\u00fablicos. Pelo menos oito ataques foram confirmados. Os ataques desta madrugada, at\\u00e9 agora, n\\u00e3o deixaram mortos ou feridos. As a\\u00e7\\u00f5es s\\u00e3o atribu\\u00eddas \\u00e0 fac\\u00e7\\u00e3o criminosa \\\"Primeiro Comando da Capital\\\" (PCC), que j\\u00e1 comandou outros ataques em duas ocasi\\u00f5es. Uma bomba de fabrica\\u00e7\\u00e3o caseira explodiu em frente ao pr\\u00e9dio do Minist\\u00e9rio P\\u00fablico Estadual e lojas vizinhas tamb\\u00e9m foram atingidas por estilha\\u00e7os. Calcula-se em 15 o n\\u00famero de \\u00f4nibus incendiados, sendo dez na regi\\u00e3o do ABC e quatro na capital. Os l\\u00edderes da fac\\u00e7\\u00e3o criminosa PCC haviam prometido uma nova onda de ataques caso o Minist\\u00e9rio P\\u00fablico de S\\u00e3o Paulo negasse a sa\\u00edda tempor\\u00e1ria de presos em virtude do Dia dos Pais. O benef\\u00edcio depende de decis\\u00e3o judicial ap\\u00f3s an\\u00e1lise do Minist\\u00e9rio P\\u00fablico e os presos poderiam deixar a cadeia no per\\u00edodo do dia 9 at\\u00e9 15 de agosto.\",\n          \"O m\\u00e9dico pessoal do argentino Diego Maradona, Alfredo Cahe, revelou nesta segunda-feira que uma reca\\u00edda da hepatite aguda de que sofre foi o motivo da nova interna\\u00e7\\u00e3o do ex-craque.Maradona, 46, desenvolveu um hepatite t\\u00f3xica por excesso de consumo de \\u00e1lcool, o que j\\u00e1 o manteve internado durante 13 dias antes da primeira alta.\",\n          \"A pista principal do Aeroporto Internacional de S\\u00e3o Paulo (Cumbica), em Guarulhos, ser\\u00e1 totalmente reformada em mar\\u00e7o de 2008, segundo informa\\u00e7\\u00f5es do Minist\\u00e9rio da Defesa anunciadas nesta segunda-feira, 6. O ministro da Defesa, Nelson Jobim, anunciou a reforma que, segundo estudos da Empresa Brasileira de Infra-Estrutura Aeroportu\\u00e1ria (Infraero), a reforma poder\\u00e1 ser feita sem que a pista seja interditada. O fechamento da pista, que t\\u00eam 3,7 km de extens\\u00e3o, est\\u00e1 previsto para ocorrer na terceira e \\u00faltima etapa da reforma, que ter\\u00e1 tr\\u00eas fases. Na primeira etapa, ser\\u00e1 reformado um ter\\u00e7o da pista, em uma das cabeceiras, ficando o restante dispon\\u00edvel para pousos e decolagens. Na segunda etapa, a parte conclu\\u00edda ser\\u00e1 reaberta e a obra passar\\u00e1 a ser feita na outra cabeceira. A partir de mar\\u00e7o, ser\\u00e1 iniciada a fase final da obra, com a reforma do trecho central.\"\n        ],\n        \"semantic_type\": \"\",\n        \"description\": \"\"\n      }\n    }\n  ]\n}"
            }
          },
          "metadata": {},
          "execution_count": 36
        }
      ],
      "source": [
        "df_lista_documentos_sentenciados.sample(5)"
      ]
    },
    {
      "cell_type": "markdown",
      "metadata": {
        "id": "t56ovS3Kt-W0"
      },
      "source": [
        "### 4.3.3 Compacta e copia o dataset para uma pasta do GoogleDrive"
      ]
    },
    {
      "cell_type": "markdown",
      "metadata": {
        "id": "5vZq_1sEtsB0"
      },
      "source": [
        "Compacta os arquivos.\n",
        "\n",
        "Usa o zip para compactar:\n",
        "*   `-o` sobrescreve o arquivo se existir\n",
        "*   `-j` Não cria nenhum diretório\n",
        "*   `-q` Desliga as mensagens\n"
      ]
    },
    {
      "cell_type": "code",
      "execution_count": 37,
      "metadata": {
        "id": "NunMOJWR2O8H"
      },
      "outputs": [],
      "source": [
        "# Se estiver executando no Google Colaboratory\n",
        "if IN_COLAB:\n",
        "\n",
        "  !zip -o -q -j \"$DIRETORIO_LOCAL$NOME_ARQUIVO_DATASET_COMPACTADO\" \"$DIRETORIO_LOCAL$NOME_ARQUIVO_DATASET\""
      ]
    },
    {
      "cell_type": "markdown",
      "metadata": {
        "id": "sw3p4ydkt-W-"
      },
      "source": [
        "Copia o arquivo compactado para o GoogleDrive\n",
        "\n"
      ]
    },
    {
      "cell_type": "code",
      "execution_count": 38,
      "metadata": {
        "colab": {
          "base_uri": "https://localhost:8080/"
        },
        "id": "y5c8sv10t-W_",
        "outputId": "335e9d4e-bf7d-4e66-bdd2-371fea92c02d"
      },
      "outputs": [
        {
          "output_type": "stream",
          "name": "stderr",
          "text": [
            "INFO:root:Terminei a cópia\n"
          ]
        }
      ],
      "source": [
        "# Se estiver executando no Google Colaboratory\n",
        "if IN_COLAB:\n",
        "    # Copia o arquivo do dataset\n",
        "    !cp \"$DIRETORIO_LOCAL$NOME_ARQUIVO_DATASET_COMPACTADO\" \"$DIRETORIO_DRIVE\"\n",
        "\n",
        "    logging.info(\"Terminei a cópia\")"
      ]
    },
    {
      "cell_type": "markdown",
      "metadata": {
        "id": "TkncKDN1i7kq"
      },
      "source": [
        "### 4.3.4 Carrega os dados\n",
        "\n",
        "Realiza um teste carregando o arquivo do dataset criado."
      ]
    },
    {
      "cell_type": "code",
      "execution_count": 39,
      "metadata": {
        "id": "pTVxFPqg5wY_"
      },
      "outputs": [],
      "source": [
        "# Import das bibliotecas.\n",
        "import pandas as pd\n",
        "\n",
        "# Abre o arquivo e retorna o DataFrame\n",
        "df_dataset = pd.read_csv(DIRETORIO_LOCAL + NOME_ARQUIVO_DATASET, sep=\";\", encoding=\"UTF-8\")"
      ]
    },
    {
      "cell_type": "markdown",
      "metadata": {
        "id": "u7JYj6ZZkIiR"
      },
      "source": [
        "Corrigir o tipo de dados da lista dos documentos\n",
        "\n",
        "Na lista\n",
        "- coluna 1 - `sentenças` carregadas do arquivo vem como string e não como lista."
      ]
    },
    {
      "cell_type": "code",
      "execution_count": 40,
      "metadata": {
        "colab": {
          "base_uri": "https://localhost:8080/"
        },
        "id": "aniEg4BVkIiX",
        "outputId": "eac1f337-5c8d-4812-c315-fb4092adb9e8"
      },
      "outputs": [
        {
          "output_type": "stream",
          "name": "stderr",
          "text": [
            "INFO:root:TERMINADO CORREÇÃO DOCUMENTOS: 20.\n"
          ]
        }
      ],
      "source": [
        "# Import das bibliotecas.\n",
        "import ast # Biblioteca para conversão de string em lista\n",
        "\n",
        "# Verifica se o tipo da coluna não é list e converte\n",
        "df_dataset[\"sentencas\"] = df_dataset[\"sentencas\"].apply(lambda x: ast.literal_eval(x) if type(x)!=list else x)\n",
        "\n",
        "logging.info(\"TERMINADO CORREÇÃO DOCUMENTOS: {}.\".format(len(df_dataset)))"
      ]
    },
    {
      "cell_type": "code",
      "execution_count": 41,
      "metadata": {
        "colab": {
          "base_uri": "https://localhost:8080/",
          "height": 206
        },
        "id": "tlPKkZKz50j2",
        "outputId": "d5176f54-dd28-485b-9170-a9d427c0b627"
      },
      "outputs": [
        {
          "output_type": "execute_result",
          "data": {
            "text/plain": [
              "    id                                          sentencas  \\\n",
              "1    2  [Ao menos 17 pessoas morreram após a queda de ...   \n",
              "15  16  [O Brasil lavou a alma após o decepcionante em...   \n",
              "12  13  [O médico pessoal do argentino Diego Maradona,...   \n",
              "19  20  [Dois terremotos atingiram a região de Niigata...   \n",
              "5    6  [O superintendente regional da Polícia Federal...   \n",
              "\n",
              "                                            documento  \n",
              "1   Ao menos 17 pessoas morreram após a queda de u...  \n",
              "15  O Brasil lavou a alma após o decepcionante emp...  \n",
              "12  O médico pessoal do argentino Diego Maradona, ...  \n",
              "19  Dois terremotos atingiram a região de Niigata,...  \n",
              "5   O superintendente regional da Polícia Federal ...  "
            ],
            "text/html": [
              "\n",
              "  <div id=\"df-12baf7fb-ff7d-45a4-b1da-05877538da49\" class=\"colab-df-container\">\n",
              "    <div>\n",
              "<style scoped>\n",
              "    .dataframe tbody tr th:only-of-type {\n",
              "        vertical-align: middle;\n",
              "    }\n",
              "\n",
              "    .dataframe tbody tr th {\n",
              "        vertical-align: top;\n",
              "    }\n",
              "\n",
              "    .dataframe thead th {\n",
              "        text-align: right;\n",
              "    }\n",
              "</style>\n",
              "<table border=\"1\" class=\"dataframe\">\n",
              "  <thead>\n",
              "    <tr style=\"text-align: right;\">\n",
              "      <th></th>\n",
              "      <th>id</th>\n",
              "      <th>sentencas</th>\n",
              "      <th>documento</th>\n",
              "    </tr>\n",
              "  </thead>\n",
              "  <tbody>\n",
              "    <tr>\n",
              "      <th>1</th>\n",
              "      <td>2</td>\n",
              "      <td>[Ao menos 17 pessoas morreram após a queda de ...</td>\n",
              "      <td>Ao menos 17 pessoas morreram após a queda de u...</td>\n",
              "    </tr>\n",
              "    <tr>\n",
              "      <th>15</th>\n",
              "      <td>16</td>\n",
              "      <td>[O Brasil lavou a alma após o decepcionante em...</td>\n",
              "      <td>O Brasil lavou a alma após o decepcionante emp...</td>\n",
              "    </tr>\n",
              "    <tr>\n",
              "      <th>12</th>\n",
              "      <td>13</td>\n",
              "      <td>[O médico pessoal do argentino Diego Maradona,...</td>\n",
              "      <td>O médico pessoal do argentino Diego Maradona, ...</td>\n",
              "    </tr>\n",
              "    <tr>\n",
              "      <th>19</th>\n",
              "      <td>20</td>\n",
              "      <td>[Dois terremotos atingiram a região de Niigata...</td>\n",
              "      <td>Dois terremotos atingiram a região de Niigata,...</td>\n",
              "    </tr>\n",
              "    <tr>\n",
              "      <th>5</th>\n",
              "      <td>6</td>\n",
              "      <td>[O superintendente regional da Polícia Federal...</td>\n",
              "      <td>O superintendente regional da Polícia Federal ...</td>\n",
              "    </tr>\n",
              "  </tbody>\n",
              "</table>\n",
              "</div>\n",
              "    <div class=\"colab-df-buttons\">\n",
              "\n",
              "  <div class=\"colab-df-container\">\n",
              "    <button class=\"colab-df-convert\" onclick=\"convertToInteractive('df-12baf7fb-ff7d-45a4-b1da-05877538da49')\"\n",
              "            title=\"Convert this dataframe to an interactive table.\"\n",
              "            style=\"display:none;\">\n",
              "\n",
              "  <svg xmlns=\"http://www.w3.org/2000/svg\" height=\"24px\" viewBox=\"0 -960 960 960\">\n",
              "    <path d=\"M120-120v-720h720v720H120Zm60-500h600v-160H180v160Zm220 220h160v-160H400v160Zm0 220h160v-160H400v160ZM180-400h160v-160H180v160Zm440 0h160v-160H620v160ZM180-180h160v-160H180v160Zm440 0h160v-160H620v160Z\"/>\n",
              "  </svg>\n",
              "    </button>\n",
              "\n",
              "  <style>\n",
              "    .colab-df-container {\n",
              "      display:flex;\n",
              "      gap: 12px;\n",
              "    }\n",
              "\n",
              "    .colab-df-convert {\n",
              "      background-color: #E8F0FE;\n",
              "      border: none;\n",
              "      border-radius: 50%;\n",
              "      cursor: pointer;\n",
              "      display: none;\n",
              "      fill: #1967D2;\n",
              "      height: 32px;\n",
              "      padding: 0 0 0 0;\n",
              "      width: 32px;\n",
              "    }\n",
              "\n",
              "    .colab-df-convert:hover {\n",
              "      background-color: #E2EBFA;\n",
              "      box-shadow: 0px 1px 2px rgba(60, 64, 67, 0.3), 0px 1px 3px 1px rgba(60, 64, 67, 0.15);\n",
              "      fill: #174EA6;\n",
              "    }\n",
              "\n",
              "    .colab-df-buttons div {\n",
              "      margin-bottom: 4px;\n",
              "    }\n",
              "\n",
              "    [theme=dark] .colab-df-convert {\n",
              "      background-color: #3B4455;\n",
              "      fill: #D2E3FC;\n",
              "    }\n",
              "\n",
              "    [theme=dark] .colab-df-convert:hover {\n",
              "      background-color: #434B5C;\n",
              "      box-shadow: 0px 1px 3px 1px rgba(0, 0, 0, 0.15);\n",
              "      filter: drop-shadow(0px 1px 2px rgba(0, 0, 0, 0.3));\n",
              "      fill: #FFFFFF;\n",
              "    }\n",
              "  </style>\n",
              "\n",
              "    <script>\n",
              "      const buttonEl =\n",
              "        document.querySelector('#df-12baf7fb-ff7d-45a4-b1da-05877538da49 button.colab-df-convert');\n",
              "      buttonEl.style.display =\n",
              "        google.colab.kernel.accessAllowed ? 'block' : 'none';\n",
              "\n",
              "      async function convertToInteractive(key) {\n",
              "        const element = document.querySelector('#df-12baf7fb-ff7d-45a4-b1da-05877538da49');\n",
              "        const dataTable =\n",
              "          await google.colab.kernel.invokeFunction('convertToInteractive',\n",
              "                                                    [key], {});\n",
              "        if (!dataTable) return;\n",
              "\n",
              "        const docLinkHtml = 'Like what you see? Visit the ' +\n",
              "          '<a target=\"_blank\" href=https://colab.research.google.com/notebooks/data_table.ipynb>data table notebook</a>'\n",
              "          + ' to learn more about interactive tables.';\n",
              "        element.innerHTML = '';\n",
              "        dataTable['output_type'] = 'display_data';\n",
              "        await google.colab.output.renderOutput(dataTable, element);\n",
              "        const docLink = document.createElement('div');\n",
              "        docLink.innerHTML = docLinkHtml;\n",
              "        element.appendChild(docLink);\n",
              "      }\n",
              "    </script>\n",
              "  </div>\n",
              "\n",
              "\n",
              "    <div id=\"df-4c7ea40c-e3d8-4c35-89c3-7723c3b7af6a\">\n",
              "      <button class=\"colab-df-quickchart\" onclick=\"quickchart('df-4c7ea40c-e3d8-4c35-89c3-7723c3b7af6a')\"\n",
              "                title=\"Suggest charts\"\n",
              "                style=\"display:none;\">\n",
              "\n",
              "<svg xmlns=\"http://www.w3.org/2000/svg\" height=\"24px\"viewBox=\"0 0 24 24\"\n",
              "     width=\"24px\">\n",
              "    <g>\n",
              "        <path d=\"M19 3H5c-1.1 0-2 .9-2 2v14c0 1.1.9 2 2 2h14c1.1 0 2-.9 2-2V5c0-1.1-.9-2-2-2zM9 17H7v-7h2v7zm4 0h-2V7h2v10zm4 0h-2v-4h2v4z\"/>\n",
              "    </g>\n",
              "</svg>\n",
              "      </button>\n",
              "\n",
              "<style>\n",
              "  .colab-df-quickchart {\n",
              "      --bg-color: #E8F0FE;\n",
              "      --fill-color: #1967D2;\n",
              "      --hover-bg-color: #E2EBFA;\n",
              "      --hover-fill-color: #174EA6;\n",
              "      --disabled-fill-color: #AAA;\n",
              "      --disabled-bg-color: #DDD;\n",
              "  }\n",
              "\n",
              "  [theme=dark] .colab-df-quickchart {\n",
              "      --bg-color: #3B4455;\n",
              "      --fill-color: #D2E3FC;\n",
              "      --hover-bg-color: #434B5C;\n",
              "      --hover-fill-color: #FFFFFF;\n",
              "      --disabled-bg-color: #3B4455;\n",
              "      --disabled-fill-color: #666;\n",
              "  }\n",
              "\n",
              "  .colab-df-quickchart {\n",
              "    background-color: var(--bg-color);\n",
              "    border: none;\n",
              "    border-radius: 50%;\n",
              "    cursor: pointer;\n",
              "    display: none;\n",
              "    fill: var(--fill-color);\n",
              "    height: 32px;\n",
              "    padding: 0;\n",
              "    width: 32px;\n",
              "  }\n",
              "\n",
              "  .colab-df-quickchart:hover {\n",
              "    background-color: var(--hover-bg-color);\n",
              "    box-shadow: 0 1px 2px rgba(60, 64, 67, 0.3), 0 1px 3px 1px rgba(60, 64, 67, 0.15);\n",
              "    fill: var(--button-hover-fill-color);\n",
              "  }\n",
              "\n",
              "  .colab-df-quickchart-complete:disabled,\n",
              "  .colab-df-quickchart-complete:disabled:hover {\n",
              "    background-color: var(--disabled-bg-color);\n",
              "    fill: var(--disabled-fill-color);\n",
              "    box-shadow: none;\n",
              "  }\n",
              "\n",
              "  .colab-df-spinner {\n",
              "    border: 2px solid var(--fill-color);\n",
              "    border-color: transparent;\n",
              "    border-bottom-color: var(--fill-color);\n",
              "    animation:\n",
              "      spin 1s steps(1) infinite;\n",
              "  }\n",
              "\n",
              "  @keyframes spin {\n",
              "    0% {\n",
              "      border-color: transparent;\n",
              "      border-bottom-color: var(--fill-color);\n",
              "      border-left-color: var(--fill-color);\n",
              "    }\n",
              "    20% {\n",
              "      border-color: transparent;\n",
              "      border-left-color: var(--fill-color);\n",
              "      border-top-color: var(--fill-color);\n",
              "    }\n",
              "    30% {\n",
              "      border-color: transparent;\n",
              "      border-left-color: var(--fill-color);\n",
              "      border-top-color: var(--fill-color);\n",
              "      border-right-color: var(--fill-color);\n",
              "    }\n",
              "    40% {\n",
              "      border-color: transparent;\n",
              "      border-right-color: var(--fill-color);\n",
              "      border-top-color: var(--fill-color);\n",
              "    }\n",
              "    60% {\n",
              "      border-color: transparent;\n",
              "      border-right-color: var(--fill-color);\n",
              "    }\n",
              "    80% {\n",
              "      border-color: transparent;\n",
              "      border-right-color: var(--fill-color);\n",
              "      border-bottom-color: var(--fill-color);\n",
              "    }\n",
              "    90% {\n",
              "      border-color: transparent;\n",
              "      border-bottom-color: var(--fill-color);\n",
              "    }\n",
              "  }\n",
              "</style>\n",
              "\n",
              "      <script>\n",
              "        async function quickchart(key) {\n",
              "          const quickchartButtonEl =\n",
              "            document.querySelector('#' + key + ' button');\n",
              "          quickchartButtonEl.disabled = true;  // To prevent multiple clicks.\n",
              "          quickchartButtonEl.classList.add('colab-df-spinner');\n",
              "          try {\n",
              "            const charts = await google.colab.kernel.invokeFunction(\n",
              "                'suggestCharts', [key], {});\n",
              "          } catch (error) {\n",
              "            console.error('Error during call to suggestCharts:', error);\n",
              "          }\n",
              "          quickchartButtonEl.classList.remove('colab-df-spinner');\n",
              "          quickchartButtonEl.classList.add('colab-df-quickchart-complete');\n",
              "        }\n",
              "        (() => {\n",
              "          let quickchartButtonEl =\n",
              "            document.querySelector('#df-4c7ea40c-e3d8-4c35-89c3-7723c3b7af6a button');\n",
              "          quickchartButtonEl.style.display =\n",
              "            google.colab.kernel.accessAllowed ? 'block' : 'none';\n",
              "        })();\n",
              "      </script>\n",
              "    </div>\n",
              "\n",
              "    </div>\n",
              "  </div>\n"
            ],
            "application/vnd.google.colaboratory.intrinsic+json": {
              "type": "dataframe",
              "summary": "{\n  \"name\": \"df_dataset\",\n  \"rows\": 5,\n  \"fields\": [\n    {\n      \"column\": \"id\",\n      \"properties\": {\n        \"dtype\": \"number\",\n        \"std\": 7,\n        \"min\": 2,\n        \"max\": 20,\n        \"num_unique_values\": 5,\n        \"samples\": [\n          16,\n          6,\n          13\n        ],\n        \"semantic_type\": \"\",\n        \"description\": \"\"\n      }\n    },\n    {\n      \"column\": \"sentencas\",\n      \"properties\": {\n        \"dtype\": \"object\",\n        \"semantic_type\": \"\",\n        \"description\": \"\"\n      }\n    },\n    {\n      \"column\": \"documento\",\n      \"properties\": {\n        \"dtype\": \"string\",\n        \"num_unique_values\": 5,\n        \"samples\": [\n          \"O Brasil lavou a alma ap\\u00f3s o decepcionante empate com a Col\\u00f4mbia no \\u00faltimo domingo e, nesta quarta-feira, aplicou uma sonora goleada por 5 a 0 sobre o Equador no Maracan\\u00e3. No primeiro tempo o Brasil foi superior. Robinho deu um lindo toque para Maicon que deu um drible da vaca no advers\\u00e1rio e cruzou na medida para Love abrir o placar. E o primeiro tempo ficou nisso, na expectativa de que o Brasil poderia, finalmente, mostrar seu melhor futebol na etapa final. Aos 27, Kak\\u00e1 arriscou de muito longe e Ronaldinho colocou o desviou o chute. A bola que aparentemente iria para fora, mudou de dire\\u00e7\\u00e3o e foi parar no fundo da rede. Kak\\u00e1 acertou um bel\\u00edssimo chute de longe no \\u00e2ngulo aos 31 e fez 3 a 0. Quando todos achavam que o gol de Kak\\u00e9 tinha sido o grand finale, Robinho fez uma jogada magn\\u00edfica, a mais bonita do jogo, com cara de Brasil. A 20cm da linha de fundo ele deu dois dribles humilhantes no zagueiro equatoriano e cruzou para Elano, que fez o quarto, aos 37. Aos 39, Kak\\u00e1 chutou fraco e o camisa 1 tomou um frango hist\\u00f3rico.\",\n          \"O superintendente regional da Pol\\u00edcia Federal de Rond\\u00f4nia, delegado Joaquim Mesquita, informou nesta sexta-feira, dia 04, que 23 pessoas foram presas, at\\u00e9 o momento, pela Opera\\u00e7\\u00e3o Domin\\u00f3, em Rond\\u00f4nia. A quadrilha \\u00e9 acusada de praticar diversos crimes administrativos, como desvio de recursos p\\u00fablicos, corrup\\u00e7\\u00e3o, prevarica\\u00e7\\u00e3o, concuss\\u00e3o, peculato, extors\\u00e3o, lavagem de dinheiro e venda de senten\\u00e7as judiciais. Segundo divulgada pela PF, o grupo criminoso desviou desde 2004 cerca de R$ 70 milh\\u00f5es dos cofres p\\u00fablicos, por meio do pagamento de servi\\u00e7os, compras e obras superfaturadas. A pol\\u00edcia tamb\\u00e9m vai abrir nova investiga\\u00e7\\u00e3o sobre a participa\\u00e7\\u00e3o de desembargadores e conselheiros do Tribunal de Contas no suposto esquema. A PF divulgou que cerca de 300 policiais federais do Amazonas, Distrito Federal, Mato Grosso, Acre e de Rond\\u00f4nia fazem parte das investiga\\u00e7\\u00f5es da 'Opera\\u00e7\\u00e3o Domin\\u00f3'.\",\n          \"O m\\u00e9dico pessoal do argentino Diego Maradona, Alfredo Cahe, revelou nesta segunda-feira que uma reca\\u00edda da hepatite aguda de que sofre foi o motivo da nova interna\\u00e7\\u00e3o do ex-craque.Maradona, 46, desenvolveu um hepatite t\\u00f3xica por excesso de consumo de \\u00e1lcool, o que j\\u00e1 o manteve internado durante 13 dias antes da primeira alta.\"\n        ],\n        \"semantic_type\": \"\",\n        \"description\": \"\"\n      }\n    }\n  ]\n}"
            }
          },
          "metadata": {},
          "execution_count": 41
        }
      ],
      "source": [
        "df_dataset.sample(5)"
      ]
    },
    {
      "cell_type": "markdown",
      "metadata": {
        "id": "Yj0ya60zrm8t"
      },
      "source": [
        "# 5 Finalização"
      ]
    },
    {
      "cell_type": "markdown",
      "metadata": {
        "id": "Bcjt085lZGUr"
      },
      "source": [
        "## 5.1 Tempo final de processamento\n",
        "\n"
      ]
    },
    {
      "cell_type": "code",
      "execution_count": 42,
      "metadata": {
        "colab": {
          "base_uri": "https://localhost:8080/"
        },
        "id": "H50_GKJwpDha",
        "outputId": "d9c63d73-123b-4b40-804c-01cd312f3d2c"
      },
      "outputs": [
        {
          "output_type": "stream",
          "name": "stdout",
          "text": [
            "\n",
            "  Tempo processamento:  0:01:19 (h:mm:ss)\n"
          ]
        }
      ],
      "source": [
        "# Pega o tempo atual menos o tempo do início do processamento.\n",
        "final_processamento = time.time()\n",
        "tempo_total_processamento = formataTempo(final_processamento - inicio_processamento)\n",
        "\n",
        "print(\"\")\n",
        "print(\"  Tempo processamento:  {:} (h:mm:ss)\".format(tempo_total_processamento))"
      ]
    }
  ],
  "metadata": {
    "colab": {
      "provenance": [],
      "toc_visible": true,
      "include_colab_link": true
    },
    "kernelspec": {
      "display_name": "Python 3",
      "name": "python3"
    },
    "widgets": {
      "application/vnd.jupyter.widget-state+json": {
        "f72d3162a0ca43a9a66cea129bc5dab0": {
          "model_module": "@jupyter-widgets/controls",
          "model_name": "HBoxModel",
          "model_module_version": "1.5.0",
          "state": {
            "_dom_classes": [],
            "_model_module": "@jupyter-widgets/controls",
            "_model_module_version": "1.5.0",
            "_model_name": "HBoxModel",
            "_view_count": null,
            "_view_module": "@jupyter-widgets/controls",
            "_view_module_version": "1.5.0",
            "_view_name": "HBoxView",
            "box_style": "",
            "children": [
              "IPY_MODEL_d2fe03858d4d4c9cb8b31ffe4d23f923",
              "IPY_MODEL_b02ba033d923454aafd4828ebeb9a544",
              "IPY_MODEL_c75691e684ec4dd992d4a72734abb6ad"
            ],
            "layout": "IPY_MODEL_062329046bfb47b889ac710ce7ea4d62"
          }
        },
        "d2fe03858d4d4c9cb8b31ffe4d23f923": {
          "model_module": "@jupyter-widgets/controls",
          "model_name": "HTMLModel",
          "model_module_version": "1.5.0",
          "state": {
            "_dom_classes": [],
            "_model_module": "@jupyter-widgets/controls",
            "_model_module_version": "1.5.0",
            "_model_name": "HTMLModel",
            "_view_count": null,
            "_view_module": "@jupyter-widgets/controls",
            "_view_module_version": "1.5.0",
            "_view_name": "HTMLView",
            "description": "",
            "description_tooltip": null,
            "layout": "IPY_MODEL_5bd85871e4184712b52731ec99f63b5c",
            "placeholder": "​",
            "style": "IPY_MODEL_25bb668808b94118b35097a87b4478e4",
            "value": "Dados: 100%"
          }
        },
        "b02ba033d923454aafd4828ebeb9a544": {
          "model_module": "@jupyter-widgets/controls",
          "model_name": "FloatProgressModel",
          "model_module_version": "1.5.0",
          "state": {
            "_dom_classes": [],
            "_model_module": "@jupyter-widgets/controls",
            "_model_module_version": "1.5.0",
            "_model_name": "FloatProgressModel",
            "_view_count": null,
            "_view_module": "@jupyter-widgets/controls",
            "_view_module_version": "1.5.0",
            "_view_name": "ProgressView",
            "bar_style": "success",
            "description": "",
            "description_tooltip": null,
            "layout": "IPY_MODEL_83722b0f5d904748ad07ea31e95e72b4",
            "max": 20,
            "min": 0,
            "orientation": "horizontal",
            "style": "IPY_MODEL_a0d6e626d4f945d0855c7b11a7fe4ca4",
            "value": 20
          }
        },
        "c75691e684ec4dd992d4a72734abb6ad": {
          "model_module": "@jupyter-widgets/controls",
          "model_name": "HTMLModel",
          "model_module_version": "1.5.0",
          "state": {
            "_dom_classes": [],
            "_model_module": "@jupyter-widgets/controls",
            "_model_module_version": "1.5.0",
            "_model_name": "HTMLModel",
            "_view_count": null,
            "_view_module": "@jupyter-widgets/controls",
            "_view_module_version": "1.5.0",
            "_view_name": "HTMLView",
            "description": "",
            "description_tooltip": null,
            "layout": "IPY_MODEL_4fedf919b2964b4daa16b6124d610fbb",
            "placeholder": "​",
            "style": "IPY_MODEL_2d6597607e5341cf862b30398745f19c",
            "value": " 20/20 [00:00&lt;00:00, 477.77registro/s]"
          }
        },
        "062329046bfb47b889ac710ce7ea4d62": {
          "model_module": "@jupyter-widgets/base",
          "model_name": "LayoutModel",
          "model_module_version": "1.2.0",
          "state": {
            "_model_module": "@jupyter-widgets/base",
            "_model_module_version": "1.2.0",
            "_model_name": "LayoutModel",
            "_view_count": null,
            "_view_module": "@jupyter-widgets/base",
            "_view_module_version": "1.2.0",
            "_view_name": "LayoutView",
            "align_content": null,
            "align_items": null,
            "align_self": null,
            "border": null,
            "bottom": null,
            "display": null,
            "flex": null,
            "flex_flow": null,
            "grid_area": null,
            "grid_auto_columns": null,
            "grid_auto_flow": null,
            "grid_auto_rows": null,
            "grid_column": null,
            "grid_gap": null,
            "grid_row": null,
            "grid_template_areas": null,
            "grid_template_columns": null,
            "grid_template_rows": null,
            "height": null,
            "justify_content": null,
            "justify_items": null,
            "left": null,
            "margin": null,
            "max_height": null,
            "max_width": null,
            "min_height": null,
            "min_width": null,
            "object_fit": null,
            "object_position": null,
            "order": null,
            "overflow": null,
            "overflow_x": null,
            "overflow_y": null,
            "padding": null,
            "right": null,
            "top": null,
            "visibility": null,
            "width": null
          }
        },
        "5bd85871e4184712b52731ec99f63b5c": {
          "model_module": "@jupyter-widgets/base",
          "model_name": "LayoutModel",
          "model_module_version": "1.2.0",
          "state": {
            "_model_module": "@jupyter-widgets/base",
            "_model_module_version": "1.2.0",
            "_model_name": "LayoutModel",
            "_view_count": null,
            "_view_module": "@jupyter-widgets/base",
            "_view_module_version": "1.2.0",
            "_view_name": "LayoutView",
            "align_content": null,
            "align_items": null,
            "align_self": null,
            "border": null,
            "bottom": null,
            "display": null,
            "flex": null,
            "flex_flow": null,
            "grid_area": null,
            "grid_auto_columns": null,
            "grid_auto_flow": null,
            "grid_auto_rows": null,
            "grid_column": null,
            "grid_gap": null,
            "grid_row": null,
            "grid_template_areas": null,
            "grid_template_columns": null,
            "grid_template_rows": null,
            "height": null,
            "justify_content": null,
            "justify_items": null,
            "left": null,
            "margin": null,
            "max_height": null,
            "max_width": null,
            "min_height": null,
            "min_width": null,
            "object_fit": null,
            "object_position": null,
            "order": null,
            "overflow": null,
            "overflow_x": null,
            "overflow_y": null,
            "padding": null,
            "right": null,
            "top": null,
            "visibility": null,
            "width": null
          }
        },
        "25bb668808b94118b35097a87b4478e4": {
          "model_module": "@jupyter-widgets/controls",
          "model_name": "DescriptionStyleModel",
          "model_module_version": "1.5.0",
          "state": {
            "_model_module": "@jupyter-widgets/controls",
            "_model_module_version": "1.5.0",
            "_model_name": "DescriptionStyleModel",
            "_view_count": null,
            "_view_module": "@jupyter-widgets/base",
            "_view_module_version": "1.2.0",
            "_view_name": "StyleView",
            "description_width": ""
          }
        },
        "83722b0f5d904748ad07ea31e95e72b4": {
          "model_module": "@jupyter-widgets/base",
          "model_name": "LayoutModel",
          "model_module_version": "1.2.0",
          "state": {
            "_model_module": "@jupyter-widgets/base",
            "_model_module_version": "1.2.0",
            "_model_name": "LayoutModel",
            "_view_count": null,
            "_view_module": "@jupyter-widgets/base",
            "_view_module_version": "1.2.0",
            "_view_name": "LayoutView",
            "align_content": null,
            "align_items": null,
            "align_self": null,
            "border": null,
            "bottom": null,
            "display": null,
            "flex": null,
            "flex_flow": null,
            "grid_area": null,
            "grid_auto_columns": null,
            "grid_auto_flow": null,
            "grid_auto_rows": null,
            "grid_column": null,
            "grid_gap": null,
            "grid_row": null,
            "grid_template_areas": null,
            "grid_template_columns": null,
            "grid_template_rows": null,
            "height": null,
            "justify_content": null,
            "justify_items": null,
            "left": null,
            "margin": null,
            "max_height": null,
            "max_width": null,
            "min_height": null,
            "min_width": null,
            "object_fit": null,
            "object_position": null,
            "order": null,
            "overflow": null,
            "overflow_x": null,
            "overflow_y": null,
            "padding": null,
            "right": null,
            "top": null,
            "visibility": null,
            "width": null
          }
        },
        "a0d6e626d4f945d0855c7b11a7fe4ca4": {
          "model_module": "@jupyter-widgets/controls",
          "model_name": "ProgressStyleModel",
          "model_module_version": "1.5.0",
          "state": {
            "_model_module": "@jupyter-widgets/controls",
            "_model_module_version": "1.5.0",
            "_model_name": "ProgressStyleModel",
            "_view_count": null,
            "_view_module": "@jupyter-widgets/base",
            "_view_module_version": "1.2.0",
            "_view_name": "StyleView",
            "bar_color": null,
            "description_width": ""
          }
        },
        "4fedf919b2964b4daa16b6124d610fbb": {
          "model_module": "@jupyter-widgets/base",
          "model_name": "LayoutModel",
          "model_module_version": "1.2.0",
          "state": {
            "_model_module": "@jupyter-widgets/base",
            "_model_module_version": "1.2.0",
            "_model_name": "LayoutModel",
            "_view_count": null,
            "_view_module": "@jupyter-widgets/base",
            "_view_module_version": "1.2.0",
            "_view_name": "LayoutView",
            "align_content": null,
            "align_items": null,
            "align_self": null,
            "border": null,
            "bottom": null,
            "display": null,
            "flex": null,
            "flex_flow": null,
            "grid_area": null,
            "grid_auto_columns": null,
            "grid_auto_flow": null,
            "grid_auto_rows": null,
            "grid_column": null,
            "grid_gap": null,
            "grid_row": null,
            "grid_template_areas": null,
            "grid_template_columns": null,
            "grid_template_rows": null,
            "height": null,
            "justify_content": null,
            "justify_items": null,
            "left": null,
            "margin": null,
            "max_height": null,
            "max_width": null,
            "min_height": null,
            "min_width": null,
            "object_fit": null,
            "object_position": null,
            "order": null,
            "overflow": null,
            "overflow_x": null,
            "overflow_y": null,
            "padding": null,
            "right": null,
            "top": null,
            "visibility": null,
            "width": null
          }
        },
        "2d6597607e5341cf862b30398745f19c": {
          "model_module": "@jupyter-widgets/controls",
          "model_name": "DescriptionStyleModel",
          "model_module_version": "1.5.0",
          "state": {
            "_model_module": "@jupyter-widgets/controls",
            "_model_module_version": "1.5.0",
            "_model_name": "DescriptionStyleModel",
            "_view_count": null,
            "_view_module": "@jupyter-widgets/base",
            "_view_module_version": "1.2.0",
            "_view_name": "StyleView",
            "description_width": ""
          }
        },
        "e7a423ea0819443ba0e6701047d5845d": {
          "model_module": "@jupyter-widgets/controls",
          "model_name": "HBoxModel",
          "model_module_version": "1.5.0",
          "state": {
            "_dom_classes": [],
            "_model_module": "@jupyter-widgets/controls",
            "_model_module_version": "1.5.0",
            "_model_name": "HBoxModel",
            "_view_count": null,
            "_view_module": "@jupyter-widgets/controls",
            "_view_module_version": "1.5.0",
            "_view_name": "HBoxView",
            "box_style": "",
            "children": [
              "IPY_MODEL_b966c9e33d0b477d954db5fe30a88f86",
              "IPY_MODEL_0b240373e6bd4af0be3dd72a571052e4",
              "IPY_MODEL_59614beba7d6435fa64384167f8beb1b"
            ],
            "layout": "IPY_MODEL_d1121887e3a44abe87be44f945ec934c"
          }
        },
        "b966c9e33d0b477d954db5fe30a88f86": {
          "model_module": "@jupyter-widgets/controls",
          "model_name": "HTMLModel",
          "model_module_version": "1.5.0",
          "state": {
            "_dom_classes": [],
            "_model_module": "@jupyter-widgets/controls",
            "_model_module_version": "1.5.0",
            "_model_name": "HTMLModel",
            "_view_count": null,
            "_view_module": "@jupyter-widgets/controls",
            "_view_module_version": "1.5.0",
            "_view_name": "HTMLView",
            "description": "",
            "description_tooltip": null,
            "layout": "IPY_MODEL_ca9a8790dbd245c8b6a47c949191fbe8",
            "placeholder": "​",
            "style": "IPY_MODEL_c857b7f903864619b669869f503aee3b",
            "value": "Dados: 100%"
          }
        },
        "0b240373e6bd4af0be3dd72a571052e4": {
          "model_module": "@jupyter-widgets/controls",
          "model_name": "FloatProgressModel",
          "model_module_version": "1.5.0",
          "state": {
            "_dom_classes": [],
            "_model_module": "@jupyter-widgets/controls",
            "_model_module_version": "1.5.0",
            "_model_name": "FloatProgressModel",
            "_view_count": null,
            "_view_module": "@jupyter-widgets/controls",
            "_view_module_version": "1.5.0",
            "_view_name": "ProgressView",
            "bar_style": "success",
            "description": "",
            "description_tooltip": null,
            "layout": "IPY_MODEL_8bae96e5ab4b42bfa814cf083c69c5f3",
            "max": 20,
            "min": 0,
            "orientation": "horizontal",
            "style": "IPY_MODEL_02ea766130e7495f83b3310bdab0d3b6",
            "value": 20
          }
        },
        "59614beba7d6435fa64384167f8beb1b": {
          "model_module": "@jupyter-widgets/controls",
          "model_name": "HTMLModel",
          "model_module_version": "1.5.0",
          "state": {
            "_dom_classes": [],
            "_model_module": "@jupyter-widgets/controls",
            "_model_module_version": "1.5.0",
            "_model_name": "HTMLModel",
            "_view_count": null,
            "_view_module": "@jupyter-widgets/controls",
            "_view_module_version": "1.5.0",
            "_view_name": "HTMLView",
            "description": "",
            "description_tooltip": null,
            "layout": "IPY_MODEL_8b3c515e5c14461391b3448a80e64117",
            "placeholder": "​",
            "style": "IPY_MODEL_5f60c39054a14708b9e345720d890267",
            "value": " 20/20 [00:00&lt;00:00, 31.54registro/s]"
          }
        },
        "d1121887e3a44abe87be44f945ec934c": {
          "model_module": "@jupyter-widgets/base",
          "model_name": "LayoutModel",
          "model_module_version": "1.2.0",
          "state": {
            "_model_module": "@jupyter-widgets/base",
            "_model_module_version": "1.2.0",
            "_model_name": "LayoutModel",
            "_view_count": null,
            "_view_module": "@jupyter-widgets/base",
            "_view_module_version": "1.2.0",
            "_view_name": "LayoutView",
            "align_content": null,
            "align_items": null,
            "align_self": null,
            "border": null,
            "bottom": null,
            "display": null,
            "flex": null,
            "flex_flow": null,
            "grid_area": null,
            "grid_auto_columns": null,
            "grid_auto_flow": null,
            "grid_auto_rows": null,
            "grid_column": null,
            "grid_gap": null,
            "grid_row": null,
            "grid_template_areas": null,
            "grid_template_columns": null,
            "grid_template_rows": null,
            "height": null,
            "justify_content": null,
            "justify_items": null,
            "left": null,
            "margin": null,
            "max_height": null,
            "max_width": null,
            "min_height": null,
            "min_width": null,
            "object_fit": null,
            "object_position": null,
            "order": null,
            "overflow": null,
            "overflow_x": null,
            "overflow_y": null,
            "padding": null,
            "right": null,
            "top": null,
            "visibility": null,
            "width": null
          }
        },
        "ca9a8790dbd245c8b6a47c949191fbe8": {
          "model_module": "@jupyter-widgets/base",
          "model_name": "LayoutModel",
          "model_module_version": "1.2.0",
          "state": {
            "_model_module": "@jupyter-widgets/base",
            "_model_module_version": "1.2.0",
            "_model_name": "LayoutModel",
            "_view_count": null,
            "_view_module": "@jupyter-widgets/base",
            "_view_module_version": "1.2.0",
            "_view_name": "LayoutView",
            "align_content": null,
            "align_items": null,
            "align_self": null,
            "border": null,
            "bottom": null,
            "display": null,
            "flex": null,
            "flex_flow": null,
            "grid_area": null,
            "grid_auto_columns": null,
            "grid_auto_flow": null,
            "grid_auto_rows": null,
            "grid_column": null,
            "grid_gap": null,
            "grid_row": null,
            "grid_template_areas": null,
            "grid_template_columns": null,
            "grid_template_rows": null,
            "height": null,
            "justify_content": null,
            "justify_items": null,
            "left": null,
            "margin": null,
            "max_height": null,
            "max_width": null,
            "min_height": null,
            "min_width": null,
            "object_fit": null,
            "object_position": null,
            "order": null,
            "overflow": null,
            "overflow_x": null,
            "overflow_y": null,
            "padding": null,
            "right": null,
            "top": null,
            "visibility": null,
            "width": null
          }
        },
        "c857b7f903864619b669869f503aee3b": {
          "model_module": "@jupyter-widgets/controls",
          "model_name": "DescriptionStyleModel",
          "model_module_version": "1.5.0",
          "state": {
            "_model_module": "@jupyter-widgets/controls",
            "_model_module_version": "1.5.0",
            "_model_name": "DescriptionStyleModel",
            "_view_count": null,
            "_view_module": "@jupyter-widgets/base",
            "_view_module_version": "1.2.0",
            "_view_name": "StyleView",
            "description_width": ""
          }
        },
        "8bae96e5ab4b42bfa814cf083c69c5f3": {
          "model_module": "@jupyter-widgets/base",
          "model_name": "LayoutModel",
          "model_module_version": "1.2.0",
          "state": {
            "_model_module": "@jupyter-widgets/base",
            "_model_module_version": "1.2.0",
            "_model_name": "LayoutModel",
            "_view_count": null,
            "_view_module": "@jupyter-widgets/base",
            "_view_module_version": "1.2.0",
            "_view_name": "LayoutView",
            "align_content": null,
            "align_items": null,
            "align_self": null,
            "border": null,
            "bottom": null,
            "display": null,
            "flex": null,
            "flex_flow": null,
            "grid_area": null,
            "grid_auto_columns": null,
            "grid_auto_flow": null,
            "grid_auto_rows": null,
            "grid_column": null,
            "grid_gap": null,
            "grid_row": null,
            "grid_template_areas": null,
            "grid_template_columns": null,
            "grid_template_rows": null,
            "height": null,
            "justify_content": null,
            "justify_items": null,
            "left": null,
            "margin": null,
            "max_height": null,
            "max_width": null,
            "min_height": null,
            "min_width": null,
            "object_fit": null,
            "object_position": null,
            "order": null,
            "overflow": null,
            "overflow_x": null,
            "overflow_y": null,
            "padding": null,
            "right": null,
            "top": null,
            "visibility": null,
            "width": null
          }
        },
        "02ea766130e7495f83b3310bdab0d3b6": {
          "model_module": "@jupyter-widgets/controls",
          "model_name": "ProgressStyleModel",
          "model_module_version": "1.5.0",
          "state": {
            "_model_module": "@jupyter-widgets/controls",
            "_model_module_version": "1.5.0",
            "_model_name": "ProgressStyleModel",
            "_view_count": null,
            "_view_module": "@jupyter-widgets/base",
            "_view_module_version": "1.2.0",
            "_view_name": "StyleView",
            "bar_color": null,
            "description_width": ""
          }
        },
        "8b3c515e5c14461391b3448a80e64117": {
          "model_module": "@jupyter-widgets/base",
          "model_name": "LayoutModel",
          "model_module_version": "1.2.0",
          "state": {
            "_model_module": "@jupyter-widgets/base",
            "_model_module_version": "1.2.0",
            "_model_name": "LayoutModel",
            "_view_count": null,
            "_view_module": "@jupyter-widgets/base",
            "_view_module_version": "1.2.0",
            "_view_name": "LayoutView",
            "align_content": null,
            "align_items": null,
            "align_self": null,
            "border": null,
            "bottom": null,
            "display": null,
            "flex": null,
            "flex_flow": null,
            "grid_area": null,
            "grid_auto_columns": null,
            "grid_auto_flow": null,
            "grid_auto_rows": null,
            "grid_column": null,
            "grid_gap": null,
            "grid_row": null,
            "grid_template_areas": null,
            "grid_template_columns": null,
            "grid_template_rows": null,
            "height": null,
            "justify_content": null,
            "justify_items": null,
            "left": null,
            "margin": null,
            "max_height": null,
            "max_width": null,
            "min_height": null,
            "min_width": null,
            "object_fit": null,
            "object_position": null,
            "order": null,
            "overflow": null,
            "overflow_x": null,
            "overflow_y": null,
            "padding": null,
            "right": null,
            "top": null,
            "visibility": null,
            "width": null
          }
        },
        "5f60c39054a14708b9e345720d890267": {
          "model_module": "@jupyter-widgets/controls",
          "model_name": "DescriptionStyleModel",
          "model_module_version": "1.5.0",
          "state": {
            "_model_module": "@jupyter-widgets/controls",
            "_model_module_version": "1.5.0",
            "_model_name": "DescriptionStyleModel",
            "_view_count": null,
            "_view_module": "@jupyter-widgets/base",
            "_view_module_version": "1.2.0",
            "_view_name": "StyleView",
            "description_width": ""
          }
        }
      }
    }
  },
  "nbformat": 4,
  "nbformat_minor": 0
}