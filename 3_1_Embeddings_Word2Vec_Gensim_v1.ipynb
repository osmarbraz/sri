{
  "nbformat": 4,
  "nbformat_minor": 0,
  "metadata": {
    "colab": {
      "provenance": [],
      "toc_visible": true,
      "collapsed_sections": [
        "yXRXXPxVOzci",
        "Ysl3AA3sPPJK",
        "6xlt_r14Qkyn",
        "xbVbBUdJ-yki",
        "e1uz3qIc-59h",
        "FBC07yKlQk5y",
        "BndfpQLoX9N5",
        "UZ_xb5rVYB97",
        "YW9pN7oyYGna",
        "tJBS-kfhwCEL"
      ],
      "authorship_tag": "ABX9TyMbMea7iQgkZ8oodB/W3Ng+",
      "include_colab_link": true
    },
    "kernelspec": {
      "name": "python3",
      "display_name": "Python 3"
    },
    "language_info": {
      "name": "python"
    }
  },
  "cells": [
    {
      "cell_type": "markdown",
      "metadata": {
        "id": "view-in-github",
        "colab_type": "text"
      },
      "source": [
        "<a href=\"https://colab.research.google.com/github/osmarbraz/sri/blob/main/3_1_Embeddings_Word2Vec_Gensim_v1.ipynb\" target=\"_parent\"><img src=\"https://colab.research.google.com/assets/colab-badge.svg\" alt=\"Open In Colab\"/></a>"
      ]
    },
    {
      "cell_type": "markdown",
      "metadata": {
        "id": "IziPWVaeGlWk"
      },
      "source": [
        "# Word Embedding(pt-br) usando Word2Vec\n",
        "\n",
        "Manipulação de de word embendding usando Word2Vec através da biblioteca Gensim Python Library com execução através do Google Colaboratory.\n",
        "\n",
        " Gensim Python Library é uma biblioteca open-source para modelagem de tópicos não supervisionados e processamento de linguagem.\n",
        "Implementado em Python e Cython. \n",
        "Projetado para lidar com grandes volumes de texto, usando fluxo de dados e algoritmos on-line incrementais. \n",
        "Seu diferencial em relação a maioria dos outros software para aprendizado de máquina os quais visam apenas o processamento em memória.<br>\n",
        "\n",
        "Modelo Word2Vec disponibilizado em:\n",
        "http://nilc.icmc.usp.br/embeddings\n",
        "\n",
        "Documentação complementar:\n",
        "https://medium.com/analytics-vidhya/word2vector-using-gensim-e055d35f1cb4"
      ]
    },
    {
      "cell_type": "markdown",
      "metadata": {
        "id": "-FSWa6_L0GON"
      },
      "source": [
        "# Preparação do ambiente\n",
        "Preparação do ambiente para executar o gensim."
      ]
    },
    {
      "cell_type": "markdown",
      "metadata": {
        "id": "gE_YWR2yvfqk"
      },
      "source": [
        "##Tratamento de logs"
      ]
    },
    {
      "cell_type": "code",
      "metadata": {
        "id": "RR37-oPNvcSL"
      },
      "source": [
        "#Biblioteca de logging\n",
        "import logging\n",
        "\n",
        "#Formato da mensagem\n",
        "logging.basicConfig(format='%(asctime)s : %(levelname)s : %(message)s', level=logging.INFO)"
      ],
      "execution_count": 1,
      "outputs": []
    },
    {
      "cell_type": "markdown",
      "metadata": {
        "id": "RlZIDQO3Ax6w"
      },
      "source": [
        "## Parâmetros\n",
        "\n",
        "Parâmetros da execução do notebook.\n",
        "\n",
        "Nome dos modelos em http://nilc.icmc.usp.br/embeddings."
      ]
    },
    {
      "cell_type": "code",
      "metadata": {
        "id": "5IDnDVVBA27l"
      },
      "source": [
        "\n",
        "#Definição do nome do arquivo compactado do modelo\n",
        "arquivoModeloCompactado = 'cbow_s100.zip'\n",
        "\n",
        "\n",
        "#Definição do nome do arquivo do modelo\n",
        "arquivoModelo = 'cbow_s100.txt'\n",
        "\n",
        "logging.info('Parâmetros definidos!')"
      ],
      "execution_count": 2,
      "outputs": []
    },
    {
      "cell_type": "markdown",
      "metadata": {
        "id": "ZxFiqbpPQ-CR"
      },
      "source": [
        "## Instalação biblioteca"
      ]
    },
    {
      "cell_type": "markdown",
      "metadata": {
        "id": "HdjN6H6t_L08"
      },
      "source": [
        "Instalando o gensim no Google Colaboratory.\n",
        "\n",
        "No Jupiter Notebook executar através \"Anaconda Prompt\".\n"
      ]
    },
    {
      "cell_type": "code",
      "metadata": {
        "id": "BGFVnIzQGrEH",
        "outputId": "03e8d489-4d01-4af9-98de-a7c03a1c877a",
        "colab": {
          "base_uri": "https://localhost:8080/"
        }
      },
      "source": [
        "#!pip install -U gensim\n",
        "!pip install -U gensim==3.8.1"
      ],
      "execution_count": 3,
      "outputs": [
        {
          "output_type": "stream",
          "name": "stdout",
          "text": [
            "Looking in indexes: https://pypi.org/simple, https://us-python.pkg.dev/colab-wheels/public/simple/\n",
            "Requirement already satisfied: gensim==3.8.1 in /usr/local/lib/python3.9/dist-packages (3.8.1)\n",
            "Requirement already satisfied: six>=1.5.0 in /usr/local/lib/python3.9/dist-packages (from gensim==3.8.1) (1.15.0)\n",
            "Requirement already satisfied: smart-open>=1.8.1 in /usr/local/lib/python3.9/dist-packages (from gensim==3.8.1) (6.3.0)\n",
            "Requirement already satisfied: numpy>=1.11.3 in /usr/local/lib/python3.9/dist-packages (from gensim==3.8.1) (1.22.4)\n",
            "Requirement already satisfied: scipy>=0.18.1 in /usr/local/lib/python3.9/dist-packages (from gensim==3.8.1) (1.10.1)\n"
          ]
        }
      ]
    },
    {
      "cell_type": "markdown",
      "metadata": {
        "id": "T_dW1tLxwgSM"
      },
      "source": [
        "## Download modelo\n",
        "\n",
        "Para usar o Gensim, você pode criar o seu vetor de palavras e treiná-lo ou utilizar um dataset previamente treinado.\n",
        "\n",
        "Neste apresentação utilizamos o dataset fornecido por Kyubyong Park, disponível em http://143.107.183.175:22980/download.php?file=embeddings/word2vec/cbow_s100.zip\n",
        "\n",
        "São dados da Wikipidia Brasileira com:<br>\n",
        "*   100 dimensões\n",
        "*   850Mb Corpus\n",
        "*   929606 vocabulário\n",
        "\n",
        "Outros modelos em  :\n",
        "http://nilc.icmc.usp.br/embeddings"
      ]
    },
    {
      "cell_type": "code",
      "source": [
        "# Realiza o download do arquivo do modelo para o diretório corrente\n",
        "!wget -O $arquivoModeloCompactado http://143.107.183.175:22980/download.php?file=embeddings/word2vec/$arquivoModeloCompactado"
      ],
      "metadata": {
        "colab": {
          "base_uri": "https://localhost:8080/"
        },
        "id": "b3ezweefSCdJ",
        "outputId": "86de626c-d4b9-4d40-8086-ad757e0edbb7"
      },
      "execution_count": 4,
      "outputs": [
        {
          "output_type": "stream",
          "name": "stdout",
          "text": [
            "--2023-03-12 23:12:17--  http://143.107.183.175:22980/download.php?file=embeddings/word2vec/cbow_s100.zip\n",
            "Connecting to 143.107.183.175:22980... connected.\n",
            "HTTP request sent, awaiting response... 200 OK\n",
            "Length: 326003567 (311M) [application/octet-stream]\n",
            "Saving to: ‘cbow_s100.zip’\n",
            "\n",
            "cbow_s100.zip       100%[===================>] 310.90M  11.2MB/s    in 29s     \n",
            "\n",
            "2023-03-12 23:12:46 (10.8 MB/s) - ‘cbow_s100.zip’ saved [326003567/326003567]\n",
            "\n"
          ]
        }
      ]
    },
    {
      "cell_type": "markdown",
      "metadata": {
        "id": "Si8lVLtpNgoJ"
      },
      "source": [
        "Descompacta o arquivo do modelo."
      ]
    },
    {
      "cell_type": "code",
      "source": [
        "!unzip -o -j -q \"$arquivoModeloCompactado\" -d \".\"\n",
        "\n",
        "logging.info(\"Terminei a descompactação.\")"
      ],
      "metadata": {
        "id": "HmkLeNsNVnfv"
      },
      "execution_count": 5,
      "outputs": []
    },
    {
      "cell_type": "markdown",
      "metadata": {
        "id": "AYvmZSOvZXUm"
      },
      "source": [
        "Mostra o diretório corrente e seus arquivos."
      ]
    },
    {
      "cell_type": "code",
      "metadata": {
        "id": "0EtGSyDWXDxX",
        "outputId": "f78acb02-7fb5-488b-c6b5-ac104ffa04b1",
        "colab": {
          "base_uri": "https://localhost:8080/"
        }
      },
      "source": [
        "!pwd\n",
        "!ls -la"
      ],
      "execution_count": 6,
      "outputs": [
        {
          "output_type": "stream",
          "name": "stdout",
          "text": [
            "/content\n",
            "total 1189464\n",
            "drwxr-xr-x 1 root root      4096 Mar 12 23:12 .\n",
            "drwxr-xr-x 1 root root      4096 Mar 12 23:07 ..\n",
            "-rw-r--r-- 1 root root 891982906 Oct  4  2018 cbow_s100.txt\n",
            "-rw-r--r-- 1 root root 326003567 Mar 12 23:12 cbow_s100.zip\n",
            "drwxr-xr-x 4 root root      4096 Mar  9 18:57 .config\n",
            "drwxr-xr-x 1 root root      4096 Mar  9 18:58 sample_data\n"
          ]
        }
      ]
    },
    {
      "cell_type": "markdown",
      "metadata": {
        "id": "gbz-JcsZSARV"
      },
      "source": [
        "# Prepara o modelo\n",
        "Carrega as bibliotecas e modelo pré treinado para executar os exemplos."
      ]
    },
    {
      "cell_type": "markdown",
      "metadata": {
        "id": "yXRXXPxVOzci"
      },
      "source": [
        "##Importando as bibliotecas do Gensim\n",
        "Importa as bibliotecas do Gensim para carregar o modelo pré treinado."
      ]
    },
    {
      "cell_type": "code",
      "metadata": {
        "id": "oN7EnHE8OzLj"
      },
      "source": [
        "from IPython.display import display, HTML\n",
        "from jinja2 import Template\n",
        "\n",
        "import warnings\n",
        "warnings.filterwarnings('ignore')\n",
        "\n",
        "import numpy as np  \n",
        "import gensim\n",
        "from gensim.models import Word2Vec\n",
        "from gensim.models import KeyedVectors\n",
        "\n",
        "logging.info('Import realizado!')"
      ],
      "execution_count": 7,
      "outputs": []
    },
    {
      "cell_type": "markdown",
      "metadata": {
        "id": "Ysl3AA3sPPJK"
      },
      "source": [
        "##Carregando o modelo"
      ]
    },
    {
      "cell_type": "code",
      "source": [
        "model = KeyedVectors.load_word2vec_format(arquivoModelo)\n",
        "logging.info('Modelo carregado!')"
      ],
      "metadata": {
        "id": "pTZxGvpwXP-s"
      },
      "execution_count": 8,
      "outputs": []
    },
    {
      "cell_type": "markdown",
      "metadata": {
        "id": "7SpWla9ZPcSs"
      },
      "source": [
        "Mostra alguns dados do modelo carregado para saber se ele foi carregado."
      ]
    },
    {
      "cell_type": "code",
      "metadata": {
        "id": "7fvMeXqkPB4Z",
        "outputId": "83119912-e4d0-4b1f-9709-4eb41d7c2e10",
        "colab": {
          "base_uri": "https://localhost:8080/"
        }
      },
      "source": [
        "print(model)"
      ],
      "execution_count": 9,
      "outputs": [
        {
          "output_type": "stream",
          "name": "stdout",
          "text": [
            "<gensim.models.keyedvectors.Word2VecKeyedVectors object at 0x7f90701d28e0>\n"
          ]
        }
      ]
    },
    {
      "cell_type": "markdown",
      "source": [
        "A palavra `rei` possui entrada no modelo e um conjunto de pesos."
      ],
      "metadata": {
        "id": "02MSfvGZE_XU"
      }
    },
    {
      "cell_type": "code",
      "source": [
        "print(len(model['rei']))\n",
        "print(model['rei'])"
      ],
      "metadata": {
        "colab": {
          "base_uri": "https://localhost:8080/"
        },
        "id": "K0iBJifdE-x1",
        "outputId": "09c08660-ba61-4bce-af58-f7369ed5a58b"
      },
      "execution_count": 10,
      "outputs": [
        {
          "output_type": "stream",
          "name": "stdout",
          "text": [
            "100\n",
            "[-0.112856 -0.031181 -0.082636  0.02254   0.465806  0.036634 -0.298364\n",
            " -0.008195 -0.179189 -0.211212 -0.161554  0.10146  -0.322099 -0.052593\n",
            "  0.122636  0.050005  0.253793  0.152922  0.074108 -0.225479 -0.210047\n",
            "  0.287319  0.03736   0.168659 -0.552812  0.365903 -0.127217 -0.254735\n",
            "  0.485083  0.27677   0.154973 -0.058206 -0.169606 -0.280174 -0.07972\n",
            " -0.487805  0.503746 -0.250429  0.044544  0.194235 -0.23043  -0.094684\n",
            "  0.115602 -0.345173  0.413301 -0.044894 -0.039231 -0.033985  0.034322\n",
            " -0.281035  0.116224 -0.148824 -0.372722  0.06823  -0.397361 -0.174968\n",
            "  0.3687    0.086867  0.147501 -0.319509 -0.466883 -0.224919  0.081631\n",
            "  0.010889  0.098368  0.220969  0.163031 -0.423855  0.079595 -0.249087\n",
            " -0.423565 -0.13188  -0.233184 -0.302046 -0.047613 -0.492572  0.183027\n",
            "  0.036602 -0.238503 -0.031511  0.160806  0.049208  0.216763 -0.005949\n",
            "  0.587419 -0.277021 -0.074845 -0.343154  0.006842 -0.213375 -0.050197\n",
            " -0.172439 -0.021656  0.04522   0.012773  0.099418 -0.100936 -0.004556\n",
            " -0.514799  0.015453]\n"
          ]
        }
      ]
    },
    {
      "cell_type": "markdown",
      "metadata": {
        "id": "fsTQ5rPvr0lt"
      },
      "source": [
        "Mostra as 10 palavras mais similares a `rei`."
      ]
    },
    {
      "cell_type": "code",
      "metadata": {
        "id": "UPbz8n6Or34Y",
        "outputId": "e09cddf1-e5d8-4a95-95a6-d94ede4d3ba4",
        "colab": {
          "base_uri": "https://localhost:8080/"
        }
      },
      "source": [
        "model.most_similar('rei')"
      ],
      "execution_count": 11,
      "outputs": [
        {
          "output_type": "execute_result",
          "data": {
            "text/plain": [
              "[('imperador', 0.8816402554512024),\n",
              " ('príncipe', 0.8355997800827026),\n",
              " ('ex-rei', 0.8098279237747192),\n",
              " ('monarca', 0.8086540102958679),\n",
              " ('príncipe-herdeiro', 0.7889789938926697),\n",
              " ('faraó', 0.788607120513916),\n",
              " ('sacro-imperador', 0.7805774211883545),\n",
              " ('grão-príncipe', 0.7798528075218201),\n",
              " ('príncipe-regente', 0.7620863914489746),\n",
              " ('sultão', 0.7619082927703857)]"
            ]
          },
          "metadata": {},
          "execution_count": 11
        }
      ]
    },
    {
      "cell_type": "markdown",
      "metadata": {
        "id": "6xlt_r14Qkyn"
      },
      "source": [
        "##Função de apresentação dos dados\n",
        "Função para melhorar a apresentação dos dados dos exemplos."
      ]
    },
    {
      "cell_type": "code",
      "metadata": {
        "id": "5iVDsYpYQiuW"
      },
      "source": [
        "table_list_template = \"\"\" \n",
        "<table> \n",
        "        <tr>  \n",
        "           <th>Palavra</th>   \n",
        "           <th>Similaridade</th>   \n",
        "        </tr>  \n",
        "        {% for item in items%}  \n",
        "        <TR>     \n",
        "           <TD class=\"c1\">{{item[0]}}</TD>     \n",
        "           <TD class=\"c2\">{{item[1]}}</TD>   \n",
        "        </TR>   \n",
        "        {% endfor %}\n",
        "</table> \n",
        "\"\"\"\n",
        "def most_similar(positive, negative):\n",
        "    nn = model.most_similar(positive=positive, negative=negative)\n",
        "    tmpl = Template(table_list_template)\n",
        "    output_html = tmpl.render(items=nn)\n",
        "    return HTML(output_html)\n",
        "\n",
        "logging.info('Função criada')"
      ],
      "execution_count": 12,
      "outputs": []
    },
    {
      "cell_type": "markdown",
      "metadata": {
        "id": "3ik0m91YSiwn"
      },
      "source": [
        "# Exemplos"
      ]
    },
    {
      "cell_type": "markdown",
      "metadata": {
        "id": "Pv3x2kEhXKOu"
      },
      "source": [
        "**DICA**:<br>\n",
        "Para palavras com sinais léxicos, utilizar o caractere \"**u**\" antes da mesma para codifica-la como utf-8.\n"
      ]
    },
    {
      "cell_type": "markdown",
      "metadata": {
        "id": "xbVbBUdJ-yki"
      },
      "source": [
        "## Comparando palavras diferentes"
      ]
    },
    {
      "cell_type": "markdown",
      "metadata": {
        "id": "BjXmJYYTXaoa"
      },
      "source": [
        "Rei + Mulher – Homem = ?"
      ]
    },
    {
      "cell_type": "code",
      "metadata": {
        "id": "gOiNNbclQyK9",
        "outputId": "4841a37d-3d9b-4088-ffe1-2df240895aa3",
        "colab": {
          "base_uri": "https://localhost:8080/",
          "height": 254
        }
      },
      "source": [
        "most_similar(positive=['rei','mulher'], negative=['homem'])"
      ],
      "execution_count": 13,
      "outputs": [
        {
          "output_type": "execute_result",
          "data": {
            "text/plain": [
              "<IPython.core.display.HTML object>"
            ],
            "text/html": [
              " \n",
              "<table> \n",
              "        <tr>  \n",
              "           <th>Palavra</th>   \n",
              "           <th>Similaridade</th>   \n",
              "        </tr>  \n",
              "          \n",
              "        <TR>     \n",
              "           <TD class=\"c1\">esposa</TD>     \n",
              "           <TD class=\"c2\">0.688875675201416</TD>   \n",
              "        </TR>   \n",
              "          \n",
              "        <TR>     \n",
              "           <TD class=\"c1\">filha</TD>     \n",
              "           <TD class=\"c2\">0.6741011142730713</TD>   \n",
              "        </TR>   \n",
              "          \n",
              "        <TR>     \n",
              "           <TD class=\"c1\">governanta</TD>     \n",
              "           <TD class=\"c2\">0.6724554896354675</TD>   \n",
              "        </TR>   \n",
              "          \n",
              "        <TR>     \n",
              "           <TD class=\"c1\">sobrinha</TD>     \n",
              "           <TD class=\"c2\">0.669994056224823</TD>   \n",
              "        </TR>   \n",
              "          \n",
              "        <TR>     \n",
              "           <TD class=\"c1\">madrasta</TD>     \n",
              "           <TD class=\"c2\">0.6670832633972168</TD>   \n",
              "        </TR>   \n",
              "          \n",
              "        <TR>     \n",
              "           <TD class=\"c1\">concubina</TD>     \n",
              "           <TD class=\"c2\">0.6659663915634155</TD>   \n",
              "        </TR>   \n",
              "          \n",
              "        <TR>     \n",
              "           <TD class=\"c1\">dama-de-companhia</TD>     \n",
              "           <TD class=\"c2\">0.6614803075790405</TD>   \n",
              "        </TR>   \n",
              "          \n",
              "        <TR>     \n",
              "           <TD class=\"c1\">benção</TD>     \n",
              "           <TD class=\"c2\">0.659320056438446</TD>   \n",
              "        </TR>   \n",
              "          \n",
              "        <TR>     \n",
              "           <TD class=\"c1\">múmia</TD>     \n",
              "           <TD class=\"c2\">0.6535747051239014</TD>   \n",
              "        </TR>   \n",
              "          \n",
              "        <TR>     \n",
              "           <TD class=\"c1\">bênção</TD>     \n",
              "           <TD class=\"c2\">0.6500141620635986</TD>   \n",
              "        </TR>   \n",
              "        \n",
              "</table> "
            ]
          },
          "metadata": {},
          "execution_count": 13
        }
      ]
    },
    {
      "cell_type": "markdown",
      "metadata": {
        "id": "eSOaOjWOXjPo"
      },
      "source": [
        "Rainha + Homem – Mulher = ?"
      ]
    },
    {
      "cell_type": "code",
      "metadata": {
        "id": "-srA-OejXm-n",
        "outputId": "4f7fe4d7-39fa-4c22-eac7-149d48c9ba15",
        "colab": {
          "base_uri": "https://localhost:8080/",
          "height": 254
        }
      },
      "source": [
        "most_similar(positive=[u'rainha',u'homem'], negative=[u'mulher'])"
      ],
      "execution_count": 14,
      "outputs": [
        {
          "output_type": "execute_result",
          "data": {
            "text/plain": [
              "<IPython.core.display.HTML object>"
            ],
            "text/html": [
              " \n",
              "<table> \n",
              "        <tr>  \n",
              "           <th>Palavra</th>   \n",
              "           <th>Similaridade</th>   \n",
              "        </tr>  \n",
              "          \n",
              "        <TR>     \n",
              "           <TD class=\"c1\">rapaz</TD>     \n",
              "           <TD class=\"c2\">0.596022367477417</TD>   \n",
              "        </TR>   \n",
              "          \n",
              "        <TR>     \n",
              "           <TD class=\"c1\">moço</TD>     \n",
              "           <TD class=\"c2\">0.5901416540145874</TD>   \n",
              "        </TR>   \n",
              "          \n",
              "        <TR>     \n",
              "           <TD class=\"c1\">frêmito</TD>     \n",
              "           <TD class=\"c2\">0.5900194048881531</TD>   \n",
              "        </TR>   \n",
              "          \n",
              "        <TR>     \n",
              "           <TD class=\"c1\">pescador</TD>     \n",
              "           <TD class=\"c2\">0.5842908620834351</TD>   \n",
              "        </TR>   \n",
              "          \n",
              "        <TR>     \n",
              "           <TD class=\"c1\">rei</TD>     \n",
              "           <TD class=\"c2\">0.5820015668869019</TD>   \n",
              "        </TR>   \n",
              "          \n",
              "        <TR>     \n",
              "           <TD class=\"c1\">energúmeno</TD>     \n",
              "           <TD class=\"c2\">0.5774465799331665</TD>   \n",
              "        </TR>   \n",
              "          \n",
              "        <TR>     \n",
              "           <TD class=\"c1\">prelado</TD>     \n",
              "           <TD class=\"c2\">0.5773632526397705</TD>   \n",
              "        </TR>   \n",
              "          \n",
              "        <TR>     \n",
              "           <TD class=\"c1\">herói</TD>     \n",
              "           <TD class=\"c2\">0.5767453908920288</TD>   \n",
              "        </TR>   \n",
              "          \n",
              "        <TR>     \n",
              "           <TD class=\"c1\">fazendeiro</TD>     \n",
              "           <TD class=\"c2\">0.5760965943336487</TD>   \n",
              "        </TR>   \n",
              "          \n",
              "        <TR>     \n",
              "           <TD class=\"c1\">panegírico</TD>     \n",
              "           <TD class=\"c2\">0.5754228234291077</TD>   \n",
              "        </TR>   \n",
              "        \n",
              "</table> "
            ]
          },
          "metadata": {},
          "execution_count": 14
        }
      ]
    },
    {
      "cell_type": "markdown",
      "metadata": {
        "id": "UqXKhIKJSsld"
      },
      "source": [
        "Brasil + Criminalidade = ?"
      ]
    },
    {
      "cell_type": "code",
      "metadata": {
        "id": "KjQ4Tw2xStdH",
        "outputId": "50a651be-dfbb-4fc4-a6a4-b45b65b5b640",
        "colab": {
          "base_uri": "https://localhost:8080/",
          "height": 254
        }
      },
      "source": [
        "most_similar(positive=['brasil',u'criminalidade'], negative=[])"
      ],
      "execution_count": 15,
      "outputs": [
        {
          "output_type": "execute_result",
          "data": {
            "text/plain": [
              "<IPython.core.display.HTML object>"
            ],
            "text/html": [
              " \n",
              "<table> \n",
              "        <tr>  \n",
              "           <th>Palavra</th>   \n",
              "           <th>Similaridade</th>   \n",
              "        </tr>  \n",
              "          \n",
              "        <TR>     \n",
              "           <TD class=\"c1\">haiti</TD>     \n",
              "           <TD class=\"c2\">0.6928510665893555</TD>   \n",
              "        </TR>   \n",
              "          \n",
              "        <TR>     \n",
              "           <TD class=\"c1\">mèdio-oriente</TD>     \n",
              "           <TD class=\"c2\">0.6729540228843689</TD>   \n",
              "        </TR>   \n",
              "          \n",
              "        <TR>     \n",
              "           <TD class=\"c1\">ocidente</TD>     \n",
              "           <TD class=\"c2\">0.6618376970291138</TD>   \n",
              "        </TR>   \n",
              "          \n",
              "        <TR>     \n",
              "           <TD class=\"c1\">japão</TD>     \n",
              "           <TD class=\"c2\">0.6592309474945068</TD>   \n",
              "        </TR>   \n",
              "          \n",
              "        <TR>     \n",
              "           <TD class=\"c1\">emtanto</TD>     \n",
              "           <TD class=\"c2\">0.6588366031646729</TD>   \n",
              "        </TR>   \n",
              "          \n",
              "        <TR>     \n",
              "           <TD class=\"c1\">luxembur-go</TD>     \n",
              "           <TD class=\"c2\">0.653160572052002</TD>   \n",
              "        </TR>   \n",
              "          \n",
              "        <TR>     \n",
              "           <TD class=\"c1\">eixo-x</TD>     \n",
              "           <TD class=\"c2\">0.6494155526161194</TD>   \n",
              "        </TR>   \n",
              "          \n",
              "        <TR>     \n",
              "           <TD class=\"c1\">mediterrâ-neo</TD>     \n",
              "           <TD class=\"c2\">0.6454843282699585</TD>   \n",
              "        </TR>   \n",
              "          \n",
              "        <TR>     \n",
              "           <TD class=\"c1\">romildão</TD>     \n",
              "           <TD class=\"c2\">0.6439343690872192</TD>   \n",
              "        </TR>   \n",
              "          \n",
              "        <TR>     \n",
              "           <TD class=\"c1\">desemprego</TD>     \n",
              "           <TD class=\"c2\">0.6430919170379639</TD>   \n",
              "        </TR>   \n",
              "        \n",
              "</table> "
            ]
          },
          "metadata": {},
          "execution_count": 15
        }
      ]
    },
    {
      "cell_type": "markdown",
      "metadata": {
        "id": "mDAZ8ZsWXxno"
      },
      "source": [
        "Outros exemplos:"
      ]
    },
    {
      "cell_type": "code",
      "metadata": {
        "id": "ibhqcCc1Xzv6",
        "outputId": "1ba26600-ad24-4e6a-ed3d-8b4cca19dffa",
        "colab": {
          "base_uri": "https://localhost:8080/",
          "height": 254
        }
      },
      "source": [
        "most_similar(positive=['presidente'], negative=['poder'])"
      ],
      "execution_count": 16,
      "outputs": [
        {
          "output_type": "execute_result",
          "data": {
            "text/plain": [
              "<IPython.core.display.HTML object>"
            ],
            "text/html": [
              " \n",
              "<table> \n",
              "        <tr>  \n",
              "           <th>Palavra</th>   \n",
              "           <th>Similaridade</th>   \n",
              "        </tr>  \n",
              "          \n",
              "        <TR>     \n",
              "           <TD class=\"c1\">vice-presidente</TD>     \n",
              "           <TD class=\"c2\">0.5463547706604004</TD>   \n",
              "        </TR>   \n",
              "          \n",
              "        <TR>     \n",
              "           <TD class=\"c1\">presi-dente</TD>     \n",
              "           <TD class=\"c2\">0.5321359038352966</TD>   \n",
              "        </TR>   \n",
              "          \n",
              "        <TR>     \n",
              "           <TD class=\"c1\">diretor-presidente</TD>     \n",
              "           <TD class=\"c2\">0.504767894744873</TD>   \n",
              "        </TR>   \n",
              "          \n",
              "        <TR>     \n",
              "           <TD class=\"c1\">diretor-executivo</TD>     \n",
              "           <TD class=\"c2\">0.49954473972320557</TD>   \n",
              "        </TR>   \n",
              "          \n",
              "        <TR>     \n",
              "           <TD class=\"c1\">pre-sidente</TD>     \n",
              "           <TD class=\"c2\">0.4853348731994629</TD>   \n",
              "        </TR>   \n",
              "          \n",
              "        <TR>     \n",
              "           <TD class=\"c1\">presidenta</TD>     \n",
              "           <TD class=\"c2\">0.4851401448249817</TD>   \n",
              "        </TR>   \n",
              "          \n",
              "        <TR>     \n",
              "           <TD class=\"c1\">presidente-executivo</TD>     \n",
              "           <TD class=\"c2\">0.4699709415435791</TD>   \n",
              "        </TR>   \n",
              "          \n",
              "        <TR>     \n",
              "           <TD class=\"c1\">co-presidente</TD>     \n",
              "           <TD class=\"c2\">0.4606279134750366</TD>   \n",
              "        </TR>   \n",
              "          \n",
              "        <TR>     \n",
              "           <TD class=\"c1\">primeiro-secretário</TD>     \n",
              "           <TD class=\"c2\">0.45781007409095764</TD>   \n",
              "        </TR>   \n",
              "          \n",
              "        <TR>     \n",
              "           <TD class=\"c1\">senadora</TD>     \n",
              "           <TD class=\"c2\">0.4525180459022522</TD>   \n",
              "        </TR>   \n",
              "        \n",
              "</table> "
            ]
          },
          "metadata": {},
          "execution_count": 16
        }
      ]
    },
    {
      "cell_type": "code",
      "metadata": {
        "id": "DPcPNH25X8ph",
        "outputId": "73392d7f-8e5e-46a8-811f-d7c5e54dd8ee",
        "colab": {
          "base_uri": "https://localhost:8080/",
          "height": 254
        }
      },
      "source": [
        "most_similar(positive=['brasil','estudo'], negative=['carnaval'])"
      ],
      "execution_count": 17,
      "outputs": [
        {
          "output_type": "execute_result",
          "data": {
            "text/plain": [
              "<IPython.core.display.HTML object>"
            ],
            "text/html": [
              " \n",
              "<table> \n",
              "        <tr>  \n",
              "           <th>Palavra</th>   \n",
              "           <th>Similaridade</th>   \n",
              "        </tr>  \n",
              "          \n",
              "        <TR>     \n",
              "           <TD class=\"c1\">mapa</TD>     \n",
              "           <TD class=\"c2\">0.6093395948410034</TD>   \n",
              "        </TR>   \n",
              "          \n",
              "        <TR>     \n",
              "           <TD class=\"c1\">radiofármaco</TD>     \n",
              "           <TD class=\"c2\">0.5723233819007874</TD>   \n",
              "        </TR>   \n",
              "          \n",
              "        <TR>     \n",
              "           <TD class=\"c1\">levantamento</TD>     \n",
              "           <TD class=\"c2\">0.5550849437713623</TD>   \n",
              "        </TR>   \n",
              "          \n",
              "        <TR>     \n",
              "           <TD class=\"c1\">periódico</TD>     \n",
              "           <TD class=\"c2\">0.5530095100402832</TD>   \n",
              "        </TR>   \n",
              "          \n",
              "        <TR>     \n",
              "           <TD class=\"c1\">glog</TD>     \n",
              "           <TD class=\"c2\">0.5420612096786499</TD>   \n",
              "        </TR>   \n",
              "          \n",
              "        <TR>     \n",
              "           <TD class=\"c1\">caixabi</TD>     \n",
              "           <TD class=\"c2\">0.5415791273117065</TD>   \n",
              "        </TR>   \n",
              "          \n",
              "        <TR>     \n",
              "           <TD class=\"c1\">tópico</TD>     \n",
              "           <TD class=\"c2\">0.5360736846923828</TD>   \n",
              "        </TR>   \n",
              "          \n",
              "        <TR>     \n",
              "           <TD class=\"c1\">relatório</TD>     \n",
              "           <TD class=\"c2\">0.5359439253807068</TD>   \n",
              "        </TR>   \n",
              "          \n",
              "        <TR>     \n",
              "           <TD class=\"c1\">avaliador</TD>     \n",
              "           <TD class=\"c2\">0.5354235172271729</TD>   \n",
              "        </TR>   \n",
              "          \n",
              "        <TR>     \n",
              "           <TD class=\"c1\">falso-positivo</TD>     \n",
              "           <TD class=\"c2\">0.5353557467460632</TD>   \n",
              "        </TR>   \n",
              "        \n",
              "</table> "
            ]
          },
          "metadata": {},
          "execution_count": 17
        }
      ]
    },
    {
      "cell_type": "code",
      "metadata": {
        "id": "Ab_htKHBX-GS",
        "outputId": "b8f05c6e-c24e-4317-8c89-89a30a996096",
        "colab": {
          "base_uri": "https://localhost:8080/",
          "height": 254
        }
      },
      "source": [
        "most_similar(positive=['brasil','universidade'], negative=[])"
      ],
      "execution_count": 18,
      "outputs": [
        {
          "output_type": "execute_result",
          "data": {
            "text/plain": [
              "<IPython.core.display.HTML object>"
            ],
            "text/html": [
              " \n",
              "<table> \n",
              "        <tr>  \n",
              "           <th>Palavra</th>   \n",
              "           <th>Similaridade</th>   \n",
              "        </tr>  \n",
              "          \n",
              "        <TR>     \n",
              "           <TD class=\"c1\">grand-palais</TD>     \n",
              "           <TD class=\"c2\">0.682594895362854</TD>   \n",
              "        </TR>   \n",
              "          \n",
              "        <TR>     \n",
              "           <TD class=\"c1\">liceu</TD>     \n",
              "           <TD class=\"c2\">0.6681314706802368</TD>   \n",
              "        </TR>   \n",
              "          \n",
              "        <TR>     \n",
              "           <TD class=\"c1\">teatro-cine</TD>     \n",
              "           <TD class=\"c2\">0.6585229635238647</TD>   \n",
              "        </TR>   \n",
              "          \n",
              "        <TR>     \n",
              "           <TD class=\"c1\">denny's</TD>     \n",
              "           <TD class=\"c2\">0.6575984358787537</TD>   \n",
              "        </TR>   \n",
              "          \n",
              "        <TR>     \n",
              "           <TD class=\"c1\">euro00</TD>     \n",
              "           <TD class=\"c2\">0.6547542810440063</TD>   \n",
              "        </TR>   \n",
              "          \n",
              "        <TR>     \n",
              "           <TD class=\"c1\">lu-xemburgo</TD>     \n",
              "           <TD class=\"c2\">0.6533187627792358</TD>   \n",
              "        </TR>   \n",
              "          \n",
              "        <TR>     \n",
              "           <TD class=\"c1\">ymca</TD>     \n",
              "           <TD class=\"c2\">0.6502247452735901</TD>   \n",
              "        </TR>   \n",
              "          \n",
              "        <TR>     \n",
              "           <TD class=\"c1\">hoftheater</TD>     \n",
              "           <TD class=\"c2\">0.6485137939453125</TD>   \n",
              "        </TR>   \n",
              "          \n",
              "        <TR>     \n",
              "           <TD class=\"c1\">contraturno</TD>     \n",
              "           <TD class=\"c2\">0.6484383344650269</TD>   \n",
              "        </TR>   \n",
              "          \n",
              "        <TR>     \n",
              "           <TD class=\"c1\">institudo</TD>     \n",
              "           <TD class=\"c2\">0.6469014883041382</TD>   \n",
              "        </TR>   \n",
              "        \n",
              "</table> "
            ]
          },
          "metadata": {},
          "execution_count": 18
        }
      ]
    },
    {
      "cell_type": "code",
      "metadata": {
        "id": "O-JbOjb5X_x4",
        "outputId": "97c7412e-d74c-430d-90b5-dcac8d3b7f94",
        "colab": {
          "base_uri": "https://localhost:8080/",
          "height": 254
        }
      },
      "source": [
        "most_similar(positive=[u'homem',u'máquina'], negative=[])"
      ],
      "execution_count": 19,
      "outputs": [
        {
          "output_type": "execute_result",
          "data": {
            "text/plain": [
              "<IPython.core.display.HTML object>"
            ],
            "text/html": [
              " \n",
              "<table> \n",
              "        <tr>  \n",
              "           <th>Palavra</th>   \n",
              "           <th>Similaridade</th>   \n",
              "        </tr>  \n",
              "          \n",
              "        <TR>     \n",
              "           <TD class=\"c1\">banhista</TD>     \n",
              "           <TD class=\"c2\">0.7167549133300781</TD>   \n",
              "        </TR>   \n",
              "          \n",
              "        <TR>     \n",
              "           <TD class=\"c1\">mototaxi</TD>     \n",
              "           <TD class=\"c2\">0.69287109375</TD>   \n",
              "        </TR>   \n",
              "          \n",
              "        <TR>     \n",
              "           <TD class=\"c1\">guante</TD>     \n",
              "           <TD class=\"c2\">0.6866202354431152</TD>   \n",
              "        </TR>   \n",
              "          \n",
              "        <TR>     \n",
              "           <TD class=\"c1\">ascensorista</TD>     \n",
              "           <TD class=\"c2\">0.6851589679718018</TD>   \n",
              "        </TR>   \n",
              "          \n",
              "        <TR>     \n",
              "           <TD class=\"c1\">berlinde</TD>     \n",
              "           <TD class=\"c2\">0.6773381233215332</TD>   \n",
              "        </TR>   \n",
              "          \n",
              "        <TR>     \n",
              "           <TD class=\"c1\">manete</TD>     \n",
              "           <TD class=\"c2\">0.6750791668891907</TD>   \n",
              "        </TR>   \n",
              "          \n",
              "        <TR>     \n",
              "           <TD class=\"c1\">vidente</TD>     \n",
              "           <TD class=\"c2\">0.6726037263870239</TD>   \n",
              "        </TR>   \n",
              "          \n",
              "        <TR>     \n",
              "           <TD class=\"c1\">fitinha</TD>     \n",
              "           <TD class=\"c2\">0.6669136881828308</TD>   \n",
              "        </TR>   \n",
              "          \n",
              "        <TR>     \n",
              "           <TD class=\"c1\">rapaz</TD>     \n",
              "           <TD class=\"c2\">0.6660337448120117</TD>   \n",
              "        </TR>   \n",
              "          \n",
              "        <TR>     \n",
              "           <TD class=\"c1\">manifestante</TD>     \n",
              "           <TD class=\"c2\">0.6638906598091125</TD>   \n",
              "        </TR>   \n",
              "        \n",
              "</table> "
            ]
          },
          "metadata": {},
          "execution_count": 19
        }
      ]
    },
    {
      "cell_type": "code",
      "metadata": {
        "id": "0oQPhGYNYB0Z",
        "outputId": "d774c474-b4f1-44eb-a659-a8d9fcdc0826",
        "colab": {
          "base_uri": "https://localhost:8080/",
          "height": 254
        }
      },
      "source": [
        "most_similar(positive=[u'palio',u'vw'], negative=[u'fiat'])"
      ],
      "execution_count": 20,
      "outputs": [
        {
          "output_type": "execute_result",
          "data": {
            "text/plain": [
              "<IPython.core.display.HTML object>"
            ],
            "text/html": [
              " \n",
              "<table> \n",
              "        <tr>  \n",
              "           <th>Palavra</th>   \n",
              "           <th>Similaridade</th>   \n",
              "        </tr>  \n",
              "          \n",
              "        <TR>     \n",
              "           <TD class=\"c1\">fiorino</TD>     \n",
              "           <TD class=\"c2\">0.6193506717681885</TD>   \n",
              "        </TR>   \n",
              "          \n",
              "        <TR>     \n",
              "           <TD class=\"c1\">uno</TD>     \n",
              "           <TD class=\"c2\">0.5799718499183655</TD>   \n",
              "        </TR>   \n",
              "          \n",
              "        <TR>     \n",
              "           <TD class=\"c1\">doblò</TD>     \n",
              "           <TD class=\"c2\">0.5427682399749756</TD>   \n",
              "        </TR>   \n",
              "          \n",
              "        <TR>     \n",
              "           <TD class=\"c1\">mobi</TD>     \n",
              "           <TD class=\"c2\">0.5371865034103394</TD>   \n",
              "        </TR>   \n",
              "          \n",
              "        <TR>     \n",
              "           <TD class=\"c1\">barchetta</TD>     \n",
              "           <TD class=\"c2\">0.49594664573669434</TD>   \n",
              "        </TR>   \n",
              "          \n",
              "        <TR>     \n",
              "           <TD class=\"c1\">ecosport</TD>     \n",
              "           <TD class=\"c2\">0.4901596009731293</TD>   \n",
              "        </TR>   \n",
              "          \n",
              "        <TR>     \n",
              "           <TD class=\"c1\">hb00</TD>     \n",
              "           <TD class=\"c2\">0.48337042331695557</TD>   \n",
              "        </TR>   \n",
              "          \n",
              "        <TR>     \n",
              "           <TD class=\"c1\">veloster</TD>     \n",
              "           <TD class=\"c2\">0.47979307174682617</TD>   \n",
              "        </TR>   \n",
              "          \n",
              "        <TR>     \n",
              "           <TD class=\"c1\">cr.00</TD>     \n",
              "           <TD class=\"c2\">0.47686776518821716</TD>   \n",
              "        </TR>   \n",
              "          \n",
              "        <TR>     \n",
              "           <TD class=\"c1\">stilo</TD>     \n",
              "           <TD class=\"c2\">0.4720591902732849</TD>   \n",
              "        </TR>   \n",
              "        \n",
              "</table> "
            ]
          },
          "metadata": {},
          "execution_count": 20
        }
      ]
    },
    {
      "cell_type": "code",
      "metadata": {
        "id": "tyBdekREYcjh",
        "outputId": "4936ef43-b510-4dc9-c4b6-6f3440b4b9fc",
        "colab": {
          "base_uri": "https://localhost:8080/",
          "height": 254
        }
      },
      "source": [
        "most_similar(positive=[u'roma',u'alemanha'], negative=[u'itália'])"
      ],
      "execution_count": 21,
      "outputs": [
        {
          "output_type": "execute_result",
          "data": {
            "text/plain": [
              "<IPython.core.display.HTML object>"
            ],
            "text/html": [
              " \n",
              "<table> \n",
              "        <tr>  \n",
              "           <th>Palavra</th>   \n",
              "           <th>Similaridade</th>   \n",
              "        </tr>  \n",
              "          \n",
              "        <TR>     \n",
              "           <TD class=\"c1\">avinhão</TD>     \n",
              "           <TD class=\"c2\">0.7504276037216187</TD>   \n",
              "        </TR>   \n",
              "          \n",
              "        <TR>     \n",
              "           <TD class=\"c1\">florença</TD>     \n",
              "           <TD class=\"c2\">0.7407116889953613</TD>   \n",
              "        </TR>   \n",
              "          \n",
              "        <TR>     \n",
              "           <TD class=\"c1\">ravena</TD>     \n",
              "           <TD class=\"c2\">0.7384096384048462</TD>   \n",
              "        </TR>   \n",
              "          \n",
              "        <TR>     \n",
              "           <TD class=\"c1\">constantinopla</TD>     \n",
              "           <TD class=\"c2\">0.7250113487243652</TD>   \n",
              "        </TR>   \n",
              "          \n",
              "        <TR>     \n",
              "           <TD class=\"c1\">sárdis</TD>     \n",
              "           <TD class=\"c2\">0.7127199172973633</TD>   \n",
              "        </TR>   \n",
              "          \n",
              "        <TR>     \n",
              "           <TD class=\"c1\">cartago</TD>     \n",
              "           <TD class=\"c2\">0.7124226093292236</TD>   \n",
              "        </TR>   \n",
              "          \n",
              "        <TR>     \n",
              "           <TD class=\"c1\">veneza</TD>     \n",
              "           <TD class=\"c2\">0.7082253694534302</TD>   \n",
              "        </TR>   \n",
              "          \n",
              "        <TR>     \n",
              "           <TD class=\"c1\">gênova</TD>     \n",
              "           <TD class=\"c2\">0.6928678750991821</TD>   \n",
              "        </TR>   \n",
              "          \n",
              "        <TR>     \n",
              "           <TD class=\"c1\">atenas</TD>     \n",
              "           <TD class=\"c2\">0.6919061541557312</TD>   \n",
              "        </TR>   \n",
              "          \n",
              "        <TR>     \n",
              "           <TD class=\"c1\">amório</TD>     \n",
              "           <TD class=\"c2\">0.6917916536331177</TD>   \n",
              "        </TR>   \n",
              "        \n",
              "</table> "
            ]
          },
          "metadata": {},
          "execution_count": 21
        }
      ]
    },
    {
      "cell_type": "code",
      "metadata": {
        "id": "HBZT91MNYe3a",
        "outputId": "4a22b811-c4d7-4617-e885-e89a4c707878",
        "colab": {
          "base_uri": "https://localhost:8080/",
          "height": 254
        }
      },
      "source": [
        "most_similar(positive=[u'lendo',u'jogado'], negative=[u'lido'])"
      ],
      "execution_count": 22,
      "outputs": [
        {
          "output_type": "execute_result",
          "data": {
            "text/plain": [
              "<IPython.core.display.HTML object>"
            ],
            "text/html": [
              " \n",
              "<table> \n",
              "        <tr>  \n",
              "           <th>Palavra</th>   \n",
              "           <th>Similaridade</th>   \n",
              "        </tr>  \n",
              "          \n",
              "        <TR>     \n",
              "           <TD class=\"c1\">roubando</TD>     \n",
              "           <TD class=\"c2\">0.7006304264068604</TD>   \n",
              "        </TR>   \n",
              "          \n",
              "        <TR>     \n",
              "           <TD class=\"c1\">caçando</TD>     \n",
              "           <TD class=\"c2\">0.6921532154083252</TD>   \n",
              "        </TR>   \n",
              "          \n",
              "        <TR>     \n",
              "           <TD class=\"c1\">descansando</TD>     \n",
              "           <TD class=\"c2\">0.6807905435562134</TD>   \n",
              "        </TR>   \n",
              "          \n",
              "        <TR>     \n",
              "           <TD class=\"c1\">jogando</TD>     \n",
              "           <TD class=\"c2\">0.6715488433837891</TD>   \n",
              "        </TR>   \n",
              "          \n",
              "        <TR>     \n",
              "           <TD class=\"c1\">pegando</TD>     \n",
              "           <TD class=\"c2\">0.6684536933898926</TD>   \n",
              "        </TR>   \n",
              "          \n",
              "        <TR>     \n",
              "           <TD class=\"c1\">consertando</TD>     \n",
              "           <TD class=\"c2\">0.6674917936325073</TD>   \n",
              "        </TR>   \n",
              "          \n",
              "        <TR>     \n",
              "           <TD class=\"c1\">pulando</TD>     \n",
              "           <TD class=\"c2\">0.6585212349891663</TD>   \n",
              "        </TR>   \n",
              "          \n",
              "        <TR>     \n",
              "           <TD class=\"c1\">virando</TD>     \n",
              "           <TD class=\"c2\">0.6568829417228699</TD>   \n",
              "        </TR>   \n",
              "          \n",
              "        <TR>     \n",
              "           <TD class=\"c1\">polindo</TD>     \n",
              "           <TD class=\"c2\">0.6559454202651978</TD>   \n",
              "        </TR>   \n",
              "          \n",
              "        <TR>     \n",
              "           <TD class=\"c1\">fotografando</TD>     \n",
              "           <TD class=\"c2\">0.6485263705253601</TD>   \n",
              "        </TR>   \n",
              "        \n",
              "</table> "
            ]
          },
          "metadata": {},
          "execution_count": 22
        }
      ]
    },
    {
      "cell_type": "code",
      "metadata": {
        "id": "cdIriXbMYhyx",
        "outputId": "bf21d1ee-7e52-4718-f1cd-122b4ff9b296",
        "colab": {
          "base_uri": "https://localhost:8080/",
          "height": 254
        }
      },
      "source": [
        "most_similar(positive=[u'nuvens',u'estrela'], negative=[u'nuvem'])"
      ],
      "execution_count": 23,
      "outputs": [
        {
          "output_type": "execute_result",
          "data": {
            "text/plain": [
              "<IPython.core.display.HTML object>"
            ],
            "text/html": [
              " \n",
              "<table> \n",
              "        <tr>  \n",
              "           <th>Palavra</th>   \n",
              "           <th>Similaridade</th>   \n",
              "        </tr>  \n",
              "          \n",
              "        <TR>     \n",
              "           <TD class=\"c1\">estrelas</TD>     \n",
              "           <TD class=\"c2\">0.6892478466033936</TD>   \n",
              "        </TR>   \n",
              "          \n",
              "        <TR>     \n",
              "           <TD class=\"c1\">galas</TD>     \n",
              "           <TD class=\"c2\">0.6090782880783081</TD>   \n",
              "        </TR>   \n",
              "          \n",
              "        <TR>     \n",
              "           <TD class=\"c1\">sombras</TD>     \n",
              "           <TD class=\"c2\">0.5997710824012756</TD>   \n",
              "        </TR>   \n",
              "          \n",
              "        <TR>     \n",
              "           <TD class=\"c1\">pestanas</TD>     \n",
              "           <TD class=\"c2\">0.5925517082214355</TD>   \n",
              "        </TR>   \n",
              "          \n",
              "        <TR>     \n",
              "           <TD class=\"c1\">luzes</TD>     \n",
              "           <TD class=\"c2\">0.5895289182662964</TD>   \n",
              "        </TR>   \n",
              "          \n",
              "        <TR>     \n",
              "           <TD class=\"c1\">superproduções</TD>     \n",
              "           <TD class=\"c2\">0.5894024968147278</TD>   \n",
              "        </TR>   \n",
              "          \n",
              "        <TR>     \n",
              "           <TD class=\"c1\">canduras</TD>     \n",
              "           <TD class=\"c2\">0.5870558023452759</TD>   \n",
              "        </TR>   \n",
              "          \n",
              "        <TR>     \n",
              "           <TD class=\"c1\">constelações</TD>     \n",
              "           <TD class=\"c2\">0.5854816436767578</TD>   \n",
              "        </TR>   \n",
              "          \n",
              "        <TR>     \n",
              "           <TD class=\"c1\">auras</TD>     \n",
              "           <TD class=\"c2\">0.5834820866584778</TD>   \n",
              "        </TR>   \n",
              "          \n",
              "        <TR>     \n",
              "           <TD class=\"c1\">pombas</TD>     \n",
              "           <TD class=\"c2\">0.5811574459075928</TD>   \n",
              "        </TR>   \n",
              "        \n",
              "</table> "
            ]
          },
          "metadata": {},
          "execution_count": 23
        }
      ]
    },
    {
      "cell_type": "code",
      "metadata": {
        "id": "PMnZabliYjJh",
        "outputId": "d1063a10-79ad-4c61-feca-04a91136a9e1",
        "colab": {
          "base_uri": "https://localhost:8080/",
          "height": 254
        }
      },
      "source": [
        "most_similar(positive=[u'tenista',u'futebol'], negative=[u'tênis'])"
      ],
      "execution_count": 24,
      "outputs": [
        {
          "output_type": "execute_result",
          "data": {
            "text/plain": [
              "<IPython.core.display.HTML object>"
            ],
            "text/html": [
              " \n",
              "<table> \n",
              "        <tr>  \n",
              "           <th>Palavra</th>   \n",
              "           <th>Similaridade</th>   \n",
              "        </tr>  \n",
              "          \n",
              "        <TR>     \n",
              "           <TD class=\"c1\">ciclista</TD>     \n",
              "           <TD class=\"c2\">0.6736171841621399</TD>   \n",
              "        </TR>   \n",
              "          \n",
              "        <TR>     \n",
              "           <TD class=\"c1\">basquetebolista</TD>     \n",
              "           <TD class=\"c2\">0.6411615610122681</TD>   \n",
              "        </TR>   \n",
              "          \n",
              "        <TR>     \n",
              "           <TD class=\"c1\">judoca</TD>     \n",
              "           <TD class=\"c2\">0.636603832244873</TD>   \n",
              "        </TR>   \n",
              "          \n",
              "        <TR>     \n",
              "           <TD class=\"c1\">ex-tenista</TD>     \n",
              "           <TD class=\"c2\">0.6354329586029053</TD>   \n",
              "        </TR>   \n",
              "          \n",
              "        <TR>     \n",
              "           <TD class=\"c1\">golfista</TD>     \n",
              "           <TD class=\"c2\">0.6228874921798706</TD>   \n",
              "        </TR>   \n",
              "          \n",
              "        <TR>     \n",
              "           <TD class=\"c1\">enxadrista</TD>     \n",
              "           <TD class=\"c2\">0.592896044254303</TD>   \n",
              "        </TR>   \n",
              "          \n",
              "        <TR>     \n",
              "           <TD class=\"c1\">naturalizado</TD>     \n",
              "           <TD class=\"c2\">0.590728223323822</TD>   \n",
              "        </TR>   \n",
              "          \n",
              "        <TR>     \n",
              "           <TD class=\"c1\">halterofilista</TD>     \n",
              "           <TD class=\"c2\">0.5863692760467529</TD>   \n",
              "        </TR>   \n",
              "          \n",
              "        <TR>     \n",
              "           <TD class=\"c1\">fundista</TD>     \n",
              "           <TD class=\"c2\">0.5837550163269043</TD>   \n",
              "        </TR>   \n",
              "          \n",
              "        <TR>     \n",
              "           <TD class=\"c1\">triatleta</TD>     \n",
              "           <TD class=\"c2\">0.5834999084472656</TD>   \n",
              "        </TR>   \n",
              "        \n",
              "</table> "
            ]
          },
          "metadata": {},
          "execution_count": 24
        }
      ]
    },
    {
      "cell_type": "code",
      "metadata": {
        "id": "9fC6i2d8YlCx",
        "outputId": "af905ce9-a1de-452f-9d04-126155b02531",
        "colab": {
          "base_uri": "https://localhost:8080/",
          "height": 254
        }
      },
      "source": [
        "most_similar(positive=[u'tenista',u'xadrez'], negative=[u'tênis'])\t"
      ],
      "execution_count": 25,
      "outputs": [
        {
          "output_type": "execute_result",
          "data": {
            "text/plain": [
              "<IPython.core.display.HTML object>"
            ],
            "text/html": [
              " \n",
              "<table> \n",
              "        <tr>  \n",
              "           <th>Palavra</th>   \n",
              "           <th>Similaridade</th>   \n",
              "        </tr>  \n",
              "          \n",
              "        <TR>     \n",
              "           <TD class=\"c1\">golfista</TD>     \n",
              "           <TD class=\"c2\">0.6553205251693726</TD>   \n",
              "        </TR>   \n",
              "          \n",
              "        <TR>     \n",
              "           <TD class=\"c1\">ciclista</TD>     \n",
              "           <TD class=\"c2\">0.6326264142990112</TD>   \n",
              "        </TR>   \n",
              "          \n",
              "        <TR>     \n",
              "           <TD class=\"c1\">enxadrista</TD>     \n",
              "           <TD class=\"c2\">0.6211749315261841</TD>   \n",
              "        </TR>   \n",
              "          \n",
              "        <TR>     \n",
              "           <TD class=\"c1\">basquetebolista</TD>     \n",
              "           <TD class=\"c2\">0.593117356300354</TD>   \n",
              "        </TR>   \n",
              "          \n",
              "        <TR>     \n",
              "           <TD class=\"c1\">ex-tenista</TD>     \n",
              "           <TD class=\"c2\">0.5898265838623047</TD>   \n",
              "        </TR>   \n",
              "          \n",
              "        <TR>     \n",
              "           <TD class=\"c1\">pugilista</TD>     \n",
              "           <TD class=\"c2\">0.5720881223678589</TD>   \n",
              "        </TR>   \n",
              "          \n",
              "        <TR>     \n",
              "           <TD class=\"c1\">montanhista</TD>     \n",
              "           <TD class=\"c2\">0.5706957578659058</TD>   \n",
              "        </TR>   \n",
              "          \n",
              "        <TR>     \n",
              "           <TD class=\"c1\">judoca</TD>     \n",
              "           <TD class=\"c2\">0.5688527822494507</TD>   \n",
              "        </TR>   \n",
              "          \n",
              "        <TR>     \n",
              "           <TD class=\"c1\">cosmonauta</TD>     \n",
              "           <TD class=\"c2\">0.5652159452438354</TD>   \n",
              "        </TR>   \n",
              "          \n",
              "        <TR>     \n",
              "           <TD class=\"c1\">ginasta</TD>     \n",
              "           <TD class=\"c2\">0.5599121451377869</TD>   \n",
              "        </TR>   \n",
              "        \n",
              "</table> "
            ]
          },
          "metadata": {},
          "execution_count": 25
        }
      ]
    },
    {
      "cell_type": "markdown",
      "source": [
        "## Identificando palavras não relacionadas"
      ],
      "metadata": {
        "id": "qIF4uzpi_uND"
      }
    },
    {
      "cell_type": "code",
      "source": [
        "texto = 'laranja maça uva carro banana mamão'\n",
        "palavras = texto.split()\n",
        "print(palavras)\n",
        "\n",
        "#palavras que não correspondem frutas\n",
        "nn = model.wv.doesnt_match(palavras)\n",
        "\n",
        "print(nn)"
      ],
      "metadata": {
        "colab": {
          "base_uri": "https://localhost:8080/"
        },
        "id": "Bkt0Cn0__3q0",
        "outputId": "0d004860-3aef-4c71-cc8f-97feb88f05a0"
      },
      "execution_count": 26,
      "outputs": [
        {
          "output_type": "stream",
          "name": "stdout",
          "text": [
            "['laranja', 'maça', 'uva', 'carro', 'banana', 'mamão']\n",
            "carro\n"
          ]
        }
      ]
    },
    {
      "cell_type": "code",
      "source": [
        "texto = 'martelo serrote uva prego furadeira formão'\n",
        "palavras = texto.split()\n",
        "print(palavras)\n",
        "\n",
        "#palavras que não correspondem frutas\n",
        "nn = model.wv.doesnt_match(palavras)\n",
        "\n",
        "print(nn)"
      ],
      "metadata": {
        "colab": {
          "base_uri": "https://localhost:8080/"
        },
        "id": "UImf-UcIBfKG",
        "outputId": "e93deaa1-b41c-4c1a-e799-fc4343c9de64"
      },
      "execution_count": 27,
      "outputs": [
        {
          "output_type": "stream",
          "name": "stdout",
          "text": [
            "['martelo', 'serrote', 'uva', 'prego', 'furadeira', 'formão']\n",
            "uva\n"
          ]
        }
      ]
    },
    {
      "cell_type": "markdown",
      "metadata": {
        "id": "e1uz3qIc-59h"
      },
      "source": [
        "## Comparando palavras iguais"
      ]
    },
    {
      "cell_type": "markdown",
      "metadata": {
        "id": "omnupN8KDc1L"
      },
      "source": [
        "Sentença de exemplo"
      ]
    },
    {
      "cell_type": "code",
      "metadata": {
        "id": "8FEGlAMwjuQy"
      },
      "source": [
        "texto = \"Depois de roubar o cofre do banco,\"\\\n",
        "        \" o ladrão de banco foi visto \" \\\n",
        "        \"sentado no banco da praça central.\"\n",
        "\n",
        "logging.info('Texto armazenado!')"
      ],
      "execution_count": 28,
      "outputs": []
    },
    {
      "cell_type": "code",
      "metadata": {
        "id": "DedqTrpZEE6K",
        "outputId": "d9b887b8-db3c-46ca-dc1f-05bf74f6380b",
        "colab": {
          "base_uri": "https://localhost:8080/"
        }
      },
      "source": [
        "palavras = [texto.split()]\n",
        "print(palavras)"
      ],
      "execution_count": 29,
      "outputs": [
        {
          "output_type": "stream",
          "name": "stdout",
          "text": [
            "[['Depois', 'de', 'roubar', 'o', 'cofre', 'do', 'banco,', 'o', 'ladrão', 'de', 'banco', 'foi', 'visto', 'sentado', 'no', 'banco', 'da', 'praça', 'central.']]\n"
          ]
        }
      ]
    },
    {
      "cell_type": "markdown",
      "metadata": {
        "id": "zH5mCyBRE9dw"
      },
      "source": [
        "Carrega o vocabulário do modelo somente com as palavras dos texto"
      ]
    },
    {
      "cell_type": "code",
      "metadata": {
        "id": "egfirQz2_2WL",
        "outputId": "0cbeb5be-7b09-4f90-d07b-6148155215bf",
        "colab": {
          "base_uri": "https://localhost:8080/"
        }
      },
      "source": [
        "model1 = Word2Vec(palavras, min_count=1)\n",
        "\n",
        "# model1 = Word2Vec(palavras,\n",
        "#                   min_count=1,\n",
        "#                   workers=1,\n",
        "#                   size=100,\n",
        "#                   window=1)\n",
        "\n",
        "print(model1)"
      ],
      "execution_count": 30,
      "outputs": [
        {
          "output_type": "stream",
          "name": "stderr",
          "text": [
            "WARNING:gensim.models.base_any2vec:under 10 jobs per worker: consider setting a smaller `batch_words' for smoother alpha decay\n"
          ]
        },
        {
          "output_type": "stream",
          "name": "stdout",
          "text": [
            "Word2Vec(vocab=16, size=100, alpha=0.025)\n"
          ]
        }
      ]
    },
    {
      "cell_type": "markdown",
      "metadata": {
        "id": "3A3rrIdCDsKy"
      },
      "source": [
        "Imprime o vocabulário."
      ]
    },
    {
      "cell_type": "code",
      "metadata": {
        "id": "ix_z_BvcDoKa",
        "outputId": "038e6cce-0a4f-4a57-ea8f-4f2c2b8017fd",
        "colab": {
          "base_uri": "https://localhost:8080/"
        }
      },
      "source": [
        "words = list(model1.wv.vocab)\n",
        "i = 0\n",
        "for token in words:\n",
        "   print(i, token)\n",
        "   i = i + 1"
      ],
      "execution_count": 31,
      "outputs": [
        {
          "output_type": "stream",
          "name": "stdout",
          "text": [
            "0 Depois\n",
            "1 de\n",
            "2 roubar\n",
            "3 o\n",
            "4 cofre\n",
            "5 do\n",
            "6 banco,\n",
            "7 ladrão\n",
            "8 banco\n",
            "9 foi\n",
            "10 visto\n",
            "11 sentado\n",
            "12 no\n",
            "13 da\n",
            "14 praça\n",
            "15 central.\n"
          ]
        }
      ]
    },
    {
      "cell_type": "markdown",
      "metadata": {
        "id": "3YvDvMpmC6m6"
      },
      "source": [
        "A palavra banco possui somente uma entrada no modelo e somente um conjunto de pesos."
      ]
    },
    {
      "cell_type": "code",
      "metadata": {
        "id": "aOJ0KuMlB7Kl",
        "outputId": "6deceff2-e636-4449-ae22-eaf597f8846b",
        "colab": {
          "base_uri": "https://localhost:8080/"
        }
      },
      "source": [
        "print(len(model1['banco']))\n",
        "print(model1['banco'])"
      ],
      "execution_count": 32,
      "outputs": [
        {
          "output_type": "stream",
          "name": "stdout",
          "text": [
            "100\n",
            "[-1.0249434e-03  4.1354829e-03  4.9681761e-03  1.0289280e-03\n",
            " -3.5209891e-03  3.5233896e-03  1.7922890e-03 -8.2687725e-04\n",
            " -3.7259951e-03  3.1881896e-04  2.3778187e-04  6.9822965e-04\n",
            " -3.7641861e-03  5.4557610e-04  4.2976914e-03  9.6983358e-04\n",
            " -3.3444373e-03  5.0688413e-04 -1.6142121e-03 -3.3676971e-03\n",
            " -2.8393681e-03  8.4975309e-04 -2.6608669e-04 -2.2771265e-03\n",
            "  4.9460870e-03  5.6520576e-04 -1.3066640e-03 -2.9264959e-03\n",
            "  2.9543852e-03 -2.1128990e-03  1.2720089e-03  8.0630498e-04\n",
            "  1.8150549e-03 -1.2388389e-03 -1.3877830e-03 -8.3743659e-04\n",
            "  2.9094599e-03  1.0705893e-03 -4.9470429e-04  1.5093132e-04\n",
            " -2.7102951e-03  3.2320071e-04  1.7222419e-03  1.2233013e-03\n",
            " -1.3330192e-03 -2.9542734e-04 -7.0267636e-04 -2.9407192e-03\n",
            "  4.7618016e-03  1.3142798e-05  1.2420785e-05 -8.1246009e-04\n",
            " -1.3184206e-03 -1.7566916e-03 -2.0102793e-03  2.0595009e-03\n",
            "  4.2882771e-03  2.5515852e-04  3.0214605e-03 -6.3424144e-05\n",
            " -1.2911480e-03  1.5147346e-03  9.7252196e-04  1.2992487e-03\n",
            "  3.5963259e-03  1.4085781e-03 -2.0337040e-05 -2.2174760e-03\n",
            " -2.9381739e-05  3.1549260e-03  3.2121469e-03 -4.6930355e-03\n",
            "  3.1551856e-03  2.7102400e-03 -6.1678956e-04 -2.4488864e-03\n",
            " -8.3258550e-04 -3.7253386e-04 -2.4133744e-03 -2.1997804e-03\n",
            " -3.1550771e-03  3.9297692e-04 -4.0852465e-03  2.1566018e-03\n",
            " -1.6006122e-03 -3.8922518e-03  4.3698112e-03  4.0122159e-03\n",
            "  1.0520988e-03  4.1991440e-03 -3.7931935e-03  4.2032073e-03\n",
            " -4.1561974e-03  3.7345514e-03  3.3725062e-03  1.4957842e-04\n",
            "  3.8801653e-03  4.4837194e-03  2.7463865e-03  1.6197093e-03]\n"
          ]
        }
      ]
    },
    {
      "cell_type": "markdown",
      "metadata": {
        "id": "fQyVREXYYEN6"
      },
      "source": [
        "# Plotando gráficos"
      ]
    },
    {
      "cell_type": "markdown",
      "metadata": {
        "id": "Ilmhkv4kYJFR"
      },
      "source": [
        "Para plotar um conjunto de palavras execute o script abaixo:"
      ]
    },
    {
      "cell_type": "code",
      "metadata": {
        "id": "QXw-7PWTYO5E"
      },
      "source": [
        "# Import das bibliotecas\n",
        "from sklearn.decomposition import PCA\n",
        "import matplotlib.pyplot as plt\n",
        "\n",
        "def plot_words(words):    \n",
        "    #Carrega o vetor das palavras a serem plotadas\n",
        "    vectors = []\n",
        "    for word in words:    \n",
        "         vectors.append(model[word])\n",
        "         \n",
        "    #Ajustar um modelo 2D de PCA aos vetores\n",
        "    pca = PCA(n_components=2)\n",
        "    resultado = pca.fit_transform(vectors)\n",
        "\n",
        "    #Dimensões da figura\n",
        "    plt.figure(figsize=(12,7))\n",
        "    #Adiciona linha vertical\n",
        "    plt.axvline()\n",
        "    #Adiciona linha horizontal\n",
        "    plt.axhline()\n",
        "\n",
        "    #Criar um gráfico de dispersão da projeção\n",
        "    plt.scatter(resultado[:, 0], resultado[:, 1])\n",
        "    #Adiciona as palavras no gráfico\n",
        "    for i in range(len(words)):\n",
        "        plt.annotate(words[i], xy=(resultado[i, 0], resultado[i, 1]))        \n",
        "        \n",
        "    #Mostra o gráfico\n",
        "    plt.show()\n",
        "logging.info('Função criada')"
      ],
      "execution_count": 33,
      "outputs": []
    },
    {
      "cell_type": "markdown",
      "metadata": {
        "id": "rJrByAxMYSi4"
      },
      "source": [
        "O comando abaixo plota o gráfico das palavras especificadas."
      ]
    },
    {
      "cell_type": "code",
      "metadata": {
        "id": "QB-HhR64YSs5",
        "outputId": "30975143-4c6a-4f4f-8df0-367d0b1a66ba",
        "colab": {
          "base_uri": "https://localhost:8080/",
          "height": 428
        }
      },
      "source": [
        "lista = ['rei', 'rainha', 'homem', 'mulher','esposa','concubina', 'infanta','princesa','meia-irmã','sogra','sobrinha','consorte', 'enteada']\n",
        "\n",
        "plot_words(lista)"
      ],
      "execution_count": 34,
      "outputs": [
        {
          "output_type": "display_data",
          "data": {
            "text/plain": [
              "<Figure size 864x504 with 1 Axes>"
            ],
            "image/png": "[encoded data removed]"
          },
          "metadata": {
            "needs_background": "light"
          }
        }
      ]
    },
    {
      "cell_type": "markdown",
      "metadata": {
        "id": "9OOKFfegolpn"
      },
      "source": [
        "Lista as palavras do vocabulário"
      ]
    },
    {
      "cell_type": "code",
      "metadata": {
        "id": "_olGNOzqoPeI",
        "outputId": "472d82c2-7eaa-4f01-a7d4-80cca77dc72a",
        "colab": {
          "base_uri": "https://localhost:8080/"
        }
      },
      "source": [
        "words = list(model.wv.vocab)\n",
        "print(len(words))\n",
        "print(words[0:1000])"
      ],
      "execution_count": 35,
      "outputs": [
        {
          "output_type": "stream",
          "name": "stdout",
          "text": [
            "929606\n",
            "['</s>', ',', 'de', '.', 'a', 'o', 'e', 'que', 'do', 'da', 'em', 'para', 'um', 'no', 'com', 'é', 'uma', 'os', 'não', 'na', '00', '0000', 'por', ')', '(', 'as', 'se', 'dos', 'foi', 'como', 'ao', 'mais', '?', '0', 'das', '-', 'mas', 'sua', 'ou', 'ser', 'seu', '000', ':', 'são', '«', 'pelo', '»', 'eu', 'ele', 'está', 'pela', 'também', 'nos', 'sobre', 'você', 'entre', 'tem', ';', '!', 'já', 'isso', 'anos', 'ainda', 'muito', 'aos', 'até', '/', 'quando', 'era', 'ter', 'bem', 'foram', 'mesmo', 'pode', 'nas', 'este', 'segundo', 'comissão', 'ano', 'dois', 'seus', 'ela', 'onde', 'depois', 'há', 'esta', 'dia', '%', 'todos', 'só', 'me', 'vai', 'sem', 'grande', 'parte', 'presidente', 'fazer', 'outros', 'durante', 'estado', 'contra', 'vez', 'apenas', 'primeiro', 'tempo', 'disse', 'assim', 'cidade', 'após', 'suas', 'agora', 'três', 'primeira', 'acordo', 'pessoas', 'estão', 'conselho', 'porque', 'forma', 'governo', 'então', 'trabalho', 'tudo', 'desde', 'eles', 'aqui', 'grupo', 'maior', 'duas', 'caso', 'quem', 'antes', 'país', 'além', 'casa', 'estava', 'meu', 'será', 'deve', 'sido', 'brasil', 'hoje', 'essa', 'esse', 'novo', 'sendo', 'tinha', 'mundo', 'final', 'pelos', 'cada', 'outro', 'qual', 'melhor', 'países', 'nome', 'rio', 'nova', '—', 'milhões', 'seja', 'nacional', 'vida', 'num', 'menos', 'união', 'europeia', 'qualquer', 'sempre', 'jogo', 'região', 'alguns', 'minha', 'dias', 'política', 'mil', 'paulo', 'lugar', 'outras', 'senhor', 'todo', 'estou', 'numa', 'regulamento', 'fez', 'quer', 'neste', 'fim', 'nem', 'artigo', 'processo', 'desta', 'estados', 'pouco', 'nesta', 'decisão', 'lado', 'teve', 'área', 'janeiro', 'podem', 'sistema', 'todas', 'mercado', 'enquanto', 'the', 'nós', 'família', 'cerca', 'sim', 'partir', 'quatro', 'conta', 'público', 'número', 'ver', 'têm', 'programa', 'vamos', 'europeu', 'portugal', 'deste', 'diz', 'nada', 'tendo', 'vezes', 'bom', 'período', 'direito', 'através', 'dizer', 'empresa', 'vou', 'ponto', 'faz', 'parlamento', 'sul', 'local', 'fora', 'nunca', 'comunidade', 'tão', 'desenvolvimento', 'isto', 'europa', 'outra', 'segunda', 'lhe', 'meio', 'história', 'quanto', 'segurança', 'base', 'população', 'ontem', 'nível', 'tenho', 'situação', 'disso', 'social', 'relação', 'algumas', 'início', 'temos', 'noite', 'momento', 'pontos', 'empresas', 'dar', '[', 'toda', 'importante', 'série', 'estar', 'presente', 'tal', 'apesar', 'principal', 'cinco', 'clube', 'lá', 'exemplo', '#', 'saúde', 'jogos', 'seria', 'estados-membros', 'guerra', 'polícia', 'pelas', 'pois', 'volta', 'poder', 'muitos', 'homem', 'filme', 'futebol', 'semana', 'possível', 'equipe', 'sob', 'quais', 'brasileiro', 'tarde', 'dezembro', 'embora', 'sabe', 'centro', 'nã£o', 'josé', 'quase', 'medidas', 'entanto', 'junho', 'unidos', 'havia', 'coisa', 'relatório', 'norte', 'causa', 'possui', 'dentro', 'mundial', 'produtos', 'internacional', 'tipo', ']', 'devem', 'grandes', 'time', 'meses', 'filho', 'proposta', 'questão', 'pai', 'serviços', 'ce', 'julho', 'passado', 'maio', 'certo', 'água', 'n', 'tanto', 'frente', 'mesma', 'produção', 'porto', 'março', 'geral', 'vários', 'abril', 'nossa', 'condições', 'outubro', 'jo', 'apoio', 'sou', 'direitos', 'n.o', 'música', 'l', 'problema', 'boa', 'te', 'posição', 'ficou', 'setembro', 'campo', 'último', 'p', 'sei', 'problemas', 'campeonato', 'lisboa', 'joão', 'banda', 'devido', 'capital', 'estamos', 'álbum', 'partido', 'feito', 'afirmou', 'eram', 'última', 'quero', 'república', 'muitas', 'facto', 'dados', 'estes', 'espécie', 'porém', 'acho', 'mim', 'tribunal', 'título', 'termos', 'logo', 'r$', 'vão', 'morte', 'novembro', 'parece', 'habitantes', 'algo', 'maioria', 'total', 'cee', 'começou', 'valor', 'seis', 'favor', 'informações', 'i', 'nosso', 'modo', 'comum', 'lei', 'verdade', 'passou', 'mãe', 'km²', 'ficar', 'ir', 'federal', 'várias', 'chegou', 'município', 'terra', 'época', 'partida', 'justiça', 'fase', 'horas', 'minutos', 'd', 'sentido', 'dinheiro', 'posso', 'século', 'longo', 'serviço', 'câmara', 'mulher', 'vitória', 'agosto', 'papel', 'formação', 'fevereiro', 'central', 'escola', 'tenha', 'respeito', 'directiva', 'casos', 'coisas', 'terá', 'vista', 'especial', 'defesa', 'banco', 'serão', 'deu', 'estas', 'novos', 'falar', 'ã©', 'copa', 'rede', 'português', 'ministro', 'deus', 'informação', 'ordem', 'zona', 'gente', 'próximo', 'próprio', 'universidade', 'diferentes', 'mulheres', 'membros', 'resultado', 'seguinte', 'falta', 'dele', 'real', 'carlos', 'of', 'domingo', 'plano', 'principais', 'poderia', 'aplicação', 'cento', 'mês', 'talvez', 'for', 'fazendo', 'costa', 'pra', 'maria', 'conhecido', 'claro', 'jogador', 'pública', 'livro', 'saber', 'pessoa', 'vocãª', 'deputado', 'oficial', 'preciso', 'homens', 'junto', 'cara', '00h', 'novas', 'ministério', 'acesso', 'hora', 'criação', 'tratado', 'matéria', 'sociedade', 'alguma', 'único', 'militar', 'jogadores', '0.000', 'qualidade', 'conjunto', 'espaço', 'silva', 'últimos', 'brasileira', 'força', 'construção', 'corpo', 'linha', 'ajuda', 'organização', 'frança', 'santa', 'senhora', 'temporada', 'forte', 'aumento', 'portuguesa', 'c', 'incluindo', 'fica', 'necessário', 'teria', 'esses', 'ambiente', 'autoridades', 'futuro', 'santos', 'superior', 'obras', 'média', 'ninguém', 'vem', 'prazo', 'alemanha', 'medida', 'resultados', 'poderá', 'crianças', 'técnico', 'ue', 'reino', 'lista', 'terceiro', 'participação', 'data', 'recebeu', 'essas', 'aí', '00h00', 'responsável', 'carreira', 'projeto', 'âmbito', 'rua', 'conseguiu', 'nacionais', '0,0', 'igreja', 'nesse', 'campanha', 'recursos', 'fosse', 'la', 'civil', 'obra', '°', 'pedido', 'regiões', 'origem', 'distrito', 'resposta', 'luta', 'lançado', 'única', 'relativa', 'grupos', 'própria', 'educação', 'nenhum', 'estavam', 'sucesso', 'acabou', 'chegar', 'ii', 'existe', 'algum', 'desse', 'deverá', 'vocês', '0º', 'altura', 'podemos', 'energia', 'carro', 'investigação', 'economia', 'dez', 'precisa', 'houve', 'jornal', 'manhã', 'uso', 'sector', 'político', 'quarta-feira', 'projecto', 'sete', 'primeiros', 'cooperação', 'dessa', 'idade', '0000-0000', 'versão', 'dá', 'sejam', 'fundo', 'sexta-feira', 'edição', 'deixar', 'cultura', 'sábado', 'categoria', 'emprego', 'aconteceu', 'gestão', 'espanha', 'vila', 'associação', 'trabalhadores', 'sociais', 'reunião', 'território', 'rei', 'gostaria', 'regime', 'chamado', 'contos', 'pedro', 'programas', 'elas', 'entrada', 'comunicação', 'administração', 'objectivo', 'bastante', 'jovem', 'deixou', 'municipal', 'deles', 'políticas', 'atualmente', 'alguém', 'pessoal', 'profissional', 'b', 'américa', 'razão', 'partes', 'capacidade', 'quinta-feira', 'locais', 'necessidade', 'passar', 'principalmente', 'difícil', 'livre', 'bairro', 'preços', 'ideia', 's', 'movimento', 'próxima', 'mar', 'ensino', 'efeito', 'risco', 'segunda-feira', 'igualmente', 'perto', 'si', 'alta', 'relativamente', 'imagens', 'deveria', 'alto', 'instituto', 'comércio', 'nomeadamente', 'regras', 'crescimento', 'quadro', 'indústria', 'domínio', 'sair', 'feita', 'canção', 'departamento', 'liga', 'seleção', 'mal', 'deputados', 'operação', 'líder', 'maiores', 'oh', 'amor', 'questões', 'cabeça', 'eleições', 'áreas', 'localizada', 'americano', 'trabalhar', 'manter', 'importantes', 'oito', '&', 'bola', 'possibilidade', 'prova', 'atenção', 'caminho', 'propostas', 'comuna', 'forças', 'equipa', 'modelo', 'sede', 'taxa', 'queria', 'quarto', 'terça-feira', 'tinham', 'entrar', 'gol', 'dado', 'jovens', 'atual', 'relações', 'presença', 'elementos', 'tv', 'interesse', 'importância', 'maneira', 'televisão', 'melhores', 'anterior', 'década', 'encontro', 'filha', 'nota', 'paz', 'instituições', 'eua', 'diversas', 'diversos', 'imprensa', 'filhos', 'alterações', 'km', 'passa', 'acção', 'ilha', 'afirma', '0,00', 'metros', 'fernando', 'princípio', 'tomar', 'hospital', 'trabalhos', 'novamente', 'contrato', 'companhia', 'controlo', 'amigo', 'debate', 'criar', 'acima', 'existem', 'fato', 'interior', 'amigos', 'm', 'francesa', 'utilização', 'via', 'encontrar', 'dela', 'sr', 'luz', 'voltar', 'exército', 'orçamento', 'cidadãos', 'atrás', 'estádio', 'cargo', 'cidades', 'ajudar', 'ali', 'função', 'chefe', 'levar', 'efeitos', 'pertencente', 'estudo', 'teatro', 'continua', 'ambos', 'professor', 'texto', 'jogar', 'valores', '0-0', 'nessa', 'ar', 'humanos', 'animais', 'regional', 'antónio', 'considerado', 'crise', 'itália', 'serem', 'evento', 'referência', 'diferente', 'significa', 'irá', 'anexo', 'portanto', 'nenhuma', 'económica', 'prática', 'tais', 'realmente', 'entretanto', 'tentar', 'treinador', 'tratamento', 'execução', 'presidência', 'competição', 'meus', 'terceira', 'sobretudo', 'aquele', '00,0', 'assembleia', 'protecção', 'transporte', 'comité', 'contrário', 'representa', 'ação', 'arte', 'unidade', 'nossos', 'francês', 'ataque', 'diretor', 'estudos', 'francisco', '00.000', 'província', 'divisão', 'produto', 'povo', 'membro', 'antigo', 'possa', 'simples', 'acções', 'ouro', 'contudo', 'popular', 'evitar', 'muita', 'garantir', 'levou', 'apresentar', 'agência', 'opinião', 'preço', 'resolução', 'unido', 'euros', 'voltou', 'revista', 'análise', 'língua', 'seguir', 'inglês', 'lo', 'veio', 'europeus', 'cinema', 'avaliação', 'esteve', 'demais', 'ganhou', 'sistemas', 'refere', 'santo', 'legislação', 'fazem', 'jorge', 'cima', 'fonte', 'objetivo', 'liberdade', 'continuar', 'entrou', 'mão', 'vale', 'médio', 'festa', 'autoridade', 'chamada', 'conhecida', 'políticos', 'morreu', 'marca', 'redução', 'estrutura', 'contas', 'obrigado', 'curso', 'menor', 'branco', 'irmão', 'filmes', 'palavras', 'venda', 'receber', 'especialmente', 'estadual', 'paris', 'gênero', 'realizado', 'somente', 'tema', 'imagem', 'abertura', 'autor', 'baixo', '_', 'in', 'natureza', 'diante', 'crime', 'pequena', 'pais', 'portugueses', 'esquerda', 'seguida', 'finalmente', 'carta', 'semanas', 'disposições', 'espera', 'john', 'responsabilidade', 'sequência']\n"
          ]
        }
      ]
    },
    {
      "cell_type": "markdown",
      "metadata": {
        "id": "FBC07yKlQk5y"
      },
      "source": [
        "##Visualizando o modelo\n",
        "\n",
        "Aqui tentamos visualizar a conexão entre as seguintes palavras em um subespaço 2D"
      ]
    },
    {
      "cell_type": "markdown",
      "metadata": {
        "id": "BndfpQLoX9N5"
      },
      "source": [
        "### Função de visualização"
      ]
    },
    {
      "cell_type": "code",
      "metadata": {
        "id": "uPyzH46kV5_b"
      },
      "source": [
        "#Import das bibliotecas\n",
        "import numpy as np\n",
        "import matplotlib.pyplot as plt\n",
        "%matplotlib inline\n",
        "\n",
        "def plotar_words(Wl):\n",
        "    #Carrega o vetor das palavras a serem plotadas\n",
        "    Wv = []\n",
        "    for i in range(len(Wl)):\n",
        "       Wv.append(model[Wl[i]])\n",
        "\n",
        "    #Queremos um subespaço onde Wv[0]-Wv[1] e Wv[2]-Wv[3] sejam as linhas do eixo, \n",
        "    #então essas 4 palavras estão no eixo correspondente\n",
        "    b1 = (Wv[1]-Wv[0])\n",
        "    b2 = (Wv[3]-Wv[2])\n",
        "\n",
        "    #Transforma a lista de embeddings em um vetor simples\n",
        "    W = np.array(Wv)\n",
        "    #Transforma as diferenças em um vetor simples\n",
        "    B = np.array([b1,b2])\n",
        "    #Calcula o pseudo-inversa de uma matriz\n",
        "    Bi = np.linalg.pinv(B.T)\n",
        "\n",
        "    #Multiplica Bi e W.T\n",
        "    Wp = np.matmul(Bi,W.T)\n",
        "    #Calcula os pivos\n",
        "    Wp = (Wp.T-[Wp[0,2],Wp[1,0]]).T\n",
        "\n",
        "    #Dimensões da figura\n",
        "    plt.figure(figsize=(12,7))\n",
        "    #Adiciona linha vertical\n",
        "    plt.axvline()\n",
        "    #Adiciona linha horizontal\n",
        "    plt.axhline()\n",
        "    #Criar um gráfico de dispersão da projeção\n",
        "    plt.scatter(Wp[0,:], Wp[1,:])\n",
        "    rX = max(Wp[0,:])-min(Wp[0,:])\n",
        "    rY = max(Wp[1,:])-min(Wp[1,:])\n",
        "    eps = 0.005\n",
        "    #Adiciona as palavras no gráfico\n",
        "    for i, txt in enumerate(Wl):\n",
        "        plt.annotate(txt, (Wp[0,i]+rX*eps, Wp[1,i]+rX*eps))\n",
        "    #Mostra o gráfico\n",
        "    plt.show()\n",
        "\n",
        "logging.info('Função criada')"
      ],
      "execution_count": 36,
      "outputs": []
    },
    {
      "cell_type": "markdown",
      "metadata": {
        "id": "UZ_xb5rVYB97"
      },
      "source": [
        "### Exemplo"
      ]
    },
    {
      "cell_type": "code",
      "metadata": {
        "id": "CKozLghgX02s",
        "outputId": "f301fe59-5bb2-41f6-b835-a18dc606e042",
        "colab": {
          "base_uri": "https://localhost:8080/",
          "height": 428
        }
      },
      "source": [
        "palavras =['rei', 'rainha', 'homem', 'mulher','esposa', 'monarca', 'concubina', 'infanta','princesa','meia-irmã','sogra','sobrinha','consorte', 'enteada']\n",
        "\n",
        "plotar_words(palavras)"
      ],
      "execution_count": 37,
      "outputs": [
        {
          "output_type": "display_data",
          "data": {
            "text/plain": [
              "<Figure size 864x504 with 1 Axes>"
            ],
            "image/png": "[encoded data removed]"
          },
          "metadata": {
            "needs_background": "light"
          }
        }
      ]
    },
    {
      "cell_type": "markdown",
      "metadata": {
        "id": "YW9pN7oyYGna"
      },
      "source": [
        "### Detalhamento da função"
      ]
    },
    {
      "cell_type": "markdown",
      "metadata": {
        "id": "aFp8RcMaYLG7"
      },
      "source": [
        "Import das bibliotecas"
      ]
    },
    {
      "cell_type": "code",
      "metadata": {
        "id": "Bo5FZFvcQ_C0"
      },
      "source": [
        "#Import das bibliotecas\n",
        "import numpy as np\n",
        "\n",
        "import matplotlib.pyplot as plt\n",
        "%matplotlib inline"
      ],
      "execution_count": 38,
      "outputs": []
    },
    {
      "cell_type": "markdown",
      "metadata": {
        "id": "EYtXDyYkYSb6"
      },
      "source": [
        "Lista de palavras a serem visualizadas"
      ]
    },
    {
      "cell_type": "code",
      "metadata": {
        "id": "nd9BFdyWQvy1"
      },
      "source": [
        "#Lista das palavras\n",
        "palavras = ['rei', 'rainha', 'homem', 'mulher','esposa', 'monarca', 'concubina', 'infanta','princesa','meia-irmã','sogra','sobrinha','consorte', 'enteada']\n",
        "\n",
        "#Lista dos embeddings das palavras\n",
        "Wv = []\n",
        "for i in range(len(palavras)):\n",
        "    Wv.append(model[palavras[i]])"
      ],
      "execution_count": 39,
      "outputs": []
    },
    {
      "cell_type": "markdown",
      "metadata": {
        "id": "6fzEsQ9cRKGX"
      },
      "source": [
        "Queremos um subespaço onde rei-rainha e homem-mulher são as linhas do eixo, então essas 4 palavras estão no eixo correspondente\n",
        "\n",
        "\n"
      ]
    },
    {
      "cell_type": "code",
      "metadata": {
        "id": "NnliS_QXRKTg"
      },
      "source": [
        "#Diferença de Wv[1]-Wv[0]\n",
        "b1 = (Wv[1]-Wv[0])\n",
        "#Diferença de Wv[3]-Wv[2]\n",
        "b2 = (Wv[3]-Wv[2])"
      ],
      "execution_count": 40,
      "outputs": []
    },
    {
      "cell_type": "markdown",
      "metadata": {
        "id": "wueppp6qRVLo"
      },
      "source": [
        "Queremos que a base seja (1,0) e (0,1) do espaço projetado. Com uma matriz quadrada, devemos calcular a matriz inversa para obter os vetores base. No entanto, a matriz não quadrada tem apenas pseudo-inversa."
      ]
    },
    {
      "cell_type": "code",
      "metadata": {
        "id": "t0jJ9VgmRVWf"
      },
      "source": [
        "#Transforma a lista de embeddings em um vetor simples\n",
        "W = np.array(Wv)\n",
        "#Transforma as diferenças em um vetor simples\n",
        "B = np.array([b1,b2])\n",
        "#Calcula o pseudo-inversa de uma matriz\n",
        "Bi = np.linalg.pinv(B.T)"
      ],
      "execution_count": 41,
      "outputs": []
    },
    {
      "cell_type": "code",
      "metadata": {
        "id": "8VeIV1XaSooZ",
        "outputId": "2c5048cf-2858-43a8-a1c1-14c50191a4db",
        "colab": {
          "base_uri": "https://localhost:8080/"
        }
      },
      "source": [
        "#Mostra as dimensões de B e W\n",
        "print(B.shape)\n",
        "print(W.T.shape)"
      ],
      "execution_count": 42,
      "outputs": [
        {
          "output_type": "stream",
          "name": "stdout",
          "text": [
            "(2, 100)\n",
            "(100, 14)\n"
          ]
        }
      ]
    },
    {
      "cell_type": "markdown",
      "metadata": {
        "id": "piiTxcIVSuuX"
      },
      "source": [
        "Projete todas as incorporações de palavras no subespaço 2D.\n",
        "\n",
        "  Temos que mudar as linhas rei-rainha e homem-mulher para o eixo."
      ]
    },
    {
      "cell_type": "code",
      "metadata": {
        "id": "LdhpXx58S0cH",
        "outputId": "389798ec-f098-4d42-d3d8-04eb59da6f85",
        "colab": {
          "base_uri": "https://localhost:8080/"
        }
      },
      "source": [
        "#Multiplica Bi e W.T\n",
        "Wp = np.matmul(Bi,W.T)\n",
        "print(Wp.shape)\n",
        "#Calcula os pivos\n",
        "Wp = (Wp.T-[Wp[0,2],Wp[1,0]]).T"
      ],
      "execution_count": 43,
      "outputs": [
        {
          "output_type": "stream",
          "name": "stdout",
          "text": [
            "(2, 14)\n"
          ]
        }
      ]
    },
    {
      "cell_type": "markdown",
      "metadata": {
        "id": "VfMMHEwyS6Iw"
      },
      "source": [
        "Vamos colocar as palavras no plano cartesiano!"
      ]
    },
    {
      "cell_type": "code",
      "metadata": {
        "id": "Mfyi51MGS8wA",
        "outputId": "36b3e253-5a12-4a61-cae3-ff3d004c0bb6",
        "colab": {
          "base_uri": "https://localhost:8080/",
          "height": 428
        }
      },
      "source": [
        "#Dimensões da figura\n",
        "plt.figure(figsize=(12,7))\n",
        "#Adiciona linha vertical\n",
        "plt.axvline()\n",
        "#Adiciona linha horizontal\n",
        "plt.axhline()\n",
        "#Plota eixo x e y\n",
        "plt.scatter(Wp[0,:], Wp[1,:])\n",
        "rX = max(Wp[0,:])-min(Wp[0,:])\n",
        "rY = max(Wp[1,:])-min(Wp[1,:])\n",
        "eps = 0.005\n",
        "#Percore a lista de palavras\n",
        "for i, txt in enumerate(palavras):\n",
        "    plt.annotate(txt, (Wp[0,i]+rX*eps, Wp[1,i]+rX*eps))\n",
        "plt.show()"
      ],
      "execution_count": 44,
      "outputs": [
        {
          "output_type": "display_data",
          "data": {
            "text/plain": [
              "<Figure size 864x504 with 1 Axes>"
            ],
            "image/png": "[encoded data removed]"
          },
          "metadata": {
            "needs_background": "light"
          }
        }
      ]
    },
    {
      "cell_type": "markdown",
      "metadata": {
        "id": "107jSu39Jj-q"
      },
      "source": [
        "# Exemplo comparando os embeddings das ocorrências da palavra \"banco\" em uma sentença. "
      ]
    },
    {
      "cell_type": "markdown",
      "source": [
        "## Comparando embeddings de palavras"
      ],
      "metadata": {
        "id": "tJBS-kfhwCEL"
      }
    },
    {
      "cell_type": "code",
      "metadata": {
        "id": "m_vfdQKPEnCn"
      },
      "source": [
        "texto = \"Depois de roubar o cofre do banco ,\"\\\n",
        "        \" o ladrão de banco foi visto \" \\\n",
        "        \"sentado no banco da praça central.\"\n",
        "\n",
        "logging.info('Texto armazenado!')"
      ],
      "execution_count": 45,
      "outputs": []
    },
    {
      "cell_type": "code",
      "metadata": {
        "colab": {
          "base_uri": "https://localhost:8080/"
        },
        "id": "w16Zk3DT1xeZ",
        "outputId": "7268703f-7ec3-4f2e-e060-8249514d7efc"
      },
      "source": [
        "palavras = texto.split()\n",
        "print(palavras)"
      ],
      "execution_count": 46,
      "outputs": [
        {
          "output_type": "stream",
          "name": "stdout",
          "text": [
            "['Depois', 'de', 'roubar', 'o', 'cofre', 'do', 'banco', ',', 'o', 'ladrão', 'de', 'banco', 'foi', 'visto', 'sentado', 'no', 'banco', 'da', 'praça', 'central.']\n"
          ]
        }
      ]
    },
    {
      "cell_type": "markdown",
      "source": [
        "Confirmando os tokens do documento"
      ],
      "metadata": {
        "id": "JSYygMNVxNon"
      }
    },
    {
      "cell_type": "code",
      "metadata": {
        "id": "zQ7J7b-SFCXN",
        "colab": {
          "base_uri": "https://localhost:8080/"
        },
        "outputId": "29ca5be4-a6db-4087-db8b-4e4a0f4faf0f"
      },
      "source": [
        "i = 0\n",
        "for token in palavras:\n",
        "   print(i, token)\n",
        "   i = i + 1"
      ],
      "execution_count": 47,
      "outputs": [
        {
          "output_type": "stream",
          "name": "stdout",
          "text": [
            "0 Depois\n",
            "1 de\n",
            "2 roubar\n",
            "3 o\n",
            "4 cofre\n",
            "5 do\n",
            "6 banco\n",
            "7 ,\n",
            "8 o\n",
            "9 ladrão\n",
            "10 de\n",
            "11 banco\n",
            "12 foi\n",
            "13 visto\n",
            "14 sentado\n",
            "15 no\n",
            "16 banco\n",
            "17 da\n",
            "18 praça\n",
            "19 central.\n"
          ]
        }
      ]
    },
    {
      "cell_type": "markdown",
      "source": [
        "Gera os embeddings"
      ],
      "metadata": {
        "id": "2b0Uw6q296rj"
      }
    },
    {
      "cell_type": "code",
      "source": [
        "model = Word2Vec([palavras], min_count=1)\n",
        "\n",
        "# model = Word2Vec(sentences=[palavras],\n",
        "#                  min_count=1,\n",
        "#                  workers=4,\n",
        "#                  size=100,\n",
        "#                  window=1)\n",
        "\n",
        "print(model)"
      ],
      "metadata": {
        "colab": {
          "base_uri": "https://localhost:8080/"
        },
        "id": "OZiRW47J98up",
        "outputId": "a7a70804-d2ed-40a6-c386-86e20e99ed05"
      },
      "execution_count": 48,
      "outputs": [
        {
          "output_type": "stream",
          "name": "stderr",
          "text": [
            "WARNING:gensim.models.base_any2vec:under 10 jobs per worker: consider setting a smaller `batch_words' for smoother alpha decay\n"
          ]
        },
        {
          "output_type": "stream",
          "name": "stdout",
          "text": [
            "Word2Vec(vocab=16, size=100, alpha=0.025)\n"
          ]
        }
      ]
    },
    {
      "cell_type": "markdown",
      "source": [
        "Palavras recuperadas do modelo"
      ],
      "metadata": {
        "id": "nPActA0p-cvC"
      }
    },
    {
      "cell_type": "code",
      "source": [
        "words = list(model.wv.vocab)\n",
        "i = 0\n",
        "for token in words:\n",
        "   print(i, token)\n",
        "   i = i + 1"
      ],
      "metadata": {
        "colab": {
          "base_uri": "https://localhost:8080/"
        },
        "id": "qDgXN1Q0-GNJ",
        "outputId": "4418a06c-62a7-4abb-f5c0-c00b9439a382"
      },
      "execution_count": 49,
      "outputs": [
        {
          "output_type": "stream",
          "name": "stdout",
          "text": [
            "0 Depois\n",
            "1 de\n",
            "2 roubar\n",
            "3 o\n",
            "4 cofre\n",
            "5 do\n",
            "6 banco\n",
            "7 ,\n",
            "8 ladrão\n",
            "9 foi\n",
            "10 visto\n",
            "11 sentado\n",
            "12 no\n",
            "13 da\n",
            "14 praça\n",
            "15 central.\n"
          ]
        }
      ]
    },
    {
      "cell_type": "markdown",
      "metadata": {
        "id": "-TysEHsOZaij"
      },
      "source": [
        "Exibe os embenddings das palavras"
      ]
    },
    {
      "cell_type": "markdown",
      "metadata": {
        "id": "VXZFKHQBZIFk"
      },
      "source": [
        "A palavra banco aparece somente no índice 6, 11 e 16 do texto original.\n",
        "\n",
        "Mas as ocorrências foram retiradas da saída pois possuem a mesma representação no modelo.\n"
      ]
    },
    {
      "cell_type": "code",
      "metadata": {
        "id": "2hrWa-RzZIFl",
        "colab": {
          "base_uri": "https://localhost:8080/"
        },
        "outputId": "cd67a0f4-7013-413a-d668-513627c2140f"
      },
      "source": [
        "# Índice das palavras a serem comparadas\n",
        "palavra1 = 6\n",
        "palavra2 = 11\n",
        "palavra3 = 16\n",
        "\n",
        "print(\"Os primeiros 5 valores de cada instância de \\\"banco\\\".\")\n",
        "print(\"\")\n",
        "\n",
        "print(str(words[palavra1]), model[words[palavra1]][:5])\n",
        "print(str(words[palavra1]), model[words[palavra1]][:5])\n",
        "print(str(words[palavra1]), model[words[palavra1]][:5])"
      ],
      "execution_count": 54,
      "outputs": [
        {
          "output_type": "stream",
          "name": "stdout",
          "text": [
            "Os primeiros 5 valores de cada instância de \"banco\".\n",
            "\n",
            "banco [-0.00102171  0.00413212  0.00496588  0.00102753 -0.00352039]\n",
            "banco [-0.00102171  0.00413212  0.00496588  0.00102753 -0.00352039]\n",
            "banco [-0.00102171  0.00413212  0.00496588  0.00102753 -0.00352039]\n"
          ]
        }
      ]
    },
    {
      "cell_type": "code",
      "source": [
        "# Importando as bibliotecas\n",
        "from scipy.spatial.distance import cosine\n",
        "\n",
        "# Índice das palavras a serem comparadas\n",
        "print(\"Período:\", texto)\n",
        "print(\"Palavra 1 =\", palavra1, \"=\", str(words[palavra1]), \"(instituição financeira)\")\n",
        "print(\"Palavra 2 =\", palavra2, \"=\", str(words[palavra1]), \"(instituição financeira)\")\n",
        "print(\"Palavra 3 =\", palavra3, \"=\", str(words[palavra1]), \"(assento)\")\n",
        "\n",
        "# Calcula a similaridade de coseno entre as palavras banco\n",
        "# Em \"ladrão de banco\" versus \"banco da praça\" (diferentes significados).\n",
        "#banco_diferente = doc[palavra2].similarity(doc[palavra3])\n",
        "banco_diferente = 1 - cosine(model[words[palavra1]], model[words[palavra1]])\n",
        "\n",
        "print(\"Vetor de similaridade  para diferentes significados(\",palavra2,\",\",palavra3,\"):  %.2f\" % banco_diferente)\n",
        "\n",
        "# Calcula a similaridade de coseno entre as palavras banco\n",
        "# Em \"ladrão de banco\" versus \"cofre do banco\" (mesmo significado).\n",
        "mesmo_banco = 1 - cosine(model[words[palavra1]], model[words[palavra1]])\n",
        "\n",
        "print(\"Vetor de similaridade  para mesmo significado(\",palavra2,\",\",palavra1,\"):  %.2f\" % mesmo_banco)\n",
        "\n",
        "# Calcula a similaridade de coseno entre as palavras banco\n",
        "# Em \"cofre do banco\" versus \"banco da praça\" (diferente significados).\n",
        "banco_diferente2 = 1 - cosine(model[words[palavra1]], model[words[palavra1]])\n",
        "\n",
        "print(\"Vetor de similaridade  para diferentes significados(\",palavra3,\",\",palavra1,\"):  %.2f\" % banco_diferente2)"
      ],
      "metadata": {
        "colab": {
          "base_uri": "https://localhost:8080/"
        },
        "id": "mSAXA7F6vdmQ",
        "outputId": "79de59b6-a32d-469c-b1fe-264d966be4ad"
      },
      "execution_count": 51,
      "outputs": [
        {
          "output_type": "stream",
          "name": "stdout",
          "text": [
            "Período: Depois de roubar o cofre do banco , o ladrão de banco foi visto sentado no banco da praça central.\n",
            "Palavra 1 = 6 = banco (instituição financeira)\n",
            "Palavra 2 = 11 = banco (instituição financeira)\n",
            "Palavra 3 = 16 = banco (assento)\n",
            "Vetor de similaridade  para diferentes significados( 11 , 16 ):  1.00\n",
            "Vetor de similaridade  para mesmo significado( 11 , 6 ):  1.00\n",
            "Vetor de similaridade  para diferentes significados( 16 , 6 ):  1.00\n"
          ]
        }
      ]
    }
  ]
}