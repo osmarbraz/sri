{
  "nbformat": 4,
  "nbformat_minor": 0,
  "metadata": {
    "colab": {
      "provenance": [],
      "toc_visible": true,
      "collapsed_sections": [
        "yXRXXPxVOzci",
        "Ysl3AA3sPPJK",
        "6xlt_r14Qkyn",
        "xbVbBUdJ-yki",
        "e1uz3qIc-59h",
        "FBC07yKlQk5y",
        "BndfpQLoX9N5",
        "UZ_xb5rVYB97",
        "YW9pN7oyYGna",
        "tJBS-kfhwCEL"
      ],
      "authorship_tag": "ABX9TyOD0Xnt+Cs1OkKi3FoLw5tG",
      "include_colab_link": true
    },
    "kernelspec": {
      "name": "python3",
      "display_name": "Python 3"
    },
    "language_info": {
      "name": "python"
    }
  },
  "cells": [
    {
      "cell_type": "markdown",
      "metadata": {
        "id": "view-in-github",
        "colab_type": "text"
      },
      "source": [
        "<a href=\"https://colab.research.google.com/github/osmarbraz/sri/blob/main/3_1_Embeddings_Word2Vec_Gensim_v1.ipynb\" target=\"_parent\"><img src=\"https://colab.research.google.com/assets/colab-badge.svg\" alt=\"Open In Colab\"/></a>"
      ]
    },
    {
      "cell_type": "markdown",
      "metadata": {
        "id": "IziPWVaeGlWk"
      },
      "source": [
        "# Word Embedding(pt-br) usando Word2Vec\n",
        "\n",
        "Manipulação de de word embendding usando Word2Vec através da biblioteca Gensim Python Library com execução através do Google Colaboratory.\n",
        "\n",
        " Gensim Python Library é uma biblioteca open-source para modelagem de tópicos não supervisionados e processamento de linguagem.\n",
        "Implementado em Python e Cython.\n",
        "Projetado para lidar com grandes volumes de texto, usando fluxo de dados e algoritmos on-line incrementais.\n",
        "Seu diferencial em relação a maioria dos outros software para aprendizado de máquina os quais visam apenas o processamento em memória.<br>\n",
        "\n",
        "Modelo Word2Vec disponibilizado em:\n",
        "http://nilc.icmc.usp.br/embeddings\n",
        "\n",
        "Documentação complementar:\n",
        "https://medium.com/analytics-vidhya/word2vector-using-gensim-e055d35f1cb4"
      ]
    },
    {
      "cell_type": "markdown",
      "metadata": {
        "id": "-FSWa6_L0GON"
      },
      "source": [
        "# 1 Preparação do ambiente\n",
        "Preparação do ambiente para executar o gensim."
      ]
    },
    {
      "cell_type": "markdown",
      "metadata": {
        "id": "gE_YWR2yvfqk"
      },
      "source": [
        "## 1.1 Tratamento de logs"
      ]
    },
    {
      "cell_type": "code",
      "metadata": {
        "id": "RR37-oPNvcSL"
      },
      "source": [
        "#Biblioteca de logging\n",
        "import logging\n",
        "\n",
        "#Formato da mensagem\n",
        "logging.basicConfig(format='%(asctime)s : %(levelname)s : %(message)s', level=logging.INFO)"
      ],
      "execution_count": null,
      "outputs": []
    },
    {
      "cell_type": "markdown",
      "metadata": {
        "id": "RlZIDQO3Ax6w"
      },
      "source": [
        "## 1.2 Parâmetros\n",
        "\n",
        "Parâmetros da execução do notebook.\n",
        "\n",
        "Nome dos modelos em http://nilc.icmc.usp.br/embeddings."
      ]
    },
    {
      "cell_type": "code",
      "metadata": {
        "id": "5IDnDVVBA27l"
      },
      "source": [
        "\n",
        "#Definição do nome do arquivo compactado do modelo\n",
        "arquivoModeloCompactado = 'cbow_s100.zip'\n",
        "\n",
        "#Definição do nome do arquivo do modelo\n",
        "arquivoModelo = 'cbow_s100.txt'\n",
        "\n",
        "logging.info('Parâmetros definidos!')"
      ],
      "execution_count": null,
      "outputs": []
    },
    {
      "cell_type": "markdown",
      "metadata": {
        "id": "ZxFiqbpPQ-CR"
      },
      "source": [
        "## 1.3 Instalação biblioteca"
      ]
    },
    {
      "cell_type": "markdown",
      "metadata": {
        "id": "HdjN6H6t_L08"
      },
      "source": [
        "Instalando o gensim no Google Colaboratory.\n",
        "\n",
        "No Jupiter Notebook executar através \"Anaconda Prompt\".\n"
      ]
    },
    {
      "cell_type": "code",
      "metadata": {
        "id": "BGFVnIzQGrEH",
        "outputId": "fdbe5d8b-711b-47d6-9668-6461f7c2905c",
        "colab": {
          "base_uri": "https://localhost:8080/"
        }
      },
      "source": [
        "#!pip install -U gensim\n",
        "!pip install -U gensim==4.3.1"
      ],
      "execution_count": null,
      "outputs": [
        {
          "output_type": "stream",
          "name": "stdout",
          "text": [
            "Collecting gensim==4.3.1\n",
            "  Downloading gensim-4.3.1-cp310-cp310-manylinux_2_17_x86_64.manylinux2014_x86_64.whl (26.4 MB)\n",
            "\u001b[2K     \u001b[90m━━━━━━━━━━━━━━━━━━━━━━━━━━━━━━━━━━━━━━━━\u001b[0m \u001b[32m26.4/26.4 MB\u001b[0m \u001b[31m20.6 MB/s\u001b[0m eta \u001b[36m0:00:00\u001b[0m\n",
            "\u001b[?25hRequirement already satisfied: numpy>=1.18.5 in /usr/local/lib/python3.10/dist-packages (from gensim==4.3.1) (1.23.5)\n",
            "Requirement already satisfied: scipy>=1.7.0 in /usr/local/lib/python3.10/dist-packages (from gensim==4.3.1) (1.11.2)\n",
            "Requirement already satisfied: smart-open>=1.8.1 in /usr/local/lib/python3.10/dist-packages (from gensim==4.3.1) (6.4.0)\n",
            "Installing collected packages: gensim\n",
            "  Attempting uninstall: gensim\n",
            "    Found existing installation: gensim 4.3.2\n",
            "    Uninstalling gensim-4.3.2:\n",
            "      Successfully uninstalled gensim-4.3.2\n",
            "Successfully installed gensim-4.3.1\n"
          ]
        }
      ]
    },
    {
      "cell_type": "markdown",
      "metadata": {
        "id": "T_dW1tLxwgSM"
      },
      "source": [
        "## 1.4 Download modelo\n",
        "\n",
        "Para usar o Gensim, você pode criar o seu vetor de palavras e treiná-lo ou utilizar um dataset previamente treinado.\n",
        "\n",
        "Neste apresentação utilizamos o dataset fornecido por Kyubyong Park, disponível em http://143.107.183.175:22980/download.php?file=embeddings/word2vec/cbow_s100.zip\n",
        "\n",
        "São dados da Wikipidia Brasileira com:<br>\n",
        "*   100 dimensões\n",
        "*   850Mb Corpus\n",
        "*   929606 vocabulário\n",
        "\n",
        "Outros modelos em  :\n",
        "http://nilc.icmc.usp.br/embeddings"
      ]
    },
    {
      "cell_type": "code",
      "source": [
        "# Realiza o download do arquivo do modelo para o diretório corrente\n",
        "!wget -O $arquivoModeloCompactado http://143.107.183.175:22980/download.php?file=embeddings/word2vec/$arquivoModeloCompactado"
      ],
      "metadata": {
        "colab": {
          "base_uri": "https://localhost:8080/"
        },
        "id": "b3ezweefSCdJ",
        "outputId": "1c15e2cb-be2d-4dad-db7d-c3c0a06e587c"
      },
      "execution_count": null,
      "outputs": [
        {
          "output_type": "stream",
          "name": "stdout",
          "text": [
            "--2023-09-26 12:37:52--  http://143.107.183.175:22980/download.php?file=embeddings/word2vec/cbow_s100.zip\n",
            "Connecting to 143.107.183.175:22980... connected.\n",
            "HTTP request sent, awaiting response... 200 OK\n",
            "Length: 326003567 (311M) [application/octet-stream]\n",
            "Saving to: ‘cbow_s100.zip’\n",
            "\n",
            "cbow_s100.zip       100%[===================>] 310.90M  8.04MB/s    in 39s     \n",
            "\n",
            "2023-09-26 12:38:32 (7.88 MB/s) - ‘cbow_s100.zip’ saved [326003567/326003567]\n",
            "\n"
          ]
        }
      ]
    },
    {
      "cell_type": "markdown",
      "metadata": {
        "id": "Si8lVLtpNgoJ"
      },
      "source": [
        "Descompacta o arquivo do modelo."
      ]
    },
    {
      "cell_type": "code",
      "source": [
        "!unzip -o -j -q \"$arquivoModeloCompactado\" -d \".\"\n",
        "\n",
        "logging.info(\"Terminei a descompactação.\")"
      ],
      "metadata": {
        "id": "HmkLeNsNVnfv"
      },
      "execution_count": null,
      "outputs": []
    },
    {
      "cell_type": "markdown",
      "metadata": {
        "id": "AYvmZSOvZXUm"
      },
      "source": [
        "Mostra o diretório corrente e seus arquivos."
      ]
    },
    {
      "cell_type": "code",
      "metadata": {
        "id": "0EtGSyDWXDxX",
        "outputId": "5a262909-380a-464d-f896-674ddcef77c8",
        "colab": {
          "base_uri": "https://localhost:8080/"
        }
      },
      "source": [
        "!pwd\n",
        "!ls -la"
      ],
      "execution_count": null,
      "outputs": [
        {
          "output_type": "stream",
          "name": "stdout",
          "text": [
            "/content\n",
            "total 1189468\n",
            "drwxr-xr-x 1 root root      4096 Sep 26 12:38 .\n",
            "drwxr-xr-x 1 root root      4096 Sep 26 12:36 ..\n",
            "-rw-r--r-- 1 root root 891982906 Oct  4  2018 cbow_s100.txt\n",
            "-rw-r--r-- 1 root root 326003567 Sep 26 12:38 cbow_s100.zip\n",
            "drwxr-xr-x 4 root root      4096 Sep 22 13:26 .config\n",
            "drwxr-xr-x 1 root root      4096 Sep 22 13:27 sample_data\n"
          ]
        }
      ]
    },
    {
      "cell_type": "markdown",
      "metadata": {
        "id": "gbz-JcsZSARV"
      },
      "source": [
        "# 2 Prepara o modelo\n",
        "Carrega as bibliotecas e modelo pré treinado para executar os exemplos."
      ]
    },
    {
      "cell_type": "markdown",
      "metadata": {
        "id": "yXRXXPxVOzci"
      },
      "source": [
        "## 2.1 Importando as bibliotecas do Gensim\n",
        "Importa as bibliotecas do Gensim para carregar o modelo pré treinado."
      ]
    },
    {
      "cell_type": "code",
      "metadata": {
        "id": "oN7EnHE8OzLj"
      },
      "source": [
        "from IPython.display import display, HTML\n",
        "from jinja2 import Template\n",
        "\n",
        "import warnings\n",
        "warnings.filterwarnings('ignore')\n",
        "\n",
        "import numpy as np\n",
        "import gensim\n",
        "from gensim.models import Word2Vec\n",
        "from gensim.models import KeyedVectors\n",
        "\n",
        "logging.info('Import realizado!')"
      ],
      "execution_count": null,
      "outputs": []
    },
    {
      "cell_type": "markdown",
      "metadata": {
        "id": "Ysl3AA3sPPJK"
      },
      "source": [
        "## 2.2 Carregando o modelo"
      ]
    },
    {
      "cell_type": "code",
      "source": [
        "model = KeyedVectors.load_word2vec_format(arquivoModelo)\n",
        "logging.info('Modelo carregado!')"
      ],
      "metadata": {
        "id": "pTZxGvpwXP-s"
      },
      "execution_count": null,
      "outputs": []
    },
    {
      "cell_type": "markdown",
      "metadata": {
        "id": "7SpWla9ZPcSs"
      },
      "source": [
        "Mostra alguns dados do modelo carregado para saber se ele foi carregado."
      ]
    },
    {
      "cell_type": "code",
      "metadata": {
        "id": "7fvMeXqkPB4Z",
        "outputId": "1716fd78-a1d3-4c10-c1d0-db92bf7e632c",
        "colab": {
          "base_uri": "https://localhost:8080/"
        }
      },
      "source": [
        "print(model)"
      ],
      "execution_count": null,
      "outputs": [
        {
          "output_type": "stream",
          "name": "stdout",
          "text": [
            "KeyedVectors<vector_size=100, 929606 keys>\n"
          ]
        }
      ]
    },
    {
      "cell_type": "markdown",
      "source": [
        "A palavra `rei` possui entrada no modelo e um conjunto de pesos."
      ],
      "metadata": {
        "id": "02MSfvGZE_XU"
      }
    },
    {
      "cell_type": "code",
      "source": [
        "print(len(model['rei']))\n",
        "print(model['rei'])"
      ],
      "metadata": {
        "colab": {
          "base_uri": "https://localhost:8080/"
        },
        "id": "K0iBJifdE-x1",
        "outputId": "c8143f9b-8742-49e7-faa7-95645b5ee5cc"
      },
      "execution_count": null,
      "outputs": [
        {
          "output_type": "stream",
          "name": "stdout",
          "text": [
            "100\n",
            "[-0.112856 -0.031181 -0.082636  0.02254   0.465806  0.036634 -0.298364\n",
            " -0.008195 -0.179189 -0.211212 -0.161554  0.10146  -0.322099 -0.052593\n",
            "  0.122636  0.050005  0.253793  0.152922  0.074108 -0.225479 -0.210047\n",
            "  0.287319  0.03736   0.168659 -0.552812  0.365903 -0.127217 -0.254735\n",
            "  0.485083  0.27677   0.154973 -0.058206 -0.169606 -0.280174 -0.07972\n",
            " -0.487805  0.503746 -0.250429  0.044544  0.194235 -0.23043  -0.094684\n",
            "  0.115602 -0.345173  0.413301 -0.044894 -0.039231 -0.033985  0.034322\n",
            " -0.281035  0.116224 -0.148824 -0.372722  0.06823  -0.397361 -0.174968\n",
            "  0.3687    0.086867  0.147501 -0.319509 -0.466883 -0.224919  0.081631\n",
            "  0.010889  0.098368  0.220969  0.163031 -0.423855  0.079595 -0.249087\n",
            " -0.423565 -0.13188  -0.233184 -0.302046 -0.047613 -0.492572  0.183027\n",
            "  0.036602 -0.238503 -0.031511  0.160806  0.049208  0.216763 -0.005949\n",
            "  0.587419 -0.277021 -0.074845 -0.343154  0.006842 -0.213375 -0.050197\n",
            " -0.172439 -0.021656  0.04522   0.012773  0.099418 -0.100936 -0.004556\n",
            " -0.514799  0.015453]\n"
          ]
        }
      ]
    },
    {
      "cell_type": "markdown",
      "metadata": {
        "id": "fsTQ5rPvr0lt"
      },
      "source": [
        "Mostra as 10 palavras mais similares a `rei`."
      ]
    },
    {
      "cell_type": "code",
      "metadata": {
        "id": "UPbz8n6Or34Y",
        "outputId": "5b591541-eb31-4e89-812b-0fed5c53d131",
        "colab": {
          "base_uri": "https://localhost:8080/"
        }
      },
      "source": [
        "model.most_similar('rei')"
      ],
      "execution_count": null,
      "outputs": [
        {
          "output_type": "execute_result",
          "data": {
            "text/plain": [
              "[('imperador', 0.8816402554512024),\n",
              " ('príncipe', 0.8355997204780579),\n",
              " ('ex-rei', 0.809827983379364),\n",
              " ('monarca', 0.8086540102958679),\n",
              " ('príncipe-herdeiro', 0.7889789342880249),\n",
              " ('faraó', 0.788607120513916),\n",
              " ('sacro-imperador', 0.7805773615837097),\n",
              " ('grão-príncipe', 0.7798528075218201),\n",
              " ('príncipe-regente', 0.7620863914489746),\n",
              " ('sultão', 0.761908233165741)]"
            ]
          },
          "metadata": {},
          "execution_count": 11
        }
      ]
    },
    {
      "cell_type": "markdown",
      "metadata": {
        "id": "6xlt_r14Qkyn"
      },
      "source": [
        "## 2.3 Função de apresentação dos dados\n",
        "Função para melhorar a apresentação dos dados dos exemplos."
      ]
    },
    {
      "cell_type": "code",
      "metadata": {
        "id": "5iVDsYpYQiuW"
      },
      "source": [
        "table_list_template = \"\"\"\n",
        "<table>\n",
        "        <tr>\n",
        "           <th>Palavra</th>\n",
        "           <th>Similaridade</th>\n",
        "        </tr>\n",
        "        {% for item in items%}\n",
        "        <TR>\n",
        "           <TD class=\"c1\">{{item[0]}}</TD>\n",
        "           <TD class=\"c2\">{{item[1]}}</TD>\n",
        "        </TR>\n",
        "        {% endfor %}\n",
        "</table>\n",
        "\"\"\"\n",
        "def most_similar(positive, negative):\n",
        "    nn = model.most_similar(positive=positive, negative=negative)\n",
        "    tmpl = Template(table_list_template)\n",
        "    output_html = tmpl.render(items=nn)\n",
        "    return HTML(output_html)\n",
        "\n",
        "logging.info('Função criada')"
      ],
      "execution_count": null,
      "outputs": []
    },
    {
      "cell_type": "markdown",
      "metadata": {
        "id": "3ik0m91YSiwn"
      },
      "source": [
        "# 3 Exemplos"
      ]
    },
    {
      "cell_type": "markdown",
      "metadata": {
        "id": "Pv3x2kEhXKOu"
      },
      "source": [
        "**DICA**:<br>\n",
        "Para palavras com sinais léxicos, utilizar o caractere \"**u**\" antes da mesma para codifica-la como utf-8.\n"
      ]
    },
    {
      "cell_type": "markdown",
      "metadata": {
        "id": "xbVbBUdJ-yki"
      },
      "source": [
        "## 3.1 Comparando palavras diferentes"
      ]
    },
    {
      "cell_type": "markdown",
      "metadata": {
        "id": "BjXmJYYTXaoa"
      },
      "source": [
        "Rei + Mulher – Homem = ?"
      ]
    },
    {
      "cell_type": "code",
      "metadata": {
        "id": "gOiNNbclQyK9",
        "outputId": "83c6eaf8-7b31-4878-f733-5c0ee2ddf188",
        "colab": {
          "base_uri": "https://localhost:8080/"
        }
      },
      "source": [
        "most_similar(positive=['rei','mulher'], negative=['homem'])"
      ],
      "execution_count": null,
      "outputs": [
        {
          "output_type": "execute_result",
          "data": {
            "text/plain": [
              "<IPython.core.display.HTML object>"
            ],
            "text/html": [
              " \n",
              "<table> \n",
              "        <tr>  \n",
              "           <th>Palavra</th>   \n",
              "           <th>Similaridade</th>   \n",
              "        </tr>  \n",
              "          \n",
              "        <TR>     \n",
              "           <TD class=\"c1\">esposa</TD>     \n",
              "           <TD class=\"c2\">0.688875675201416</TD>   \n",
              "        </TR>   \n",
              "          \n",
              "        <TR>     \n",
              "           <TD class=\"c1\">filha</TD>     \n",
              "           <TD class=\"c2\">0.6741011142730713</TD>   \n",
              "        </TR>   \n",
              "          \n",
              "        <TR>     \n",
              "           <TD class=\"c1\">governanta</TD>     \n",
              "           <TD class=\"c2\">0.6724554300308228</TD>   \n",
              "        </TR>   \n",
              "          \n",
              "        <TR>     \n",
              "           <TD class=\"c1\">sobrinha</TD>     \n",
              "           <TD class=\"c2\">0.6699941158294678</TD>   \n",
              "        </TR>   \n",
              "          \n",
              "        <TR>     \n",
              "           <TD class=\"c1\">madrasta</TD>     \n",
              "           <TD class=\"c2\">0.6670833230018616</TD>   \n",
              "        </TR>   \n",
              "          \n",
              "        <TR>     \n",
              "           <TD class=\"c1\">concubina</TD>     \n",
              "           <TD class=\"c2\">0.6659663915634155</TD>   \n",
              "        </TR>   \n",
              "          \n",
              "        <TR>     \n",
              "           <TD class=\"c1\">dama-de-companhia</TD>     \n",
              "           <TD class=\"c2\">0.6614803075790405</TD>   \n",
              "        </TR>   \n",
              "          \n",
              "        <TR>     \n",
              "           <TD class=\"c1\">benção</TD>     \n",
              "           <TD class=\"c2\">0.6593201160430908</TD>   \n",
              "        </TR>   \n",
              "          \n",
              "        <TR>     \n",
              "           <TD class=\"c1\">múmia</TD>     \n",
              "           <TD class=\"c2\">0.6535747051239014</TD>   \n",
              "        </TR>   \n",
              "          \n",
              "        <TR>     \n",
              "           <TD class=\"c1\">bênção</TD>     \n",
              "           <TD class=\"c2\">0.6500141620635986</TD>   \n",
              "        </TR>   \n",
              "        \n",
              "</table> "
            ]
          },
          "metadata": {},
          "execution_count": 13
        }
      ]
    },
    {
      "cell_type": "markdown",
      "metadata": {
        "id": "eSOaOjWOXjPo"
      },
      "source": [
        "Rainha + Homem – Mulher = ?"
      ]
    },
    {
      "cell_type": "code",
      "metadata": {
        "id": "-srA-OejXm-n",
        "outputId": "8075a18f-9917-41e0-eeec-e86875153de6",
        "colab": {
          "base_uri": "https://localhost:8080/"
        }
      },
      "source": [
        "most_similar(positive=[u'rainha',u'homem'], negative=[u'mulher'])"
      ],
      "execution_count": null,
      "outputs": [
        {
          "output_type": "execute_result",
          "data": {
            "text/plain": [
              "<IPython.core.display.HTML object>"
            ],
            "text/html": [
              " \n",
              "<table> \n",
              "        <tr>  \n",
              "           <th>Palavra</th>   \n",
              "           <th>Similaridade</th>   \n",
              "        </tr>  \n",
              "          \n",
              "        <TR>     \n",
              "           <TD class=\"c1\">rapaz</TD>     \n",
              "           <TD class=\"c2\">0.596022367477417</TD>   \n",
              "        </TR>   \n",
              "          \n",
              "        <TR>     \n",
              "           <TD class=\"c1\">moço</TD>     \n",
              "           <TD class=\"c2\">0.5901417136192322</TD>   \n",
              "        </TR>   \n",
              "          \n",
              "        <TR>     \n",
              "           <TD class=\"c1\">frêmito</TD>     \n",
              "           <TD class=\"c2\">0.5900194048881531</TD>   \n",
              "        </TR>   \n",
              "          \n",
              "        <TR>     \n",
              "           <TD class=\"c1\">pescador</TD>     \n",
              "           <TD class=\"c2\">0.5842908620834351</TD>   \n",
              "        </TR>   \n",
              "          \n",
              "        <TR>     \n",
              "           <TD class=\"c1\">rei</TD>     \n",
              "           <TD class=\"c2\">0.5820015668869019</TD>   \n",
              "        </TR>   \n",
              "          \n",
              "        <TR>     \n",
              "           <TD class=\"c1\">energúmeno</TD>     \n",
              "           <TD class=\"c2\">0.5774466395378113</TD>   \n",
              "        </TR>   \n",
              "          \n",
              "        <TR>     \n",
              "           <TD class=\"c1\">prelado</TD>     \n",
              "           <TD class=\"c2\">0.5773632526397705</TD>   \n",
              "        </TR>   \n",
              "          \n",
              "        <TR>     \n",
              "           <TD class=\"c1\">herói</TD>     \n",
              "           <TD class=\"c2\">0.5767453908920288</TD>   \n",
              "        </TR>   \n",
              "          \n",
              "        <TR>     \n",
              "           <TD class=\"c1\">fazendeiro</TD>     \n",
              "           <TD class=\"c2\">0.5760966539382935</TD>   \n",
              "        </TR>   \n",
              "          \n",
              "        <TR>     \n",
              "           <TD class=\"c1\">panegírico</TD>     \n",
              "           <TD class=\"c2\">0.5754227638244629</TD>   \n",
              "        </TR>   \n",
              "        \n",
              "</table> "
            ]
          },
          "metadata": {},
          "execution_count": 14
        }
      ]
    },
    {
      "cell_type": "markdown",
      "metadata": {
        "id": "UqXKhIKJSsld"
      },
      "source": [
        "Brasil + Criminalidade = ?"
      ]
    },
    {
      "cell_type": "code",
      "metadata": {
        "id": "KjQ4Tw2xStdH",
        "outputId": "711f41f0-4d5f-4c6e-dbda-d5440189591a",
        "colab": {
          "base_uri": "https://localhost:8080/"
        }
      },
      "source": [
        "most_similar(positive=['brasil',u'criminalidade'], negative=[])"
      ],
      "execution_count": null,
      "outputs": [
        {
          "output_type": "execute_result",
          "data": {
            "text/plain": [
              "<IPython.core.display.HTML object>"
            ],
            "text/html": [
              " \n",
              "<table> \n",
              "        <tr>  \n",
              "           <th>Palavra</th>   \n",
              "           <th>Similaridade</th>   \n",
              "        </tr>  \n",
              "          \n",
              "        <TR>     \n",
              "           <TD class=\"c1\">haiti</TD>     \n",
              "           <TD class=\"c2\">0.6928511261940002</TD>   \n",
              "        </TR>   \n",
              "          \n",
              "        <TR>     \n",
              "           <TD class=\"c1\">mèdio-oriente</TD>     \n",
              "           <TD class=\"c2\">0.6729540228843689</TD>   \n",
              "        </TR>   \n",
              "          \n",
              "        <TR>     \n",
              "           <TD class=\"c1\">ocidente</TD>     \n",
              "           <TD class=\"c2\">0.6618376970291138</TD>   \n",
              "        </TR>   \n",
              "          \n",
              "        <TR>     \n",
              "           <TD class=\"c1\">japão</TD>     \n",
              "           <TD class=\"c2\">0.6592310070991516</TD>   \n",
              "        </TR>   \n",
              "          \n",
              "        <TR>     \n",
              "           <TD class=\"c1\">emtanto</TD>     \n",
              "           <TD class=\"c2\">0.6588366627693176</TD>   \n",
              "        </TR>   \n",
              "          \n",
              "        <TR>     \n",
              "           <TD class=\"c1\">luxembur-go</TD>     \n",
              "           <TD class=\"c2\">0.6531606316566467</TD>   \n",
              "        </TR>   \n",
              "          \n",
              "        <TR>     \n",
              "           <TD class=\"c1\">eixo-x</TD>     \n",
              "           <TD class=\"c2\">0.6494155526161194</TD>   \n",
              "        </TR>   \n",
              "          \n",
              "        <TR>     \n",
              "           <TD class=\"c1\">mediterrâ-neo</TD>     \n",
              "           <TD class=\"c2\">0.6454842686653137</TD>   \n",
              "        </TR>   \n",
              "          \n",
              "        <TR>     \n",
              "           <TD class=\"c1\">romildão</TD>     \n",
              "           <TD class=\"c2\">0.6439343690872192</TD>   \n",
              "        </TR>   \n",
              "          \n",
              "        <TR>     \n",
              "           <TD class=\"c1\">desemprego</TD>     \n",
              "           <TD class=\"c2\">0.6430919170379639</TD>   \n",
              "        </TR>   \n",
              "        \n",
              "</table> "
            ]
          },
          "metadata": {},
          "execution_count": 15
        }
      ]
    },
    {
      "cell_type": "markdown",
      "metadata": {
        "id": "mDAZ8ZsWXxno"
      },
      "source": [
        "Outros exemplos:"
      ]
    },
    {
      "cell_type": "code",
      "metadata": {
        "id": "ibhqcCc1Xzv6",
        "outputId": "5f1d019e-3f4f-4b46-b5f7-2b02eeb2c876",
        "colab": {
          "base_uri": "https://localhost:8080/"
        }
      },
      "source": [
        "most_similar(positive=['presidente'], negative=['poder'])"
      ],
      "execution_count": null,
      "outputs": [
        {
          "output_type": "execute_result",
          "data": {
            "text/plain": [
              "<IPython.core.display.HTML object>"
            ],
            "text/html": [
              " \n",
              "<table> \n",
              "        <tr>  \n",
              "           <th>Palavra</th>   \n",
              "           <th>Similaridade</th>   \n",
              "        </tr>  \n",
              "          \n",
              "        <TR>     \n",
              "           <TD class=\"c1\">vice-presidente</TD>     \n",
              "           <TD class=\"c2\">0.5463547706604004</TD>   \n",
              "        </TR>   \n",
              "          \n",
              "        <TR>     \n",
              "           <TD class=\"c1\">presi-dente</TD>     \n",
              "           <TD class=\"c2\">0.5321359038352966</TD>   \n",
              "        </TR>   \n",
              "          \n",
              "        <TR>     \n",
              "           <TD class=\"c1\">diretor-presidente</TD>     \n",
              "           <TD class=\"c2\">0.504767894744873</TD>   \n",
              "        </TR>   \n",
              "          \n",
              "        <TR>     \n",
              "           <TD class=\"c1\">diretor-executivo</TD>     \n",
              "           <TD class=\"c2\">0.49954476952552795</TD>   \n",
              "        </TR>   \n",
              "          \n",
              "        <TR>     \n",
              "           <TD class=\"c1\">pre-sidente</TD>     \n",
              "           <TD class=\"c2\">0.48533493280410767</TD>   \n",
              "        </TR>   \n",
              "          \n",
              "        <TR>     \n",
              "           <TD class=\"c1\">presidenta</TD>     \n",
              "           <TD class=\"c2\">0.4851401746273041</TD>   \n",
              "        </TR>   \n",
              "          \n",
              "        <TR>     \n",
              "           <TD class=\"c1\">presidente-executivo</TD>     \n",
              "           <TD class=\"c2\">0.4699709713459015</TD>   \n",
              "        </TR>   \n",
              "          \n",
              "        <TR>     \n",
              "           <TD class=\"c1\">co-presidente</TD>     \n",
              "           <TD class=\"c2\">0.4606279134750366</TD>   \n",
              "        </TR>   \n",
              "          \n",
              "        <TR>     \n",
              "           <TD class=\"c1\">primeiro-secretário</TD>     \n",
              "           <TD class=\"c2\">0.4578101336956024</TD>   \n",
              "        </TR>   \n",
              "          \n",
              "        <TR>     \n",
              "           <TD class=\"c1\">senadora</TD>     \n",
              "           <TD class=\"c2\">0.4525180459022522</TD>   \n",
              "        </TR>   \n",
              "        \n",
              "</table> "
            ]
          },
          "metadata": {},
          "execution_count": 16
        }
      ]
    },
    {
      "cell_type": "code",
      "metadata": {
        "id": "DPcPNH25X8ph",
        "outputId": "df029e42-41ab-469c-80c2-dbf88e69d75e",
        "colab": {
          "base_uri": "https://localhost:8080/"
        }
      },
      "source": [
        "most_similar(positive=['brasil','estudo'], negative=['carnaval'])"
      ],
      "execution_count": null,
      "outputs": [
        {
          "output_type": "execute_result",
          "data": {
            "text/plain": [
              "<IPython.core.display.HTML object>"
            ],
            "text/html": [
              " \n",
              "<table> \n",
              "        <tr>  \n",
              "           <th>Palavra</th>   \n",
              "           <th>Similaridade</th>   \n",
              "        </tr>  \n",
              "          \n",
              "        <TR>     \n",
              "           <TD class=\"c1\">mapa</TD>     \n",
              "           <TD class=\"c2\">0.6093395948410034</TD>   \n",
              "        </TR>   \n",
              "          \n",
              "        <TR>     \n",
              "           <TD class=\"c1\">radiofármaco</TD>     \n",
              "           <TD class=\"c2\">0.5723233819007874</TD>   \n",
              "        </TR>   \n",
              "          \n",
              "        <TR>     \n",
              "           <TD class=\"c1\">levantamento</TD>     \n",
              "           <TD class=\"c2\">0.5550850033760071</TD>   \n",
              "        </TR>   \n",
              "          \n",
              "        <TR>     \n",
              "           <TD class=\"c1\">periódico</TD>     \n",
              "           <TD class=\"c2\">0.5530095100402832</TD>   \n",
              "        </TR>   \n",
              "          \n",
              "        <TR>     \n",
              "           <TD class=\"c1\">glog</TD>     \n",
              "           <TD class=\"c2\">0.5420612692832947</TD>   \n",
              "        </TR>   \n",
              "          \n",
              "        <TR>     \n",
              "           <TD class=\"c1\">caixabi</TD>     \n",
              "           <TD class=\"c2\">0.5415791273117065</TD>   \n",
              "        </TR>   \n",
              "          \n",
              "        <TR>     \n",
              "           <TD class=\"c1\">tópico</TD>     \n",
              "           <TD class=\"c2\">0.5360736846923828</TD>   \n",
              "        </TR>   \n",
              "          \n",
              "        <TR>     \n",
              "           <TD class=\"c1\">relatório</TD>     \n",
              "           <TD class=\"c2\">0.5359439253807068</TD>   \n",
              "        </TR>   \n",
              "          \n",
              "        <TR>     \n",
              "           <TD class=\"c1\">avaliador</TD>     \n",
              "           <TD class=\"c2\">0.5354234576225281</TD>   \n",
              "        </TR>   \n",
              "          \n",
              "        <TR>     \n",
              "           <TD class=\"c1\">falso-positivo</TD>     \n",
              "           <TD class=\"c2\">0.5353556871414185</TD>   \n",
              "        </TR>   \n",
              "        \n",
              "</table> "
            ]
          },
          "metadata": {},
          "execution_count": 17
        }
      ]
    },
    {
      "cell_type": "code",
      "metadata": {
        "id": "Ab_htKHBX-GS",
        "outputId": "a2b3b286-ebff-4a81-80a4-58b7f0f64f74",
        "colab": {
          "base_uri": "https://localhost:8080/"
        }
      },
      "source": [
        "most_similar(positive=['brasil','universidade'], negative=[])"
      ],
      "execution_count": null,
      "outputs": [
        {
          "output_type": "execute_result",
          "data": {
            "text/plain": [
              "<IPython.core.display.HTML object>"
            ],
            "text/html": [
              " \n",
              "<table> \n",
              "        <tr>  \n",
              "           <th>Palavra</th>   \n",
              "           <th>Similaridade</th>   \n",
              "        </tr>  \n",
              "          \n",
              "        <TR>     \n",
              "           <TD class=\"c1\">grand-palais</TD>     \n",
              "           <TD class=\"c2\">0.6825948357582092</TD>   \n",
              "        </TR>   \n",
              "          \n",
              "        <TR>     \n",
              "           <TD class=\"c1\">liceu</TD>     \n",
              "           <TD class=\"c2\">0.6681314706802368</TD>   \n",
              "        </TR>   \n",
              "          \n",
              "        <TR>     \n",
              "           <TD class=\"c1\">teatro-cine</TD>     \n",
              "           <TD class=\"c2\">0.6585230231285095</TD>   \n",
              "        </TR>   \n",
              "          \n",
              "        <TR>     \n",
              "           <TD class=\"c1\">denny's</TD>     \n",
              "           <TD class=\"c2\">0.6575983762741089</TD>   \n",
              "        </TR>   \n",
              "          \n",
              "        <TR>     \n",
              "           <TD class=\"c1\">euro00</TD>     \n",
              "           <TD class=\"c2\">0.6547542810440063</TD>   \n",
              "        </TR>   \n",
              "          \n",
              "        <TR>     \n",
              "           <TD class=\"c1\">lu-xemburgo</TD>     \n",
              "           <TD class=\"c2\">0.6533187627792358</TD>   \n",
              "        </TR>   \n",
              "          \n",
              "        <TR>     \n",
              "           <TD class=\"c1\">ymca</TD>     \n",
              "           <TD class=\"c2\">0.6502246856689453</TD>   \n",
              "        </TR>   \n",
              "          \n",
              "        <TR>     \n",
              "           <TD class=\"c1\">hoftheater</TD>     \n",
              "           <TD class=\"c2\">0.6485138535499573</TD>   \n",
              "        </TR>   \n",
              "          \n",
              "        <TR>     \n",
              "           <TD class=\"c1\">contraturno</TD>     \n",
              "           <TD class=\"c2\">0.6484382748603821</TD>   \n",
              "        </TR>   \n",
              "          \n",
              "        <TR>     \n",
              "           <TD class=\"c1\">institudo</TD>     \n",
              "           <TD class=\"c2\">0.646901547908783</TD>   \n",
              "        </TR>   \n",
              "        \n",
              "</table> "
            ]
          },
          "metadata": {},
          "execution_count": 18
        }
      ]
    },
    {
      "cell_type": "code",
      "metadata": {
        "id": "O-JbOjb5X_x4",
        "outputId": "078bbd0f-8591-4df5-ee75-a605fb93cc43",
        "colab": {
          "base_uri": "https://localhost:8080/"
        }
      },
      "source": [
        "most_similar(positive=[u'homem',u'máquina'], negative=[])"
      ],
      "execution_count": null,
      "outputs": [
        {
          "output_type": "execute_result",
          "data": {
            "text/plain": [
              "<IPython.core.display.HTML object>"
            ],
            "text/html": [
              " \n",
              "<table> \n",
              "        <tr>  \n",
              "           <th>Palavra</th>   \n",
              "           <th>Similaridade</th>   \n",
              "        </tr>  \n",
              "          \n",
              "        <TR>     \n",
              "           <TD class=\"c1\">banhista</TD>     \n",
              "           <TD class=\"c2\">0.7167549133300781</TD>   \n",
              "        </TR>   \n",
              "          \n",
              "        <TR>     \n",
              "           <TD class=\"c1\">mototaxi</TD>     \n",
              "           <TD class=\"c2\">0.69287109375</TD>   \n",
              "        </TR>   \n",
              "          \n",
              "        <TR>     \n",
              "           <TD class=\"c1\">guante</TD>     \n",
              "           <TD class=\"c2\">0.6866202354431152</TD>   \n",
              "        </TR>   \n",
              "          \n",
              "        <TR>     \n",
              "           <TD class=\"c1\">ascensorista</TD>     \n",
              "           <TD class=\"c2\">0.685158908367157</TD>   \n",
              "        </TR>   \n",
              "          \n",
              "        <TR>     \n",
              "           <TD class=\"c1\">berlinde</TD>     \n",
              "           <TD class=\"c2\">0.6773380637168884</TD>   \n",
              "        </TR>   \n",
              "          \n",
              "        <TR>     \n",
              "           <TD class=\"c1\">manete</TD>     \n",
              "           <TD class=\"c2\">0.6750791668891907</TD>   \n",
              "        </TR>   \n",
              "          \n",
              "        <TR>     \n",
              "           <TD class=\"c1\">vidente</TD>     \n",
              "           <TD class=\"c2\">0.6726037859916687</TD>   \n",
              "        </TR>   \n",
              "          \n",
              "        <TR>     \n",
              "           <TD class=\"c1\">fitinha</TD>     \n",
              "           <TD class=\"c2\">0.6669137477874756</TD>   \n",
              "        </TR>   \n",
              "          \n",
              "        <TR>     \n",
              "           <TD class=\"c1\">rapaz</TD>     \n",
              "           <TD class=\"c2\">0.6660336852073669</TD>   \n",
              "        </TR>   \n",
              "          \n",
              "        <TR>     \n",
              "           <TD class=\"c1\">manifestante</TD>     \n",
              "           <TD class=\"c2\">0.6638907194137573</TD>   \n",
              "        </TR>   \n",
              "        \n",
              "</table> "
            ]
          },
          "metadata": {},
          "execution_count": 19
        }
      ]
    },
    {
      "cell_type": "code",
      "metadata": {
        "id": "0oQPhGYNYB0Z",
        "outputId": "d917d0db-6285-41ee-973a-bf48ed1967fb",
        "colab": {
          "base_uri": "https://localhost:8080/"
        }
      },
      "source": [
        "most_similar(positive=[u'palio',u'vw'], negative=[u'fiat'])"
      ],
      "execution_count": null,
      "outputs": [
        {
          "output_type": "execute_result",
          "data": {
            "text/plain": [
              "<IPython.core.display.HTML object>"
            ],
            "text/html": [
              " \n",
              "<table> \n",
              "        <tr>  \n",
              "           <th>Palavra</th>   \n",
              "           <th>Similaridade</th>   \n",
              "        </tr>  \n",
              "          \n",
              "        <TR>     \n",
              "           <TD class=\"c1\">fiorino</TD>     \n",
              "           <TD class=\"c2\">0.6193507313728333</TD>   \n",
              "        </TR>   \n",
              "          \n",
              "        <TR>     \n",
              "           <TD class=\"c1\">uno</TD>     \n",
              "           <TD class=\"c2\">0.5799717903137207</TD>   \n",
              "        </TR>   \n",
              "          \n",
              "        <TR>     \n",
              "           <TD class=\"c1\">doblò</TD>     \n",
              "           <TD class=\"c2\">0.5427682995796204</TD>   \n",
              "        </TR>   \n",
              "          \n",
              "        <TR>     \n",
              "           <TD class=\"c1\">mobi</TD>     \n",
              "           <TD class=\"c2\">0.5371865034103394</TD>   \n",
              "        </TR>   \n",
              "          \n",
              "        <TR>     \n",
              "           <TD class=\"c1\">barchetta</TD>     \n",
              "           <TD class=\"c2\">0.49594664573669434</TD>   \n",
              "        </TR>   \n",
              "          \n",
              "        <TR>     \n",
              "           <TD class=\"c1\">ecosport</TD>     \n",
              "           <TD class=\"c2\">0.4901596009731293</TD>   \n",
              "        </TR>   \n",
              "          \n",
              "        <TR>     \n",
              "           <TD class=\"c1\">hb00</TD>     \n",
              "           <TD class=\"c2\">0.48337042331695557</TD>   \n",
              "        </TR>   \n",
              "          \n",
              "        <TR>     \n",
              "           <TD class=\"c1\">veloster</TD>     \n",
              "           <TD class=\"c2\">0.47979313135147095</TD>   \n",
              "        </TR>   \n",
              "          \n",
              "        <TR>     \n",
              "           <TD class=\"c1\">cr.00</TD>     \n",
              "           <TD class=\"c2\">0.47686779499053955</TD>   \n",
              "        </TR>   \n",
              "          \n",
              "        <TR>     \n",
              "           <TD class=\"c1\">stilo</TD>     \n",
              "           <TD class=\"c2\">0.4720591604709625</TD>   \n",
              "        </TR>   \n",
              "        \n",
              "</table> "
            ]
          },
          "metadata": {},
          "execution_count": 20
        }
      ]
    },
    {
      "cell_type": "code",
      "metadata": {
        "id": "tyBdekREYcjh",
        "outputId": "51670139-9d01-4bea-9273-34cb32d7d636",
        "colab": {
          "base_uri": "https://localhost:8080/"
        }
      },
      "source": [
        "most_similar(positive=[u'roma',u'alemanha'], negative=[u'itália'])"
      ],
      "execution_count": null,
      "outputs": [
        {
          "output_type": "execute_result",
          "data": {
            "text/plain": [
              "<IPython.core.display.HTML object>"
            ],
            "text/html": [
              " \n",
              "<table> \n",
              "        <tr>  \n",
              "           <th>Palavra</th>   \n",
              "           <th>Similaridade</th>   \n",
              "        </tr>  \n",
              "          \n",
              "        <TR>     \n",
              "           <TD class=\"c1\">avinhão</TD>     \n",
              "           <TD class=\"c2\">0.7504276633262634</TD>   \n",
              "        </TR>   \n",
              "          \n",
              "        <TR>     \n",
              "           <TD class=\"c1\">florença</TD>     \n",
              "           <TD class=\"c2\">0.7407116889953613</TD>   \n",
              "        </TR>   \n",
              "          \n",
              "        <TR>     \n",
              "           <TD class=\"c1\">ravena</TD>     \n",
              "           <TD class=\"c2\">0.7384095788002014</TD>   \n",
              "        </TR>   \n",
              "          \n",
              "        <TR>     \n",
              "           <TD class=\"c1\">constantinopla</TD>     \n",
              "           <TD class=\"c2\">0.7250113487243652</TD>   \n",
              "        </TR>   \n",
              "          \n",
              "        <TR>     \n",
              "           <TD class=\"c1\">sárdis</TD>     \n",
              "           <TD class=\"c2\">0.7127199172973633</TD>   \n",
              "        </TR>   \n",
              "          \n",
              "        <TR>     \n",
              "           <TD class=\"c1\">cartago</TD>     \n",
              "           <TD class=\"c2\">0.7124226093292236</TD>   \n",
              "        </TR>   \n",
              "          \n",
              "        <TR>     \n",
              "           <TD class=\"c1\">veneza</TD>     \n",
              "           <TD class=\"c2\">0.7082253694534302</TD>   \n",
              "        </TR>   \n",
              "          \n",
              "        <TR>     \n",
              "           <TD class=\"c1\">gênova</TD>     \n",
              "           <TD class=\"c2\">0.6928679347038269</TD>   \n",
              "        </TR>   \n",
              "          \n",
              "        <TR>     \n",
              "           <TD class=\"c1\">atenas</TD>     \n",
              "           <TD class=\"c2\">0.6919061541557312</TD>   \n",
              "        </TR>   \n",
              "          \n",
              "        <TR>     \n",
              "           <TD class=\"c1\">amório</TD>     \n",
              "           <TD class=\"c2\">0.6917916536331177</TD>   \n",
              "        </TR>   \n",
              "        \n",
              "</table> "
            ]
          },
          "metadata": {},
          "execution_count": 21
        }
      ]
    },
    {
      "cell_type": "code",
      "metadata": {
        "id": "HBZT91MNYe3a",
        "outputId": "157b3485-0694-4b75-b1cc-e0a45f8776f2",
        "colab": {
          "base_uri": "https://localhost:8080/"
        }
      },
      "source": [
        "most_similar(positive=[u'lendo',u'jogado'], negative=[u'lido'])"
      ],
      "execution_count": null,
      "outputs": [
        {
          "output_type": "execute_result",
          "data": {
            "text/plain": [
              "<IPython.core.display.HTML object>"
            ],
            "text/html": [
              " \n",
              "<table> \n",
              "        <tr>  \n",
              "           <th>Palavra</th>   \n",
              "           <th>Similaridade</th>   \n",
              "        </tr>  \n",
              "          \n",
              "        <TR>     \n",
              "           <TD class=\"c1\">roubando</TD>     \n",
              "           <TD class=\"c2\">0.7006303668022156</TD>   \n",
              "        </TR>   \n",
              "          \n",
              "        <TR>     \n",
              "           <TD class=\"c1\">caçando</TD>     \n",
              "           <TD class=\"c2\">0.6921532154083252</TD>   \n",
              "        </TR>   \n",
              "          \n",
              "        <TR>     \n",
              "           <TD class=\"c1\">descansando</TD>     \n",
              "           <TD class=\"c2\">0.6807905435562134</TD>   \n",
              "        </TR>   \n",
              "          \n",
              "        <TR>     \n",
              "           <TD class=\"c1\">jogando</TD>     \n",
              "           <TD class=\"c2\">0.6715488433837891</TD>   \n",
              "        </TR>   \n",
              "          \n",
              "        <TR>     \n",
              "           <TD class=\"c1\">pegando</TD>     \n",
              "           <TD class=\"c2\">0.6684536933898926</TD>   \n",
              "        </TR>   \n",
              "          \n",
              "        <TR>     \n",
              "           <TD class=\"c1\">consertando</TD>     \n",
              "           <TD class=\"c2\">0.6674918532371521</TD>   \n",
              "        </TR>   \n",
              "          \n",
              "        <TR>     \n",
              "           <TD class=\"c1\">pulando</TD>     \n",
              "           <TD class=\"c2\">0.658521294593811</TD>   \n",
              "        </TR>   \n",
              "          \n",
              "        <TR>     \n",
              "           <TD class=\"c1\">virando</TD>     \n",
              "           <TD class=\"c2\">0.6568830013275146</TD>   \n",
              "        </TR>   \n",
              "          \n",
              "        <TR>     \n",
              "           <TD class=\"c1\">polindo</TD>     \n",
              "           <TD class=\"c2\">0.655945360660553</TD>   \n",
              "        </TR>   \n",
              "          \n",
              "        <TR>     \n",
              "           <TD class=\"c1\">fotografando</TD>     \n",
              "           <TD class=\"c2\">0.6485264301300049</TD>   \n",
              "        </TR>   \n",
              "        \n",
              "</table> "
            ]
          },
          "metadata": {},
          "execution_count": 22
        }
      ]
    },
    {
      "cell_type": "code",
      "metadata": {
        "id": "cdIriXbMYhyx",
        "outputId": "53ef15cb-dab9-459b-f6f8-3804cba4b4fc",
        "colab": {
          "base_uri": "https://localhost:8080/"
        }
      },
      "source": [
        "most_similar(positive=[u'nuvens',u'estrela'], negative=[u'nuvem'])"
      ],
      "execution_count": null,
      "outputs": [
        {
          "output_type": "execute_result",
          "data": {
            "text/plain": [
              "<IPython.core.display.HTML object>"
            ],
            "text/html": [
              " \n",
              "<table> \n",
              "        <tr>  \n",
              "           <th>Palavra</th>   \n",
              "           <th>Similaridade</th>   \n",
              "        </tr>  \n",
              "          \n",
              "        <TR>     \n",
              "           <TD class=\"c1\">estrelas</TD>     \n",
              "           <TD class=\"c2\">0.6892478466033936</TD>   \n",
              "        </TR>   \n",
              "          \n",
              "        <TR>     \n",
              "           <TD class=\"c1\">galas</TD>     \n",
              "           <TD class=\"c2\">0.6090782880783081</TD>   \n",
              "        </TR>   \n",
              "          \n",
              "        <TR>     \n",
              "           <TD class=\"c1\">sombras</TD>     \n",
              "           <TD class=\"c2\">0.5997710824012756</TD>   \n",
              "        </TR>   \n",
              "          \n",
              "        <TR>     \n",
              "           <TD class=\"c1\">pestanas</TD>     \n",
              "           <TD class=\"c2\">0.5925516486167908</TD>   \n",
              "        </TR>   \n",
              "          \n",
              "        <TR>     \n",
              "           <TD class=\"c1\">luzes</TD>     \n",
              "           <TD class=\"c2\">0.5895288586616516</TD>   \n",
              "        </TR>   \n",
              "          \n",
              "        <TR>     \n",
              "           <TD class=\"c1\">superproduções</TD>     \n",
              "           <TD class=\"c2\">0.5894025564193726</TD>   \n",
              "        </TR>   \n",
              "          \n",
              "        <TR>     \n",
              "           <TD class=\"c1\">canduras</TD>     \n",
              "           <TD class=\"c2\">0.5870558023452759</TD>   \n",
              "        </TR>   \n",
              "          \n",
              "        <TR>     \n",
              "           <TD class=\"c1\">constelações</TD>     \n",
              "           <TD class=\"c2\">0.5854816436767578</TD>   \n",
              "        </TR>   \n",
              "          \n",
              "        <TR>     \n",
              "           <TD class=\"c1\">auras</TD>     \n",
              "           <TD class=\"c2\">0.5834820866584778</TD>   \n",
              "        </TR>   \n",
              "          \n",
              "        <TR>     \n",
              "           <TD class=\"c1\">pombas</TD>     \n",
              "           <TD class=\"c2\">0.5811574459075928</TD>   \n",
              "        </TR>   \n",
              "        \n",
              "</table> "
            ]
          },
          "metadata": {},
          "execution_count": 23
        }
      ]
    },
    {
      "cell_type": "code",
      "metadata": {
        "id": "PMnZabliYjJh",
        "outputId": "c151e045-7147-4a38-90d2-ce26cab73e55",
        "colab": {
          "base_uri": "https://localhost:8080/"
        }
      },
      "source": [
        "most_similar(positive=[u'tenista',u'futebol'], negative=[u'tênis'])"
      ],
      "execution_count": null,
      "outputs": [
        {
          "output_type": "execute_result",
          "data": {
            "text/plain": [
              "<IPython.core.display.HTML object>"
            ],
            "text/html": [
              " \n",
              "<table> \n",
              "        <tr>  \n",
              "           <th>Palavra</th>   \n",
              "           <th>Similaridade</th>   \n",
              "        </tr>  \n",
              "          \n",
              "        <TR>     \n",
              "           <TD class=\"c1\">ciclista</TD>     \n",
              "           <TD class=\"c2\">0.6736172437667847</TD>   \n",
              "        </TR>   \n",
              "          \n",
              "        <TR>     \n",
              "           <TD class=\"c1\">basquetebolista</TD>     \n",
              "           <TD class=\"c2\">0.6411615610122681</TD>   \n",
              "        </TR>   \n",
              "          \n",
              "        <TR>     \n",
              "           <TD class=\"c1\">judoca</TD>     \n",
              "           <TD class=\"c2\">0.636603832244873</TD>   \n",
              "        </TR>   \n",
              "          \n",
              "        <TR>     \n",
              "           <TD class=\"c1\">ex-tenista</TD>     \n",
              "           <TD class=\"c2\">0.6354328989982605</TD>   \n",
              "        </TR>   \n",
              "          \n",
              "        <TR>     \n",
              "           <TD class=\"c1\">golfista</TD>     \n",
              "           <TD class=\"c2\">0.6228874921798706</TD>   \n",
              "        </TR>   \n",
              "          \n",
              "        <TR>     \n",
              "           <TD class=\"c1\">enxadrista</TD>     \n",
              "           <TD class=\"c2\">0.592896044254303</TD>   \n",
              "        </TR>   \n",
              "          \n",
              "        <TR>     \n",
              "           <TD class=\"c1\">naturalizado</TD>     \n",
              "           <TD class=\"c2\">0.5907281637191772</TD>   \n",
              "        </TR>   \n",
              "          \n",
              "        <TR>     \n",
              "           <TD class=\"c1\">halterofilista</TD>     \n",
              "           <TD class=\"c2\">0.5863692164421082</TD>   \n",
              "        </TR>   \n",
              "          \n",
              "        <TR>     \n",
              "           <TD class=\"c1\">fundista</TD>     \n",
              "           <TD class=\"c2\">0.5837550163269043</TD>   \n",
              "        </TR>   \n",
              "          \n",
              "        <TR>     \n",
              "           <TD class=\"c1\">triatleta</TD>     \n",
              "           <TD class=\"c2\">0.5834997892379761</TD>   \n",
              "        </TR>   \n",
              "        \n",
              "</table> "
            ]
          },
          "metadata": {},
          "execution_count": 24
        }
      ]
    },
    {
      "cell_type": "code",
      "metadata": {
        "id": "9fC6i2d8YlCx",
        "outputId": "333faf8a-4a51-45fa-bd0b-a1fdf7fa5a53",
        "colab": {
          "base_uri": "https://localhost:8080/"
        }
      },
      "source": [
        "most_similar(positive=[u'tenista',u'xadrez'], negative=[u'tênis'])"
      ],
      "execution_count": null,
      "outputs": [
        {
          "output_type": "execute_result",
          "data": {
            "text/plain": [
              "<IPython.core.display.HTML object>"
            ],
            "text/html": [
              " \n",
              "<table> \n",
              "        <tr>  \n",
              "           <th>Palavra</th>   \n",
              "           <th>Similaridade</th>   \n",
              "        </tr>  \n",
              "          \n",
              "        <TR>     \n",
              "           <TD class=\"c1\">golfista</TD>     \n",
              "           <TD class=\"c2\">0.6553205251693726</TD>   \n",
              "        </TR>   \n",
              "          \n",
              "        <TR>     \n",
              "           <TD class=\"c1\">ciclista</TD>     \n",
              "           <TD class=\"c2\">0.632626473903656</TD>   \n",
              "        </TR>   \n",
              "          \n",
              "        <TR>     \n",
              "           <TD class=\"c1\">enxadrista</TD>     \n",
              "           <TD class=\"c2\">0.6211749315261841</TD>   \n",
              "        </TR>   \n",
              "          \n",
              "        <TR>     \n",
              "           <TD class=\"c1\">basquetebolista</TD>     \n",
              "           <TD class=\"c2\">0.5931174159049988</TD>   \n",
              "        </TR>   \n",
              "          \n",
              "        <TR>     \n",
              "           <TD class=\"c1\">ex-tenista</TD>     \n",
              "           <TD class=\"c2\">0.5898265242576599</TD>   \n",
              "        </TR>   \n",
              "          \n",
              "        <TR>     \n",
              "           <TD class=\"c1\">pugilista</TD>     \n",
              "           <TD class=\"c2\">0.5720880627632141</TD>   \n",
              "        </TR>   \n",
              "          \n",
              "        <TR>     \n",
              "           <TD class=\"c1\">montanhista</TD>     \n",
              "           <TD class=\"c2\">0.5706957578659058</TD>   \n",
              "        </TR>   \n",
              "          \n",
              "        <TR>     \n",
              "           <TD class=\"c1\">judoca</TD>     \n",
              "           <TD class=\"c2\">0.5688527226448059</TD>   \n",
              "        </TR>   \n",
              "          \n",
              "        <TR>     \n",
              "           <TD class=\"c1\">cosmonauta</TD>     \n",
              "           <TD class=\"c2\">0.5652159452438354</TD>   \n",
              "        </TR>   \n",
              "          \n",
              "        <TR>     \n",
              "           <TD class=\"c1\">ginasta</TD>     \n",
              "           <TD class=\"c2\">0.5599121451377869</TD>   \n",
              "        </TR>   \n",
              "        \n",
              "</table> "
            ]
          },
          "metadata": {},
          "execution_count": 25
        }
      ]
    },
    {
      "cell_type": "markdown",
      "source": [
        "## 3.2 Identificando palavras não relacionadas"
      ],
      "metadata": {
        "id": "qIF4uzpi_uND"
      }
    },
    {
      "cell_type": "code",
      "source": [
        "texto = 'laranja maça uva carro banana mamão'\n",
        "palavras = texto.split()\n",
        "print(palavras)\n",
        "\n",
        "#palavras que não correspondem frutas\n",
        "nn = model.doesnt_match(palavras)\n",
        "\n",
        "print(nn)"
      ],
      "metadata": {
        "colab": {
          "base_uri": "https://localhost:8080/"
        },
        "id": "Bkt0Cn0__3q0",
        "outputId": "8aab9b19-00a9-4566-f335-9da000e987e0"
      },
      "execution_count": null,
      "outputs": [
        {
          "output_type": "stream",
          "name": "stdout",
          "text": [
            "['laranja', 'maça', 'uva', 'carro', 'banana', 'mamão']\n",
            "carro\n"
          ]
        }
      ]
    },
    {
      "cell_type": "code",
      "source": [
        "texto = 'martelo serrote uva prego furadeira formão'\n",
        "palavras = texto.split()\n",
        "print(palavras)\n",
        "\n",
        "#palavras que não correspondem frutas\n",
        "nn = model.doesnt_match(palavras)\n",
        "\n",
        "print(nn)"
      ],
      "metadata": {
        "colab": {
          "base_uri": "https://localhost:8080/"
        },
        "id": "UImf-UcIBfKG",
        "outputId": "d5b637ea-6d06-438d-8c7a-1bbe95afc0c7"
      },
      "execution_count": null,
      "outputs": [
        {
          "output_type": "stream",
          "name": "stdout",
          "text": [
            "['martelo', 'serrote', 'uva', 'prego', 'furadeira', 'formão']\n",
            "uva\n"
          ]
        }
      ]
    },
    {
      "cell_type": "markdown",
      "metadata": {
        "id": "e1uz3qIc-59h"
      },
      "source": [
        "## 3.3 Comparando palavras iguais"
      ]
    },
    {
      "cell_type": "markdown",
      "metadata": {
        "id": "omnupN8KDc1L"
      },
      "source": [
        "Sentença de exemplo"
      ]
    },
    {
      "cell_type": "code",
      "metadata": {
        "id": "8FEGlAMwjuQy"
      },
      "source": [
        "texto = \"Depois de roubar o cofre do banco,\"\\\n",
        "        \" o ladrão de banco foi visto \" \\\n",
        "        \"sentado no banco da praça central.\"\n",
        "\n",
        "logging.info('Texto armazenado!')"
      ],
      "execution_count": null,
      "outputs": []
    },
    {
      "cell_type": "code",
      "metadata": {
        "id": "DedqTrpZEE6K",
        "outputId": "eff5e1b5-c720-4d3b-eed3-038edb1b6773",
        "colab": {
          "base_uri": "https://localhost:8080/"
        }
      },
      "source": [
        "palavras = [texto.split()]\n",
        "print(palavras)"
      ],
      "execution_count": null,
      "outputs": [
        {
          "output_type": "stream",
          "name": "stdout",
          "text": [
            "[['Depois', 'de', 'roubar', 'o', 'cofre', 'do', 'banco,', 'o', 'ladrão', 'de', 'banco', 'foi', 'visto', 'sentado', 'no', 'banco', 'da', 'praça', 'central.']]\n"
          ]
        }
      ]
    },
    {
      "cell_type": "markdown",
      "metadata": {
        "id": "zH5mCyBRE9dw"
      },
      "source": [
        "Carrega o vocabulário do modelo somente com as palavras dos texto"
      ]
    },
    {
      "cell_type": "code",
      "metadata": {
        "id": "egfirQz2_2WL",
        "outputId": "10adc8eb-7761-430c-9bd7-6fe51c873206",
        "colab": {
          "base_uri": "https://localhost:8080/"
        }
      },
      "source": [
        "model1 = Word2Vec(palavras, min_count=1)\n",
        "\n",
        "# model1 = Word2Vec(palavras,\n",
        "#                   min_count=1,\n",
        "#                   workers=1,\n",
        "#                   size=100,\n",
        "#                   window=1)\n",
        "\n",
        "print(model1)"
      ],
      "execution_count": null,
      "outputs": [
        {
          "output_type": "stream",
          "name": "stdout",
          "text": [
            "Word2Vec<vocab=16, vector_size=100, alpha=0.025>\n"
          ]
        }
      ]
    },
    {
      "cell_type": "markdown",
      "metadata": {
        "id": "3A3rrIdCDsKy"
      },
      "source": [
        "Imprime o vocabulário."
      ]
    },
    {
      "cell_type": "code",
      "metadata": {
        "id": "ix_z_BvcDoKa",
        "outputId": "e75e76ad-44ed-4232-f670-298bda76a9ff",
        "colab": {
          "base_uri": "https://localhost:8080/"
        }
      },
      "source": [
        "words = list(model1.wv.key_to_index)\n",
        "i = 0\n",
        "for token in words:\n",
        "   print(i, token)\n",
        "   i = i + 1"
      ],
      "execution_count": null,
      "outputs": [
        {
          "output_type": "stream",
          "name": "stdout",
          "text": [
            "0 banco\n",
            "1 o\n",
            "2 de\n",
            "3 central.\n",
            "4 praça\n",
            "5 da\n",
            "6 no\n",
            "7 sentado\n",
            "8 visto\n",
            "9 foi\n",
            "10 ladrão\n",
            "11 banco,\n",
            "12 do\n",
            "13 cofre\n",
            "14 roubar\n",
            "15 Depois\n"
          ]
        }
      ]
    },
    {
      "cell_type": "markdown",
      "metadata": {
        "id": "3YvDvMpmC6m6"
      },
      "source": [
        "A palavra banco possui somente uma entrada no modelo e somente um conjunto de pesos."
      ]
    },
    {
      "cell_type": "code",
      "metadata": {
        "id": "aOJ0KuMlB7Kl",
        "outputId": "16c03c59-bbe2-4c99-ee5b-4203df2e5721",
        "colab": {
          "base_uri": "https://localhost:8080/"
        }
      },
      "source": [
        "print(len(model1.wv['banco']))\n",
        "print(model1.wv['banco'])"
      ],
      "execution_count": null,
      "outputs": [
        {
          "output_type": "stream",
          "name": "stdout",
          "text": [
            "100\n",
            "[-5.4407766e-04  2.4207660e-04  5.1109078e-03  9.0116877e-03\n",
            " -9.2969295e-03 -7.1246228e-03  6.4609172e-03  8.9829508e-03\n",
            " -5.0168810e-03 -3.7745319e-03  7.3821810e-03 -1.5437993e-03\n",
            " -4.5472211e-03  6.5586665e-03 -4.8583644e-03 -1.8092578e-03\n",
            "  2.8892150e-03  1.0010172e-03 -8.2888547e-03 -9.4565907e-03\n",
            "  7.3170480e-03  5.0689816e-03  6.7707673e-03  7.5652049e-04\n",
            "  6.3583688e-03 -3.3979204e-03 -9.5509895e-04  5.7744225e-03\n",
            " -7.5240666e-03 -3.9271335e-03 -7.5061489e-03 -9.3231973e-04\n",
            "  9.5419120e-03 -7.3285126e-03 -2.3323589e-03 -1.9401998e-03\n",
            "  8.0829747e-03 -5.9266253e-03  5.2854961e-05 -4.7459821e-03\n",
            " -9.5973359e-03  5.0025028e-03 -8.7680481e-03 -4.3915431e-03\n",
            " -3.9069320e-05 -2.9165877e-04 -7.6581542e-03  9.6121654e-03\n",
            "  4.9837003e-03  9.2383036e-03 -8.1509789e-03  4.4864239e-03\n",
            " -4.1403091e-03  8.2422025e-04  8.4977830e-03 -4.4584796e-03\n",
            "  4.5276186e-03 -6.7822384e-03 -3.5485558e-03  9.4116414e-03\n",
            " -1.5887510e-03  3.2217792e-04 -4.1406723e-03 -7.6846541e-03\n",
            " -1.5050021e-03  2.4779500e-03 -8.7816053e-04  5.5301748e-03\n",
            " -2.7393166e-03  2.2652163e-03  5.4545952e-03  8.3408058e-03\n",
            " -1.4488450e-03 -9.2040226e-03  4.3728822e-03  5.6674000e-04\n",
            "  7.4415696e-03 -8.1612082e-04 -2.6360883e-03 -8.7583270e-03\n",
            " -8.6825719e-04  2.8310854e-03  5.4086912e-03  7.0519648e-03\n",
            " -5.7041394e-03  1.8576995e-03  6.0971086e-03 -4.8066718e-03\n",
            " -3.1073093e-03  6.7922240e-03  1.6367682e-03  1.8997058e-04\n",
            "  3.4793476e-03  2.0978761e-04  9.6190460e-03  5.0624423e-03\n",
            " -8.9083379e-03 -7.0444201e-03  8.9295441e-04  6.4036949e-03]\n"
          ]
        }
      ]
    },
    {
      "cell_type": "markdown",
      "metadata": {
        "id": "fQyVREXYYEN6"
      },
      "source": [
        "# 4 Plotando gráficos"
      ]
    },
    {
      "cell_type": "markdown",
      "metadata": {
        "id": "Ilmhkv4kYJFR"
      },
      "source": [
        "Para plotar um conjunto de palavras execute o script abaixo:"
      ]
    },
    {
      "cell_type": "code",
      "metadata": {
        "id": "QXw-7PWTYO5E"
      },
      "source": [
        "# Import das bibliotecas\n",
        "from sklearn.decomposition import PCA\n",
        "import matplotlib.pyplot as plt\n",
        "\n",
        "def plot_words(words):\n",
        "  #Carrega o vetor das palavras a serem plotadas\n",
        "  vectors = []\n",
        "  for word in words:\n",
        "        vectors.append(model[word])\n",
        "\n",
        "  #Ajustar um modelo 2D de PCA aos vetores\n",
        "  pca = PCA(n_components=2)\n",
        "  resultado = pca.fit_transform(vectors)\n",
        "\n",
        "  #Dimensões da figura\n",
        "  plt.figure(figsize=(12,7))\n",
        "  #Adiciona linha vertical\n",
        "  plt.axvline()\n",
        "  #Adiciona linha horizontal\n",
        "  plt.axhline()\n",
        "\n",
        "  #Criar um gráfico de dispersão da projeção\n",
        "  plt.scatter(resultado[:, 0], resultado[:, 1])\n",
        "  #Adiciona as palavras no gráfico\n",
        "  for i in range(len(words)):\n",
        "      plt.annotate(words[i], xy=(resultado[i, 0], resultado[i, 1]))\n",
        "\n",
        "  #Mostra o gráfico\n",
        "  plt.show()\n",
        "\n",
        "logging.info('Função criada')"
      ],
      "execution_count": null,
      "outputs": []
    },
    {
      "cell_type": "markdown",
      "metadata": {
        "id": "rJrByAxMYSi4"
      },
      "source": [
        "O comando abaixo plota o gráfico das palavras especificadas."
      ]
    },
    {
      "cell_type": "code",
      "metadata": {
        "id": "QB-HhR64YSs5",
        "outputId": "2156276c-83b3-4726-ecd0-53dcb04dc576",
        "colab": {
          "base_uri": "https://localhost:8080/",
          "height": 599
        }
      },
      "source": [
        "lista = ['rei', 'rainha', 'homem', 'mulher','esposa','concubina', 'infanta','princesa','meia-irmã','sogra','sobrinha','consorte', 'enteada']\n",
        "\n",
        "plot_words(lista)"
      ],
      "execution_count": null,
      "outputs": [
        {
          "output_type": "display_data",
          "data": {
            "text/plain": [
              "<Figure size 1200x700 with 1 Axes>"
            ],
            "image/png": "[encoded data removed]"
          },
          "metadata": {}
        }
      ]
    },
    {
      "cell_type": "markdown",
      "metadata": {
        "id": "9OOKFfegolpn"
      },
      "source": [
        "Lista as palavras do vocabulário"
      ]
    },
    {
      "cell_type": "code",
      "metadata": {
        "id": "_olGNOzqoPeI",
        "outputId": "09b6b623-ec72-4d08-b320-17113c0ed255",
        "colab": {
          "base_uri": "https://localhost:8080/"
        }
      },
      "source": [
        "words = list(model1.wv.key_to_index)\n",
        "print(len(words))\n",
        "print(words[0:1000])"
      ],
      "execution_count": null,
      "outputs": [
        {
          "output_type": "stream",
          "name": "stdout",
          "text": [
            "16\n",
            "['banco', 'o', 'de', 'central.', 'praça', 'da', 'no', 'sentado', 'visto', 'foi', 'ladrão', 'banco,', 'do', 'cofre', 'roubar', 'Depois']\n"
          ]
        }
      ]
    },
    {
      "cell_type": "markdown",
      "metadata": {
        "id": "FBC07yKlQk5y"
      },
      "source": [
        "## 4.1 Visualizando o modelo\n",
        "\n",
        "Aqui tentamos visualizar a conexão entre as seguintes palavras em um subespaço 2D"
      ]
    },
    {
      "cell_type": "markdown",
      "metadata": {
        "id": "BndfpQLoX9N5"
      },
      "source": [
        "### Função de visualização"
      ]
    },
    {
      "cell_type": "code",
      "metadata": {
        "id": "uPyzH46kV5_b"
      },
      "source": [
        "#Import das bibliotecas\n",
        "import numpy as np\n",
        "import matplotlib.pyplot as plt\n",
        "%matplotlib inline\n",
        "\n",
        "def plotar_words(Wl):\n",
        "  #Carrega o vetor das palavras a serem plotadas\n",
        "  Wv = []\n",
        "  for i in range(len(Wl)):\n",
        "      Wv.append(model[Wl[i]])\n",
        "\n",
        "  #Queremos um subespaço onde Wv[0]-Wv[1] e Wv[2]-Wv[3] sejam as linhas do eixo,\n",
        "  #então essas 4 palavras estão no eixo correspondente\n",
        "  b1 = (Wv[1]-Wv[0])\n",
        "  b2 = (Wv[3]-Wv[2])\n",
        "\n",
        "  #Transforma a lista de embeddings em um vetor simples\n",
        "  W = np.array(Wv)\n",
        "  #Transforma as diferenças em um vetor simples\n",
        "  B = np.array([b1,b2])\n",
        "  #Calcula o pseudo-inversa de uma matriz\n",
        "  Bi = np.linalg.pinv(B.T)\n",
        "\n",
        "  #Multiplica Bi e W.T\n",
        "  Wp = np.matmul(Bi,W.T)\n",
        "  #Calcula os pivos\n",
        "  Wp = (Wp.T-[Wp[0,2],Wp[1,0]]).T\n",
        "\n",
        "  #Dimensões da figura\n",
        "  plt.figure(figsize=(12,7))\n",
        "  #Adiciona linha vertical\n",
        "  plt.axvline()\n",
        "  #Adiciona linha horizontal\n",
        "  plt.axhline()\n",
        "  #Criar um gráfico de dispersão da projeção\n",
        "  plt.scatter(Wp[0,:], Wp[1,:])\n",
        "  rX = max(Wp[0,:])-min(Wp[0,:])\n",
        "  rY = max(Wp[1,:])-min(Wp[1,:])\n",
        "  eps = 0.005\n",
        "  #Adiciona as palavras no gráfico\n",
        "  for i, txt in enumerate(Wl):\n",
        "      plt.annotate(txt, (Wp[0,i]+rX*eps, Wp[1,i]+rX*eps))\n",
        "  #Mostra o gráfico\n",
        "  plt.show()\n",
        "\n",
        "logging.info('Função criada')"
      ],
      "execution_count": null,
      "outputs": []
    },
    {
      "cell_type": "markdown",
      "metadata": {
        "id": "UZ_xb5rVYB97"
      },
      "source": [
        "### Exemplo"
      ]
    },
    {
      "cell_type": "code",
      "metadata": {
        "id": "CKozLghgX02s",
        "outputId": "4d459f93-0671-4ffc-ec9b-407ba701b928",
        "colab": {
          "base_uri": "https://localhost:8080/"
        }
      },
      "source": [
        "palavras =['rei', 'rainha', 'homem', 'mulher','esposa', 'monarca', 'concubina', 'infanta','princesa','meia-irmã','sogra','sobrinha','consorte', 'enteada']\n",
        "\n",
        "plotar_words(palavras)"
      ],
      "execution_count": null,
      "outputs": [
        {
          "output_type": "display_data",
          "data": {
            "text/plain": [
              "<Figure size 1200x700 with 1 Axes>"
            ],
            "image/png": "[encoded data removed]"
          },
          "metadata": {}
        }
      ]
    },
    {
      "cell_type": "markdown",
      "metadata": {
        "id": "YW9pN7oyYGna"
      },
      "source": [
        "### Detalhamento da função"
      ]
    },
    {
      "cell_type": "markdown",
      "metadata": {
        "id": "aFp8RcMaYLG7"
      },
      "source": [
        "Import das bibliotecas"
      ]
    },
    {
      "cell_type": "code",
      "metadata": {
        "id": "Bo5FZFvcQ_C0"
      },
      "source": [
        "#Import das bibliotecas\n",
        "import numpy as np\n",
        "\n",
        "import matplotlib.pyplot as plt\n",
        "%matplotlib inline"
      ],
      "execution_count": null,
      "outputs": []
    },
    {
      "cell_type": "markdown",
      "metadata": {
        "id": "EYtXDyYkYSb6"
      },
      "source": [
        "Lista de palavras a serem visualizadas"
      ]
    },
    {
      "cell_type": "code",
      "metadata": {
        "id": "nd9BFdyWQvy1"
      },
      "source": [
        "#Lista das palavras\n",
        "palavras = ['rei', 'rainha', 'homem', 'mulher','esposa', 'monarca', 'concubina', 'infanta','princesa','meia-irmã','sogra','sobrinha','consorte', 'enteada']\n",
        "\n",
        "#Lista dos embeddings das palavras\n",
        "Wv = []\n",
        "for i in range(len(palavras)):\n",
        "    Wv.append(model[palavras[i]])"
      ],
      "execution_count": null,
      "outputs": []
    },
    {
      "cell_type": "markdown",
      "metadata": {
        "id": "6fzEsQ9cRKGX"
      },
      "source": [
        "Queremos um subespaço onde rei-rainha e homem-mulher são as linhas do eixo, então essas 4 palavras estão no eixo correspondente\n",
        "\n",
        "\n"
      ]
    },
    {
      "cell_type": "code",
      "metadata": {
        "id": "NnliS_QXRKTg"
      },
      "source": [
        "#Diferença de Wv[1]-Wv[0]\n",
        "b1 = (Wv[1]-Wv[0])\n",
        "#Diferença de Wv[3]-Wv[2]\n",
        "b2 = (Wv[3]-Wv[2])"
      ],
      "execution_count": null,
      "outputs": []
    },
    {
      "cell_type": "markdown",
      "metadata": {
        "id": "wueppp6qRVLo"
      },
      "source": [
        "Queremos que a base seja (1,0) e (0,1) do espaço projetado. Com uma matriz quadrada, devemos calcular a matriz inversa para obter os vetores base. No entanto, a matriz não quadrada tem apenas pseudo-inversa."
      ]
    },
    {
      "cell_type": "code",
      "metadata": {
        "id": "t0jJ9VgmRVWf"
      },
      "source": [
        "#Transforma a lista de embeddings em um vetor simples\n",
        "W = np.array(Wv)\n",
        "#Transforma as diferenças em um vetor simples\n",
        "B = np.array([b1,b2])\n",
        "#Calcula o pseudo-inversa de uma matriz\n",
        "Bi = np.linalg.pinv(B.T)"
      ],
      "execution_count": null,
      "outputs": []
    },
    {
      "cell_type": "code",
      "metadata": {
        "id": "8VeIV1XaSooZ",
        "outputId": "3827ee3a-5341-4cf4-bc10-6d34b9732aea",
        "colab": {
          "base_uri": "https://localhost:8080/"
        }
      },
      "source": [
        "#Mostra as dimensões de B e W\n",
        "print(B.shape)\n",
        "print(W.T.shape)"
      ],
      "execution_count": null,
      "outputs": [
        {
          "output_type": "stream",
          "name": "stdout",
          "text": [
            "(2, 100)\n",
            "(100, 14)\n"
          ]
        }
      ]
    },
    {
      "cell_type": "markdown",
      "metadata": {
        "id": "piiTxcIVSuuX"
      },
      "source": [
        "Projete todas as incorporações de palavras no subespaço 2D.\n",
        "\n",
        "  Temos que mudar as linhas rei-rainha e homem-mulher para o eixo."
      ]
    },
    {
      "cell_type": "code",
      "metadata": {
        "id": "LdhpXx58S0cH",
        "outputId": "fb8edd79-2774-4ea7-88b3-7f33691bc453",
        "colab": {
          "base_uri": "https://localhost:8080/"
        }
      },
      "source": [
        "#Multiplica Bi e W.T\n",
        "Wp = np.matmul(Bi,W.T)\n",
        "print(Wp.shape)\n",
        "#Calcula os pivos\n",
        "Wp = (Wp.T-[Wp[0,2],Wp[1,0]]).T"
      ],
      "execution_count": null,
      "outputs": [
        {
          "output_type": "stream",
          "name": "stdout",
          "text": [
            "(2, 14)\n"
          ]
        }
      ]
    },
    {
      "cell_type": "markdown",
      "metadata": {
        "id": "VfMMHEwyS6Iw"
      },
      "source": [
        "Vamos colocar as palavras no plano cartesiano!"
      ]
    },
    {
      "cell_type": "code",
      "metadata": {
        "id": "Mfyi51MGS8wA",
        "outputId": "22d514ae-200d-49da-cb20-a869edb2ac7b",
        "colab": {
          "base_uri": "https://localhost:8080/"
        }
      },
      "source": [
        "#Dimensões da figura\n",
        "plt.figure(figsize=(12,7))\n",
        "#Adiciona linha vertical\n",
        "plt.axvline()\n",
        "#Adiciona linha horizontal\n",
        "plt.axhline()\n",
        "#Plota eixo x e y\n",
        "plt.scatter(Wp[0,:], Wp[1,:])\n",
        "rX = max(Wp[0,:])-min(Wp[0,:])\n",
        "rY = max(Wp[1,:])-min(Wp[1,:])\n",
        "eps = 0.005\n",
        "#Percore a lista de palavras\n",
        "for i, txt in enumerate(palavras):\n",
        "    plt.annotate(txt, (Wp[0,i]+rX*eps, Wp[1,i]+rX*eps))\n",
        "plt.show()"
      ],
      "execution_count": null,
      "outputs": [
        {
          "output_type": "display_data",
          "data": {
            "text/plain": [
              "<Figure size 1200x700 with 1 Axes>"
            ],
            "image/png": "[encoded data removed]"
          },
          "metadata": {}
        }
      ]
    },
    {
      "cell_type": "markdown",
      "metadata": {
        "id": "107jSu39Jj-q"
      },
      "source": [
        "# 5 Exemplo comparando os embeddings das ocorrências da palavra \"banco\" em uma sentença."
      ]
    },
    {
      "cell_type": "markdown",
      "source": [
        "## 6 Comparando embeddings de palavras"
      ],
      "metadata": {
        "id": "tJBS-kfhwCEL"
      }
    },
    {
      "cell_type": "code",
      "metadata": {
        "id": "m_vfdQKPEnCn"
      },
      "source": [
        "texto = \"Depois de roubar o cofre do banco ,\"\\\n",
        "        \" o ladrão de banco foi visto \" \\\n",
        "        \"sentado no banco da praça central.\"\n",
        "\n",
        "logging.info('Texto armazenado!')"
      ],
      "execution_count": null,
      "outputs": []
    },
    {
      "cell_type": "code",
      "metadata": {
        "colab": {
          "base_uri": "https://localhost:8080/"
        },
        "id": "w16Zk3DT1xeZ",
        "outputId": "8c403fbe-4e53-4ab5-aaa3-2a76ec44fe1a"
      },
      "source": [
        "palavras = texto.split()\n",
        "print(palavras)"
      ],
      "execution_count": null,
      "outputs": [
        {
          "output_type": "stream",
          "name": "stdout",
          "text": [
            "['Depois', 'de', 'roubar', 'o', 'cofre', 'do', 'banco', ',', 'o', 'ladrão', 'de', 'banco', 'foi', 'visto', 'sentado', 'no', 'banco', 'da', 'praça', 'central.']\n"
          ]
        }
      ]
    },
    {
      "cell_type": "markdown",
      "source": [
        "Confirmando os tokens do documento"
      ],
      "metadata": {
        "id": "JSYygMNVxNon"
      }
    },
    {
      "cell_type": "code",
      "metadata": {
        "id": "zQ7J7b-SFCXN",
        "colab": {
          "base_uri": "https://localhost:8080/"
        },
        "outputId": "6834b348-6c17-4050-afda-090eb7bf5511"
      },
      "source": [
        "i = 0\n",
        "for token in palavras:\n",
        "   print(i, token)\n",
        "   i = i + 1"
      ],
      "execution_count": null,
      "outputs": [
        {
          "output_type": "stream",
          "name": "stdout",
          "text": [
            "0 Depois\n",
            "1 de\n",
            "2 roubar\n",
            "3 o\n",
            "4 cofre\n",
            "5 do\n",
            "6 banco\n",
            "7 ,\n",
            "8 o\n",
            "9 ladrão\n",
            "10 de\n",
            "11 banco\n",
            "12 foi\n",
            "13 visto\n",
            "14 sentado\n",
            "15 no\n",
            "16 banco\n",
            "17 da\n",
            "18 praça\n",
            "19 central.\n"
          ]
        }
      ]
    },
    {
      "cell_type": "markdown",
      "source": [
        "Gera os embeddings"
      ],
      "metadata": {
        "id": "2b0Uw6q296rj"
      }
    },
    {
      "cell_type": "code",
      "source": [
        "model = Word2Vec([palavras], min_count=1)\n",
        "\n",
        "# model = Word2Vec(sentences=[palavras],\n",
        "#                  min_count=1,\n",
        "#                  workers=4,\n",
        "#                  size=100,\n",
        "#                  window=1)\n",
        "\n",
        "print(model)"
      ],
      "metadata": {
        "colab": {
          "base_uri": "https://localhost:8080/"
        },
        "id": "OZiRW47J98up",
        "outputId": "b84bbd4e-aa2e-4e8f-92e8-fb3ea34625f1"
      },
      "execution_count": null,
      "outputs": [
        {
          "output_type": "stream",
          "name": "stdout",
          "text": [
            "Word2Vec<vocab=16, vector_size=100, alpha=0.025>\n"
          ]
        }
      ]
    },
    {
      "cell_type": "markdown",
      "source": [
        "Palavras recuperadas do modelo"
      ],
      "metadata": {
        "id": "nPActA0p-cvC"
      }
    },
    {
      "cell_type": "code",
      "source": [
        "words = list(model.wv.key_to_index)\n",
        "i = 0\n",
        "for token in words:\n",
        "   print(i, token)\n",
        "   i = i + 1"
      ],
      "metadata": {
        "colab": {
          "base_uri": "https://localhost:8080/"
        },
        "id": "qDgXN1Q0-GNJ",
        "outputId": "8fb79aff-14ba-483a-cb11-f2d1f68a557f"
      },
      "execution_count": null,
      "outputs": [
        {
          "output_type": "stream",
          "name": "stdout",
          "text": [
            "0 banco\n",
            "1 o\n",
            "2 de\n",
            "3 central.\n",
            "4 praça\n",
            "5 da\n",
            "6 no\n",
            "7 sentado\n",
            "8 visto\n",
            "9 foi\n",
            "10 ladrão\n",
            "11 ,\n",
            "12 do\n",
            "13 cofre\n",
            "14 roubar\n",
            "15 Depois\n"
          ]
        }
      ]
    },
    {
      "cell_type": "markdown",
      "metadata": {
        "id": "-TysEHsOZaij"
      },
      "source": [
        "Exibe os embenddings das palavras"
      ]
    },
    {
      "cell_type": "markdown",
      "metadata": {
        "id": "VXZFKHQBZIFk"
      },
      "source": [
        "A palavra banco aparece somente no índice 6, 11 e 16 do texto original.\n",
        "\n",
        "Mas as ocorrências foram retiradas da saída pois possuem a mesma representação no modelo.\n"
      ]
    },
    {
      "cell_type": "code",
      "metadata": {
        "id": "2hrWa-RzZIFl",
        "colab": {
          "base_uri": "https://localhost:8080/"
        },
        "outputId": "fabbba64-73b9-4d52-a08d-c0dff428c27b"
      },
      "source": [
        "# Índice das palavras a serem comparadas\n",
        "palavra1 = 6\n",
        "palavra2 = 11\n",
        "palavra3 = 16\n",
        "\n",
        "print(\"Os primeiros 5 valores de cada instância de \\\"banco\\\".\")\n",
        "print(\"\")\n",
        "\n",
        "print(str(words[palavra1]), model.wv[words[palavra1]][:5])\n",
        "print(str(words[palavra1]), model.wv[words[palavra1]][:5])\n",
        "print(str(words[palavra1]), model.wv[words[palavra1]][:5])"
      ],
      "execution_count": null,
      "outputs": [
        {
          "output_type": "stream",
          "name": "stdout",
          "text": [
            "Os primeiros 5 valores de cada instância de \"banco\".\n",
            "\n",
            "no [ 0.00813745 -0.00445597 -0.00106785  0.00101037 -0.00018994]\n",
            "no [ 0.00813745 -0.00445597 -0.00106785  0.00101037 -0.00018994]\n",
            "no [ 0.00813745 -0.00445597 -0.00106785  0.00101037 -0.00018994]\n"
          ]
        }
      ]
    },
    {
      "cell_type": "code",
      "source": [
        "# Importando as bibliotecas\n",
        "from scipy.spatial.distance import cosine\n",
        "\n",
        "# Índice das palavras a serem comparadas\n",
        "print(\"Período:\", texto)\n",
        "print(\"Palavra 1 =\", palavra1, \"=\", str(words[palavra1]), \"(instituição financeira)\")\n",
        "print(\"Palavra 2 =\", palavra2, \"=\", str(words[palavra1]), \"(instituição financeira)\")\n",
        "print(\"Palavra 3 =\", palavra3, \"=\", str(words[palavra1]), \"(assento)\")\n",
        "\n",
        "# Calcula a similaridade de coseno entre as palavras banco\n",
        "# Em \"ladrão de banco\" versus \"banco da praça\" (diferentes significados).\n",
        "#banco_diferente = doc[palavra2].similarity(doc[palavra3])\n",
        "banco_diferente = 1 - cosine(model.wv[words[palavra1]], model.wv[words[palavra1]])\n",
        "\n",
        "print(\"Vetor de similaridade  para diferentes significados(\",palavra2,\",\",palavra3,\"):  %.2f\" % banco_diferente)\n",
        "\n",
        "# Calcula a similaridade de coseno entre as palavras banco\n",
        "# Em \"ladrão de banco\" versus \"cofre do banco\" (mesmo significado).\n",
        "mesmo_banco = 1 - cosine(model.wv[words[palavra1]], model.wv[words[palavra1]])\n",
        "\n",
        "print(\"Vetor de similaridade  para mesmo significado(\",palavra2,\",\",palavra1,\"):  %.2f\" % mesmo_banco)\n",
        "\n",
        "# Calcula a similaridade de coseno entre as palavras banco\n",
        "# Em \"cofre do banco\" versus \"banco da praça\" (diferente significados).\n",
        "banco_diferente2 = 1 - cosine(model.wv[words[palavra1]], model.wv[words[palavra1]])\n",
        "\n",
        "print(\"Vetor de similaridade  para diferentes significados(\",palavra3,\",\",palavra1,\"):  %.2f\" % banco_diferente2)"
      ],
      "metadata": {
        "colab": {
          "base_uri": "https://localhost:8080/"
        },
        "id": "mSAXA7F6vdmQ",
        "outputId": "9fd26ab6-24c0-4ddc-87e3-1e9ca49d4c3b"
      },
      "execution_count": null,
      "outputs": [
        {
          "output_type": "stream",
          "name": "stdout",
          "text": [
            "Período: Depois de roubar o cofre do banco , o ladrão de banco foi visto sentado no banco da praça central.\n",
            "Palavra 1 = 6 = no (instituição financeira)\n",
            "Palavra 2 = 11 = no (instituição financeira)\n",
            "Palavra 3 = 16 = no (assento)\n",
            "Vetor de similaridade  para diferentes significados( 11 , 16 ):  1.00\n",
            "Vetor de similaridade  para mesmo significado( 11 , 6 ):  1.00\n",
            "Vetor de similaridade  para diferentes significados( 16 , 6 ):  1.00\n"
          ]
        }
      ]
    }
  ]
}