{
  "nbformat": 4,
  "nbformat_minor": 0,
  "metadata": {
    "colab": {
      "provenance": [],
      "toc_visible": true,
      "include_colab_link": true
    },
    "kernelspec": {
      "name": "python3",
      "display_name": "Python 3"
    },
    "widgets": {
      "application/vnd.jupyter.widget-state+json": {
        "a774995ade6e48aba56fe48766e83b8b": {
          "model_module": "@jupyter-widgets/controls",
          "model_name": "HBoxModel",
          "model_module_version": "1.5.0",
          "state": {
            "_dom_classes": [],
            "_model_module": "@jupyter-widgets/controls",
            "_model_module_version": "1.5.0",
            "_model_name": "HBoxModel",
            "_view_count": null,
            "_view_module": "@jupyter-widgets/controls",
            "_view_module_version": "1.5.0",
            "_view_name": "HBoxView",
            "box_style": "",
            "children": [
              "IPY_MODEL_56caea1953ed479482b85552ba4988b4",
              "IPY_MODEL_ca0b45f1ef2d4834aa49d8fce949ccea",
              "IPY_MODEL_9cdbe6a725334bd581c0b4bad6e37c03"
            ],
            "layout": "IPY_MODEL_a1dbc0a4b16446ddae8ee194fd133dc6"
          }
        },
        "56caea1953ed479482b85552ba4988b4": {
          "model_module": "@jupyter-widgets/controls",
          "model_name": "HTMLModel",
          "model_module_version": "1.5.0",
          "state": {
            "_dom_classes": [],
            "_model_module": "@jupyter-widgets/controls",
            "_model_module_version": "1.5.0",
            "_model_name": "HTMLModel",
            "_view_count": null,
            "_view_module": "@jupyter-widgets/controls",
            "_view_module_version": "1.5.0",
            "_view_name": "HTMLView",
            "description": "",
            "description_tooltip": null,
            "layout": "IPY_MODEL_3766f4b5c29e4f669d1b4665bf30e87d",
            "placeholder": "​",
            "style": "IPY_MODEL_703c1a8d04e5424799daed0b5c61a6f9",
            "value": "Dados: 100%"
          }
        },
        "ca0b45f1ef2d4834aa49d8fce949ccea": {
          "model_module": "@jupyter-widgets/controls",
          "model_name": "FloatProgressModel",
          "model_module_version": "1.5.0",
          "state": {
            "_dom_classes": [],
            "_model_module": "@jupyter-widgets/controls",
            "_model_module_version": "1.5.0",
            "_model_name": "FloatProgressModel",
            "_view_count": null,
            "_view_module": "@jupyter-widgets/controls",
            "_view_module_version": "1.5.0",
            "_view_name": "ProgressView",
            "bar_style": "success",
            "description": "",
            "description_tooltip": null,
            "layout": "IPY_MODEL_be0697207c304963aa4380bdc1ddfe96",
            "max": 20,
            "min": 0,
            "orientation": "horizontal",
            "style": "IPY_MODEL_5da0834c8d074915bcb7441478c28acb",
            "value": 20
          }
        },
        "9cdbe6a725334bd581c0b4bad6e37c03": {
          "model_module": "@jupyter-widgets/controls",
          "model_name": "HTMLModel",
          "model_module_version": "1.5.0",
          "state": {
            "_dom_classes": [],
            "_model_module": "@jupyter-widgets/controls",
            "_model_module_version": "1.5.0",
            "_model_name": "HTMLModel",
            "_view_count": null,
            "_view_module": "@jupyter-widgets/controls",
            "_view_module_version": "1.5.0",
            "_view_name": "HTMLView",
            "description": "",
            "description_tooltip": null,
            "layout": "IPY_MODEL_ce4f10bf0ccd4912969fa2664856940f",
            "placeholder": "​",
            "style": "IPY_MODEL_cdd788b5da4d4dae8e4e239ec0eab581",
            "value": " 20/20 [00:02&lt;00:00,  9.57registro/s]"
          }
        },
        "a1dbc0a4b16446ddae8ee194fd133dc6": {
          "model_module": "@jupyter-widgets/base",
          "model_name": "LayoutModel",
          "model_module_version": "1.2.0",
          "state": {
            "_model_module": "@jupyter-widgets/base",
            "_model_module_version": "1.2.0",
            "_model_name": "LayoutModel",
            "_view_count": null,
            "_view_module": "@jupyter-widgets/base",
            "_view_module_version": "1.2.0",
            "_view_name": "LayoutView",
            "align_content": null,
            "align_items": null,
            "align_self": null,
            "border": null,
            "bottom": null,
            "display": null,
            "flex": null,
            "flex_flow": null,
            "grid_area": null,
            "grid_auto_columns": null,
            "grid_auto_flow": null,
            "grid_auto_rows": null,
            "grid_column": null,
            "grid_gap": null,
            "grid_row": null,
            "grid_template_areas": null,
            "grid_template_columns": null,
            "grid_template_rows": null,
            "height": null,
            "justify_content": null,
            "justify_items": null,
            "left": null,
            "margin": null,
            "max_height": null,
            "max_width": null,
            "min_height": null,
            "min_width": null,
            "object_fit": null,
            "object_position": null,
            "order": null,
            "overflow": null,
            "overflow_x": null,
            "overflow_y": null,
            "padding": null,
            "right": null,
            "top": null,
            "visibility": null,
            "width": null
          }
        },
        "3766f4b5c29e4f669d1b4665bf30e87d": {
          "model_module": "@jupyter-widgets/base",
          "model_name": "LayoutModel",
          "model_module_version": "1.2.0",
          "state": {
            "_model_module": "@jupyter-widgets/base",
            "_model_module_version": "1.2.0",
            "_model_name": "LayoutModel",
            "_view_count": null,
            "_view_module": "@jupyter-widgets/base",
            "_view_module_version": "1.2.0",
            "_view_name": "LayoutView",
            "align_content": null,
            "align_items": null,
            "align_self": null,
            "border": null,
            "bottom": null,
            "display": null,
            "flex": null,
            "flex_flow": null,
            "grid_area": null,
            "grid_auto_columns": null,
            "grid_auto_flow": null,
            "grid_auto_rows": null,
            "grid_column": null,
            "grid_gap": null,
            "grid_row": null,
            "grid_template_areas": null,
            "grid_template_columns": null,
            "grid_template_rows": null,
            "height": null,
            "justify_content": null,
            "justify_items": null,
            "left": null,
            "margin": null,
            "max_height": null,
            "max_width": null,
            "min_height": null,
            "min_width": null,
            "object_fit": null,
            "object_position": null,
            "order": null,
            "overflow": null,
            "overflow_x": null,
            "overflow_y": null,
            "padding": null,
            "right": null,
            "top": null,
            "visibility": null,
            "width": null
          }
        },
        "703c1a8d04e5424799daed0b5c61a6f9": {
          "model_module": "@jupyter-widgets/controls",
          "model_name": "DescriptionStyleModel",
          "model_module_version": "1.5.0",
          "state": {
            "_model_module": "@jupyter-widgets/controls",
            "_model_module_version": "1.5.0",
            "_model_name": "DescriptionStyleModel",
            "_view_count": null,
            "_view_module": "@jupyter-widgets/base",
            "_view_module_version": "1.2.0",
            "_view_name": "StyleView",
            "description_width": ""
          }
        },
        "be0697207c304963aa4380bdc1ddfe96": {
          "model_module": "@jupyter-widgets/base",
          "model_name": "LayoutModel",
          "model_module_version": "1.2.0",
          "state": {
            "_model_module": "@jupyter-widgets/base",
            "_model_module_version": "1.2.0",
            "_model_name": "LayoutModel",
            "_view_count": null,
            "_view_module": "@jupyter-widgets/base",
            "_view_module_version": "1.2.0",
            "_view_name": "LayoutView",
            "align_content": null,
            "align_items": null,
            "align_self": null,
            "border": null,
            "bottom": null,
            "display": null,
            "flex": null,
            "flex_flow": null,
            "grid_area": null,
            "grid_auto_columns": null,
            "grid_auto_flow": null,
            "grid_auto_rows": null,
            "grid_column": null,
            "grid_gap": null,
            "grid_row": null,
            "grid_template_areas": null,
            "grid_template_columns": null,
            "grid_template_rows": null,
            "height": null,
            "justify_content": null,
            "justify_items": null,
            "left": null,
            "margin": null,
            "max_height": null,
            "max_width": null,
            "min_height": null,
            "min_width": null,
            "object_fit": null,
            "object_position": null,
            "order": null,
            "overflow": null,
            "overflow_x": null,
            "overflow_y": null,
            "padding": null,
            "right": null,
            "top": null,
            "visibility": null,
            "width": null
          }
        },
        "5da0834c8d074915bcb7441478c28acb": {
          "model_module": "@jupyter-widgets/controls",
          "model_name": "ProgressStyleModel",
          "model_module_version": "1.5.0",
          "state": {
            "_model_module": "@jupyter-widgets/controls",
            "_model_module_version": "1.5.0",
            "_model_name": "ProgressStyleModel",
            "_view_count": null,
            "_view_module": "@jupyter-widgets/base",
            "_view_module_version": "1.2.0",
            "_view_name": "StyleView",
            "bar_color": null,
            "description_width": ""
          }
        },
        "ce4f10bf0ccd4912969fa2664856940f": {
          "model_module": "@jupyter-widgets/base",
          "model_name": "LayoutModel",
          "model_module_version": "1.2.0",
          "state": {
            "_model_module": "@jupyter-widgets/base",
            "_model_module_version": "1.2.0",
            "_model_name": "LayoutModel",
            "_view_count": null,
            "_view_module": "@jupyter-widgets/base",
            "_view_module_version": "1.2.0",
            "_view_name": "LayoutView",
            "align_content": null,
            "align_items": null,
            "align_self": null,
            "border": null,
            "bottom": null,
            "display": null,
            "flex": null,
            "flex_flow": null,
            "grid_area": null,
            "grid_auto_columns": null,
            "grid_auto_flow": null,
            "grid_auto_rows": null,
            "grid_column": null,
            "grid_gap": null,
            "grid_row": null,
            "grid_template_areas": null,
            "grid_template_columns": null,
            "grid_template_rows": null,
            "height": null,
            "justify_content": null,
            "justify_items": null,
            "left": null,
            "margin": null,
            "max_height": null,
            "max_width": null,
            "min_height": null,
            "min_width": null,
            "object_fit": null,
            "object_position": null,
            "order": null,
            "overflow": null,
            "overflow_x": null,
            "overflow_y": null,
            "padding": null,
            "right": null,
            "top": null,
            "visibility": null,
            "width": null
          }
        },
        "cdd788b5da4d4dae8e4e239ec0eab581": {
          "model_module": "@jupyter-widgets/controls",
          "model_name": "DescriptionStyleModel",
          "model_module_version": "1.5.0",
          "state": {
            "_model_module": "@jupyter-widgets/controls",
            "_model_module_version": "1.5.0",
            "_model_name": "DescriptionStyleModel",
            "_view_count": null,
            "_view_module": "@jupyter-widgets/base",
            "_view_module_version": "1.2.0",
            "_view_name": "StyleView",
            "description_width": ""
          }
        }
      }
    }
  },
  "cells": [
    {
      "cell_type": "markdown",
      "metadata": {
        "id": "view-in-github",
        "colab_type": "text"
      },
      "source": [
        "<a href=\"https://colab.research.google.com/github/osmarbraz/sri/blob/main/1_2_GerarPOS_v1.ipynb\" target=\"_parent\"><img src=\"https://colab.research.google.com/assets/colab-badge.svg\" alt=\"Open In Colab\"/></a>"
      ]
    },
    {
      "cell_type": "markdown",
      "metadata": {
        "id": "EKOTlwcmxmej"
      },
      "source": [
        "# Gerar PoS-Tagging\n",
        "\n",
        "Gera as PoS-Tagging dos tokens dos documentos do dataset.\n",
        "\n",
        "**Entrada**: \"`dataset.zip`\".\n",
        "- Dentro do arquivo compactado `dataset.zip` está o arquivo `dataset.csv`. Cada linha de `dataset.csv` é formado por `[\"id\",\"sentencas\",\"documento\"]`.\n",
        "   - `\"id\"` é o idenficador do documento na base de dados.\n",
        "  - `\"sentencas\"` é uma lista com as sentenças do documento.\n",
        "  - `\"documento\"` o documento limpo, mas não segmentado.\n",
        "\n",
        "**Saída**: \"`datasetpos.zip`\".\n",
        "- Dentro do arquivo compactado `datasetpos.zip` está o arquivo `datasetpos.csv`. Cada linha do arquivo `datasetpos.csv` é formado por `[\"id\",\"pos_documento\"]`.\n",
        "  - `\"id\"` é o idenficador do documento no dataset.\n",
        "  - `\"pos_documento\"` é uma lista das sentenças do documento, formado por `\"tokens\",\"pos\",\"verbos\" e \"lemma\"`.\n",
        "    - `\"tokens\"` é uma lista com os tokens da sentença.\n",
        "    - `\"pos\"` é uma lista com as postagging das palavras da sentença.\n",
        "    - `\"verbos\"` é uma lista com os verbos da sentença.\n",
        "    - `\"lemma\"` é uma lista com os lemmas das palavras da sentença.\n",
        "\n",
        "**Processamento**:\n",
        "1. Copia e descompacta o arquivo \"`dataset.zip`\" para a máquina local do\n",
        "Google Colab.\n",
        "2. Realiza o PoS-Tagging das palavras dos documentos do conjunto de dados utilizando a ferramenta de PLN spaCy.\n",
        "3. Gera o arquivo \"`datasetpos.csv`\" com os dados das PoS-Tagging.\n",
        "4. Compacta o arquivo \"`datasetpos.csv`\" para \"`datasetpos.zip`\"\n",
        "5. Copia o arquivo \"`datasetpos.zip`\" para o google drive.\n",
        "\n",
        "**Estrutura do arquivo `datasetpos.csv` compactado em `datasetpos.zip`.**\n",
        "\n",
        "**Testes:**\n",
        "\n",
        "Os arquivos \"`dataset.csv`\" e \"`datasetpos.csv`\" precisam ter ao final da execução a mesma quantidade de linhas. Onde cada linha de \"`datasetpos.csv`\" esta relacionada com a mesma linha de \"`dataset.csv`\"."
      ]
    },
    {
      "cell_type": "markdown",
      "metadata": {
        "id": "OP33KWAtBMWs"
      },
      "source": [
        "# 1 Preparação do ambiente\n",
        "\n",
        "Preparação do ambiente para execução do script."
      ]
    },
    {
      "cell_type": "markdown",
      "metadata": {
        "id": "PKUr9Vk4BNLC"
      },
      "source": [
        "## 1.1 Tempo inicial de processamento"
      ]
    },
    {
      "cell_type": "code",
      "execution_count": null,
      "metadata": {
        "id": "JXclHCRQBSF2"
      },
      "outputs": [],
      "source": [
        "# Import das bibliotecas.\n",
        "import time\n",
        "import datetime\n",
        "\n",
        "# Marca o tempo de início do processamento\n",
        "inicio_processamento = time.time()"
      ]
    },
    {
      "cell_type": "markdown",
      "metadata": {
        "id": "GOcN8hK-scnt"
      },
      "source": [
        "## 1.2 Funções e classes auxiliares"
      ]
    },
    {
      "cell_type": "markdown",
      "source": [
        "Verifica se existe o diretório do notebook no diretório corrente.   \n"
      ],
      "metadata": {
        "id": "OPRnA-mk5-c4"
      }
    },
    {
      "cell_type": "code",
      "source": [
        "# Import das bibliotecas.\n",
        "import os # Biblioteca para manipular arquivos\n",
        "\n",
        "# ============================\n",
        "def verificaDiretorioNotebook():\n",
        "  '''\n",
        "  Verifica se existe o diretório do notebook no diretório corrente.\n",
        "  '''\n",
        "\n",
        "  # Verifica se o diretório existe\n",
        "  if not os.path.exists(DIRETORIO_NOTEBOOK):\n",
        "      # Cria o diretório\n",
        "      os.makedirs(DIRETORIO_NOTEBOOK)\n",
        "      logging.info(\"Diretório do notebook criado: {}\".format(DIRETORIO_NOTEBOOK))\n",
        "\n",
        "  return DIRETORIO_NOTEBOOK"
      ],
      "metadata": {
        "id": "Fj5TaAH_5-nB"
      },
      "execution_count": null,
      "outputs": []
    },
    {
      "cell_type": "markdown",
      "metadata": {
        "id": "603LYIYKBmq5"
      },
      "source": [
        "Função auxiliar para formatar o tempo como `hh: mm: ss`"
      ]
    },
    {
      "cell_type": "code",
      "metadata": {
        "id": "Guy6B4whsZFR"
      },
      "source": [
        "# Import das bibliotecas.\n",
        "import time\n",
        "import datetime\n",
        "\n",
        "def formataTempo(tempo):\n",
        "  '''\n",
        "  Pega a tempo em segundos e retorna uma string hh:mm:ss\n",
        "  '''\n",
        "  # Arredonda para o segundo mais próximo.\n",
        "  tempo_arredondado = int(round((tempo)))\n",
        "\n",
        "  # Formata como hh:mm:ss\n",
        "  return str(datetime.timedelta(seconds=tempo_arredondado))"
      ],
      "execution_count": null,
      "outputs": []
    },
    {
      "cell_type": "markdown",
      "metadata": {
        "id": "zVKAapz7RCxk"
      },
      "source": [
        "Classe(ModelArguments) de definição dos parâmetros do modelo"
      ]
    },
    {
      "cell_type": "code",
      "metadata": {
        "id": "zgmN6RqDRDZS"
      },
      "source": [
        "# Import das bibliotecas.\n",
        "from dataclasses import dataclass, field\n",
        "from typing import Dict, Optional\n",
        "from typing import List\n",
        "\n",
        "@dataclass\n",
        "class ModelosParametros:\n",
        "    modelo_spacy: str = field(\n",
        "        default=\"pt_core_news_lg\",\n",
        "        metadata={\"help\": \"nome do modelo do spaCy.\"},\n",
        "    )\n",
        "    sentenciar_documento: bool = field(\n",
        "        default=True,\n",
        "        metadata={\"help\": \"Dividir o documento em sentenças(frases).\"},\n",
        "    )"
      ],
      "execution_count": null,
      "outputs": []
    },
    {
      "cell_type": "markdown",
      "metadata": {
        "id": "Ycb0gM13MMCB"
      },
      "source": [
        "Biblioteca de limpeza de tela\n"
      ]
    },
    {
      "cell_type": "code",
      "metadata": {
        "id": "q67_MyllMMCC"
      },
      "source": [
        "# Import das bibliotecas.\n",
        "from IPython.display import clear_output"
      ],
      "execution_count": null,
      "outputs": []
    },
    {
      "cell_type": "markdown",
      "metadata": {
        "id": "iAPVtRXQqDim"
      },
      "source": [
        "## 1.3 Tratamento de logs"
      ]
    },
    {
      "cell_type": "code",
      "metadata": {
        "id": "DcopxbGZqDip"
      },
      "source": [
        "# Import das bibliotecas.\n",
        "import logging # Biblioteca de logging\n",
        "\n",
        "# Formatando a mensagem de logging\n",
        "logging.basicConfig(format=\"%(asctime)s : %(levelname)s : %(message)s\")\n",
        "\n",
        "logger = logging.getLogger()\n",
        "logger.setLevel(logging.INFO)"
      ],
      "execution_count": null,
      "outputs": []
    },
    {
      "cell_type": "markdown",
      "metadata": {
        "id": "_GjYtXcMnSAe"
      },
      "source": [
        "## 1.4 Identificando o ambiente Colab"
      ]
    },
    {
      "cell_type": "code",
      "metadata": {
        "id": "YMiH0E3OnRa1"
      },
      "source": [
        "# Import das bibliotecas.\n",
        "import sys # Biblioteca para acessar módulos do sistema\n",
        "\n",
        "# Se estiver executando no Google Colaboratory\n",
        "# Retorna true ou false se estiver no Google Colaboratory\n",
        "IN_COLAB = \"google.colab\" in sys.modules"
      ],
      "execution_count": null,
      "outputs": []
    },
    {
      "cell_type": "markdown",
      "metadata": {
        "id": "RinFHFesVKis"
      },
      "source": [
        "## 1.5 Colaboratory"
      ]
    },
    {
      "cell_type": "markdown",
      "metadata": {
        "id": "MPngEboiVbfi"
      },
      "source": [
        "Usando Colab GPU para Treinamento\n"
      ]
    },
    {
      "cell_type": "markdown",
      "metadata": {
        "id": "EjWE6WlvVbfj"
      },
      "source": [
        "Uma GPU pode ser adicionada acessando o menu e selecionando:\n",
        "\n",
        "`Edit -> Notebook Settings -> Hardware accelerator -> (GPU)`\n",
        "\n",
        "Em seguida, execute a célula a seguir para confirmar que a GPU foi detectada."
      ]
    },
    {
      "cell_type": "code",
      "execution_count": null,
      "metadata": {
        "colab": {
          "base_uri": "https://localhost:8080/"
        },
        "id": "vtaYZmc3Vbfj",
        "outputId": "248fe24c-b238-4b87-87d3-38baa3861ca2"
      },
      "outputs": [
        {
          "output_type": "stream",
          "name": "stderr",
          "text": [
            "INFO:numexpr.utils:NumExpr defaulting to 2 threads.\n",
            "INFO:root:Dispositivo GPU não encontrado\n"
          ]
        }
      ],
      "source": [
        "# Import das bibliotecas.\n",
        "import tensorflow as tf\n",
        "\n",
        "# Recupera o nome do dispositido da GPU.\n",
        "device_name = tf.test.gpu_device_name()\n",
        "\n",
        "# O nome do dispositivo deve ser parecido com o seguinte:\n",
        "if device_name == \"/device:GPU:0\":\n",
        "    logging.info(\"Encontrei GPU em: {}\".format(device_name))\n",
        "else:\n",
        "    logging.info(\"Dispositivo GPU não encontrado\")\n",
        "    #raise SystemError(\"Dispositivo GPU não encontrado\")"
      ]
    },
    {
      "cell_type": "markdown",
      "metadata": {
        "id": "iYRrUo2XWa8G"
      },
      "source": [
        "Nome da GPU\n",
        "\n",
        "Para que a torch use a GPU, precisamos identificar e especificar a GPU como o dispositivo. Posteriormente, em nosso ciclo de treinamento, carregaremos dados no dispositivo.\n",
        "\n",
        "Vale a pena observar qual GPU você recebeu. A GPU Tesla P100 é muito mais rápido que as outras GPUs, abaixo uma lista ordenada:\n",
        "- 1o Tesla P100\n",
        "- 2o Tesla T4\n",
        "- 3o Tesla P4 (Não tem memória para execução 4 x 8, somente 2 x 4)\n",
        "- 4o Tesla K80 (Não tem memória para execução 4 x 8, somente 2 x 4)"
      ]
    },
    {
      "cell_type": "code",
      "execution_count": null,
      "metadata": {
        "id": "zrjqDO6nWa8J"
      },
      "outputs": [],
      "source": [
        "# Import das bibliotecas.\n",
        "import torch\n",
        "\n",
        "def getDeviceGPU():\n",
        "  '''\n",
        "  Retorna um dispositivo de GPU se disponível ou CPU.\n",
        "\n",
        "  Retorno:\n",
        "    `device` - Um device de GPU ou CPU.\n",
        "  '''\n",
        "\n",
        "  # Se existe GPU disponível.\n",
        "  if torch.cuda.is_available():\n",
        "\n",
        "      # Diz ao PyTorch para usar GPU.\n",
        "      device = torch.device(\"cuda\")\n",
        "\n",
        "      logging.info(\"Existem {} GPU(s) disponíveis.\".format(torch.cuda.device_count()))\n",
        "      logging.info(\"Iremos usar a GPU: {}.\".format(torch.cuda.get_device_name(0)))\n",
        "\n",
        "  # Se não.\n",
        "  else:\n",
        "      logging.info(\"Sem GPU disponível, usando CPU.\")\n",
        "      device = torch.device(\"cpu\")\n",
        "\n",
        "  return device"
      ]
    },
    {
      "cell_type": "code",
      "source": [
        "# Recupera o device com GPU ou CPU\n",
        "device = getDeviceGPU()"
      ],
      "metadata": {
        "id": "ChDxmtXsKwjf",
        "colab": {
          "base_uri": "https://localhost:8080/"
        },
        "outputId": "e61f7dc7-b5b5-468d-8f2f-ea8cdbf1b60a"
      },
      "execution_count": null,
      "outputs": [
        {
          "output_type": "stream",
          "name": "stderr",
          "text": [
            "INFO:root:Sem GPU disponível, usando CPU.\n"
          ]
        }
      ]
    },
    {
      "cell_type": "markdown",
      "metadata": {
        "id": "fGf59D0yVNx9"
      },
      "source": [
        "Memória\n",
        "\n",
        "Memória disponível no ambiente"
      ]
    },
    {
      "cell_type": "code",
      "metadata": {
        "colab": {
          "base_uri": "https://localhost:8080/"
        },
        "id": "1iC5-pSAVh7_",
        "outputId": "73bbb8bf-c707-4f67-ef9d-3a5fba76727e"
      },
      "source": [
        "# Importando as bibliotecas.\n",
        "from psutil import virtual_memory\n",
        "\n",
        "ram_gb = virtual_memory().total / 1e9\n",
        "logging.info(\"Seu ambiente de execução tem {: .1f} gigabytes de RAM disponível\\n\".format(ram_gb))\n",
        "\n",
        "if ram_gb < 20:\n",
        "  logging.info(\"Para habilitar um tempo de execução de RAM alta, selecione menu o ambiente de execução> \\\"Alterar tipo de tempo de execução\\\"\")\n",
        "  logging.info(\"e selecione High-RAM. Então, execute novamente está célula\")\n",
        "else:\n",
        "  logging.info(\"Você está usando um ambiente de execução de memória RAM alta!\")"
      ],
      "execution_count": null,
      "outputs": [
        {
          "output_type": "stream",
          "name": "stderr",
          "text": [
            "INFO:root:Seu ambiente de execução tem  13.6 gigabytes de RAM disponível\n",
            "\n",
            "INFO:root:Para habilitar um tempo de execução de RAM alta, selecione menu o ambiente de execução> \"Alterar tipo de tempo de execução\"\n",
            "INFO:root:e selecione High-RAM. Então, execute novamente está célula\n"
          ]
        }
      ]
    },
    {
      "cell_type": "markdown",
      "metadata": {
        "id": "wijMXooQQLcQ"
      },
      "source": [
        "## 1.6 Monta uma pasta no google drive para carregar os arquivos de dados."
      ]
    },
    {
      "cell_type": "code",
      "execution_count": null,
      "metadata": {
        "id": "ysnDDapMQK8K",
        "colab": {
          "base_uri": "https://localhost:8080/"
        },
        "outputId": "b19df250-70bd-4f04-b014-6c32919b080b"
      },
      "outputs": [
        {
          "output_type": "stream",
          "name": "stdout",
          "text": [
            "Mounted at /content/drive\n"
          ]
        }
      ],
      "source": [
        "# import necessário\n",
        "from google.colab import drive\n",
        "\n",
        "# Monta o drive na pasta especificada\n",
        "drive.mount(\"/content/drive\")"
      ]
    },
    {
      "cell_type": "markdown",
      "metadata": {
        "id": "oOd2MbBiDq93"
      },
      "source": [
        "## 1.8 Instalação do spaCy\n",
        "\n",
        "https://spacy.io/\n",
        "\n",
        "Modelos do spaCy para português:\n",
        "https://spacy.io/models/pt"
      ]
    },
    {
      "cell_type": "code",
      "metadata": {
        "id": "EaMM4WdxgvQ7",
        "colab": {
          "base_uri": "https://localhost:8080/",
          "height": 500
        },
        "outputId": "f8d1d42b-7b35-4ad5-890f-81726cca8f08"
      },
      "source": [
        "# Instala dependências do spacy\n",
        "!pip install -U pip setuptools wheel"
      ],
      "execution_count": null,
      "outputs": [
        {
          "output_type": "stream",
          "name": "stdout",
          "text": [
            "Requirement already satisfied: pip in /usr/local/lib/python3.10/dist-packages (23.1.2)\n",
            "Collecting pip\n",
            "  Downloading pip-23.2.1-py3-none-any.whl (2.1 MB)\n",
            "\u001b[2K     \u001b[90m━━━━━━━━━━━━━━━━━━━━━━━━━━━━━━━━━━━━━━━━\u001b[0m \u001b[32m2.1/2.1 MB\u001b[0m \u001b[31m23.3 MB/s\u001b[0m eta \u001b[36m0:00:00\u001b[0m\n",
            "\u001b[?25hRequirement already satisfied: setuptools in /usr/local/lib/python3.10/dist-packages (67.7.2)\n",
            "Collecting setuptools\n",
            "  Downloading setuptools-68.2.2-py3-none-any.whl (807 kB)\n",
            "\u001b[2K     \u001b[90m━━━━━━━━━━━━━━━━━━━━━━━━━━━━━━━━━━━━━━\u001b[0m \u001b[32m807.9/807.9 kB\u001b[0m \u001b[31m42.2 MB/s\u001b[0m eta \u001b[36m0:00:00\u001b[0m\n",
            "\u001b[?25hRequirement already satisfied: wheel in /usr/local/lib/python3.10/dist-packages (0.41.2)\n",
            "Installing collected packages: setuptools, pip\n",
            "  Attempting uninstall: setuptools\n",
            "    Found existing installation: setuptools 67.7.2\n",
            "    Uninstalling setuptools-67.7.2:\n",
            "      Successfully uninstalled setuptools-67.7.2\n",
            "  Attempting uninstall: pip\n",
            "    Found existing installation: pip 23.1.2\n",
            "    Uninstalling pip-23.1.2:\n",
            "      Successfully uninstalled pip-23.1.2\n",
            "\u001b[31mERROR: pip's dependency resolver does not currently take into account all the packages that are installed. This behaviour is the source of the following dependency conflicts.\n",
            "ipython 7.34.0 requires jedi>=0.16, which is not installed.\u001b[0m\u001b[31m\n",
            "\u001b[0mSuccessfully installed pip-23.2.1 setuptools-68.2.2\n"
          ]
        },
        {
          "output_type": "display_data",
          "data": {
            "application/vnd.colab-display-data+json": {
              "pip_warning": {
                "packages": [
                  "_distutils_hack",
                  "pkg_resources",
                  "setuptools"
                ]
              }
            }
          },
          "metadata": {}
        }
      ]
    },
    {
      "cell_type": "code",
      "metadata": {
        "id": "w4p3Rz2qDq94",
        "colab": {
          "base_uri": "https://localhost:8080/"
        },
        "outputId": "5495da04-0e62-4fb4-dbc6-9eee81eff5b4"
      },
      "source": [
        "# Instala uma versão específica\n",
        "!pip install -U spacy==3.4.4"
      ],
      "execution_count": null,
      "outputs": [
        {
          "output_type": "stream",
          "name": "stdout",
          "text": [
            "Collecting spacy==3.4.4\n",
            "  Downloading spacy-3.4.4-cp310-cp310-manylinux_2_17_x86_64.manylinux2014_x86_64.whl (6.5 MB)\n",
            "\u001b[2K     \u001b[90m━━━━━━━━━━━━━━━━━━━━━━━━━━━━━━━━━━━━━━━━\u001b[0m \u001b[32m6.5/6.5 MB\u001b[0m \u001b[31m38.8 MB/s\u001b[0m eta \u001b[36m0:00:00\u001b[0m\n",
            "\u001b[?25hRequirement already satisfied: spacy-legacy<3.1.0,>=3.0.10 in /usr/local/lib/python3.10/dist-packages (from spacy==3.4.4) (3.0.12)\n",
            "Requirement already satisfied: spacy-loggers<2.0.0,>=1.0.0 in /usr/local/lib/python3.10/dist-packages (from spacy==3.4.4) (1.0.5)\n",
            "Requirement already satisfied: murmurhash<1.1.0,>=0.28.0 in /usr/local/lib/python3.10/dist-packages (from spacy==3.4.4) (1.0.10)\n",
            "Requirement already satisfied: cymem<2.1.0,>=2.0.2 in /usr/local/lib/python3.10/dist-packages (from spacy==3.4.4) (2.0.8)\n",
            "Requirement already satisfied: preshed<3.1.0,>=3.0.2 in /usr/local/lib/python3.10/dist-packages (from spacy==3.4.4) (3.0.9)\n",
            "Requirement already satisfied: thinc<8.2.0,>=8.1.0 in /usr/local/lib/python3.10/dist-packages (from spacy==3.4.4) (8.1.12)\n",
            "Collecting wasabi<1.1.0,>=0.9.1 (from spacy==3.4.4)\n",
            "  Downloading wasabi-0.10.1-py3-none-any.whl (26 kB)\n",
            "Requirement already satisfied: srsly<3.0.0,>=2.4.3 in /usr/local/lib/python3.10/dist-packages (from spacy==3.4.4) (2.4.8)\n",
            "Requirement already satisfied: catalogue<2.1.0,>=2.0.6 in /usr/local/lib/python3.10/dist-packages (from spacy==3.4.4) (2.0.10)\n",
            "Collecting typer<0.8.0,>=0.3.0 (from spacy==3.4.4)\n",
            "  Downloading typer-0.7.0-py3-none-any.whl (38 kB)\n",
            "Requirement already satisfied: pathy>=0.3.5 in /usr/local/lib/python3.10/dist-packages (from spacy==3.4.4) (0.10.2)\n",
            "Requirement already satisfied: smart-open<7.0.0,>=5.2.1 in /usr/local/lib/python3.10/dist-packages (from spacy==3.4.4) (6.4.0)\n",
            "Requirement already satisfied: tqdm<5.0.0,>=4.38.0 in /usr/local/lib/python3.10/dist-packages (from spacy==3.4.4) (4.66.1)\n",
            "Requirement already satisfied: numpy>=1.15.0 in /usr/local/lib/python3.10/dist-packages (from spacy==3.4.4) (1.23.5)\n",
            "Requirement already satisfied: requests<3.0.0,>=2.13.0 in /usr/local/lib/python3.10/dist-packages (from spacy==3.4.4) (2.31.0)\n",
            "Requirement already satisfied: pydantic!=1.8,!=1.8.1,<1.11.0,>=1.7.4 in /usr/local/lib/python3.10/dist-packages (from spacy==3.4.4) (1.10.13)\n",
            "Requirement already satisfied: jinja2 in /usr/local/lib/python3.10/dist-packages (from spacy==3.4.4) (3.1.2)\n",
            "Requirement already satisfied: setuptools in /usr/local/lib/python3.10/dist-packages (from spacy==3.4.4) (68.2.2)\n",
            "Requirement already satisfied: packaging>=20.0 in /usr/local/lib/python3.10/dist-packages (from spacy==3.4.4) (23.2)\n",
            "Requirement already satisfied: langcodes<4.0.0,>=3.2.0 in /usr/local/lib/python3.10/dist-packages (from spacy==3.4.4) (3.3.0)\n",
            "Requirement already satisfied: typing-extensions>=4.2.0 in /usr/local/lib/python3.10/dist-packages (from pydantic!=1.8,!=1.8.1,<1.11.0,>=1.7.4->spacy==3.4.4) (4.5.0)\n",
            "Requirement already satisfied: charset-normalizer<4,>=2 in /usr/local/lib/python3.10/dist-packages (from requests<3.0.0,>=2.13.0->spacy==3.4.4) (3.3.0)\n",
            "Requirement already satisfied: idna<4,>=2.5 in /usr/local/lib/python3.10/dist-packages (from requests<3.0.0,>=2.13.0->spacy==3.4.4) (3.4)\n",
            "Requirement already satisfied: urllib3<3,>=1.21.1 in /usr/local/lib/python3.10/dist-packages (from requests<3.0.0,>=2.13.0->spacy==3.4.4) (2.0.6)\n",
            "Requirement already satisfied: certifi>=2017.4.17 in /usr/local/lib/python3.10/dist-packages (from requests<3.0.0,>=2.13.0->spacy==3.4.4) (2023.7.22)\n",
            "Requirement already satisfied: blis<0.8.0,>=0.7.8 in /usr/local/lib/python3.10/dist-packages (from thinc<8.2.0,>=8.1.0->spacy==3.4.4) (0.7.11)\n",
            "Requirement already satisfied: confection<1.0.0,>=0.0.1 in /usr/local/lib/python3.10/dist-packages (from thinc<8.2.0,>=8.1.0->spacy==3.4.4) (0.1.3)\n",
            "Requirement already satisfied: click<9.0.0,>=7.1.1 in /usr/local/lib/python3.10/dist-packages (from typer<0.8.0,>=0.3.0->spacy==3.4.4) (8.1.7)\n",
            "Requirement already satisfied: MarkupSafe>=2.0 in /usr/local/lib/python3.10/dist-packages (from jinja2->spacy==3.4.4) (2.1.3)\n",
            "Installing collected packages: wasabi, typer, spacy\n",
            "  Attempting uninstall: wasabi\n",
            "    Found existing installation: wasabi 1.1.2\n",
            "    Uninstalling wasabi-1.1.2:\n",
            "      Successfully uninstalled wasabi-1.1.2\n",
            "  Attempting uninstall: typer\n",
            "    Found existing installation: typer 0.9.0\n",
            "    Uninstalling typer-0.9.0:\n",
            "      Successfully uninstalled typer-0.9.0\n",
            "  Attempting uninstall: spacy\n",
            "    Found existing installation: spacy 3.6.1\n",
            "    Uninstalling spacy-3.6.1:\n",
            "      Successfully uninstalled spacy-3.6.1\n",
            "\u001b[31mERROR: pip's dependency resolver does not currently take into account all the packages that are installed. This behaviour is the source of the following dependency conflicts.\n",
            "en-core-web-sm 3.6.0 requires spacy<3.7.0,>=3.6.0, but you have spacy 3.4.4 which is incompatible.\u001b[0m\u001b[31m\n",
            "\u001b[0mSuccessfully installed spacy-3.4.4 typer-0.7.0 wasabi-0.10.1\n",
            "\u001b[33mWARNING: Running pip as the 'root' user can result in broken permissions and conflicting behaviour with the system package manager. It is recommended to use a virtual environment instead: https://pip.pypa.io/warnings/venv\u001b[0m\u001b[33m\n",
            "\u001b[0m"
          ]
        }
      ]
    },
    {
      "cell_type": "markdown",
      "metadata": {
        "id": "8bGda5JgMtQe"
      },
      "source": [
        "# 2 Parametrização"
      ]
    },
    {
      "cell_type": "markdown",
      "source": [
        "## Gerais"
      ],
      "metadata": {
        "id": "ifrYNTwGwKal"
      }
    },
    {
      "cell_type": "code",
      "source": [
        "# Definição dos parâmetros a serem avaliados"
      ],
      "metadata": {
        "id": "5uiH9pNpwI6g"
      },
      "execution_count": null,
      "outputs": []
    },
    {
      "cell_type": "markdown",
      "source": [
        "## Específicos"
      ],
      "metadata": {
        "id": "mhByVujAwNAU"
      }
    },
    {
      "cell_type": "markdown",
      "source": [
        "Parâmetros do modelo"
      ],
      "metadata": {
        "id": "Mhkc9sW21zV7"
      }
    },
    {
      "cell_type": "code",
      "metadata": {
        "id": "oJ15-ylRRRdD"
      },
      "source": [
        "# Definição dos parâmetros do Modelo.\n",
        "model_args = ModelosParametros(\n",
        "\n",
        "    #modelo_spacy = \"en_core_web_lg\",\n",
        "    #modelo_spacy = \"en_core_web_md\",\n",
        "    #modelo_spacy = \"en_core_web_sm\",\n",
        "\n",
        "    modelo_spacy = \"pt_core_news_lg\",\n",
        "    #modelo_spacy = \"pt_core_news_md\",\n",
        "    #modelo_spacy = \"pt_core_news_sm\",\n",
        "\n",
        "    sentenciar_documento = True,\n",
        ")"
      ],
      "execution_count": null,
      "outputs": []
    },
    {
      "cell_type": "markdown",
      "source": [
        "## Nome do diretório dos arquivos de dados"
      ],
      "metadata": {
        "id": "mhhyqZFPIkAX"
      }
    },
    {
      "cell_type": "code",
      "source": [
        "# Diretório do notebook\n",
        "DIRETORIO_NOTEBOOK = \"SRI\""
      ],
      "metadata": {
        "id": "WJGxiBGOIkAX"
      },
      "execution_count": null,
      "outputs": []
    },
    {
      "cell_type": "markdown",
      "metadata": {
        "id": "SUxlx7Sx4yxj"
      },
      "source": [
        "## Define o caminho para os arquivos de dados"
      ]
    },
    {
      "cell_type": "code",
      "execution_count": null,
      "metadata": {
        "id": "-gQpxAO74yxj"
      },
      "outputs": [],
      "source": [
        "# Diretório local para os arquivos de dados\n",
        "DIRETORIO_LOCAL = \"/content/\" + DIRETORIO_NOTEBOOK + \"/\"\n",
        "\n",
        "# Diretório no google drive com os arquivos de dados\n",
        "DIRETORIO_DRIVE = \"/content/drive/MyDrive/Colab Notebooks/\" + DIRETORIO_NOTEBOOK + \"/data/\""
      ]
    },
    {
      "cell_type": "markdown",
      "metadata": {
        "id": "L7G3-MOsQ1N_"
      },
      "source": [
        "# 3 spaCy"
      ]
    },
    {
      "cell_type": "markdown",
      "metadata": {
        "id": "35GwcgkOlWi3"
      },
      "source": [
        "## 3.1 Download arquivo modelo\n",
        "\n",
        "Uso:\n",
        "https://spacy.io/usage\n",
        "\n",
        "Modelos:\n",
        "https://spacy.io/models"
      ]
    },
    {
      "cell_type": "code",
      "source": [
        "!python -m spacy download $model_args.modelo_spacy"
      ],
      "metadata": {
        "id": "_lqonzGcupXI",
        "colab": {
          "base_uri": "https://localhost:8080/"
        },
        "outputId": "fa92414c-49bb-4cb0-f00a-efae2487a2c3"
      },
      "execution_count": null,
      "outputs": [
        {
          "output_type": "stream",
          "name": "stdout",
          "text": [
            "2023-10-11 22:37:18.441917: W tensorflow/compiler/tf2tensorrt/utils/py_utils.cc:38] TF-TRT Warning: Could not find TensorRT\n",
            "Collecting pt-core-news-lg==3.4.0\n",
            "  Downloading https://github.com/explosion/spacy-models/releases/download/pt_core_news_lg-3.4.0/pt_core_news_lg-3.4.0-py3-none-any.whl (568.2 MB)\n",
            "\u001b[2K     \u001b[90m━━━━━━━━━━━━━━━━━━━━━━━━━━━━━━━━━━━━━━━\u001b[0m \u001b[32m568.2/568.2 MB\u001b[0m \u001b[31m2.9 MB/s\u001b[0m eta \u001b[36m0:00:00\u001b[0m\n",
            "\u001b[?25hRequirement already satisfied: spacy<3.5.0,>=3.4.0 in /usr/local/lib/python3.10/dist-packages (from pt-core-news-lg==3.4.0) (3.4.4)\n",
            "Requirement already satisfied: spacy-legacy<3.1.0,>=3.0.10 in /usr/local/lib/python3.10/dist-packages (from spacy<3.5.0,>=3.4.0->pt-core-news-lg==3.4.0) (3.0.12)\n",
            "Requirement already satisfied: spacy-loggers<2.0.0,>=1.0.0 in /usr/local/lib/python3.10/dist-packages (from spacy<3.5.0,>=3.4.0->pt-core-news-lg==3.4.0) (1.0.5)\n",
            "Requirement already satisfied: murmurhash<1.1.0,>=0.28.0 in /usr/local/lib/python3.10/dist-packages (from spacy<3.5.0,>=3.4.0->pt-core-news-lg==3.4.0) (1.0.10)\n",
            "Requirement already satisfied: cymem<2.1.0,>=2.0.2 in /usr/local/lib/python3.10/dist-packages (from spacy<3.5.0,>=3.4.0->pt-core-news-lg==3.4.0) (2.0.8)\n",
            "Requirement already satisfied: preshed<3.1.0,>=3.0.2 in /usr/local/lib/python3.10/dist-packages (from spacy<3.5.0,>=3.4.0->pt-core-news-lg==3.4.0) (3.0.9)\n",
            "Requirement already satisfied: thinc<8.2.0,>=8.1.0 in /usr/local/lib/python3.10/dist-packages (from spacy<3.5.0,>=3.4.0->pt-core-news-lg==3.4.0) (8.1.12)\n",
            "Requirement already satisfied: wasabi<1.1.0,>=0.9.1 in /usr/local/lib/python3.10/dist-packages (from spacy<3.5.0,>=3.4.0->pt-core-news-lg==3.4.0) (0.10.1)\n",
            "Requirement already satisfied: srsly<3.0.0,>=2.4.3 in /usr/local/lib/python3.10/dist-packages (from spacy<3.5.0,>=3.4.0->pt-core-news-lg==3.4.0) (2.4.8)\n",
            "Requirement already satisfied: catalogue<2.1.0,>=2.0.6 in /usr/local/lib/python3.10/dist-packages (from spacy<3.5.0,>=3.4.0->pt-core-news-lg==3.4.0) (2.0.10)\n",
            "Requirement already satisfied: typer<0.8.0,>=0.3.0 in /usr/local/lib/python3.10/dist-packages (from spacy<3.5.0,>=3.4.0->pt-core-news-lg==3.4.0) (0.7.0)\n",
            "Requirement already satisfied: pathy>=0.3.5 in /usr/local/lib/python3.10/dist-packages (from spacy<3.5.0,>=3.4.0->pt-core-news-lg==3.4.0) (0.10.2)\n",
            "Requirement already satisfied: smart-open<7.0.0,>=5.2.1 in /usr/local/lib/python3.10/dist-packages (from spacy<3.5.0,>=3.4.0->pt-core-news-lg==3.4.0) (6.4.0)\n",
            "Requirement already satisfied: tqdm<5.0.0,>=4.38.0 in /usr/local/lib/python3.10/dist-packages (from spacy<3.5.0,>=3.4.0->pt-core-news-lg==3.4.0) (4.66.1)\n",
            "Requirement already satisfied: numpy>=1.15.0 in /usr/local/lib/python3.10/dist-packages (from spacy<3.5.0,>=3.4.0->pt-core-news-lg==3.4.0) (1.23.5)\n",
            "Requirement already satisfied: requests<3.0.0,>=2.13.0 in /usr/local/lib/python3.10/dist-packages (from spacy<3.5.0,>=3.4.0->pt-core-news-lg==3.4.0) (2.31.0)\n",
            "Requirement already satisfied: pydantic!=1.8,!=1.8.1,<1.11.0,>=1.7.4 in /usr/local/lib/python3.10/dist-packages (from spacy<3.5.0,>=3.4.0->pt-core-news-lg==3.4.0) (1.10.13)\n",
            "Requirement already satisfied: jinja2 in /usr/local/lib/python3.10/dist-packages (from spacy<3.5.0,>=3.4.0->pt-core-news-lg==3.4.0) (3.1.2)\n",
            "Requirement already satisfied: setuptools in /usr/local/lib/python3.10/dist-packages (from spacy<3.5.0,>=3.4.0->pt-core-news-lg==3.4.0) (68.2.2)\n",
            "Requirement already satisfied: packaging>=20.0 in /usr/local/lib/python3.10/dist-packages (from spacy<3.5.0,>=3.4.0->pt-core-news-lg==3.4.0) (23.2)\n",
            "Requirement already satisfied: langcodes<4.0.0,>=3.2.0 in /usr/local/lib/python3.10/dist-packages (from spacy<3.5.0,>=3.4.0->pt-core-news-lg==3.4.0) (3.3.0)\n",
            "Requirement already satisfied: typing-extensions>=4.2.0 in /usr/local/lib/python3.10/dist-packages (from pydantic!=1.8,!=1.8.1,<1.11.0,>=1.7.4->spacy<3.5.0,>=3.4.0->pt-core-news-lg==3.4.0) (4.5.0)\n",
            "Requirement already satisfied: charset-normalizer<4,>=2 in /usr/local/lib/python3.10/dist-packages (from requests<3.0.0,>=2.13.0->spacy<3.5.0,>=3.4.0->pt-core-news-lg==3.4.0) (3.3.0)\n",
            "Requirement already satisfied: idna<4,>=2.5 in /usr/local/lib/python3.10/dist-packages (from requests<3.0.0,>=2.13.0->spacy<3.5.0,>=3.4.0->pt-core-news-lg==3.4.0) (3.4)\n",
            "Requirement already satisfied: urllib3<3,>=1.21.1 in /usr/local/lib/python3.10/dist-packages (from requests<3.0.0,>=2.13.0->spacy<3.5.0,>=3.4.0->pt-core-news-lg==3.4.0) (2.0.6)\n",
            "Requirement already satisfied: certifi>=2017.4.17 in /usr/local/lib/python3.10/dist-packages (from requests<3.0.0,>=2.13.0->spacy<3.5.0,>=3.4.0->pt-core-news-lg==3.4.0) (2023.7.22)\n",
            "Requirement already satisfied: blis<0.8.0,>=0.7.8 in /usr/local/lib/python3.10/dist-packages (from thinc<8.2.0,>=8.1.0->spacy<3.5.0,>=3.4.0->pt-core-news-lg==3.4.0) (0.7.11)\n",
            "Requirement already satisfied: confection<1.0.0,>=0.0.1 in /usr/local/lib/python3.10/dist-packages (from thinc<8.2.0,>=8.1.0->spacy<3.5.0,>=3.4.0->pt-core-news-lg==3.4.0) (0.1.3)\n",
            "Requirement already satisfied: click<9.0.0,>=7.1.1 in /usr/local/lib/python3.10/dist-packages (from typer<0.8.0,>=0.3.0->spacy<3.5.0,>=3.4.0->pt-core-news-lg==3.4.0) (8.1.7)\n",
            "Requirement already satisfied: MarkupSafe>=2.0 in /usr/local/lib/python3.10/dist-packages (from jinja2->spacy<3.5.0,>=3.4.0->pt-core-news-lg==3.4.0) (2.1.3)\n",
            "Installing collected packages: pt-core-news-lg\n",
            "Successfully installed pt-core-news-lg-3.4.0\n",
            "\u001b[33mWARNING: Running pip as the 'root' user can result in broken permissions and conflicting behaviour with the system package manager. It is recommended to use a virtual environment instead: https://pip.pypa.io/warnings/venv\u001b[0m\u001b[33m\n",
            "\u001b[0m\u001b[38;5;2m✔ Download and installation successful\u001b[0m\n",
            "You can now load the package via spacy.load('pt_core_news_lg')\n"
          ]
        }
      ]
    },
    {
      "cell_type": "markdown",
      "metadata": {
        "id": "STHT2c89qvwK"
      },
      "source": [
        "## 3.2 Carrega o modelo"
      ]
    },
    {
      "cell_type": "code",
      "source": [
        "# Import das bibliotecas.\n",
        "import spacy # Biblioteca do spaCy\n",
        "\n",
        "nlp = spacy.load(model_args.modelo_spacy)"
      ],
      "metadata": {
        "id": "6boQJOwotxhH"
      },
      "execution_count": null,
      "outputs": []
    },
    {
      "cell_type": "markdown",
      "metadata": {
        "id": "fzk8VOp7oy8n"
      },
      "source": [
        "## 3.3 Funções auxiliares spaCy"
      ]
    },
    {
      "cell_type": "markdown",
      "metadata": {
        "id": "onM1ZApom-_W"
      },
      "source": [
        "### getVerbos\n",
        "Localiza os verbos da sentença"
      ]
    },
    {
      "cell_type": "code",
      "metadata": {
        "id": "6hdqVdfxm-_W"
      },
      "source": [
        "# Import das bibliotecas.\n",
        "import spacy\n",
        "from spacy.util import filter_spans\n",
        "from spacy.matcher import Matcher\n",
        "\n",
        "# (verbo normal como auxilar ou auxilar) + vários verbos auxiliares +verbo principal ou verbo auxiliar\n",
        "gramaticav1 =  [\n",
        "                {\"POS\": \"AUX\", \"OP\": \"?\", \"DEP\": {\"IN\": [\"aux\",\"aux:pass\"]}},  #verbo auxiliar\n",
        "                {\"POS\": \"VERB\", \"OP\": \"?\", \"DEP\": {\"IN\": [\"ROOT\",\"aux\",\"xcomp\",\"aux:pass\"]}},  #verbo normal como auxiliar\n",
        "                {\"POS\": \"AUX\", \"OP\": \"*\", \"DEP\": {\"IN\": [\"aux\",\"xcomp\",\"aux:pass\"]}},  #verbo auxiliar\n",
        "                {\"POS\": \"VERB\", \"OP\": \"+\"}, #verbo principal\n",
        "                {\"POS\": \"AUX\", \"OP\": \"?\", \"DEP\": {\"IN\": [\"cop\",\"aux\",\"xcomp\",\"aux:pass\"]}},  #verbo auxiliar\n",
        "               ]\n",
        "\n",
        "# verbo auxiliar + verbo normal como auxiliar + conjunção com preposição + verbo\n",
        "gramaticav2 =  [\n",
        "                {\"POS\": \"AUX\", \"OP\": \"?\", \"DEP\": {\"IN\": [\"aux\",\"aux:pass\"]}},  #verbo auxiliar\n",
        "                {\"POS\": \"VERB\", \"OP\": \"+\", \"DEP\": {\"IN\": [\"ROOT\"]}},  #verbo principal\n",
        "                {\"POS\": \"SCONJ\", \"OP\": \"+\", \"DEP\": {\"IN\": [\"mark\"]}}, #conjunção com preposição\n",
        "                {\"POS\": \"VERB\", \"OP\": \"+\", \"DEP\": {\"IN\": [\"xcomp\"]}}, #verbo normal como complementar\n",
        "               ]\n",
        "\n",
        "#Somente verbos auxiliares\n",
        "gramaticav3 =  [\n",
        "                {\"POS\": \"AUX\", \"OP\": \"?\"},  #Verbos auxiliar\n",
        "                {\"POS\": \"AUX\", \"OP\": \"?\", \"DEP\": {\"IN\": [\"cop\"]}},  #Verbos auxiliar de ligação (AUX+(cop))\n",
        "                {\"POS\": \"ADJ\", \"OP\": \"+\", \"DEP\": {\"IN\": [\"ROOT\"]}},\n",
        "                {\"POS\": \"AUX\", \"OP\": \"?\"}  #Verbos auxiliar\n",
        "               ]\n",
        "\n",
        "matcherv = Matcher(nlp.vocab)\n",
        "\n",
        "matcherv.add(\"frase verbal\", [gramaticav1])\n",
        "matcherv.add(\"frase verbal\", [gramaticav2])\n",
        "matcherv.add(\"frase verbal\", [gramaticav3])\n",
        "\n",
        "#Retorna a Frase Verbal\n",
        "def getVerbos(periodo):\n",
        "  #Processa o período\n",
        "  doc1 = nlp(periodo.text)\n",
        "\n",
        "  # Chama o mather para encontrar o padrão\n",
        "  matches = matcherv(doc1)\n",
        "\n",
        "  padrao = [doc1[start:end] for _, start, end in matches]\n",
        "\n",
        "  #elimina as repetições e sobreposições\n",
        "  #return filter_spans(padrao)\n",
        "  lista1 = filter_spans(padrao)\n",
        "\n",
        "  # Converte os itens em string\n",
        "  lista2 = []\n",
        "  for x in lista1:\n",
        "      lista2.append(str(x))\n",
        "\n",
        "  return lista2"
      ],
      "execution_count": null,
      "outputs": []
    },
    {
      "cell_type": "markdown",
      "metadata": {
        "id": "bGaf7bkpAEiX"
      },
      "source": [
        "### getTokensSentenca\n",
        "\n",
        "Retorna a lista de tokens da sentenca."
      ]
    },
    {
      "cell_type": "code",
      "execution_count": null,
      "metadata": {
        "id": "gWxyAo54AOHU"
      },
      "outputs": [],
      "source": [
        "def getTokensSentenca(sentenca):\n",
        "\n",
        "    # Verifica se o sentenca não foi processado pelo spaCy\n",
        "  if type(sentenca) is not spacy.tokens.doc.Doc:\n",
        "      # Realiza o parsing no spacy\n",
        "      doc = nlp(sentenca)\n",
        "  else:\n",
        "      doc = sentenca\n",
        "\n",
        "  # Lista dos tokens\n",
        "  lista = []\n",
        "\n",
        "  # Percorre a sentença adicionando os tokens\n",
        "  for token in doc:\n",
        "    lista.append(token.text)\n",
        "\n",
        "  return lista"
      ]
    },
    {
      "cell_type": "markdown",
      "metadata": {
        "id": "B4Soqt3fp3Lu"
      },
      "source": [
        "### getListaTokensPOSSentenca\n",
        "\n",
        "Retorna três listas uma com os tokens, as POS-Tagging e o lemma das palavras da sentenca."
      ]
    },
    {
      "cell_type": "code",
      "execution_count": null,
      "metadata": {
        "id": "Gvd99wd_pwmt"
      },
      "outputs": [],
      "source": [
        "def getListaTokensPOSSentenca(sentenca):\n",
        "\n",
        "  '''\n",
        "  Retorna três listas, a primeira com os tokens da sentença,\n",
        "  a segunda com as classes moforssintáticas dos tokens e a\n",
        "  última com o lemma das palavras da sentença.\n",
        "\n",
        "  Parâmetros:\n",
        "    `sentenca` - Sentença processada pelo spaCy.\n",
        "  '''\n",
        "\n",
        "  # Verifica se o sentenca não foi processado pelo spaCy\n",
        "  if type(sentenca) is not spacy.tokens.doc.Doc:\n",
        "      # Realiza o parsing no spacy\n",
        "      doc = nlp(sentenca)\n",
        "  else:\n",
        "      doc = sentenca\n",
        "\n",
        "  # Lista dos tokens\n",
        "  lista_tokens = []\n",
        "  lista_pos = []\n",
        "  lista_lemma = []\n",
        "\n",
        "  # Percorre a sentença adicionando os tokens e as POS\n",
        "  for token in doc:\n",
        "    lista_tokens.append(token.text)\n",
        "    lista_pos.append(token.pos_)\n",
        "    lista_lemma.append(token.lemma_)\n",
        "\n",
        "  return lista_tokens, lista_pos, lista_lemma"
      ]
    },
    {
      "cell_type": "markdown",
      "metadata": {
        "id": "AIxZH4Ad5BHX"
      },
      "source": [
        "# 4 Gerar POS-Tagging"
      ]
    },
    {
      "cell_type": "markdown",
      "source": [
        "## 4.1 Carrega o dataset"
      ],
      "metadata": {
        "id": "y14pgQBwylf9"
      }
    },
    {
      "cell_type": "markdown",
      "metadata": {
        "id": "_wTNIiyE1mIl"
      },
      "source": [
        "### 4.1.1 Especifica os nomes dos arquivos de dados\n",
        "\n"
      ]
    },
    {
      "cell_type": "code",
      "execution_count": null,
      "metadata": {
        "id": "_rp3C_XK1mIl"
      },
      "outputs": [],
      "source": [
        "# Nome do arquivo\n",
        "NOME_ARQUIVO_DATASET = \"dataset.csv\"\n",
        "NOME_ARQUIVO_DATASET_COMPACTADO = \"dataset.zip\""
      ]
    },
    {
      "cell_type": "markdown",
      "metadata": {
        "id": "HvkGO02lmaY-"
      },
      "source": [
        "### 4.1.2 Cria o diretório local para receber os dados"
      ]
    },
    {
      "cell_type": "code",
      "execution_count": null,
      "metadata": {
        "id": "gFYIHcIHE985",
        "colab": {
          "base_uri": "https://localhost:8080/"
        },
        "outputId": "6fca22d8-ecac-49a3-9267-8a679abb7855"
      },
      "outputs": [
        {
          "output_type": "stream",
          "name": "stderr",
          "text": [
            "INFO:root:Diretório criado: /content/SRI.\n"
          ]
        }
      ],
      "source": [
        "# Biblioteca para acessar o sistema de arquivos\n",
        "import os\n",
        "\n",
        "#Cria o diretório para receber os arquivos Originais e Permutados\n",
        "# Diretório a ser criado\n",
        "dirbase = DIRETORIO_LOCAL[:-1]\n",
        "\n",
        "if not os.path.exists(dirbase):\n",
        "    # Cria o diretório\n",
        "    os.makedirs(dirbase)\n",
        "    logging.info(\"Diretório criado: {}.\".format(dirbase))\n",
        "else:\n",
        "    logging.info(\"Diretório já existe: {}.\".format(dirbase))"
      ]
    },
    {
      "cell_type": "markdown",
      "metadata": {
        "id": "rGnyGoyu1mIl"
      },
      "source": [
        "### 4.1.3 Copia e descompacta os arquivos do dataset do Google Drive para o Colaboratory"
      ]
    },
    {
      "cell_type": "markdown",
      "metadata": {
        "id": "uuiMbbAfmqcb"
      },
      "source": [
        "Copia os arquivos do google drive"
      ]
    },
    {
      "cell_type": "code",
      "execution_count": null,
      "metadata": {
        "id": "gCl5TpK91mIl",
        "colab": {
          "base_uri": "https://localhost:8080/"
        },
        "outputId": "6f518503-f337-4c0f-9911-7735dd2a1df9"
      },
      "outputs": [
        {
          "output_type": "stream",
          "name": "stderr",
          "text": [
            "INFO:root:Terminei a cópia.\n"
          ]
        }
      ],
      "source": [
        "# Se estiver executando no Google Colaboratory\n",
        "if IN_COLAB:\n",
        "\n",
        "  !cp \"$DIRETORIO_DRIVE$NOME_ARQUIVO_DATASET_COMPACTADO\" \"$DIRETORIO_LOCAL$NOME_ARQUIVO_DATASET_COMPACTADO\"\n",
        "\n",
        "  logging.info(\"Terminei a cópia.\")"
      ]
    },
    {
      "cell_type": "markdown",
      "metadata": {
        "id": "rFCvZ6CUmt-9"
      },
      "source": [
        "Descompacta os arquivos.\n",
        "\n",
        "Usa o unzip para descompactar:\n",
        "*   `-o` sobrescreve o arquivo se existir\n",
        "*   `-j` Não cria nenhum diretório\n",
        "*   `-q` Desliga as mensagens\n",
        "*   `-d` Diretório de destino\n",
        "\n"
      ]
    },
    {
      "cell_type": "code",
      "execution_count": null,
      "metadata": {
        "id": "dbHl3d88mouc",
        "colab": {
          "base_uri": "https://localhost:8080/"
        },
        "outputId": "bd43d7fc-3594-4692-c78b-e7bf219af151"
      },
      "outputs": [
        {
          "output_type": "stream",
          "name": "stderr",
          "text": [
            "INFO:root:Terminei a descompactação.\n"
          ]
        }
      ],
      "source": [
        "# Se estiver executando no Google Colaboratory\n",
        "if IN_COLAB:\n",
        "  !unzip -o -j -q \"$DIRETORIO_LOCAL$NOME_ARQUIVO_DATASET_COMPACTADO\" -d \"$DIRETORIO_LOCAL\"\n",
        "\n",
        "  logging.info(\"Terminei a descompactação.\")"
      ]
    },
    {
      "cell_type": "markdown",
      "metadata": {
        "id": "WkWm5KWc1mIm"
      },
      "source": [
        "### 4.1.4 Carregamento dos dados do dataset"
      ]
    },
    {
      "cell_type": "code",
      "execution_count": null,
      "metadata": {
        "id": "QRHlixdHEDTb",
        "colab": {
          "base_uri": "https://localhost:8080/"
        },
        "outputId": "d10ae499-1251-49e3-bf21-75a093ef5ddd"
      },
      "outputs": [
        {
          "output_type": "stream",
          "name": "stderr",
          "text": [
            "INFO:root:TERMINADO ORIGINAIS: 20.\n"
          ]
        }
      ],
      "source": [
        "# Import das bibliotecas.\n",
        "import pandas as pd\n",
        "\n",
        "# Abre o arquivo e retorna o DataFrame\n",
        "df_dataset = pd.read_csv(DIRETORIO_LOCAL + NOME_ARQUIVO_DATASET, sep=\";\", encoding=\"UTF-8\")\n",
        "\n",
        "logging.info(\"TERMINADO ORIGINAIS: {}.\".format(len(df_dataset)))"
      ]
    },
    {
      "cell_type": "code",
      "execution_count": null,
      "metadata": {
        "id": "jJ5STBZPLlie",
        "colab": {
          "base_uri": "https://localhost:8080/"
        },
        "outputId": "ac478ca6-0afe-44ca-d25e-f58a5ae4c3fc"
      },
      "outputs": [
        {
          "output_type": "execute_result",
          "data": {
            "text/plain": [
              "   id                                          sentencas  \\\n",
              "6   7  ['A aviação israelense atacou 150 alvos na mad...   \n",
              "8   9  ['Um total de 549 pessoas morreram, 3.043 fica...   \n",
              "3   4  ['Usando telescópios do Observatório Europeu S...   \n",
              "9  10  [\"Quinze voluntários da ONG francesa 'Ação Con...   \n",
              "4   5  ['A seleção brasileira masculina de vôlei, que...   \n",
              "\n",
              "                                           documento  \n",
              "6  A aviação israelense atacou 150 alvos na madru...  \n",
              "8  Um total de 549 pessoas morreram, 3.043 ficara...  \n",
              "3  Usando telescópios do Observatório Europeu Sul...  \n",
              "9  Quinze voluntários da ONG francesa 'Ação Contr...  \n",
              "4  A seleção brasileira masculina de vôlei, que é...  "
            ],
            "text/html": [
              "\n",
              "  <div id=\"df-1b3c9bcf-1642-4c0d-8e2f-c0fa7fb0f905\" class=\"colab-df-container\">\n",
              "    <div>\n",
              "<style scoped>\n",
              "    .dataframe tbody tr th:only-of-type {\n",
              "        vertical-align: middle;\n",
              "    }\n",
              "\n",
              "    .dataframe tbody tr th {\n",
              "        vertical-align: top;\n",
              "    }\n",
              "\n",
              "    .dataframe thead th {\n",
              "        text-align: right;\n",
              "    }\n",
              "</style>\n",
              "<table border=\"1\" class=\"dataframe\">\n",
              "  <thead>\n",
              "    <tr style=\"text-align: right;\">\n",
              "      <th></th>\n",
              "      <th>id</th>\n",
              "      <th>sentencas</th>\n",
              "      <th>documento</th>\n",
              "    </tr>\n",
              "  </thead>\n",
              "  <tbody>\n",
              "    <tr>\n",
              "      <th>6</th>\n",
              "      <td>7</td>\n",
              "      <td>['A aviação israelense atacou 150 alvos na mad...</td>\n",
              "      <td>A aviação israelense atacou 150 alvos na madru...</td>\n",
              "    </tr>\n",
              "    <tr>\n",
              "      <th>8</th>\n",
              "      <td>9</td>\n",
              "      <td>['Um total de 549 pessoas morreram, 3.043 fica...</td>\n",
              "      <td>Um total de 549 pessoas morreram, 3.043 ficara...</td>\n",
              "    </tr>\n",
              "    <tr>\n",
              "      <th>3</th>\n",
              "      <td>4</td>\n",
              "      <td>['Usando telescópios do Observatório Europeu S...</td>\n",
              "      <td>Usando telescópios do Observatório Europeu Sul...</td>\n",
              "    </tr>\n",
              "    <tr>\n",
              "      <th>9</th>\n",
              "      <td>10</td>\n",
              "      <td>[\"Quinze voluntários da ONG francesa 'Ação Con...</td>\n",
              "      <td>Quinze voluntários da ONG francesa 'Ação Contr...</td>\n",
              "    </tr>\n",
              "    <tr>\n",
              "      <th>4</th>\n",
              "      <td>5</td>\n",
              "      <td>['A seleção brasileira masculina de vôlei, que...</td>\n",
              "      <td>A seleção brasileira masculina de vôlei, que é...</td>\n",
              "    </tr>\n",
              "  </tbody>\n",
              "</table>\n",
              "</div>\n",
              "    <div class=\"colab-df-buttons\">\n",
              "\n",
              "  <div class=\"colab-df-container\">\n",
              "    <button class=\"colab-df-convert\" onclick=\"convertToInteractive('df-1b3c9bcf-1642-4c0d-8e2f-c0fa7fb0f905')\"\n",
              "            title=\"Convert this dataframe to an interactive table.\"\n",
              "            style=\"display:none;\">\n",
              "\n",
              "  <svg xmlns=\"http://www.w3.org/2000/svg\" height=\"24px\" viewBox=\"0 -960 960 960\">\n",
              "    <path d=\"M120-120v-720h720v720H120Zm60-500h600v-160H180v160Zm220 220h160v-160H400v160Zm0 220h160v-160H400v160ZM180-400h160v-160H180v160Zm440 0h160v-160H620v160ZM180-180h160v-160H180v160Zm440 0h160v-160H620v160Z\"/>\n",
              "  </svg>\n",
              "    </button>\n",
              "\n",
              "  <style>\n",
              "    .colab-df-container {\n",
              "      display:flex;\n",
              "      gap: 12px;\n",
              "    }\n",
              "\n",
              "    .colab-df-convert {\n",
              "      background-color: #E8F0FE;\n",
              "      border: none;\n",
              "      border-radius: 50%;\n",
              "      cursor: pointer;\n",
              "      display: none;\n",
              "      fill: #1967D2;\n",
              "      height: 32px;\n",
              "      padding: 0 0 0 0;\n",
              "      width: 32px;\n",
              "    }\n",
              "\n",
              "    .colab-df-convert:hover {\n",
              "      background-color: #E2EBFA;\n",
              "      box-shadow: 0px 1px 2px rgba(60, 64, 67, 0.3), 0px 1px 3px 1px rgba(60, 64, 67, 0.15);\n",
              "      fill: #174EA6;\n",
              "    }\n",
              "\n",
              "    .colab-df-buttons div {\n",
              "      margin-bottom: 4px;\n",
              "    }\n",
              "\n",
              "    [theme=dark] .colab-df-convert {\n",
              "      background-color: #3B4455;\n",
              "      fill: #D2E3FC;\n",
              "    }\n",
              "\n",
              "    [theme=dark] .colab-df-convert:hover {\n",
              "      background-color: #434B5C;\n",
              "      box-shadow: 0px 1px 3px 1px rgba(0, 0, 0, 0.15);\n",
              "      filter: drop-shadow(0px 1px 2px rgba(0, 0, 0, 0.3));\n",
              "      fill: #FFFFFF;\n",
              "    }\n",
              "  </style>\n",
              "\n",
              "    <script>\n",
              "      const buttonEl =\n",
              "        document.querySelector('#df-1b3c9bcf-1642-4c0d-8e2f-c0fa7fb0f905 button.colab-df-convert');\n",
              "      buttonEl.style.display =\n",
              "        google.colab.kernel.accessAllowed ? 'block' : 'none';\n",
              "\n",
              "      async function convertToInteractive(key) {\n",
              "        const element = document.querySelector('#df-1b3c9bcf-1642-4c0d-8e2f-c0fa7fb0f905');\n",
              "        const dataTable =\n",
              "          await google.colab.kernel.invokeFunction('convertToInteractive',\n",
              "                                                    [key], {});\n",
              "        if (!dataTable) return;\n",
              "\n",
              "        const docLinkHtml = 'Like what you see? Visit the ' +\n",
              "          '<a target=\"_blank\" href=https://colab.research.google.com/notebooks/data_table.ipynb>data table notebook</a>'\n",
              "          + ' to learn more about interactive tables.';\n",
              "        element.innerHTML = '';\n",
              "        dataTable['output_type'] = 'display_data';\n",
              "        await google.colab.output.renderOutput(dataTable, element);\n",
              "        const docLink = document.createElement('div');\n",
              "        docLink.innerHTML = docLinkHtml;\n",
              "        element.appendChild(docLink);\n",
              "      }\n",
              "    </script>\n",
              "  </div>\n",
              "\n",
              "\n",
              "<div id=\"df-925cce98-8e9a-476a-bb3c-282b5524a672\">\n",
              "  <button class=\"colab-df-quickchart\" onclick=\"quickchart('df-925cce98-8e9a-476a-bb3c-282b5524a672')\"\n",
              "            title=\"Suggest charts.\"\n",
              "            style=\"display:none;\">\n",
              "\n",
              "<svg xmlns=\"http://www.w3.org/2000/svg\" height=\"24px\"viewBox=\"0 0 24 24\"\n",
              "     width=\"24px\">\n",
              "    <g>\n",
              "        <path d=\"M19 3H5c-1.1 0-2 .9-2 2v14c0 1.1.9 2 2 2h14c1.1 0 2-.9 2-2V5c0-1.1-.9-2-2-2zM9 17H7v-7h2v7zm4 0h-2V7h2v10zm4 0h-2v-4h2v4z\"/>\n",
              "    </g>\n",
              "</svg>\n",
              "  </button>\n",
              "\n",
              "<style>\n",
              "  .colab-df-quickchart {\n",
              "      --bg-color: #E8F0FE;\n",
              "      --fill-color: #1967D2;\n",
              "      --hover-bg-color: #E2EBFA;\n",
              "      --hover-fill-color: #174EA6;\n",
              "      --disabled-fill-color: #AAA;\n",
              "      --disabled-bg-color: #DDD;\n",
              "  }\n",
              "\n",
              "  [theme=dark] .colab-df-quickchart {\n",
              "      --bg-color: #3B4455;\n",
              "      --fill-color: #D2E3FC;\n",
              "      --hover-bg-color: #434B5C;\n",
              "      --hover-fill-color: #FFFFFF;\n",
              "      --disabled-bg-color: #3B4455;\n",
              "      --disabled-fill-color: #666;\n",
              "  }\n",
              "\n",
              "  .colab-df-quickchart {\n",
              "    background-color: var(--bg-color);\n",
              "    border: none;\n",
              "    border-radius: 50%;\n",
              "    cursor: pointer;\n",
              "    display: none;\n",
              "    fill: var(--fill-color);\n",
              "    height: 32px;\n",
              "    padding: 0;\n",
              "    width: 32px;\n",
              "  }\n",
              "\n",
              "  .colab-df-quickchart:hover {\n",
              "    background-color: var(--hover-bg-color);\n",
              "    box-shadow: 0 1px 2px rgba(60, 64, 67, 0.3), 0 1px 3px 1px rgba(60, 64, 67, 0.15);\n",
              "    fill: var(--button-hover-fill-color);\n",
              "  }\n",
              "\n",
              "  .colab-df-quickchart-complete:disabled,\n",
              "  .colab-df-quickchart-complete:disabled:hover {\n",
              "    background-color: var(--disabled-bg-color);\n",
              "    fill: var(--disabled-fill-color);\n",
              "    box-shadow: none;\n",
              "  }\n",
              "\n",
              "  .colab-df-spinner {\n",
              "    border: 2px solid var(--fill-color);\n",
              "    border-color: transparent;\n",
              "    border-bottom-color: var(--fill-color);\n",
              "    animation:\n",
              "      spin 1s steps(1) infinite;\n",
              "  }\n",
              "\n",
              "  @keyframes spin {\n",
              "    0% {\n",
              "      border-color: transparent;\n",
              "      border-bottom-color: var(--fill-color);\n",
              "      border-left-color: var(--fill-color);\n",
              "    }\n",
              "    20% {\n",
              "      border-color: transparent;\n",
              "      border-left-color: var(--fill-color);\n",
              "      border-top-color: var(--fill-color);\n",
              "    }\n",
              "    30% {\n",
              "      border-color: transparent;\n",
              "      border-left-color: var(--fill-color);\n",
              "      border-top-color: var(--fill-color);\n",
              "      border-right-color: var(--fill-color);\n",
              "    }\n",
              "    40% {\n",
              "      border-color: transparent;\n",
              "      border-right-color: var(--fill-color);\n",
              "      border-top-color: var(--fill-color);\n",
              "    }\n",
              "    60% {\n",
              "      border-color: transparent;\n",
              "      border-right-color: var(--fill-color);\n",
              "    }\n",
              "    80% {\n",
              "      border-color: transparent;\n",
              "      border-right-color: var(--fill-color);\n",
              "      border-bottom-color: var(--fill-color);\n",
              "    }\n",
              "    90% {\n",
              "      border-color: transparent;\n",
              "      border-bottom-color: var(--fill-color);\n",
              "    }\n",
              "  }\n",
              "</style>\n",
              "\n",
              "  <script>\n",
              "    async function quickchart(key) {\n",
              "      const quickchartButtonEl =\n",
              "        document.querySelector('#' + key + ' button');\n",
              "      quickchartButtonEl.disabled = true;  // To prevent multiple clicks.\n",
              "      quickchartButtonEl.classList.add('colab-df-spinner');\n",
              "      try {\n",
              "        const charts = await google.colab.kernel.invokeFunction(\n",
              "            'suggestCharts', [key], {});\n",
              "      } catch (error) {\n",
              "        console.error('Error during call to suggestCharts:', error);\n",
              "      }\n",
              "      quickchartButtonEl.classList.remove('colab-df-spinner');\n",
              "      quickchartButtonEl.classList.add('colab-df-quickchart-complete');\n",
              "    }\n",
              "    (() => {\n",
              "      let quickchartButtonEl =\n",
              "        document.querySelector('#df-925cce98-8e9a-476a-bb3c-282b5524a672 button');\n",
              "      quickchartButtonEl.style.display =\n",
              "        google.colab.kernel.accessAllowed ? 'block' : 'none';\n",
              "    })();\n",
              "  </script>\n",
              "</div>\n",
              "    </div>\n",
              "  </div>\n"
            ]
          },
          "metadata": {},
          "execution_count": 29
        }
      ],
      "source": [
        "df_dataset.sample(5)"
      ]
    },
    {
      "cell_type": "markdown",
      "source": [
        "### 4.1.5 Corrigir os tipos de dados do dataset\n",
        "\n",
        "No dataset:\n",
        "- coluna 1 - `sentenças` carregadas do arquivo vem como string e não como lista."
      ],
      "metadata": {
        "id": "-hfUpvKqXoqe"
      }
    },
    {
      "cell_type": "code",
      "source": [
        "# Import das bibliotecas.\n",
        "import ast # Biblioteca para conversão de string em lista\n",
        "\n",
        "# Verifica se o tipo da coluna não é list e converte\n",
        "df_dataset[\"sentencas\"] = df_dataset[\"sentencas\"].apply(lambda x: ast.literal_eval(x) if type(x)!=list else x)\n",
        "\n",
        "logging.info(\"TERMINADO CORREÇÃO ORIGINAIS: {}.\".format(len(df_dataset)))"
      ],
      "metadata": {
        "id": "lj9sJVavMccj",
        "colab": {
          "base_uri": "https://localhost:8080/"
        },
        "outputId": "a3ffdc37-275a-4b22-a86a-d14a031f8589"
      },
      "execution_count": null,
      "outputs": [
        {
          "output_type": "stream",
          "name": "stderr",
          "text": [
            "INFO:root:TERMINADO CORREÇÃO ORIGINAIS: 20.\n"
          ]
        }
      ]
    },
    {
      "cell_type": "markdown",
      "metadata": {
        "id": "J_5Whmohhchm"
      },
      "source": [
        "## 4.2 Gerar PoS-Tagging"
      ]
    },
    {
      "cell_type": "markdown",
      "metadata": {
        "id": "Oc84dPdAaaHe"
      },
      "source": [
        "### 4.2.1 Gerar PoS-Tagging\n",
        "\n"
      ]
    },
    {
      "cell_type": "code",
      "execution_count": null,
      "metadata": {
        "id": "A6h2ajYYafbc",
        "colab": {
          "base_uri": "https://localhost:8080/",
          "height": 66,
          "referenced_widgets": [
            "a774995ade6e48aba56fe48766e83b8b",
            "56caea1953ed479482b85552ba4988b4",
            "ca0b45f1ef2d4834aa49d8fce949ccea",
            "9cdbe6a725334bd581c0b4bad6e37c03",
            "a1dbc0a4b16446ddae8ee194fd133dc6",
            "3766f4b5c29e4f669d1b4665bf30e87d",
            "703c1a8d04e5424799daed0b5c61a6f9",
            "be0697207c304963aa4380bdc1ddfe96",
            "5da0834c8d074915bcb7441478c28acb",
            "ce4f10bf0ccd4912969fa2664856940f",
            "cdd788b5da4d4dae8e4e239ec0eab581"
          ]
        },
        "outputId": "7614c6e3-93b5-4cc1-e4ec-c08ad171b991"
      },
      "outputs": [
        {
          "output_type": "stream",
          "name": "stderr",
          "text": [
            "INFO:root:Processando 20 documentos.\n"
          ]
        },
        {
          "output_type": "display_data",
          "data": {
            "text/plain": [
              "Dados:   0%|          | 0/20 [00:00<?, ?registro/s]"
            ],
            "application/vnd.jupyter.widget-view+json": {
              "version_major": 2,
              "version_minor": 0,
              "model_id": "a774995ade6e48aba56fe48766e83b8b"
            }
          },
          "metadata": {}
        }
      ],
      "source": [
        "# Import das bibliotecas.\n",
        "import re\n",
        "# Biblioteca para acessar o sistema de arquivos\n",
        "import os\n",
        "# Biblioteca para barra de progresso\n",
        "from tqdm.notebook import tqdm as tqdm_notebook\n",
        "\n",
        "logging.info(\"Processando {} documentos.\".format(len(df_dataset)))\n",
        "\n",
        "# Barra de progresso dos dados\n",
        "dados_bar = tqdm_notebook(df_dataset.iterrows(), desc=f\"Dados\", unit=f\"registro\", total=len(df_dataset))\n",
        "\n",
        "# Lista para armazenar as postagging do documento\n",
        "lista_dataset_pos = []\n",
        "\n",
        "# Percorre as linhas dos documentos\n",
        "for i, linha_documento in dados_bar:\n",
        "\n",
        "    # Carrega a lista das sentenças do documento de acordo com o tipo armazenado\n",
        "    lista_sentenca_documento = linha_documento[1]\n",
        "\n",
        "    # Lista para armazenar as postagging das sentenças do documento\n",
        "    lista_sentenca_documentos_pos = []\n",
        "\n",
        "    # Percorre as sentenças do documento\n",
        "    for j, sentenca in enumerate(lista_sentenca_documento):\n",
        "      #print(sentenca)\n",
        "\n",
        "      # Processa sentença no spaCy para extrair tokens, postagging e lemma\n",
        "      doc = nlp(sentenca)\n",
        "\n",
        "      # Retorna os tokens e as postagging da sentença\n",
        "      lista_tokens, lista_pos, lista_lemma = getListaTokensPOSSentenca(doc)\n",
        "\n",
        "      # Retorna uma lista com os verbos da sentença\n",
        "      lista_verbos = getVerbos(doc)\n",
        "\n",
        "      # Concatena o pos do documento\n",
        "      lista_sentenca_documentos_pos.append([lista_tokens, lista_pos, lista_verbos, lista_lemma])\n",
        "\n",
        "    # Adiciona o documento a lista\n",
        "    lista_dataset_pos.append([linha_documento[0], lista_sentenca_documentos_pos])"
      ]
    },
    {
      "cell_type": "markdown",
      "source": [
        "## 4.3 Salva as PoS-Tagging geradas\n",
        "\n",
        "Gera o arquivo com as PoS-Tagging e depois compacta o arquivo para enviar para o Google Drive.\n"
      ],
      "metadata": {
        "id": "ifRE7ABezM_Z"
      }
    },
    {
      "cell_type": "markdown",
      "metadata": {
        "id": "FgUGrLmKCO84"
      },
      "source": [
        "### 4.3.1 Especifica os nomes dos arquivos de PoS do dataset\n"
      ]
    },
    {
      "cell_type": "code",
      "execution_count": null,
      "metadata": {
        "id": "8X2kEzrPCO9D"
      },
      "outputs": [],
      "source": [
        "# Nome do arquivo\n",
        "NOME_ARQUIVO_DATASET_POS = \"datasetpos.csv\"\n",
        "NOME_ARQUIVO_DATASET_POS_COMPACTADO = \"datasetpos.zip\""
      ]
    },
    {
      "cell_type": "markdown",
      "metadata": {
        "id": "P4r6uXPeCs02"
      },
      "source": [
        "### 4.3.2 Gera arquivo PoS"
      ]
    },
    {
      "cell_type": "code",
      "execution_count": null,
      "metadata": {
        "id": "HhdHqZCICu5P"
      },
      "outputs": [],
      "source": [
        "# Import das bibliotecas.\n",
        "import pandas as pd\n",
        "\n",
        "# Cria o dataframe da lista\n",
        "df_dataset_pos = pd.DataFrame(lista_dataset_pos, columns = [\"id\",\"pos_documento\"])\n",
        "\n",
        "# Salva o arquivo das postagging\n",
        "df_dataset_pos.to_csv(DIRETORIO_LOCAL + NOME_ARQUIVO_DATASET_POS,  sep=\";\", index=False)"
      ]
    },
    {
      "cell_type": "markdown",
      "metadata": {
        "id": "SVPHQPvPSVK-"
      },
      "source": [
        "### 4.3.3 Compacta e copia a PoS do dataset para uma pasta do GoogleDrive"
      ]
    },
    {
      "cell_type": "markdown",
      "metadata": {
        "id": "37e0qS7Dkwou"
      },
      "source": [
        "Compacta o arquivo gerado da comparação para facilitar o envio para o GoogleDrive"
      ]
    },
    {
      "cell_type": "code",
      "execution_count": null,
      "metadata": {
        "id": "4f2VhAHXkwow",
        "colab": {
          "base_uri": "https://localhost:8080/"
        },
        "outputId": "6c0e1bf0-5dd9-4fc0-db70-7c46fac5a17b"
      },
      "outputs": [
        {
          "output_type": "stream",
          "name": "stderr",
          "text": [
            "INFO:root:Terminei a compactação.\n"
          ]
        }
      ],
      "source": [
        "# Se estiver executando no Google Colaboratory\n",
        "if IN_COLAB:\n",
        "\n",
        "  !zip -o -q -j \"$DIRETORIO_LOCAL$NOME_ARQUIVO_DATASET_POS_COMPACTADO\" \"$DIRETORIO_LOCAL$NOME_ARQUIVO_DATASET_POS\"\n",
        "\n",
        "  logging.info(\"Terminei a compactação.\")"
      ]
    },
    {
      "cell_type": "markdown",
      "metadata": {
        "id": "g8j3HeRs6jwT"
      },
      "source": [
        "Copia o arquivo para o GoogleDrive"
      ]
    },
    {
      "cell_type": "code",
      "execution_count": null,
      "metadata": {
        "id": "G4aos3qISVK_",
        "colab": {
          "base_uri": "https://localhost:8080/"
        },
        "outputId": "cbf06b33-d667-4160-af9b-f88e81ef74b9"
      },
      "outputs": [
        {
          "output_type": "stream",
          "name": "stderr",
          "text": [
            "INFO:root:Terminei a cópia do arquivo.\n"
          ]
        }
      ],
      "source": [
        "# Se estiver executando no Google Colaboratory\n",
        "if IN_COLAB:\n",
        "\n",
        "    # Copia o arquivo das postagging\n",
        "    !cp \"$DIRETORIO_LOCAL$NOME_ARQUIVO_DATASET_POS_COMPACTADO\" \"$DIRETORIO_DRIVE\"\n",
        "\n",
        "    logging.info(\"Terminei a cópia do arquivo.\")"
      ]
    },
    {
      "cell_type": "markdown",
      "metadata": {
        "id": "ZmcNOHfFOi5l"
      },
      "source": [
        "### 4.3.4 Carrega os dados\n",
        "\n",
        "Realiza um teste carregando o arquivo da POS do dataset criado.\n"
      ]
    },
    {
      "cell_type": "code",
      "execution_count": null,
      "metadata": {
        "id": "S_qIhK5YXmEZ",
        "colab": {
          "base_uri": "https://localhost:8080/"
        },
        "outputId": "8327a5c1-f18e-40a6-874c-5b61705c9db3"
      },
      "outputs": [
        {
          "output_type": "stream",
          "name": "stdout",
          "text": [
            "20\n"
          ]
        }
      ],
      "source": [
        "# Import das bibliotecas.\n",
        "import pandas as pd\n",
        "\n",
        "# Abre o arquivo e retorna o DataFrame\n",
        "df_dataset_pos = pd.read_csv(DIRETORIO_LOCAL + NOME_ARQUIVO_DATASET_POS, sep=\";\", encoding=\"UTF-8\")\n",
        "\n",
        "print(len(df_dataset_pos))"
      ]
    },
    {
      "cell_type": "markdown",
      "source": [
        "Corrigir o tipo de dados da lista das PoS-Tagging\n",
        "\n",
        "Na lista  pos:\n",
        "- coluna 1 - `pos_documento` carregadas do arquivo vem como string e não como lista."
      ],
      "metadata": {
        "id": "u7JYj6ZZkIiR"
      }
    },
    {
      "cell_type": "code",
      "source": [
        "# Import das bibliotecas.\n",
        "import ast # Biblioteca para conversão de string em lista\n",
        "\n",
        "# Verifica se o tipo da coluna não é list e converte\n",
        "df_dataset_pos[\"pos_documento\"] = df_dataset_pos[\"pos_documento\"].apply(lambda x: ast.literal_eval(x) if type(x)!=list else x)\n",
        "\n",
        "logging.info(\"TERMINADO CORREÇÃO DOCUMENTOS POS: {}.\".format(len(df_dataset_pos)))"
      ],
      "metadata": {
        "id": "aniEg4BVkIiX",
        "colab": {
          "base_uri": "https://localhost:8080/"
        },
        "outputId": "388bf7e6-2a5a-4f36-88a4-714ae3177932"
      },
      "execution_count": null,
      "outputs": [
        {
          "output_type": "stream",
          "name": "stderr",
          "text": [
            "INFO:root:TERMINADO CORREÇÃO DOCUMENTOS POS: 20.\n"
          ]
        }
      ]
    },
    {
      "cell_type": "code",
      "execution_count": null,
      "metadata": {
        "id": "inI1yb-nX21I",
        "colab": {
          "base_uri": "https://localhost:8080/"
        },
        "outputId": "58b6f81f-3597-464a-e502-e39c7e6f3993"
      },
      "outputs": [
        {
          "output_type": "execute_result",
          "data": {
            "text/plain": [
              "    id                                      pos_documento\n",
              "5    6  [[[O, superintendente, regional, da, Polícia, ...\n",
              "16  17  [[[O, time, de, Bernardinho, derrotou, a, Rúss...\n",
              "11  12  [[[Um, atirador, matou, ao, menos, 30, pessoas...\n",
              "7    8  [[[A, cidade, de, São, Paulo, e, alguns, munic...\n",
              "19  20  [[[Dois, terremotos, atingiram, a, região, de,..."
            ],
            "text/html": [
              "\n",
              "  <div id=\"df-962ac4a1-ed43-4e32-96c4-ff83e6b18614\" class=\"colab-df-container\">\n",
              "    <div>\n",
              "<style scoped>\n",
              "    .dataframe tbody tr th:only-of-type {\n",
              "        vertical-align: middle;\n",
              "    }\n",
              "\n",
              "    .dataframe tbody tr th {\n",
              "        vertical-align: top;\n",
              "    }\n",
              "\n",
              "    .dataframe thead th {\n",
              "        text-align: right;\n",
              "    }\n",
              "</style>\n",
              "<table border=\"1\" class=\"dataframe\">\n",
              "  <thead>\n",
              "    <tr style=\"text-align: right;\">\n",
              "      <th></th>\n",
              "      <th>id</th>\n",
              "      <th>pos_documento</th>\n",
              "    </tr>\n",
              "  </thead>\n",
              "  <tbody>\n",
              "    <tr>\n",
              "      <th>5</th>\n",
              "      <td>6</td>\n",
              "      <td>[[[O, superintendente, regional, da, Polícia, ...</td>\n",
              "    </tr>\n",
              "    <tr>\n",
              "      <th>16</th>\n",
              "      <td>17</td>\n",
              "      <td>[[[O, time, de, Bernardinho, derrotou, a, Rúss...</td>\n",
              "    </tr>\n",
              "    <tr>\n",
              "      <th>11</th>\n",
              "      <td>12</td>\n",
              "      <td>[[[Um, atirador, matou, ao, menos, 30, pessoas...</td>\n",
              "    </tr>\n",
              "    <tr>\n",
              "      <th>7</th>\n",
              "      <td>8</td>\n",
              "      <td>[[[A, cidade, de, São, Paulo, e, alguns, munic...</td>\n",
              "    </tr>\n",
              "    <tr>\n",
              "      <th>19</th>\n",
              "      <td>20</td>\n",
              "      <td>[[[Dois, terremotos, atingiram, a, região, de,...</td>\n",
              "    </tr>\n",
              "  </tbody>\n",
              "</table>\n",
              "</div>\n",
              "    <div class=\"colab-df-buttons\">\n",
              "\n",
              "  <div class=\"colab-df-container\">\n",
              "    <button class=\"colab-df-convert\" onclick=\"convertToInteractive('df-962ac4a1-ed43-4e32-96c4-ff83e6b18614')\"\n",
              "            title=\"Convert this dataframe to an interactive table.\"\n",
              "            style=\"display:none;\">\n",
              "\n",
              "  <svg xmlns=\"http://www.w3.org/2000/svg\" height=\"24px\" viewBox=\"0 -960 960 960\">\n",
              "    <path d=\"M120-120v-720h720v720H120Zm60-500h600v-160H180v160Zm220 220h160v-160H400v160Zm0 220h160v-160H400v160ZM180-400h160v-160H180v160Zm440 0h160v-160H620v160ZM180-180h160v-160H180v160Zm440 0h160v-160H620v160Z\"/>\n",
              "  </svg>\n",
              "    </button>\n",
              "\n",
              "  <style>\n",
              "    .colab-df-container {\n",
              "      display:flex;\n",
              "      gap: 12px;\n",
              "    }\n",
              "\n",
              "    .colab-df-convert {\n",
              "      background-color: #E8F0FE;\n",
              "      border: none;\n",
              "      border-radius: 50%;\n",
              "      cursor: pointer;\n",
              "      display: none;\n",
              "      fill: #1967D2;\n",
              "      height: 32px;\n",
              "      padding: 0 0 0 0;\n",
              "      width: 32px;\n",
              "    }\n",
              "\n",
              "    .colab-df-convert:hover {\n",
              "      background-color: #E2EBFA;\n",
              "      box-shadow: 0px 1px 2px rgba(60, 64, 67, 0.3), 0px 1px 3px 1px rgba(60, 64, 67, 0.15);\n",
              "      fill: #174EA6;\n",
              "    }\n",
              "\n",
              "    .colab-df-buttons div {\n",
              "      margin-bottom: 4px;\n",
              "    }\n",
              "\n",
              "    [theme=dark] .colab-df-convert {\n",
              "      background-color: #3B4455;\n",
              "      fill: #D2E3FC;\n",
              "    }\n",
              "\n",
              "    [theme=dark] .colab-df-convert:hover {\n",
              "      background-color: #434B5C;\n",
              "      box-shadow: 0px 1px 3px 1px rgba(0, 0, 0, 0.15);\n",
              "      filter: drop-shadow(0px 1px 2px rgba(0, 0, 0, 0.3));\n",
              "      fill: #FFFFFF;\n",
              "    }\n",
              "  </style>\n",
              "\n",
              "    <script>\n",
              "      const buttonEl =\n",
              "        document.querySelector('#df-962ac4a1-ed43-4e32-96c4-ff83e6b18614 button.colab-df-convert');\n",
              "      buttonEl.style.display =\n",
              "        google.colab.kernel.accessAllowed ? 'block' : 'none';\n",
              "\n",
              "      async function convertToInteractive(key) {\n",
              "        const element = document.querySelector('#df-962ac4a1-ed43-4e32-96c4-ff83e6b18614');\n",
              "        const dataTable =\n",
              "          await google.colab.kernel.invokeFunction('convertToInteractive',\n",
              "                                                    [key], {});\n",
              "        if (!dataTable) return;\n",
              "\n",
              "        const docLinkHtml = 'Like what you see? Visit the ' +\n",
              "          '<a target=\"_blank\" href=https://colab.research.google.com/notebooks/data_table.ipynb>data table notebook</a>'\n",
              "          + ' to learn more about interactive tables.';\n",
              "        element.innerHTML = '';\n",
              "        dataTable['output_type'] = 'display_data';\n",
              "        await google.colab.output.renderOutput(dataTable, element);\n",
              "        const docLink = document.createElement('div');\n",
              "        docLink.innerHTML = docLinkHtml;\n",
              "        element.appendChild(docLink);\n",
              "      }\n",
              "    </script>\n",
              "  </div>\n",
              "\n",
              "\n",
              "<div id=\"df-96130ffe-97db-42c1-8141-cab24d1ba68d\">\n",
              "  <button class=\"colab-df-quickchart\" onclick=\"quickchart('df-96130ffe-97db-42c1-8141-cab24d1ba68d')\"\n",
              "            title=\"Suggest charts.\"\n",
              "            style=\"display:none;\">\n",
              "\n",
              "<svg xmlns=\"http://www.w3.org/2000/svg\" height=\"24px\"viewBox=\"0 0 24 24\"\n",
              "     width=\"24px\">\n",
              "    <g>\n",
              "        <path d=\"M19 3H5c-1.1 0-2 .9-2 2v14c0 1.1.9 2 2 2h14c1.1 0 2-.9 2-2V5c0-1.1-.9-2-2-2zM9 17H7v-7h2v7zm4 0h-2V7h2v10zm4 0h-2v-4h2v4z\"/>\n",
              "    </g>\n",
              "</svg>\n",
              "  </button>\n",
              "\n",
              "<style>\n",
              "  .colab-df-quickchart {\n",
              "      --bg-color: #E8F0FE;\n",
              "      --fill-color: #1967D2;\n",
              "      --hover-bg-color: #E2EBFA;\n",
              "      --hover-fill-color: #174EA6;\n",
              "      --disabled-fill-color: #AAA;\n",
              "      --disabled-bg-color: #DDD;\n",
              "  }\n",
              "\n",
              "  [theme=dark] .colab-df-quickchart {\n",
              "      --bg-color: #3B4455;\n",
              "      --fill-color: #D2E3FC;\n",
              "      --hover-bg-color: #434B5C;\n",
              "      --hover-fill-color: #FFFFFF;\n",
              "      --disabled-bg-color: #3B4455;\n",
              "      --disabled-fill-color: #666;\n",
              "  }\n",
              "\n",
              "  .colab-df-quickchart {\n",
              "    background-color: var(--bg-color);\n",
              "    border: none;\n",
              "    border-radius: 50%;\n",
              "    cursor: pointer;\n",
              "    display: none;\n",
              "    fill: var(--fill-color);\n",
              "    height: 32px;\n",
              "    padding: 0;\n",
              "    width: 32px;\n",
              "  }\n",
              "\n",
              "  .colab-df-quickchart:hover {\n",
              "    background-color: var(--hover-bg-color);\n",
              "    box-shadow: 0 1px 2px rgba(60, 64, 67, 0.3), 0 1px 3px 1px rgba(60, 64, 67, 0.15);\n",
              "    fill: var(--button-hover-fill-color);\n",
              "  }\n",
              "\n",
              "  .colab-df-quickchart-complete:disabled,\n",
              "  .colab-df-quickchart-complete:disabled:hover {\n",
              "    background-color: var(--disabled-bg-color);\n",
              "    fill: var(--disabled-fill-color);\n",
              "    box-shadow: none;\n",
              "  }\n",
              "\n",
              "  .colab-df-spinner {\n",
              "    border: 2px solid var(--fill-color);\n",
              "    border-color: transparent;\n",
              "    border-bottom-color: var(--fill-color);\n",
              "    animation:\n",
              "      spin 1s steps(1) infinite;\n",
              "  }\n",
              "\n",
              "  @keyframes spin {\n",
              "    0% {\n",
              "      border-color: transparent;\n",
              "      border-bottom-color: var(--fill-color);\n",
              "      border-left-color: var(--fill-color);\n",
              "    }\n",
              "    20% {\n",
              "      border-color: transparent;\n",
              "      border-left-color: var(--fill-color);\n",
              "      border-top-color: var(--fill-color);\n",
              "    }\n",
              "    30% {\n",
              "      border-color: transparent;\n",
              "      border-left-color: var(--fill-color);\n",
              "      border-top-color: var(--fill-color);\n",
              "      border-right-color: var(--fill-color);\n",
              "    }\n",
              "    40% {\n",
              "      border-color: transparent;\n",
              "      border-right-color: var(--fill-color);\n",
              "      border-top-color: var(--fill-color);\n",
              "    }\n",
              "    60% {\n",
              "      border-color: transparent;\n",
              "      border-right-color: var(--fill-color);\n",
              "    }\n",
              "    80% {\n",
              "      border-color: transparent;\n",
              "      border-right-color: var(--fill-color);\n",
              "      border-bottom-color: var(--fill-color);\n",
              "    }\n",
              "    90% {\n",
              "      border-color: transparent;\n",
              "      border-bottom-color: var(--fill-color);\n",
              "    }\n",
              "  }\n",
              "</style>\n",
              "\n",
              "  <script>\n",
              "    async function quickchart(key) {\n",
              "      const quickchartButtonEl =\n",
              "        document.querySelector('#' + key + ' button');\n",
              "      quickchartButtonEl.disabled = true;  // To prevent multiple clicks.\n",
              "      quickchartButtonEl.classList.add('colab-df-spinner');\n",
              "      try {\n",
              "        const charts = await google.colab.kernel.invokeFunction(\n",
              "            'suggestCharts', [key], {});\n",
              "      } catch (error) {\n",
              "        console.error('Error during call to suggestCharts:', error);\n",
              "      }\n",
              "      quickchartButtonEl.classList.remove('colab-df-spinner');\n",
              "      quickchartButtonEl.classList.add('colab-df-quickchart-complete');\n",
              "    }\n",
              "    (() => {\n",
              "      let quickchartButtonEl =\n",
              "        document.querySelector('#df-96130ffe-97db-42c1-8141-cab24d1ba68d button');\n",
              "      quickchartButtonEl.style.display =\n",
              "        google.colab.kernel.accessAllowed ? 'block' : 'none';\n",
              "    })();\n",
              "  </script>\n",
              "</div>\n",
              "    </div>\n",
              "  </div>\n"
            ]
          },
          "metadata": {},
          "execution_count": 38
        }
      ],
      "source": [
        "df_dataset_pos.sample(5)"
      ]
    },
    {
      "cell_type": "markdown",
      "metadata": {
        "id": "Yj0ya60zrm8t"
      },
      "source": [
        "# 5 Finalização"
      ]
    },
    {
      "cell_type": "markdown",
      "metadata": {
        "id": "Bcjt085lZGUr"
      },
      "source": [
        "## 5.1 Tempo final de processamento\n",
        "\n"
      ]
    },
    {
      "cell_type": "code",
      "execution_count": null,
      "metadata": {
        "id": "H50_GKJwpDha",
        "colab": {
          "base_uri": "https://localhost:8080/"
        },
        "outputId": "b34a5931-5491-4178-864f-8177c41650fb"
      },
      "outputs": [
        {
          "output_type": "stream",
          "name": "stdout",
          "text": [
            "\n",
            "  Tempo processamento:  0:02:51 (h:mm:ss)\n"
          ]
        }
      ],
      "source": [
        "# Pega o tempo atual menos o tempo do início do processamento.\n",
        "final_processamento = time.time()\n",
        "tempo_total_processamento = formataTempo(final_processamento - inicio_processamento)\n",
        "\n",
        "print(\"\")\n",
        "print(\"  Tempo processamento:  {:} (h:mm:ss)\".format(tempo_total_processamento))"
      ]
    }
  ]
}