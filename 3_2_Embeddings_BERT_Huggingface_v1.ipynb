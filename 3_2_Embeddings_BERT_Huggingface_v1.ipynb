{
  "nbformat": 4,
  "nbformat_minor": 0,
  "metadata": {
    "colab": {
      "provenance": [],
      "toc_visible": true,
      "include_colab_link": true
    },
    "kernelspec": {
      "name": "python3",
      "display_name": "Python 3"
    },
    "widgets": {
      "application/vnd.jupyter.widget-state+json": {
        "93933fca00d74e41a3ee9f42517e9e84": {
          "model_module": "@jupyter-widgets/controls",
          "model_name": "HBoxModel",
          "model_module_version": "1.5.0",
          "state": {
            "_dom_classes": [],
            "_model_module": "@jupyter-widgets/controls",
            "_model_module_version": "1.5.0",
            "_model_name": "HBoxModel",
            "_view_count": null,
            "_view_module": "@jupyter-widgets/controls",
            "_view_module_version": "1.5.0",
            "_view_name": "HBoxView",
            "box_style": "",
            "children": [
              "IPY_MODEL_de4a99dba2fe49119d871c01222f5a7c",
              "IPY_MODEL_35a26f3e252d4de29708661b2b212069",
              "IPY_MODEL_22793236296446ed940cbfe033bd7bfc"
            ],
            "layout": "IPY_MODEL_addb5c27d7034a44acc4d59147b33229"
          }
        },
        "de4a99dba2fe49119d871c01222f5a7c": {
          "model_module": "@jupyter-widgets/controls",
          "model_name": "HTMLModel",
          "model_module_version": "1.5.0",
          "state": {
            "_dom_classes": [],
            "_model_module": "@jupyter-widgets/controls",
            "_model_module_version": "1.5.0",
            "_model_name": "HTMLModel",
            "_view_count": null,
            "_view_module": "@jupyter-widgets/controls",
            "_view_module_version": "1.5.0",
            "_view_name": "HTMLView",
            "description": "",
            "description_tooltip": null,
            "layout": "IPY_MODEL_301f44e8d4944be28fe0d623c4bd25d4",
            "placeholder": "​",
            "style": "IPY_MODEL_0f6a9e8ee23c40ca921ba4b8b342487b",
            "value": "config.json: 100%"
          }
        },
        "35a26f3e252d4de29708661b2b212069": {
          "model_module": "@jupyter-widgets/controls",
          "model_name": "FloatProgressModel",
          "model_module_version": "1.5.0",
          "state": {
            "_dom_classes": [],
            "_model_module": "@jupyter-widgets/controls",
            "_model_module_version": "1.5.0",
            "_model_name": "FloatProgressModel",
            "_view_count": null,
            "_view_module": "@jupyter-widgets/controls",
            "_view_module_version": "1.5.0",
            "_view_name": "ProgressView",
            "bar_style": "success",
            "description": "",
            "description_tooltip": null,
            "layout": "IPY_MODEL_7e609398072c434698126ee9e0932e05",
            "max": 648,
            "min": 0,
            "orientation": "horizontal",
            "style": "IPY_MODEL_99ce236101d5467babbe40387bec7282",
            "value": 648
          }
        },
        "22793236296446ed940cbfe033bd7bfc": {
          "model_module": "@jupyter-widgets/controls",
          "model_name": "HTMLModel",
          "model_module_version": "1.5.0",
          "state": {
            "_dom_classes": [],
            "_model_module": "@jupyter-widgets/controls",
            "_model_module_version": "1.5.0",
            "_model_name": "HTMLModel",
            "_view_count": null,
            "_view_module": "@jupyter-widgets/controls",
            "_view_module_version": "1.5.0",
            "_view_name": "HTMLView",
            "description": "",
            "description_tooltip": null,
            "layout": "IPY_MODEL_ef26f4fb2ef540549a7c9b2f1cba0d5c",
            "placeholder": "​",
            "style": "IPY_MODEL_f4be756d80a74c6ca79345a437c17e27",
            "value": " 648/648 [00:00&lt;00:00, 37.4kB/s]"
          }
        },
        "addb5c27d7034a44acc4d59147b33229": {
          "model_module": "@jupyter-widgets/base",
          "model_name": "LayoutModel",
          "model_module_version": "1.2.0",
          "state": {
            "_model_module": "@jupyter-widgets/base",
            "_model_module_version": "1.2.0",
            "_model_name": "LayoutModel",
            "_view_count": null,
            "_view_module": "@jupyter-widgets/base",
            "_view_module_version": "1.2.0",
            "_view_name": "LayoutView",
            "align_content": null,
            "align_items": null,
            "align_self": null,
            "border": null,
            "bottom": null,
            "display": null,
            "flex": null,
            "flex_flow": null,
            "grid_area": null,
            "grid_auto_columns": null,
            "grid_auto_flow": null,
            "grid_auto_rows": null,
            "grid_column": null,
            "grid_gap": null,
            "grid_row": null,
            "grid_template_areas": null,
            "grid_template_columns": null,
            "grid_template_rows": null,
            "height": null,
            "justify_content": null,
            "justify_items": null,
            "left": null,
            "margin": null,
            "max_height": null,
            "max_width": null,
            "min_height": null,
            "min_width": null,
            "object_fit": null,
            "object_position": null,
            "order": null,
            "overflow": null,
            "overflow_x": null,
            "overflow_y": null,
            "padding": null,
            "right": null,
            "top": null,
            "visibility": null,
            "width": null
          }
        },
        "301f44e8d4944be28fe0d623c4bd25d4": {
          "model_module": "@jupyter-widgets/base",
          "model_name": "LayoutModel",
          "model_module_version": "1.2.0",
          "state": {
            "_model_module": "@jupyter-widgets/base",
            "_model_module_version": "1.2.0",
            "_model_name": "LayoutModel",
            "_view_count": null,
            "_view_module": "@jupyter-widgets/base",
            "_view_module_version": "1.2.0",
            "_view_name": "LayoutView",
            "align_content": null,
            "align_items": null,
            "align_self": null,
            "border": null,
            "bottom": null,
            "display": null,
            "flex": null,
            "flex_flow": null,
            "grid_area": null,
            "grid_auto_columns": null,
            "grid_auto_flow": null,
            "grid_auto_rows": null,
            "grid_column": null,
            "grid_gap": null,
            "grid_row": null,
            "grid_template_areas": null,
            "grid_template_columns": null,
            "grid_template_rows": null,
            "height": null,
            "justify_content": null,
            "justify_items": null,
            "left": null,
            "margin": null,
            "max_height": null,
            "max_width": null,
            "min_height": null,
            "min_width": null,
            "object_fit": null,
            "object_position": null,
            "order": null,
            "overflow": null,
            "overflow_x": null,
            "overflow_y": null,
            "padding": null,
            "right": null,
            "top": null,
            "visibility": null,
            "width": null
          }
        },
        "0f6a9e8ee23c40ca921ba4b8b342487b": {
          "model_module": "@jupyter-widgets/controls",
          "model_name": "DescriptionStyleModel",
          "model_module_version": "1.5.0",
          "state": {
            "_model_module": "@jupyter-widgets/controls",
            "_model_module_version": "1.5.0",
            "_model_name": "DescriptionStyleModel",
            "_view_count": null,
            "_view_module": "@jupyter-widgets/base",
            "_view_module_version": "1.2.0",
            "_view_name": "StyleView",
            "description_width": ""
          }
        },
        "7e609398072c434698126ee9e0932e05": {
          "model_module": "@jupyter-widgets/base",
          "model_name": "LayoutModel",
          "model_module_version": "1.2.0",
          "state": {
            "_model_module": "@jupyter-widgets/base",
            "_model_module_version": "1.2.0",
            "_model_name": "LayoutModel",
            "_view_count": null,
            "_view_module": "@jupyter-widgets/base",
            "_view_module_version": "1.2.0",
            "_view_name": "LayoutView",
            "align_content": null,
            "align_items": null,
            "align_self": null,
            "border": null,
            "bottom": null,
            "display": null,
            "flex": null,
            "flex_flow": null,
            "grid_area": null,
            "grid_auto_columns": null,
            "grid_auto_flow": null,
            "grid_auto_rows": null,
            "grid_column": null,
            "grid_gap": null,
            "grid_row": null,
            "grid_template_areas": null,
            "grid_template_columns": null,
            "grid_template_rows": null,
            "height": null,
            "justify_content": null,
            "justify_items": null,
            "left": null,
            "margin": null,
            "max_height": null,
            "max_width": null,
            "min_height": null,
            "min_width": null,
            "object_fit": null,
            "object_position": null,
            "order": null,
            "overflow": null,
            "overflow_x": null,
            "overflow_y": null,
            "padding": null,
            "right": null,
            "top": null,
            "visibility": null,
            "width": null
          }
        },
        "99ce236101d5467babbe40387bec7282": {
          "model_module": "@jupyter-widgets/controls",
          "model_name": "ProgressStyleModel",
          "model_module_version": "1.5.0",
          "state": {
            "_model_module": "@jupyter-widgets/controls",
            "_model_module_version": "1.5.0",
            "_model_name": "ProgressStyleModel",
            "_view_count": null,
            "_view_module": "@jupyter-widgets/base",
            "_view_module_version": "1.2.0",
            "_view_name": "StyleView",
            "bar_color": null,
            "description_width": ""
          }
        },
        "ef26f4fb2ef540549a7c9b2f1cba0d5c": {
          "model_module": "@jupyter-widgets/base",
          "model_name": "LayoutModel",
          "model_module_version": "1.2.0",
          "state": {
            "_model_module": "@jupyter-widgets/base",
            "_model_module_version": "1.2.0",
            "_model_name": "LayoutModel",
            "_view_count": null,
            "_view_module": "@jupyter-widgets/base",
            "_view_module_version": "1.2.0",
            "_view_name": "LayoutView",
            "align_content": null,
            "align_items": null,
            "align_self": null,
            "border": null,
            "bottom": null,
            "display": null,
            "flex": null,
            "flex_flow": null,
            "grid_area": null,
            "grid_auto_columns": null,
            "grid_auto_flow": null,
            "grid_auto_rows": null,
            "grid_column": null,
            "grid_gap": null,
            "grid_row": null,
            "grid_template_areas": null,
            "grid_template_columns": null,
            "grid_template_rows": null,
            "height": null,
            "justify_content": null,
            "justify_items": null,
            "left": null,
            "margin": null,
            "max_height": null,
            "max_width": null,
            "min_height": null,
            "min_width": null,
            "object_fit": null,
            "object_position": null,
            "order": null,
            "overflow": null,
            "overflow_x": null,
            "overflow_y": null,
            "padding": null,
            "right": null,
            "top": null,
            "visibility": null,
            "width": null
          }
        },
        "f4be756d80a74c6ca79345a437c17e27": {
          "model_module": "@jupyter-widgets/controls",
          "model_name": "DescriptionStyleModel",
          "model_module_version": "1.5.0",
          "state": {
            "_model_module": "@jupyter-widgets/controls",
            "_model_module_version": "1.5.0",
            "_model_name": "DescriptionStyleModel",
            "_view_count": null,
            "_view_module": "@jupyter-widgets/base",
            "_view_module_version": "1.2.0",
            "_view_name": "StyleView",
            "description_width": ""
          }
        },
        "470ba6d3f6b94edab8d0830c7f99e3e4": {
          "model_module": "@jupyter-widgets/controls",
          "model_name": "HBoxModel",
          "model_module_version": "1.5.0",
          "state": {
            "_dom_classes": [],
            "_model_module": "@jupyter-widgets/controls",
            "_model_module_version": "1.5.0",
            "_model_name": "HBoxModel",
            "_view_count": null,
            "_view_module": "@jupyter-widgets/controls",
            "_view_module_version": "1.5.0",
            "_view_name": "HBoxView",
            "box_style": "",
            "children": [
              "IPY_MODEL_39b8de9884a6411b8eb4e5325098b1fe",
              "IPY_MODEL_914a34bf62224599ba5412f0067f68b3",
              "IPY_MODEL_5d0a1f7ae0914f3f99dc05f48f3490b8"
            ],
            "layout": "IPY_MODEL_f49d8fd0353748ef96208e86468f53a2"
          }
        },
        "39b8de9884a6411b8eb4e5325098b1fe": {
          "model_module": "@jupyter-widgets/controls",
          "model_name": "HTMLModel",
          "model_module_version": "1.5.0",
          "state": {
            "_dom_classes": [],
            "_model_module": "@jupyter-widgets/controls",
            "_model_module_version": "1.5.0",
            "_model_name": "HTMLModel",
            "_view_count": null,
            "_view_module": "@jupyter-widgets/controls",
            "_view_module_version": "1.5.0",
            "_view_name": "HTMLView",
            "description": "",
            "description_tooltip": null,
            "layout": "IPY_MODEL_033bfec19a044d0a993c8f4e4cb68e52",
            "placeholder": "​",
            "style": "IPY_MODEL_b173f7f1f49f42a393412e9a21f3ee2a",
            "value": "pytorch_model.bin: 100%"
          }
        },
        "914a34bf62224599ba5412f0067f68b3": {
          "model_module": "@jupyter-widgets/controls",
          "model_name": "FloatProgressModel",
          "model_module_version": "1.5.0",
          "state": {
            "_dom_classes": [],
            "_model_module": "@jupyter-widgets/controls",
            "_model_module_version": "1.5.0",
            "_model_name": "FloatProgressModel",
            "_view_count": null,
            "_view_module": "@jupyter-widgets/controls",
            "_view_module_version": "1.5.0",
            "_view_name": "ProgressView",
            "bar_style": "success",
            "description": "",
            "description_tooltip": null,
            "layout": "IPY_MODEL_df87580221f34ad6ba2a023bbc9de1fb",
            "max": 1342014951,
            "min": 0,
            "orientation": "horizontal",
            "style": "IPY_MODEL_1aff9091d0c146e3897e4700108803ae",
            "value": 1342014951
          }
        },
        "5d0a1f7ae0914f3f99dc05f48f3490b8": {
          "model_module": "@jupyter-widgets/controls",
          "model_name": "HTMLModel",
          "model_module_version": "1.5.0",
          "state": {
            "_dom_classes": [],
            "_model_module": "@jupyter-widgets/controls",
            "_model_module_version": "1.5.0",
            "_model_name": "HTMLModel",
            "_view_count": null,
            "_view_module": "@jupyter-widgets/controls",
            "_view_module_version": "1.5.0",
            "_view_name": "HTMLView",
            "description": "",
            "description_tooltip": null,
            "layout": "IPY_MODEL_cc34239a8e374d838a6859baebfd5d4b",
            "placeholder": "​",
            "style": "IPY_MODEL_1043322a04bb416d95d2e4f602cb79e4",
            "value": " 1.34G/1.34G [00:14&lt;00:00, 167MB/s]"
          }
        },
        "f49d8fd0353748ef96208e86468f53a2": {
          "model_module": "@jupyter-widgets/base",
          "model_name": "LayoutModel",
          "model_module_version": "1.2.0",
          "state": {
            "_model_module": "@jupyter-widgets/base",
            "_model_module_version": "1.2.0",
            "_model_name": "LayoutModel",
            "_view_count": null,
            "_view_module": "@jupyter-widgets/base",
            "_view_module_version": "1.2.0",
            "_view_name": "LayoutView",
            "align_content": null,
            "align_items": null,
            "align_self": null,
            "border": null,
            "bottom": null,
            "display": null,
            "flex": null,
            "flex_flow": null,
            "grid_area": null,
            "grid_auto_columns": null,
            "grid_auto_flow": null,
            "grid_auto_rows": null,
            "grid_column": null,
            "grid_gap": null,
            "grid_row": null,
            "grid_template_areas": null,
            "grid_template_columns": null,
            "grid_template_rows": null,
            "height": null,
            "justify_content": null,
            "justify_items": null,
            "left": null,
            "margin": null,
            "max_height": null,
            "max_width": null,
            "min_height": null,
            "min_width": null,
            "object_fit": null,
            "object_position": null,
            "order": null,
            "overflow": null,
            "overflow_x": null,
            "overflow_y": null,
            "padding": null,
            "right": null,
            "top": null,
            "visibility": null,
            "width": null
          }
        },
        "033bfec19a044d0a993c8f4e4cb68e52": {
          "model_module": "@jupyter-widgets/base",
          "model_name": "LayoutModel",
          "model_module_version": "1.2.0",
          "state": {
            "_model_module": "@jupyter-widgets/base",
            "_model_module_version": "1.2.0",
            "_model_name": "LayoutModel",
            "_view_count": null,
            "_view_module": "@jupyter-widgets/base",
            "_view_module_version": "1.2.0",
            "_view_name": "LayoutView",
            "align_content": null,
            "align_items": null,
            "align_self": null,
            "border": null,
            "bottom": null,
            "display": null,
            "flex": null,
            "flex_flow": null,
            "grid_area": null,
            "grid_auto_columns": null,
            "grid_auto_flow": null,
            "grid_auto_rows": null,
            "grid_column": null,
            "grid_gap": null,
            "grid_row": null,
            "grid_template_areas": null,
            "grid_template_columns": null,
            "grid_template_rows": null,
            "height": null,
            "justify_content": null,
            "justify_items": null,
            "left": null,
            "margin": null,
            "max_height": null,
            "max_width": null,
            "min_height": null,
            "min_width": null,
            "object_fit": null,
            "object_position": null,
            "order": null,
            "overflow": null,
            "overflow_x": null,
            "overflow_y": null,
            "padding": null,
            "right": null,
            "top": null,
            "visibility": null,
            "width": null
          }
        },
        "b173f7f1f49f42a393412e9a21f3ee2a": {
          "model_module": "@jupyter-widgets/controls",
          "model_name": "DescriptionStyleModel",
          "model_module_version": "1.5.0",
          "state": {
            "_model_module": "@jupyter-widgets/controls",
            "_model_module_version": "1.5.0",
            "_model_name": "DescriptionStyleModel",
            "_view_count": null,
            "_view_module": "@jupyter-widgets/base",
            "_view_module_version": "1.2.0",
            "_view_name": "StyleView",
            "description_width": ""
          }
        },
        "df87580221f34ad6ba2a023bbc9de1fb": {
          "model_module": "@jupyter-widgets/base",
          "model_name": "LayoutModel",
          "model_module_version": "1.2.0",
          "state": {
            "_model_module": "@jupyter-widgets/base",
            "_model_module_version": "1.2.0",
            "_model_name": "LayoutModel",
            "_view_count": null,
            "_view_module": "@jupyter-widgets/base",
            "_view_module_version": "1.2.0",
            "_view_name": "LayoutView",
            "align_content": null,
            "align_items": null,
            "align_self": null,
            "border": null,
            "bottom": null,
            "display": null,
            "flex": null,
            "flex_flow": null,
            "grid_area": null,
            "grid_auto_columns": null,
            "grid_auto_flow": null,
            "grid_auto_rows": null,
            "grid_column": null,
            "grid_gap": null,
            "grid_row": null,
            "grid_template_areas": null,
            "grid_template_columns": null,
            "grid_template_rows": null,
            "height": null,
            "justify_content": null,
            "justify_items": null,
            "left": null,
            "margin": null,
            "max_height": null,
            "max_width": null,
            "min_height": null,
            "min_width": null,
            "object_fit": null,
            "object_position": null,
            "order": null,
            "overflow": null,
            "overflow_x": null,
            "overflow_y": null,
            "padding": null,
            "right": null,
            "top": null,
            "visibility": null,
            "width": null
          }
        },
        "1aff9091d0c146e3897e4700108803ae": {
          "model_module": "@jupyter-widgets/controls",
          "model_name": "ProgressStyleModel",
          "model_module_version": "1.5.0",
          "state": {
            "_model_module": "@jupyter-widgets/controls",
            "_model_module_version": "1.5.0",
            "_model_name": "ProgressStyleModel",
            "_view_count": null,
            "_view_module": "@jupyter-widgets/base",
            "_view_module_version": "1.2.0",
            "_view_name": "StyleView",
            "bar_color": null,
            "description_width": ""
          }
        },
        "cc34239a8e374d838a6859baebfd5d4b": {
          "model_module": "@jupyter-widgets/base",
          "model_name": "LayoutModel",
          "model_module_version": "1.2.0",
          "state": {
            "_model_module": "@jupyter-widgets/base",
            "_model_module_version": "1.2.0",
            "_model_name": "LayoutModel",
            "_view_count": null,
            "_view_module": "@jupyter-widgets/base",
            "_view_module_version": "1.2.0",
            "_view_name": "LayoutView",
            "align_content": null,
            "align_items": null,
            "align_self": null,
            "border": null,
            "bottom": null,
            "display": null,
            "flex": null,
            "flex_flow": null,
            "grid_area": null,
            "grid_auto_columns": null,
            "grid_auto_flow": null,
            "grid_auto_rows": null,
            "grid_column": null,
            "grid_gap": null,
            "grid_row": null,
            "grid_template_areas": null,
            "grid_template_columns": null,
            "grid_template_rows": null,
            "height": null,
            "justify_content": null,
            "justify_items": null,
            "left": null,
            "margin": null,
            "max_height": null,
            "max_width": null,
            "min_height": null,
            "min_width": null,
            "object_fit": null,
            "object_position": null,
            "order": null,
            "overflow": null,
            "overflow_x": null,
            "overflow_y": null,
            "padding": null,
            "right": null,
            "top": null,
            "visibility": null,
            "width": null
          }
        },
        "1043322a04bb416d95d2e4f602cb79e4": {
          "model_module": "@jupyter-widgets/controls",
          "model_name": "DescriptionStyleModel",
          "model_module_version": "1.5.0",
          "state": {
            "_model_module": "@jupyter-widgets/controls",
            "_model_module_version": "1.5.0",
            "_model_name": "DescriptionStyleModel",
            "_view_count": null,
            "_view_module": "@jupyter-widgets/base",
            "_view_module_version": "1.2.0",
            "_view_name": "StyleView",
            "description_width": ""
          }
        },
        "8cb3200bd26d423db8e9dfe1fe739a39": {
          "model_module": "@jupyter-widgets/controls",
          "model_name": "HBoxModel",
          "model_module_version": "1.5.0",
          "state": {
            "_dom_classes": [],
            "_model_module": "@jupyter-widgets/controls",
            "_model_module_version": "1.5.0",
            "_model_name": "HBoxModel",
            "_view_count": null,
            "_view_module": "@jupyter-widgets/controls",
            "_view_module_version": "1.5.0",
            "_view_name": "HBoxView",
            "box_style": "",
            "children": [
              "IPY_MODEL_bef5a420176944f380e15e056cea17cb",
              "IPY_MODEL_55b89bc8d92340ccb2fc3caa6bfdb967",
              "IPY_MODEL_2f4457afb52f4a29b413da0e45d570a8"
            ],
            "layout": "IPY_MODEL_8cf4400e829947d2876309e6af11ae8a"
          }
        },
        "bef5a420176944f380e15e056cea17cb": {
          "model_module": "@jupyter-widgets/controls",
          "model_name": "HTMLModel",
          "model_module_version": "1.5.0",
          "state": {
            "_dom_classes": [],
            "_model_module": "@jupyter-widgets/controls",
            "_model_module_version": "1.5.0",
            "_model_name": "HTMLModel",
            "_view_count": null,
            "_view_module": "@jupyter-widgets/controls",
            "_view_module_version": "1.5.0",
            "_view_name": "HTMLView",
            "description": "",
            "description_tooltip": null,
            "layout": "IPY_MODEL_44c2161af81b4694938a5c912b94462a",
            "placeholder": "​",
            "style": "IPY_MODEL_2fccba88f9e64b6ab02f14b20b5c21f1",
            "value": "model.safetensors: 100%"
          }
        },
        "55b89bc8d92340ccb2fc3caa6bfdb967": {
          "model_module": "@jupyter-widgets/controls",
          "model_name": "FloatProgressModel",
          "model_module_version": "1.5.0",
          "state": {
            "_dom_classes": [],
            "_model_module": "@jupyter-widgets/controls",
            "_model_module_version": "1.5.0",
            "_model_name": "FloatProgressModel",
            "_view_count": null,
            "_view_module": "@jupyter-widgets/controls",
            "_view_module_version": "1.5.0",
            "_view_name": "ProgressView",
            "bar_style": "success",
            "description": "",
            "description_tooltip": null,
            "layout": "IPY_MODEL_ad14615bc0af41f7a6bfef20274cb7ff",
            "max": 1341967206,
            "min": 0,
            "orientation": "horizontal",
            "style": "IPY_MODEL_528a562ba75542d693130bf0f3577823",
            "value": 1341967206
          }
        },
        "2f4457afb52f4a29b413da0e45d570a8": {
          "model_module": "@jupyter-widgets/controls",
          "model_name": "HTMLModel",
          "model_module_version": "1.5.0",
          "state": {
            "_dom_classes": [],
            "_model_module": "@jupyter-widgets/controls",
            "_model_module_version": "1.5.0",
            "_model_name": "HTMLModel",
            "_view_count": null,
            "_view_module": "@jupyter-widgets/controls",
            "_view_module_version": "1.5.0",
            "_view_name": "HTMLView",
            "description": "",
            "description_tooltip": null,
            "layout": "IPY_MODEL_7a3f20075ac64a27b720dc16b3e22278",
            "placeholder": "​",
            "style": "IPY_MODEL_e9fe708970544fbba9ffff5d9756683b",
            "value": " 1.34G/1.34G [00:16&lt;00:00, 111MB/s]"
          }
        },
        "8cf4400e829947d2876309e6af11ae8a": {
          "model_module": "@jupyter-widgets/base",
          "model_name": "LayoutModel",
          "model_module_version": "1.2.0",
          "state": {
            "_model_module": "@jupyter-widgets/base",
            "_model_module_version": "1.2.0",
            "_model_name": "LayoutModel",
            "_view_count": null,
            "_view_module": "@jupyter-widgets/base",
            "_view_module_version": "1.2.0",
            "_view_name": "LayoutView",
            "align_content": null,
            "align_items": null,
            "align_self": null,
            "border": null,
            "bottom": null,
            "display": null,
            "flex": null,
            "flex_flow": null,
            "grid_area": null,
            "grid_auto_columns": null,
            "grid_auto_flow": null,
            "grid_auto_rows": null,
            "grid_column": null,
            "grid_gap": null,
            "grid_row": null,
            "grid_template_areas": null,
            "grid_template_columns": null,
            "grid_template_rows": null,
            "height": null,
            "justify_content": null,
            "justify_items": null,
            "left": null,
            "margin": null,
            "max_height": null,
            "max_width": null,
            "min_height": null,
            "min_width": null,
            "object_fit": null,
            "object_position": null,
            "order": null,
            "overflow": null,
            "overflow_x": null,
            "overflow_y": null,
            "padding": null,
            "right": null,
            "top": null,
            "visibility": null,
            "width": null
          }
        },
        "44c2161af81b4694938a5c912b94462a": {
          "model_module": "@jupyter-widgets/base",
          "model_name": "LayoutModel",
          "model_module_version": "1.2.0",
          "state": {
            "_model_module": "@jupyter-widgets/base",
            "_model_module_version": "1.2.0",
            "_model_name": "LayoutModel",
            "_view_count": null,
            "_view_module": "@jupyter-widgets/base",
            "_view_module_version": "1.2.0",
            "_view_name": "LayoutView",
            "align_content": null,
            "align_items": null,
            "align_self": null,
            "border": null,
            "bottom": null,
            "display": null,
            "flex": null,
            "flex_flow": null,
            "grid_area": null,
            "grid_auto_columns": null,
            "grid_auto_flow": null,
            "grid_auto_rows": null,
            "grid_column": null,
            "grid_gap": null,
            "grid_row": null,
            "grid_template_areas": null,
            "grid_template_columns": null,
            "grid_template_rows": null,
            "height": null,
            "justify_content": null,
            "justify_items": null,
            "left": null,
            "margin": null,
            "max_height": null,
            "max_width": null,
            "min_height": null,
            "min_width": null,
            "object_fit": null,
            "object_position": null,
            "order": null,
            "overflow": null,
            "overflow_x": null,
            "overflow_y": null,
            "padding": null,
            "right": null,
            "top": null,
            "visibility": null,
            "width": null
          }
        },
        "2fccba88f9e64b6ab02f14b20b5c21f1": {
          "model_module": "@jupyter-widgets/controls",
          "model_name": "DescriptionStyleModel",
          "model_module_version": "1.5.0",
          "state": {
            "_model_module": "@jupyter-widgets/controls",
            "_model_module_version": "1.5.0",
            "_model_name": "DescriptionStyleModel",
            "_view_count": null,
            "_view_module": "@jupyter-widgets/base",
            "_view_module_version": "1.2.0",
            "_view_name": "StyleView",
            "description_width": ""
          }
        },
        "ad14615bc0af41f7a6bfef20274cb7ff": {
          "model_module": "@jupyter-widgets/base",
          "model_name": "LayoutModel",
          "model_module_version": "1.2.0",
          "state": {
            "_model_module": "@jupyter-widgets/base",
            "_model_module_version": "1.2.0",
            "_model_name": "LayoutModel",
            "_view_count": null,
            "_view_module": "@jupyter-widgets/base",
            "_view_module_version": "1.2.0",
            "_view_name": "LayoutView",
            "align_content": null,
            "align_items": null,
            "align_self": null,
            "border": null,
            "bottom": null,
            "display": null,
            "flex": null,
            "flex_flow": null,
            "grid_area": null,
            "grid_auto_columns": null,
            "grid_auto_flow": null,
            "grid_auto_rows": null,
            "grid_column": null,
            "grid_gap": null,
            "grid_row": null,
            "grid_template_areas": null,
            "grid_template_columns": null,
            "grid_template_rows": null,
            "height": null,
            "justify_content": null,
            "justify_items": null,
            "left": null,
            "margin": null,
            "max_height": null,
            "max_width": null,
            "min_height": null,
            "min_width": null,
            "object_fit": null,
            "object_position": null,
            "order": null,
            "overflow": null,
            "overflow_x": null,
            "overflow_y": null,
            "padding": null,
            "right": null,
            "top": null,
            "visibility": null,
            "width": null
          }
        },
        "528a562ba75542d693130bf0f3577823": {
          "model_module": "@jupyter-widgets/controls",
          "model_name": "ProgressStyleModel",
          "model_module_version": "1.5.0",
          "state": {
            "_model_module": "@jupyter-widgets/controls",
            "_model_module_version": "1.5.0",
            "_model_name": "ProgressStyleModel",
            "_view_count": null,
            "_view_module": "@jupyter-widgets/base",
            "_view_module_version": "1.2.0",
            "_view_name": "StyleView",
            "bar_color": null,
            "description_width": ""
          }
        },
        "7a3f20075ac64a27b720dc16b3e22278": {
          "model_module": "@jupyter-widgets/base",
          "model_name": "LayoutModel",
          "model_module_version": "1.2.0",
          "state": {
            "_model_module": "@jupyter-widgets/base",
            "_model_module_version": "1.2.0",
            "_model_name": "LayoutModel",
            "_view_count": null,
            "_view_module": "@jupyter-widgets/base",
            "_view_module_version": "1.2.0",
            "_view_name": "LayoutView",
            "align_content": null,
            "align_items": null,
            "align_self": null,
            "border": null,
            "bottom": null,
            "display": null,
            "flex": null,
            "flex_flow": null,
            "grid_area": null,
            "grid_auto_columns": null,
            "grid_auto_flow": null,
            "grid_auto_rows": null,
            "grid_column": null,
            "grid_gap": null,
            "grid_row": null,
            "grid_template_areas": null,
            "grid_template_columns": null,
            "grid_template_rows": null,
            "height": null,
            "justify_content": null,
            "justify_items": null,
            "left": null,
            "margin": null,
            "max_height": null,
            "max_width": null,
            "min_height": null,
            "min_width": null,
            "object_fit": null,
            "object_position": null,
            "order": null,
            "overflow": null,
            "overflow_x": null,
            "overflow_y": null,
            "padding": null,
            "right": null,
            "top": null,
            "visibility": null,
            "width": null
          }
        },
        "e9fe708970544fbba9ffff5d9756683b": {
          "model_module": "@jupyter-widgets/controls",
          "model_name": "DescriptionStyleModel",
          "model_module_version": "1.5.0",
          "state": {
            "_model_module": "@jupyter-widgets/controls",
            "_model_module_version": "1.5.0",
            "_model_name": "DescriptionStyleModel",
            "_view_count": null,
            "_view_module": "@jupyter-widgets/base",
            "_view_module_version": "1.2.0",
            "_view_name": "StyleView",
            "description_width": ""
          }
        },
        "2325a6a9f3f7476b854b07cf2b185e61": {
          "model_module": "@jupyter-widgets/controls",
          "model_name": "HBoxModel",
          "model_module_version": "1.5.0",
          "state": {
            "_dom_classes": [],
            "_model_module": "@jupyter-widgets/controls",
            "_model_module_version": "1.5.0",
            "_model_name": "HBoxModel",
            "_view_count": null,
            "_view_module": "@jupyter-widgets/controls",
            "_view_module_version": "1.5.0",
            "_view_name": "HBoxView",
            "box_style": "",
            "children": [
              "IPY_MODEL_ee3a6166047b4dd39f3486875e5d53b1",
              "IPY_MODEL_28ad2a1300be4af8b7f0707e5764d159",
              "IPY_MODEL_ed630a65f8b64990a66b001887a15117"
            ],
            "layout": "IPY_MODEL_02eb523431d745b4843ef61945b10d83"
          }
        },
        "ee3a6166047b4dd39f3486875e5d53b1": {
          "model_module": "@jupyter-widgets/controls",
          "model_name": "HTMLModel",
          "model_module_version": "1.5.0",
          "state": {
            "_dom_classes": [],
            "_model_module": "@jupyter-widgets/controls",
            "_model_module_version": "1.5.0",
            "_model_name": "HTMLModel",
            "_view_count": null,
            "_view_module": "@jupyter-widgets/controls",
            "_view_module_version": "1.5.0",
            "_view_name": "HTMLView",
            "description": "",
            "description_tooltip": null,
            "layout": "IPY_MODEL_ccc937ca1f7948b8b32c9b2576fee305",
            "placeholder": "​",
            "style": "IPY_MODEL_f6be4fb0685f404aab0fec013520dc02",
            "value": "tokenizer_config.json: 100%"
          }
        },
        "28ad2a1300be4af8b7f0707e5764d159": {
          "model_module": "@jupyter-widgets/controls",
          "model_name": "FloatProgressModel",
          "model_module_version": "1.5.0",
          "state": {
            "_dom_classes": [],
            "_model_module": "@jupyter-widgets/controls",
            "_model_module_version": "1.5.0",
            "_model_name": "FloatProgressModel",
            "_view_count": null,
            "_view_module": "@jupyter-widgets/controls",
            "_view_module_version": "1.5.0",
            "_view_name": "ProgressView",
            "bar_style": "success",
            "description": "",
            "description_tooltip": null,
            "layout": "IPY_MODEL_822a7b6255da40e5be0859577cff7fa8",
            "max": 155,
            "min": 0,
            "orientation": "horizontal",
            "style": "IPY_MODEL_b96aab965d0b4a5787bd94a08a950ba4",
            "value": 155
          }
        },
        "ed630a65f8b64990a66b001887a15117": {
          "model_module": "@jupyter-widgets/controls",
          "model_name": "HTMLModel",
          "model_module_version": "1.5.0",
          "state": {
            "_dom_classes": [],
            "_model_module": "@jupyter-widgets/controls",
            "_model_module_version": "1.5.0",
            "_model_name": "HTMLModel",
            "_view_count": null,
            "_view_module": "@jupyter-widgets/controls",
            "_view_module_version": "1.5.0",
            "_view_name": "HTMLView",
            "description": "",
            "description_tooltip": null,
            "layout": "IPY_MODEL_7d6e3cea4280499f8d5c5a7559cc5a8e",
            "placeholder": "​",
            "style": "IPY_MODEL_1adc66708b014b31a473c6efb4016568",
            "value": " 155/155 [00:00&lt;00:00, 10.6kB/s]"
          }
        },
        "02eb523431d745b4843ef61945b10d83": {
          "model_module": "@jupyter-widgets/base",
          "model_name": "LayoutModel",
          "model_module_version": "1.2.0",
          "state": {
            "_model_module": "@jupyter-widgets/base",
            "_model_module_version": "1.2.0",
            "_model_name": "LayoutModel",
            "_view_count": null,
            "_view_module": "@jupyter-widgets/base",
            "_view_module_version": "1.2.0",
            "_view_name": "LayoutView",
            "align_content": null,
            "align_items": null,
            "align_self": null,
            "border": null,
            "bottom": null,
            "display": null,
            "flex": null,
            "flex_flow": null,
            "grid_area": null,
            "grid_auto_columns": null,
            "grid_auto_flow": null,
            "grid_auto_rows": null,
            "grid_column": null,
            "grid_gap": null,
            "grid_row": null,
            "grid_template_areas": null,
            "grid_template_columns": null,
            "grid_template_rows": null,
            "height": null,
            "justify_content": null,
            "justify_items": null,
            "left": null,
            "margin": null,
            "max_height": null,
            "max_width": null,
            "min_height": null,
            "min_width": null,
            "object_fit": null,
            "object_position": null,
            "order": null,
            "overflow": null,
            "overflow_x": null,
            "overflow_y": null,
            "padding": null,
            "right": null,
            "top": null,
            "visibility": null,
            "width": null
          }
        },
        "ccc937ca1f7948b8b32c9b2576fee305": {
          "model_module": "@jupyter-widgets/base",
          "model_name": "LayoutModel",
          "model_module_version": "1.2.0",
          "state": {
            "_model_module": "@jupyter-widgets/base",
            "_model_module_version": "1.2.0",
            "_model_name": "LayoutModel",
            "_view_count": null,
            "_view_module": "@jupyter-widgets/base",
            "_view_module_version": "1.2.0",
            "_view_name": "LayoutView",
            "align_content": null,
            "align_items": null,
            "align_self": null,
            "border": null,
            "bottom": null,
            "display": null,
            "flex": null,
            "flex_flow": null,
            "grid_area": null,
            "grid_auto_columns": null,
            "grid_auto_flow": null,
            "grid_auto_rows": null,
            "grid_column": null,
            "grid_gap": null,
            "grid_row": null,
            "grid_template_areas": null,
            "grid_template_columns": null,
            "grid_template_rows": null,
            "height": null,
            "justify_content": null,
            "justify_items": null,
            "left": null,
            "margin": null,
            "max_height": null,
            "max_width": null,
            "min_height": null,
            "min_width": null,
            "object_fit": null,
            "object_position": null,
            "order": null,
            "overflow": null,
            "overflow_x": null,
            "overflow_y": null,
            "padding": null,
            "right": null,
            "top": null,
            "visibility": null,
            "width": null
          }
        },
        "f6be4fb0685f404aab0fec013520dc02": {
          "model_module": "@jupyter-widgets/controls",
          "model_name": "DescriptionStyleModel",
          "model_module_version": "1.5.0",
          "state": {
            "_model_module": "@jupyter-widgets/controls",
            "_model_module_version": "1.5.0",
            "_model_name": "DescriptionStyleModel",
            "_view_count": null,
            "_view_module": "@jupyter-widgets/base",
            "_view_module_version": "1.2.0",
            "_view_name": "StyleView",
            "description_width": ""
          }
        },
        "822a7b6255da40e5be0859577cff7fa8": {
          "model_module": "@jupyter-widgets/base",
          "model_name": "LayoutModel",
          "model_module_version": "1.2.0",
          "state": {
            "_model_module": "@jupyter-widgets/base",
            "_model_module_version": "1.2.0",
            "_model_name": "LayoutModel",
            "_view_count": null,
            "_view_module": "@jupyter-widgets/base",
            "_view_module_version": "1.2.0",
            "_view_name": "LayoutView",
            "align_content": null,
            "align_items": null,
            "align_self": null,
            "border": null,
            "bottom": null,
            "display": null,
            "flex": null,
            "flex_flow": null,
            "grid_area": null,
            "grid_auto_columns": null,
            "grid_auto_flow": null,
            "grid_auto_rows": null,
            "grid_column": null,
            "grid_gap": null,
            "grid_row": null,
            "grid_template_areas": null,
            "grid_template_columns": null,
            "grid_template_rows": null,
            "height": null,
            "justify_content": null,
            "justify_items": null,
            "left": null,
            "margin": null,
            "max_height": null,
            "max_width": null,
            "min_height": null,
            "min_width": null,
            "object_fit": null,
            "object_position": null,
            "order": null,
            "overflow": null,
            "overflow_x": null,
            "overflow_y": null,
            "padding": null,
            "right": null,
            "top": null,
            "visibility": null,
            "width": null
          }
        },
        "b96aab965d0b4a5787bd94a08a950ba4": {
          "model_module": "@jupyter-widgets/controls",
          "model_name": "ProgressStyleModel",
          "model_module_version": "1.5.0",
          "state": {
            "_model_module": "@jupyter-widgets/controls",
            "_model_module_version": "1.5.0",
            "_model_name": "ProgressStyleModel",
            "_view_count": null,
            "_view_module": "@jupyter-widgets/base",
            "_view_module_version": "1.2.0",
            "_view_name": "StyleView",
            "bar_color": null,
            "description_width": ""
          }
        },
        "7d6e3cea4280499f8d5c5a7559cc5a8e": {
          "model_module": "@jupyter-widgets/base",
          "model_name": "LayoutModel",
          "model_module_version": "1.2.0",
          "state": {
            "_model_module": "@jupyter-widgets/base",
            "_model_module_version": "1.2.0",
            "_model_name": "LayoutModel",
            "_view_count": null,
            "_view_module": "@jupyter-widgets/base",
            "_view_module_version": "1.2.0",
            "_view_name": "LayoutView",
            "align_content": null,
            "align_items": null,
            "align_self": null,
            "border": null,
            "bottom": null,
            "display": null,
            "flex": null,
            "flex_flow": null,
            "grid_area": null,
            "grid_auto_columns": null,
            "grid_auto_flow": null,
            "grid_auto_rows": null,
            "grid_column": null,
            "grid_gap": null,
            "grid_row": null,
            "grid_template_areas": null,
            "grid_template_columns": null,
            "grid_template_rows": null,
            "height": null,
            "justify_content": null,
            "justify_items": null,
            "left": null,
            "margin": null,
            "max_height": null,
            "max_width": null,
            "min_height": null,
            "min_width": null,
            "object_fit": null,
            "object_position": null,
            "order": null,
            "overflow": null,
            "overflow_x": null,
            "overflow_y": null,
            "padding": null,
            "right": null,
            "top": null,
            "visibility": null,
            "width": null
          }
        },
        "1adc66708b014b31a473c6efb4016568": {
          "model_module": "@jupyter-widgets/controls",
          "model_name": "DescriptionStyleModel",
          "model_module_version": "1.5.0",
          "state": {
            "_model_module": "@jupyter-widgets/controls",
            "_model_module_version": "1.5.0",
            "_model_name": "DescriptionStyleModel",
            "_view_count": null,
            "_view_module": "@jupyter-widgets/base",
            "_view_module_version": "1.2.0",
            "_view_name": "StyleView",
            "description_width": ""
          }
        },
        "e2e455f4f699464e803db6a253451922": {
          "model_module": "@jupyter-widgets/controls",
          "model_name": "HBoxModel",
          "model_module_version": "1.5.0",
          "state": {
            "_dom_classes": [],
            "_model_module": "@jupyter-widgets/controls",
            "_model_module_version": "1.5.0",
            "_model_name": "HBoxModel",
            "_view_count": null,
            "_view_module": "@jupyter-widgets/controls",
            "_view_module_version": "1.5.0",
            "_view_name": "HBoxView",
            "box_style": "",
            "children": [
              "IPY_MODEL_8b5533fe9d264894a3b4f874e5524589",
              "IPY_MODEL_6b9c9edcc9584443b4ffa2e3ccdbf1c6",
              "IPY_MODEL_bb17702d1c5f4ffaa13fe2fcc6f19b4c"
            ],
            "layout": "IPY_MODEL_031fbe892dee4961be303a8a5e27eee5"
          }
        },
        "8b5533fe9d264894a3b4f874e5524589": {
          "model_module": "@jupyter-widgets/controls",
          "model_name": "HTMLModel",
          "model_module_version": "1.5.0",
          "state": {
            "_dom_classes": [],
            "_model_module": "@jupyter-widgets/controls",
            "_model_module_version": "1.5.0",
            "_model_name": "HTMLModel",
            "_view_count": null,
            "_view_module": "@jupyter-widgets/controls",
            "_view_module_version": "1.5.0",
            "_view_name": "HTMLView",
            "description": "",
            "description_tooltip": null,
            "layout": "IPY_MODEL_f37a982ac6184b1a966f0a6bc1f46329",
            "placeholder": "​",
            "style": "IPY_MODEL_c16049c36b364cc7ba92f9ecb357e3a7",
            "value": "vocab.txt: "
          }
        },
        "6b9c9edcc9584443b4ffa2e3ccdbf1c6": {
          "model_module": "@jupyter-widgets/controls",
          "model_name": "FloatProgressModel",
          "model_module_version": "1.5.0",
          "state": {
            "_dom_classes": [],
            "_model_module": "@jupyter-widgets/controls",
            "_model_module_version": "1.5.0",
            "_model_name": "FloatProgressModel",
            "_view_count": null,
            "_view_module": "@jupyter-widgets/controls",
            "_view_module_version": "1.5.0",
            "_view_name": "ProgressView",
            "bar_style": "success",
            "description": "",
            "description_tooltip": null,
            "layout": "IPY_MODEL_4cff5551e4dc4290bfcf8fadece70966",
            "max": 1,
            "min": 0,
            "orientation": "horizontal",
            "style": "IPY_MODEL_1916e074062f4236bb2c921dbc048441",
            "value": 1
          }
        },
        "bb17702d1c5f4ffaa13fe2fcc6f19b4c": {
          "model_module": "@jupyter-widgets/controls",
          "model_name": "HTMLModel",
          "model_module_version": "1.5.0",
          "state": {
            "_dom_classes": [],
            "_model_module": "@jupyter-widgets/controls",
            "_model_module_version": "1.5.0",
            "_model_name": "HTMLModel",
            "_view_count": null,
            "_view_module": "@jupyter-widgets/controls",
            "_view_module_version": "1.5.0",
            "_view_name": "HTMLView",
            "description": "",
            "description_tooltip": null,
            "layout": "IPY_MODEL_78641e0e54544b49b3058a2a9c795b7c",
            "placeholder": "​",
            "style": "IPY_MODEL_c004ef822dff4dabab63406eeac3c14d",
            "value": " 210k/? [00:00&lt;00:00, 4.70MB/s]"
          }
        },
        "031fbe892dee4961be303a8a5e27eee5": {
          "model_module": "@jupyter-widgets/base",
          "model_name": "LayoutModel",
          "model_module_version": "1.2.0",
          "state": {
            "_model_module": "@jupyter-widgets/base",
            "_model_module_version": "1.2.0",
            "_model_name": "LayoutModel",
            "_view_count": null,
            "_view_module": "@jupyter-widgets/base",
            "_view_module_version": "1.2.0",
            "_view_name": "LayoutView",
            "align_content": null,
            "align_items": null,
            "align_self": null,
            "border": null,
            "bottom": null,
            "display": null,
            "flex": null,
            "flex_flow": null,
            "grid_area": null,
            "grid_auto_columns": null,
            "grid_auto_flow": null,
            "grid_auto_rows": null,
            "grid_column": null,
            "grid_gap": null,
            "grid_row": null,
            "grid_template_areas": null,
            "grid_template_columns": null,
            "grid_template_rows": null,
            "height": null,
            "justify_content": null,
            "justify_items": null,
            "left": null,
            "margin": null,
            "max_height": null,
            "max_width": null,
            "min_height": null,
            "min_width": null,
            "object_fit": null,
            "object_position": null,
            "order": null,
            "overflow": null,
            "overflow_x": null,
            "overflow_y": null,
            "padding": null,
            "right": null,
            "top": null,
            "visibility": null,
            "width": null
          }
        },
        "f37a982ac6184b1a966f0a6bc1f46329": {
          "model_module": "@jupyter-widgets/base",
          "model_name": "LayoutModel",
          "model_module_version": "1.2.0",
          "state": {
            "_model_module": "@jupyter-widgets/base",
            "_model_module_version": "1.2.0",
            "_model_name": "LayoutModel",
            "_view_count": null,
            "_view_module": "@jupyter-widgets/base",
            "_view_module_version": "1.2.0",
            "_view_name": "LayoutView",
            "align_content": null,
            "align_items": null,
            "align_self": null,
            "border": null,
            "bottom": null,
            "display": null,
            "flex": null,
            "flex_flow": null,
            "grid_area": null,
            "grid_auto_columns": null,
            "grid_auto_flow": null,
            "grid_auto_rows": null,
            "grid_column": null,
            "grid_gap": null,
            "grid_row": null,
            "grid_template_areas": null,
            "grid_template_columns": null,
            "grid_template_rows": null,
            "height": null,
            "justify_content": null,
            "justify_items": null,
            "left": null,
            "margin": null,
            "max_height": null,
            "max_width": null,
            "min_height": null,
            "min_width": null,
            "object_fit": null,
            "object_position": null,
            "order": null,
            "overflow": null,
            "overflow_x": null,
            "overflow_y": null,
            "padding": null,
            "right": null,
            "top": null,
            "visibility": null,
            "width": null
          }
        },
        "c16049c36b364cc7ba92f9ecb357e3a7": {
          "model_module": "@jupyter-widgets/controls",
          "model_name": "DescriptionStyleModel",
          "model_module_version": "1.5.0",
          "state": {
            "_model_module": "@jupyter-widgets/controls",
            "_model_module_version": "1.5.0",
            "_model_name": "DescriptionStyleModel",
            "_view_count": null,
            "_view_module": "@jupyter-widgets/base",
            "_view_module_version": "1.2.0",
            "_view_name": "StyleView",
            "description_width": ""
          }
        },
        "4cff5551e4dc4290bfcf8fadece70966": {
          "model_module": "@jupyter-widgets/base",
          "model_name": "LayoutModel",
          "model_module_version": "1.2.0",
          "state": {
            "_model_module": "@jupyter-widgets/base",
            "_model_module_version": "1.2.0",
            "_model_name": "LayoutModel",
            "_view_count": null,
            "_view_module": "@jupyter-widgets/base",
            "_view_module_version": "1.2.0",
            "_view_name": "LayoutView",
            "align_content": null,
            "align_items": null,
            "align_self": null,
            "border": null,
            "bottom": null,
            "display": null,
            "flex": null,
            "flex_flow": null,
            "grid_area": null,
            "grid_auto_columns": null,
            "grid_auto_flow": null,
            "grid_auto_rows": null,
            "grid_column": null,
            "grid_gap": null,
            "grid_row": null,
            "grid_template_areas": null,
            "grid_template_columns": null,
            "grid_template_rows": null,
            "height": null,
            "justify_content": null,
            "justify_items": null,
            "left": null,
            "margin": null,
            "max_height": null,
            "max_width": null,
            "min_height": null,
            "min_width": null,
            "object_fit": null,
            "object_position": null,
            "order": null,
            "overflow": null,
            "overflow_x": null,
            "overflow_y": null,
            "padding": null,
            "right": null,
            "top": null,
            "visibility": null,
            "width": "20px"
          }
        },
        "1916e074062f4236bb2c921dbc048441": {
          "model_module": "@jupyter-widgets/controls",
          "model_name": "ProgressStyleModel",
          "model_module_version": "1.5.0",
          "state": {
            "_model_module": "@jupyter-widgets/controls",
            "_model_module_version": "1.5.0",
            "_model_name": "ProgressStyleModel",
            "_view_count": null,
            "_view_module": "@jupyter-widgets/base",
            "_view_module_version": "1.2.0",
            "_view_name": "StyleView",
            "bar_color": null,
            "description_width": ""
          }
        },
        "78641e0e54544b49b3058a2a9c795b7c": {
          "model_module": "@jupyter-widgets/base",
          "model_name": "LayoutModel",
          "model_module_version": "1.2.0",
          "state": {
            "_model_module": "@jupyter-widgets/base",
            "_model_module_version": "1.2.0",
            "_model_name": "LayoutModel",
            "_view_count": null,
            "_view_module": "@jupyter-widgets/base",
            "_view_module_version": "1.2.0",
            "_view_name": "LayoutView",
            "align_content": null,
            "align_items": null,
            "align_self": null,
            "border": null,
            "bottom": null,
            "display": null,
            "flex": null,
            "flex_flow": null,
            "grid_area": null,
            "grid_auto_columns": null,
            "grid_auto_flow": null,
            "grid_auto_rows": null,
            "grid_column": null,
            "grid_gap": null,
            "grid_row": null,
            "grid_template_areas": null,
            "grid_template_columns": null,
            "grid_template_rows": null,
            "height": null,
            "justify_content": null,
            "justify_items": null,
            "left": null,
            "margin": null,
            "max_height": null,
            "max_width": null,
            "min_height": null,
            "min_width": null,
            "object_fit": null,
            "object_position": null,
            "order": null,
            "overflow": null,
            "overflow_x": null,
            "overflow_y": null,
            "padding": null,
            "right": null,
            "top": null,
            "visibility": null,
            "width": null
          }
        },
        "c004ef822dff4dabab63406eeac3c14d": {
          "model_module": "@jupyter-widgets/controls",
          "model_name": "DescriptionStyleModel",
          "model_module_version": "1.5.0",
          "state": {
            "_model_module": "@jupyter-widgets/controls",
            "_model_module_version": "1.5.0",
            "_model_name": "DescriptionStyleModel",
            "_view_count": null,
            "_view_module": "@jupyter-widgets/base",
            "_view_module_version": "1.2.0",
            "_view_name": "StyleView",
            "description_width": ""
          }
        },
        "70049f231d8c434699c0f99c36abb5d5": {
          "model_module": "@jupyter-widgets/controls",
          "model_name": "HBoxModel",
          "model_module_version": "1.5.0",
          "state": {
            "_dom_classes": [],
            "_model_module": "@jupyter-widgets/controls",
            "_model_module_version": "1.5.0",
            "_model_name": "HBoxModel",
            "_view_count": null,
            "_view_module": "@jupyter-widgets/controls",
            "_view_module_version": "1.5.0",
            "_view_name": "HBoxView",
            "box_style": "",
            "children": [
              "IPY_MODEL_a4e4d37076b9426b9825174752e08162",
              "IPY_MODEL_edb2abd8aa774f63b99ae94abb3cc564",
              "IPY_MODEL_3c39fd3ec5054135b60a4d79fe4d4076"
            ],
            "layout": "IPY_MODEL_f3eec9d0bc9946b599f7b9d98ebf93ec"
          }
        },
        "a4e4d37076b9426b9825174752e08162": {
          "model_module": "@jupyter-widgets/controls",
          "model_name": "HTMLModel",
          "model_module_version": "1.5.0",
          "state": {
            "_dom_classes": [],
            "_model_module": "@jupyter-widgets/controls",
            "_model_module_version": "1.5.0",
            "_model_name": "HTMLModel",
            "_view_count": null,
            "_view_module": "@jupyter-widgets/controls",
            "_view_module_version": "1.5.0",
            "_view_name": "HTMLView",
            "description": "",
            "description_tooltip": null,
            "layout": "IPY_MODEL_881329e00bdb4791a76ee0a60cac5f08",
            "placeholder": "​",
            "style": "IPY_MODEL_2d327a8f1ec147c4a331adb6cd1e8cfc",
            "value": "added_tokens.json: 100%"
          }
        },
        "edb2abd8aa774f63b99ae94abb3cc564": {
          "model_module": "@jupyter-widgets/controls",
          "model_name": "FloatProgressModel",
          "model_module_version": "1.5.0",
          "state": {
            "_dom_classes": [],
            "_model_module": "@jupyter-widgets/controls",
            "_model_module_version": "1.5.0",
            "_model_name": "FloatProgressModel",
            "_view_count": null,
            "_view_module": "@jupyter-widgets/controls",
            "_view_module_version": "1.5.0",
            "_view_name": "ProgressView",
            "bar_style": "success",
            "description": "",
            "description_tooltip": null,
            "layout": "IPY_MODEL_e96c0f96a64e4159ba211fefbb3d1a72",
            "max": 2,
            "min": 0,
            "orientation": "horizontal",
            "style": "IPY_MODEL_f4f9d3dcc05349a4a223b543fd0b2c70",
            "value": 2
          }
        },
        "3c39fd3ec5054135b60a4d79fe4d4076": {
          "model_module": "@jupyter-widgets/controls",
          "model_name": "HTMLModel",
          "model_module_version": "1.5.0",
          "state": {
            "_dom_classes": [],
            "_model_module": "@jupyter-widgets/controls",
            "_model_module_version": "1.5.0",
            "_model_name": "HTMLModel",
            "_view_count": null,
            "_view_module": "@jupyter-widgets/controls",
            "_view_module_version": "1.5.0",
            "_view_name": "HTMLView",
            "description": "",
            "description_tooltip": null,
            "layout": "IPY_MODEL_55f354a6d928426182c8cd3810c2744e",
            "placeholder": "​",
            "style": "IPY_MODEL_a3526afdc70840f483c26a39c247adb8",
            "value": " 2.00/2.00 [00:00&lt;00:00, 74.6B/s]"
          }
        },
        "f3eec9d0bc9946b599f7b9d98ebf93ec": {
          "model_module": "@jupyter-widgets/base",
          "model_name": "LayoutModel",
          "model_module_version": "1.2.0",
          "state": {
            "_model_module": "@jupyter-widgets/base",
            "_model_module_version": "1.2.0",
            "_model_name": "LayoutModel",
            "_view_count": null,
            "_view_module": "@jupyter-widgets/base",
            "_view_module_version": "1.2.0",
            "_view_name": "LayoutView",
            "align_content": null,
            "align_items": null,
            "align_self": null,
            "border": null,
            "bottom": null,
            "display": null,
            "flex": null,
            "flex_flow": null,
            "grid_area": null,
            "grid_auto_columns": null,
            "grid_auto_flow": null,
            "grid_auto_rows": null,
            "grid_column": null,
            "grid_gap": null,
            "grid_row": null,
            "grid_template_areas": null,
            "grid_template_columns": null,
            "grid_template_rows": null,
            "height": null,
            "justify_content": null,
            "justify_items": null,
            "left": null,
            "margin": null,
            "max_height": null,
            "max_width": null,
            "min_height": null,
            "min_width": null,
            "object_fit": null,
            "object_position": null,
            "order": null,
            "overflow": null,
            "overflow_x": null,
            "overflow_y": null,
            "padding": null,
            "right": null,
            "top": null,
            "visibility": null,
            "width": null
          }
        },
        "881329e00bdb4791a76ee0a60cac5f08": {
          "model_module": "@jupyter-widgets/base",
          "model_name": "LayoutModel",
          "model_module_version": "1.2.0",
          "state": {
            "_model_module": "@jupyter-widgets/base",
            "_model_module_version": "1.2.0",
            "_model_name": "LayoutModel",
            "_view_count": null,
            "_view_module": "@jupyter-widgets/base",
            "_view_module_version": "1.2.0",
            "_view_name": "LayoutView",
            "align_content": null,
            "align_items": null,
            "align_self": null,
            "border": null,
            "bottom": null,
            "display": null,
            "flex": null,
            "flex_flow": null,
            "grid_area": null,
            "grid_auto_columns": null,
            "grid_auto_flow": null,
            "grid_auto_rows": null,
            "grid_column": null,
            "grid_gap": null,
            "grid_row": null,
            "grid_template_areas": null,
            "grid_template_columns": null,
            "grid_template_rows": null,
            "height": null,
            "justify_content": null,
            "justify_items": null,
            "left": null,
            "margin": null,
            "max_height": null,
            "max_width": null,
            "min_height": null,
            "min_width": null,
            "object_fit": null,
            "object_position": null,
            "order": null,
            "overflow": null,
            "overflow_x": null,
            "overflow_y": null,
            "padding": null,
            "right": null,
            "top": null,
            "visibility": null,
            "width": null
          }
        },
        "2d327a8f1ec147c4a331adb6cd1e8cfc": {
          "model_module": "@jupyter-widgets/controls",
          "model_name": "DescriptionStyleModel",
          "model_module_version": "1.5.0",
          "state": {
            "_model_module": "@jupyter-widgets/controls",
            "_model_module_version": "1.5.0",
            "_model_name": "DescriptionStyleModel",
            "_view_count": null,
            "_view_module": "@jupyter-widgets/base",
            "_view_module_version": "1.2.0",
            "_view_name": "StyleView",
            "description_width": ""
          }
        },
        "e96c0f96a64e4159ba211fefbb3d1a72": {
          "model_module": "@jupyter-widgets/base",
          "model_name": "LayoutModel",
          "model_module_version": "1.2.0",
          "state": {
            "_model_module": "@jupyter-widgets/base",
            "_model_module_version": "1.2.0",
            "_model_name": "LayoutModel",
            "_view_count": null,
            "_view_module": "@jupyter-widgets/base",
            "_view_module_version": "1.2.0",
            "_view_name": "LayoutView",
            "align_content": null,
            "align_items": null,
            "align_self": null,
            "border": null,
            "bottom": null,
            "display": null,
            "flex": null,
            "flex_flow": null,
            "grid_area": null,
            "grid_auto_columns": null,
            "grid_auto_flow": null,
            "grid_auto_rows": null,
            "grid_column": null,
            "grid_gap": null,
            "grid_row": null,
            "grid_template_areas": null,
            "grid_template_columns": null,
            "grid_template_rows": null,
            "height": null,
            "justify_content": null,
            "justify_items": null,
            "left": null,
            "margin": null,
            "max_height": null,
            "max_width": null,
            "min_height": null,
            "min_width": null,
            "object_fit": null,
            "object_position": null,
            "order": null,
            "overflow": null,
            "overflow_x": null,
            "overflow_y": null,
            "padding": null,
            "right": null,
            "top": null,
            "visibility": null,
            "width": null
          }
        },
        "f4f9d3dcc05349a4a223b543fd0b2c70": {
          "model_module": "@jupyter-widgets/controls",
          "model_name": "ProgressStyleModel",
          "model_module_version": "1.5.0",
          "state": {
            "_model_module": "@jupyter-widgets/controls",
            "_model_module_version": "1.5.0",
            "_model_name": "ProgressStyleModel",
            "_view_count": null,
            "_view_module": "@jupyter-widgets/base",
            "_view_module_version": "1.2.0",
            "_view_name": "StyleView",
            "bar_color": null,
            "description_width": ""
          }
        },
        "55f354a6d928426182c8cd3810c2744e": {
          "model_module": "@jupyter-widgets/base",
          "model_name": "LayoutModel",
          "model_module_version": "1.2.0",
          "state": {
            "_model_module": "@jupyter-widgets/base",
            "_model_module_version": "1.2.0",
            "_model_name": "LayoutModel",
            "_view_count": null,
            "_view_module": "@jupyter-widgets/base",
            "_view_module_version": "1.2.0",
            "_view_name": "LayoutView",
            "align_content": null,
            "align_items": null,
            "align_self": null,
            "border": null,
            "bottom": null,
            "display": null,
            "flex": null,
            "flex_flow": null,
            "grid_area": null,
            "grid_auto_columns": null,
            "grid_auto_flow": null,
            "grid_auto_rows": null,
            "grid_column": null,
            "grid_gap": null,
            "grid_row": null,
            "grid_template_areas": null,
            "grid_template_columns": null,
            "grid_template_rows": null,
            "height": null,
            "justify_content": null,
            "justify_items": null,
            "left": null,
            "margin": null,
            "max_height": null,
            "max_width": null,
            "min_height": null,
            "min_width": null,
            "object_fit": null,
            "object_position": null,
            "order": null,
            "overflow": null,
            "overflow_x": null,
            "overflow_y": null,
            "padding": null,
            "right": null,
            "top": null,
            "visibility": null,
            "width": null
          }
        },
        "a3526afdc70840f483c26a39c247adb8": {
          "model_module": "@jupyter-widgets/controls",
          "model_name": "DescriptionStyleModel",
          "model_module_version": "1.5.0",
          "state": {
            "_model_module": "@jupyter-widgets/controls",
            "_model_module_version": "1.5.0",
            "_model_name": "DescriptionStyleModel",
            "_view_count": null,
            "_view_module": "@jupyter-widgets/base",
            "_view_module_version": "1.2.0",
            "_view_name": "StyleView",
            "description_width": ""
          }
        },
        "236bf6768e05400dbe4ffb0971c3420c": {
          "model_module": "@jupyter-widgets/controls",
          "model_name": "HBoxModel",
          "model_module_version": "1.5.0",
          "state": {
            "_dom_classes": [],
            "_model_module": "@jupyter-widgets/controls",
            "_model_module_version": "1.5.0",
            "_model_name": "HBoxModel",
            "_view_count": null,
            "_view_module": "@jupyter-widgets/controls",
            "_view_module_version": "1.5.0",
            "_view_name": "HBoxView",
            "box_style": "",
            "children": [
              "IPY_MODEL_c922099f3b1c430fb7b9cdb0d713ccd9",
              "IPY_MODEL_801046d4f8c846c0a1b5b42eee9b88ab",
              "IPY_MODEL_0bcbb9e903914cca99849e2b3a7cb397"
            ],
            "layout": "IPY_MODEL_a70a0e4ce409491893a7cfda31e3bf11"
          }
        },
        "c922099f3b1c430fb7b9cdb0d713ccd9": {
          "model_module": "@jupyter-widgets/controls",
          "model_name": "HTMLModel",
          "model_module_version": "1.5.0",
          "state": {
            "_dom_classes": [],
            "_model_module": "@jupyter-widgets/controls",
            "_model_module_version": "1.5.0",
            "_model_name": "HTMLModel",
            "_view_count": null,
            "_view_module": "@jupyter-widgets/controls",
            "_view_module_version": "1.5.0",
            "_view_name": "HTMLView",
            "description": "",
            "description_tooltip": null,
            "layout": "IPY_MODEL_5f67e90812904b5d99bf14325d584dd9",
            "placeholder": "​",
            "style": "IPY_MODEL_8c837563a0ec42c2bf0e466c8bfbc92a",
            "value": "special_tokens_map.json: 100%"
          }
        },
        "801046d4f8c846c0a1b5b42eee9b88ab": {
          "model_module": "@jupyter-widgets/controls",
          "model_name": "FloatProgressModel",
          "model_module_version": "1.5.0",
          "state": {
            "_dom_classes": [],
            "_model_module": "@jupyter-widgets/controls",
            "_model_module_version": "1.5.0",
            "_model_name": "FloatProgressModel",
            "_view_count": null,
            "_view_module": "@jupyter-widgets/controls",
            "_view_module_version": "1.5.0",
            "_view_name": "ProgressView",
            "bar_style": "success",
            "description": "",
            "description_tooltip": null,
            "layout": "IPY_MODEL_1e855c1e5a94437d9ba44ee4eb77681a",
            "max": 112,
            "min": 0,
            "orientation": "horizontal",
            "style": "IPY_MODEL_c2ed3dc8e108490ea9981d19212eb471",
            "value": 112
          }
        },
        "0bcbb9e903914cca99849e2b3a7cb397": {
          "model_module": "@jupyter-widgets/controls",
          "model_name": "HTMLModel",
          "model_module_version": "1.5.0",
          "state": {
            "_dom_classes": [],
            "_model_module": "@jupyter-widgets/controls",
            "_model_module_version": "1.5.0",
            "_model_name": "HTMLModel",
            "_view_count": null,
            "_view_module": "@jupyter-widgets/controls",
            "_view_module_version": "1.5.0",
            "_view_name": "HTMLView",
            "description": "",
            "description_tooltip": null,
            "layout": "IPY_MODEL_7b86f6a41d314f41be5e16f09cbcc0af",
            "placeholder": "​",
            "style": "IPY_MODEL_6320ab4652824df0a95a9352d6b928f3",
            "value": " 112/112 [00:00&lt;00:00, 3.21kB/s]"
          }
        },
        "a70a0e4ce409491893a7cfda31e3bf11": {
          "model_module": "@jupyter-widgets/base",
          "model_name": "LayoutModel",
          "model_module_version": "1.2.0",
          "state": {
            "_model_module": "@jupyter-widgets/base",
            "_model_module_version": "1.2.0",
            "_model_name": "LayoutModel",
            "_view_count": null,
            "_view_module": "@jupyter-widgets/base",
            "_view_module_version": "1.2.0",
            "_view_name": "LayoutView",
            "align_content": null,
            "align_items": null,
            "align_self": null,
            "border": null,
            "bottom": null,
            "display": null,
            "flex": null,
            "flex_flow": null,
            "grid_area": null,
            "grid_auto_columns": null,
            "grid_auto_flow": null,
            "grid_auto_rows": null,
            "grid_column": null,
            "grid_gap": null,
            "grid_row": null,
            "grid_template_areas": null,
            "grid_template_columns": null,
            "grid_template_rows": null,
            "height": null,
            "justify_content": null,
            "justify_items": null,
            "left": null,
            "margin": null,
            "max_height": null,
            "max_width": null,
            "min_height": null,
            "min_width": null,
            "object_fit": null,
            "object_position": null,
            "order": null,
            "overflow": null,
            "overflow_x": null,
            "overflow_y": null,
            "padding": null,
            "right": null,
            "top": null,
            "visibility": null,
            "width": null
          }
        },
        "5f67e90812904b5d99bf14325d584dd9": {
          "model_module": "@jupyter-widgets/base",
          "model_name": "LayoutModel",
          "model_module_version": "1.2.0",
          "state": {
            "_model_module": "@jupyter-widgets/base",
            "_model_module_version": "1.2.0",
            "_model_name": "LayoutModel",
            "_view_count": null,
            "_view_module": "@jupyter-widgets/base",
            "_view_module_version": "1.2.0",
            "_view_name": "LayoutView",
            "align_content": null,
            "align_items": null,
            "align_self": null,
            "border": null,
            "bottom": null,
            "display": null,
            "flex": null,
            "flex_flow": null,
            "grid_area": null,
            "grid_auto_columns": null,
            "grid_auto_flow": null,
            "grid_auto_rows": null,
            "grid_column": null,
            "grid_gap": null,
            "grid_row": null,
            "grid_template_areas": null,
            "grid_template_columns": null,
            "grid_template_rows": null,
            "height": null,
            "justify_content": null,
            "justify_items": null,
            "left": null,
            "margin": null,
            "max_height": null,
            "max_width": null,
            "min_height": null,
            "min_width": null,
            "object_fit": null,
            "object_position": null,
            "order": null,
            "overflow": null,
            "overflow_x": null,
            "overflow_y": null,
            "padding": null,
            "right": null,
            "top": null,
            "visibility": null,
            "width": null
          }
        },
        "8c837563a0ec42c2bf0e466c8bfbc92a": {
          "model_module": "@jupyter-widgets/controls",
          "model_name": "DescriptionStyleModel",
          "model_module_version": "1.5.0",
          "state": {
            "_model_module": "@jupyter-widgets/controls",
            "_model_module_version": "1.5.0",
            "_model_name": "DescriptionStyleModel",
            "_view_count": null,
            "_view_module": "@jupyter-widgets/base",
            "_view_module_version": "1.2.0",
            "_view_name": "StyleView",
            "description_width": ""
          }
        },
        "1e855c1e5a94437d9ba44ee4eb77681a": {
          "model_module": "@jupyter-widgets/base",
          "model_name": "LayoutModel",
          "model_module_version": "1.2.0",
          "state": {
            "_model_module": "@jupyter-widgets/base",
            "_model_module_version": "1.2.0",
            "_model_name": "LayoutModel",
            "_view_count": null,
            "_view_module": "@jupyter-widgets/base",
            "_view_module_version": "1.2.0",
            "_view_name": "LayoutView",
            "align_content": null,
            "align_items": null,
            "align_self": null,
            "border": null,
            "bottom": null,
            "display": null,
            "flex": null,
            "flex_flow": null,
            "grid_area": null,
            "grid_auto_columns": null,
            "grid_auto_flow": null,
            "grid_auto_rows": null,
            "grid_column": null,
            "grid_gap": null,
            "grid_row": null,
            "grid_template_areas": null,
            "grid_template_columns": null,
            "grid_template_rows": null,
            "height": null,
            "justify_content": null,
            "justify_items": null,
            "left": null,
            "margin": null,
            "max_height": null,
            "max_width": null,
            "min_height": null,
            "min_width": null,
            "object_fit": null,
            "object_position": null,
            "order": null,
            "overflow": null,
            "overflow_x": null,
            "overflow_y": null,
            "padding": null,
            "right": null,
            "top": null,
            "visibility": null,
            "width": null
          }
        },
        "c2ed3dc8e108490ea9981d19212eb471": {
          "model_module": "@jupyter-widgets/controls",
          "model_name": "ProgressStyleModel",
          "model_module_version": "1.5.0",
          "state": {
            "_model_module": "@jupyter-widgets/controls",
            "_model_module_version": "1.5.0",
            "_model_name": "ProgressStyleModel",
            "_view_count": null,
            "_view_module": "@jupyter-widgets/base",
            "_view_module_version": "1.2.0",
            "_view_name": "StyleView",
            "bar_color": null,
            "description_width": ""
          }
        },
        "7b86f6a41d314f41be5e16f09cbcc0af": {
          "model_module": "@jupyter-widgets/base",
          "model_name": "LayoutModel",
          "model_module_version": "1.2.0",
          "state": {
            "_model_module": "@jupyter-widgets/base",
            "_model_module_version": "1.2.0",
            "_model_name": "LayoutModel",
            "_view_count": null,
            "_view_module": "@jupyter-widgets/base",
            "_view_module_version": "1.2.0",
            "_view_name": "LayoutView",
            "align_content": null,
            "align_items": null,
            "align_self": null,
            "border": null,
            "bottom": null,
            "display": null,
            "flex": null,
            "flex_flow": null,
            "grid_area": null,
            "grid_auto_columns": null,
            "grid_auto_flow": null,
            "grid_auto_rows": null,
            "grid_column": null,
            "grid_gap": null,
            "grid_row": null,
            "grid_template_areas": null,
            "grid_template_columns": null,
            "grid_template_rows": null,
            "height": null,
            "justify_content": null,
            "justify_items": null,
            "left": null,
            "margin": null,
            "max_height": null,
            "max_width": null,
            "min_height": null,
            "min_width": null,
            "object_fit": null,
            "object_position": null,
            "order": null,
            "overflow": null,
            "overflow_x": null,
            "overflow_y": null,
            "padding": null,
            "right": null,
            "top": null,
            "visibility": null,
            "width": null
          }
        },
        "6320ab4652824df0a95a9352d6b928f3": {
          "model_module": "@jupyter-widgets/controls",
          "model_name": "DescriptionStyleModel",
          "model_module_version": "1.5.0",
          "state": {
            "_model_module": "@jupyter-widgets/controls",
            "_model_module_version": "1.5.0",
            "_model_name": "DescriptionStyleModel",
            "_view_count": null,
            "_view_module": "@jupyter-widgets/base",
            "_view_module_version": "1.2.0",
            "_view_name": "StyleView",
            "description_width": ""
          }
        }
      }
    }
  },
  "cells": [
    {
      "cell_type": "markdown",
      "metadata": {
        "id": "view-in-github",
        "colab_type": "text"
      },
      "source": [
        "<a href=\"https://colab.research.google.com/github/osmarbraz/sri/blob/main/3_2_Embeddings_BERT_Huggingface_v1.ipynb\" target=\"_parent\"><img src=\"https://colab.research.google.com/assets/colab-badge.svg\" alt=\"Open In Colab\"/></a>"
      ]
    },
    {
      "cell_type": "markdown",
      "metadata": {
        "id": "78HE8FLsKN9Q"
      },
      "source": [
        "#BERT Embeddings pt-br usando Transformers by HuggingFace\n",
        "\n",
        "\n",
        "Manipulação de embeddings de palavras e sentenças utilizando o BERT através da biblioteca HuggingFace com execução através do Google Colaboratory.<br>\n",
        "\n",
        "A biblioteca Transformers fornece APIs e ferramentas para baixar e treinar facilmente modelos pré-treinados de última geração. O uso de modelos pré-treinados pode reduzir seus custos de computação, emissão de carbono e economizar tempo e recursos necessários para treinar um modelo do zero.\n",
        "\n",
        "**Artigo BERT:**\n",
        "- http://mccormickml.com/2019/05/14/BERT-word-embeddings-tutorial/\n",
        "\n",
        "\n",
        "**Biblioteca Transformer HunggingFace:**\n",
        "- Github: https://github.com/huggingface/transformers\n",
        "- Documentação: https://huggingface.co/transformers/\n",
        "- Modelos: https://huggingface.co/models\n",
        "- Aplicativos: https://transformer.huggingface.co/\n",
        "\n",
        "**Artigos complementares:**\n",
        "- Artigo original BERT Jacob Devlin: https://arxiv.org/pdf/1506.06724.pdf"
      ]
    },
    {
      "cell_type": "markdown",
      "metadata": {
        "id": "dYapTjoYa0kO"
      },
      "source": [
        "# Introdução\n",
        "\n"
      ]
    },
    {
      "cell_type": "markdown",
      "metadata": {
        "id": "c8HDKzBai5dL"
      },
      "source": [
        "### História\n",
        "\n",
        "2018 foi um ano inovador na PNL. A transferência de aprendizado, particularmente modelos como o ELMO de Allen AI, o Open-GPT da OpenAI e o BERT do Google, permitiu que os pesquisadores quebrassem vários benchmarks com o mínimo de ajuste fino específico da tarefa e forneceu ao restante da comunidade da PNL modelos pré-treinados que poderiam facilmente (com menos dados) e menos tempo de computação) sejam ajustados e implementados para produzir resultados de última geração. Infelizmente, para muitos iniciantes na PNL e mesmo para alguns praticantes experientes, a teoria e a aplicação prática desses poderosos modelos ainda não são bem conhecidas.\n"
      ]
    },
    {
      "cell_type": "markdown",
      "metadata": {
        "id": "WoitNQMWA1bt"
      },
      "source": [
        "\n",
        "### O que é  BERT?\n",
        "\n",
        "O BERT (Representações de codificadores bidirecionais da Transformers), lançado no final de 2018, é o modelo que usaremos neste tutorial para fornecer aos leitores uma melhor compreensão e orientação prática para o uso de modelos de aprendizado de transferência na PNL. O BERT é um método de pré-treinamento de representações da linguagem que foi usado para criar modelos que os profissionais da PNL podem baixar e usar gratuitamente. Você pode usar esses modelos para extrair recursos de linguagem de alta qualidade dos dados de texto ou ajustá-los em uma tarefa específica (classificação, reconhecimento de entidade, resposta a perguntas etc.) com seus próprios dados para produzir o estado do previsões de arte."
      ]
    },
    {
      "cell_type": "markdown",
      "metadata": {
        "id": "q-dDVmXAA3At"
      },
      "source": [
        "### Porque BERT embeddings?\n",
        "\n",
        "Neste tutorial, usaremos o BERT para extrair recursos, como vetores de incorporação de palavras e sentenças, a partir de dados de texto. O que podemos fazer com esses vetores de incorporação de palavras e sentenças? Primeiro, essas incorporações são úteis para a expansão de palavras-chave / pesquisa, pesquisa semântica e recuperação de informações. Por exemplo, se você deseja comparar perguntas ou pesquisas do cliente com perguntas já respondidas ou pesquisas bem documentadas, essas representações o ajudarão a recuperar com precisão os resultados correspondentes à intenção e ao significado contextual do cliente, mesmo se não houver sobreposição de palavra-chave ou sentença.\n",
        "\n",
        "Segundo, e talvez mais importante, esses vetores são usados ​​como entradas de recursos de alta qualidade para modelos posteriores. Modelos de PNL, como LSTMs ou CNNs, exigem entradas na forma de vetores numéricos, e isso normalmente significa traduzir recursos como o vocabulário e partes do discurso em representações numéricas. No passado, as palavras eram representadas como valores indexados exclusivamente (codificação one-hot), ou mais útil como incorporação de palavras neurais em que as palavras do vocabulário são comparadas com as incorporação de recursos de comprimento fixo resultantes de modelos como Word2Vec ou Fasttext. O BERT oferece uma vantagem sobre modelos como o Word2Vec, porque, embora cada palavra tenha uma representação fixa no Word2Vec, independentemente do contexto em que a palavra aparece, o BERT produz representações de palavras que são dinamicamente informadas pelas palavras ao seu redor. Por exemplo, dadas duas sentenças:\n",
        "\n",
        "* \"The man was accused of robbing a bank.\"\n",
        "* \"The man went fishing by the bank of the river.\"\n",
        "\n",
        "traduzido(modificado)\n",
        "\n",
        "* \"O homem foi acusado de assaltar um banco.\"\n",
        "* \"O homem foi sentar no banco da praça.\"\n",
        "\n",
        "O Word2Vec produziria a mesma palavra incorporação para a palavra \"banco\" em ambas as sentenças, enquanto em BERT a palavra incorporação para \"banco\" seria diferente para cada sentença. Além de capturar diferenças óbvias como a polissemia, as inserções de palavras informadas pelo contexto capturam outras formas de informação que resultam em representações de recursos mais precisas, o que, por sua vez, resulta em melhor desempenho do modelo.\n",
        "\n",
        "Do ponto de vista educacional, um exame atento das combinações de palavras do BERT é uma boa maneira de se molhar com o BERT e sua família de modelos de aprendizado de transferência, além de estabelecer alguns conhecimentos e contextos práticos para entender melhor os detalhes internos do modelo em tutoriais posteriores.\n",
        "\n",
        "Avante!"
      ]
    },
    {
      "cell_type": "markdown",
      "metadata": {
        "id": "xyxb5Px3p1-e"
      },
      "source": [
        "## Preparação do ambiente\n",
        "Preparação do ambiente para análise e tratamento de perguntas"
      ]
    },
    {
      "cell_type": "markdown",
      "metadata": {
        "id": "iAPVtRXQqDim"
      },
      "source": [
        "###Tratamento de logs"
      ]
    },
    {
      "cell_type": "code",
      "metadata": {
        "id": "DcopxbGZqDip"
      },
      "source": [
        "# Biblioteca de logging\n",
        "import logging\n",
        "\n",
        "# Formatando a mensagem de logging\n",
        "logging.basicConfig(format='%(asctime)s : %(levelname)s : %(message)s', level=logging.INFO)"
      ],
      "execution_count": null,
      "outputs": []
    },
    {
      "cell_type": "markdown",
      "metadata": {
        "id": "_GjYtXcMnSAe"
      },
      "source": [
        "### Identificando o ambiente Colab"
      ]
    },
    {
      "cell_type": "code",
      "metadata": {
        "id": "YMiH0E3OnRa1"
      },
      "source": [
        "# Se estiver executando no Google Colaboratory\n",
        "import sys\n",
        "# Retorna true ou false se estiver no Google Colaboratory\n",
        "IN_COLAB = 'google.colab' in sys.modules"
      ],
      "execution_count": null,
      "outputs": []
    },
    {
      "cell_type": "markdown",
      "metadata": {
        "id": "Pqa-7WXBAw8q"
      },
      "source": [
        "# 1 Carregando BERT Pré-Treinado"
      ]
    },
    {
      "cell_type": "markdown",
      "metadata": {
        "id": "eCdqJCtQN52l"
      },
      "source": [
        "Instale a interface pytorch para o BERT by Hugging Face. (Esta biblioteca contém interfaces para outros modelos de linguagem pré-treinados, como o GPT e o GPT-2 da OpenAI.)\n",
        "\n",
        "Selecionamos a interface pytorch porque ela encontra um bom equilíbrio entre as APIs de alto nível (que são fáceis de usar, mas não fornecem informações sobre como as coisas funcionam) e o código do tensorflow (que contém muitos detalhes, mas muitas vezes nos desvia lições sobre o fluxo tensor, quando o objetivo aqui é o BERT!).\n",
        "\n",
        "Se você estiver executando esse código no Google Colab, precisará instalar esta biblioteca sempre que se reconectar; a célula a seguir cuidará disso para você."
      ]
    },
    {
      "cell_type": "code",
      "metadata": {
        "id": "1RfUN_KolV-f",
        "colab": {
          "base_uri": "https://localhost:8080/"
        },
        "outputId": "7199aa6f-cd20-4541-ffda-73456a90864b"
      },
      "source": [
        "# Instala a última versão da biblioteca\n",
        "##!pip install transformers\n",
        "\n",
        "# Instala uma versão específica da biblioteca\n",
        "!pip install -U transformers==4.49.0"
      ],
      "execution_count": null,
      "outputs": [
        {
          "output_type": "stream",
          "name": "stdout",
          "text": [
            "Collecting transformers==4.49.0\n",
            "  Downloading transformers-4.49.0-py3-none-any.whl.metadata (44 kB)\n",
            "\u001b[?25l     \u001b[90m━━━━━━━━━━━━━━━━━━━━━━━━━━━━━━━━━━━━━━━━\u001b[0m \u001b[32m0.0/44.0 kB\u001b[0m \u001b[31m?\u001b[0m eta \u001b[36m-:--:--\u001b[0m\r\u001b[2K     \u001b[90m━━━━━━━━━━━━━━━━━━━━━━━━━━━━━━━━━━━━━━━━\u001b[0m \u001b[32m44.0/44.0 kB\u001b[0m \u001b[31m2.7 MB/s\u001b[0m eta \u001b[36m0:00:00\u001b[0m\n",
            "\u001b[?25hRequirement already satisfied: filelock in /usr/local/lib/python3.11/dist-packages (from transformers==4.49.0) (3.18.0)\n",
            "Requirement already satisfied: huggingface-hub<1.0,>=0.26.0 in /usr/local/lib/python3.11/dist-packages (from transformers==4.49.0) (0.33.0)\n",
            "Requirement already satisfied: numpy>=1.17 in /usr/local/lib/python3.11/dist-packages (from transformers==4.49.0) (2.0.2)\n",
            "Requirement already satisfied: packaging>=20.0 in /usr/local/lib/python3.11/dist-packages (from transformers==4.49.0) (24.2)\n",
            "Requirement already satisfied: pyyaml>=5.1 in /usr/local/lib/python3.11/dist-packages (from transformers==4.49.0) (6.0.2)\n",
            "Requirement already satisfied: regex!=2019.12.17 in /usr/local/lib/python3.11/dist-packages (from transformers==4.49.0) (2024.11.6)\n",
            "Requirement already satisfied: requests in /usr/local/lib/python3.11/dist-packages (from transformers==4.49.0) (2.32.3)\n",
            "Requirement already satisfied: tokenizers<0.22,>=0.21 in /usr/local/lib/python3.11/dist-packages (from transformers==4.49.0) (0.21.2)\n",
            "Requirement already satisfied: safetensors>=0.4.1 in /usr/local/lib/python3.11/dist-packages (from transformers==4.49.0) (0.5.3)\n",
            "Requirement already satisfied: tqdm>=4.27 in /usr/local/lib/python3.11/dist-packages (from transformers==4.49.0) (4.67.1)\n",
            "Requirement already satisfied: fsspec>=2023.5.0 in /usr/local/lib/python3.11/dist-packages (from huggingface-hub<1.0,>=0.26.0->transformers==4.49.0) (2025.3.2)\n",
            "Requirement already satisfied: typing-extensions>=3.7.4.3 in /usr/local/lib/python3.11/dist-packages (from huggingface-hub<1.0,>=0.26.0->transformers==4.49.0) (4.14.0)\n",
            "Requirement already satisfied: hf-xet<2.0.0,>=1.1.2 in /usr/local/lib/python3.11/dist-packages (from huggingface-hub<1.0,>=0.26.0->transformers==4.49.0) (1.1.5)\n",
            "Requirement already satisfied: charset-normalizer<4,>=2 in /usr/local/lib/python3.11/dist-packages (from requests->transformers==4.49.0) (3.4.2)\n",
            "Requirement already satisfied: idna<4,>=2.5 in /usr/local/lib/python3.11/dist-packages (from requests->transformers==4.49.0) (3.10)\n",
            "Requirement already satisfied: urllib3<3,>=1.21.1 in /usr/local/lib/python3.11/dist-packages (from requests->transformers==4.49.0) (2.4.0)\n",
            "Requirement already satisfied: certifi>=2017.4.17 in /usr/local/lib/python3.11/dist-packages (from requests->transformers==4.49.0) (2025.6.15)\n",
            "Downloading transformers-4.49.0-py3-none-any.whl (10.0 MB)\n",
            "\u001b[2K   \u001b[90m━━━━━━━━━━━━━━━━━━━━━━━━━━━━━━━━━━━━━━━━\u001b[0m \u001b[32m10.0/10.0 MB\u001b[0m \u001b[31m45.3 MB/s\u001b[0m eta \u001b[36m0:00:00\u001b[0m\n",
            "\u001b[?25hInstalling collected packages: transformers\n",
            "  Attempting uninstall: transformers\n",
            "    Found existing installation: transformers 4.52.4\n",
            "    Uninstalling transformers-4.52.4:\n",
            "      Successfully uninstalled transformers-4.52.4\n",
            "Successfully installed transformers-4.49.0\n"
          ]
        }
      ]
    },
    {
      "cell_type": "markdown",
      "metadata": {
        "id": "JSXImOxMPdNg"
      },
      "source": [
        "\n",
        "Agora vamos importar pytorch, o modelo pré-treinado BERT e um tokenizer BERT. Explicaremos o modelo BERT em detalhes em um tutorial posterior, mas este é o modelo pré-treinado lançado pelo Google, que funcionou por muitas e muitas horas na Wikipedia e no [Book Corpus](https://arxiv.org/pdf/1506.06724.pdf), um conjunto de dados contendo 10.000 livros de diferentes gêneros. Esse modelo é responsável (com uma pequena modificação) por superar os benchmarks de PNL em várias tarefas. O Google lançou algumas variações dos modelos BERT, mas o que usaremos aqui é o menor dos dois tamanhos disponíveis (\"base\" e \"large\") e ignora o maiúscula e minúsculo, portanto, \"uncased\". \"\n",
        "\n",
        "Por default(`do_lower_case=True`) todas as letras são colocadas para minúsculas. Para ignorar a conversão para minúsculo use o parâmetro `do_lower_case=False`."
      ]
    },
    {
      "cell_type": "markdown",
      "source": [
        "## Parâmetros\n",
        "\n",
        "Parâmetros da execução do notebook."
      ],
      "metadata": {
        "id": "-02qtigR1Dmb"
      }
    },
    {
      "cell_type": "code",
      "source": [
        "# Inglês\n",
        "#MODELO_BERT = \"bert-large-cased\"\n",
        "#MODELO_BERT = \"bert-base-cased\"\n",
        "MODELO_BERT = \"neuralmind/bert-large-portuguese-cased\"\n",
        "\n",
        "# BERTimbau (pt-br)\n",
        "#MODELO_BERT = \"neuralmind/bert-base-portuguese-cased\"\n",
        "#MODELO_BERT = \"bert-base-multilingual-cased\"\n",
        "#MODELO_BERT = \"bert-base-multilingual-uncased\""
      ],
      "metadata": {
        "id": "2734mI5HfIbF"
      },
      "execution_count": null,
      "outputs": []
    },
    {
      "cell_type": "markdown",
      "source": [
        "## Carregando o modelo Pré-treinado BERT\n",
        "\n",
        "Lista de modelos da comunidade:\n",
        "* https://huggingface.co/models\n",
        "\n",
        "Português(https://github.com/neuralmind-ai/portuguese-bert):  \n",
        "* **\"neuralmind/bert-base-portuguese-cased\"**\n",
        "* **\"neuralmind/bert-large-portuguese-cased\"**"
      ],
      "metadata": {
        "id": "MBGTMy8Ic7GK"
      }
    },
    {
      "cell_type": "code",
      "source": [
        "# Import das bibliotecas\n",
        "from transformers import BertModel\n",
        "\n",
        "# Carrega o modelo\n",
        "model = BertModel.from_pretrained(MODELO_BERT,\n",
        "                                  output_attentions=False,\n",
        "                                  output_hidden_states=True)"
      ],
      "metadata": {
        "id": "sP07W-LLN8oS",
        "colab": {
          "base_uri": "https://localhost:8080/",
          "height": 220,
          "referenced_widgets": [
            "93933fca00d74e41a3ee9f42517e9e84",
            "de4a99dba2fe49119d871c01222f5a7c",
            "35a26f3e252d4de29708661b2b212069",
            "22793236296446ed940cbfe033bd7bfc",
            "addb5c27d7034a44acc4d59147b33229",
            "301f44e8d4944be28fe0d623c4bd25d4",
            "0f6a9e8ee23c40ca921ba4b8b342487b",
            "7e609398072c434698126ee9e0932e05",
            "99ce236101d5467babbe40387bec7282",
            "ef26f4fb2ef540549a7c9b2f1cba0d5c",
            "f4be756d80a74c6ca79345a437c17e27",
            "470ba6d3f6b94edab8d0830c7f99e3e4",
            "39b8de9884a6411b8eb4e5325098b1fe",
            "914a34bf62224599ba5412f0067f68b3",
            "5d0a1f7ae0914f3f99dc05f48f3490b8",
            "f49d8fd0353748ef96208e86468f53a2",
            "033bfec19a044d0a993c8f4e4cb68e52",
            "b173f7f1f49f42a393412e9a21f3ee2a",
            "df87580221f34ad6ba2a023bbc9de1fb",
            "1aff9091d0c146e3897e4700108803ae",
            "cc34239a8e374d838a6859baebfd5d4b",
            "1043322a04bb416d95d2e4f602cb79e4",
            "8cb3200bd26d423db8e9dfe1fe739a39",
            "bef5a420176944f380e15e056cea17cb",
            "55b89bc8d92340ccb2fc3caa6bfdb967",
            "2f4457afb52f4a29b413da0e45d570a8",
            "8cf4400e829947d2876309e6af11ae8a",
            "44c2161af81b4694938a5c912b94462a",
            "2fccba88f9e64b6ab02f14b20b5c21f1",
            "ad14615bc0af41f7a6bfef20274cb7ff",
            "528a562ba75542d693130bf0f3577823",
            "7a3f20075ac64a27b720dc16b3e22278",
            "e9fe708970544fbba9ffff5d9756683b"
          ]
        },
        "outputId": "8a254dea-4445-4e3e-941b-bc7a528ff295"
      },
      "execution_count": null,
      "outputs": [
        {
          "output_type": "stream",
          "name": "stderr",
          "text": [
            "/usr/local/lib/python3.11/dist-packages/huggingface_hub/utils/_auth.py:104: UserWarning: \n",
            "Error while fetching `HF_TOKEN` secret value from your vault: 'Requesting secret HF_TOKEN timed out. Secrets can only be fetched when running from the Colab UI.'.\n",
            "You are not authenticated with the Hugging Face Hub in this notebook.\n",
            "If the error persists, please let us know by opening an issue on GitHub (https://github.com/huggingface/huggingface_hub/issues/new).\n",
            "  warnings.warn(\n"
          ]
        },
        {
          "output_type": "display_data",
          "data": {
            "text/plain": [
              "config.json:   0%|          | 0.00/648 [00:00<?, ?B/s]"
            ],
            "application/vnd.jupyter.widget-view+json": {
              "version_major": 2,
              "version_minor": 0,
              "model_id": "93933fca00d74e41a3ee9f42517e9e84"
            }
          },
          "metadata": {}
        },
        {
          "output_type": "display_data",
          "data": {
            "text/plain": [
              "pytorch_model.bin:   0%|          | 0.00/1.34G [00:00<?, ?B/s]"
            ],
            "application/vnd.jupyter.widget-view+json": {
              "version_major": 2,
              "version_minor": 0,
              "model_id": "470ba6d3f6b94edab8d0830c7f99e3e4"
            }
          },
          "metadata": {}
        },
        {
          "output_type": "display_data",
          "data": {
            "text/plain": [
              "model.safetensors:   0%|          | 0.00/1.34G [00:00<?, ?B/s]"
            ],
            "application/vnd.jupyter.widget-view+json": {
              "version_major": 2,
              "version_minor": 0,
              "model_id": "8cb3200bd26d423db8e9dfe1fe739a39"
            }
          },
          "metadata": {}
        }
      ]
    },
    {
      "cell_type": "markdown",
      "source": [
        "## Carregando o tokenizador BERT"
      ],
      "metadata": {
        "id": "6tKcaIfReqdy"
      }
    },
    {
      "cell_type": "markdown",
      "source": [
        "O tokenizador (https://github.com/huggingface/tokenizers)  permite treinar diversos algoritmos tokenizer (Byte-level BPE, WordPiece, SentencePiece, etc.) com qualquer corpus.\n",
        "\n",
        "O tokenizador para o BERT utiliza WordPiece, veja em [artigo original](https://arxiv.org/pdf/1609.08144.pdf)."
      ],
      "metadata": {
        "id": "e8n7Z5s-QZF8"
      }
    },
    {
      "cell_type": "code",
      "source": [
        "# Import das bibliotecas\n",
        "from transformers import BertTokenizer\n",
        "\n",
        "# Carrega o tokenizador\n",
        "tokenizer = BertTokenizer.from_pretrained(MODELO_BERT,\n",
        "                                          do_lower_case=False)"
      ],
      "metadata": {
        "id": "IR3EocJGNRX-",
        "colab": {
          "base_uri": "https://localhost:8080/",
          "height": 145,
          "referenced_widgets": [
            "2325a6a9f3f7476b854b07cf2b185e61",
            "ee3a6166047b4dd39f3486875e5d53b1",
            "28ad2a1300be4af8b7f0707e5764d159",
            "ed630a65f8b64990a66b001887a15117",
            "02eb523431d745b4843ef61945b10d83",
            "ccc937ca1f7948b8b32c9b2576fee305",
            "f6be4fb0685f404aab0fec013520dc02",
            "822a7b6255da40e5be0859577cff7fa8",
            "b96aab965d0b4a5787bd94a08a950ba4",
            "7d6e3cea4280499f8d5c5a7559cc5a8e",
            "1adc66708b014b31a473c6efb4016568",
            "e2e455f4f699464e803db6a253451922",
            "8b5533fe9d264894a3b4f874e5524589",
            "6b9c9edcc9584443b4ffa2e3ccdbf1c6",
            "bb17702d1c5f4ffaa13fe2fcc6f19b4c",
            "031fbe892dee4961be303a8a5e27eee5",
            "f37a982ac6184b1a966f0a6bc1f46329",
            "c16049c36b364cc7ba92f9ecb357e3a7",
            "4cff5551e4dc4290bfcf8fadece70966",
            "1916e074062f4236bb2c921dbc048441",
            "78641e0e54544b49b3058a2a9c795b7c",
            "c004ef822dff4dabab63406eeac3c14d",
            "70049f231d8c434699c0f99c36abb5d5",
            "a4e4d37076b9426b9825174752e08162",
            "edb2abd8aa774f63b99ae94abb3cc564",
            "3c39fd3ec5054135b60a4d79fe4d4076",
            "f3eec9d0bc9946b599f7b9d98ebf93ec",
            "881329e00bdb4791a76ee0a60cac5f08",
            "2d327a8f1ec147c4a331adb6cd1e8cfc",
            "e96c0f96a64e4159ba211fefbb3d1a72",
            "f4f9d3dcc05349a4a223b543fd0b2c70",
            "55f354a6d928426182c8cd3810c2744e",
            "a3526afdc70840f483c26a39c247adb8",
            "236bf6768e05400dbe4ffb0971c3420c",
            "c922099f3b1c430fb7b9cdb0d713ccd9",
            "801046d4f8c846c0a1b5b42eee9b88ab",
            "0bcbb9e903914cca99849e2b3a7cb397",
            "a70a0e4ce409491893a7cfda31e3bf11",
            "5f67e90812904b5d99bf14325d584dd9",
            "8c837563a0ec42c2bf0e466c8bfbc92a",
            "1e855c1e5a94437d9ba44ee4eb77681a",
            "c2ed3dc8e108490ea9981d19212eb471",
            "7b86f6a41d314f41be5e16f09cbcc0af",
            "6320ab4652824df0a95a9352d6b928f3"
          ]
        },
        "outputId": "2d653691-c4f4-43f1-d858-9ef83b8f3cce"
      },
      "execution_count": null,
      "outputs": [
        {
          "output_type": "display_data",
          "data": {
            "text/plain": [
              "tokenizer_config.json:   0%|          | 0.00/155 [00:00<?, ?B/s]"
            ],
            "application/vnd.jupyter.widget-view+json": {
              "version_major": 2,
              "version_minor": 0,
              "model_id": "2325a6a9f3f7476b854b07cf2b185e61"
            }
          },
          "metadata": {}
        },
        {
          "output_type": "display_data",
          "data": {
            "text/plain": [
              "vocab.txt: 0.00B [00:00, ?B/s]"
            ],
            "application/vnd.jupyter.widget-view+json": {
              "version_major": 2,
              "version_minor": 0,
              "model_id": "e2e455f4f699464e803db6a253451922"
            }
          },
          "metadata": {}
        },
        {
          "output_type": "display_data",
          "data": {
            "text/plain": [
              "added_tokens.json:   0%|          | 0.00/2.00 [00:00<?, ?B/s]"
            ],
            "application/vnd.jupyter.widget-view+json": {
              "version_major": 2,
              "version_minor": 0,
              "model_id": "70049f231d8c434699c0f99c36abb5d5"
            }
          },
          "metadata": {}
        },
        {
          "output_type": "display_data",
          "data": {
            "text/plain": [
              "special_tokens_map.json:   0%|          | 0.00/112 [00:00<?, ?B/s]"
            ],
            "application/vnd.jupyter.widget-view+json": {
              "version_major": 2,
              "version_minor": 0,
              "model_id": "236bf6768e05400dbe4ffb0971c3420c"
            }
          },
          "metadata": {}
        }
      ]
    },
    {
      "cell_type": "markdown",
      "metadata": {
        "id": "Tlv3VlPnKKHN"
      },
      "source": [
        "# 2 Formatando a entrada\n",
        "\n",
        "Como o BERT é um modelo pré-treinado que espera dados de entrada em um formato específico, precisaremos:\n",
        "\n",
        "1. Um **token especial, `[SEP]`,** para marcar o final de uma sentença ou a separação entre duas sentenças\n",
        "2. Um **token especial, `[CLS]`,** no início do nosso texto. Este token é usado para tarefas de classificação, mas o BERT espera isso, não importa qual seja o seu aplicativo.\n",
        "3. Tokens que estão em conformidade com o vocabulário fixo usado em BERT\n",
        "4. Os **IDs de token** para os tokens, do tokenizer de BERT\n",
        "5. **Mask IDs** para indicar quais elementos na sequência são tokens e quais são elementos de preenchimento\n",
        "6. **IDs de segmento** usados ​​para distinguir sentenças diferentes\n",
        "7. **Embeddings posicionais** usados ​​para mostrar a posição do token dentro da sequência\n",
        "\n",
        "Felizmente, a interface `transformers` cuida de todos os requisitos acima (usando a função` tokenizer.encode_plus`).\n",
        "\n",
        "Uma vez que isso pretende ser uma introdução ao trabalho com BERT, no entanto, vamos realizar essas etapas de uma maneira (principalmente) manual.\n",
        "\n",
        "> * Para um exemplo de uso de `tokenizer.encode_plus`, consulte a próxima postagem sobre Classificação de sentenças [aqui](http://mccormickml.com/2019/07/22/BERT-fine-tuning/). *\n"
      ]
    },
    {
      "cell_type": "markdown",
      "metadata": {
        "id": "diVtyCJCurxJ"
      },
      "source": [
        "## 2.1. Tokens Especiais\n",
        "\n",
        "O BERT pode receber como entrada uma ou duas sentenças e usa o token especial `[SEP]` para diferenciá-las. O token `[CLS]` sempre aparece no início do texto e é específico para tarefas de classificação.\n",
        "\n",
        "Ambos os tokens são * sempre necessários *, no entanto, mesmo se tivermos apenas uma sentença, e mesmo se não estivermos usando BERT para classificação. Foi assim que o BERT foi pré-treinado, e é isso que o BERT espera ver.\n",
        "\n",
        "**Entrada de 2 sentenças**:\n",
        "\n",
        "`[CLS] O homem foi à loja. [SEP] Ele comprou um galão de leite.\n",
        "\n",
        "**Entrada de 1 sentença**:\n",
        "\n",
        "`[CLS] O homem foi à loja. [SEP] `\n",
        "\n"
      ]
    },
    {
      "cell_type": "markdown",
      "metadata": {
        "id": "3gsyrAwYvBfC"
      },
      "source": [
        "## 2.2. Tokenization"
      ]
    },
    {
      "cell_type": "markdown",
      "metadata": {
        "id": "2WafgQPLAWmo"
      },
      "source": [
        "O BERT fornece seu próprio tokenizer, que nós importamos acima. Vamos ver como ele lida com a sentença abaixo."
      ]
    },
    {
      "cell_type": "code",
      "metadata": {
        "id": "Pg0P9rFxJwwp",
        "colab": {
          "base_uri": "https://localhost:8080/",
          "height": 34
        },
        "outputId": "ab5567a2-9bba-4601-b77a-2c32c75f56c9"
      },
      "source": [
        "text = \"Aqui está uma sentença para a qual quero embeddings.\"\n",
        "texto_marcado = \"[CLS] \" + text + \" [SEP]\"\n",
        "\n",
        "# Tokeniza a sentença com o tokenizador BERT.\n",
        "texto_tokenizado = tokenizer.tokenize(texto_marcado)\n",
        "\n",
        "# Imprime os tokens.\n",
        "print (texto_tokenizado)"
      ],
      "execution_count": null,
      "outputs": [
        {
          "output_type": "stream",
          "name": "stdout",
          "text": [
            "['[CLS]', 'Aqui', 'está', 'uma', 'sentença', 'para', 'a', 'qual', 'quero', 'em', '##be', '##dd', '##ings', '.', '[SEP]']\n"
          ]
        }
      ]
    },
    {
      "cell_type": "markdown",
      "metadata": {
        "id": "Q51eN4KAkbIJ"
      },
      "source": [
        "Observe como a palavra \"embeddings\" é representada:\n",
        "\n",
        "`['em', '##be', '##dd', '##ings'] `\n",
        "\n",
        "A palavra original foi dividida em subpalavras e caracteres menores. Os dois sinais de hash que precedem algumas dessas subpalavras são apenas a maneira do nosso tokenizer de indicar que essa subpalavra ou caractere é parte de uma palavra maior e precedida por outra subpalavra. Portanto, por exemplo, o token '##be' é separado do token 'be'; o primeiro é usado sempre que a subpalavra 'be' ocorre em uma palavra maior e o segundo é explicitamente usado quando ocorre o token  'be'.\n",
        "\n",
        "Por que parece assim? Isso ocorre porque o tokenizer BERT foi criado com um modelo do WordPiece. Esse modelo cria avidamente um vocabulário de tamanho fixo de caracteres, subpalavras e palavras individuais que melhor se ajustam aos nossos dados de idioma. Como o tamanho limite do vocabulário do nosso modelo de tokenizador BERT é 30.000, o modelo WordPiece gerou um vocabulário que contém todos os caracteres em inglês, além das ~ 30.000 palavras e subpalavras mais comuns encontradas no corpus em que o modelo é treinado. Este vocabulário contém quatro coisas:\n",
        "\n",
        "1. Palavras inteiras\n",
        "2. As subpalavras que ocorrem na frente de uma palavra ou isoladamente (\"em\" como em \"incorporação\" recebem o mesmo vetor que a sequência autônoma de caracteres \"em\" como em \"vá buscar\")\n",
        "3. Subpalavras que não estão na frente de uma palavra, precedidas por '##' para denotar este caso\n",
        "4. Caracteres individuais\n",
        "\n",
        "Para tokenizar uma palavra nesse modelo, o tokenizador primeiro verifica se a palavra inteira está no vocabulário. Caso contrário, ele tenta dividir a palavra nas maiores subpalavras possíveis contidas no vocabulário e, como último recurso, decompõe a palavra em caracteres individuais. Observe que, por isso, sempre podemos representar uma palavra como, no mínimo, a coleção de seus caracteres individuais.\n",
        "\n",
        "Como resultado, em vez de atribuir palavras do vocabulário a um token genérico como 'OOV' ou 'UNK', palavras que não estão no vocabulário são decompostas em subpalavras e tokens de caracteres para os quais podemos gerar incorporações.\n",
        "\n",
        "Portanto, em vez de atribuir \"incorporações\" e todas as outras palavras do vocabulário a um token de vocabulário desconhecido sobrecarregado, dividimos em tokens de subpalavras ['em', '## bed', '## ding', '## s' ] que reterão parte do significado contextual da palavra original. Podemos até calcular a média desses vetores de incorporação de subpalavras para gerar um vetor aproximado para a palavra original.\n",
        "\n",
        "\n",
        "(Para obter mais informações sobre o WordPiece, consulte o [artigo original](https://static.googleusercontent.com/media/research.google.com/en//pubs/archive/37842.pdf) e mais perguntas sobre o sistema do Google [Neural Machine Translation System](https://arxiv.org/pdf/1609.08144.pdf).)\n"
      ]
    },
    {
      "cell_type": "markdown",
      "metadata": {
        "id": "jp5zXAPBVp82"
      },
      "source": [
        "Aqui estão alguns exemplos dos tokens contidos em nosso vocabulário. Os tokens iniciados com dois hashes são subpalavras ou caracteres individuais.\n",
        "\n",
        "*Para uma exploração do conteúdo do vocabulário do BERT, consulte [este notebook](https://colab.research.google.com/drive/1fCKIBJ6fgWQ-f6UKs7wDTpNTL9N-Cq9X) que criei e o vídeo do YouTube que o acompanha [aqui](https://youtu.be/zJW57aCBCTk).*"
      ]
    },
    {
      "cell_type": "code",
      "metadata": {
        "id": "1z1SzuTrqx-7",
        "colab": {
          "base_uri": "https://localhost:8080/"
        },
        "outputId": "bd894819-df6d-403d-a4a1-0df357accbb2"
      },
      "source": [
        "list(tokenizer.vocab.keys())[5000:5020]"
      ],
      "execution_count": null,
      "outputs": [
        {
          "output_type": "execute_result",
          "data": {
            "text/plain": [
              "['##ariam',\n",
              " 'castelo',\n",
              " '181',\n",
              " 'vê',\n",
              " '##nais',\n",
              " 'meios',\n",
              " 'ocasião',\n",
              " 'contempor',\n",
              " 'Assembleia',\n",
              " 'manu',\n",
              " 'coorden',\n",
              " '70',\n",
              " 'opin',\n",
              " '##erta',\n",
              " 'Dezembro',\n",
              " 'conteúdo',\n",
              " 'compositor',\n",
              " '##pole',\n",
              " '##1)',\n",
              " 'Pereira']"
            ]
          },
          "metadata": {},
          "execution_count": 8
        }
      ]
    },
    {
      "cell_type": "markdown",
      "metadata": {
        "id": "KqtNxrFCokxq"
      },
      "source": [
        "Quantidade de entradas no dicionário."
      ]
    },
    {
      "cell_type": "code",
      "metadata": {
        "id": "gOf7x3x-oceM",
        "colab": {
          "base_uri": "https://localhost:8080/"
        },
        "outputId": "319f63e2-77bc-4483-f299-b56997ad5c95"
      },
      "source": [
        "print(len(list(tokenizer.vocab.keys())))"
      ],
      "execution_count": null,
      "outputs": [
        {
          "output_type": "stream",
          "name": "stdout",
          "text": [
            "29794\n"
          ]
        }
      ]
    },
    {
      "cell_type": "markdown",
      "metadata": {
        "id": "HoF3LC47VgBb"
      },
      "source": [
        "Depois de dividir o texto em tokens, precisamos converter a sentença de uma lista de strings para uma lista de indeces de vocabulário.\n",
        "\n",
        "A partir daqui, usaremos a sentença de exemplo abaixo, que contém duas instâncias da palavra \"banco\" com significados diferentes."
      ]
    },
    {
      "cell_type": "code",
      "metadata": {
        "id": "XYjcYJuXoAQx",
        "colab": {
          "base_uri": "https://localhost:8080/"
        },
        "outputId": "984d84da-dbd8-4233-fb2d-b3e787fc0ec6"
      },
      "source": [
        "# Define um novo exemplo com múltiplos significados da palavra \"banco\"\n",
        "text = \"Depois de roubar o cofre do banco,\"\\\n",
        "       \" o ladrão de banco foi visto \" \\\n",
        "       \"sentado no banco da praça central.\"\n",
        "\n",
        "# Adiciona os tokens especiais.\n",
        "texto_marcado = \"[CLS] \" + text + \" [SEP]\"\n",
        "\n",
        "# Divide a sentença em tokens.\n",
        "texto_tokenizado = tokenizer.tokenize(texto_marcado)\n",
        "\n",
        "# Mapeia os tokens em seus índices do vocabuário\n",
        "tokens_indexado = tokenizer.convert_tokens_to_ids(texto_tokenizado)\n",
        "\n",
        "# Mostra as palavras com seus índices.\n",
        "for tup in zip(texto_tokenizado, tokens_indexado):\n",
        "    print('{:<12} {:>6,}'.format(tup[0], tup[1]))"
      ],
      "execution_count": null,
      "outputs": [
        {
          "output_type": "stream",
          "name": "stdout",
          "text": [
            "[CLS]           101\n",
            "Depois        1,603\n",
            "de              125\n",
            "roubar       16,150\n",
            "o               146\n",
            "co              144\n",
            "##fre         1,198\n",
            "do              171\n",
            "banco         6,465\n",
            ",               117\n",
            "o               146\n",
            "lad          13,503\n",
            "##rão         1,759\n",
            "de              125\n",
            "banco         6,465\n",
            "foi             262\n",
            "visto         3,382\n",
            "sentado      21,541\n",
            "no              202\n",
            "banco         6,465\n",
            "da              180\n",
            "praça         6,357\n",
            "central       2,692\n",
            ".               119\n",
            "[SEP]           102\n"
          ]
        }
      ]
    },
    {
      "cell_type": "markdown",
      "metadata": {
        "id": "if6C_iCULU60"
      },
      "source": [
        "## 2.3. Segmento ID / Attention Mask\n",
        "\n",
        "O BERT é treinado e espera pares de sentenças, usando 1s e 0s para distinguir entre as duas sentenças. Ou seja, para cada token em \"texto_tokenizado\", devemos especificar a qual sentença pertence: sentença 0 (uma série de 0s) ou sentença 1 (uma série de 1s). Para nossos propósitos, as entradas de sentença única requerem apenas uma série de 1s; portanto, criaremos um vetor de 1s para cada token em nossa sentença de entrada.\n",
        "\n",
        "Se você deseja processar duas sentenças, atribua cada palavra na primeira sentença mais o token '[SEP]' a 0 e todos os tokens da segunda sentença a 1."
      ]
    },
    {
      "cell_type": "code",
      "metadata": {
        "id": "u_jEkVKxJMc0",
        "colab": {
          "base_uri": "https://localhost:8080/"
        },
        "outputId": "6ccde2c4-2309-4dcf-e07e-8337b2710deb"
      },
      "source": [
        "# #Marca cada um dos tokens como pertencentes à sentença \"1\".\n",
        "# Cria um vetor com o tamanho da quantidade de tokens do texto preenchidos com 1.\n",
        "segmento_ids = [1] * len(texto_tokenizado)\n",
        "\n",
        "print (segmento_ids)\n",
        "print(len(segmento_ids))"
      ],
      "execution_count": null,
      "outputs": [
        {
          "output_type": "stream",
          "name": "stdout",
          "text": [
            "[1, 1, 1, 1, 1, 1, 1, 1, 1, 1, 1, 1, 1, 1, 1, 1, 1, 1, 1, 1, 1, 1, 1, 1, 1]\n",
            "25\n"
          ]
        }
      ]
    },
    {
      "cell_type": "markdown",
      "metadata": {
        "id": "c-nY9LASLr2L"
      },
      "source": [
        "# 3 Extraindo Embeddings\n",
        "\n"
      ]
    },
    {
      "cell_type": "markdown",
      "metadata": {
        "id": "_ZS_lTImjJnI"
      },
      "source": [
        "## 3.1. Rodando BERT no texto"
      ]
    },
    {
      "cell_type": "markdown",
      "metadata": {
        "id": "njDBQ036jHpc"
      },
      "source": [
        "Em seguida, precisamos converter nossos dados em tensores de tocha e chamar o modelo BERT. A interface BERT PyTorch exige que os dados estejam em tensores de tocha em vez de em listas Python; portanto, convertemos as listas aqui - isso não altera a forma ou os dados."
      ]
    },
    {
      "cell_type": "code",
      "metadata": {
        "id": "KitXPXHyZYHo"
      },
      "source": [
        "import torch\n",
        "\n",
        "# Converte as entradas para tensores PyTorch\n",
        "tokens_tensor = torch.tensor([tokens_indexado])\n",
        "segments_tensors = torch.tensor([segmento_ids])"
      ],
      "execution_count": null,
      "outputs": []
    },
    {
      "cell_type": "markdown",
      "metadata": {
        "id": "ZqBEJKQnvRo5"
      },
      "source": [
        "Chamar `from_pretrained` buscará o modelo na Internet. Quando carregamos o `bert-base-uncased`, vemos a definição do modelo impressa no log. O modelo é uma rede neural profunda com 12 camadas! Explicar as camadas e suas funções está fora do escopo desta postagem, e você pode pular essa saída por enquanto.\n",
        "\n",
        "\n",
        "model.eval () coloca nosso modelo no modo de avaliação em oposição ao modo de treinamento. Nesse caso, o modo de avaliação desativa a regularização de abandono, usada no treinamento."
      ]
    },
    {
      "cell_type": "markdown",
      "metadata": {
        "id": "MJDuKUs_vebA"
      },
      "source": [
        "**O carregamento do modelo foi realizado com o tokenizador anteriormente.**"
      ]
    },
    {
      "cell_type": "code",
      "metadata": {
        "id": "Iqg_AEnQxg4j",
        "colab": {
          "base_uri": "https://localhost:8080/"
        },
        "outputId": "ed722c19-1e78-4da0-a17c-c91f8b118913"
      },
      "source": [
        "# coloca o modelo em modo \"avaliação\", significando operação de feed-forward(retro-alimentação).\n",
        "model.eval()"
      ],
      "execution_count": null,
      "outputs": [
        {
          "output_type": "execute_result",
          "data": {
            "text/plain": [
              "BertModel(\n",
              "  (embeddings): BertEmbeddings(\n",
              "    (word_embeddings): Embedding(29794, 1024, padding_idx=0)\n",
              "    (position_embeddings): Embedding(512, 1024)\n",
              "    (token_type_embeddings): Embedding(2, 1024)\n",
              "    (LayerNorm): LayerNorm((1024,), eps=1e-12, elementwise_affine=True)\n",
              "    (dropout): Dropout(p=0.1, inplace=False)\n",
              "  )\n",
              "  (encoder): BertEncoder(\n",
              "    (layer): ModuleList(\n",
              "      (0-23): 24 x BertLayer(\n",
              "        (attention): BertAttention(\n",
              "          (self): BertSdpaSelfAttention(\n",
              "            (query): Linear(in_features=1024, out_features=1024, bias=True)\n",
              "            (key): Linear(in_features=1024, out_features=1024, bias=True)\n",
              "            (value): Linear(in_features=1024, out_features=1024, bias=True)\n",
              "            (dropout): Dropout(p=0.1, inplace=False)\n",
              "          )\n",
              "          (output): BertSelfOutput(\n",
              "            (dense): Linear(in_features=1024, out_features=1024, bias=True)\n",
              "            (LayerNorm): LayerNorm((1024,), eps=1e-12, elementwise_affine=True)\n",
              "            (dropout): Dropout(p=0.1, inplace=False)\n",
              "          )\n",
              "        )\n",
              "        (intermediate): BertIntermediate(\n",
              "          (dense): Linear(in_features=1024, out_features=4096, bias=True)\n",
              "          (intermediate_act_fn): GELUActivation()\n",
              "        )\n",
              "        (output): BertOutput(\n",
              "          (dense): Linear(in_features=4096, out_features=1024, bias=True)\n",
              "          (LayerNorm): LayerNorm((1024,), eps=1e-12, elementwise_affine=True)\n",
              "          (dropout): Dropout(p=0.1, inplace=False)\n",
              "        )\n",
              "      )\n",
              "    )\n",
              "  )\n",
              "  (pooler): BertPooler(\n",
              "    (dense): Linear(in_features=1024, out_features=1024, bias=True)\n",
              "    (activation): Tanh()\n",
              "  )\n",
              ")"
            ]
          },
          "metadata": {},
          "execution_count": 13
        }
      ]
    },
    {
      "cell_type": "markdown",
      "metadata": {
        "id": "OZ9TtnzDvpSV"
      },
      "source": [
        "Em seguida, vamos buscar os estados ocultos da rede.\n",
        "\n",
        "torch.no_grad desativa os cálculos de gradiente, economiza memória e acelera o cálculo (não precisamos de gradientes ou de retropaginação, pois estamos executando apenas um avanço)"
      ]
    },
    {
      "cell_type": "code",
      "metadata": {
        "id": "nN0QTZwiMzeq"
      },
      "source": [
        "# Roda o texto através do BERT, e coleta todos os estados ocultos produzidos\n",
        "# das 12 ou 24 camadas.\n",
        "with torch.no_grad():\n",
        "\n",
        "    outputs = model(tokens_tensor, segments_tensors)\n",
        "\n",
        "    # A avaliação do modelo retorna um número de diferentes objetos com base em\n",
        "    # como é configurado na chamada do método `from_pretrained` anterior. Nesse caso,\n",
        "    # porque definimos `output_hidden_states = True`, o terceiro item será o\n",
        "    # estados ocultos(hidden_states) de todas as camadas. Veja a documentação para mais detalhes:\n",
        "    # https://huggingface.co/transformers/model_doc/bert.html#bertmodel\n",
        "\n",
        "    # Retorno de model quando ´last_hidden_state=True´ é setado:\n",
        "    # outputs[0] = last_hidden_state, outputs[1] = pooler_output, outputs[2] = hidden_states\n",
        "\n",
        "    hidden_states = outputs[2]\n",
        "    last_hidden_state = outputs[0]"
      ],
      "execution_count": null,
      "outputs": []
    },
    {
      "cell_type": "markdown",
      "metadata": {
        "id": "UeQNEFbUgMSf"
      },
      "source": [
        "## 3.2. Entendendo a Saída\n",
        "\n",
        "O conjunto completo de estados ocultos para este modelo, armazenados no objeto `encoded_layers`, é um pouco estonteante. Este objeto tem quatro dimensões, na seguinte ordem: Na última versão do Transformer somente a última dimensão das camadas é mantida.\n",
        "\n",
        "1. O número da camada (camada de entrada mais 12  ou 24 camadas oculta)(somente a última está disponível quando o modelo receber o parâmetro ´output_hidden_states = False´)\n",
        "2. O número do lote (1 sentença)\n",
        "3. O número da palavra / token (22 tokens em nossa sentença)\n",
        "4. O número da unidade / recurso oculto (768 ou 1024 recursos)\n",
        "\n",
        "São 202.752 valores únicos apenas para representar nossa única sentença!\n",
        "\n",
        "A segunda dimensão, o tamanho do lote(batch size = 1), é usada ao enviar várias sentenças para o modelo de uma só vez; aqui, porém, temos apenas um exemplo de sentença."
      ]
    },
    {
      "cell_type": "code",
      "metadata": {
        "id": "fRPMNDwmut2C",
        "colab": {
          "base_uri": "https://localhost:8080/"
        },
        "outputId": "6b40c8dd-c943-4e90-9bba-c91ee6117b0b"
      },
      "source": [
        "print (\"Número de camadas:\", len(hidden_states), \"  (embeddings inicial + (12 ou 24) camadas do BERT)\")\n",
        "layer_i = 0\n",
        "\n",
        "print (\"Número de lotes(batches):\", len(hidden_states[layer_i]))\n",
        "batch_i = 0\n",
        "\n",
        "print (\"Número de tokens:\", len(hidden_states[layer_i][batch_i]))\n",
        "token_i = 0\n",
        "\n",
        "print (\"Número de unidades ocultas:\", len(hidden_states[layer_i][batch_i][token_i]))\n"
      ],
      "execution_count": null,
      "outputs": [
        {
          "output_type": "stream",
          "name": "stdout",
          "text": [
            "Número de camadas: 25   (embeddings inicial + (12 ou 24) camadas do BERT)\n",
            "Número de lotes(batches): 1\n",
            "Número de tokens: 25\n",
            "Número de unidades ocultas: 1024\n"
          ]
        }
      ]
    },
    {
      "cell_type": "markdown",
      "metadata": {
        "id": "6Uc_S_hmOWe7"
      },
      "source": [
        "Vamos dar uma rápida olhada no intervalo de valores para uma determinada camada e token.\n",
        "\n",
        "Você verá que o intervalo é bastante semelhante para todas as camadas e tokens, com a maioria dos valores variando entre \\[-2.5, 2.5\\] e um pequeno número de valores em torno de -10."
      ]
    },
    {
      "cell_type": "code",
      "metadata": {
        "id": "-UF_OAO-S1sP",
        "colab": {
          "base_uri": "https://localhost:8080/",
          "height": 847
        },
        "outputId": "68194dd3-e2be-460b-c9f5-6d9b879c83bc"
      },
      "source": [
        "# Import da biblioteca gráfica\n",
        "import matplotlib.pyplot as plt\n",
        "%matplotlib inline\n",
        "\n",
        "# Para o oitavo token na sentença, seleciona os valores das características da camada 5.\n",
        "layer_i = 5\n",
        "batch_i = 0\n",
        "token_i = 8\n",
        "vec = hidden_states[layer_i][batch_i][token_i]\n",
        "\n",
        "# Mostra as palavras com seu token_i\n",
        "print((texto_tokenizado[token_i], tokens_indexado[token_i]))\n",
        "\n",
        "# Desenha os valores como um histograma para mostrar sua distribuição\n",
        "plt.figure(figsize=(10,10))\n",
        "plt.hist(vec, bins=200)\n",
        "plt.show()"
      ],
      "execution_count": null,
      "outputs": [
        {
          "output_type": "stream",
          "name": "stdout",
          "text": [
            "('banco', 6465)\n"
          ]
        },
        {
          "output_type": "display_data",
          "data": {
            "text/plain": [
              "<Figure size 1000x1000 with 1 Axes>"
            ],
            "image/png": "[encoded data removed]"
          },
          "metadata": {}
        }
      ]
    },
    {
      "cell_type": "markdown",
      "metadata": {
        "id": "n194RcReDYfw"
      },
      "source": [
        "Agrupar os valores por camada faz sentido para o modelo, mas para nossos propósitos, queremos que ele seja agrupado por token.\n",
        "\n",
        "Dimensões atuais:\n",
        "\n",
        "`[# camadas, # lotes, # tokens, # características]`\n",
        "\n",
        "`[# layers, # batches, # tokens, # features]`\n",
        "\n",
        "Dimensões desejadas:\n",
        "\n",
        "`[# tokens, # camadas, # características]`\n",
        "\n",
        "`[# tokens, # layers, # features]`\n",
        "\n",
        "Felizmente, o PyTorch inclui a função `permute` para reorganizar facilmente as dimensões de um tensor.\n",
        "\n",
        "No entanto, a primeira dimensão é atualmente uma lista Python!\n"
      ]
    },
    {
      "cell_type": "code",
      "metadata": {
        "id": "0CcY_oRwcHlS",
        "colab": {
          "base_uri": "https://localhost:8080/"
        },
        "outputId": "30185cb5-548e-4039-f7c5-343cced52422"
      },
      "source": [
        "# `hidden_states` é uma lista  Python.\n",
        "print('           Tipo de estados ocultos: ', type(hidden_states))\n",
        "\n",
        "# Cada elemento na lista é um tensor torch.\n",
        "print('Formato do Tensor para cada camada: ', hidden_states[0].size())"
      ],
      "execution_count": null,
      "outputs": [
        {
          "output_type": "stream",
          "name": "stdout",
          "text": [
            "           Tipo de estados ocultos:  <class 'tuple'>\n",
            "Formato do Tensor para cada camada:  torch.Size([1, 25, 1024])\n"
          ]
        }
      ]
    },
    {
      "cell_type": "markdown",
      "metadata": {
        "id": "1yXZjLSke3F0"
      },
      "source": [
        "Vamos combinar as 12 camadas para fazer todo esse grande tensor."
      ]
    },
    {
      "cell_type": "code",
      "metadata": {
        "id": "pTJV8AFFcLbL",
        "colab": {
          "base_uri": "https://localhost:8080/"
        },
        "outputId": "93fbe2ae-5804-4d4e-d70f-d5d39ca411e6"
      },
      "source": [
        "# Concatena os tensores de todas as camadas. Usa o método `stack` para\n",
        "# criar uma nova dimensão no tensor.\n",
        "token_embeddings = torch.stack(hidden_states, dim=0)\n",
        "\n",
        "token_embeddings.size()"
      ],
      "execution_count": null,
      "outputs": [
        {
          "output_type": "execute_result",
          "data": {
            "text/plain": [
              "torch.Size([25, 1, 25, 1024])"
            ]
          },
          "metadata": {},
          "execution_count": 18
        }
      ]
    },
    {
      "cell_type": "markdown",
      "metadata": {
        "id": "rnBv2TUNhzf4"
      },
      "source": [
        "Vamos nos livrar da dimensão \"batches\", pois não precisamos dela."
      ]
    },
    {
      "cell_type": "code",
      "metadata": {
        "id": "En4JZ41fh6CI",
        "colab": {
          "base_uri": "https://localhost:8080/",
          "height": 34
        },
        "outputId": "d14bb209-2be6-4c46-d279-0948dd2c50c8"
      },
      "source": [
        "# Remove a dimensão 1, o lote \"batches\".\n",
        "# Usa o método 'squeeze' para remover a primeira dimensão(0) pois possui tamanho 1\n",
        "token_embeddings = torch.squeeze(token_embeddings, dim=1)\n",
        "\n",
        "token_embeddings.size()"
      ],
      "execution_count": null,
      "outputs": [
        {
          "output_type": "execute_result",
          "data": {
            "text/plain": [
              "torch.Size([25, 25, 1024])"
            ]
          },
          "metadata": {},
          "execution_count": 19
        }
      ]
    },
    {
      "cell_type": "markdown",
      "metadata": {
        "id": "gnZtWWaNwrZ-"
      },
      "source": [
        "Finalmente, podemos alternar as dimensões \"layers\" e \"tokens\" com `permute`."
      ]
    },
    {
      "cell_type": "code",
      "metadata": {
        "id": "rap1FosMwrsI",
        "colab": {
          "base_uri": "https://localhost:8080/"
        },
        "outputId": "0f244a14-e028-476b-c063-75c5f2c5a52f"
      },
      "source": [
        "# Troca a dimensão 0 e 1.\n",
        "token_embeddings = token_embeddings.permute(1,0,2)\n",
        "\n",
        "token_embeddings.size()"
      ],
      "execution_count": null,
      "outputs": [
        {
          "output_type": "execute_result",
          "data": {
            "text/plain": [
              "torch.Size([25, 25, 1024])"
            ]
          },
          "metadata": {},
          "execution_count": 20
        }
      ]
    },
    {
      "cell_type": "markdown",
      "metadata": {
        "id": "Ey5RhOQ7NGtz"
      },
      "source": [
        "## 3.3. Criando vetores de palavras e sentenças a partir de estados ocultos\n",
        "\n",
        "Agora, o que fazemos com esses estados ocultos? Gostaríamos de obter vetores individuais para cada um de nossos tokens, ou talvez uma única representação vetorial de toda a sentença, mas para cada token de nossa entrada, temos 12 vetores separados, cada um de comprimento 768.\n",
        "\n",
        "Para obter os vetores individuais, precisamos combinar alguns dos vetores de camada ... mas qual camada ou combinação de camadas fornece a melhor representação? Os autores do BERT testaram isso alimentando diferentes combinações de vetores como recursos de entrada para um BiLSTM usado em uma tarefa de reconhecimento de entidade nomeada e observando as pontuações F1 resultantes.\n",
        "\n",
        "(Imagem de [Jay Allamar](http://jalammar.github.io/illustrated-bert/)'s blog)\n",
        "\n",
        "\n",
        "![alt text](http://jalammar.github.io/images/bert-feature-extraction-contextualized-embeddings.png)\n",
        "\n",
        "Embora a concatenação das últimas quatro camadas tenha produzido os melhores resultados nessa tarefa específica, muitos dos outros métodos ocorrem em um segundo próximo e, em geral, é aconselhável testar versões diferentes para sua aplicação específica: os resultados podem variar.\n",
        "\n",
        "Isso é parcialmente demonstrado ao observar que as diferentes camadas do BERT codificam tipos muito diferentes de informações, portanto, a estratégia de pool apropriada será alterada dependendo do aplicativo, porque diferentes camadas codificam diferentes tipos de informações. A discussão de Hanxiao sobre esse tópico é relevante, assim como seus experimentos analisando as visualizações de diferentes camadas do PCA treinadas em um conjunto de dados de notícias e observando as diferenças nas quatro separações de classe das diferentes estratégias de agrupamento:\n",
        "\n",
        "(Imagens de [BERT-as-service](https://bert-as-service.readthedocs.io/en/latest/section/faq.html))\n",
        "\n",
        "![alt text](https://bert-as-service.readthedocs.io/en/latest/_images/pool_mean.png)\n",
        "![alt text](https://bert-as-service.readthedocs.io/en/latest/_images/pool_max.png)\n",
        "\n",
        "O resultado é que, novamente **, a estratégia de pool correta (média, max, concatenação etc.) e as camadas usadas (quatro últimas, todas, última camada etc.) dependem do aplicativo**. Essa discussão sobre estratégias de agrupamento se aplica tanto a inserções inteiras de sentenças quanto a inserções individuais de tokens semelhantes a ELMO.\n",
        "\n",
        "\n",
        "\n",
        "\n",
        "\n"
      ]
    },
    {
      "cell_type": "markdown",
      "metadata": {
        "id": "76TdtFH8NM9q"
      },
      "source": [
        "### Vetores de Palavras\n",
        "\n",
        "Para dar alguns exemplos, vamos criar vetores de palavras de duas maneiras.\n",
        "\n",
        "Primeiro, vamos **concatenar** as últimas quatro camadas, fornecendo um vetor de palavra única por token. Cada vetor terá o comprimento `4 x 768 = 3.072` ou `4 x 1024 = 4.096`."
      ]
    },
    {
      "cell_type": "markdown",
      "metadata": {
        "id": "6H60ix5cxhQ4"
      },
      "source": [
        "#### Concatenando os vetores de palavras"
      ]
    },
    {
      "cell_type": "code",
      "metadata": {
        "id": "84jBG23ixHdC",
        "colab": {
          "base_uri": "https://localhost:8080/"
        },
        "outputId": "e6dcaa9e-4549-4151-c29c-f3f824f61216"
      },
      "source": [
        "# Armazena um vetor de tokens, com o formato [25 x 4,096]\n",
        "token_vecs_cat = []\n",
        "\n",
        "# `token_embeddings` is a [25 x 13 x 768] ou [25 x 25 x 1024] tensor.\n",
        "\n",
        "# Para cada token na sentença...\n",
        "for token in token_embeddings:\n",
        "\n",
        "    # `token` é um tensor[13 x 768]\n",
        "\n",
        "    # Concatene os vetores (ou seja, juntando-os) a partir das quatro últimas\n",
        "    # Cada vetor da camada são 768 ou 1024 valores, então `cat_vec` é de tamanho 3,072 ou 4,096.\n",
        "    cat_vec = torch.cat((token[-1], token[-2], token[-3], token[-4]), dim=0)\n",
        "\n",
        "    # Usa `cat_vec` para representar `token`.\n",
        "    token_vecs_cat.append(cat_vec)\n",
        "\n",
        "print ('Formato é: %d x %d' % (len(token_vecs_cat), len(token_vecs_cat[0])))"
      ],
      "execution_count": null,
      "outputs": [
        {
          "output_type": "stream",
          "name": "stdout",
          "text": [
            "Formato é: 25 x 4096\n"
          ]
        }
      ]
    },
    {
      "cell_type": "markdown",
      "metadata": {
        "id": "ncmkq6_Zxm73"
      },
      "source": [
        "#### Somando os vetores de palavras"
      ]
    },
    {
      "cell_type": "markdown",
      "metadata": {
        "id": "VnWaByfelM-e"
      },
      "source": [
        "Como método alternativo, vamos tentar criar os vetores de palavras **somando/summing** juntas as últimas quatro camadas."
      ]
    },
    {
      "cell_type": "code",
      "metadata": {
        "id": "j4DKDtFwiF0S",
        "colab": {
          "base_uri": "https://localhost:8080/",
          "height": 34
        },
        "outputId": "d87dfcbc-02d2-4a2a-d5a5-797bec001a6f"
      },
      "source": [
        "# Armazena o vetor de tokens, com o formato [25 x 768] ou [25 x 1024]\n",
        "token_vecs_sum = []\n",
        "\n",
        "# `token_embeddings` é um tensor [25 x 12 x 768] ou [25 x 24 x 1024].\n",
        "\n",
        "# Para cada token na sentença...\n",
        "for token in token_embeddings:\n",
        "\n",
        "    # `token` é um tensor [12 x 768] ou [24 x 1024]\n",
        "\n",
        "    # Soma o vetor das últimas quatro camadas.\n",
        "    sum_vec = torch.sum(token[-4:], dim=0)\n",
        "\n",
        "    # Usa `sum_vec` para representar o `token`.\n",
        "    token_vecs_sum.append(sum_vec)\n",
        "\n",
        "print ('Formato é: %d x %d' % (len(token_vecs_sum), len(token_vecs_sum[0])))"
      ],
      "execution_count": null,
      "outputs": [
        {
          "output_type": "stream",
          "name": "stdout",
          "text": [
            "Formato é: 25 x 1024\n"
          ]
        }
      ]
    },
    {
      "cell_type": "markdown",
      "metadata": {
        "id": "mQaco6jRLkXn"
      },
      "source": [
        "### Gerando um vetores de embeddings para a sentenças(mean/média)\n",
        "\n",
        "Para obter um único vetor para toda a sentença, temos várias estratégias dependentes de aplicativos, mas uma abordagem simples é calcular a penúltima camada hiden de cada token, produzindo um único vetor de 768 ou 1024 de comprimento."
      ]
    },
    {
      "cell_type": "code",
      "metadata": {
        "id": "Zn0n2S-FWZih"
      },
      "source": [
        "# `hidden_states` tem o formato [13 x 1 x 22 x 768] ou [25 x 1 x 22 x 1024]\n",
        "\n",
        "# `token_vecs` é um tensor com o formato [22 x 768] ou [22 x 1024]\n",
        "token_vecs = hidden_states[-2][0]\n",
        "\n",
        "# Calcula a média de todos os 25 tokens do vetor.\n",
        "sentence_embedding = torch.mean(token_vecs, dim=0)"
      ],
      "execution_count": null,
      "outputs": []
    },
    {
      "cell_type": "code",
      "metadata": {
        "id": "MQv0FL8VWadn",
        "colab": {
          "base_uri": "https://localhost:8080/"
        },
        "outputId": "96908042-3f49-4abe-ad7e-3f3f2a01f328"
      },
      "source": [
        "print (\"Vetor de embedding da sentença tem o formato:\", sentence_embedding.size())"
      ],
      "execution_count": null,
      "outputs": [
        {
          "output_type": "stream",
          "name": "stdout",
          "text": [
            "Vetor de embedding da sentença tem o formato: torch.Size([1024])\n"
          ]
        }
      ]
    },
    {
      "cell_type": "markdown",
      "metadata": {
        "id": "TqYcrAipfE3E"
      },
      "source": [
        "## 3.4. Confirmando vetores dependentes do contexto\n",
        "\n",
        "Para confirmar que o valor desses vetores são de fato dependentes do contexto, vejamos as diferentes instâncias da palavra \"banco\" em nossa sentença de exemplo:\n",
        "\n",
        "\"Depois de roubar **dinheiro do banco**, o **ladrão de banco** foi visto sentado no **banco da praça** central.\"\n",
        "\n",
        "Vamos encontrar o índice dessas três instâncias da palavra \"banco\" na sentença de exemplo."
      ]
    },
    {
      "cell_type": "code",
      "metadata": {
        "id": "DNiRsEh9cmWz",
        "colab": {
          "base_uri": "https://localhost:8080/"
        },
        "outputId": "3a067d44-09a2-4406-ace5-861786e15e89"
      },
      "source": [
        "for i, token_str in enumerate(texto_tokenizado):\n",
        "  print (i, token_str)"
      ],
      "execution_count": null,
      "outputs": [
        {
          "output_type": "stream",
          "name": "stdout",
          "text": [
            "0 [CLS]\n",
            "1 Depois\n",
            "2 de\n",
            "3 roubar\n",
            "4 o\n",
            "5 co\n",
            "6 ##fre\n",
            "7 do\n",
            "8 banco\n",
            "9 ,\n",
            "10 o\n",
            "11 lad\n",
            "12 ##rão\n",
            "13 de\n",
            "14 banco\n",
            "15 foi\n",
            "16 visto\n",
            "17 sentado\n",
            "18 no\n",
            "19 banco\n",
            "20 da\n",
            "21 praça\n",
            "22 central\n",
            "23 .\n",
            "24 [SEP]\n"
          ]
        }
      ]
    },
    {
      "cell_type": "markdown",
      "metadata": {
        "id": "8j_5F0qfX_rv"
      },
      "source": [
        "As palavras estão em 8, 14 e 19.\n",
        "\n",
        "Para esta análise, usaremos os vetores de palavras da somados, concatenados e última camada.\n",
        "\n",
        "Podemos tentar imprimir seus vetores para compará-los."
      ]
    },
    {
      "cell_type": "markdown",
      "metadata": {
        "id": "kAOxurWOX5bi"
      },
      "source": [
        "### Somando"
      ]
    },
    {
      "cell_type": "markdown",
      "metadata": {
        "id": "2eJ9Dba9YSuu"
      },
      "source": [
        "#### Embeddings"
      ]
    },
    {
      "cell_type": "markdown",
      "metadata": {
        "id": "AEhBIA5RlS8-"
      },
      "source": [
        "\n",
        "\n",
        "base(arquivo/comunidade):\n",
        "* -\n",
        "\n",
        "large(arquivo/comunidade):\n",
        "* cofre do banco   tensor([ 0.1175,  0.2260, -1.7680, -1.4736, -4.0491])\n",
        "* ladrão de banco  tensor([ 0.2538,  1.6631, -2.2089, -0.5098, -5.3738])\n",
        "* banco da praça   tensor([ 0.3593,  4.1334, -0.1122, -1.5973, -3.6433])"
      ]
    },
    {
      "cell_type": "code",
      "metadata": {
        "id": "tBa6vRHknSkv",
        "colab": {
          "base_uri": "https://localhost:8080/",
          "height": 104
        },
        "outputId": "0c80fddc-c0a0-4864-ec1a-2c45e1d650d3"
      },
      "source": [
        "print('Os primeiro 5 valores do vetor para cada instância de \"banco\".')\n",
        "print('')\n",
        "print(\"cofre do banco  \", str(token_vecs_sum[8][:5]))\n",
        "print(\"ladrão de banco \", str(token_vecs_sum[14][:5]))\n",
        "print(\"banco da praça  \", str(token_vecs_sum[19][:5]))"
      ],
      "execution_count": null,
      "outputs": [
        {
          "output_type": "stream",
          "name": "stdout",
          "text": [
            "Os primeiro 5 valores do vetor para cada instância de \"banco\".\n",
            "\n",
            "cofre do banco   tensor([ 0.1175,  0.2260, -1.7680, -1.4736, -4.0491])\n",
            "ladrão de banco  tensor([ 0.2538,  1.6631, -2.2089, -0.5098, -5.3738])\n",
            "banco da praça   tensor([ 0.3593,  4.1334, -0.1122, -1.5973, -3.6433])\n"
          ]
        }
      ]
    },
    {
      "cell_type": "markdown",
      "metadata": {
        "id": "mhvNM7WKYXmb"
      },
      "source": [
        "#### Comparando"
      ]
    },
    {
      "cell_type": "markdown",
      "metadata": {
        "id": "Ca2TCQ_G7SM3"
      },
      "source": [
        "Podemos ver que os valores diferem, mas vamos calcular a semelhança de cosseno entre os vetores para fazer uma comparação mais precisa.\n",
        "\n",
        "base(arquivo/comunidade):\n",
        "* -\n",
        "\n",
        "large(arquivo/comunidade):\n",
        "* Vetor de similaridade para significados *diferentes*:  0.78\n",
        "* Vetor de similaridade para significados *similares*:  0.91\n",
        "* Vetor de similaridade para significados *diferentes*:  0.79"
      ]
    },
    {
      "cell_type": "code",
      "metadata": {
        "id": "eYXUwiG0yhBS",
        "colab": {
          "base_uri": "https://localhost:8080/"
        },
        "outputId": "ac2d289e-906b-442a-e3e5-fe53aab69b73"
      },
      "source": [
        "from scipy.spatial.distance import cosine\n",
        "\n",
        "# Calculate the cosine similarity between the word bank\n",
        "# in \"ladrão de banco\" vs \"banco da praça\" (different meanings).\n",
        "diferentes_bancos = 1 - cosine(token_vecs_sum[14], token_vecs_sum[19])\n",
        "\n",
        "print('Vetor de similaridade para significados *diferentes*:  %.2f' % diferentes_bancos)\n",
        "\n",
        "# Calculate the cosine similarity between the word bank\n",
        "# in \"ladrão de banco\" vs \"cofre do banco\" (same meaning).\n",
        "mesmo_banco = 1 - cosine(token_vecs_sum[14], token_vecs_sum[8])\n",
        "\n",
        "print('Vetor de similaridade para significados *similares*:  %.2f' % mesmo_banco)\n",
        "\n",
        "# Calculate the cosine similarity between the word bank\n",
        "# in \"cofre do banco\" vs \"banco da praça\" (different meanings).\n",
        "diferentes_bancos1 = 1 - cosine(token_vecs_sum[19], token_vecs_sum[8])\n",
        "\n",
        "print('Vetor de similaridade para significados *diferentes*:  %.2f' % diferentes_bancos1)"
      ],
      "execution_count": null,
      "outputs": [
        {
          "output_type": "stream",
          "name": "stdout",
          "text": [
            "Vetor de similaridade para significados *diferentes*:  0.78\n",
            "Vetor de similaridade para significados *similares*:  0.91\n",
            "Vetor de similaridade para significados *diferentes*:  0.79\n"
          ]
        }
      ]
    },
    {
      "cell_type": "markdown",
      "metadata": {
        "id": "R2eyI9dXYp5O"
      },
      "source": [
        "### Concatenando"
      ]
    },
    {
      "cell_type": "markdown",
      "metadata": {
        "id": "VCgf5fB0Yp5P"
      },
      "source": [
        "#### Embeddings"
      ]
    },
    {
      "cell_type": "markdown",
      "metadata": {
        "id": "eWSqLghiYp5Q"
      },
      "source": [
        "\n",
        "\n",
        "base(arquivo/comunidade):\n",
        "* -\n",
        "\n",
        "large(arquivo/comunidade):\n",
        "* cofre do banco   tensor([ 0.4261, -0.1251, -0.4406,  0.0736, -1.4059])\n",
        "* ladrão de banco  tensor([ 0.4835,  0.1447, -0.4306,  0.3436, -1.4682])\n",
        "* banco da praça   tensor([ 0.3631,  0.9212,  0.1919, -0.2493, -0.9418])"
      ]
    },
    {
      "cell_type": "code",
      "metadata": {
        "id": "N57qSw-LYp5Q",
        "colab": {
          "base_uri": "https://localhost:8080/"
        },
        "outputId": "0ee7a4f1-f410-4dcb-83c6-7e8d85931060"
      },
      "source": [
        "print('Os primeiro 5 valores do vetor para cada instância de \"banco\".')\n",
        "print('')\n",
        "print(\"cofre do banco  \", str(token_vecs_cat[8][:5]))\n",
        "print(\"ladrão de banco \", str(token_vecs_cat[14][:5]))\n",
        "print(\"banco da praça  \", str(token_vecs_cat[19][:5]))"
      ],
      "execution_count": null,
      "outputs": [
        {
          "output_type": "stream",
          "name": "stdout",
          "text": [
            "Os primeiro 5 valores do vetor para cada instância de \"banco\".\n",
            "\n",
            "cofre do banco   tensor([ 0.4261, -0.1251, -0.4406,  0.0736, -1.4059])\n",
            "ladrão de banco  tensor([ 0.4835,  0.1447, -0.4306,  0.3436, -1.4682])\n",
            "banco da praça   tensor([ 0.3631,  0.9212,  0.1919, -0.2493, -0.9418])\n"
          ]
        }
      ]
    },
    {
      "cell_type": "markdown",
      "metadata": {
        "id": "ECn-bOMFYp5U"
      },
      "source": [
        "#### Comparando"
      ]
    },
    {
      "cell_type": "markdown",
      "metadata": {
        "id": "nlucdv7XYp5V"
      },
      "source": [
        "Podemos ver que os valores diferem, mas vamos calcular a semelhança de cosseno entre os vetores para fazer uma comparação mais precisa.\n",
        "\n",
        "base(arquivo/comunidade):\n",
        "* -\n",
        "\n",
        "large(arquivo/comunidade):\n",
        "* Vetor de similaridade para significados *diferentes*:  0.77\n",
        "* Vetor de similaridade para significados *similares*:  0.90\n",
        "* Vetor de similaridade para significados *diferentes*:  0.77"
      ]
    },
    {
      "cell_type": "code",
      "metadata": {
        "id": "VbgzW7sLYp5V",
        "colab": {
          "base_uri": "https://localhost:8080/",
          "height": 69
        },
        "outputId": "2364965d-8512-49e3-9cdd-91c4a7ff8de2"
      },
      "source": [
        "from scipy.spatial.distance import cosine\n",
        "\n",
        "# Calculate the cosine similarity between the word bank\n",
        "# in \"ladrão de banco\" vs \"banco da praça\" (different meanings).\n",
        "diferentes_bancos = 1 - cosine(token_vecs_cat[14], token_vecs_cat[19])\n",
        "\n",
        "print('Vetor de similaridade para significados *diferentes*:  %.2f' % diferentes_bancos)\n",
        "\n",
        "# Calculate the cosine similarity between the word bank\n",
        "# in \"ladrão de banco\" vs \"cofre do banco\" (same meaning).\n",
        "mesmo_banco = 1 - cosine(token_vecs_cat[14], token_vecs_cat[8])\n",
        "\n",
        "print('Vetor de similaridade para significados *similares*:  %.2f' % mesmo_banco)\n",
        "\n",
        "# Calculate the cosine similarity between the word bank\n",
        "# in \"cofre do banco\" vs \"banco da praça\" (different meanings).\n",
        "diferentes_bancos1 = 1 - cosine(token_vecs_cat[19], token_vecs_cat[8])\n",
        "\n",
        "print('Vetor de similaridade para significados *diferentes*:  %.2f' % diferentes_bancos1)"
      ],
      "execution_count": null,
      "outputs": [
        {
          "output_type": "stream",
          "name": "stdout",
          "text": [
            "Vetor de similaridade para significados *diferentes*:  0.77\n",
            "Vetor de similaridade para significados *similares*:  0.90\n",
            "Vetor de similaridade para significados *diferentes*:  0.77\n"
          ]
        }
      ]
    },
    {
      "cell_type": "markdown",
      "metadata": {
        "id": "BMrH4kFHcU-b"
      },
      "source": [
        "### Última camada"
      ]
    },
    {
      "cell_type": "markdown",
      "metadata": {
        "id": "iv5HJvLicU-d"
      },
      "source": [
        "#### Embeddings"
      ]
    },
    {
      "cell_type": "markdown",
      "metadata": {
        "id": "BeRfcEYEcU-e"
      },
      "source": [
        "\n",
        "\n",
        "base(arquivo/comunidade):\n",
        "* -\n",
        "\n",
        "large(arquivo/comunidade):\n",
        "* cofre do banco   tensor([ 0.4261, -0.1251, -0.4406,  0.0736, -1.4059])\n",
        "* ladrão de banco  tensor([ 0.4835,  0.1447, -0.4306,  0.3436, -1.4682])\n",
        "* banco da praça   tensor([ 0.3631,  0.9212,  0.1919, -0.2493, -0.9418])"
      ]
    },
    {
      "cell_type": "code",
      "metadata": {
        "id": "pi-rvaWzckD5",
        "colab": {
          "base_uri": "https://localhost:8080/",
          "height": 52
        },
        "outputId": "ebea7079-202b-4462-d8a7-91bf104ec2b4"
      },
      "source": [
        "print(last_hidden_state.size())\n",
        "\n",
        "#Remove a dimensão de tamanho 1\n",
        "ultima_camada = last_hidden_state[0]\n",
        "\n",
        "print(ultima_camada.size())"
      ],
      "execution_count": null,
      "outputs": [
        {
          "output_type": "stream",
          "name": "stdout",
          "text": [
            "torch.Size([1, 25, 1024])\n",
            "torch.Size([25, 1024])\n"
          ]
        }
      ]
    },
    {
      "cell_type": "code",
      "metadata": {
        "id": "htmMqzKacU-h",
        "colab": {
          "base_uri": "https://localhost:8080/"
        },
        "outputId": "d45dc404-3358-49f6-f144-44858ab301a4"
      },
      "source": [
        "print('Os primeiro 5 valores do vetor para cada instância de \"banco\".')\n",
        "print('')\n",
        "print(\"cofre do banco  \", str(ultima_camada[8][:5]))\n",
        "print(\"ladrão de banco \", str(ultima_camada[14][:5]))\n",
        "print(\"banco da praça  \", str(ultima_camada[19][:5]))"
      ],
      "execution_count": null,
      "outputs": [
        {
          "output_type": "stream",
          "name": "stdout",
          "text": [
            "Os primeiro 5 valores do vetor para cada instância de \"banco\".\n",
            "\n",
            "cofre do banco   tensor([ 0.4261, -0.1251, -0.4406,  0.0736, -1.4059])\n",
            "ladrão de banco  tensor([ 0.4835,  0.1447, -0.4306,  0.3436, -1.4682])\n",
            "banco da praça   tensor([ 0.3631,  0.9212,  0.1919, -0.2493, -0.9418])\n"
          ]
        }
      ]
    },
    {
      "cell_type": "markdown",
      "metadata": {
        "id": "mleec1wkcU-n"
      },
      "source": [
        "#### Comparando"
      ]
    },
    {
      "cell_type": "markdown",
      "metadata": {
        "id": "XV-I3khjcU-o"
      },
      "source": [
        "Podemos ver que os valores diferem, mas vamos calcular a semelhança de cosseno entre os vetores para fazer uma comparação mais precisa.\n",
        "\n",
        "base(arquivo/comunidade):\n",
        "* -\n",
        "\n",
        "large(arquivo/comunidade):\n",
        "* Vetor de similaridade para significados *diferentes*:  0.78\n",
        "* Vetor de similaridade para significados *similares*:  0.92\n",
        "* Vetor de similaridade para significados *diferentes*:  0.77"
      ]
    },
    {
      "cell_type": "code",
      "metadata": {
        "id": "FYE5wvfBcU-p",
        "colab": {
          "base_uri": "https://localhost:8080/"
        },
        "outputId": "37b7fc20-a799-443e-d318-0489a02fd272"
      },
      "source": [
        "from scipy.spatial.distance import cosine\n",
        "\n",
        "# Calcule a similaridade de cosseno entre as palavras banco\n",
        "# Em \"ladrão de banco\" vs \"banco da praça\" (diferentes significados).\n",
        "diferentes_bancos = 1 - cosine(ultima_camada[14], ultima_camada[19])\n",
        "\n",
        "print('Vetor de similaridade para significados *diferentes*:  %.2f' % diferentes_bancos)\n",
        "\n",
        "# Calcule a similaridade de cosseno entre as palavras banco\n",
        "# Em \"ladrão de banco\" vs \"cofre do banco\" (mesmo significados).\n",
        "mesmo_banco = 1 - cosine(ultima_camada[14], ultima_camada[8])\n",
        "\n",
        "print('Vetor de similaridade para significados *similares*:  %.2f' % mesmo_banco)\n",
        "\n",
        "# Calcule a similaridade de cosseno entre as palavras banco\n",
        "# Em \"cofre do banco\" vs \"banco da praça\" (diferentes significados).\n",
        "diferentes_bancos1 = 1 - cosine(ultima_camada[19], ultima_camada[8])\n",
        "\n",
        "print('Vetor de similaridade para significados *diferentes*:  %.2f' % diferentes_bancos1)"
      ],
      "execution_count": null,
      "outputs": [
        {
          "output_type": "stream",
          "name": "stdout",
          "text": [
            "Vetor de similaridade para significados *diferentes*:  0.78\n",
            "Vetor de similaridade para significados *similares*:  0.92\n",
            "Vetor de similaridade para significados *diferentes*:  0.77\n"
          ]
        }
      ]
    },
    {
      "cell_type": "markdown",
      "metadata": {
        "id": "oU3wHzNUmmBP"
      },
      "source": [
        "## 3.5 Visualizando sentenças\n",
        "\n",
        "Aqui, queremos mostrar a conexão entre os tokens de uma sentença usando a incorporação do BERT. Plotamos as inserções dos tokens em um subespaço, onde (0,1) e (1,0) são os marcadores de partida [CLS] e [SEP] e marcadores finais e finais da sentença.\n",
        "\n",
        "Notebook original:\n",
        "https://colab.research.google.com/drive/1TCgnpIwsr6uK4cP0Gk1RCCQrFy6s3Xc1"
      ]
    },
    {
      "cell_type": "code",
      "metadata": {
        "id": "pm98RoojJcqP"
      },
      "source": [
        "# bibliotecas\n",
        "import numpy as np\n",
        "import torch\n",
        "\n",
        "import matplotlib.pyplot as plt\n",
        "%matplotlib inline"
      ],
      "execution_count": null,
      "outputs": []
    },
    {
      "cell_type": "markdown",
      "metadata": {
        "id": "CLHi3vgovIBC"
      },
      "source": [
        "Texto a ser plotado no gráfico."
      ]
    },
    {
      "cell_type": "code",
      "metadata": {
        "id": "5DcfcjX4vHPt"
      },
      "source": [
        "text = \"O céu está azul hoje.\""
      ],
      "execution_count": null,
      "outputs": []
    },
    {
      "cell_type": "markdown",
      "metadata": {
        "id": "4rnJlvkyxnvL"
      },
      "source": [
        "Adiciona os tokens especiais ao texto."
      ]
    },
    {
      "cell_type": "code",
      "metadata": {
        "id": "4Lqdc6QCyGxB"
      },
      "source": [
        "# Adiciona o token especial.\n",
        "texto_marcado = \"[CLS] \" + text + \" [SEP]\""
      ],
      "execution_count": null,
      "outputs": []
    },
    {
      "cell_type": "markdown",
      "metadata": {
        "id": "xGLIJgKOyF3L"
      },
      "source": [
        "Depois de adicionar os tokens especais precisamos dividir o texto em tokens, precisamos converter o texto de uma lista de strings para uma lista de indeces de vocabulário."
      ]
    },
    {
      "cell_type": "code",
      "metadata": {
        "id": "xRhwaiUJow5R",
        "colab": {
          "base_uri": "https://localhost:8080/"
        },
        "outputId": "b7af9c00-3294-42ce-e11b-77f4132ab6b8"
      },
      "source": [
        "# Divide a sentença em tokens.\n",
        "texto_tokenizado = tokenizer.tokenize(texto_marcado)\n",
        "\n",
        "# Mapeia os tokens em seus índices do vocabuário\n",
        "tokens_indexado = tokenizer.convert_tokens_to_ids(texto_tokenizado)\n",
        "\n",
        "# Mostra a sentença original.\n",
        "print('Texto: ', text)\n",
        "\n",
        "# Mostra as palavras com seus índices.\n",
        "for tup in zip(texto_tokenizado, tokens_indexado):\n",
        "    print('{:<12} {:>6,}'.format(tup[0], tup[1]))"
      ],
      "execution_count": null,
      "outputs": [
        {
          "output_type": "stream",
          "name": "stdout",
          "text": [
            "Texto:  O céu está azul hoje.\n",
            "[CLS]           101\n",
            "O               231\n",
            "céu           8,242\n",
            "está            698\n",
            "azul          5,580\n",
            "hoje          1,790\n",
            ".               119\n",
            "[SEP]           102\n"
          ]
        }
      ]
    },
    {
      "cell_type": "markdown",
      "metadata": {
        "id": "OuOHLchIvZHS"
      },
      "source": [
        "O BERT é treinado e espera pares de sentenças, usando 1s e 0s para distinguir entre as duas sentenças. Ou seja, para cada token em \"texto_tokenizado\", devemos especificar a qual sentença pertence: sentença 0 (uma série de 0s) ou sentença 1 (uma série de 1s). Para nossos propósitos, as entradas de sentença única requerem apenas uma série de 1s; portanto, criaremos um vetor de 1s para cada token em nossa sentença de entrada.\n",
        "\n",
        "Se você deseja processar duas sentenças, atribua cada palavra na primeira sentença mais o token '[SEP]' a 0 e todos os tokens da segunda sentença a 1."
      ]
    },
    {
      "cell_type": "code",
      "metadata": {
        "id": "dnF2dnuyv4SK",
        "colab": {
          "base_uri": "https://localhost:8080/"
        },
        "outputId": "878171c8-66d0-47dd-dcf5-1b260ab00eef"
      },
      "source": [
        "# Marca cada um dos tokens como pertencentes à sentença \"1\".\n",
        "segmento_ids = [1] * len(texto_tokenizado)\n",
        "\n",
        "print(segmento_ids)\n",
        "print(len(segmento_ids))"
      ],
      "execution_count": null,
      "outputs": [
        {
          "output_type": "stream",
          "name": "stdout",
          "text": [
            "[1, 1, 1, 1, 1, 1, 1, 1]\n",
            "8\n"
          ]
        }
      ]
    },
    {
      "cell_type": "markdown",
      "metadata": {
        "id": "BCWuOOeawDGL"
      },
      "source": [
        "Em seguida, precisamos converter nossos dados em tensores de tocha e chamar o modelo BERT. A interface BERT PyTorch exige que os dados estejam em tensores de tocha em vez de em listas Python; portanto, convertemos as listas aqui - isso não altera a forma ou os dados.\n"
      ]
    },
    {
      "cell_type": "code",
      "metadata": {
        "id": "E43gjZHnvZT6"
      },
      "source": [
        "# Converte a entrada em tensores PyTorch\n",
        "tokens_tensor = torch.tensor([tokens_indexado])\n",
        "segments_tensors = torch.tensor([segmento_ids])"
      ],
      "execution_count": null,
      "outputs": []
    },
    {
      "cell_type": "markdown",
      "metadata": {
        "id": "z-RkmCQ4xdFt"
      },
      "source": [
        "A função `model()` executa o texto através do BERT. Os resultados do processamento serão retornados para `outputs[2]` ou `hidden_states`."
      ]
    },
    {
      "cell_type": "code",
      "metadata": {
        "id": "84o7_OBhHUnC"
      },
      "source": [
        "# Roda o texto através do BERT, e coleta todos os estados ocultos produzidos\n",
        "# das 12 camadas.\n",
        "with torch.no_grad():\n",
        "\n",
        "    outputs = model(tokens_tensor, segments_tensors)\n",
        "\n",
        "    # A avaliação do modelo retorna um número de diferentes objetos com base em\n",
        "    # como é configurado na chamada do método `from_pretrained` anterior. Nesse caso,\n",
        "    # porque definimos `output_hidden_states = True`, o terceiro item será o\n",
        "    # estados ocultos(hidden_states) de todas as camadas. Veja a documentação para mais detalhes:\n",
        "    # https://huggingface.co/transformers/model_doc/bert.html#bertmodel\n",
        "\n",
        "    #Retorno de model quando ´last_hidden_state=True´ é setado:\n",
        "    #outputs[0] = last_hidden_state, outputs[1] = pooler_output, outputs[2] = hidden_states\n",
        "\n",
        "    hidden_states = outputs[0]"
      ],
      "execution_count": null,
      "outputs": []
    },
    {
      "cell_type": "markdown",
      "metadata": {
        "id": "kmhJIOAEz2qW"
      },
      "source": [
        "O conjunto completo saída para este modelo, armazenados no objeto `outputs`, é um pouco grande. Este objeto tem três dimensões, na seguinte ordem:\n",
        "\n",
        "* O número do lote (1 sentença)\n",
        "* O número de tokens (8 tokens)\n",
        "* O número da unidade / recurso oculto (768 recursos)\n",
        "\n",
        "A primeira dimensão, o tamanho do lote(batch size = 1), é usada ao enviar várias sentenças para o modelo de uma só vez; aqui, porém, temos apenas um exemplo de sentença.\n",
        "\n"
      ]
    },
    {
      "cell_type": "code",
      "metadata": {
        "id": "W2xX2U2VIkyu",
        "colab": {
          "base_uri": "https://localhost:8080/"
        },
        "outputId": "a4c156c0-023d-4fe5-e415-c69b221bc1f2"
      },
      "source": [
        "print (\"Número de lotes(batches):\", len(hidden_states))\n",
        "batch_i = 0\n",
        "\n",
        "print (\"Número de tokens:\", len(hidden_states[batch_i]))\n",
        "token_i = 0\n",
        "\n",
        "print (\"Número de unidades ocultas:\", len(hidden_states[batch_i][token_i]))"
      ],
      "execution_count": null,
      "outputs": [
        {
          "output_type": "stream",
          "name": "stdout",
          "text": [
            "Número de lotes(batches): 1\n",
            "Número de tokens: 8\n",
            "Número de unidades ocultas: 1024\n"
          ]
        }
      ]
    },
    {
      "cell_type": "markdown",
      "metadata": {
        "id": "ZNOpOuxuIy3B"
      },
      "source": [
        "Vamos nos livrar da dimensão \"batches\", pois não precisamos dela."
      ]
    },
    {
      "cell_type": "code",
      "metadata": {
        "id": "_oOlA_UBIy3C",
        "colab": {
          "base_uri": "https://localhost:8080/"
        },
        "outputId": "a2f77378-921d-4666-a178-16e076983588"
      },
      "source": [
        "# Remove a dimensão 1, o lote \"batches\".\n",
        "# O método squeeze remove a primeira dimensão(0) pois possui tamanho 1\n",
        "token_embeddings = torch.squeeze(hidden_states, dim=0)\n",
        "\n",
        "token_embeddings.size()"
      ],
      "execution_count": null,
      "outputs": [
        {
          "output_type": "execute_result",
          "data": {
            "text/plain": [
              "torch.Size([8, 1024])"
            ]
          },
          "metadata": {},
          "execution_count": 41
        }
      ]
    },
    {
      "cell_type": "markdown",
      "metadata": {
        "id": "qiGdS7E-8_Xn"
      },
      "source": [
        "Transforma  o vetor de embendings em um array."
      ]
    },
    {
      "cell_type": "code",
      "metadata": {
        "id": "LeU8KmhTkE3w"
      },
      "source": [
        "# Recupera o embeddings dos tokens como um vetor\n",
        "embeddings = token_embeddings.numpy()"
      ],
      "execution_count": null,
      "outputs": []
    },
    {
      "cell_type": "markdown",
      "metadata": {
        "id": "0Num26HX-Cjn"
      },
      "source": [
        "Base selecionada para que o [CLS] e o [SEP] passem para (0,1) e (1,0)"
      ]
    },
    {
      "cell_type": "code",
      "metadata": {
        "id": "A3NQwJSpm_Nj",
        "colab": {
          "base_uri": "https://localhost:8080/"
        },
        "outputId": "b18f4aa8-cb0e-41c7-8e09-acfc89275792"
      },
      "source": [
        "# Converte para um array\n",
        "W = np.array(embeddings)\n",
        "# Transforma em um array\n",
        "B = np.array([embeddings[0], embeddings[-1]])\n",
        "# Invert B.T\n",
        "Bi = np.linalg.pinv(B.T)\n",
        "\n",
        "print(W.shape)\n",
        "print(Bi.shape)"
      ],
      "execution_count": null,
      "outputs": [
        {
          "output_type": "stream",
          "name": "stdout",
          "text": [
            "(8, 1024)\n",
            "(2, 1024)\n"
          ]
        }
      ]
    },
    {
      "cell_type": "markdown",
      "metadata": {
        "id": "NApZ3iC6nxBQ"
      },
      "source": [
        "Projete os tokens da palavra no subespaço"
      ]
    },
    {
      "cell_type": "code",
      "metadata": {
        "id": "SE6mMG_cnLD3",
        "colab": {
          "base_uri": "https://localhost:8080/"
        },
        "outputId": "5f873093-e0b7-4092-e9c9-f9771012666b"
      },
      "source": [
        "Wp = np.matmul(Bi,W.T)\n",
        "\n",
        "print(Wp.shape)"
      ],
      "execution_count": null,
      "outputs": [
        {
          "output_type": "stream",
          "name": "stdout",
          "text": [
            "(2, 8)\n"
          ]
        }
      ]
    },
    {
      "cell_type": "markdown",
      "metadata": {
        "id": "a1sWy6RgAi5l"
      },
      "source": [
        "Plota o gráfico da sentença"
      ]
    },
    {
      "cell_type": "code",
      "metadata": {
        "id": "v8pdtKQPnFqJ",
        "colab": {
          "base_uri": "https://localhost:8080/"
        },
        "outputId": "49e80ad4-9c28-406b-dc99-354c9ea9b3ee"
      },
      "source": [
        "plt.figure(figsize=(12,7))\n",
        "plt.axhline(color='black')\n",
        "plt.axvline(color='black')\n",
        "plt.scatter(Wp[0,:], Wp[1,:], label=text)\n",
        "rX = max(Wp[0,:])-min(Wp[0,:])\n",
        "rY = max(Wp[1,:])-min(Wp[1,:])\n",
        "rM = max(rX, rY)\n",
        "eps = 0.005\n",
        "for i, txt in enumerate(texto_tokenizado):\n",
        "    plt.annotate(txt, (Wp[0,i]+rX*eps, Wp[1,i]+rX*eps))\n",
        "    if i>0:\n",
        "        plt.arrow(Wp[0,i-1],Wp[1,i-1], Wp[0,i]-Wp[0,i-1], Wp[1,i]-Wp[1,i-1], color='lightblue', head_length=rM*eps*3, head_width=rM*eps*2, length_includes_head=True)\n",
        "\n",
        "plt.legend()\n",
        "plt.show()"
      ],
      "execution_count": null,
      "outputs": [
        {
          "output_type": "display_data",
          "data": {
            "text/plain": [
              "<Figure size 1200x700 with 1 Axes>"
            ],
            "image/png": "[encoded data removed]"
          },
          "metadata": {}
        }
      ]
    },
    {
      "cell_type": "markdown",
      "metadata": {
        "id": "_Wqx3GzeE0y1"
      },
      "source": [
        "Vamos criar uma função com as etapas anteriores para gerar as coordenadas de plotagem a partir das sentenças!"
      ]
    },
    {
      "cell_type": "code",
      "metadata": {
        "id": "Pa_208U8-cMR"
      },
      "source": [
        "def get_visual_embs(text, modelbert):\n",
        "\n",
        "    # Adiciona os tokens especiais.\n",
        "    texto_marcado = \"[CLS] \" + text + \" [SEP]\"\n",
        "\n",
        "    # Divide a sentença em tokens.\n",
        "    texto_tokenizado = tokenizer.tokenize(texto_marcado)\n",
        "\n",
        "    # Mapeia cada string de token para seu índice no vocabulário.\n",
        "    # Mesmo que mode.encode mas com parâmetros\n",
        "    tokens_indexado = tokenizer.convert_tokens_to_ids(texto_tokenizado)\n",
        "\n",
        "    # Marque cada um dos tokens como pertencentes à sentença \"1\".\n",
        "    segmento_ids = [1] * len(texto_tokenizado)\n",
        "\n",
        "    # Convertar as entradas em Tensores PyTorch\n",
        "    tokens_tensor = torch.tensor([tokens_indexado])\n",
        "    segments_tensors = torch.tensor([segmento_ids])\n",
        "\n",
        "    # Prediz as características dos estados ocultos para cada camada\n",
        "    with torch.no_grad():\n",
        "\n",
        "        # A avaliação do modelo retorna um número de diferentes objetos com base em\n",
        "        # como é configurado na chamada do método `from_pretrained` anterior. Nesse caso,\n",
        "        # porque definimos `output_hidden_states = True`, o terceiro item será o\n",
        "        # estados ocultos(hidden_states) de todas as camadas. Veja a documentação para mais detalhes:\n",
        "        # https://huggingface.co/transformers/model_doc/bert.html#bertmodel\n",
        "\n",
        "        # Retorno de model quando ´last_hidden_state=True´ é setado:\n",
        "        # outputs[0] = last_hidden_state, outputs[1] = pooler_output, outputs[2] = hidden_states\n",
        "\n",
        "        outputs = modelbert(tokens_tensor, segments_tensors)\n",
        "\n",
        "        # última camada embedding\n",
        "        hidden_states = outputs[0]\n",
        "\n",
        "    # Remove a dimensão 1, os lotes(\"batches\").\n",
        "    token_embeddings = torch.squeeze(hidden_states, dim=0)\n",
        "\n",
        "    # Recupera os embeddings dos tokens como um array\n",
        "    embeddings = token_embeddings.numpy()\n",
        "\n",
        "    # Converte para um array\n",
        "    W = np.array(embeddings)\n",
        "    # Transforma em um array\n",
        "    B = np.array([embeddings[0], embeddings[-1]])\n",
        "    # Inverte B.T\n",
        "    Bi = np.linalg.pinv(B.T)\n",
        "\n",
        "    # Projta o token da palavra no subespaço\n",
        "    Wp = np.matmul(Bi,W.T)\n",
        "\n",
        "    return Wp, texto_tokenizado"
      ],
      "execution_count": null,
      "outputs": []
    },
    {
      "cell_type": "markdown",
      "metadata": {
        "id": "QlA3hB59E0y4"
      },
      "source": [
        "### Comparando sentenças\n",
        "\n",
        "Ok, vamos investigar em sentenças diferentes!"
      ]
    },
    {
      "cell_type": "markdown",
      "metadata": {
        "id": "lA2bi5FAE0y5"
      },
      "source": [
        "Vamos mudar uma palavra na sentença!"
      ]
    },
    {
      "cell_type": "code",
      "metadata": {
        "id": "1GluoV3NE0y5",
        "colab": {
          "base_uri": "https://localhost:8080/",
          "height": 634
        },
        "outputId": "3d978be7-1baf-4995-e230-f0dc0c7dd7af"
      },
      "source": [
        "sentences = ['O céu está azul hoje.', 'O mar está azul hoje.']\n",
        "colors = ['blue', 'red']\n",
        "\n",
        "plt.figure(figsize=(12,7))\n",
        "plt.axhline(color='black')\n",
        "plt.axvline(color='black')\n",
        "for n,s in enumerate(sentences):\n",
        "    Wp, tokens = get_visual_embs(s, model)\n",
        "    print(tokens)\n",
        "    plt.scatter(Wp[0,:], Wp[1,:], color=colors[n], marker='x', label=s)\n",
        "    rX = max(Wp[0,:])-min(Wp[0,:])\n",
        "    rY = max(Wp[1,:])-min(Wp[1,:])\n",
        "    rM = max(rX, rY)\n",
        "    eps = 0.005\n",
        "    eps2 = 0.005\n",
        "    for i, txt in enumerate(tokens):\n",
        "        if txt in ['[CLS]', '[SEP]']:\n",
        "            plt.annotate(txt, (Wp[0,i]+rX*eps, Wp[1,i]+rX*eps))\n",
        "        if txt == 'céu':\n",
        "            plt.annotate(txt, (Wp[0,i]+rX*eps*-6, Wp[1,i]+rX*eps*3))\n",
        "        if txt == 'mar':\n",
        "            plt.annotate(txt, (Wp[0,i]+rX*eps*2, Wp[1,i]+rX*eps*3))\n",
        "        if i>0:\n",
        "            plt.arrow(Wp[0,i-1],Wp[1,i-1], Wp[0,i]-Wp[0,i-1], Wp[1,i]-Wp[1,i-1], color=colors[n], head_length=rM*eps2*4, head_width=rM*eps2*2, length_includes_head=True)\n",
        "plt.legend()\n",
        "plt.show()"
      ],
      "execution_count": null,
      "outputs": [
        {
          "output_type": "stream",
          "name": "stdout",
          "text": [
            "['[CLS]', 'O', 'céu', 'está', 'azul', 'hoje', '.', '[SEP]']\n",
            "['[CLS]', 'O', 'mar', 'está', 'azul', 'hoje', '.', '[SEP]']\n"
          ]
        },
        {
          "output_type": "display_data",
          "data": {
            "text/plain": [
              "<Figure size 1200x700 with 1 Axes>"
            ],
            "image/png": "[encoded data removed]"
          },
          "metadata": {}
        }
      ]
    },
    {
      "cell_type": "markdown",
      "metadata": {
        "id": "AJSnhX1MSESO"
      },
      "source": [
        "Agora, vamos mudar o tempo da sentença!"
      ]
    },
    {
      "cell_type": "code",
      "metadata": {
        "id": "Ktayi_vq19SW",
        "colab": {
          "base_uri": "https://localhost:8080/",
          "height": 651
        },
        "outputId": "de8a7d92-4f39-4471-9414-716519f6ec75"
      },
      "source": [
        "sentences = ['Isto é uma ideia horrível!', 'Isto foi uma ideia horrível!', 'Isto seria uma ideia horrível!']\n",
        "colors = ['blue', 'red', 'green']\n",
        "\n",
        "plt.figure(figsize=(12,7))\n",
        "plt.axhline(color='black')\n",
        "plt.axvline(color='black')\n",
        "for n,s in enumerate(sentences):\n",
        "    Wp, tokens = get_visual_embs(s, model)\n",
        "    print(tokens)\n",
        "    plt.scatter(Wp[0,:], Wp[1,:], color=colors[n], marker='x', label=s)\n",
        "    rX = max(Wp[0,:])-min(Wp[0,:])\n",
        "    rY = max(Wp[1,:])-min(Wp[1,:])\n",
        "    rM = max(rX, rY)\n",
        "    eps = 0.005\n",
        "    eps2 = 0.005\n",
        "    for i, txt in enumerate(tokens):\n",
        "        if txt in ['[CLS]', '[SEP]']:\n",
        "            plt.annotate(txt, (Wp[0,i]+rX*eps, Wp[1,i]+rX*eps))\n",
        "        #plt.annotate(txt, (Wp[0,i]+rX*eps, Wp[1,i]+rX*eps))\n",
        "        if i>0:\n",
        "            plt.arrow(Wp[0,i-1],Wp[1,i-1], Wp[0,i]-Wp[0,i-1], Wp[1,i]-Wp[1,i-1], color=colors[n], head_length=rM*eps2*4, head_width=rM*eps2*2, length_includes_head=True)\n",
        "plt.legend()\n",
        "plt.show()"
      ],
      "execution_count": null,
      "outputs": [
        {
          "output_type": "stream",
          "name": "stdout",
          "text": [
            "['[CLS]', 'Isto', 'é', 'uma', 'ideia', 'hor', '##rível', '!', '[SEP]']\n",
            "['[CLS]', 'Isto', 'foi', 'uma', 'ideia', 'hor', '##rível', '!', '[SEP]']\n",
            "['[CLS]', 'Isto', 'seria', 'uma', 'ideia', 'hor', '##rível', '!', '[SEP]']\n"
          ]
        },
        {
          "output_type": "display_data",
          "data": {
            "text/plain": [
              "<Figure size 1200x700 with 1 Axes>"
            ],
            "image/png": "[encoded data removed]"
          },
          "metadata": {}
        }
      ]
    },
    {
      "cell_type": "markdown",
      "metadata": {
        "id": "URlEgXkwSIJ4"
      },
      "source": [
        "Caracteres de pontuação?"
      ]
    },
    {
      "cell_type": "code",
      "metadata": {
        "id": "DqiW1pItKg9o",
        "colab": {
          "base_uri": "https://localhost:8080/",
          "height": 651
        },
        "outputId": "dcc5f9f4-56fe-4f4b-d1c3-12da8e8a3b74"
      },
      "source": [
        "sentences = ['Isto é uma ideia horrível.', 'Isto é uma ideia horrível!', 'Isto é uma ideia horrível?']\n",
        "colors = ['blue', 'red', 'green', 'yellow']\n",
        "\n",
        "plt.figure(figsize=(12,7))\n",
        "plt.axhline(color='black')\n",
        "plt.axvline(color='black')\n",
        "for n,s in enumerate(sentences):\n",
        "    Wp, tokens = get_visual_embs(s, model)\n",
        "    print(tokens)\n",
        "    plt.scatter(Wp[0,:], Wp[1,:], color=colors[n], marker='x', label=s)\n",
        "    rX = max(Wp[0,:])-min(Wp[0,:])\n",
        "    rY = max(Wp[1,:])-min(Wp[1,:])\n",
        "    rM = max(rX, rY)\n",
        "    eps = 0.005\n",
        "    eps2 = 0.005\n",
        "    for i, txt in enumerate(tokens):\n",
        "        if txt in ['[CLS]', '[SEP]']:\n",
        "            plt.annotate(txt, (Wp[0,i]+rX*eps, Wp[1,i]+rX*eps))\n",
        "        #plt.annotate(txt, (Wp[0,i]+rX*eps, Wp[1,i]+rX*eps))\n",
        "        if i>0:\n",
        "            plt.arrow(Wp[0,i-1],Wp[1,i-1], Wp[0,i]-Wp[0,i-1], Wp[1,i]-Wp[1,i-1], color=colors[n], head_length=rM*eps2*4, head_width=rM*eps2*2, length_includes_head=True)\n",
        "plt.legend()\n",
        "plt.show()"
      ],
      "execution_count": null,
      "outputs": [
        {
          "output_type": "stream",
          "name": "stdout",
          "text": [
            "['[CLS]', 'Isto', 'é', 'uma', 'ideia', 'hor', '##rível', '.', '[SEP]']\n",
            "['[CLS]', 'Isto', 'é', 'uma', 'ideia', 'hor', '##rível', '!', '[SEP]']\n",
            "['[CLS]', 'Isto', 'é', 'uma', 'ideia', 'hor', '##rível', '?', '[SEP]']\n"
          ]
        },
        {
          "output_type": "display_data",
          "data": {
            "text/plain": [
              "<Figure size 1200x700 with 1 Axes>"
            ],
            "image/png": "[encoded data removed]"
          },
          "metadata": {}
        }
      ]
    },
    {
      "cell_type": "markdown",
      "metadata": {
        "id": "uMY-i3hQUGLN"
      },
      "source": [
        "sentenças complexas com Pilha no texto."
      ]
    },
    {
      "cell_type": "code",
      "metadata": {
        "id": "cdnAeD-kLKBb",
        "colab": {
          "base_uri": "https://localhost:8080/"
        },
        "outputId": "3d9b2cfe-1c67-4ca4-d40b-de0fe247024a"
      },
      "source": [
        "sentences =[\"A pilha é uma estrutura de dados linear.\",\n",
        "            \"Uma pilha permite acesso a elementos apenas em uma extremidade, o topo.\",\n",
        "            \"As pilhas seguem o princípio FIFO - Firt In, First Out.\",\n",
        "            \"Em uma pilha o último elemento adicionado é o primeiro a ser removido.\"]\n",
        "            #\"Os elementos em uma pilha são adicionados no topo e removidos dele também.\",\n",
        "            #\"As pilhas podem ser implementadas usando um vetor ou lista ligada.\"]\n",
        "\n",
        "colors = ['blue', 'red', 'green', 'grey', 'purple', 'orange', 'lightblue', 'yellow']\n",
        "\n",
        "plt.figure(figsize=(12,7))\n",
        "plt.axhline(color='black')\n",
        "plt.axvline(color='black')\n",
        "for n,s in enumerate(sentences):\n",
        "    Wp, tokens = get_visual_embs(s, model)\n",
        "    print(tokens)\n",
        "    plt.scatter(Wp[0,:], Wp[1,:], color=colors[n], marker='x', label=s)\n",
        "    rX = max(Wp[0,:])-min(Wp[0,:])\n",
        "    rY = max(Wp[1,:])-min(Wp[1,:])\n",
        "    rM = max(rX, rY)\n",
        "    eps = 0.005\n",
        "    eps2 = 0.005\n",
        "    for i, txt in enumerate(tokens):\n",
        "        if txt in ['[CLS]', '[SEP]']:\n",
        "            plt.annotate(txt, (Wp[0,i]+rX*eps, Wp[1,i]+rX*eps))\n",
        "        if txt in ['pilha','pilhas']:\n",
        "            plt.annotate(txt, (Wp[0,i]+rX*eps, Wp[1,i]+rX*eps))\n",
        "        if i>0:\n",
        "            plt.arrow(Wp[0,i-1],Wp[1,i-1], Wp[0,i]-Wp[0,i-1], Wp[1,i]-Wp[1,i-1], color=colors[n], head_length=rM*eps2*4, head_width=rM*eps2*2, length_includes_head=True)\n",
        "plt.legend()\n",
        "plt.show()"
      ],
      "execution_count": null,
      "outputs": [
        {
          "output_type": "stream",
          "name": "stdout",
          "text": [
            "['[CLS]', 'A', 'pilha', 'é', 'uma', 'estrutura', 'de', 'dados', 'linear', '.', '[SEP]']\n",
            "['[CLS]', 'Uma', 'pilha', 'permite', 'acesso', 'a', 'elementos', 'apenas', 'em', 'uma', 'extremidade', ',', 'o', 'topo', '.', '[SEP]']\n",
            "['[CLS]', 'As', 'pilha', '##s', 'seguem', 'o', 'princípio', 'FI', '##F', '##O', '-', 'Fir', '##t', 'In', ',', 'Fir', '##st', 'Out', '.', '[SEP]']\n",
            "['[CLS]', 'Em', 'uma', 'pilha', 'o', 'último', 'elemento', 'adicionado', 'é', 'o', 'primeiro', 'a', 'ser', 'removido', '.', '[SEP]']\n"
          ]
        },
        {
          "output_type": "display_data",
          "data": {
            "text/plain": [
              "<Figure size 1200x700 with 1 Axes>"
            ],
            "image/png": "[encoded data removed]"
          },
          "metadata": {}
        }
      ]
    },
    {
      "cell_type": "markdown",
      "metadata": {
        "id": "nz9p-o7fhPkS"
      },
      "source": [
        "Reações, diálogo"
      ]
    },
    {
      "cell_type": "code",
      "metadata": {
        "id": "_-YDhYfZSvyz",
        "colab": {
          "base_uri": "https://localhost:8080/"
        },
        "outputId": "72b032ef-ed45-4fe6-ba16-bc0d1c7bf7e0"
      },
      "source": [
        "sentences = [\"Sim, é verdade!\",\n",
        "             \"Claro, ele é bem sucedido.\",\n",
        "             \"Não foi?\",\n",
        "             \"Eu posso concordar totalmente com isso.\",\n",
        "             \"No entanto, isso não pode ser visto.\",]\n",
        "\n",
        "colors = ['blue', 'red', 'green', 'grey', 'purple', 'orange', 'lightblue', 'yellow']\n",
        "\n",
        "plt.figure(figsize=(12,7))\n",
        "plt.axhline(color='black')\n",
        "plt.axvline(color='black')\n",
        "for n,s in enumerate(sentences):\n",
        "    Wp, tokens = get_visual_embs(s, model)\n",
        "    print(tokens)\n",
        "    plt.scatter(Wp[0,:], Wp[1,:], color=colors[n], marker='x', label=s)\n",
        "    rX = max(Wp[0,:])-min(Wp[0,:])\n",
        "    rY = max(Wp[1,:])-min(Wp[1,:])\n",
        "    rM = max(rX, rY)\n",
        "    eps = 0.005\n",
        "    eps2 = 0.005\n",
        "    for i, txt in enumerate(tokens):\n",
        "        if txt in ['[CLS]', '[SEP]']:\n",
        "            plt.annotate(txt, (Wp[0,i]+rX*eps, Wp[1,i]+rX*eps))\n",
        "        if i>0:\n",
        "            plt.arrow(Wp[0,i-1],Wp[1,i-1], Wp[0,i]-Wp[0,i-1], Wp[1,i]-Wp[1,i-1], color=colors[n], head_length=rM*eps2*4, head_width=rM*eps2*2, length_includes_head=True)\n",
        "plt.legend()\n",
        "plt.show()"
      ],
      "execution_count": null,
      "outputs": [
        {
          "output_type": "stream",
          "name": "stdout",
          "text": [
            "['[CLS]', 'Sim', ',', 'é', 'verdade', '!', '[SEP]']\n",
            "['[CLS]', 'Claro', ',', 'ele', 'é', 'bem', 'sucedido', '.', '[SEP]']\n",
            "['[CLS]', 'Não', 'foi', '?', '[SEP]']\n",
            "['[CLS]', 'Eu', 'posso', 'concorda', '##r', 'totalmente', 'com', 'isso', '.', '[SEP]']\n",
            "['[CLS]', 'No', 'entanto', ',', 'isso', 'não', 'pode', 'ser', 'visto', '.', '[SEP]']\n"
          ]
        },
        {
          "output_type": "display_data",
          "data": {
            "text/plain": [
              "<Figure size 1200x700 with 1 Axes>"
            ],
            "image/png": "[encoded data removed]"
          },
          "metadata": {}
        }
      ]
    },
    {
      "cell_type": "markdown",
      "metadata": {
        "id": "ISJN1R6yhYgp"
      },
      "source": [
        "sentenças não reais"
      ]
    },
    {
      "cell_type": "code",
      "metadata": {
        "id": "hicQl0xtUsIz",
        "colab": {
          "base_uri": "https://localhost:8080/"
        },
        "outputId": "ef45279c-f337-46bb-e611-d28999b2324e"
      },
      "source": [
        "sentences = [\"O  o o o o o o o o\",\n",
        "             \". . . . . . . . . . .\",\n",
        "             \"gran de hthateh heta ger er\",\n",
        "             \"O céu está laranja hoje.\",\n",
        "             \"O cachorro está voando alto.\"]\n",
        "colors = ['blue', 'red', 'green', 'grey', 'purple', 'orange', 'lightblue', 'yellow']\n",
        "\n",
        "plt.figure(figsize=(12,7))\n",
        "plt.axhline(color='black')\n",
        "plt.axvline(color='black')\n",
        "for n,s in enumerate(sentences):\n",
        "    Wp, tokens = get_visual_embs(s, model)\n",
        "    print(tokens)\n",
        "    plt.scatter(Wp[0,:], Wp[1,:], color=colors[n], marker='x', label=s)\n",
        "    rX = max(Wp[0,:])-min(Wp[0,:])\n",
        "    rY = max(Wp[1,:])-min(Wp[1,:])\n",
        "    rM = max(rX, rY)\n",
        "    eps = 0.005\n",
        "    eps2 = 0.005\n",
        "    for i, txt in enumerate(tokens):\n",
        "        if txt in ['[CLS]', '[SEP]']:\n",
        "            plt.annotate(txt, (Wp[0,i]+rX*eps, Wp[1,i]+rX*eps))\n",
        "        if i>0:\n",
        "            plt.arrow(Wp[0,i-1],Wp[1,i-1], Wp[0,i]-Wp[0,i-1], Wp[1,i]-Wp[1,i-1], color=colors[n], head_length=rM*eps2*4, head_width=rM*eps2*2, length_includes_head=True)\n",
        "plt.legend()\n",
        "plt.show()"
      ],
      "execution_count": null,
      "outputs": [
        {
          "output_type": "stream",
          "name": "stdout",
          "text": [
            "['[CLS]', 'O', 'o', 'o', 'o', 'o', 'o', 'o', 'o', 'o', '[SEP]']\n",
            "['[CLS]', '.', '.', '.', '.', '.', '.', '.', '.', '.', '.', '.', '[SEP]']\n",
            "['[CLS]', 'gran', 'de', 'h', '##tha', '##te', '##h', 'he', '##ta', 'ger', 'er', '[SEP]']\n",
            "['[CLS]', 'O', 'céu', 'está', 'laranja', 'hoje', '.', '[SEP]']\n",
            "['[CLS]', 'O', 'cachorro', 'está', 'vo', '##ando', 'alto', '.', '[SEP]']\n"
          ]
        },
        {
          "output_type": "display_data",
          "data": {
            "text/plain": [
              "<Figure size 1200x700 with 1 Axes>"
            ],
            "image/png": "[encoded data removed]"
          },
          "metadata": {}
        }
      ]
    }
  ]
}